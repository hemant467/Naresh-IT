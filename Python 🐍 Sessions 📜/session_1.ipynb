{
 "cells": [
  {
   "cell_type": "code",
   "execution_count": 1,
   "id": "da773939-7bba-46c3-a3f3-50dd34fb9ea4",
   "metadata": {},
   "outputs": [
    {
     "name": "stdout",
     "output_type": "stream",
     "text": [
      "30\n"
     ]
    }
   ],
   "source": [
    "a=10\n",
    "b=20\n",
    "c=a+b\n",
    "print(c)"
   ]
  },
  {
   "cell_type": "code",
   "execution_count": 3,
   "id": "f9cbe264-cbd5-4238-9851-80b22560670a",
   "metadata": {},
   "outputs": [],
   "source": [
    "a=10"
   ]
  },
  {
   "cell_type": "code",
   "execution_count": 7,
   "id": "6b708bc9-31d8-47ed-a2d4-bfd60f106aa9",
   "metadata": {},
   "outputs": [
    {
     "name": "stdout",
     "output_type": "stream",
     "text": [
      "PYTHON\n"
     ]
    }
   ],
   "source": [
    "print(\"PYTHON\")"
   ]
  },
  {
   "cell_type": "markdown",
   "id": "5aeb423e-248d-4639-968f-0564bd5e30c0",
   "metadata": {},
   "source": [
    "PYTHON"
   ]
  },
  {
   "cell_type": "markdown",
   "id": "2a12393f-dc31-4a09-83b9-ff368f3819e4",
   "metadata": {},
   "source": [
    "For Markdown SHORTCUT : esc+m\n",
    "\n",
    "Markdown to CODE : esc+y"
   ]
  },
  {
   "cell_type": "markdown",
   "id": "b06e2998-d064-492a-8027-ae456135b267",
   "metadata": {},
   "source": [
    "- BULLET POINTS\n",
    "  \n",
    "- For Markdown SHORTCUT : esc+m\n",
    "\n",
    "- Markdown to CODE : esc+y"
   ]
  },
  {
   "cell_type": "markdown",
   "id": "8d0d33c2-aa13-4062-82ea-640ec9c783c6",
   "metadata": {},
   "source": [
    "# Python"
   ]
  },
  {
   "cell_type": "markdown",
   "id": "57dad886-4a78-47ca-8d3a-727162d6d3a3",
   "metadata": {},
   "source": [
    "## Python"
   ]
  },
  {
   "cell_type": "markdown",
   "id": "bb37144c-4ac9-4e99-a026-840ba00be6ca",
   "metadata": {},
   "source": [
    "### Python"
   ]
  },
  {
   "cell_type": "code",
   "execution_count": null,
   "id": "d21d2743-650f-428d-aed4-7d555a85a139",
   "metadata": {},
   "outputs": [],
   "source": []
  }
 ],
 "metadata": {
  "kernelspec": {
   "display_name": "Python [conda env:base] *",
   "language": "python",
   "name": "conda-base-py"
  },
  "language_info": {
   "codemirror_mode": {
    "name": "ipython",
    "version": 3
   },
   "file_extension": ".py",
   "mimetype": "text/x-python",
   "name": "python",
   "nbconvert_exporter": "python",
   "pygments_lexer": "ipython3",
   "version": "3.12.7"
  }
 },
 "nbformat": 4,
 "nbformat_minor": 5
}
