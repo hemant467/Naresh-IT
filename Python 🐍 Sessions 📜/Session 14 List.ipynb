{
 "cells": [
  {
   "cell_type": "markdown",
   "id": "c6ff78a6-64d4-4e8c-a98b-22ca4f24ac89",
   "metadata": {},
   "source": [
    "- intialization\n",
    "\n",
    "- will apply some inbuilt functions\n",
    "\n",
    "    - type\n",
    "\n",
    "    - len\n",
    "\n",
    "    - min\n",
    "\n",
    "    - max\n",
    "\n",
    "    - sum\n",
    "\n",
    "    - sorted\n",
    "\n",
    "    - reversed\n",
    "\n",
    "- concat\n",
    "\n",
    "- index\n",
    "\n",
    "- mutable or immutable\n",
    "\n",
    "- slice\n",
    "\n",
    "- Methods"
   ]
  },
  {
   "cell_type": "code",
   "execution_count": 10,
   "id": "f23d3561-df91-423a-b319-96e34b7ca720",
   "metadata": {},
   "outputs": [
    {
     "data": {
      "text/plain": [
       "[(1, 2, 3)]"
      ]
     },
     "execution_count": 10,
     "metadata": {},
     "output_type": "execute_result"
    }
   ],
   "source": [
    "l1=[10,20,30,40]\n",
    "l2=['Apple','Banana','Cherry']\n",
    "l3=[10,20,30,'Apple','Banaa','Cherry']\n",
    "l4=[10,10.5,'Apple',True,3+4j]\n",
    "l5=[10,10,10,10]\n",
    "l6=[[10,20,30],'Apple']\n",
    "l7=[(1,2,3)]\n"
   ]
  },
  {
   "cell_type": "code",
   "execution_count": 12,
   "id": "2e4e5f57-2843-4dd1-b682-3d4c512d8063",
   "metadata": {},
   "outputs": [
    {
     "data": {
      "text/plain": [
       "4"
      ]
     },
     "execution_count": 12,
     "metadata": {},
     "output_type": "execute_result"
    }
   ],
   "source": [
    "l1=[10,20,30,40]\n",
    "len(l1)"
   ]
  },
  {
   "cell_type": "code",
   "execution_count": 16,
   "id": "6f59565f-e5a5-41b2-b50f-0bb45adfb2e8",
   "metadata": {},
   "outputs": [
    {
     "data": {
      "text/plain": [
       "(10, 40, 100)"
      ]
     },
     "execution_count": 16,
     "metadata": {},
     "output_type": "execute_result"
    }
   ],
   "source": [
    "l1=[10,20,30,40]\n",
    "min(l1),max(l1),sum(l1)"
   ]
  },
  {
   "cell_type": "code",
   "execution_count": 20,
   "id": "f655de90-3839-4a8d-81a5-53632c505f64",
   "metadata": {},
   "outputs": [
    {
     "data": {
      "text/plain": [
       "[10, 20, 30, 40]"
      ]
     },
     "execution_count": 20,
     "metadata": {},
     "output_type": "execute_result"
    }
   ],
   "source": [
    "l1=[10,30,40,20]\n",
    "sorted(l1)"
   ]
  },
  {
   "cell_type": "code",
   "execution_count": null,
   "id": "aa55bf83-c6aa-4872-9b00-b0b9989472bc",
   "metadata": {},
   "outputs": [],
   "source": [
    "# WAP ask the user find the min value in a list with out using min\n",
    "# WAP ask the user find the max value in a list with out using max\n",
    "# WAP ask the user find the second min value in a list with out using min\n",
    "# WAP ask the user find the second max value in a list with out using max\n",
    "# WAP ask the user sort the values in a list with out using sorted\n",
    "# WAP ask the user find the most repated word in a given string \n",
    "# WAP ask the user find the longest word in a given string\n",
    "# WAP asl the user find the smallest word in a given string\n"
   ]
  },
  {
   "cell_type": "code",
   "execution_count": 24,
   "id": "ff1c971a-36a1-432c-b451-3a00d077fac3",
   "metadata": {},
   "outputs": [
    {
     "data": {
      "text/plain": [
       "[20, 40, 30, 10]"
      ]
     },
     "execution_count": 24,
     "metadata": {},
     "output_type": "execute_result"
    }
   ],
   "source": [
    "l1=[10,30,40,20]\n",
    "list(reversed(l1))"
   ]
  },
  {
   "cell_type": "code",
   "execution_count": null,
   "id": "cf982412-77a2-4d26-ad02-5566cea99c02",
   "metadata": {},
   "outputs": [],
   "source": [
    "#sum min max sorted reversed\n",
    "l2=['Apple','Banana','Cherry']  \n",
    "sum(l2)  #Fail\n",
    "min(l2)  # 'Apple'\n",
    "max(l2)  # 'Cherry'\n",
    "sorted(l2) # w\n",
    "reversed(l2) # W"
   ]
  },
  {
   "cell_type": "code",
   "execution_count": 30,
   "id": "6acc7dc8-52dc-466d-ba72-b6a4d303374e",
   "metadata": {},
   "outputs": [
    {
     "data": {
      "text/plain": [
       "['Cherry', 'Banaa', 'Apple', 30, 20, 10]"
      ]
     },
     "execution_count": 30,
     "metadata": {},
     "output_type": "execute_result"
    }
   ],
   "source": [
    "l3=[10,20,30,'Apple','Banaa','Cherry']\n",
    "len(l3)\n",
    "list(reversed(l3))"
   ]
  },
  {
   "cell_type": "code",
   "execution_count": 34,
   "id": "c67e2a80-287c-49fd-aa3f-440b8f2502e1",
   "metadata": {},
   "outputs": [
    {
     "data": {
      "text/plain": [
       "10"
      ]
     },
     "execution_count": 34,
     "metadata": {},
     "output_type": "execute_result"
    }
   ],
   "source": [
    "min(l3,key=str)\n"
   ]
  },
  {
   "cell_type": "code",
   "execution_count": null,
   "id": "8464701a-14e3-4a69-98ef-40c9458e1d40",
   "metadata": {},
   "outputs": [],
   "source": [
    "min(l3) # Fail"
   ]
  },
  {
   "cell_type": "code",
   "execution_count": 52,
   "id": "27f2f744-528b-4a88-ab8a-c9acd8a840d8",
   "metadata": {},
   "outputs": [
    {
     "data": {
      "text/plain": [
       "True"
      ]
     },
     "execution_count": 52,
     "metadata": {},
     "output_type": "execute_result"
    }
   ],
   "source": [
    "'10'>'apple'\n",
    "'10'<'apple'"
   ]
  },
  {
   "cell_type": "code",
   "execution_count": 56,
   "id": "ad458a96-e097-4919-ae25-402e70a5eb72",
   "metadata": {},
   "outputs": [
    {
     "data": {
      "text/plain": [
       "'10'"
      ]
     },
     "execution_count": 56,
     "metadata": {},
     "output_type": "execute_result"
    }
   ],
   "source": [
    "ascii(10)"
   ]
  },
  {
   "cell_type": "code",
   "execution_count": 65,
   "id": "6715e742-542c-4d17-b9f3-3255f9f4dd5f",
   "metadata": {},
   "outputs": [
    {
     "data": {
      "text/plain": [
       "(10, 20, 30, 'Apple', 'Banaa', 'Cherry')"
      ]
     },
     "execution_count": 65,
     "metadata": {},
     "output_type": "execute_result"
    }
   ],
   "source": [
    "l3=[10,20,30,'Apple','Banaa','Cherry']\n",
    "l3[0],l3[1],l3[2],l3[3],l3[4],l3[5]"
   ]
  },
  {
   "cell_type": "code",
   "execution_count": 67,
   "id": "a41cb7cd-6df7-4a6b-bab1-0e9b5f856aea",
   "metadata": {},
   "outputs": [
    {
     "data": {
      "text/plain": [
       "('Cherry', 'Banaa', 'Apple', 30, 20, 10)"
      ]
     },
     "execution_count": 67,
     "metadata": {},
     "output_type": "execute_result"
    }
   ],
   "source": [
    "l3=[10,20,30,'Apple','Banaa','Cherry']\n",
    "l3[-1],l3[-2],l3[-3],l3[-4],l3[-5],l3[-6]"
   ]
  },
  {
   "cell_type": "code",
   "execution_count": 69,
   "id": "e588ebc6-6392-4e90-bf53-9243e4ea3d53",
   "metadata": {},
   "outputs": [
    {
     "name": "stdout",
     "output_type": "stream",
     "text": [
      "10\n",
      "20\n",
      "30\n",
      "Apple\n",
      "Banaa\n",
      "Cherry\n"
     ]
    }
   ],
   "source": [
    "for i in l3:\n",
    "    print(i)"
   ]
  },
  {
   "cell_type": "code",
   "execution_count": 75,
   "id": "6a6cd04f-b9c8-4259-af44-836d05416bff",
   "metadata": {},
   "outputs": [
    {
     "data": {
      "text/plain": [
       "6"
      ]
     },
     "execution_count": 75,
     "metadata": {},
     "output_type": "execute_result"
    }
   ],
   "source": [
    "len(l3)\n",
    "0-6 ====  -6\n",
    "1-6 ==== -5"
   ]
  },
  {
   "cell_type": "code",
   "execution_count": 79,
   "id": "6ddceef9-9205-4598-976d-0635c772a5d4",
   "metadata": {},
   "outputs": [
    {
     "name": "stdout",
     "output_type": "stream",
     "text": [
      "0 10 -6\n",
      "1 20 -5\n",
      "2 30 -4\n",
      "3 Apple -3\n",
      "4 Banaa -2\n",
      "5 Cherry -1\n"
     ]
    }
   ],
   "source": [
    "for i in range(len(l3)):\n",
    "    print(i,l3[i],i-len(l3))"
   ]
  },
  {
   "cell_type": "code",
   "execution_count": 81,
   "id": "22834eb9-0a9e-4a2e-8c98-e8516873a25b",
   "metadata": {},
   "outputs": [
    {
     "name": "stdout",
     "output_type": "stream",
     "text": [
      "-6 10\n",
      "-5 20\n",
      "-4 30\n",
      "-3 Apple\n",
      "-2 Banaa\n",
      "-1 Cherry\n"
     ]
    }
   ],
   "source": [
    "for i in range(-len(l3),0):\n",
    "    print(i,l3[i])"
   ]
  },
  {
   "cell_type": "code",
   "execution_count": null,
   "id": "231bb9c7-827b-4e41-af8e-f49962201297",
   "metadata": {},
   "outputs": [],
   "source": [
    "range(-6,0)  # -6,-5,-4,-3,-2,-1\n",
    "range(-6)    "
   ]
  },
  {
   "cell_type": "code",
   "execution_count": 85,
   "id": "e398d50d-2552-4ece-abe6-741956a39613",
   "metadata": {},
   "outputs": [],
   "source": [
    "for i in range(-6):\n",
    "    print(i)   "
   ]
  },
  {
   "cell_type": "code",
   "execution_count": 87,
   "id": "30f99fa9-184c-4551-9f4a-3b1e4523e6ca",
   "metadata": {},
   "outputs": [
    {
     "data": {
      "text/plain": [
       "30"
      ]
     },
     "execution_count": 87,
     "metadata": {},
     "output_type": "execute_result"
    }
   ],
   "source": [
    "l=[10,20,30]\n",
    "l[2]"
   ]
  },
  {
   "cell_type": "code",
   "execution_count": 101,
   "id": "6d3738f4-fcab-463e-8994-e284414cc26e",
   "metadata": {},
   "outputs": [
    {
     "data": {
      "text/plain": [
       "30"
      ]
     },
     "execution_count": 101,
     "metadata": {},
     "output_type": "execute_result"
    }
   ],
   "source": [
    "l=[10,20,[30]]\n",
    "l1=l[2]\n",
    "l1[0]\n",
    "\n",
    "l[2][0]"
   ]
  },
  {
   "cell_type": "code",
   "execution_count": 103,
   "id": "2d8d3d11-c126-469c-99b6-edb3d6ae8651",
   "metadata": {},
   "outputs": [
    {
     "data": {
      "text/plain": [
       "4"
      ]
     },
     "execution_count": 103,
     "metadata": {},
     "output_type": "execute_result"
    }
   ],
   "source": [
    "l=[1,2,3,['Apple','Banana']]\n",
    "len(l)"
   ]
  },
  {
   "cell_type": "code",
   "execution_count": 109,
   "id": "e2be73a6-a3ec-476e-928d-9ebc0159069d",
   "metadata": {},
   "outputs": [
    {
     "data": {
      "text/plain": [
       "'Banana'"
      ]
     },
     "execution_count": 109,
     "metadata": {},
     "output_type": "execute_result"
    }
   ],
   "source": [
    "l[3][1]"
   ]
  },
  {
   "cell_type": "code",
   "execution_count": 113,
   "id": "757dce46-b2c8-4661-ba8e-a874db6cec21",
   "metadata": {},
   "outputs": [
    {
     "data": {
      "text/plain": [
       "2"
      ]
     },
     "execution_count": 113,
     "metadata": {},
     "output_type": "execute_result"
    }
   ],
   "source": [
    "l=[10,20,30,['Apple',['Banana',['Cherry','Orange']]]]\n",
    "len(l[3])"
   ]
  },
  {
   "cell_type": "code",
   "execution_count": 125,
   "id": "8e4534dc-7904-4699-acec-d3fd579eb375",
   "metadata": {},
   "outputs": [
    {
     "data": {
      "text/plain": [
       "'Cherry'"
      ]
     },
     "execution_count": 125,
     "metadata": {},
     "output_type": "execute_result"
    }
   ],
   "source": [
    "l[3][1][1][0]"
   ]
  },
  {
   "cell_type": "code",
   "execution_count": 149,
   "id": "59b944fe-1483-48bb-8bd6-79ec2b502414",
   "metadata": {},
   "outputs": [
    {
     "data": {
      "text/plain": [
       "'VK'"
      ]
     },
     "execution_count": 149,
     "metadata": {},
     "output_type": "execute_result"
    }
   ],
   "source": [
    "l=['Fruites',['Orange',['Nagpur',['MH','king',['shivaji',['Shamabji',['Chava',['VK']]]]]]]]\n",
    "l[1][1][1][2][1][1][1][0]"
   ]
  },
  {
   "cell_type": "code",
   "execution_count": 161,
   "id": "872d3e9c-4cdf-4868-a847-e5348bde97b9",
   "metadata": {},
   "outputs": [
    {
     "data": {
      "text/plain": [
       "'onion'"
      ]
     },
     "execution_count": 161,
     "metadata": {},
     "output_type": "execute_result"
    }
   ],
   "source": [
    "l=[[[[[[[[[['onion']]]]]]]]]]\n",
    "l[0][0][0][0][0][0][0][0][0][0]"
   ]
  },
  {
   "cell_type": "code",
   "execution_count": 163,
   "id": "87dc3ca2-3d08-4313-a293-bd4ac7aa0bd5",
   "metadata": {},
   "outputs": [
    {
     "data": {
      "text/plain": [
       "['__add__',\n",
       " '__class__',\n",
       " '__class_getitem__',\n",
       " '__contains__',\n",
       " '__delattr__',\n",
       " '__delitem__',\n",
       " '__dir__',\n",
       " '__doc__',\n",
       " '__eq__',\n",
       " '__format__',\n",
       " '__ge__',\n",
       " '__getattribute__',\n",
       " '__getitem__',\n",
       " '__getstate__',\n",
       " '__gt__',\n",
       " '__hash__',\n",
       " '__iadd__',\n",
       " '__imul__',\n",
       " '__init__',\n",
       " '__init_subclass__',\n",
       " '__iter__',\n",
       " '__le__',\n",
       " '__len__',\n",
       " '__lt__',\n",
       " '__mul__',\n",
       " '__ne__',\n",
       " '__new__',\n",
       " '__reduce__',\n",
       " '__reduce_ex__',\n",
       " '__repr__',\n",
       " '__reversed__',\n",
       " '__rmul__',\n",
       " '__setattr__',\n",
       " '__setitem__',\n",
       " '__sizeof__',\n",
       " '__str__',\n",
       " '__subclasshook__',\n",
       " 'append',\n",
       " 'clear',\n",
       " 'copy',\n",
       " 'count',\n",
       " 'extend',\n",
       " 'index',\n",
       " 'insert',\n",
       " 'pop',\n",
       " 'remove',\n",
       " 'reverse',\n",
       " 'sort']"
      ]
     },
     "execution_count": 163,
     "metadata": {},
     "output_type": "execute_result"
    }
   ],
   "source": [
    "dir([])"
   ]
  },
  {
   "cell_type": "code",
   "execution_count": null,
   "id": "f67ef3d5-1147-4907-939a-cea06e17846e",
   "metadata": {},
   "outputs": [],
   "source": [
    "append\n",
    "clear\n",
    "copy\n",
    "count\n",
    "index\n",
    "reverse\n",
    "sort"
   ]
  },
  {
   "cell_type": "code",
   "execution_count": 1,
   "id": "68b4b9b2-58c3-43ea-b5c0-479a7c02f7c4",
   "metadata": {},
   "outputs": [
    {
     "data": {
      "text/plain": [
       "['__add__',\n",
       " '__class__',\n",
       " '__class_getitem__',\n",
       " '__contains__',\n",
       " '__delattr__',\n",
       " '__delitem__',\n",
       " '__dir__',\n",
       " '__doc__',\n",
       " '__eq__',\n",
       " '__format__',\n",
       " '__ge__',\n",
       " '__getattribute__',\n",
       " '__getitem__',\n",
       " '__getstate__',\n",
       " '__gt__',\n",
       " '__hash__',\n",
       " '__iadd__',\n",
       " '__imul__',\n",
       " '__init__',\n",
       " '__init_subclass__',\n",
       " '__iter__',\n",
       " '__le__',\n",
       " '__len__',\n",
       " '__lt__',\n",
       " '__mul__',\n",
       " '__ne__',\n",
       " '__new__',\n",
       " '__reduce__',\n",
       " '__reduce_ex__',\n",
       " '__repr__',\n",
       " '__reversed__',\n",
       " '__rmul__',\n",
       " '__setattr__',\n",
       " '__setitem__',\n",
       " '__sizeof__',\n",
       " '__str__',\n",
       " '__subclasshook__',\n",
       " 'append',\n",
       " 'clear',\n",
       " 'copy',\n",
       " 'count',\n",
       " 'extend',\n",
       " 'index',\n",
       " 'insert',\n",
       " 'pop',\n",
       " 'remove',\n",
       " 'reverse',\n",
       " 'sort']"
      ]
     },
     "execution_count": 1,
     "metadata": {},
     "output_type": "execute_result"
    }
   ],
   "source": [
    "dir([])"
   ]
  },
  {
   "cell_type": "markdown",
   "id": "b1d18500-ab27-4607-b7ee-cc2456b1e9ca",
   "metadata": {},
   "source": [
    "**append**\n",
    "\n",
    "- append vs concat vs extend\n",
    "\n",
    "- append means adding elements in a list\n",
    "\n",
    "- when we add those elements added at last"
   ]
  },
  {
   "cell_type": "code",
   "execution_count": 9,
   "id": "0de55bad-655b-44c9-9cf8-815d0a02d56e",
   "metadata": {},
   "outputs": [
    {
     "data": {
      "text/plain": [
       "[10, 20, 'apple']"
      ]
     },
     "execution_count": 9,
     "metadata": {},
     "output_type": "execute_result"
    }
   ],
   "source": [
    "l=[10,20]\n",
    "l.append('apple')\n",
    "l"
   ]
  },
  {
   "cell_type": "markdown",
   "id": "3b6c11eb-c210-439a-874c-d89262c69939",
   "metadata": {},
   "source": [
    "**append is very helpful to store the outputs**"
   ]
  },
  {
   "cell_type": "code",
   "execution_count": 12,
   "id": "2d0f3edc-51cd-4a4a-8a7e-29fbd0e716f0",
   "metadata": {},
   "outputs": [
    {
     "data": {
      "text/plain": [
       "'a'"
      ]
     },
     "execution_count": 12,
     "metadata": {},
     "output_type": "execute_result"
    }
   ],
   "source": [
    "s=''\n",
    "s=s+'a'\n",
    "s"
   ]
  },
  {
   "cell_type": "code",
   "execution_count": 20,
   "id": "c364399b-fba4-4fa2-a043-086838535bb4",
   "metadata": {},
   "outputs": [
    {
     "data": {
      "text/plain": [
       "[1, 2, 3]"
      ]
     },
     "execution_count": 20,
     "metadata": {},
     "output_type": "execute_result"
    }
   ],
   "source": [
    "l=[]\n",
    "l.append(1)\n",
    "l.append(2)\n",
    "l.append(3)\n",
    "l"
   ]
  },
  {
   "cell_type": "code",
   "execution_count": null,
   "id": "89183690-8f46-45e8-a842-9a3858debaab",
   "metadata": {},
   "outputs": [],
   "source": [
    "l=[]\n",
    "l.append(1)\n",
    "l.append(2)\n",
    "l.append(3)\n",
    "\n",
    "l.append(i)    range(1,4)"
   ]
  },
  {
   "cell_type": "code",
   "execution_count": 22,
   "id": "6d38156f-3da3-4d9a-81c1-1d1a0b6742a9",
   "metadata": {},
   "outputs": [],
   "source": [
    "l=[]\n",
    "for i in range(1,4):\n",
    "    l.append(i)"
   ]
  },
  {
   "cell_type": "code",
   "execution_count": 24,
   "id": "9cbbb90e-f9df-4423-893e-f336f55c073f",
   "metadata": {},
   "outputs": [
    {
     "data": {
      "text/plain": [
       "[1, 2, 3]"
      ]
     },
     "execution_count": 24,
     "metadata": {},
     "output_type": "execute_result"
    }
   ],
   "source": [
    "l"
   ]
  },
  {
   "cell_type": "code",
   "execution_count": 34,
   "id": "b7d7fbc2-332f-4893-acdb-5d86e673cfb4",
   "metadata": {},
   "outputs": [
    {
     "data": {
      "text/plain": [
       "[90, 58, 50, 16, 88]"
      ]
     },
     "execution_count": 34,
     "metadata": {},
     "output_type": "execute_result"
    }
   ],
   "source": [
    "import random\n",
    "even_list=[]\n",
    "for i in range(5):\n",
    "    num=random.randint(1,100)\n",
    "    if num%2==0:\n",
    "        #print(f\"{num} is even\")\n",
    "        even_list.append(num)\n",
    "even_list"
   ]
  },
  {
   "cell_type": "code",
   "execution_count": 36,
   "id": "496b157c-2297-433d-a8f2-bcc77f9fc703",
   "metadata": {},
   "outputs": [
    {
     "data": {
      "text/plain": [
       "([88, 66], [31, 39, 73])"
      ]
     },
     "execution_count": 36,
     "metadata": {},
     "output_type": "execute_result"
    }
   ],
   "source": [
    "import random\n",
    "even_list=[]\n",
    "odd_list=[]\n",
    "for i in range(5):\n",
    "    num=random.randint(1,100)\n",
    "    if num%2==0:\n",
    "        even_list.append(num)\n",
    "    else:\n",
    "        odd_list.append(num)\n",
    "even_list,odd_list"
   ]
  },
  {
   "cell_type": "code",
   "execution_count": 38,
   "id": "284c2f35-0d78-4dd5-854e-e2e72c94802a",
   "metadata": {},
   "outputs": [
    {
     "data": {
      "text/plain": [
       "([36, 60, 14], [23, 63])"
      ]
     },
     "execution_count": 38,
     "metadata": {},
     "output_type": "execute_result"
    }
   ],
   "source": [
    "import random\n",
    "even_list,odd_list=[],[]\n",
    "for i in range(5):\n",
    "    num=random.randint(1,100)\n",
    "    if num%2==0:\n",
    "        even_list.append(num)\n",
    "    else:\n",
    "        odd_list.append(num)\n",
    "even_list,odd_list"
   ]
  },
  {
   "cell_type": "code",
   "execution_count": 46,
   "id": "3d8a8f20-4cc5-42cf-8d5c-aae12d471aea",
   "metadata": {},
   "outputs": [
    {
     "name": "stdout",
     "output_type": "stream",
     "text": [
      "20 156\n",
      "1 4\n",
      "1 4\n",
      "20 156\n"
     ]
    }
   ],
   "source": [
    "import random\n",
    "even_summ,odd_summ=0,0\n",
    "even_count,odd_count=0,0\n",
    "even_list,odd_list=[],[]\n",
    "for i in range(5):\n",
    "    num=random.randint(1,100)\n",
    "    if num%2==0:\n",
    "        even_summ=even_summ+num\n",
    "        even_count=even_count+1\n",
    "        even_list.append(num)\n",
    "    else:\n",
    "        odd_summ=odd_summ+num\n",
    "        odd_count=odd_count+1\n",
    "        odd_list.append(num)\n",
    "print(even_summ,odd_summ)\n",
    "print(even_count,odd_count)\n",
    "print(len(even_list),len(odd_list))\n",
    "print(sum(even_list),sum(odd_list))"
   ]
  },
  {
   "cell_type": "code",
   "execution_count": null,
   "id": "b36e93eb-9a6a-42b2-a5dc-9fb5edae8a22",
   "metadata": {},
   "outputs": [],
   "source": [
    "# Q1) input=['hyd','bengaluru','mumbai','chennai']\n",
    "#     output=['Hyd','Bengaluru','Mumbai','Chennai']\n",
    "\n",
    "# Q2) input=['hyd','bengaluru','mumbai','chennai']\n",
    "#     output=['HYD','BENGALURU','MUMBAI','CHENNAI']\n",
    "\n",
    "# Q3) input=['hyd','bengaluru','mum#bai','chen#nai']\n",
    "#     output=['mum#bai','chen#nai']\n",
    "\n",
    "# Q4) input=['hyd','bengaluru','mum#bai','chen#nai']\n",
    "#     output=['hyd','bengaluru']\n",
    "\n",
    "# Q5) input=['hyd','bengaluru','mumbai','chennai']\n",
    "#     multiply all indexes by 10\n",
    "\n",
    "# Q6) input=['hyd','bengaluru','mumbai','chennai']\n",
    "#     sum of all indexes\n",
    "\n",
    "# Q7) Sum of first 10 Natural numbers "
   ]
  },
  {
   "cell_type": "code",
   "execution_count": 58,
   "id": "1611873c-4654-411e-a033-b1a1b291e268",
   "metadata": {},
   "outputs": [
    {
     "data": {
      "text/plain": [
       "(['Hyd', 'Bengaluru', 'Mumbai', 'Chennai'],\n",
       " ['HYD', 'BENGALURU', 'MUMBAI', 'CHENNAI'])"
      ]
     },
     "execution_count": 58,
     "metadata": {},
     "output_type": "execute_result"
    }
   ],
   "source": [
    "# Q1) input=['hyd','bengaluru','mumbai','chennai']\n",
    "#     output=['Hyd','Bengaluru','Mumbai','Chennai']\n",
    "\n",
    "Input=['hyd','bengaluru','mumbai','chennai']\n",
    "out1,out2=[],[]\n",
    "for i in Input:\n",
    "    out1.append(i.capitalize())\n",
    "    out2.append(i.upper())\n",
    "out1,out2"
   ]
  },
  {
   "cell_type": "code",
   "execution_count": 62,
   "id": "4c11e171-c515-4632-ac01-6277267295c9",
   "metadata": {},
   "outputs": [
    {
     "data": {
      "text/plain": [
       "(['mum#bai', 'chen#nai'], ['hyd', 'bengaluru'])"
      ]
     },
     "execution_count": 62,
     "metadata": {},
     "output_type": "execute_result"
    }
   ],
   "source": [
    "# Q3) input=['hyd','bengaluru','mum#bai','chen#nai']\n",
    "#     output=['mum#bai','chen#nai']\n",
    "\n",
    "# Q4) input=['hyd','bengaluru','mum#bai','chen#nai']\n",
    "#     output=['hyd','bengaluru']\n",
    "\n",
    "Input=['hyd','bengaluru','mum#bai','chen#nai']\n",
    "out1,out2=[],[]\n",
    "for i in Input:\n",
    "    if '#' in i:\n",
    "        out1.append(i)\n",
    "    elif '#' not in i:\n",
    "        out2.append(i)\n",
    "out1,out2"
   ]
  },
  {
   "cell_type": "code",
   "execution_count": null,
   "id": "59e22100-e4da-4050-beee-07d3c17e40fc",
   "metadata": {},
   "outputs": [],
   "source": [
    "# Q5) input=['hyd','bengaluru','mumbai','chennai']\n",
    "#     multiply all indexes by 10\n",
    "\n",
    "# Q6) input=['hyd','bengaluru','mumbai','chennai']\n",
    "#     sum of all indexes"
   ]
  },
  {
   "cell_type": "code",
   "execution_count": 70,
   "id": "8afed7ae-8f45-4c7b-9ff8-2401b792b881",
   "metadata": {},
   "outputs": [
    {
     "data": {
      "text/plain": [
       "3"
      ]
     },
     "execution_count": 70,
     "metadata": {},
     "output_type": "execute_result"
    }
   ],
   "source": [
    "Input=['hyd','bengaluru','mumbai','chennai']\n",
    "Input.index('hyd')\n",
    "Input.index('bengaluru')\n",
    "Input.index('mumbai')\n",
    "Input.index('chennai')\n",
    "\n",
    "# Input.index(i)   i in Input"
   ]
  },
  {
   "cell_type": "code",
   "execution_count": 78,
   "id": "85ccd11f-d149-459e-a051-733f9c558846",
   "metadata": {},
   "outputs": [
    {
     "data": {
      "text/plain": [
       "6"
      ]
     },
     "execution_count": 78,
     "metadata": {},
     "output_type": "execute_result"
    }
   ],
   "source": [
    "l=[]\n",
    "for i in Input:\n",
    "    l.append(Input.index(i))\n",
    "sum(l)"
   ]
  },
  {
   "cell_type": "code",
   "execution_count": null,
   "id": "1fcd620e-e469-4fdb-a7bd-f0718403c2a0",
   "metadata": {},
   "outputs": [],
   "source": [
    "# sir what is the key difference in string and list\n",
    "# 4 days \n",
    "# 2nd fay of list"
   ]
  },
  {
   "cell_type": "code",
   "execution_count": null,
   "id": "2e37030d-40c6-4505-b88c-1a403a08222a",
   "metadata": {},
   "outputs": [],
   "source": [
    "# Q7) Sum of first 10 Natural numbers \n",
    "summ=0\n",
    "for i in range(1,11):\n",
    "    summ=summ+i\n",
    "\n",
    "l=[]\n",
    "for i in range(1,11):\n",
    "    l.append(i)\n",
    "summ(l)"
   ]
  },
  {
   "cell_type": "markdown",
   "id": "b87beaf4-6e7a-4aff-b7f2-e8be756372b0",
   "metadata": {},
   "source": [
    "**extend**"
   ]
  },
  {
   "cell_type": "code",
   "execution_count": 81,
   "id": "cc54c9b6-0903-4227-a47a-eb2f88fd3b54",
   "metadata": {},
   "outputs": [
    {
     "name": "stdout",
     "output_type": "stream",
     "text": [
      "[10, 20, 30, ['apple', 'banana', 'cherry']]\n",
      "['apple', 'banana', 'cherry']\n"
     ]
    }
   ],
   "source": [
    "l1=[10,20,30]\n",
    "l2=['apple','banana','cherry']\n",
    "l1.append(l2)\n",
    "print(l1)\n",
    "print(l2)"
   ]
  },
  {
   "cell_type": "code",
   "execution_count": 83,
   "id": "6eeb1d5a-be5c-4310-bc51-9b37ff34e76e",
   "metadata": {},
   "outputs": [
    {
     "name": "stdout",
     "output_type": "stream",
     "text": [
      "[10, 20, 30, 'apple', 'banana', 'cherry']\n",
      "[10, 20, 30]\n",
      "['apple', 'banana', 'cherry']\n"
     ]
    }
   ],
   "source": [
    "l1=[10,20,30]\n",
    "l2=['apple','banana','cherry']\n",
    "print(l1+l2)\n",
    "print(l1)\n",
    "print(l2)"
   ]
  },
  {
   "cell_type": "code",
   "execution_count": 85,
   "id": "3834be5c-a456-4858-a218-0c67394a6994",
   "metadata": {},
   "outputs": [
    {
     "name": "stdout",
     "output_type": "stream",
     "text": [
      "[10, 20, 30, 'apple', 'banana', 'cherry']\n",
      "['apple', 'banana', 'cherry']\n"
     ]
    }
   ],
   "source": [
    "l1=[10,20,30]\n",
    "l2=['apple','banana','cherry']\n",
    "l1.extend(l2)\n",
    "print(l1)\n",
    "print(l2)"
   ]
  },
  {
   "cell_type": "code",
   "execution_count": 87,
   "id": "580eee99-d272-40ef-b477-546f12fe1147",
   "metadata": {},
   "outputs": [
    {
     "name": "stdout",
     "output_type": "stream",
     "text": [
      "[10, 20, 30]\n",
      "['apple', 'banana', 'cherry', 10, 20, 30]\n"
     ]
    }
   ],
   "source": [
    "l1=[10,20,30]\n",
    "l2=['apple','banana','cherry']\n",
    "l2.extend(l1)\n",
    "print(l1)\n",
    "print(l2)"
   ]
  },
  {
   "cell_type": "markdown",
   "id": "e7128f01-e765-4265-9d5e-5a9d872ad84b",
   "metadata": {},
   "source": [
    "- extend similar to concat \n",
    "\n",
    "- but concat will not overwrite extend will do"
   ]
  },
  {
   "cell_type": "code",
   "execution_count": 94,
   "id": "3364232d-e8c4-4322-9fac-e84dd0f52393",
   "metadata": {},
   "outputs": [
    {
     "data": {
      "text/plain": [
       "[20, '20', [20]]"
      ]
     },
     "execution_count": 94,
     "metadata": {},
     "output_type": "execute_result"
    }
   ],
   "source": [
    "l=[]\n",
    "l.append(20)\n",
    "l.append('20')\n",
    "l.append([20])\n",
    "l"
   ]
  },
  {
   "cell_type": "markdown",
   "id": "9a064326-b24b-4694-871b-afc7861b3fc1",
   "metadata": {},
   "source": [
    "**insert**\n",
    "\n",
    "- when im doing insert i will compare with append\n",
    "\n",
    "- append add the elements at last\n",
    "\n",
    "- insert will insert the elements based on index"
   ]
  },
  {
   "cell_type": "code",
   "execution_count": 97,
   "id": "fa69b311-8469-40a8-ae22-af183a20e5b6",
   "metadata": {},
   "outputs": [
    {
     "data": {
      "text/plain": [
       "['apple', 'banana', 10, 'cherry', 'dragon']"
      ]
     },
     "execution_count": 97,
     "metadata": {},
     "output_type": "execute_result"
    }
   ],
   "source": [
    "l=['apple','banana','cherry','dragon']\n",
    "#   0        1         2       3\n",
    "# ['apple','banana',10,'cherry','dragon']\n",
    "#   0        1      2    3        4\n",
    "\n",
    "l.insert(2,10)\n",
    "l"
   ]
  },
  {
   "cell_type": "markdown",
   "id": "64540bcf-c286-4125-a71e-9009a4b3c369",
   "metadata": {},
   "source": [
    "**pop-remove**"
   ]
  },
  {
   "cell_type": "code",
   "execution_count": 106,
   "id": "411c0a15-ffff-43df-b1c5-8c067b1ab8a1",
   "metadata": {},
   "outputs": [
    {
     "data": {
      "text/plain": [
       "['apple', 'banana', 'cherry', 'dragon', 10]"
      ]
     },
     "execution_count": 106,
     "metadata": {},
     "output_type": "execute_result"
    }
   ],
   "source": [
    "l=['apple','banana','cherry','dragon',10,20]\n",
    "l.pop()\n",
    "l"
   ]
  },
  {
   "cell_type": "code",
   "execution_count": 108,
   "id": "40ba1e68-0730-4c98-8f8e-07ad279f8f45",
   "metadata": {},
   "outputs": [
    {
     "data": {
      "text/plain": [
       "['apple', 'banana', 'dragon', 10, 20]"
      ]
     },
     "execution_count": 108,
     "metadata": {},
     "output_type": "execute_result"
    }
   ],
   "source": [
    "l=['apple','banana','cherry','dragon',10,20]\n",
    "# i want to remove the cherry\n",
    "# provide the cherry index\n",
    "l.pop(2)\n",
    "l"
   ]
  },
  {
   "cell_type": "code",
   "execution_count": 114,
   "id": "1e69bcd9-d06e-4b28-aea1-7622e670e387",
   "metadata": {},
   "outputs": [
    {
     "data": {
      "text/plain": [
       "['apple', 'banana', 'dragon', 10, 20]"
      ]
     },
     "execution_count": 114,
     "metadata": {},
     "output_type": "execute_result"
    }
   ],
   "source": [
    "l=['apple','banana','cherry','dragon',10,20]\n",
    "# i want to remove the cherry\n",
    "# provide the cherry index\n",
    "l.pop(2)\n",
    "l"
   ]
  },
  {
   "cell_type": "code",
   "execution_count": 110,
   "id": "152315e9-7ee7-4747-826f-b1ba29fd4583",
   "metadata": {},
   "outputs": [
    {
     "data": {
      "text/plain": [
       "['apple', 'banana', 'dragon', 10, 20]"
      ]
     },
     "execution_count": 110,
     "metadata": {},
     "output_type": "execute_result"
    }
   ],
   "source": [
    "l=['apple','banana','cherry','dragon',10,20]\n",
    "# i want to remove the cherry\n",
    "# provide the cherry index\n",
    "l.pop(l.index('cherry'))\n",
    "l"
   ]
  },
  {
   "cell_type": "code",
   "execution_count": 118,
   "id": "fc1c79bc-0d1d-4c28-9417-710337fff67b",
   "metadata": {},
   "outputs": [
    {
     "data": {
      "text/plain": [
       "['apple', 'banana', 'dragon', 10, 20]"
      ]
     },
     "execution_count": 118,
     "metadata": {},
     "output_type": "execute_result"
    }
   ],
   "source": [
    "l=['apple','banana','cherry','dragon',10,20]\n",
    "l.remove('cherry')\n",
    "l"
   ]
  },
  {
   "cell_type": "code",
   "execution_count": 120,
   "id": "2a1631a1-c45f-45fb-b8e3-506debfdcd5d",
   "metadata": {},
   "outputs": [
    {
     "data": {
      "text/plain": [
       "['apple', 'banana', 'dragon', 10, 20]"
      ]
     },
     "execution_count": 120,
     "metadata": {},
     "output_type": "execute_result"
    }
   ],
   "source": [
    "l=['apple','banana','cherry','dragon',10,20]\n",
    "del(l[2])\n",
    "l"
   ]
  },
  {
   "cell_type": "code",
   "execution_count": null,
   "id": "e701209f-0482-4570-8785-bf7daf2ee910",
   "metadata": {},
   "outputs": [],
   "source": [
    "l.pop\n",
    "l.remove\n",
    "del(l)"
   ]
  },
  {
   "cell_type": "code",
   "execution_count": 126,
   "id": "1dab9fb0-e3b3-4ab8-9b40-8a82b0d504f0",
   "metadata": {},
   "outputs": [
    {
     "name": "stdout",
     "output_type": "stream",
     "text": [
      "['apple', 'banana', 'cherry', 'dragon', 10, 20]\n"
     ]
    },
    {
     "ename": "NameError",
     "evalue": "name 'l' is not defined",
     "output_type": "error",
     "traceback": [
      "\u001b[1;31m---------------------------------------------------------------------------\u001b[0m",
      "\u001b[1;31mNameError\u001b[0m                                 Traceback (most recent call last)",
      "Cell \u001b[1;32mIn[126], line 4\u001b[0m\n\u001b[0;32m      2\u001b[0m \u001b[38;5;28mprint\u001b[39m(l)\n\u001b[0;32m      3\u001b[0m \u001b[38;5;28;01mdel\u001b[39;00m(l)\n\u001b[1;32m----> 4\u001b[0m l\n",
      "\u001b[1;31mNameError\u001b[0m: name 'l' is not defined"
     ]
    }
   ],
   "source": [
    "l=['apple','banana','cherry','dragon',10,20]\n",
    "print(l)\n",
    "del(l)\n",
    "l"
   ]
  },
  {
   "cell_type": "markdown",
   "id": "10e9158e-e14f-4661-9c95-0ad2a9bc8a3f",
   "metadata": {},
   "source": [
    "**sort-sorted**"
   ]
  },
  {
   "cell_type": "code",
   "execution_count": 129,
   "id": "644c2a00-e55b-48f9-9d87-6692a28bc54b",
   "metadata": {},
   "outputs": [
    {
     "data": {
      "text/plain": [
       "['apple', 'banana', 'cherry', 'cherry', 'dragon', 'dragon']"
      ]
     },
     "execution_count": 129,
     "metadata": {},
     "output_type": "execute_result"
    }
   ],
   "source": [
    "l=['apple','dragon','cherry','banana','cherry','dragon']\n",
    "sorted(l)"
   ]
  },
  {
   "cell_type": "code",
   "execution_count": 133,
   "id": "c20080e2-5cf8-4de9-aae2-ce768d1910e3",
   "metadata": {},
   "outputs": [
    {
     "data": {
      "text/plain": [
       "['apple', 'banana', 'cherry', 'cherry', 'dragon', 'dragon']"
      ]
     },
     "execution_count": 133,
     "metadata": {},
     "output_type": "execute_result"
    }
   ],
   "source": [
    "l=['apple','dragon','cherry','banana','cherry','dragon']\n",
    "l.sort()\n",
    "l"
   ]
  },
  {
   "cell_type": "code",
   "execution_count": 135,
   "id": "e1fb397f-412c-42eb-a8ca-8f6fbb01d1a9",
   "metadata": {},
   "outputs": [
    {
     "data": {
      "text/plain": [
       "['h', 'n', 'o', 'p', 't', 'y']"
      ]
     },
     "execution_count": 135,
     "metadata": {},
     "output_type": "execute_result"
    }
   ],
   "source": [
    "sorted('python')\n",
    "'python'.sort()  # There is no methods"
   ]
  },
  {
   "cell_type": "code",
   "execution_count": null,
   "id": "0a9887c5-c6cd-46ba-ba2f-c4c198a4f2d3",
   "metadata": {},
   "outputs": [],
   "source": [
    "# sorted\n",
    "# reversed work for everyone\n",
    "\n",
    "# l.sort   l.reverse available\n",
    "# str1.sort  str1.reverse  # No methods\n",
    "\n",
    "# find index are available in string\n",
    "# index only availabe for list\n",
    "\n",
    "# count is avialble in both"
   ]
  },
  {
   "cell_type": "markdown",
   "id": "bc73ab12-c842-4374-a523-103cb1f6ba28",
   "metadata": {},
   "source": [
    "**string to list and list to string**"
   ]
  },
  {
   "cell_type": "code",
   "execution_count": 138,
   "id": "2129c1c9-119c-4454-9bf2-98df1ea9363a",
   "metadata": {},
   "outputs": [
    {
     "data": {
      "text/plain": [
       "['hai', 'how', 'are', 'you']"
      ]
     },
     "execution_count": 138,
     "metadata": {},
     "output_type": "execute_result"
    }
   ],
   "source": [
    "str1='hai how are you'\n",
    "str1.split()  # default space"
   ]
  },
  {
   "cell_type": "code",
   "execution_count": 140,
   "id": "1b6ea2c1-cbd9-49be-b455-b522c66ba40b",
   "metadata": {},
   "outputs": [
    {
     "data": {
      "text/plain": [
       "['', 'ai ', 'ow are you']"
      ]
     },
     "execution_count": 140,
     "metadata": {},
     "output_type": "execute_result"
    }
   ],
   "source": [
    "str1='hai how are you'\n",
    "str1.split('h')  # default space"
   ]
  },
  {
   "cell_type": "code",
   "execution_count": 142,
   "id": "c97be4ab-22d7-41c8-8533-28c6cf8a7aa7",
   "metadata": {},
   "outputs": [
    {
     "data": {
      "text/plain": [
       "['hai how', ' are', ' you']"
      ]
     },
     "execution_count": 142,
     "metadata": {},
     "output_type": "execute_result"
    }
   ],
   "source": [
    "str1='hai how, are, you'\n",
    "str1.split(',')  # default space"
   ]
  },
  {
   "cell_type": "code",
   "execution_count": 146,
   "id": "2cdddf47-1f7c-4e52-8e18-7d6c7b885418",
   "metadata": {},
   "outputs": [
    {
     "data": {
      "text/plain": [
       "['hai', 'how', 'are', 'you']"
      ]
     },
     "execution_count": 146,
     "metadata": {},
     "output_type": "execute_result"
    }
   ],
   "source": [
    "str1='hai how are you'\n",
    "l=str1.split()  # default space\n",
    "l"
   ]
  },
  {
   "cell_type": "code",
   "execution_count": 150,
   "id": "b7f0ef1a-cc61-4ba8-b151-344ed7e0c14b",
   "metadata": {},
   "outputs": [
    {
     "data": {
      "text/plain": [
       "'hai,how,are,you'"
      ]
     },
     "execution_count": 150,
     "metadata": {},
     "output_type": "execute_result"
    }
   ],
   "source": [
    "' '.join(l)\n",
    "','.join(l)"
   ]
  },
  {
   "cell_type": "code",
   "execution_count": null,
   "id": "0b47e9af-c815-4141-99a7-9008b651210c",
   "metadata": {},
   "outputs": [],
   "source": []
  }
 ],
 "metadata": {
  "kernelspec": {
   "display_name": "Python [conda env:base] *",
   "language": "python",
   "name": "conda-base-py"
  },
  "language_info": {
   "codemirror_mode": {
    "name": "ipython",
    "version": 3
   },
   "file_extension": ".py",
   "mimetype": "text/x-python",
   "name": "python",
   "nbconvert_exporter": "python",
   "pygments_lexer": "ipython3",
   "version": "3.12.7"
  }
 },
 "nbformat": 4,
 "nbformat_minor": 5
}
