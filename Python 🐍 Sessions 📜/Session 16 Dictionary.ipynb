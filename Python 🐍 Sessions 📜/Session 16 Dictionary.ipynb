{
 "cells": [
  {
   "cell_type": "markdown",
   "id": "8bb8e5fb-8d69-4b40-b639-c1dbd15927fa",
   "metadata": {},
   "source": [
    "<h1><center>Dictionary</center></h1>"
   ]
  },
  {
   "cell_type": "code",
   "execution_count": 2,
   "id": "62ac11bc-f956-4d67-b5bf-41266a6c3ce5",
   "metadata": {},
   "outputs": [
    {
     "name": "stdout",
     "output_type": "stream",
     "text": [
      "('Ramesh', 20)\n",
      "('Suresh', 22)\n",
      "('Sathish', 24)\n"
     ]
    }
   ],
   "source": [
    "names=['Ramesh','Suresh','Sathish']\n",
    "age=[20,22,24]\n",
    "empty=[]\n",
    "for i in zip(names,age):\n",
    "    print(i)"
   ]
  },
  {
   "cell_type": "code",
   "execution_count": 4,
   "id": "6595c945-f1a3-454a-b4c7-b2078d6a68ec",
   "metadata": {},
   "outputs": [
    {
     "name": "stdout",
     "output_type": "stream",
     "text": [
      "Ramesh age is 20\n",
      "Suresh age is 22\n",
      "Sathish age is 24\n"
     ]
    }
   ],
   "source": [
    "for i,j in zip(names,age):\n",
    "    print(f\"{i} age is {j}\")"
   ]
  },
  {
   "cell_type": "markdown",
   "id": "66324cd6-80b4-46fd-8d24-318a210bb281",
   "metadata": {},
   "source": [
    "# Dictionary :\n",
    "\n",
    "- Dictionary is a key value pair\n",
    "\n",
    "- whenever any values are coming together then think about dictionary\n",
    "\n",
    "- Dictionary is in **curly braces** with pair {key:value}\n",
    "\n",
    "- In above example : {'Ramesh':20 , 'Suresh':22 , 'Mahesh':24}\n",
    "\n",
    "- **Keys always plays a vital role**"
   ]
  },
  {
   "cell_type": "code",
   "execution_count": 9,
   "id": "17802471-1fde-4cc9-ac49-b15b31a0762f",
   "metadata": {},
   "outputs": [
    {
     "data": {
      "text/plain": [
       "{'Ramesh': 20, 'Suresh': 22, 'Mahesh': 24}"
      ]
     },
     "execution_count": 9,
     "metadata": {},
     "output_type": "execute_result"
    }
   ],
   "source": [
    "dict1={'Ramesh':20,'Suresh':22,'Mahesh':24}\n",
    "dict1"
   ]
  },
  {
   "cell_type": "code",
   "execution_count": 11,
   "id": "d712bb6d-dad0-4ae9-ae91-5264179aa65e",
   "metadata": {},
   "outputs": [
    {
     "data": {
      "text/plain": [
       "{20: 'Ramesh', 22: 'Suresh', 24: 'Mahesh'}"
      ]
     },
     "execution_count": 11,
     "metadata": {},
     "output_type": "execute_result"
    }
   ],
   "source": [
    "dict2={20:'Ramesh',22:'Suresh',24:'Mahesh'}\n",
    "dict2"
   ]
  },
  {
   "cell_type": "code",
   "execution_count": 13,
   "id": "a7b8b0ff-64b6-4edc-8918-d6ad40953778",
   "metadata": {},
   "outputs": [
    {
     "data": {
      "text/plain": [
       "{'20': 'Ramesh', '22': 'Suresh', '24': 'Mahesh'}"
      ]
     },
     "execution_count": 13,
     "metadata": {},
     "output_type": "execute_result"
    }
   ],
   "source": [
    "dict3={'20':'Ramesh','22':'Suresh','24':'Mahesh'}\n",
    "dict3"
   ]
  },
  {
   "cell_type": "code",
   "execution_count": 15,
   "id": "0d4aa62b-8bfc-4e45-a160-728023085a02",
   "metadata": {},
   "outputs": [
    {
     "data": {
      "text/plain": [
       "{20: 20, 22: 22, 24: 24}"
      ]
     },
     "execution_count": 15,
     "metadata": {},
     "output_type": "execute_result"
    }
   ],
   "source": [
    "dict4={20:20,22:22,24:24}\n",
    "dict4"
   ]
  },
  {
   "cell_type": "code",
   "execution_count": 21,
   "id": "d0134cdd-24cd-423e-9035-c52e75d0d4ac",
   "metadata": {},
   "outputs": [
    {
     "data": {
      "text/plain": [
       "{'Ramesh': 22}"
      ]
     },
     "execution_count": 21,
     "metadata": {},
     "output_type": "execute_result"
    }
   ],
   "source": [
    "dict5={'Ramesh':20,'Ramesh':22}\n",
    "dict5"
   ]
  },
  {
   "cell_type": "code",
   "execution_count": 23,
   "id": "ed7f3ecf-14d0-490a-8646-60872c84243d",
   "metadata": {},
   "outputs": [
    {
     "data": {
      "text/plain": [
       "{'Ramesh': 20}"
      ]
     },
     "execution_count": 23,
     "metadata": {},
     "output_type": "execute_result"
    }
   ],
   "source": [
    "dict6={'Ramesh':20,'Ramesh':20}\n",
    "dict6"
   ]
  },
  {
   "cell_type": "code",
   "execution_count": 25,
   "id": "34d8b4e4-2e8b-4de6-bdbe-e2264038d172",
   "metadata": {},
   "outputs": [
    {
     "data": {
      "text/plain": [
       "{'Ramesh': 20, 'Suresh': 20}"
      ]
     },
     "execution_count": 25,
     "metadata": {},
     "output_type": "execute_result"
    }
   ],
   "source": [
    "dict7={'Ramesh':20,'Suresh':20}\n",
    "dict7"
   ]
  },
  {
   "cell_type": "code",
   "execution_count": 29,
   "id": "ee85edf9-12de-41cc-9157-be4f1d212fb6",
   "metadata": {},
   "outputs": [
    {
     "data": {
      "text/plain": [
       "{'Ramesh': 20, 20: 'Suresh', 'Sathish': True, False: True}"
      ]
     },
     "execution_count": 29,
     "metadata": {},
     "output_type": "execute_result"
    }
   ],
   "source": [
    "dict8={'Ramesh':20,20:'Suresh','Sathish':True,False:True}\n",
    "dict8"
   ]
  },
  {
   "cell_type": "code",
   "execution_count": 31,
   "id": "a8b5c0b5-5d0b-46f0-923a-8ae2fb2e0589",
   "metadata": {},
   "outputs": [
    {
     "data": {
      "text/plain": [
       "{'Names': ['R', 'A', 'M']}"
      ]
     },
     "execution_count": 31,
     "metadata": {},
     "output_type": "execute_result"
    }
   ],
   "source": [
    "dict9={'Names':['R','A','M']}\n",
    "dict9"
   ]
  },
  {
   "cell_type": "code",
   "execution_count": 33,
   "id": "47d2b529-d3d7-46c7-a896-d76a43dee2d5",
   "metadata": {},
   "outputs": [
    {
     "ename": "TypeError",
     "evalue": "unhashable type: 'list'",
     "output_type": "error",
     "traceback": [
      "\u001b[1;31m---------------------------------------------------------------------------\u001b[0m",
      "\u001b[1;31mTypeError\u001b[0m                                 Traceback (most recent call last)",
      "Cell \u001b[1;32mIn[33], line 1\u001b[0m\n\u001b[1;32m----> 1\u001b[0m dict10\u001b[38;5;241m=\u001b[39m{[\u001b[38;5;124m'\u001b[39m\u001b[38;5;124mR\u001b[39m\u001b[38;5;124m'\u001b[39m,\u001b[38;5;124m'\u001b[39m\u001b[38;5;124mA\u001b[39m\u001b[38;5;124m'\u001b[39m,\u001b[38;5;124m'\u001b[39m\u001b[38;5;124mM\u001b[39m\u001b[38;5;124m'\u001b[39m]:\u001b[38;5;124m'\u001b[39m\u001b[38;5;124mNames\u001b[39m\u001b[38;5;124m'\u001b[39m}\n\u001b[0;32m      2\u001b[0m dict10\n",
      "\u001b[1;31mTypeError\u001b[0m: unhashable type: 'list'"
     ]
    }
   ],
   "source": [
    "dict10={['R','A','M']:'Names'}\n",
    "dict10"
   ]
  },
  {
   "cell_type": "code",
   "execution_count": 49,
   "id": "219c8603-ae80-4917-9b08-02b46b3ea3ba",
   "metadata": {},
   "outputs": [
    {
     "data": {
      "text/plain": [
       "{('R', 'A', 'M'): 'Names'}"
      ]
     },
     "execution_count": 49,
     "metadata": {},
     "output_type": "execute_result"
    }
   ],
   "source": [
    "dict15={'Names':('R','A','M')}\n",
    "dict16={('R','A','M'):'Names'}\n",
    "dict16"
   ]
  },
  {
   "cell_type": "code",
   "execution_count": 35,
   "id": "4939b474-9aad-4fba-8034-589913477a42",
   "metadata": {},
   "outputs": [
    {
     "data": {
      "text/plain": [
       "{'Names': ('R', 'A', 'M')}"
      ]
     },
     "execution_count": 35,
     "metadata": {},
     "output_type": "execute_result"
    }
   ],
   "source": [
    "dict11={'Names':('R','A','M')}\n",
    "dict11"
   ]
  },
  {
   "cell_type": "code",
   "execution_count": 41,
   "id": "a12408e6-595c-4bca-b43e-43f97236814c",
   "metadata": {},
   "outputs": [
    {
     "data": {
      "text/plain": [
       "{('R', 'A', 'M'): 'Names'}"
      ]
     },
     "execution_count": 41,
     "metadata": {},
     "output_type": "execute_result"
    }
   ],
   "source": [
    "dict12={('R','A','M'):'Names'}\n",
    "dict12"
   ]
  },
  {
   "cell_type": "code",
   "execution_count": 43,
   "id": "af828680-faa8-490a-a3eb-ce1721252d53",
   "metadata": {},
   "outputs": [
    {
     "data": {
      "text/plain": [
       "{}"
      ]
     },
     "execution_count": 43,
     "metadata": {},
     "output_type": "execute_result"
    }
   ],
   "source": [
    "dict13={}\n",
    "dict13"
   ]
  },
  {
   "cell_type": "code",
   "execution_count": 45,
   "id": "89ff2139-debf-4ff9-93b5-84e41164d013",
   "metadata": {},
   "outputs": [
    {
     "ename": "TypeError",
     "evalue": "unhashable type: 'dict'",
     "output_type": "error",
     "traceback": [
      "\u001b[1;31m---------------------------------------------------------------------------\u001b[0m",
      "\u001b[1;31mTypeError\u001b[0m                                 Traceback (most recent call last)",
      "Cell \u001b[1;32mIn[45], line 1\u001b[0m\n\u001b[1;32m----> 1\u001b[0m dict14\u001b[38;5;241m=\u001b[39m{{\u001b[38;5;124m'\u001b[39m\u001b[38;5;124mRamesh\u001b[39m\u001b[38;5;124m'\u001b[39m:\u001b[38;5;241m20\u001b[39m}:\u001b[38;5;241m21\u001b[39m}\n\u001b[0;32m      2\u001b[0m dict14\n",
      "\u001b[1;31mTypeError\u001b[0m: unhashable type: 'dict'"
     ]
    }
   ],
   "source": [
    "dict14={{'Ramesh':20}:21}\n",
    "dict14"
   ]
  },
  {
   "cell_type": "markdown",
   "id": "37e0b18e-1877-449c-b097-23d3509fa8c7",
   "metadata": {},
   "source": [
    "- **List** are **mutable**\n",
    "\n",
    "- **tuple** are **immutable**\n",
    "\n",
    "- in dictionary keys are important\n",
    "\n",
    "- The keys should not change using index\n",
    "\n",
    "- Thats why **list** as key **fails**, **tuple** as key **works**"
   ]
  },
  {
   "cell_type": "code",
   "execution_count": 68,
   "id": "20eaa6ac-2bb8-43de-961d-44ece23c8074",
   "metadata": {},
   "outputs": [
    {
     "name": "stdout",
     "output_type": "stream",
     "text": [
      "Suresh Mahesh ['Mahesh', 'Ramesh', 'Suresh'] <dict_reversekeyiterator object at 0x000002A9462F8D60>\n",
      "\n",
      "24 20 [20, 22, 24] <dict_reversekeyiterator object at 0x000002A9462FA070>\n"
     ]
    }
   ],
   "source": [
    "dict1={'Ramesh':20,'Suresh':22,'Mahesh':24}\n",
    "dict2={20:'Ramesh',22:'Suresh',24:'Mahesh'}\n",
    "print(max(dict1),min(dict1),sorted(dict1),reversed(dict1))\n",
    "print()\n",
    "print(max(dict2),min(dict2),sorted(dict2),reversed(dict2))"
   ]
  },
  {
   "cell_type": "code",
   "execution_count": 72,
   "id": "32229e91-155d-4d7b-a7b6-170f07e3de15",
   "metadata": {},
   "outputs": [
    {
     "name": "stdout",
     "output_type": "stream",
     "text": [
      "Ramesh\n",
      "Suresh\n",
      "Mahesh\n"
     ]
    }
   ],
   "source": [
    "for i in dict1:\n",
    "    print(i)"
   ]
  },
  {
   "cell_type": "code",
   "execution_count": 74,
   "id": "049d0a85-950f-46e9-88be-4bd05d276d04",
   "metadata": {},
   "outputs": [
    {
     "ename": "TypeError",
     "evalue": "unsupported operand type(s) for +: 'dict' and 'dict'",
     "output_type": "error",
     "traceback": [
      "\u001b[1;31m---------------------------------------------------------------------------\u001b[0m",
      "\u001b[1;31mTypeError\u001b[0m                                 Traceback (most recent call last)",
      "Cell \u001b[1;32mIn[74], line 1\u001b[0m\n\u001b[1;32m----> 1\u001b[0m dict1\u001b[38;5;241m+\u001b[39mdict2\n",
      "\u001b[1;31mTypeError\u001b[0m: unsupported operand type(s) for +: 'dict' and 'dict'"
     ]
    }
   ],
   "source": [
    "dict1+dict2"
   ]
  },
  {
   "cell_type": "markdown",
   "id": "438fa5f8-600a-4b7e-8a0f-b7490fd4b13d",
   "metadata": {},
   "source": [
    "# index :"
   ]
  },
  {
   "cell_type": "code",
   "execution_count": 77,
   "id": "82c3d586-d6e9-43ee-a77d-c4c7a2c03544",
   "metadata": {},
   "outputs": [
    {
     "data": {
      "text/plain": [
       "{'Ramesh': 20, 'Suresh': 22, 'Mahesh': 24}"
      ]
     },
     "execution_count": 77,
     "metadata": {},
     "output_type": "execute_result"
    }
   ],
   "source": [
    "dict1={'Ramesh':20,'Suresh':22,'Mahesh':24}\n",
    "dict1"
   ]
  },
  {
   "cell_type": "code",
   "execution_count": 79,
   "id": "e9c5d1bb-b2fa-41bc-9677-ea0d9bc25b5f",
   "metadata": {},
   "outputs": [
    {
     "ename": "KeyError",
     "evalue": "0",
     "output_type": "error",
     "traceback": [
      "\u001b[1;31m---------------------------------------------------------------------------\u001b[0m",
      "\u001b[1;31mKeyError\u001b[0m                                  Traceback (most recent call last)",
      "Cell \u001b[1;32mIn[79], line 2\u001b[0m\n\u001b[0;32m      1\u001b[0m dict1\u001b[38;5;241m=\u001b[39m{\u001b[38;5;124m'\u001b[39m\u001b[38;5;124mRamesh\u001b[39m\u001b[38;5;124m'\u001b[39m:\u001b[38;5;241m20\u001b[39m,\u001b[38;5;124m'\u001b[39m\u001b[38;5;124mSuresh\u001b[39m\u001b[38;5;124m'\u001b[39m:\u001b[38;5;241m22\u001b[39m,\u001b[38;5;124m'\u001b[39m\u001b[38;5;124mMahesh\u001b[39m\u001b[38;5;124m'\u001b[39m:\u001b[38;5;241m24\u001b[39m}\n\u001b[1;32m----> 2\u001b[0m dict1[\u001b[38;5;241m0\u001b[39m]\n",
      "\u001b[1;31mKeyError\u001b[0m: 0"
     ]
    }
   ],
   "source": [
    "dict1={'Ramesh':20,'Suresh':22,'Mahesh':24}\n",
    "dict1[0]"
   ]
  },
  {
   "cell_type": "markdown",
   "id": "c421e48c-f175-4e6a-b141-e620ffcf04a0",
   "metadata": {},
   "source": [
    "# We will access the values using **keys**"
   ]
  },
  {
   "cell_type": "code",
   "execution_count": 81,
   "id": "5953550d-1db6-46e3-b14d-47f76342f1c1",
   "metadata": {},
   "outputs": [
    {
     "data": {
      "text/plain": [
       "20"
      ]
     },
     "execution_count": 81,
     "metadata": {},
     "output_type": "execute_result"
    }
   ],
   "source": [
    "# We will access the values using keys\n",
    "dict1['Ramesh']"
   ]
  },
  {
   "cell_type": "code",
   "execution_count": 83,
   "id": "c4f16030-60cc-4b21-a58f-242bff9ed0a7",
   "metadata": {},
   "outputs": [
    {
     "data": {
      "text/plain": [
       "22"
      ]
     },
     "execution_count": 83,
     "metadata": {},
     "output_type": "execute_result"
    }
   ],
   "source": [
    "dict1['Suresh']"
   ]
  },
  {
   "cell_type": "code",
   "execution_count": 85,
   "id": "e1c5b6db-8a23-4a79-af37-8bde4ee9980a",
   "metadata": {},
   "outputs": [
    {
     "data": {
      "text/plain": [
       "24"
      ]
     },
     "execution_count": 85,
     "metadata": {},
     "output_type": "execute_result"
    }
   ],
   "source": [
    "dict1['Mahesh']"
   ]
  },
  {
   "cell_type": "code",
   "execution_count": 87,
   "id": "bff40824-49cf-4fce-b6b3-03815ab7f779",
   "metadata": {},
   "outputs": [
    {
     "name": "stdout",
     "output_type": "stream",
     "text": [
      "Ramesh 20\n",
      "Suresh 22\n",
      "Mahesh 24\n"
     ]
    }
   ],
   "source": [
    "for i in dict1:\n",
    "    print(i,dict1[i])"
   ]
  },
  {
   "cell_type": "code",
   "execution_count": 91,
   "id": "85f0ace4-1ac4-4388-92f8-fdef8d325b48",
   "metadata": {},
   "outputs": [
    {
     "data": {
      "text/plain": [
       "'a'"
      ]
     },
     "execution_count": 91,
     "metadata": {},
     "output_type": "execute_result"
    }
   ],
   "source": [
    "s=''\n",
    "s=s+'a'\n",
    "s"
   ]
  },
  {
   "cell_type": "code",
   "execution_count": 97,
   "id": "9fb001b8-2d2f-4cc7-a66e-a2eb8ba447e2",
   "metadata": {},
   "outputs": [
    {
     "data": {
      "text/plain": [
       "[0, 1, 2, 3, 4]"
      ]
     },
     "execution_count": 97,
     "metadata": {},
     "output_type": "execute_result"
    }
   ],
   "source": [
    "l=[]\n",
    "for i in range(5):\n",
    "    l.append(i)\n",
    "l"
   ]
  },
  {
   "cell_type": "code",
   "execution_count": 101,
   "id": "f6469e69-595d-484c-92b3-7acc5ee606fa",
   "metadata": {},
   "outputs": [
    {
     "data": {
      "text/plain": [
       "{'Ramesh': 20, 'Suresh': 22, 'Mahesh': 24}"
      ]
     },
     "execution_count": 101,
     "metadata": {},
     "output_type": "execute_result"
    }
   ],
   "source": [
    "d={}       # l=[]\n",
    "d['Ramesh']=20    # l.append(10)\n",
    "d['Suresh']=22    # l.append(20)\n",
    "d['Mahesh']=24    # l.append(20)\n",
    "d\n",
    "\n",
    "#d[i]=j"
   ]
  },
  {
   "cell_type": "code",
   "execution_count": 113,
   "id": "d1ae2af8-4402-4aad-9655-c522a4372f62",
   "metadata": {},
   "outputs": [
    {
     "data": {
      "text/plain": [
       "(['Ramesh', 'Suresh', 'Mahesh'], [20, 22, 24])"
      ]
     },
     "execution_count": 113,
     "metadata": {},
     "output_type": "execute_result"
    }
   ],
   "source": [
    "dict1={'Ramesh':20,'Suresh':22,'Mahesh':24}\n",
    "names=[]\n",
    "age=[]\n",
    "for i in dict1:\n",
    "    names.append(i)\n",
    "    age.append(dict1[i])\n",
    "\n",
    "names,age"
   ]
  },
  {
   "cell_type": "code",
   "execution_count": 139,
   "id": "5e730eed-91bd-4172-93e0-058b8487786f",
   "metadata": {},
   "outputs": [
    {
     "name": "stdout",
     "output_type": "stream",
     "text": [
      "dict_items([('Ramesh', 20), ('Suresh', 22), ('Mahesh', 24)])\n",
      "dict_keys(['Ramesh', 'Suresh', 'Mahesh'])\n",
      "dict_values([20, 22, 24])\n",
      "24\n",
      "22\n",
      "('Mahesh', 24)\n",
      "None\n"
     ]
    }
   ],
   "source": [
    "dict1={'Ramesh':20,'Suresh':22,'Mahesh':24}\n",
    "print(dict1.items())\n",
    "print(dict1.keys())\n",
    "print(dict1.values())\n",
    "print(dict1.get('Mahesh'))\n",
    "print(dict1.pop('Suresh'))\n",
    "print(dict1.popitem())\n",
    "print(dict1.update(dict2))"
   ]
  },
  {
   "cell_type": "code",
   "execution_count": null,
   "id": "45670ea0-5497-4b8b-bebd-fe3f0c245a87",
   "metadata": {},
   "outputs": [],
   "source": [
    "'fromkeys',\n",
    "'setdefault'\n",
    "Lambda functions"
   ]
  },
  {
   "cell_type": "code",
   "execution_count": null,
   "id": "f40b2377-926d-4f42-8d8b-d3303ba38192",
   "metadata": {},
   "outputs": [],
   "source": [
    "Method - 1 : Only For Loop"
   ]
  },
  {
   "cell_type": "code",
   "execution_count": null,
   "id": "f4893663-8170-4006-a59b-8126ed2c580a",
   "metadata": {},
   "outputs": [],
   "source": [
    "l = [<write my code>]\n",
    "l = [<output> <forloop>]"
   ]
  },
  {
   "cell_type": "code",
   "execution_count": null,
   "id": "e1ad40e6-f667-4289-9ae3-5651349b596a",
   "metadata": {},
   "outputs": [],
   "source": [
    "Method - 2 : For Loop with if"
   ]
  },
  {
   "cell_type": "code",
   "execution_count": null,
   "id": "d74bcc82-b208-48ec-8f51-9dd3e50c4c71",
   "metadata": {},
   "outputs": [],
   "source": [
    "# [<output> <forLoop>\n",
    "# [<output> <if cond> <for Loop> ]"
   ]
  },
  {
   "cell_type": "code",
   "execution_count": null,
   "id": "472088f9-bcc1-4e70-87f0-8b1d93caa5d5",
   "metadata": {},
   "outputs": [],
   "source": [
    "Method - 3 : if-else"
   ]
  },
  {
   "cell_type": "code",
   "execution_count": null,
   "id": "3f2a1841-be18-480e-93ee-f621863ecd5b",
   "metadata": {},
   "outputs": [],
   "source": [
    "# for: [<output> <forLoop>\n",
    "# for if : [<if output> <if cond> <else> <else output> <for Loop> ]"
   ]
  }
 ],
 "metadata": {
  "kernelspec": {
   "display_name": "Python [conda env:base] *",
   "language": "python",
   "name": "conda-base-py"
  },
  "language_info": {
   "codemirror_mode": {
    "name": "ipython",
    "version": 3
   },
   "file_extension": ".py",
   "mimetype": "text/x-python",
   "name": "python",
   "nbconvert_exporter": "python",
   "pygments_lexer": "ipython3",
   "version": "3.12.7"
  }
 },
 "nbformat": 4,
 "nbformat_minor": 5
}
