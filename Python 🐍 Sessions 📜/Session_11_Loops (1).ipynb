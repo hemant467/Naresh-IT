{
 "cells": [
  {
   "cell_type": "code",
   "execution_count": null,
   "id": "714ed9e6-5ef6-4ab6-a21f-bd0dba05f6a8",
   "metadata": {},
   "outputs": [],
   "source": [
    "tax claulation ==== 4 lines\n",
    "\n",
    "100 employees === 100*4=400 lines\n",
    "\n",
    "idea: 4 lines === 1 line (function)  === 100times(loop) \n",
    "100*1=100\n",
    "\n",
    "1 line ==== 100line s"
   ]
  },
  {
   "cell_type": "code",
   "execution_count": 1,
   "id": "d06cfd7f-b706-489d-afa7-ce863896ba83",
   "metadata": {},
   "outputs": [
    {
     "name": "stdout",
     "output_type": "stream",
     "text": [
      "1\n",
      "2\n",
      "3\n",
      "4\n",
      "5\n"
     ]
    }
   ],
   "source": [
    "print(1)\n",
    "print(2)\n",
    "print(3)\n",
    "print(4)\n",
    "print(5)\n",
    "\n",
    "print(i)"
   ]
  },
  {
   "cell_type": "code",
   "execution_count": 3,
   "id": "949b6930-f69f-4d38-9b2d-a8151f99a3ed",
   "metadata": {},
   "outputs": [
    {
     "name": "stdout",
     "output_type": "stream",
     "text": [
      "0\n",
      "1\n",
      "2\n",
      "3\n",
      "4\n"
     ]
    }
   ],
   "source": [
    "for i in range(5):\n",
    "    print(i)"
   ]
  },
  {
   "cell_type": "markdown",
   "id": "b9c61824-a91b-4c2f-a784-0a27c84f73be",
   "metadata": {},
   "source": [
    "- same code we are using : Function\n",
    "\n",
    "- multiple times we are using : loop\n",
    "\n",
    "- every loop we need three pointers\n",
    "\n",
    "    - Intialization\n",
    "\n",
    "    - Increament or decrement\n",
    "\n",
    "    - Condition to stop\n",
    "\n",
    "- We have two types of loops\n",
    "\n",
    "    - for : is used to when we know how many time the loops should run\n",
    "\n",
    "    - while: is used when we dont know how many times\n",
    "\n",
    "        - but we know that the loop should run till condition True"
   ]
  },
  {
   "cell_type": "markdown",
   "id": "8ab68b6a-4879-4e66-9233-604607d25887",
   "metadata": {},
   "source": [
    "**For loop**"
   ]
  },
  {
   "cell_type": "markdown",
   "id": "4b26df4d-614d-4907-8d28-a95afb2b3cb3",
   "metadata": {},
   "source": [
    "**Case1: range(stop)**\n",
    "\n",
    "- when we see a format range(value)\n",
    "\n",
    "- start value by default 0\n",
    "\n",
    "- By default increment by +1\n",
    "\n",
    "- last value= stop-1\n",
    "\n",
    "- range(10)\n",
    "\n",
    "- start= 0  increment=1  last= 10-1=9  0,1,2,3,4,5,6,7,8,9"
   ]
  },
  {
   "cell_type": "code",
   "execution_count": null,
   "id": "15fd698f-a566-41f3-99f2-7282cf1ab3e0",
   "metadata": {},
   "outputs": [],
   "source": [
    "print(0)\n",
    "print(1)\n",
    "print(2)\n",
    "print(3)    # range(4)\n",
    "\n",
    "print(i)"
   ]
  },
  {
   "cell_type": "code",
   "execution_count": 8,
   "id": "8bc706e1-2321-4578-be2d-050d6f57bd8b",
   "metadata": {},
   "outputs": [
    {
     "name": "stdout",
     "output_type": "stream",
     "text": [
      "0\n",
      "1\n",
      "2\n",
      "3\n"
     ]
    }
   ],
   "source": [
    "for i in range(4):\n",
    "    print(i)"
   ]
  },
  {
   "cell_type": "code",
   "execution_count": null,
   "id": "5ec1ff2c-0d6e-48d9-aad3-1d5e04c170d4",
   "metadata": {},
   "outputs": [],
   "source": [
    "print('hello')\n",
    "print('hello')\n",
    "print('hello')   # range(2)\n",
    "\n",
    "print('hello')"
   ]
  },
  {
   "cell_type": "code",
   "execution_count": 12,
   "id": "7830bf3f-1190-4bdc-ae6b-675ee172f78f",
   "metadata": {},
   "outputs": [
    {
     "name": "stdout",
     "output_type": "stream",
     "text": [
      "hello\n",
      "hello\n",
      "hello\n"
     ]
    }
   ],
   "source": [
    "for i in range(3):\n",
    "    print('hello')"
   ]
  },
  {
   "cell_type": "code",
   "execution_count": null,
   "id": "dfa84d7d-5ccd-466f-b8fa-994c0ff50a2b",
   "metadata": {},
   "outputs": [],
   "source": [
    "for i in range(4):\n",
    "    print(i)\n",
    "\n",
    "for i in range(4):\n",
    "    print('hello')"
   ]
  },
  {
   "cell_type": "code",
   "execution_count": null,
   "id": "08366eda-024a-4b66-9865-c95405588e68",
   "metadata": {},
   "outputs": [],
   "source": [
    "# wap ask the use print the square of the number from 0 to 4\n",
    "# wap ask the user enter a number and print squre of the number\n",
    "#              the user should enter 4 times\n",
    "# wap ask the user get a random number and print square of the number\n",
    "#              the user should get 4 times random number"
   ]
  },
  {
   "cell_type": "code",
   "execution_count": 14,
   "id": "b74d0c99-25a8-4d82-8d7b-7b9b59843538",
   "metadata": {},
   "outputs": [
    {
     "name": "stdout",
     "output_type": "stream",
     "text": [
      "the square of 0 is 0\n",
      "the square of 1 is 1\n",
      "the square of 2 is 4\n",
      "the square of 3 is 9\n",
      "the square of 4 is 16\n"
     ]
    }
   ],
   "source": [
    "for i in range(0,5):\n",
    "    print(f'the square of {i} is {i*i}')"
   ]
  },
  {
   "cell_type": "code",
   "execution_count": 18,
   "id": "9d518bab-dbd0-47c1-a000-2b1f7415ab4e",
   "metadata": {},
   "outputs": [
    {
     "name": "stdout",
     "output_type": "stream",
     "text": [
      "0 time\n"
     ]
    },
    {
     "name": "stdin",
     "output_type": "stream",
     "text": [
      "enter the num: 7\n"
     ]
    },
    {
     "name": "stdout",
     "output_type": "stream",
     "text": [
      "the square of 7 is 49\n",
      "1 time\n"
     ]
    },
    {
     "name": "stdin",
     "output_type": "stream",
     "text": [
      "enter the num: 9\n"
     ]
    },
    {
     "name": "stdout",
     "output_type": "stream",
     "text": [
      "the square of 9 is 81\n",
      "2 time\n"
     ]
    },
    {
     "name": "stdin",
     "output_type": "stream",
     "text": [
      "enter the num: 7\n"
     ]
    },
    {
     "name": "stdout",
     "output_type": "stream",
     "text": [
      "the square of 7 is 49\n",
      "3 time\n"
     ]
    },
    {
     "name": "stdin",
     "output_type": "stream",
     "text": [
      "enter the num: 7\n"
     ]
    },
    {
     "name": "stdout",
     "output_type": "stream",
     "text": [
      "the square of 7 is 49\n",
      "4 time\n"
     ]
    },
    {
     "name": "stdin",
     "output_type": "stream",
     "text": [
      "enter the num: 8\n"
     ]
    },
    {
     "name": "stdout",
     "output_type": "stream",
     "text": [
      "the square of 8 is 64\n"
     ]
    }
   ],
   "source": [
    "for i in range(0,5):\n",
    "    print(f\"{i} time\")\n",
    "    num=eval(input('enter the num:'))\n",
    "    print(f'the square of {num} is {num*num}')"
   ]
  },
  {
   "cell_type": "code",
   "execution_count": 20,
   "id": "9916174e-8cb8-4a3f-8261-bc1268fa67ca",
   "metadata": {},
   "outputs": [
    {
     "name": "stdout",
     "output_type": "stream",
     "text": [
      "the square of 98 is 9604\n",
      "the square of 79 is 6241\n",
      "the square of 97 is 9409\n",
      "the square of 63 is 3969\n",
      "the square of 7 is 49\n"
     ]
    }
   ],
   "source": [
    "import random\n",
    "for i in range(0,5):\n",
    "    num=random.randint(1,100)\n",
    "    print(f'the square of {num} is {num*num}')"
   ]
  },
  {
   "cell_type": "code",
   "execution_count": null,
   "id": "2261e9d2-7a85-49f3-a02b-1663df690e00",
   "metadata": {},
   "outputs": [],
   "source": [
    "for i in range(5):\n",
    "    print(f'the square of {i} is {i*i}')\n",
    "\n",
    "for i in range(5):\n",
    "    print(f\"{i} time\")\n",
    "    num=eval(input('enter the num:'))\n",
    "    print(f'the square of {num} is {num*num}')\n",
    "\n",
    "import random\n",
    "for i in range(5):\n",
    "    num=random.randint(1,100)\n",
    "    print(f'the square of {num} is {num*num}')"
   ]
  },
  {
   "cell_type": "code",
   "execution_count": 22,
   "id": "1b9a1a1d-1267-4bee-a788-bae8bbdd0273",
   "metadata": {},
   "outputs": [
    {
     "name": "stdout",
     "output_type": "stream",
     "text": [
      "the square of 0 is 0\n",
      "the square of 1 is 1\n",
      "the square of 2 is 4\n",
      "the square of 3 is 9\n",
      "the square of 4 is 16\n"
     ]
    }
   ],
   "source": [
    "for i in range(5):\n",
    "    print(f'the square of {i} is {i*i}')"
   ]
  },
  {
   "cell_type": "code",
   "execution_count": null,
   "id": "3e2a1c77-4e6f-4393-989a-5b9ad8fccc5c",
   "metadata": {},
   "outputs": [],
   "source": [
    "range(5)  # s=0 1 last 4"
   ]
  },
  {
   "cell_type": "markdown",
   "id": "ffe230e7-e958-43f3-9691-9e61848a7299",
   "metadata": {},
   "source": [
    "**Case2: range(start,stop)**\n",
    "\n",
    "- when we see a format range(value1,value2)\n",
    "\n",
    "- start = start\n",
    "\n",
    "- By default increment by +1\n",
    "\n",
    "- last value= stop-1\n",
    "\n",
    "- range(5,10)\n",
    "\n",
    "- start= 5  increment=1  last= 10-1=9  5,6,7,8,9"
   ]
  },
  {
   "cell_type": "code",
   "execution_count": 28,
   "id": "983e6bfb-fff5-4433-8ed9-2a83aaae9eb2",
   "metadata": {},
   "outputs": [
    {
     "name": "stdout",
     "output_type": "stream",
     "text": [
      "5 6 7 8 9 "
     ]
    }
   ],
   "source": [
    "for i in range(5,10):\n",
    "    print(i,end=' ')"
   ]
  },
  {
   "cell_type": "code",
   "execution_count": 30,
   "id": "bc830b62-9959-4274-a92f-5dee5c62a2b3",
   "metadata": {},
   "outputs": [
    {
     "name": "stdout",
     "output_type": "stream",
     "text": [
      "5 6\n"
     ]
    }
   ],
   "source": [
    "print(5,end=' ')\n",
    "print(6)"
   ]
  },
  {
   "cell_type": "code",
   "execution_count": 32,
   "id": "3960a2e8-9bb2-483a-a972-bfe0eba66086",
   "metadata": {},
   "outputs": [
    {
     "name": "stdout",
     "output_type": "stream",
     "text": [
      "the square of 20 is 400\n",
      "the square of 21 is 441\n",
      "the square of 22 is 484\n",
      "the square of 23 is 529\n",
      "the square of 24 is 576\n"
     ]
    }
   ],
   "source": [
    "for i in range(20,25):\n",
    "    print(f'the square of {i} is {i*i}')"
   ]
  },
  {
   "cell_type": "code",
   "execution_count": 38,
   "id": "972f16dd-8f22-433f-893b-b2a73e84c3d9",
   "metadata": {},
   "outputs": [
    {
     "name": "stdin",
     "output_type": "stream",
     "text": [
      "enter the num: 10\n"
     ]
    },
    {
     "name": "stdout",
     "output_type": "stream",
     "text": [
      "the square of 10 is 100\n"
     ]
    },
    {
     "name": "stdin",
     "output_type": "stream",
     "text": [
      "enter the num: 20\n"
     ]
    },
    {
     "name": "stdout",
     "output_type": "stream",
     "text": [
      "the square of 20 is 400\n"
     ]
    },
    {
     "name": "stdin",
     "output_type": "stream",
     "text": [
      "enter the num: 30\n"
     ]
    },
    {
     "name": "stdout",
     "output_type": "stream",
     "text": [
      "the square of 30 is 900\n"
     ]
    }
   ],
   "source": [
    "for i in range(221,224):\n",
    "    num=eval(input('enter the num:'))\n",
    "    print(f'the square of {num} is {num*num}')"
   ]
  },
  {
   "cell_type": "code",
   "execution_count": null,
   "id": "7a63295f-8d66-41fb-ae77-d16355a89aaf",
   "metadata": {},
   "outputs": [],
   "source": [
    "for i in range(221,224): ====> rotation"
   ]
  },
  {
   "cell_type": "markdown",
   "id": "10c066c9-333d-4fe2-bb83-78b0b1e993b1",
   "metadata": {},
   "source": [
    "**Case3: range(start,stop,step)**\n",
    "\n",
    "- when we see a format range(value1,value2,value3)\n",
    "\n",
    "- start = start\n",
    "\n",
    "- step:\n",
    "\n",
    "    - if step is a postive number consider as increment\n",
    "\n",
    "        - assume that step=2  increament +2\n",
    "    \n",
    "        - last value= stop-1\n",
    "\n",
    "    - if step is a negative number consider as decrement\n",
    "\n",
    "        - assume that step=-2 decrement -2\n",
    "\n",
    "        - last value= stop+1\n"
   ]
  },
  {
   "cell_type": "code",
   "execution_count": 43,
   "id": "6c22d0d5-80da-4b48-9d0a-d169b3b8c864",
   "metadata": {},
   "outputs": [
    {
     "name": "stdout",
     "output_type": "stream",
     "text": [
      "2 5 8 11 14 17 "
     ]
    }
   ],
   "source": [
    "# range(2,20,3)\n",
    "# start=2\n",
    "# step=3\n",
    "# last=stop-1: 20-1=19\n",
    "#2 3 4 5 6 7 8 9 10 11 12 13 14 15 16 17 18 19\n",
    "\n",
    "#2     5     8      11       14       17   \n",
    "for i in range(2,20,3):\n",
    "    print(i,end=' ')"
   ]
  },
  {
   "cell_type": "code",
   "execution_count": 47,
   "id": "8c62bc58-a051-48c1-a16f-9eefb74b3878",
   "metadata": {},
   "outputs": [
    {
     "name": "stdout",
     "output_type": "stream",
     "text": [
      "20 18 16 14 12 10 8 "
     ]
    }
   ],
   "source": [
    "# range(20,7,-2)\n",
    "# start=20\n",
    "# step =-2\n",
    "# last= stop+1 = 7+1=8\n",
    "\n",
    "# 20  19  18  17  16  15  14  13  12  11  10  9   8\n",
    "# 20      18      16      14      12      10      8\n",
    "\n",
    "for i in range(20,7,-2):\n",
    "    print(i,end=' ')"
   ]
  },
  {
   "cell_type": "code",
   "execution_count": 49,
   "id": "180ceaa6-f54d-4fa2-a381-6d33a9944e27",
   "metadata": {},
   "outputs": [],
   "source": [
    "# range(2,20,-2)\n",
    "# start=2\n",
    "# step=-2\n",
    "# last=stop+1= 20+1=21\n",
    "\n",
    "for i in range(2,20,-2):\n",
    "    print(i)"
   ]
  },
  {
   "cell_type": "code",
   "execution_count": 51,
   "id": "297f9f33-199f-4d11-93c0-0b0ff4b2818e",
   "metadata": {},
   "outputs": [],
   "source": [
    "for i in range(20,2,2):\n",
    "    print(i)"
   ]
  },
  {
   "cell_type": "code",
   "execution_count": null,
   "id": "6a7ac385-813a-4ee6-83ea-507e64fedee0",
   "metadata": {},
   "outputs": [],
   "source": [
    "range(-20,2,-2)  # NP\n",
    "range(-20,2,2)  # P"
   ]
  },
  {
   "cell_type": "code",
   "execution_count": null,
   "id": "f82b53f7-0ae7-49cb-a563-3c4b800cf227",
   "metadata": {},
   "outputs": [],
   "source": [
    "range(3,15,3) # P\n",
    "range(3,15,-3) # NP\n",
    "range(3,-15,3)  # NP\n",
    "range(3,-15,-3) # P\n",
    "range(-3,15,3)  # P\n",
    "range(-3,15,-3)  # NP\n",
    "range(-3,-15,3)  # NP\n",
    "range(-3,-15,-3)  # P\n",
    "range(15,3,3)  # NP\n",
    "range(15,3,-3)  # P\n",
    "range(15,-3,3)  # NP\n",
    "range(15,-3,-3) # P\n",
    "range(-15,3,3)  # P\n",
    "range(-15,-3,-3) # NP"
   ]
  },
  {
   "cell_type": "code",
   "execution_count": 1,
   "id": "e6145e96-78ad-490a-b577-2f507b82203d",
   "metadata": {},
   "outputs": [
    {
     "name": "stdout",
     "output_type": "stream",
     "text": [
      "25 23 21 19 17 15 13 11 9 7 5 3 1 -1 -3 -5 -7 -9 -11 -13 -15 -17 -19 -21 "
     ]
    }
   ],
   "source": [
    "for i in range(25,-22,-2):\n",
    "    print(i,end=' ')"
   ]
  },
  {
   "cell_type": "code",
   "execution_count": null,
   "id": "706a8cd1-aedd-4c25-8265-a7e382532f36",
   "metadata": {},
   "outputs": [],
   "source": [
    "# WAP ask the user print the 7th table\n",
    "# 7x1=7\n",
    "# 7x2=14\n",
    "#\n",
    "# 7x10=80\n",
    "\n",
    "# WAP ask the user find the number of divisiors of 75\n",
    "# idea if i divide 75 with any number the reminder should be zero"
   ]
  },
  {
   "cell_type": "code",
   "execution_count": 7,
   "id": "1ef28796-480f-458e-91cf-e8e83e4d1f85",
   "metadata": {},
   "outputs": [
    {
     "name": "stdin",
     "output_type": "stream",
     "text": [
      "enter the table num: 7\n"
     ]
    },
    {
     "name": "stdout",
     "output_type": "stream",
     "text": [
      "7x1=7\n",
      "7x2=14\n",
      "7x3=21\n",
      "7x4=28\n",
      "7x5=35\n",
      "7x6=42\n",
      "7x7=49\n",
      "7x8=56\n",
      "7x9=63\n",
      "7x10=70\n"
     ]
    }
   ],
   "source": [
    "num=eval(input('enter the table num:'))\n",
    "for i in range(1,11):\n",
    "    print(f\"{num}x{i}={num*i}\")"
   ]
  },
  {
   "cell_type": "code",
   "execution_count": 9,
   "id": "e896be50-89eb-4ee4-a6d2-07bc0cf742ae",
   "metadata": {},
   "outputs": [
    {
     "name": "stdout",
     "output_type": "stream",
     "text": [
      "1\n",
      "3\n",
      "5\n",
      "15\n",
      "25\n",
      "75\n"
     ]
    }
   ],
   "source": [
    "# WAP ask the user find the number of divisiors of 75\n",
    "# idea if i divide 75 with any number the reminder should be zero\n",
    "# 75%1==0\n",
    "# 75%2==0\n",
    "# 75%3==0\n",
    "\n",
    "# 75%75\n",
    "\n",
    "# 75%i==0\n",
    "\n",
    "for i in range(1,76):\n",
    "    if 75%i==0:\n",
    "        print(i)\n",
    "# step-1:  i=1  if 75%1==0  T   print(1)\n",
    "# step-2:  i=2  if 75%2==0  F\n",
    "# step-3: i=3   if 75%3==0  T   print(3)"
   ]
  },
  {
   "cell_type": "markdown",
   "id": "9aa94bfb-c938-47a8-873d-e926992e9b6a",
   "metadata": {},
   "source": [
    "**Summation wrapper**\n",
    "\n",
    "- if we want to perform any summation opertaion using loops\n",
    "\n",
    "- first intilaise summ=0 (if you want to start with zero)\n",
    "\n",
    "- update the summ inside loop using the variable i  summ=summ+i\n",
    "\n"
   ]
  },
  {
   "cell_type": "code",
   "execution_count": null,
   "id": "bde39aa6-8011-4943-b056-77874e2ea665",
   "metadata": {},
   "outputs": [],
   "source": [
    "# WAP ask the user find sum of First 10 natural numbers\n",
    "1+2+3+4+5+6+7+8+9+10=55\n",
    "\n",
    "0+1=1\n",
    "1+2=3\n",
    "3+3=6\n",
    "6+4=10\n",
    "10+5=15\n",
    "15+6=21\n",
    "21+7=28\n",
    "28+8=36\n",
    "36+9=45\n",
    "45+10=55\n",
    "\n",
    "a+b=c"
   ]
  },
  {
   "cell_type": "code",
   "execution_count": 15,
   "id": "ffa0faa3-7cd2-40d0-bf0d-d45cc0186868",
   "metadata": {},
   "outputs": [
    {
     "name": "stdout",
     "output_type": "stream",
     "text": [
      "1\n",
      "3\n",
      "6\n",
      "10\n",
      "15\n",
      "21\n",
      "28\n",
      "36\n",
      "45\n",
      "55\n"
     ]
    }
   ],
   "source": [
    "summ=0\n",
    "for i in range(1,11):\n",
    "    summ=summ+i\n",
    "    print(summ)\n",
    "\n",
    "# step-1: summ=0  i=1  summ=0+1=1   print(1)\n",
    "# step-2: summ=1  i=2  summ=1+2=3   print(3)"
   ]
  },
  {
   "cell_type": "code",
   "execution_count": 17,
   "id": "4c3ce068-c8b3-47f0-a2e2-530fa1c4a070",
   "metadata": {},
   "outputs": [
    {
     "name": "stdout",
     "output_type": "stream",
     "text": [
      "55\n"
     ]
    }
   ],
   "source": [
    "summ=0\n",
    "for i in range(1,11):\n",
    "    summ=summ+i\n",
    "    \n",
    "print(summ)"
   ]
  },
  {
   "cell_type": "code",
   "execution_count": 19,
   "id": "03ee4e62-2fa8-4a27-929d-14dcae2f309f",
   "metadata": {},
   "outputs": [
    {
     "name": "stdout",
     "output_type": "stream",
     "text": [
      "0\n",
      "1\n",
      "2\n",
      "3\n"
     ]
    }
   ],
   "source": [
    "for i in range(4):\n",
    "    print(i)"
   ]
  },
  {
   "cell_type": "code",
   "execution_count": 21,
   "id": "a57322c3-db26-4dd0-8b08-211115b2370a",
   "metadata": {},
   "outputs": [
    {
     "data": {
      "text/plain": [
       "3"
      ]
     },
     "execution_count": 21,
     "metadata": {},
     "output_type": "execute_result"
    }
   ],
   "source": [
    "i"
   ]
  },
  {
   "cell_type": "code",
   "execution_count": null,
   "id": "4379ac75-df3d-4130-a571-ec50ae925295",
   "metadata": {},
   "outputs": [],
   "source": [
    "# wap ask the user get some of even numbers between 1 to 100\n",
    "# wap ask the user get some of squares between 1 to 10\n",
    "# wap ask the user sum of numbers of digit\n",
    "#   digit=1234  ans=1+2+3+4=10\n"
   ]
  },
  {
   "cell_type": "code",
   "execution_count": 25,
   "id": "c350c0a8-9976-43dc-81b8-9a0274d42643",
   "metadata": {},
   "outputs": [
    {
     "name": "stdout",
     "output_type": "stream",
     "text": [
      "2550\n"
     ]
    }
   ],
   "source": [
    "summ=0\n",
    "for i in range(1,101):\n",
    "    if i%2==0:\n",
    "        summ+=i  # summ=summ+i\n",
    "print(summ)"
   ]
  },
  {
   "cell_type": "code",
   "execution_count": 29,
   "id": "87a507f6-e28f-4c7f-8be0-b7fe2d04620a",
   "metadata": {},
   "outputs": [
    {
     "name": "stdout",
     "output_type": "stream",
     "text": [
      "even_summ: 2550\n",
      "odd_summ: 2500\n"
     ]
    }
   ],
   "source": [
    "even_summ=0\n",
    "odd_summ=0\n",
    "for i in range(1,101):\n",
    "    if i%2==0:\n",
    "        even_summ=even_summ+i # even_summ+=i\n",
    "    else:\n",
    "        odd_summ+=i\n",
    "print('even_summ:',even_summ)\n",
    "print('odd_summ:',odd_summ)"
   ]
  },
  {
   "cell_type": "code",
   "execution_count": 33,
   "id": "50c9bb25-c2e7-4efa-9d13-fe0ac87ea365",
   "metadata": {},
   "outputs": [
    {
     "name": "stdout",
     "output_type": "stream",
     "text": [
      "even_num: 62\n",
      "odd_num: 15\n",
      "odd_num: 79\n",
      "odd_num: 39\n",
      "odd_num: 93\n",
      "even_summ: 62\n",
      "odd_summ: 226\n"
     ]
    }
   ],
   "source": [
    "# WAP ask the user get 5 random numbers\n",
    "# get the summ of even and odds\n",
    "from random import randint\n",
    "even_summ=0\n",
    "odd_summ=0\n",
    "for i in range(5):\n",
    "    num=randint(1,100)\n",
    "    if num%2==0:\n",
    "        print('even_num:',num)\n",
    "        even_summ=even_summ+num # even_summ+=i\n",
    "    else:\n",
    "        print('odd_num:',num)\n",
    "        odd_summ+=num\n",
    "print('even_summ:',even_summ)\n",
    "print('odd_summ:',odd_summ)\n",
    "\n",
    "# step-1: i=0  num=62 if 62%2==0 T eve=0+62=62"
   ]
  },
  {
   "cell_type": "code",
   "execution_count": 37,
   "id": "faee2006-7fa8-4b6b-98be-f02a21b75992",
   "metadata": {},
   "outputs": [
    {
     "name": "stdout",
     "output_type": "stream",
     "text": [
      "odd_num: 5\n",
      "even_num: 56\n",
      "odd_num: 69\n",
      "even_num: 14\n",
      "even_num: 52\n"
     ]
    }
   ],
   "source": [
    "e_s=0\n",
    "o_s=0\n",
    "for i in range(5):\n",
    "    num=randint(1,100)\n",
    "    if num%2==0:\n",
    "        print('even_num:',num)\n",
    "        e_s=e_s+num\n",
    "        \n",
    "    else:\n",
    "        print('odd_num:',num)\n",
    "        o_s=o_s+num\n"
   ]
  },
  {
   "cell_type": "code",
   "execution_count": 39,
   "id": "59765803-d6ef-4c49-bc60-dbd646913abb",
   "metadata": {},
   "outputs": [
    {
     "name": "stdout",
     "output_type": "stream",
     "text": [
      "helo\n",
      "helo\n",
      "helo\n"
     ]
    }
   ],
   "source": [
    "for i in range(3):\n",
    "    print('helo')"
   ]
  },
  {
   "cell_type": "markdown",
   "id": "c19df927-23cd-49ad-a8c5-f73ec6643076",
   "metadata": {},
   "source": [
    "**counter**"
   ]
  },
  {
   "cell_type": "code",
   "execution_count": 50,
   "id": "3fe39861-8aa6-48e2-90f1-999d872f54c3",
   "metadata": {},
   "outputs": [
    {
     "name": "stdout",
     "output_type": "stream",
     "text": [
      "even_num: 34\n",
      "even_num: 34\n",
      "even_num: 4\n",
      "even_num: 44\n",
      "odd_num: 41\n",
      "4\n",
      "1\n"
     ]
    }
   ],
   "source": [
    "even_count,odd_count=0,0\n",
    "for i in range(5):\n",
    "    num=randint(1,100)\n",
    "    if num%2==0:\n",
    "        print('even_num:',num) \n",
    "        even_count=even_count+1\n",
    "    else:\n",
    "        print('odd_num:',num)\n",
    "        odd_count=odd_count+1\n",
    "\n",
    "print(even_count)\n",
    "print(odd_count)"
   ]
  },
  {
   "cell_type": "code",
   "execution_count": null,
   "id": "d960c538-bfb0-411b-9fad-b207c0f632b3",
   "metadata": {},
   "outputs": [],
   "source": [
    "count=0\n",
    "for i in range(5):\n",
    "    num=randint(1,100)\n",
    "    if num%2==0:\n",
    "        print('even_num:',num) \n",
    "        count=count+1\n",
    "        \n",
    "\n",
    "print(count)"
   ]
  },
  {
   "cell_type": "markdown",
   "id": "d1503483-182d-40c4-a9e9-8589e29fca36",
   "metadata": {},
   "source": [
    "**in operator**\n"
   ]
  },
  {
   "cell_type": "code",
   "execution_count": 55,
   "id": "69e934d1-39f3-44b9-b27e-01117625241a",
   "metadata": {},
   "outputs": [
    {
     "data": {
      "text/plain": [
       "True"
      ]
     },
     "execution_count": 55,
     "metadata": {},
     "output_type": "execute_result"
    }
   ],
   "source": [
    "'p' in 'python'\n",
    "'y' in 'python'\n",
    "'t' in 'python'\n",
    "\n",
    "# i in 'python'"
   ]
  },
  {
   "cell_type": "markdown",
   "id": "7313f6b7-ee28-4ae3-8643-bad1d116ff9e",
   "metadata": {},
   "source": [
    "- we need to access the numbers using **range** \n",
    "\n",
    "- we need to access the char using only **in**\n",
    "\n",
    "- in operator gives the direct assignment      "
   ]
  },
  {
   "cell_type": "code",
   "execution_count": null,
   "id": "34bce6d4-5302-45b1-9255-5e14c17fd39a",
   "metadata": {},
   "outputs": [],
   "source": [
    "for i in range(1,10)  # w\n",
    "for i in range('python') # f\n",
    "for i in 12345   # f\n",
    "for i in 'python' # w\n",
    "for i in '12345'  # w\n",
    "str1='python'\n",
    "for i in str1   # w"
   ]
  },
  {
   "cell_type": "code",
   "execution_count": 60,
   "id": "1c48f78c-1af6-4b06-9d06-666e91dcf63b",
   "metadata": {},
   "outputs": [
    {
     "name": "stdout",
     "output_type": "stream",
     "text": [
      "p y t h o n "
     ]
    }
   ],
   "source": [
    "for i in 'python':\n",
    "    print(i,end=' ')"
   ]
  },
  {
   "cell_type": "code",
   "execution_count": 62,
   "id": "69443430-1c8b-4052-b2fd-53f77e441b4d",
   "metadata": {},
   "outputs": [
    {
     "name": "stdout",
     "output_type": "stream",
     "text": [
      "1 2 3 4 5 "
     ]
    }
   ],
   "source": [
    "for i in '12345':\n",
    "    print(i,end=' ')"
   ]
  },
  {
   "cell_type": "code",
   "execution_count": 64,
   "id": "c9eb8f06-94a2-478c-acb5-d306159ed78e",
   "metadata": {},
   "outputs": [
    {
     "name": "stdout",
     "output_type": "stream",
     "text": [
      "p\n",
      "y\n",
      "t\n",
      "h\n",
      "o\n",
      "n\n"
     ]
    }
   ],
   "source": [
    "str1='python'\n",
    "for i in str1:\n",
    "    print(i)"
   ]
  },
  {
   "cell_type": "code",
   "execution_count": 66,
   "id": "9036175e-f61f-48c9-97a3-9bfb9389fedb",
   "metadata": {},
   "outputs": [
    {
     "name": "stdin",
     "output_type": "stream",
     "text": [
      "enter the number: 20\n"
     ]
    },
    {
     "name": "stdout",
     "output_type": "stream",
     "text": [
      "even\n"
     ]
    }
   ],
   "source": [
    "# even odd code\n",
    "num=eval(input('enter the number:'))\n",
    "if num%2==0:\n",
    "    print('even')\n",
    "else:\n",
    "    print('odd')"
   ]
  },
  {
   "cell_type": "code",
   "execution_count": 68,
   "id": "84ce25d0-e28f-4ee4-963d-fbe9f27aebca",
   "metadata": {},
   "outputs": [
    {
     "name": "stdin",
     "output_type": "stream",
     "text": [
      "enter the number: 20\n"
     ]
    },
    {
     "name": "stdout",
     "output_type": "stream",
     "text": [
      "even\n"
     ]
    },
    {
     "name": "stdin",
     "output_type": "stream",
     "text": [
      "enter the number: 22\n"
     ]
    },
    {
     "name": "stdout",
     "output_type": "stream",
     "text": [
      "even\n"
     ]
    },
    {
     "name": "stdin",
     "output_type": "stream",
     "text": [
      "enter the number: 23\n"
     ]
    },
    {
     "name": "stdout",
     "output_type": "stream",
     "text": [
      "odd\n"
     ]
    },
    {
     "name": "stdin",
     "output_type": "stream",
     "text": [
      "enter the number: 25\n"
     ]
    },
    {
     "name": "stdout",
     "output_type": "stream",
     "text": [
      "odd\n"
     ]
    },
    {
     "name": "stdin",
     "output_type": "stream",
     "text": [
      "enter the number: 26\n"
     ]
    },
    {
     "name": "stdout",
     "output_type": "stream",
     "text": [
      "even\n"
     ]
    }
   ],
   "source": [
    "# 70 === 30\n",
    "even_summ=0   # even_summ=even_summ+i\n",
    "odd_summ=0\n",
    "for i in range(5): # 1\n",
    "    num=eval(input('enter the number:')) # 2\n",
    "    if num%2==0:  # 3\n",
    "        print('even') # 4\n",
    "        even_summ=even_summ+num\n",
    "    else:  # 5\n",
    "        print('odd') # 6\n",
    "        odd_summ=odd_summ+num"
   ]
  },
  {
   "cell_type": "code",
   "execution_count": null,
   "id": "90327c21-4d81-4fd9-ba7a-9a3c5cc285f6",
   "metadata": {},
   "outputs": [],
   "source": []
  }
 ],
 "metadata": {
  "kernelspec": {
   "display_name": "Python [conda env:base] *",
   "language": "python",
   "name": "conda-base-py"
  },
  "language_info": {
   "codemirror_mode": {
    "name": "ipython",
    "version": 3
   },
   "file_extension": ".py",
   "mimetype": "text/x-python",
   "name": "python",
   "nbconvert_exporter": "python",
   "pygments_lexer": "ipython3",
   "version": "3.12.7"
  }
 },
 "nbformat": 4,
 "nbformat_minor": 5
}
