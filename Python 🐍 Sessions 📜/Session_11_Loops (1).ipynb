{
 "cells": [
  {
   "cell_type": "code",
   "execution_count": null,
   "id": "714ed9e6-5ef6-4ab6-a21f-bd0dba05f6a8",
   "metadata": {},
   "outputs": [],
   "source": [
    "tax claulation ==== 4 lines\n",
    "\n",
    "100 employees === 100*4=400 lines\n",
    "\n",
    "idea: 4 lines === 1 line (function)  === 100times(loop) \n",
    "100*1=100\n",
    "\n",
    "1 line ==== 100line s"
   ]
  },
  {
   "cell_type": "code",
   "execution_count": 1,
   "id": "d06cfd7f-b706-489d-afa7-ce863896ba83",
   "metadata": {},
   "outputs": [
    {
     "name": "stdout",
     "output_type": "stream",
     "text": [
      "1\n",
      "2\n",
      "3\n",
      "4\n",
      "5\n"
     ]
    }
   ],
   "source": [
    "print(1)\n",
    "print(2)\n",
    "print(3)\n",
    "print(4)\n",
    "print(5)\n",
    "\n",
    "print(i)"
   ]
  },
  {
   "cell_type": "code",
   "execution_count": 3,
   "id": "949b6930-f69f-4d38-9b2d-a8151f99a3ed",
   "metadata": {},
   "outputs": [
    {
     "name": "stdout",
     "output_type": "stream",
     "text": [
      "0\n",
      "1\n",
      "2\n",
      "3\n",
      "4\n"
     ]
    }
   ],
   "source": [
    "for i in range(5):\n",
    "    print(i)"
   ]
  },
  {
   "cell_type": "markdown",
   "id": "b9c61824-a91b-4c2f-a784-0a27c84f73be",
   "metadata": {},
   "source": [
    "- same code we are using : Function\n",
    "\n",
    "- multiple times we are using : loop\n",
    "\n",
    "- every loop we need three pointers\n",
    "\n",
    "    - Intialization\n",
    "\n",
    "    - Increament or decrement\n",
    "\n",
    "    - Condition to stop\n",
    "\n",
    "- We have two types of loops\n",
    "\n",
    "    - for : is used to when we know how many time the loops should run\n",
    "\n",
    "    - while: is used when we dont know how many times\n",
    "\n",
    "        - but we know that the loop should run till condition True"
   ]
  },
  {
   "cell_type": "markdown",
   "id": "8ab68b6a-4879-4e66-9233-604607d25887",
   "metadata": {},
   "source": [
    "**For loop**"
   ]
  },
  {
   "cell_type": "markdown",
   "id": "4b26df4d-614d-4907-8d28-a95afb2b3cb3",
   "metadata": {},
   "source": [
    "**Case1: range(stop)**\n",
    "\n",
    "- when we see a format range(value)\n",
    "\n",
    "- start value by default 0\n",
    "\n",
    "- By default increment by +1\n",
    "\n",
    "- last value= stop-1\n",
    "\n",
    "- range(10)\n",
    "\n",
    "- start= 0  increment=1  last= 10-1=9  0,1,2,3,4,5,6,7,8,9"
   ]
  },
  {
   "cell_type": "code",
   "execution_count": null,
   "id": "15fd698f-a566-41f3-99f2-7282cf1ab3e0",
   "metadata": {},
   "outputs": [],
   "source": [
    "print(0)\n",
    "print(1)\n",
    "print(2)\n",
    "print(3)    # range(4)\n",
    "\n",
    "print(i)"
   ]
  },
  {
   "cell_type": "code",
   "execution_count": 8,
   "id": "8bc706e1-2321-4578-be2d-050d6f57bd8b",
   "metadata": {},
   "outputs": [
    {
     "name": "stdout",
     "output_type": "stream",
     "text": [
      "0\n",
      "1\n",
      "2\n",
      "3\n"
     ]
    }
   ],
   "source": [
    "for i in range(4):\n",
    "    print(i)"
   ]
  },
  {
   "cell_type": "code",
   "execution_count": null,
   "id": "5ec1ff2c-0d6e-48d9-aad3-1d5e04c170d4",
   "metadata": {},
   "outputs": [],
   "source": [
    "print('hello')\n",
    "print('hello')\n",
    "print('hello')   # range(2)\n",
    "\n",
    "print('hello')"
   ]
  },
  {
   "cell_type": "code",
   "execution_count": 12,
   "id": "7830bf3f-1190-4bdc-ae6b-675ee172f78f",
   "metadata": {},
   "outputs": [
    {
     "name": "stdout",
     "output_type": "stream",
     "text": [
      "hello\n",
      "hello\n",
      "hello\n"
     ]
    }
   ],
   "source": [
    "for i in range(3):\n",
    "    print('hello')"
   ]
  },
  {
   "cell_type": "code",
   "execution_count": null,
   "id": "dfa84d7d-5ccd-466f-b8fa-994c0ff50a2b",
   "metadata": {},
   "outputs": [],
   "source": [
    "for i in range(4):\n",
    "    print(i)\n",
    "\n",
    "for i in range(4):\n",
    "    print('hello')"
   ]
  },
  {
   "cell_type": "code",
   "execution_count": null,
   "id": "08366eda-024a-4b66-9865-c95405588e68",
   "metadata": {},
   "outputs": [],
   "source": [
    "# wap ask the use print the square of the number from 0 to 4\n",
    "# wap ask the user enter a number and print squre of the number\n",
    "#              the user should enter 4 times\n",
    "# wap ask the user get a random number and print square of the number\n",
    "#              the user should get 4 times random number"
   ]
  },
  {
   "cell_type": "code",
   "execution_count": 14,
   "id": "b74d0c99-25a8-4d82-8d7b-7b9b59843538",
   "metadata": {},
   "outputs": [
    {
     "name": "stdout",
     "output_type": "stream",
     "text": [
      "the square of 0 is 0\n",
      "the square of 1 is 1\n",
      "the square of 2 is 4\n",
      "the square of 3 is 9\n",
      "the square of 4 is 16\n"
     ]
    }
   ],
   "source": [
    "for i in range(0,5):\n",
    "    print(f'the square of {i} is {i*i}')"
   ]
  },
  {
   "cell_type": "code",
   "execution_count": 18,
   "id": "9d518bab-dbd0-47c1-a000-2b1f7415ab4e",
   "metadata": {},
   "outputs": [
    {
     "name": "stdout",
     "output_type": "stream",
     "text": [
      "0 time\n"
     ]
    },
    {
     "name": "stdin",
     "output_type": "stream",
     "text": [
      "enter the num: 7\n"
     ]
    },
    {
     "name": "stdout",
     "output_type": "stream",
     "text": [
      "the square of 7 is 49\n",
      "1 time\n"
     ]
    },
    {
     "name": "stdin",
     "output_type": "stream",
     "text": [
      "enter the num: 9\n"
     ]
    },
    {
     "name": "stdout",
     "output_type": "stream",
     "text": [
      "the square of 9 is 81\n",
      "2 time\n"
     ]
    },
    {
     "name": "stdin",
     "output_type": "stream",
     "text": [
      "enter the num: 7\n"
     ]
    },
    {
     "name": "stdout",
     "output_type": "stream",
     "text": [
      "the square of 7 is 49\n",
      "3 time\n"
     ]
    },
    {
     "name": "stdin",
     "output_type": "stream",
     "text": [
      "enter the num: 7\n"
     ]
    },
    {
     "name": "stdout",
     "output_type": "stream",
     "text": [
      "the square of 7 is 49\n",
      "4 time\n"
     ]
    },
    {
     "name": "stdin",
     "output_type": "stream",
     "text": [
      "enter the num: 8\n"
     ]
    },
    {
     "name": "stdout",
     "output_type": "stream",
     "text": [
      "the square of 8 is 64\n"
     ]
    }
   ],
   "source": [
    "for i in range(0,5):\n",
    "    print(f\"{i} time\")\n",
    "    num=eval(input('enter the num:'))\n",
    "    print(f'the square of {num} is {num*num}')"
   ]
  },
  {
   "cell_type": "code",
   "execution_count": 20,
   "id": "9916174e-8cb8-4a3f-8261-bc1268fa67ca",
   "metadata": {},
   "outputs": [
    {
     "name": "stdout",
     "output_type": "stream",
     "text": [
      "the square of 98 is 9604\n",
      "the square of 79 is 6241\n",
      "the square of 97 is 9409\n",
      "the square of 63 is 3969\n",
      "the square of 7 is 49\n"
     ]
    }
   ],
   "source": [
    "import random\n",
    "for i in range(0,5):\n",
    "    num=random.randint(1,100)\n",
    "    print(f'the square of {num} is {num*num}')"
   ]
  },
  {
   "cell_type": "code",
   "execution_count": null,
   "id": "2261e9d2-7a85-49f3-a02b-1663df690e00",
   "metadata": {},
   "outputs": [],
   "source": [
    "for i in range(5):\n",
    "    print(f'the square of {i} is {i*i}')\n",
    "\n",
    "for i in range(5):\n",
    "    print(f\"{i} time\")\n",
    "    num=eval(input('enter the num:'))\n",
    "    print(f'the square of {num} is {num*num}')\n",
    "\n",
    "import random\n",
    "for i in range(5):\n",
    "    num=random.randint(1,100)\n",
    "    print(f'the square of {num} is {num*num}')"
   ]
  },
  {
   "cell_type": "code",
   "execution_count": 22,
   "id": "1b9a1a1d-1267-4bee-a788-bae8bbdd0273",
   "metadata": {},
   "outputs": [
    {
     "name": "stdout",
     "output_type": "stream",
     "text": [
      "the square of 0 is 0\n",
      "the square of 1 is 1\n",
      "the square of 2 is 4\n",
      "the square of 3 is 9\n",
      "the square of 4 is 16\n"
     ]
    }
   ],
   "source": [
    "for i in range(5):\n",
    "    print(f'the square of {i} is {i*i}')"
   ]
  },
  {
   "cell_type": "code",
   "execution_count": null,
   "id": "3e2a1c77-4e6f-4393-989a-5b9ad8fccc5c",
   "metadata": {},
   "outputs": [],
   "source": [
    "range(5)  # s=0 1 last 4"
   ]
  },
  {
   "cell_type": "markdown",
   "id": "ffe230e7-e958-43f3-9691-9e61848a7299",
   "metadata": {},
   "source": [
    "**Case2: range(start,stop)**\n",
    "\n",
    "- when we see a format range(value1,value2)\n",
    "\n",
    "- start = start\n",
    "\n",
    "- By default increment by +1\n",
    "\n",
    "- last value= stop-1\n",
    "\n",
    "- range(5,10)\n",
    "\n",
    "- start= 5  increment=1  last= 10-1=9  5,6,7,8,9"
   ]
  },
  {
   "cell_type": "code",
   "execution_count": 28,
   "id": "983e6bfb-fff5-4433-8ed9-2a83aaae9eb2",
   "metadata": {},
   "outputs": [
    {
     "name": "stdout",
     "output_type": "stream",
     "text": [
      "5 6 7 8 9 "
     ]
    }
   ],
   "source": [
    "for i in range(5,10):\n",
    "    print(i,end=' ')"
   ]
  },
  {
   "cell_type": "code",
   "execution_count": 30,
   "id": "bc830b62-9959-4274-a92f-5dee5c62a2b3",
   "metadata": {},
   "outputs": [
    {
     "name": "stdout",
     "output_type": "stream",
     "text": [
      "5 6\n"
     ]
    }
   ],
   "source": [
    "print(5,end=' ')\n",
    "print(6)"
   ]
  },
  {
   "cell_type": "code",
   "execution_count": 32,
   "id": "3960a2e8-9bb2-483a-a972-bfe0eba66086",
   "metadata": {},
   "outputs": [
    {
     "name": "stdout",
     "output_type": "stream",
     "text": [
      "the square of 20 is 400\n",
      "the square of 21 is 441\n",
      "the square of 22 is 484\n",
      "the square of 23 is 529\n",
      "the square of 24 is 576\n"
     ]
    }
   ],
   "source": [
    "for i in range(20,25):\n",
    "    print(f'the square of {i} is {i*i}')"
   ]
  },
  {
   "cell_type": "code",
   "execution_count": 38,
   "id": "972f16dd-8f22-433f-893b-b2a73e84c3d9",
   "metadata": {},
   "outputs": [
    {
     "name": "stdin",
     "output_type": "stream",
     "text": [
      "enter the num: 10\n"
     ]
    },
    {
     "name": "stdout",
     "output_type": "stream",
     "text": [
      "the square of 10 is 100\n"
     ]
    },
    {
     "name": "stdin",
     "output_type": "stream",
     "text": [
      "enter the num: 20\n"
     ]
    },
    {
     "name": "stdout",
     "output_type": "stream",
     "text": [
      "the square of 20 is 400\n"
     ]
    },
    {
     "name": "stdin",
     "output_type": "stream",
     "text": [
      "enter the num: 30\n"
     ]
    },
    {
     "name": "stdout",
     "output_type": "stream",
     "text": [
      "the square of 30 is 900\n"
     ]
    }
   ],
   "source": [
    "for i in range(221,224):\n",
    "    num=eval(input('enter the num:'))\n",
    "    print(f'the square of {num} is {num*num}')"
   ]
  },
  {
   "cell_type": "code",
   "execution_count": null,
   "id": "7a63295f-8d66-41fb-ae77-d16355a89aaf",
   "metadata": {},
   "outputs": [],
   "source": [
    "for i in range(221,224): ====> rotation"
   ]
  },
  {
   "cell_type": "markdown",
   "id": "10c066c9-333d-4fe2-bb83-78b0b1e993b1",
   "metadata": {},
   "source": [
    "**Case3: range(start,stop,step)**\n",
    "\n",
    "- when we see a format range(value1,value2,value3)\n",
    "\n",
    "- start = start\n",
    "\n",
    "- step:\n",
    "\n",
    "    - if step is a postive number consider as increment\n",
    "\n",
    "        - assume that step=2  increament +2\n",
    "    \n",
    "        - last value= stop-1\n",
    "\n",
    "    - if step is a negative number consider as decrement\n",
    "\n",
    "        - assume that step=-2 decrement -2\n",
    "\n",
    "        - last value= stop+1\n"
   ]
  },
  {
   "cell_type": "code",
   "execution_count": 43,
   "id": "6c22d0d5-80da-4b48-9d0a-d169b3b8c864",
   "metadata": {},
   "outputs": [
    {
     "name": "stdout",
     "output_type": "stream",
     "text": [
      "2 5 8 11 14 17 "
     ]
    }
   ],
   "source": [
    "# range(2,20,3)\n",
    "# start=2\n",
    "# step=3\n",
    "# last=stop-1: 20-1=19\n",
    "#2 3 4 5 6 7 8 9 10 11 12 13 14 15 16 17 18 19\n",
    "\n",
    "#2     5     8      11       14       17   \n",
    "for i in range(2,20,3):\n",
    "    print(i,end=' ')"
   ]
  },
  {
   "cell_type": "code",
   "execution_count": 47,
   "id": "8c62bc58-a051-48c1-a16f-9eefb74b3878",
   "metadata": {},
   "outputs": [
    {
     "name": "stdout",
     "output_type": "stream",
     "text": [
      "20 18 16 14 12 10 8 "
     ]
    }
   ],
   "source": [
    "# range(20,7,-2)\n",
    "# start=20\n",
    "# step =-2\n",
    "# last= stop+1 = 7+1=8\n",
    "\n",
    "# 20  19  18  17  16  15  14  13  12  11  10  9   8\n",
    "# 20      18      16      14      12      10      8\n",
    "\n",
    "for i in range(20,7,-2):\n",
    "    print(i,end=' ')"
   ]
  },
  {
   "cell_type": "code",
   "execution_count": 49,
   "id": "180ceaa6-f54d-4fa2-a381-6d33a9944e27",
   "metadata": {},
   "outputs": [],
   "source": [
    "# range(2,20,-2)\n",
    "# start=2\n",
    "# step=-2\n",
    "# last=stop+1= 20+1=21\n",
    "\n",
    "for i in range(2,20,-2):\n",
    "    print(i)"
   ]
  },
  {
   "cell_type": "code",
   "execution_count": 51,
   "id": "297f9f33-199f-4d11-93c0-0b0ff4b2818e",
   "metadata": {},
   "outputs": [],
   "source": [
    "for i in range(20,2,2):\n",
    "    print(i)"
   ]
  },
  {
   "cell_type": "code",
   "execution_count": null,
   "id": "6a7ac385-813a-4ee6-83ea-507e64fedee0",
   "metadata": {},
   "outputs": [],
   "source": [
    "range(-20,2,-2)  # NP\n",
    "range(-20,2,2)  # P"
   ]
  },
  {
   "cell_type": "code",
   "execution_count": null,
   "id": "f82b53f7-0ae7-49cb-a563-3c4b800cf227",
   "metadata": {},
   "outputs": [],
   "source": [
    "range(3,15,3) # P\n",
    "range(3,15,-3) # NP\n",
    "range(3,-15,3)  # NP\n",
    "range(3,-15,-3) # P\n",
    "range(-3,15,3)  # P\n",
    "range(-3,15,-3)  # NP\n",
    "range(-3,-15,3)  # NP\n",
    "range(-3,-15,-3)  # P\n",
    "range(15,3,3)  # NP\n",
    "range(15,3,-3)  # P\n",
    "range(15,-3,3)  # NP\n",
    "range(15,-3,-3) # P\n",
    "range(-15,3,3)  # P\n",
    "range(-15,-3,-3) # NP"
   ]
  },
  {
   "cell_type": "code",
   "execution_count": 1,
   "id": "e6145e96-78ad-490a-b577-2f507b82203d",
   "metadata": {},
   "outputs": [
    {
     "name": "stdout",
     "output_type": "stream",
     "text": [
      "25 23 21 19 17 15 13 11 9 7 5 3 1 -1 -3 -5 -7 -9 -11 -13 -15 -17 -19 -21 "
     ]
    }
   ],
   "source": [
    "for i in range(25,-22,-2):\n",
    "    print(i,end=' ')"
   ]
  },
  {
   "cell_type": "code",
   "execution_count": null,
   "id": "706a8cd1-aedd-4c25-8265-a7e382532f36",
   "metadata": {},
   "outputs": [],
   "source": [
    "# WAP ask the user print the 7th table\n",
    "# 7x1=7\n",
    "# 7x2=14\n",
    "#\n",
    "# 7x10=80\n",
    "\n",
    "# WAP ask the user find the number of divisiors of 75\n",
    "# idea if i divide 75 with any number the reminder should be zero"
   ]
  },
  {
   "cell_type": "code",
   "execution_count": 7,
   "id": "1ef28796-480f-458e-91cf-e8e83e4d1f85",
   "metadata": {},
   "outputs": [
    {
     "name": "stdin",
     "output_type": "stream",
     "text": [
      "enter the table num: 7\n"
     ]
    },
    {
     "name": "stdout",
     "output_type": "stream",
     "text": [
      "7x1=7\n",
      "7x2=14\n",
      "7x3=21\n",
      "7x4=28\n",
      "7x5=35\n",
      "7x6=42\n",
      "7x7=49\n",
      "7x8=56\n",
      "7x9=63\n",
      "7x10=70\n"
     ]
    }
   ],
   "source": [
    "num=eval(input('enter the table num:'))\n",
    "for i in range(1,11):\n",
    "    print(f\"{num}x{i}={num*i}\")"
   ]
  },
  {
   "cell_type": "code",
   "execution_count": 9,
   "id": "e896be50-89eb-4ee4-a6d2-07bc0cf742ae",
   "metadata": {},
   "outputs": [
    {
     "name": "stdout",
     "output_type": "stream",
     "text": [
      "1\n",
      "3\n",
      "5\n",
      "15\n",
      "25\n",
      "75\n"
     ]
    }
   ],
   "source": [
    "# WAP ask the user find the number of divisiors of 75\n",
    "# idea if i divide 75 with any number the reminder should be zero\n",
    "# 75%1==0\n",
    "# 75%2==0\n",
    "# 75%3==0\n",
    "\n",
    "# 75%75\n",
    "\n",
    "# 75%i==0\n",
    "\n",
    "for i in range(1,76):\n",
    "    if 75%i==0:\n",
    "        print(i)\n",
    "# step-1:  i=1  if 75%1==0  T   print(1)\n",
    "# step-2:  i=2  if 75%2==0  F\n",
    "# step-3: i=3   if 75%3==0  T   print(3)"
   ]
  },
  {
   "cell_type": "markdown",
   "id": "9aa94bfb-c938-47a8-873d-e926992e9b6a",
   "metadata": {},
   "source": [
    "**Summation wrapper**\n",
    "\n",
    "- if we want to perform any summation opertaion using loops\n",
    "\n",
    "- first intilaise summ=0 (if you want to start with zero)\n",
    "\n",
    "- update the summ inside loop using the variable i  summ=summ+i\n",
    "\n"
   ]
  },
  {
   "cell_type": "code",
   "execution_count": null,
   "id": "bde39aa6-8011-4943-b056-77874e2ea665",
   "metadata": {},
   "outputs": [],
   "source": [
    "# WAP ask the user find sum of First 10 natural numbers\n",
    "1+2+3+4+5+6+7+8+9+10=55\n",
    "\n",
    "0+1=1\n",
    "1+2=3\n",
    "3+3=6\n",
    "6+4=10\n",
    "10+5=15\n",
    "15+6=21\n",
    "21+7=28\n",
    "28+8=36\n",
    "36+9=45\n",
    "45+10=55\n",
    "\n",
    "a+b=c"
   ]
  },
  {
   "cell_type": "code",
   "execution_count": 15,
   "id": "ffa0faa3-7cd2-40d0-bf0d-d45cc0186868",
   "metadata": {},
   "outputs": [
    {
     "name": "stdout",
     "output_type": "stream",
     "text": [
      "1\n",
      "3\n",
      "6\n",
      "10\n",
      "15\n",
      "21\n",
      "28\n",
      "36\n",
      "45\n",
      "55\n"
     ]
    }
   ],
   "source": [
    "summ=0\n",
    "for i in range(1,11):\n",
    "    summ=summ+i\n",
    "    print(summ)\n",
    "\n",
    "# step-1: summ=0  i=1  summ=0+1=1   print(1)\n",
    "# step-2: summ=1  i=2  summ=1+2=3   print(3)"
   ]
  },
  {
   "cell_type": "code",
   "execution_count": 17,
   "id": "4c3ce068-c8b3-47f0-a2e2-530fa1c4a070",
   "metadata": {},
   "outputs": [
    {
     "name": "stdout",
     "output_type": "stream",
     "text": [
      "55\n"
     ]
    }
   ],
   "source": [
    "summ=0\n",
    "for i in range(1,11):\n",
    "    summ=summ+i\n",
    "    \n",
    "print(summ)"
   ]
  },
  {
   "cell_type": "code",
   "execution_count": 19,
   "id": "03ee4e62-2fa8-4a27-929d-14dcae2f309f",
   "metadata": {},
   "outputs": [
    {
     "name": "stdout",
     "output_type": "stream",
     "text": [
      "0\n",
      "1\n",
      "2\n",
      "3\n"
     ]
    }
   ],
   "source": [
    "for i in range(4):\n",
    "    print(i)"
   ]
  },
  {
   "cell_type": "code",
   "execution_count": 21,
   "id": "a57322c3-db26-4dd0-8b08-211115b2370a",
   "metadata": {},
   "outputs": [
    {
     "data": {
      "text/plain": [
       "3"
      ]
     },
     "execution_count": 21,
     "metadata": {},
     "output_type": "execute_result"
    }
   ],
   "source": [
    "i"
   ]
  },
  {
   "cell_type": "code",
   "execution_count": null,
   "id": "4379ac75-df3d-4130-a571-ec50ae925295",
   "metadata": {},
   "outputs": [],
   "source": [
    "# wap ask the user get some of even numbers between 1 to 100\n",
    "# wap ask the user get some of squares between 1 to 10\n",
    "# wap ask the user sum of numbers of digit\n",
    "#   digit=1234  ans=1+2+3+4=10\n"
   ]
  },
  {
   "cell_type": "code",
   "execution_count": 25,
   "id": "c350c0a8-9976-43dc-81b8-9a0274d42643",
   "metadata": {},
   "outputs": [
    {
     "name": "stdout",
     "output_type": "stream",
     "text": [
      "2550\n"
     ]
    }
   ],
   "source": [
    "summ=0\n",
    "for i in range(1,101):\n",
    "    if i%2==0:\n",
    "        summ+=i  # summ=summ+i\n",
    "print(summ)"
   ]
  },
  {
   "cell_type": "code",
   "execution_count": 29,
   "id": "87a507f6-e28f-4c7f-8be0-b7fe2d04620a",
   "metadata": {},
   "outputs": [
    {
     "name": "stdout",
     "output_type": "stream",
     "text": [
      "even_summ: 2550\n",
      "odd_summ: 2500\n"
     ]
    }
   ],
   "source": [
    "even_summ=0\n",
    "odd_summ=0\n",
    "for i in range(1,101):\n",
    "    if i%2==0:\n",
    "        even_summ=even_summ+i # even_summ+=i\n",
    "    else:\n",
    "        odd_summ+=i\n",
    "print('even_summ:',even_summ)\n",
    "print('odd_summ:',odd_summ)"
   ]
  },
  {
   "cell_type": "code",
   "execution_count": 33,
   "id": "50c9bb25-c2e7-4efa-9d13-fe0ac87ea365",
   "metadata": {},
   "outputs": [
    {
     "name": "stdout",
     "output_type": "stream",
     "text": [
      "even_num: 62\n",
      "odd_num: 15\n",
      "odd_num: 79\n",
      "odd_num: 39\n",
      "odd_num: 93\n",
      "even_summ: 62\n",
      "odd_summ: 226\n"
     ]
    }
   ],
   "source": [
    "# WAP ask the user get 5 random numbers\n",
    "# get the summ of even and odds\n",
    "from random import randint\n",
    "even_summ=0\n",
    "odd_summ=0\n",
    "for i in range(5):\n",
    "    num=randint(1,100)\n",
    "    if num%2==0:\n",
    "        print('even_num:',num)\n",
    "        even_summ=even_summ+num # even_summ+=i\n",
    "    else:\n",
    "        print('odd_num:',num)\n",
    "        odd_summ+=num\n",
    "print('even_summ:',even_summ)\n",
    "print('odd_summ:',odd_summ)\n",
    "\n",
    "# step-1: i=0  num=62 if 62%2==0 T eve=0+62=62"
   ]
  },
  {
   "cell_type": "code",
   "execution_count": 37,
   "id": "faee2006-7fa8-4b6b-98be-f02a21b75992",
   "metadata": {},
   "outputs": [
    {
     "name": "stdout",
     "output_type": "stream",
     "text": [
      "odd_num: 5\n",
      "even_num: 56\n",
      "odd_num: 69\n",
      "even_num: 14\n",
      "even_num: 52\n"
     ]
    }
   ],
   "source": [
    "e_s=0\n",
    "o_s=0\n",
    "for i in range(5):\n",
    "    num=randint(1,100)\n",
    "    if num%2==0:\n",
    "        print('even_num:',num)\n",
    "        e_s=e_s+num\n",
    "        \n",
    "    else:\n",
    "        print('odd_num:',num)\n",
    "        o_s=o_s+num\n"
   ]
  },
  {
   "cell_type": "code",
   "execution_count": 39,
   "id": "59765803-d6ef-4c49-bc60-dbd646913abb",
   "metadata": {},
   "outputs": [
    {
     "name": "stdout",
     "output_type": "stream",
     "text": [
      "helo\n",
      "helo\n",
      "helo\n"
     ]
    }
   ],
   "source": [
    "for i in range(3):\n",
    "    print('helo')"
   ]
  },
  {
   "cell_type": "markdown",
   "id": "c19df927-23cd-49ad-a8c5-f73ec6643076",
   "metadata": {},
   "source": [
    "**counter**"
   ]
  },
  {
   "cell_type": "code",
   "execution_count": 50,
   "id": "3fe39861-8aa6-48e2-90f1-999d872f54c3",
   "metadata": {},
   "outputs": [
    {
     "name": "stdout",
     "output_type": "stream",
     "text": [
      "even_num: 34\n",
      "even_num: 34\n",
      "even_num: 4\n",
      "even_num: 44\n",
      "odd_num: 41\n",
      "4\n",
      "1\n"
     ]
    }
   ],
   "source": [
    "even_count,odd_count=0,0\n",
    "for i in range(5):\n",
    "    num=randint(1,100)\n",
    "    if num%2==0:\n",
    "        print('even_num:',num) \n",
    "        even_count=even_count+1\n",
    "    else:\n",
    "        print('odd_num:',num)\n",
    "        odd_count=odd_count+1\n",
    "\n",
    "print(even_count)\n",
    "print(odd_count)"
   ]
  },
  {
   "cell_type": "code",
   "execution_count": null,
   "id": "d960c538-bfb0-411b-9fad-b207c0f632b3",
   "metadata": {},
   "outputs": [],
   "source": [
    "count=0\n",
    "for i in range(5):\n",
    "    num=randint(1,100)\n",
    "    if num%2==0:\n",
    "        print('even_num:',num) \n",
    "        count=count+1\n",
    "        \n",
    "\n",
    "print(count)"
   ]
  },
  {
   "cell_type": "markdown",
   "id": "d1503483-182d-40c4-a9e9-8589e29fca36",
   "metadata": {},
   "source": [
    "**in operator**\n"
   ]
  },
  {
   "cell_type": "code",
   "execution_count": 55,
   "id": "69e934d1-39f3-44b9-b27e-01117625241a",
   "metadata": {},
   "outputs": [
    {
     "data": {
      "text/plain": [
       "True"
      ]
     },
     "execution_count": 55,
     "metadata": {},
     "output_type": "execute_result"
    }
   ],
   "source": [
    "'p' in 'python'\n",
    "'y' in 'python'\n",
    "'t' in 'python'\n",
    "\n",
    "# i in 'python'"
   ]
  },
  {
   "cell_type": "markdown",
   "id": "7313f6b7-ee28-4ae3-8643-bad1d116ff9e",
   "metadata": {},
   "source": [
    "- we need to access the numbers using **range** \n",
    "\n",
    "- we need to access the char using only **in**\n",
    "\n",
    "- in operator gives the direct assignment      "
   ]
  },
  {
   "cell_type": "code",
   "execution_count": null,
   "id": "34bce6d4-5302-45b1-9255-5e14c17fd39a",
   "metadata": {},
   "outputs": [],
   "source": [
    "for i in range(1,10)  # w\n",
    "for i in range('python') # f\n",
    "for i in 12345   # f\n",
    "for i in 'python' # w\n",
    "for i in '12345'  # w\n",
    "str1='python'\n",
    "for i in str1   # w"
   ]
  },
  {
   "cell_type": "code",
   "execution_count": 60,
   "id": "1c48f78c-1af6-4b06-9d06-666e91dcf63b",
   "metadata": {},
   "outputs": [
    {
     "name": "stdout",
     "output_type": "stream",
     "text": [
      "p y t h o n "
     ]
    }
   ],
   "source": [
    "for i in 'python':\n",
    "    print(i,end=' ')"
   ]
  },
  {
   "cell_type": "code",
   "execution_count": 62,
   "id": "69443430-1c8b-4052-b2fd-53f77e441b4d",
   "metadata": {},
   "outputs": [
    {
     "name": "stdout",
     "output_type": "stream",
     "text": [
      "1 2 3 4 5 "
     ]
    }
   ],
   "source": [
    "for i in '12345':\n",
    "    print(i,end=' ')"
   ]
  },
  {
   "cell_type": "code",
   "execution_count": 64,
   "id": "c9eb8f06-94a2-478c-acb5-d306159ed78e",
   "metadata": {},
   "outputs": [
    {
     "name": "stdout",
     "output_type": "stream",
     "text": [
      "p\n",
      "y\n",
      "t\n",
      "h\n",
      "o\n",
      "n\n"
     ]
    }
   ],
   "source": [
    "str1='python'\n",
    "for i in str1:\n",
    "    print(i)"
   ]
  },
  {
   "cell_type": "code",
   "execution_count": 66,
   "id": "9036175e-f61f-48c9-97a3-9bfb9389fedb",
   "metadata": {},
   "outputs": [
    {
     "name": "stdin",
     "output_type": "stream",
     "text": [
      "enter the number: 20\n"
     ]
    },
    {
     "name": "stdout",
     "output_type": "stream",
     "text": [
      "even\n"
     ]
    }
   ],
   "source": [
    "# even odd code\n",
    "num=eval(input('enter the number:'))\n",
    "if num%2==0:\n",
    "    print('even')\n",
    "else:\n",
    "    print('odd')"
   ]
  },
  {
   "cell_type": "code",
   "execution_count": 68,
   "id": "84ce25d0-e28f-4ee4-963d-fbe9f27aebca",
   "metadata": {},
   "outputs": [
    {
     "name": "stdin",
     "output_type": "stream",
     "text": [
      "enter the number: 20\n"
     ]
    },
    {
     "name": "stdout",
     "output_type": "stream",
     "text": [
      "even\n"
     ]
    },
    {
     "name": "stdin",
     "output_type": "stream",
     "text": [
      "enter the number: 22\n"
     ]
    },
    {
     "name": "stdout",
     "output_type": "stream",
     "text": [
      "even\n"
     ]
    },
    {
     "name": "stdin",
     "output_type": "stream",
     "text": [
      "enter the number: 23\n"
     ]
    },
    {
     "name": "stdout",
     "output_type": "stream",
     "text": [
      "odd\n"
     ]
    },
    {
     "name": "stdin",
     "output_type": "stream",
     "text": [
      "enter the number: 25\n"
     ]
    },
    {
     "name": "stdout",
     "output_type": "stream",
     "text": [
      "odd\n"
     ]
    },
    {
     "name": "stdin",
     "output_type": "stream",
     "text": [
      "enter the number: 26\n"
     ]
    },
    {
     "name": "stdout",
     "output_type": "stream",
     "text": [
      "even\n"
     ]
    }
   ],
   "source": [
    "# 70 === 30\n",
    "even_summ=0   # even_summ=even_summ+i\n",
    "odd_summ=0\n",
    "for i in range(5): # 1\n",
    "    num=eval(input('enter the number:')) # 2\n",
    "    if num%2==0:  # 3\n",
    "        print('even') # 4\n",
    "        even_summ=even_summ+num\n",
    "    else:  # 5\n",
    "        print('odd') # 6\n",
    "        odd_summ=odd_summ+num"
   ]
  },
  {
   "cell_type": "code",
   "execution_count": null,
   "id": "90327c21-4d81-4fd9-ba7a-9a3c5cc285f6",
   "metadata": {},
   "outputs": [],
   "source": [
    "# wap ask the user sum of numbers of digit\n",
    "#   digit=1234  ans=1+2+3+4=10\n",
    "# idea \n",
    "# step-1: first enter the number =1234\n",
    "# step-2: convert into string\n",
    "# step-3: itertae using for loop in opertaor\n",
    "# step-4:    summ=summ+int(i)"
   ]
  },
  {
   "cell_type": "code",
   "execution_count": null,
   "id": "db5e7560-0234-4a19-922a-c3a227652e73",
   "metadata": {},
   "outputs": [],
   "source": [
    "for i in range(1234) # 1234 times\n",
    "for i in 1234    # wrong\n",
    "for i in '1234'  # correct\n",
    "1 2 3 4\n",
    "'1'  '2'  '3'  '4'\n",
    "'1'+'2'+'3'+'4'= '1234'\n",
    "1+2+3+4\n",
    "\n",
    "total=0\n",
    "total=total+i ==== you know"
   ]
  },
  {
   "cell_type": "code",
   "execution_count": 7,
   "id": "e449e448-c08b-46bd-bbb9-7c11735f84ee",
   "metadata": {},
   "outputs": [
    {
     "name": "stdin",
     "output_type": "stream",
     "text": [
      "enter the num: 1234\n"
     ]
    },
    {
     "name": "stdout",
     "output_type": "stream",
     "text": [
      "10\n"
     ]
    }
   ],
   "source": [
    "num=eval(input('enter the num:')) # int\n",
    "total=0  # int\n",
    "for i in str(num):  # convert string\n",
    "    total=total+int(i)  # int+str   error\n",
    "    total=total+i\n",
    "    total = int+\n",
    "\n",
    "print(total)"
   ]
  },
  {
   "cell_type": "code",
   "execution_count": 9,
   "id": "0fc4d5f9-ee8a-4468-abcf-c9907d65ae80",
   "metadata": {},
   "outputs": [
    {
     "name": "stdin",
     "output_type": "stream",
     "text": [
      "enter the num: 1234\n"
     ]
    },
    {
     "name": "stdout",
     "output_type": "stream",
     "text": [
      "1\n",
      "2\n",
      "3\n",
      "4\n"
     ]
    }
   ],
   "source": [
    "num=eval(input('enter the num:')) \n",
    "total=0  \n",
    "for i in str(num):\n",
    "    print(i)\n",
    "    total=total+i  # 0+int('1')=0+1"
   ]
  },
  {
   "cell_type": "code",
   "execution_count": null,
   "id": "d98d34f2-6ad8-4e69-80e9-e2a7c631cb8b",
   "metadata": {},
   "outputs": [],
   "source": [
    "# wap ask the user enter a random number\n",
    "#     ask the user get a number from keyboard\n",
    "#     if both numbers are equal print won\n",
    "#     otherwise loss\n",
    "#     give 3 chances "
   ]
  },
  {
   "cell_type": "code",
   "execution_count": 11,
   "id": "5a73d45c-a6bc-4c3f-8b6c-f84d36f6693a",
   "metadata": {},
   "outputs": [
    {
     "name": "stdin",
     "output_type": "stream",
     "text": [
      "enter the num: 3\n"
     ]
    },
    {
     "name": "stdout",
     "output_type": "stream",
     "text": [
      "loss\n"
     ]
    },
    {
     "name": "stdin",
     "output_type": "stream",
     "text": [
      "enter the num: 7\n"
     ]
    },
    {
     "name": "stdout",
     "output_type": "stream",
     "text": [
      "loss\n"
     ]
    },
    {
     "name": "stdin",
     "output_type": "stream",
     "text": [
      "enter the num: 5\n"
     ]
    },
    {
     "name": "stdout",
     "output_type": "stream",
     "text": [
      "loss\n"
     ]
    }
   ],
   "source": [
    "from random import randint\n",
    "for i in range(3):\n",
    "    random_num=randint(1,10)\n",
    "    num=eval(input('enter the num:'))\n",
    "    if random_num==num:\n",
    "        print('won')\n",
    "    else:\n",
    "        print('loss')"
   ]
  },
  {
   "cell_type": "code",
   "execution_count": 19,
   "id": "9b9ac4a3-3ed8-4e93-a9ce-40e79b224cb5",
   "metadata": {},
   "outputs": [
    {
     "name": "stdout",
     "output_type": "stream",
     "text": [
      "5\n"
     ]
    },
    {
     "name": "stdin",
     "output_type": "stream",
     "text": [
      "enter the num: 5\n"
     ]
    },
    {
     "name": "stdout",
     "output_type": "stream",
     "text": [
      "won\n"
     ]
    }
   ],
   "source": [
    "from random import randint\n",
    "for i in range(3):\n",
    "    random_num=randint(1,10)\n",
    "    print(random_num)\n",
    "    num=eval(input('enter the num:'))\n",
    "    if random_num==num:\n",
    "        print('won')\n",
    "        break\n",
    "    else:\n",
    "        print('loss')"
   ]
  },
  {
   "cell_type": "code",
   "execution_count": 21,
   "id": "275b5726-f135-48dd-8778-e0a266bb3fed",
   "metadata": {},
   "outputs": [
    {
     "name": "stdin",
     "output_type": "stream",
     "text": [
      "how many chances wants to give 5\n"
     ]
    },
    {
     "name": "stdout",
     "output_type": "stream",
     "text": [
      "4\n"
     ]
    },
    {
     "name": "stdin",
     "output_type": "stream",
     "text": [
      "enter the num: 7\n"
     ]
    },
    {
     "name": "stdout",
     "output_type": "stream",
     "text": [
      "loss\n",
      "you left 4\n",
      "6\n"
     ]
    },
    {
     "name": "stdin",
     "output_type": "stream",
     "text": [
      "enter the num: 9\n"
     ]
    },
    {
     "name": "stdout",
     "output_type": "stream",
     "text": [
      "loss\n",
      "you left 3\n",
      "6\n"
     ]
    },
    {
     "name": "stdin",
     "output_type": "stream",
     "text": [
      "enter the num: 9\n"
     ]
    },
    {
     "name": "stdout",
     "output_type": "stream",
     "text": [
      "loss\n",
      "you left 2\n",
      "2\n"
     ]
    },
    {
     "name": "stdin",
     "output_type": "stream",
     "text": [
      "enter the num: 4\n"
     ]
    },
    {
     "name": "stdout",
     "output_type": "stream",
     "text": [
      "loss\n",
      "you left 1\n",
      "8\n"
     ]
    },
    {
     "name": "stdin",
     "output_type": "stream",
     "text": [
      "enter the num: 0\n"
     ]
    },
    {
     "name": "stdout",
     "output_type": "stream",
     "text": [
      "loss\n",
      "you left 0\n"
     ]
    }
   ],
   "source": [
    "from random import randint\n",
    "chances=eval(input('how many chances wants to give'))\n",
    "for i in range(chances):\n",
    "    random_num=randint(1,10)\n",
    "    print(random_num)\n",
    "    num=eval(input('enter the num:'))\n",
    "    if random_num==num:\n",
    "        print('won')\n",
    "        break\n",
    "    else:\n",
    "        chances=chances-1\n",
    "        print('loss')\n",
    "        print(f'you left {chances} chances')\n",
    "    "
   ]
  },
  {
   "cell_type": "code",
   "execution_count": 27,
   "id": "630d2136-2ce5-458f-a50d-b2e2583b3870",
   "metadata": {},
   "outputs": [
    {
     "name": "stdin",
     "output_type": "stream",
     "text": [
      "how many chances wants to give 3\n"
     ]
    },
    {
     "name": "stdout",
     "output_type": "stream",
     "text": [
      "1\n"
     ]
    },
    {
     "name": "stdin",
     "output_type": "stream",
     "text": [
      "enter the num: 9\n"
     ]
    },
    {
     "name": "stdout",
     "output_type": "stream",
     "text": [
      "loss\n",
      "you left 2 chances\n",
      "10\n"
     ]
    },
    {
     "name": "stdin",
     "output_type": "stream",
     "text": [
      "enter the num: 5\n"
     ]
    },
    {
     "name": "stdout",
     "output_type": "stream",
     "text": [
      "loss\n",
      "you left 1 chances\n",
      "6\n"
     ]
    },
    {
     "name": "stdin",
     "output_type": "stream",
     "text": [
      "enter the num: 9\n"
     ]
    },
    {
     "name": "stdout",
     "output_type": "stream",
     "text": [
      "loss\n",
      "all chances are over try after 24hours\n"
     ]
    }
   ],
   "source": []
  },
  {
   "cell_type": "code",
   "execution_count": null,
   "id": "7511af50-0652-4ff9-8f8b-b8fedb960d50",
   "metadata": {},
   "outputs": [],
   "source": [
    "'p'=='P' \n",
    "'p'>'P'  \n",
    "'p'<'P'   "
   ]
  },
  {
   "cell_type": "markdown",
   "id": "7ffb50b9-4bb1-4ce5-94b8-e07beb69123d",
   "metadata": {},
   "source": [
    "## American Standard Code Information Interchange"
   ]
  },
  {
   "cell_type": "markdown",
   "id": "1e05d183-60c9-41e0-bab8-956d87745d9d",
   "metadata": {},
   "source": [
    "- Every charcter we have a number associated\n",
    "\n",
    "- in order to know that we need to inbuilt functions\n",
    "\n",
    "    - chr\n",
    "\n",
    "    - ord"
   ]
  },
  {
   "cell_type": "code",
   "execution_count": 33,
   "id": "36bf2490-3b58-410c-9f65-4f5edf318bd2",
   "metadata": {},
   "outputs": [
    {
     "data": {
      "text/plain": [
       "(112, 80)"
      ]
     },
     "execution_count": 33,
     "metadata": {},
     "output_type": "execute_result"
    }
   ],
   "source": [
    "ord('p'),ord('P')\n",
    "\n",
    "# 'p'>'P'   112>80   True"
   ]
  },
  {
   "cell_type": "code",
   "execution_count": 35,
   "id": "d6343ff8-eeac-4384-bd22-4075307e13d2",
   "metadata": {},
   "outputs": [
    {
     "data": {
      "text/plain": [
       "True"
      ]
     },
     "execution_count": 35,
     "metadata": {},
     "output_type": "execute_result"
    }
   ],
   "source": [
    "'p'>'P'   # 112>80"
   ]
  },
  {
   "cell_type": "code",
   "execution_count": 42,
   "id": "85f166f6-e14c-49ce-88f9-dec83f6e1779",
   "metadata": {},
   "outputs": [
    {
     "data": {
      "text/plain": [
       "('p', 'P')"
      ]
     },
     "execution_count": 42,
     "metadata": {},
     "output_type": "execute_result"
    }
   ],
   "source": [
    "chr(112),chr(80)"
   ]
  },
  {
   "cell_type": "code",
   "execution_count": 46,
   "id": "c032aa17-53fd-4cd7-92bf-a5f757314ede",
   "metadata": {},
   "outputs": [
    {
     "name": "stdout",
     "output_type": "stream",
     "text": [
      "a:97,p:112,p:112,l:108,e:101,"
     ]
    }
   ],
   "source": [
    "# provide me all ascii numbers of A to Z\n",
    "# 'A':65, 'B':66 ....\n",
    "# Take 'A' as input\n",
    "\n",
    "for i in 'apple':\n",
    "    print(f\"{i}:{ord(i)}\",end=',')"
   ]
  },
  {
   "cell_type": "code",
   "execution_count": 48,
   "id": "7b72705a-5b35-466b-8f59-89a4e3543c8b",
   "metadata": {},
   "outputs": [
    {
     "name": "stdout",
     "output_type": "stream",
     "text": [
      "a 97\n",
      "p 112\n",
      "p 112\n",
      "l 108\n",
      "e 101\n"
     ]
    }
   ],
   "source": [
    "for i in 'apple':\n",
    "    print(i,ord(i))"
   ]
  },
  {
   "cell_type": "code",
   "execution_count": 54,
   "id": "7be225ba-ce85-4413-b87c-9e548fea51fc",
   "metadata": {},
   "outputs": [
    {
     "name": "stdout",
     "output_type": "stream",
     "text": [
      "A 65\n",
      "B 66\n",
      "C 67\n",
      "D 68\n",
      "E 69\n",
      "F 70\n",
      "G 71\n",
      "H 72\n",
      "I 73\n",
      "J 74\n",
      "K 75\n",
      "L 76\n",
      "M 77\n",
      "N 78\n",
      "O 79\n",
      "P 80\n",
      "Q 81\n",
      "R 82\n",
      "S 83\n",
      "T 84\n",
      "U 85\n",
      "V 86\n",
      "W 87\n",
      "X 88\n",
      "Y 89\n",
      "Z 90\n"
     ]
    }
   ],
   "source": [
    "import string\n",
    "str1=string.ascii_uppercase\n",
    "for i in str1:\n",
    "    print(i,ord(i))"
   ]
  },
  {
   "cell_type": "code",
   "execution_count": 62,
   "id": "3afca2c4-cad6-464b-8b57-b509b9389aab",
   "metadata": {},
   "outputs": [
    {
     "name": "stdout",
     "output_type": "stream",
     "text": [
      "50 : 2,51 : 3,52 : 4,53 : 5,54 : 6,55 : 7,56 : 8,57 : 9,58 : :,59 : ;,60 : <,61 : =,62 : >,63 : ?,64 : @,65 : A,66 : B,67 : C,68 : D,69 : E,70 : F,71 : G,72 : H,73 : I,74 : J,75 : K,76 : L,77 : M,78 : N,79 : O,80 : P,81 : Q,82 : R,83 : S,84 : T,85 : U,86 : V,87 : W,88 : X,89 : Y,90 : Z,91 : [,92 : \\,93 : ],94 : ^,95 : _,96 : `,97 : a,98 : b,99 : c,"
     ]
    }
   ],
   "source": [
    "# i want to know\n",
    "# in ascii database what is start and end number\n",
    "for i in range(50,100):\n",
    "    print(i,\":\",chr(i),end=',')"
   ]
  },
  {
   "cell_type": "code",
   "execution_count": 70,
   "id": "f67bc59d-7716-4d56-9ece-e3c64bf0fe97",
   "metadata": {},
   "outputs": [
    {
     "name": "stdout",
     "output_type": "stream",
     "text": [
      "32 :  ,33 : !,34 : \",35 : #,36 : $,37 : %,38 : &,39 : ',40 : (,41 : ),42 : *,43 : +,44 : ,,45 : -,46 : .,47 : /,48 : 0,49 : 1,50 : 2,51 : 3,52 : 4,53 : 5,54 : 6,55 : 7,56 : 8,57 : 9,58 : :,59 : ;,60 : <,61 : =,62 : >,63 : ?,64 : @,65 : A,66 : B,67 : C,68 : D,69 : E,70 : F,71 : G,72 : H,73 : I,74 : J,75 : K,76 : L,77 : M,78 : N,79 : O,80 : P,81 : Q,82 : R,83 : S,84 : T,85 : U,86 : V,87 : W,88 : X,89 : Y,90 : Z,91 : [,92 : \\,93 : ],94 : ^,95 : _,96 : `,97 : a,98 : b,99 : c,100 : d,101 : e,102 : f,103 : g,104 : h,105 : i,106 : j,107 : k,108 : l,109 : m,110 : n,111 : o,112 : p,113 : q,114 : r,115 : s,116 : t,117 : u,118 : v,119 : w,120 : x,121 : y,122 : z,123 : {,124 : |,125 : },126 : ~,127 : ,128 : ,129 : ,"
     ]
    }
   ],
   "source": [
    "for i in range(32,130):\n",
    "    print(i,\":\",chr(i),end=',')"
   ]
  },
  {
   "cell_type": "code",
   "execution_count": 72,
   "id": "3f7aa837-d9bc-44ea-a533-39af851071d1",
   "metadata": {},
   "outputs": [
    {
     "name": "stdout",
     "output_type": "stream",
     "text": [
      "200 : È,201 : É,202 : Ê,203 : Ë,204 : Ì,205 : Í,206 : Î,207 : Ï,208 : Ð,209 : Ñ,210 : Ò,211 : Ó,212 : Ô,213 : Õ,214 : Ö,215 : ×,216 : Ø,217 : Ù,218 : Ú,219 : Û,220 : Ü,221 : Ý,222 : Þ,223 : ß,224 : à,225 : á,226 : â,227 : ã,228 : ä,229 : å,230 : æ,231 : ç,232 : è,233 : é,234 : ê,235 : ë,236 : ì,237 : í,238 : î,239 : ï,240 : ð,241 : ñ,242 : ò,243 : ó,244 : ô,245 : õ,246 : ö,247 : ÷,248 : ø,249 : ù,250 : ú,251 : û,252 : ü,253 : ý,254 : þ,255 : ÿ,256 : Ā,257 : ā,258 : Ă,259 : ă,260 : Ą,261 : ą,262 : Ć,263 : ć,264 : Ĉ,265 : ĉ,266 : Ċ,267 : ċ,268 : Č,269 : č,270 : Ď,271 : ď,272 : Đ,273 : đ,274 : Ē,275 : ē,276 : Ĕ,277 : ĕ,278 : Ė,279 : ė,280 : Ę,281 : ę,282 : Ě,283 : ě,284 : Ĝ,285 : ĝ,286 : Ğ,287 : ğ,288 : Ġ,289 : ġ,290 : Ģ,291 : ģ,292 : Ĥ,293 : ĥ,294 : Ħ,295 : ħ,296 : Ĩ,297 : ĩ,298 : Ī,299 : ī,"
     ]
    }
   ],
   "source": [
    "for i in range(200,300):\n",
    "    print(i,\":\",chr(i),end=',')"
   ]
  },
  {
   "cell_type": "code",
   "execution_count": 74,
   "id": "b9adbaa1-0765-42e1-9d26-123ccb225a0b",
   "metadata": {},
   "outputs": [
    {
     "name": "stdout",
     "output_type": "stream",
     "text": [
      "2308 : ऄ,2309 : अ,2310 : आ,2311 : इ,2312 : ई,2313 : उ,2314 : ऊ,2315 : ऋ,2316 : ऌ,2317 : ऍ,2318 : ऎ,2319 : ए,2320 : ऐ,2321 : ऑ,2322 : ऒ,2323 : ओ,2324 : औ,2325 : क,2326 : ख,2327 : ग,2328 : घ,2329 : ङ,2330 : च,2331 : छ,2332 : ज,2333 : झ,2334 : ञ,2335 : ट,2336 : ठ,2337 : ड,2338 : ढ,2339 : ण,2340 : त,2341 : थ,2342 : द,2343 : ध,2344 : न,2345 : ऩ,2346 : प,2347 : फ,2348 : ब,2349 : भ,2350 : म,2351 : य,2352 : र,2353 : ऱ,2354 : ल,2355 : ळ,2356 : ऴ,2357 : व,2358 : श,2359 : ष,2360 : स,2361 : ह,2362 : ऺ,2363 : ऻ,2364 : ़,2365 : ऽ,2366 : ा,2367 : ि,2368 : ी,2369 : ु,2370 : ू,2371 : ृ,2372 : ॄ,2373 : ॅ,2374 : ॆ,2375 : े,2376 : ै,2377 : ॉ,2378 : ॊ,2379 : ो,2380 : ौ,2381 : ्,2382 : ॎ,2383 : ॏ,2384 : ॐ,2385 : ॑,2386 : ॒,2387 : ॓,2388 : ॔,2389 : ॕ,2390 : ॖ,2391 : ॗ,2392 : क़,2393 : ख़,2394 : ग़,2395 : ज़,2396 : ड़,2397 : ढ़,2398 : फ़,2399 : य़,2400 : ॠ,2401 : ॡ,2402 : ॢ,2403 : ॣ,2404 : ।,2405 : ॥,2406 : ०,2407 : १,2408 : २,2409 : ३,2410 : ४,2411 : ५,2412 : ६,2413 : ७,2414 : ८,2415 : ९,2416 : ॰,2417 : ॱ,2418 : ॲ,2419 : ॳ,2420 : ॴ,2421 : ॵ,2422 : ॶ,2423 : ॷ,2424 : ॸ,2425 : ॹ,2426 : ॺ,2427 : ॻ,2428 : ॼ,2429 : ॽ,2430 : ॾ,2431 : ॿ,2432 : ঀ,2433 : ঁ,2434 : ং,2435 : ঃ,2436 : ঄,2437 : অ,2438 : আ,2439 : ই,2440 : ঈ,2441 : উ,2442 : ঊ,2443 : ঋ,2444 : ঌ,2445 : ঍,2446 : ঎,2447 : এ,2448 : ঐ,2449 : ঑,2450 : ঒,2451 : ও,2452 : ঔ,2453 : ক,2454 : খ,2455 : গ,2456 : ঘ,2457 : ঙ,2458 : চ,2459 : ছ,2460 : জ,2461 : ঝ,2462 : ঞ,2463 : ট,2464 : ঠ,2465 : ড,2466 : ঢ,2467 : ণ,2468 : ত,2469 : থ,2470 : দ,2471 : ধ,2472 : ন,2473 : ঩,2474 : প,2475 : ফ,2476 : ব,2477 : ভ,2478 : ম,2479 : য,2480 : র,2481 : ঱,2482 : ল,2483 : ঳,2484 : ঴,2485 : ঵,2486 : শ,2487 : ষ,2488 : স,2489 : হ,2490 : ঺,2491 : ঻,2492 : ়,2493 : ঽ,2494 : া,2495 : ি,2496 : ী,2497 : ু,2498 : ূ,2499 : ৃ,"
     ]
    }
   ],
   "source": [
    "for i in range(2308,2500):\n",
    "    print(i,\":\",chr(i),end=',')"
   ]
  },
  {
   "cell_type": "code",
   "execution_count": 76,
   "id": "8998444c-6b17-42ab-a3ad-cc926f98bf60",
   "metadata": {},
   "outputs": [
    {
     "name": "stdout",
     "output_type": "stream",
     "text": [
      "2821 : ଅ,2822 : ଆ,2823 : ଇ,2824 : ଈ,2825 : ଉ,2826 : ଊ,2827 : ଋ,2828 : ଌ,2829 : ଍,2830 : ଎,2831 : ଏ,2832 : ଐ,2833 : ଑,2834 : ଒,2835 : ଓ,2836 : ଔ,2837 : କ,2838 : ଖ,2839 : ଗ,2840 : ଘ,2841 : ଙ,2842 : ଚ,2843 : ଛ,2844 : ଜ,2845 : ଝ,2846 : ଞ,2847 : ଟ,2848 : ଠ,2849 : ଡ,2850 : ଢ,2851 : ଣ,2852 : ତ,2853 : ଥ,2854 : ଦ,2855 : ଧ,2856 : ନ,2857 : ଩,2858 : ପ,2859 : ଫ,2860 : ବ,2861 : ଭ,2862 : ମ,2863 : ଯ,2864 : ର,2865 : ଱,2866 : ଲ,2867 : ଳ,2868 : ଴,2869 : ଵ,2870 : ଶ,2871 : ଷ,2872 : ସ,2873 : ହ,2874 : ଺,2875 : ଻,2876 : ଼,2877 : ଽ,2878 : ା,2879 : ି,2880 : ୀ,2881 : ୁ,2882 : ୂ,2883 : ୃ,2884 : ୄ,2885 : ୅,2886 : ୆,2887 : େ,2888 : ୈ,2889 : ୉,2890 : ୊,2891 : ୋ,2892 : ୌ,2893 : ୍,2894 : ୎,2895 : ୏,2896 : ୐,2897 : ୑,2898 : ୒,2899 : ୓,2900 : ୔,2901 : ୕,2902 : ୖ,2903 : ୗ,2904 : ୘,2905 : ୙,2906 : ୚,2907 : ୛,2908 : ଡ଼,2909 : ଢ଼,2910 : ୞,2911 : ୟ,2912 : ୠ,2913 : ୡ,2914 : ୢ,2915 : ୣ,2916 : ୤,2917 : ୥,2918 : ୦,2919 : ୧,2920 : ୨,2921 : ୩,2922 : ୪,2923 : ୫,2924 : ୬,2925 : ୭,2926 : ୮,2927 : ୯,2928 : ୰,2929 : ୱ,2930 : ୲,2931 : ୳,2932 : ୴,2933 : ୵,2934 : ୶,2935 : ୷,2936 : ୸,2937 : ୹,2938 : ୺,2939 : ୻,2940 : ୼,2941 : ୽,2942 : ୾,2943 : ୿,2944 : ஀,2945 : ஁,2946 : ஂ,2947 : ஃ,2948 : ஄,2949 : அ,"
     ]
    }
   ],
   "source": [
    "for i in range(2821,2950):\n",
    "    print(i,\":\",chr(i),end=',')"
   ]
  },
  {
   "cell_type": "code",
   "execution_count": 78,
   "id": "c2d701d0-22b5-4cb1-9ce7-52066782cd26",
   "metadata": {},
   "outputs": [
    {
     "name": "stdout",
     "output_type": "stream",
     "text": [
      "3077 : అ,3078 : ఆ,3079 : ఇ,3080 : ఈ,3081 : ఉ,3082 : ఊ,3083 : ఋ,3084 : ఌ,3085 : ఍,3086 : ఎ,3087 : ఏ,3088 : ఐ,3089 : ఑,3090 : ఒ,3091 : ఓ,3092 : ఔ,3093 : క,3094 : ఖ,3095 : గ,3096 : ఘ,3097 : ఙ,3098 : చ,3099 : ఛ,3100 : జ,3101 : ఝ,3102 : ఞ,3103 : ట,3104 : ఠ,3105 : డ,3106 : ఢ,3107 : ణ,3108 : త,3109 : థ,3110 : ద,3111 : ధ,3112 : న,3113 : ఩,3114 : ప,3115 : ఫ,3116 : బ,3117 : భ,3118 : మ,3119 : య,3120 : ర,3121 : ఱ,3122 : ల,3123 : ళ,3124 : ఴ,3125 : వ,3126 : శ,3127 : ష,3128 : స,3129 : హ,3130 : ఺,3131 : ఻,3132 : ఼,3133 : ఽ,3134 : ా,3135 : ి,3136 : ీ,3137 : ు,3138 : ూ,3139 : ృ,3140 : ౄ,3141 : ౅,3142 : ె,3143 : ే,3144 : ై,3145 : ౉,3146 : ొ,3147 : ో,3148 : ౌ,3149 : ్,"
     ]
    }
   ],
   "source": [
    "for i in range(3077,3150):\n",
    "    print(i,\":\",chr(i),end=',')"
   ]
  },
  {
   "cell_type": "code",
   "execution_count": 86,
   "id": "f97a7c6d-7116-4d16-bca9-385dff0dec6e",
   "metadata": {},
   "outputs": [
    {
     "name": "stdout",
     "output_type": "stream",
     "text": [
      "2308 : ऄ,2309 : अ,2310 : आ,2311 : इ,2312 : ई,2313 : उ,2314 : ऊ,2315 : ऋ,2316 : ऌ,2317 : ऍ,2318 : ऎ,2319 : ए,2320 : ऐ,2321 : ऑ,2322 : ऒ,2323 : ओ,2324 : औ,2325 : क,2326 : ख,2327 : ग,2328 : घ,2329 : ङ,2330 : च,2331 : छ,2332 : ज,2333 : झ,2334 : ञ,2335 : ट,2336 : ठ,2337 : ड,2338 : ढ,2339 : ण,2340 : त,2341 : थ,2342 : द,2343 : ध,2344 : न,2345 : ऩ,2346 : प,2347 : फ,2348 : ब,2349 : भ,2350 : म,2351 : य,2352 : र,2353 : ऱ,2354 : ल,2355 : ळ,2356 : ऴ,2357 : व,2358 : श,2359 : ष,2360 : स,2361 : ह,2362 : ऺ,2363 : ऻ,2364 : ़,2365 : ऽ,2366 : ा,2367 : ि,2368 : ी,2369 : ु,2370 : ू,2371 : ृ,2372 : ॄ,2373 : ॅ,2374 : ॆ,2375 : े,2376 : ै,2377 : ॉ,2378 : ॊ,2379 : ो,2380 : ौ,2381 : ्,2382 : ॎ,2383 : ॏ,2384 : ॐ,2385 : ॑,2386 : ॒,2387 : ॓,2388 : ॔,2389 : ॕ,2390 : ॖ,2391 : ॗ,2392 : क़,2393 : ख़,2394 : ग़,2395 : ज़,2396 : ड़,2397 : ढ़,2398 : फ़,2399 : य़,2400 : ॠ,2401 : ॡ,2402 : ॢ,2403 : ॣ,2404 : ।,2405 : ॥,2406 : ०,2407 : १,2408 : २,2409 : ३,2410 : ४,2411 : ५,2412 : ६,2413 : ७,2414 : ८,2415 : ९,2416 : ॰,2417 : ॱ,2418 : ॲ,2419 : ॳ,2420 : ॴ,2421 : ॵ,2422 : ॶ,2423 : ॷ,2424 : ॸ,2425 : ॹ,2426 : ॺ,2427 : ॻ,2428 : ॼ,2429 : ॽ,2430 : ॾ,2431 : ॿ,2432 : ঀ,2433 : ঁ,2434 : ং,2435 : ঃ,2436 : ঄,2437 : অ,2438 : আ,2439 : ই,2440 : ঈ,2441 : উ,2442 : ঊ,2443 : ঋ,2444 : ঌ,2445 : ঍,2446 : ঎,2447 : এ,2448 : ঐ,2449 : ঑,2450 : ঒,2451 : ও,2452 : ঔ,2453 : ক,2454 : খ,2455 : গ,2456 : ঘ,2457 : ঙ,2458 : চ,2459 : ছ,2460 : জ,2461 : ঝ,2462 : ঞ,2463 : ট,2464 : ঠ,2465 : ড,2466 : ঢ,2467 : ণ,2468 : ত,2469 : থ,2470 : দ,2471 : ধ,2472 : ন,2473 : ঩,2474 : প,2475 : ফ,2476 : ব,2477 : ভ,2478 : ম,2479 : য,2480 : র,2481 : ঱,2482 : ল,2483 : ঳,2484 : ঴,2485 : ঵,2486 : শ,2487 : ষ,2488 : স,2489 : হ,2490 : ঺,2491 : ঻,2492 : ়,2493 : ঽ,2494 : া,2495 : ি,2496 : ী,2497 : ু,2498 : ূ,2499 : ৃ,2500 : ৄ,2501 : ৅,2502 : ৆,2503 : ে,2504 : ৈ,2505 : ৉,2506 : ৊,2507 : ো,2508 : ৌ,2509 : ্,2510 : ৎ,2511 : ৏,2512 : ৐,2513 : ৑,2514 : ৒,2515 : ৓,2516 : ৔,2517 : ৕,2518 : ৖,2519 : ৗ,2520 : ৘,2521 : ৙,2522 : ৚,2523 : ৛,2524 : ড়,2525 : ঢ়,2526 : ৞,2527 : য়,2528 : ৠ,2529 : ৡ,2530 : ৢ,2531 : ৣ,2532 : ৤,2533 : ৥,2534 : ০,2535 : ১,2536 : ২,2537 : ৩,2538 : ৪,2539 : ৫,2540 : ৬,2541 : ৭,2542 : ৮,2543 : ৯,2544 : ৰ,2545 : ৱ,2546 : ৲,2547 : ৳,2548 : ৴,2549 : ৵,2550 : ৶,2551 : ৷,2552 : ৸,2553 : ৹,2554 : ৺,2555 : ৻,2556 : ৼ,2557 : ৽,2558 : ৾,2559 : ৿,2560 : ਀,2561 : ਁ,2562 : ਂ,2563 : ਃ,2564 : ਄,2565 : ਅ,2566 : ਆ,2567 : ਇ,2568 : ਈ,2569 : ਉ,2570 : ਊ,2571 : ਋,2572 : ਌,2573 : ਍,2574 : ਎,2575 : ਏ,2576 : ਐ,2577 : ਑,2578 : ਒,2579 : ਓ,2580 : ਔ,2581 : ਕ,2582 : ਖ,2583 : ਗ,2584 : ਘ,2585 : ਙ,2586 : ਚ,2587 : ਛ,2588 : ਜ,2589 : ਝ,2590 : ਞ,2591 : ਟ,2592 : ਠ,2593 : ਡ,2594 : ਢ,2595 : ਣ,2596 : ਤ,2597 : ਥ,2598 : ਦ,2599 : ਧ,2600 : ਨ,2601 : ਩,2602 : ਪ,2603 : ਫ,2604 : ਬ,2605 : ਭ,2606 : ਮ,2607 : ਯ,2608 : ਰ,2609 : ਱,2610 : ਲ,2611 : ਲ਼,2612 : ਴,2613 : ਵ,2614 : ਸ਼,2615 : ਷,2616 : ਸ,2617 : ਹ,2618 : ਺,2619 : ਻,2620 : ਼,2621 : ਽,2622 : ਾ,2623 : ਿ,2624 : ੀ,2625 : ੁ,2626 : ੂ,2627 : ੃,2628 : ੄,2629 : ੅,2630 : ੆,2631 : ੇ,2632 : ੈ,2633 : ੉,2634 : ੊,2635 : ੋ,2636 : ੌ,2637 : ੍,2638 : ੎,2639 : ੏,2640 : ੐,2641 : ੑ,2642 : ੒,2643 : ੓,2644 : ੔,2645 : ੕,2646 : ੖,2647 : ੗,2648 : ੘,2649 : ਖ਼,2650 : ਗ਼,2651 : ਜ਼,2652 : ੜ,2653 : ੝,2654 : ਫ਼,2655 : ੟,2656 : ੠,2657 : ੡,2658 : ੢,2659 : ੣,2660 : ੤,2661 : ੥,2662 : ੦,2663 : ੧,2664 : ੨,2665 : ੩,2666 : ੪,2667 : ੫,2668 : ੬,2669 : ੭,2670 : ੮,2671 : ੯,2672 : ੰ,2673 : ੱ,2674 : ੲ,2675 : ੳ,2676 : ੴ,2677 : ੵ,2678 : ੶,2679 : ੷,2680 : ੸,2681 : ੹,2682 : ੺,2683 : ੻,2684 : ੼,2685 : ੽,2686 : ੾,2687 : ੿,2688 : ઀,2689 : ઁ,2690 : ં,2691 : ઃ,2692 : ઄,2693 : અ,2694 : આ,2695 : ઇ,2696 : ઈ,2697 : ઉ,2698 : ઊ,2699 : ઋ,2700 : ઌ,2701 : ઍ,2702 : ઎,2703 : એ,2704 : ઐ,2705 : ઑ,2706 : ઒,2707 : ઓ,2708 : ઔ,2709 : ક,2710 : ખ,2711 : ગ,2712 : ઘ,2713 : ઙ,2714 : ચ,2715 : છ,2716 : જ,2717 : ઝ,2718 : ઞ,2719 : ટ,2720 : ઠ,2721 : ડ,2722 : ઢ,2723 : ણ,2724 : ત,2725 : થ,2726 : દ,2727 : ધ,2728 : ન,2729 : ઩,2730 : પ,2731 : ફ,2732 : બ,2733 : ભ,2734 : મ,2735 : ય,2736 : ર,2737 : ઱,2738 : લ,2739 : ળ,2740 : ઴,2741 : વ,2742 : શ,2743 : ષ,2744 : સ,2745 : હ,2746 : ઺,2747 : ઻,2748 : ઼,2749 : ઽ,2750 : ા,2751 : િ,2752 : ી,2753 : ુ,2754 : ૂ,2755 : ૃ,2756 : ૄ,2757 : ૅ,2758 : ૆,2759 : ે,2760 : ૈ,2761 : ૉ,2762 : ૊,2763 : ો,2764 : ૌ,2765 : ્,2766 : ૎,2767 : ૏,2768 : ૐ,2769 : ૑,2770 : ૒,2771 : ૓,2772 : ૔,2773 : ૕,2774 : ૖,2775 : ૗,2776 : ૘,2777 : ૙,2778 : ૚,2779 : ૛,2780 : ૜,2781 : ૝,2782 : ૞,2783 : ૟,2784 : ૠ,2785 : ૡ,2786 : ૢ,2787 : ૣ,2788 : ૤,2789 : ૥,2790 : ૦,2791 : ૧,2792 : ૨,2793 : ૩,2794 : ૪,2795 : ૫,2796 : ૬,2797 : ૭,2798 : ૮,2799 : ૯,2800 : ૰,2801 : ૱,2802 : ૲,2803 : ૳,2804 : ૴,2805 : ૵,2806 : ૶,2807 : ૷,2808 : ૸,2809 : ૹ,2810 : ૺ,2811 : ૻ,2812 : ૼ,2813 : ૽,2814 : ૾,2815 : ૿,2816 : ଀,2817 : ଁ,2818 : ଂ,2819 : ଃ,2820 : ଄,2821 : ଅ,2822 : ଆ,2823 : ଇ,2824 : ଈ,2825 : ଉ,2826 : ଊ,2827 : ଋ,2828 : ଌ,2829 : ଍,2830 : ଎,2831 : ଏ,2832 : ଐ,2833 : ଑,2834 : ଒,2835 : ଓ,2836 : ଔ,2837 : କ,2838 : ଖ,2839 : ଗ,2840 : ଘ,2841 : ଙ,2842 : ଚ,2843 : ଛ,2844 : ଜ,2845 : ଝ,2846 : ଞ,2847 : ଟ,2848 : ଠ,2849 : ଡ,2850 : ଢ,2851 : ଣ,2852 : ତ,2853 : ଥ,2854 : ଦ,2855 : ଧ,2856 : ନ,2857 : ଩,2858 : ପ,2859 : ଫ,2860 : ବ,2861 : ଭ,2862 : ମ,2863 : ଯ,2864 : ର,2865 : ଱,2866 : ଲ,2867 : ଳ,2868 : ଴,2869 : ଵ,2870 : ଶ,2871 : ଷ,2872 : ସ,2873 : ହ,2874 : ଺,2875 : ଻,2876 : ଼,2877 : ଽ,2878 : ା,2879 : ି,2880 : ୀ,2881 : ୁ,2882 : ୂ,2883 : ୃ,2884 : ୄ,2885 : ୅,2886 : ୆,2887 : େ,2888 : ୈ,2889 : ୉,2890 : ୊,2891 : ୋ,2892 : ୌ,2893 : ୍,2894 : ୎,2895 : ୏,2896 : ୐,2897 : ୑,2898 : ୒,2899 : ୓,2900 : ୔,2901 : ୕,2902 : ୖ,2903 : ୗ,2904 : ୘,2905 : ୙,2906 : ୚,2907 : ୛,2908 : ଡ଼,2909 : ଢ଼,2910 : ୞,2911 : ୟ,2912 : ୠ,2913 : ୡ,2914 : ୢ,2915 : ୣ,2916 : ୤,2917 : ୥,2918 : ୦,2919 : ୧,2920 : ୨,2921 : ୩,2922 : ୪,2923 : ୫,2924 : ୬,2925 : ୭,2926 : ୮,2927 : ୯,2928 : ୰,2929 : ୱ,2930 : ୲,2931 : ୳,2932 : ୴,2933 : ୵,2934 : ୶,2935 : ୷,2936 : ୸,2937 : ୹,2938 : ୺,2939 : ୻,2940 : ୼,2941 : ୽,2942 : ୾,2943 : ୿,2944 : ஀,2945 : ஁,2946 : ஂ,2947 : ஃ,2948 : ஄,2949 : அ,2950 : ஆ,2951 : இ,2952 : ஈ,2953 : உ,2954 : ஊ,2955 : ஋,2956 : ஌,2957 : ஍,2958 : எ,2959 : ஏ,2960 : ஐ,2961 : ஑,2962 : ஒ,2963 : ஓ,2964 : ஔ,2965 : க,2966 : ஖,2967 : ஗,2968 : ஘,2969 : ங,2970 : ச,2971 : ஛,2972 : ஜ,2973 : ஝,2974 : ஞ,2975 : ட,2976 : ஠,2977 : ஡,2978 : ஢,2979 : ண,2980 : த,2981 : ஥,2982 : ஦,2983 : ஧,2984 : ந,2985 : ன,2986 : ப,2987 : ஫,2988 : ஬,2989 : ஭,2990 : ம,2991 : ய,2992 : ர,2993 : ற,2994 : ல,2995 : ள,2996 : ழ,2997 : வ,2998 : ஶ,2999 : ஷ,3000 : ஸ,3001 : ஹ,3002 : ஺,3003 : ஻,3004 : ஼,3005 : ஽,3006 : ா,3007 : ி,3008 : ீ,3009 : ு,3010 : ூ,3011 : ௃,3012 : ௄,3013 : ௅,3014 : ெ,3015 : ே,3016 : ை,3017 : ௉,3018 : ொ,3019 : ோ,3020 : ௌ,3021 : ்,3022 : ௎,3023 : ௏,3024 : ௐ,3025 : ௑,3026 : ௒,3027 : ௓,3028 : ௔,3029 : ௕,3030 : ௖,3031 : ௗ,3032 : ௘,3033 : ௙,3034 : ௚,3035 : ௛,3036 : ௜,3037 : ௝,3038 : ௞,3039 : ௟,3040 : ௠,3041 : ௡,3042 : ௢,3043 : ௣,3044 : ௤,3045 : ௥,3046 : ௦,3047 : ௧,3048 : ௨,3049 : ௩,3050 : ௪,3051 : ௫,3052 : ௬,3053 : ௭,3054 : ௮,3055 : ௯,3056 : ௰,3057 : ௱,3058 : ௲,3059 : ௳,3060 : ௴,3061 : ௵,3062 : ௶,3063 : ௷,3064 : ௸,3065 : ௹,3066 : ௺,3067 : ௻,3068 : ௼,3069 : ௽,3070 : ௾,3071 : ௿,3072 : ఀ,3073 : ఁ,3074 : ం,3075 : ః,3076 : ఄ,3077 : అ,3078 : ఆ,3079 : ఇ,3080 : ఈ,3081 : ఉ,3082 : ఊ,3083 : ఋ,3084 : ఌ,3085 : ఍,3086 : ఎ,3087 : ఏ,3088 : ఐ,3089 : ఑,3090 : ఒ,3091 : ఓ,3092 : ఔ,3093 : క,3094 : ఖ,3095 : గ,3096 : ఘ,3097 : ఙ,3098 : చ,3099 : ఛ,"
     ]
    }
   ],
   "source": [
    "for i in range(2308,3100):\n",
    "    print(i,\":\",chr(i),end=',')"
   ]
  },
  {
   "cell_type": "code",
   "execution_count": null,
   "id": "1f2fed5e-3e48-46da-8bcc-71e8b9faaf94",
   "metadata": {},
   "outputs": [],
   "source": []
  }
 ],
 "metadata": {
  "kernelspec": {
   "display_name": "Python [conda env:base] *",
   "language": "python",
   "name": "conda-base-py"
  },
  "language_info": {
   "codemirror_mode": {
    "name": "ipython",
    "version": 3
   },
   "file_extension": ".py",
   "mimetype": "text/x-python",
   "name": "python",
   "nbconvert_exporter": "python",
   "pygments_lexer": "ipython3",
   "version": "3.12.7"
  }
 },
 "nbformat": 4,
 "nbformat_minor": 5
}
