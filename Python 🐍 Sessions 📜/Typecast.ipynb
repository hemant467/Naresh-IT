{
 "cells": [
  {
   "cell_type": "markdown",
   "id": "0a30f8e3-f72e-44b9-8d06-54ad4f2d6e24",
   "metadata": {},
   "source": [
    "# **SYNTAX**"
   ]
  },
  {
   "cell_type": "markdown",
   "id": "6805bdda-d465-4936-ba35-5e697ca023d4",
   "metadata": {},
   "source": [
    "- **Syntax error** means variable properly not initialized\n",
    "    - **example: number one=100**\n",
    " \n",
    "- **Name error** means variable not initialized but we're trying to use it\n",
    "\n",
    "    - **example: name not defined**\n",
    "\n",
    "- **Using inbuilt functions** as variables\n",
    "\n",
    "    - It is not recomended to use inbuilt functions as variables\n",
    "    - Inbuilt functions as special use case\n",
    "\n",
    "- **Using keywords** as variables\n",
    "\n",
    "    - It is not recomended to use keywords as variables\n",
    "    - Keywords are also have special purpose use in python"
   ]
  },
  {
   "cell_type": "code",
   "execution_count": 3,
   "id": "5c6bc455-a911-43e9-a2b3-95566946a2de",
   "metadata": {},
   "outputs": [
    {
     "data": {
      "text/plain": [
       "60"
      ]
     },
     "execution_count": 3,
     "metadata": {},
     "output_type": "execute_result"
    }
   ],
   "source": [
    "sum([10,20,30])"
   ]
  },
  {
   "cell_type": "code",
   "execution_count": 7,
   "id": "0b8a252c-b482-45cf-be10-9ff2b49d9b95",
   "metadata": {},
   "outputs": [
    {
     "ename": "SyntaxError",
     "evalue": "unterminated string literal (detected at line 1) (1010079629.py, line 1)",
     "output_type": "error",
     "traceback": [
      "\u001b[1;36m  Cell \u001b[1;32mIn[7], line 1\u001b[1;36m\u001b[0m\n\u001b[1;33m    str1='hello\"\u001b[0m\n\u001b[1;37m         ^\u001b[0m\n\u001b[1;31mSyntaxError\u001b[0m\u001b[1;31m:\u001b[0m unterminated string literal (detected at line 1)\n"
     ]
    }
   ],
   "source": [
    "str1='hello\""
   ]
  },
  {
   "cell_type": "markdown",
   "id": "b0c033af-be82-417e-b90c-6d020bc07573",
   "metadata": {},
   "source": [
    "# **Unterminated string literal**\n",
    "\n",
    "    - Focus on whether we are closing string properly or not\n",
    "\n",
    "    - Do not use triple quotes when you're using a string for code purpose\n",
    "\n",
    "    - Triple quotes **Doc string**  or **Multi-line comment**"
   ]
  },
  {
   "cell_type": "code",
   "execution_count": 13,
   "id": "bb495106-ae40-43b7-99df-8fb4029a72cf",
   "metadata": {},
   "outputs": [
    {
     "ename": "ValueError",
     "evalue": "invalid literal for int() with base 10: '10.5'",
     "output_type": "error",
     "traceback": [
      "\u001b[1;31m---------------------------------------------------------------------------\u001b[0m",
      "\u001b[1;31mValueError\u001b[0m                                Traceback (most recent call last)",
      "Cell \u001b[1;32mIn[13], line 1\u001b[0m\n\u001b[1;32m----> 1\u001b[0m \u001b[38;5;28mint\u001b[39m(\u001b[38;5;124m'\u001b[39m\u001b[38;5;124m10.5\u001b[39m\u001b[38;5;124m'\u001b[39m)\n",
      "\u001b[1;31mValueError\u001b[0m: invalid literal for int() with base 10: '10.5'"
     ]
    }
   ],
   "source": [
    "int('10.5')"
   ]
  },
  {
   "cell_type": "markdown",
   "id": "920c7fa1-f209-42e5-860b-32904771058d",
   "metadata": {},
   "source": [
    "# **Type-casting Error's**\n",
    "- **Value error** converting string representation of float into integer\n",
    "\n",
    "  - **example: int('10.5')**\n",
    "\n",
    "- Always be cautious when boolean will give **True** and **False**"
   ]
  },
  {
   "cell_type": "markdown",
   "id": "9fca249f-8d23-4186-b1c8-a5ced7db0dbb",
   "metadata": {},
   "source": [
    "bool(10)\n",
    "bool(-10)\n",
    "bool(0)\n",
    "bool(10.6)\n",
    "bool(-10.6)\n",
    "bool(0.0)\n",
    "bool('apple')\n",
    "bool('0')\n",
    "bool('')"
   ]
  },
  {
   "cell_type": "markdown",
   "id": "a313faf9-80e3-4a6c-b8b7-f5eb47f3fd97",
   "metadata": {},
   "source": [
    "- What is the use of type : type([10,20,30])\n",
    "\n",
    "- What is the use of len : len([10,20,30])\n",
    "\n",
    "- What is the use of sum : sum([10,20,30])\n",
    "\n",
    "- What is the use of max : max([10,20,30])\n",
    "\n",
    "- What is the use of min : min([10,20,30])"
   ]
  },
  {
   "cell_type": "code",
   "execution_count": 25,
   "id": "879a91a8-df16-4e26-9a0b-e63ceb557256",
   "metadata": {},
   "outputs": [
    {
     "data": {
      "text/plain": [
       "list"
      ]
     },
     "execution_count": 25,
     "metadata": {},
     "output_type": "execute_result"
    }
   ],
   "source": [
    "type([10,20,30])"
   ]
  },
  {
   "cell_type": "code",
   "execution_count": 27,
   "id": "1e531b8b-b3c3-4b73-b71d-273b2a4995ff",
   "metadata": {},
   "outputs": [
    {
     "data": {
      "text/plain": [
       "3"
      ]
     },
     "execution_count": 27,
     "metadata": {},
     "output_type": "execute_result"
    }
   ],
   "source": [
    "len([10,20,30])"
   ]
  },
  {
   "cell_type": "code",
   "execution_count": 29,
   "id": "5f8533ed-1ddf-41da-88cd-f17dabe95580",
   "metadata": {},
   "outputs": [
    {
     "data": {
      "text/plain": [
       "60"
      ]
     },
     "execution_count": 29,
     "metadata": {},
     "output_type": "execute_result"
    }
   ],
   "source": [
    "sum([10,20,30])"
   ]
  },
  {
   "cell_type": "code",
   "execution_count": 31,
   "id": "80421133-96a6-46bc-a35c-df623f592286",
   "metadata": {},
   "outputs": [
    {
     "data": {
      "text/plain": [
       "30"
      ]
     },
     "execution_count": 31,
     "metadata": {},
     "output_type": "execute_result"
    }
   ],
   "source": [
    "max([10,20,30])"
   ]
  },
  {
   "cell_type": "code",
   "execution_count": 33,
   "id": "8dd1abb0-cae8-48d4-9bd3-95e8b3a212ce",
   "metadata": {},
   "outputs": [
    {
     "data": {
      "text/plain": [
       "10"
      ]
     },
     "execution_count": 33,
     "metadata": {},
     "output_type": "execute_result"
    }
   ],
   "source": [
    "min([10,20,30])"
   ]
  },
  {
   "cell_type": "markdown",
   "id": "8f1c4c4c-aa89-4524-9ad2-379538aa42d1",
   "metadata": {},
   "source": [
    "type()\n",
    "len()\n",
    "max()\n",
    "min()\n",
    "print()\n",
    "eval()\n",
    "input()\n",
    "int()\n",
    "float()"
   ]
  },
  {
   "cell_type": "code",
   "execution_count": 36,
   "id": "22230c1c-2a4b-46b0-b3f0-87bf627d2a72",
   "metadata": {},
   "outputs": [
    {
     "data": {
      "text/plain": [
       "<bound method Kernel.raw_input of <ipykernel.ipkernel.IPythonKernel object at 0x000001C487CD7890>>"
      ]
     },
     "execution_count": 36,
     "metadata": {},
     "output_type": "execute_result"
    }
   ],
   "source": [
    "input"
   ]
  },
  {
   "cell_type": "markdown",
   "id": "b879990f-1429-4cb4-adaf-35e82f06bbf3",
   "metadata": {},
   "source": [
    "- inbuilt functions expects paranthesis\n",
    "    \n",
    "    -  if brackets are missed it will give indication as\n",
    "\n",
    "    -  **bound method** or **function**"
   ]
  },
  {
   "cell_type": "code",
   "execution_count": 42,
   "id": "1b90da8c-9276-4d55-a8a5-277775346b33",
   "metadata": {},
   "outputs": [
    {
     "name": "stdout",
     "output_type": "stream",
     "text": [
      "the value of a is : 100\n",
      "the value of a is : 100\n",
      "the value of a is : 100\n"
     ]
    }
   ],
   "source": [
    "a=100\n",
    "print('the value of a is :',a)\n",
    "print('the value of a is : {}'.format(a))\n",
    "print(f'the value of a is : {a}')"
   ]
  },
  {
   "cell_type": "markdown",
   "id": "a630a201-fe44-4f1c-a527-d8abce10a396",
   "metadata": {},
   "source": [
    "# **END Operator**"
   ]
  },
  {
   "cell_type": "code",
   "execution_count": 46,
   "id": "87c28f72-161e-4b4e-91b4-ae58d356760e",
   "metadata": {},
   "outputs": [
    {
     "name": "stdout",
     "output_type": "stream",
     "text": [
      "10 20\n"
     ]
    }
   ],
   "source": [
    "print(10,end=' ')\n",
    "print(20)"
   ]
  },
  {
   "cell_type": "code",
   "execution_count": 49,
   "id": "7c2550bd-03f3-420d-9181-24f5a56849d3",
   "metadata": {},
   "outputs": [
    {
     "name": "stdout",
     "output_type": "stream",
     "text": [
      "10-->20\n"
     ]
    }
   ],
   "source": [
    "print(10,end='-->')\n",
    "print(20)"
   ]
  },
  {
   "cell_type": "code",
   "execution_count": 57,
   "id": "936a74bb-82a9-424d-a600-b1ecd7d8dad0",
   "metadata": {},
   "outputs": [
    {
     "name": "stdout",
     "output_type": "stream",
     "text": [
      "Hello Hi\n"
     ]
    }
   ],
   "source": [
    "print(\"Hello\",end=' ')\n",
    "print(\"Hi\")"
   ]
  },
  {
   "cell_type": "markdown",
   "id": "314b099b-3315-43b3-9d4f-52c4ac2bfcb4",
   "metadata": {},
   "source": [
    "# **SEPERATOR**"
   ]
  },
  {
   "cell_type": "code",
   "execution_count": 63,
   "id": "b7dac261-2dbf-4b4c-9daf-d1d93e2032c0",
   "metadata": {},
   "outputs": [
    {
     "name": "stdout",
     "output_type": "stream",
     "text": [
      "10 20\n",
      "10-->20\n"
     ]
    }
   ],
   "source": [
    "print(10,20)   # 10-->20\n",
    "print(10,20,sep='-->')"
   ]
  },
  {
   "cell_type": "markdown",
   "id": "b88bb2c3-dd6f-43b6-9d0a-0de9308b9a94",
   "metadata": {},
   "source": [
    "# **Input**"
   ]
  },
  {
   "cell_type": "code",
   "execution_count": 69,
   "id": "a755905a-87a7-48ca-8b36-0b4b08070fd9",
   "metadata": {},
   "outputs": [
    {
     "name": "stdin",
     "output_type": "stream",
     "text": [
      "Enter your city:  Delhi\n"
     ]
    }
   ],
   "source": [
    "city='Hyd'\n",
    "city=input('Enter your city: ')"
   ]
  },
  {
   "cell_type": "code",
   "execution_count": 71,
   "id": "d2ea7c9d-cd64-40bf-a8e7-b67114166f84",
   "metadata": {},
   "outputs": [
    {
     "name": "stdin",
     "output_type": "stream",
     "text": [
      " 10\n"
     ]
    },
    {
     "data": {
      "text/plain": [
       "'10'"
      ]
     },
     "execution_count": 71,
     "metadata": {},
     "output_type": "execute_result"
    }
   ],
   "source": [
    "input()"
   ]
  },
  {
   "cell_type": "code",
   "execution_count": 75,
   "id": "bf7bc002-855b-41eb-bd68-d6e2c0fb2d43",
   "metadata": {},
   "outputs": [
    {
     "name": "stdin",
     "output_type": "stream",
     "text": [
      " 10\n"
     ]
    },
    {
     "data": {
      "text/plain": [
       "10"
      ]
     },
     "execution_count": 75,
     "metadata": {},
     "output_type": "execute_result"
    }
   ],
   "source": [
    "int(input()) # int('10')"
   ]
  },
  {
   "cell_type": "code",
   "execution_count": 77,
   "id": "078879b7-90fe-40c4-a436-a70fd7c1545c",
   "metadata": {},
   "outputs": [
    {
     "name": "stdin",
     "output_type": "stream",
     "text": [
      " 10\n"
     ]
    },
    {
     "data": {
      "text/plain": [
       "10.0"
      ]
     },
     "execution_count": 77,
     "metadata": {},
     "output_type": "execute_result"
    }
   ],
   "source": [
    "float(input())  # float('10')"
   ]
  },
  {
   "cell_type": "code",
   "execution_count": 79,
   "id": "231aea27-6c46-49ab-b8ca-167f8482d372",
   "metadata": {},
   "outputs": [
    {
     "name": "stdin",
     "output_type": "stream",
     "text": [
      " 10.5\n"
     ]
    },
    {
     "data": {
      "text/plain": [
       "10.5"
      ]
     },
     "execution_count": 79,
     "metadata": {},
     "output_type": "execute_result"
    }
   ],
   "source": [
    "eval(input())"
   ]
  },
  {
   "cell_type": "code",
   "execution_count": 81,
   "id": "86fa02c7-bc77-4634-955e-18bd6641dda1",
   "metadata": {},
   "outputs": [
    {
     "data": {
      "text/plain": [
       "5.2"
      ]
     },
     "execution_count": 81,
     "metadata": {},
     "output_type": "execute_result"
    }
   ],
   "source": [
    "26/5"
   ]
  },
  {
   "cell_type": "code",
   "execution_count": 83,
   "id": "396159eb-34ed-4c66-b6e6-bb2e950f9b73",
   "metadata": {},
   "outputs": [
    {
     "data": {
      "text/plain": [
       "5"
      ]
     },
     "execution_count": 83,
     "metadata": {},
     "output_type": "execute_result"
    }
   ],
   "source": [
    "26//5"
   ]
  },
  {
   "cell_type": "code",
   "execution_count": 85,
   "id": "144bc84d-892b-4fc4-8dc4-d80597610bfc",
   "metadata": {},
   "outputs": [
    {
     "data": {
      "text/plain": [
       "1"
      ]
     },
     "execution_count": 85,
     "metadata": {},
     "output_type": "execute_result"
    }
   ],
   "source": [
    "26%5"
   ]
  },
  {
   "cell_type": "markdown",
   "id": "0798d446-0d08-45df-90f9-255cf11f2965",
   "metadata": {},
   "source": [
    "- 26/5 #Normal division 5.2\n",
    "- 26//5 # floor division : Quotient\n",
    "- 26%5 # Modulus operator : Remainder"
   ]
  }
 ],
 "metadata": {
  "kernelspec": {
   "display_name": "Python [conda env:base] *",
   "language": "python",
   "name": "conda-base-py"
  },
  "language_info": {
   "codemirror_mode": {
    "name": "ipython",
    "version": 3
   },
   "file_extension": ".py",
   "mimetype": "text/x-python",
   "name": "python",
   "nbconvert_exporter": "python",
   "pygments_lexer": "ipython3",
   "version": "3.12.7"
  }
 },
 "nbformat": 4,
 "nbformat_minor": 5
}
