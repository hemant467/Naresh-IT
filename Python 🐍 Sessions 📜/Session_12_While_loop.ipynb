{
 "cells": [
  {
   "cell_type": "markdown",
   "id": "9410ac79-1752-4214-9070-2fd20dd8e2f8",
   "metadata": {},
   "source": [
    "- Any loop\n",
    "\n",
    "- intial point to start the loop\n",
    "\n",
    "- increment or decrement to continue the loop\n",
    "\n",
    "- condition to stop the loop"
   ]
  },
  {
   "cell_type": "code",
   "execution_count": null,
   "id": "37e09077-3280-401c-b3b1-c76122a0ddc7",
   "metadata": {},
   "outputs": [],
   "source": [
    "for i in range(1,10,2):\n",
    "    print('hello')\n",
    "\n",
    "# start=1  incremt =+2  stop =10-1=9"
   ]
  },
  {
   "cell_type": "code",
   "execution_count": null,
   "id": "84608650-7d59-4ac2-b860-4b1c84e3eef2",
   "metadata": {},
   "outputs": [],
   "source": [
    "start point\n",
    "while <condition>:\n",
    "    increment or decrement\n",
    "\n",
    "\n",
    "for i in range(1,10,2)"
   ]
  },
  {
   "cell_type": "code",
   "execution_count": null,
   "id": "933f291f-f9fd-4b18-8f84-801e4660f174",
   "metadata": {},
   "outputs": [],
   "source": [
    "for i in range(1,10):\n",
    "    print(i)\n",
    "\n",
    "i=1\n",
    "i reaches to 9\n",
    "i=i+1"
   ]
  },
  {
   "cell_type": "code",
   "execution_count": null,
   "id": "3d2d7176-16d6-43d9-b325-58bae02356e6",
   "metadata": {},
   "outputs": [],
   "source": [
    "i=1\n",
    "while <con>:\n",
    "    print(i)\n",
    "    i=i+1\n",
    "\n",
    "- condition should allow you inside the loop\n",
    "\n",
    "- the same condition should get out of the loop"
   ]
  },
  {
   "cell_type": "code",
   "execution_count": null,
   "id": "a87bad2d-d454-4df2-ade2-025aef975d7f",
   "metadata": {},
   "outputs": [],
   "source": [
    "i=1\n",
    "while i==1:\n",
    "    print(i)\n",
    "    i=i+1\n",
    "\n",
    "i=1\n",
    "while i>=1:\n",
    "    print(i)\n",
    "    i=i+1\n",
    "\n",
    "i=1\n",
    "while i>0:\n",
    "    print(i)\n",
    "    i=i+1\n",
    "\n",
    "i=1\n",
    "while i<9:\n",
    "    print(i)\n",
    "    i=i+1"
   ]
  },
  {
   "cell_type": "code",
   "execution_count": 3,
   "id": "e324c510-b792-4416-a916-ddb1d3a7b42b",
   "metadata": {},
   "outputs": [
    {
     "name": "stdout",
     "output_type": "stream",
     "text": [
      "1\n"
     ]
    }
   ],
   "source": [
    "i=1\n",
    "while i==1:\n",
    "    print(i)\n",
    "    i=i+1\n",
    "\n",
    "# step-1: i=1  while 1==1 True  print(1)  i=1+1=2\n",
    "# step-2: i=2  while 2==1 F"
   ]
  },
  {
   "cell_type": "code",
   "execution_count": null,
   "id": "931b49a8-f877-483d-bf5f-b800056c6043",
   "metadata": {},
   "outputs": [],
   "source": [
    "\n",
    "i=1\n",
    "while i>=1:\n",
    "    print(i)\n",
    "    i=i+1\n",
    "\n",
    "# step-1: i=1  while 1>=1 True  print(1)  i=1+1=2\n",
    "# step-2: i=2  while 2>=1 True  print2   i=2+1=3\n",
    "# step-3: i=3  while 3>=1 True print(3) i=3+1=4"
   ]
  },
  {
   "cell_type": "code",
   "execution_count": 5,
   "id": "61c7b18f-5917-4d3e-a467-8576c8af47bb",
   "metadata": {},
   "outputs": [
    {
     "name": "stdout",
     "output_type": "stream",
     "text": [
      "1\n",
      "2\n",
      "3\n",
      "4\n",
      "5\n",
      "6\n",
      "7\n",
      "8\n",
      "9\n"
     ]
    }
   ],
   "source": [
    "i=1\n",
    "while i<10:\n",
    "    print(i)\n",
    "    i=i+1\n",
    "\n",
    "# step-1: i=1  while 1<10 True  print(1)  i=1+1=2\n",
    "# step-2: i=2  while 2<10 True  print2   i=2+1=3\n",
    "# step-3: i=3  while 3<10 True print(3) i=3+1=4\n",
    "\n",
    "# step-9: i=9  while 9<10  True print 9  i=9+1=10\n",
    "# step-10 i=10 while 10<10 F"
   ]
  },
  {
   "cell_type": "code",
   "execution_count": 7,
   "id": "15138863-49b3-4f44-8524-a098e812ea49",
   "metadata": {},
   "outputs": [
    {
     "name": "stdout",
     "output_type": "stream",
     "text": [
      "1 2 3 4 5 6 7 8 9 10 "
     ]
    }
   ],
   "source": [
    "i=1\n",
    "while i<=10:\n",
    "    print(i,end=' ')\n",
    "    i=i+1"
   ]
  },
  {
   "cell_type": "code",
   "execution_count": 9,
   "id": "a79339fc-8b0a-4198-90a4-01e5b55be053",
   "metadata": {},
   "outputs": [
    {
     "name": "stdout",
     "output_type": "stream",
     "text": [
      "2 3 4 5 6 7 8 9 10 "
     ]
    }
   ],
   "source": [
    "i=1\n",
    "while i<10:\n",
    "    i=i+1\n",
    "    print(i,end=' ')"
   ]
  },
  {
   "cell_type": "code",
   "execution_count": 15,
   "id": "2f590fde-5523-4aa2-b579-2c38b5d3ca22",
   "metadata": {},
   "outputs": [
    {
     "name": "stdout",
     "output_type": "stream",
     "text": [
      "10 9 8 7 6 5 4 3 2 1 "
     ]
    }
   ],
   "source": [
    "for i in range(10,0,-1):\n",
    "    print(i,end=' ')\n"
   ]
  },
  {
   "cell_type": "code",
   "execution_count": 19,
   "id": "ab1acef2-0f8e-4774-a295-cd9529fec978",
   "metadata": {},
   "outputs": [
    {
     "name": "stdout",
     "output_type": "stream",
     "text": [
      "-1 -2 -3 -4 -5 -6 -7 -8 -9 -10 "
     ]
    }
   ],
   "source": [
    "for i in range(-1,-11,-1):\n",
    "    print(i,end=' ')"
   ]
  },
  {
   "cell_type": "code",
   "execution_count": 21,
   "id": "5ad4c8f5-8971-4e89-9310-3bdf67ae5e91",
   "metadata": {},
   "outputs": [
    {
     "name": "stdout",
     "output_type": "stream",
     "text": [
      "-10 -9 -8 -7 -6 -5 -4 -3 -2 -1 "
     ]
    }
   ],
   "source": [
    "for i in range(-10,0,1):\n",
    "    print(i,end=' ')"
   ]
  },
  {
   "cell_type": "code",
   "execution_count": 23,
   "id": "47c8a132-efed-43a7-9a11-9c09ce3b9bfd",
   "metadata": {},
   "outputs": [
    {
     "name": "stdout",
     "output_type": "stream",
     "text": [
      "10 9 8 7 6 5 4 3 2 1 "
     ]
    }
   ],
   "source": [
    "# for i in range(10,0,-1):\n",
    "#     print(i,end=' ')\n",
    "\n",
    "\n",
    "i=10\n",
    "while i>=1:\n",
    "    print(i,end=' ')\n",
    "    i=i-1"
   ]
  },
  {
   "cell_type": "code",
   "execution_count": 25,
   "id": "44f00630-c2ce-4e62-b762-28bb19d44c50",
   "metadata": {},
   "outputs": [
    {
     "name": "stdout",
     "output_type": "stream",
     "text": [
      "-1 -2 -3 -4 -5 -6 -7 -8 -9 -10 "
     ]
    }
   ],
   "source": [
    "# for i in range(-1,-11,-1):\n",
    "#     print(i,end=' ')\n",
    "\n",
    "i=-1\n",
    "while i>=-10:\n",
    "    print(i,end=' ')\n",
    "    i=i-1"
   ]
  },
  {
   "cell_type": "code",
   "execution_count": 27,
   "id": "2a3a8885-bb56-4f39-bf0b-9cc8f7047203",
   "metadata": {},
   "outputs": [
    {
     "name": "stdout",
     "output_type": "stream",
     "text": [
      "-10 -9 -8 -7 -6 -5 -4 -3 -2 -1 "
     ]
    }
   ],
   "source": [
    "# for i in range(-10,0,1):\n",
    "#     print(i,end=' ')\n",
    "\n",
    "i=-10\n",
    "while i<=-1:\n",
    "    print(i,end=' ')\n",
    "    i=i+1"
   ]
  },
  {
   "cell_type": "code",
   "execution_count": 29,
   "id": "58a5951b-9e29-4bdd-9f8a-d2f6df37f7a1",
   "metadata": {},
   "outputs": [
    {
     "name": "stdout",
     "output_type": "stream",
     "text": [
      "1 2 3 4 5 6 7 8 9 10 "
     ]
    }
   ],
   "source": [
    "i=1\n",
    "while i<=10:\n",
    "    print(i,end=' ')\n",
    "    i=i+1\n",
    "\n",
    "# loop stop when i reaches to 10"
   ]
  },
  {
   "cell_type": "code",
   "execution_count": 31,
   "id": "eb2041ef-ac8d-4d19-8e1b-9868503c2880",
   "metadata": {},
   "outputs": [
    {
     "name": "stdout",
     "output_type": "stream",
     "text": [
      "1 2 3 4 5 6 7 8 9 "
     ]
    }
   ],
   "source": [
    "i=1\n",
    "while True:\n",
    "    print(i,end=' ')\n",
    "    i=i+1\n",
    "    if i==10:\n",
    "        break"
   ]
  },
  {
   "cell_type": "code",
   "execution_count": 35,
   "id": "7aaad953-2902-4c0d-ac0b-6ef9f126c0b5",
   "metadata": {},
   "outputs": [
    {
     "name": "stdout",
     "output_type": "stream",
     "text": [
      "-10 -9 -8 -7 -6 -5 -4 -3 -2 "
     ]
    }
   ],
   "source": [
    "i=-10\n",
    "while True:\n",
    "    print(i,end=' ')\n",
    "    i=i+1\n",
    "    if i==-1:\n",
    "        break\n",
    "\n",
    "# this loop stop when i reaches to -1"
   ]
  },
  {
   "cell_type": "code",
   "execution_count": null,
   "id": "4c286338-1e15-47bc-a56f-0ffc3f7fe493",
   "metadata": {},
   "outputs": [],
   "source": []
  }
 ],
 "metadata": {
  "kernelspec": {
   "display_name": "Python [conda env:base] *",
   "language": "python",
   "name": "conda-base-py"
  },
  "language_info": {
   "codemirror_mode": {
    "name": "ipython",
    "version": 3
   },
   "file_extension": ".py",
   "mimetype": "text/x-python",
   "name": "python",
   "nbconvert_exporter": "python",
   "pygments_lexer": "ipython3",
   "version": "3.12.7"
  }
 },
 "nbformat": 4,
 "nbformat_minor": 5
}
