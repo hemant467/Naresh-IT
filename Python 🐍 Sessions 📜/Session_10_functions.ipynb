{
 "cells": [
  {
   "cell_type": "markdown",
   "id": "e2938219-0899-47d3-a412-c66450bf0bb4",
   "metadata": {},
   "source": [
    "**Functions**\n",
    "\n",
    "- Functions gives an idea how to **reuse the same code** multiple times\n",
    "\n",
    "- Assume that i want to do tax calculation code based on employee salary \n",
    "\n",
    "- Assume that it required 4 lines of code\n",
    "\n",
    "- In a company 500 employees are there\n",
    "\n",
    "- It is very bad idea if you write 4 lines to each employee  500*4=2000 lines\n",
    "\n",
    "- To avoid this we will create function on 4lines\n",
    "\n",
    "- we will call that function only for employee , no need of writev again 4 lines"
   ]
  },
  {
   "cell_type": "code",
   "execution_count": null,
   "id": "3612a9e7-87fe-412f-ac34-125ad88e3f9a",
   "metadata": {},
   "outputs": [],
   "source": [
    "# syntax\n",
    "def <function name>():\n",
    "    <write your code>"
   ]
  },
  {
   "cell_type": "code",
   "execution_count": 2,
   "id": "a98665d3-3f36-4a96-b5c9-b64faaa7b0ed",
   "metadata": {},
   "outputs": [
    {
     "name": "stdin",
     "output_type": "stream",
     "text": [
      "enter the n1: 20\n",
      "enter the n2: 30\n"
     ]
    },
    {
     "name": "stdout",
     "output_type": "stream",
     "text": [
      "the addition of 20 and 30 is : 50\n"
     ]
    }
   ],
   "source": [
    "n1=eval(input('enter the n1:'))\n",
    "n2=eval(input('enter the n2:'))\n",
    "add=n1+n2\n",
    "print(f\"the addition of {n1} and {n2} is : {add}\")"
   ]
  },
  {
   "cell_type": "markdown",
   "id": "e9adb180-319f-41ad-9e54-7f5150a0a122",
   "metadata": {},
   "source": [
    "## FUNCTION WITH OUT ARGUMENTS\n",
    "\n",
    "- the function does not have any arguments or parameters\n",
    "\n",
    "- the parntheses are empty\n",
    "\n",
    "- if we provide any values while calling it throws error"
   ]
  },
  {
   "cell_type": "code",
   "execution_count": 7,
   "id": "9ab464b0-09e0-49c4-9631-d2a21e2abfb3",
   "metadata": {},
   "outputs": [],
   "source": [
    "def ADDITON():\n",
    "    n1=eval(input('enter the n1:'))\n",
    "    n2=eval(input('enter the n2:'))\n",
    "    add=n1+n2\n",
    "    print(f\"the addition of {n1} and {n2} is : {add}\")"
   ]
  },
  {
   "cell_type": "code",
   "execution_count": null,
   "id": "8f3c1e3d-3043-416f-a893-0154aa4405b1",
   "metadata": {},
   "outputs": [],
   "source": [
    "# function is kind of driver car\n",
    "# functions is ready === driver hired\n",
    "# hey driver bhai ajao "
   ]
  },
  {
   "cell_type": "code",
   "execution_count": 6,
   "id": "fff87d7a-50f8-4aaa-a8c6-6f301f2fdfe2",
   "metadata": {},
   "outputs": [
    {
     "data": {
      "text/plain": [
       "<function __main__.ADDITON()>"
      ]
     },
     "execution_count": 6,
     "metadata": {},
     "output_type": "execute_result"
    }
   ],
   "source": [
    "ADDITON"
   ]
  },
  {
   "cell_type": "code",
   "execution_count": 8,
   "id": "ba4f9b76-0134-4b45-83ea-6f4add7fafca",
   "metadata": {},
   "outputs": [
    {
     "name": "stdin",
     "output_type": "stream",
     "text": [
      "enter the n1: 10\n",
      "enter the n2: 20\n"
     ]
    },
    {
     "name": "stdout",
     "output_type": "stream",
     "text": [
      "the addition of 10 and 20 is : 30\n"
     ]
    }
   ],
   "source": [
    "# calling the function\n",
    "ADDITON()"
   ]
  },
  {
   "cell_type": "code",
   "execution_count": 10,
   "id": "8644dd7e-fc8f-4b84-a878-eb6945c037ed",
   "metadata": {},
   "outputs": [
    {
     "data": {
      "text/plain": [
       "<module 'random' from 'E:\\\\Anaconda\\\\Lib\\\\random.py'>"
      ]
     },
     "execution_count": 10,
     "metadata": {},
     "output_type": "execute_result"
    }
   ],
   "source": [
    "import random\n",
    "random"
   ]
  },
  {
   "cell_type": "code",
   "execution_count": 12,
   "id": "7dc53fbb-848c-4eef-a5ee-b072f9d16466",
   "metadata": {},
   "outputs": [
    {
     "name": "stdin",
     "output_type": "stream",
     "text": [
      "enter the n1: 2\n",
      "enter the n2: 4\n",
      "enter the n3: 7\n"
     ]
    },
    {
     "name": "stdout",
     "output_type": "stream",
     "text": [
      "the avg of 2 4 and 7 is: 4.33\n"
     ]
    }
   ],
   "source": [
    "# Can you create a funcion avg run it\n",
    "n1=eval(input('enter the n1:'))\n",
    "n2=eval(input('enter the n2:'))\n",
    "n3=eval(input('enter the n3:'))\n",
    "avg=round((n1+n2+n3)/3,2)\n",
    "print(f'the avg of {n1} {n2} and {n3} is: {avg}')"
   ]
  },
  {
   "cell_type": "markdown",
   "id": "e6dc18e1-1a57-4c49-bcc8-9d96edf6a743",
   "metadata": {},
   "source": [
    "- function names follow the rules same as variable rule\n",
    "\n",
    "- function name should not same as any variable name in the notebook\n",
    "\n",
    "- function name should not same as any package name\n",
    "\n",
    "- pacakge names should be always at start of the code\n",
    "\n",
    "- which means outside the function\n",
    "\n",
    "- function name should not be same as file name"
   ]
  },
  {
   "cell_type": "code",
   "execution_count": 15,
   "id": "55d87f33-ae05-4b9d-95af-05b97f68a9b2",
   "metadata": {},
   "outputs": [],
   "source": [
    "def Average():\n",
    "    n1=eval(input('enter the n1:'))\n",
    "    n2=eval(input('enter the n2:'))\n",
    "    n3=eval(input('enter the n3:'))\n",
    "    avg=round((n1+n2+n333)/3,2)\n",
    "    print(f'the avg of {n1} {n2} and {n3} is: {avg}')"
   ]
  },
  {
   "cell_type": "code",
   "execution_count": 17,
   "id": "8f1cba06-6f17-4ec2-8015-2f9c1e68a837",
   "metadata": {},
   "outputs": [
    {
     "name": "stdin",
     "output_type": "stream",
     "text": [
      "enter the n1: 20\n",
      "enter the n2: 30\n",
      "enter the n3: 40\n"
     ]
    },
    {
     "ename": "NameError",
     "evalue": "name 'n333' is not defined",
     "output_type": "error",
     "traceback": [
      "\u001b[1;31m---------------------------------------------------------------------------\u001b[0m",
      "\u001b[1;31mNameError\u001b[0m                                 Traceback (most recent call last)",
      "Cell \u001b[1;32mIn[17], line 1\u001b[0m\n\u001b[1;32m----> 1\u001b[0m Average()\n",
      "Cell \u001b[1;32mIn[15], line 5\u001b[0m, in \u001b[0;36mAverage\u001b[1;34m()\u001b[0m\n\u001b[0;32m      3\u001b[0m n2\u001b[38;5;241m=\u001b[39m\u001b[38;5;28meval\u001b[39m(\u001b[38;5;28minput\u001b[39m(\u001b[38;5;124m'\u001b[39m\u001b[38;5;124menter the n2:\u001b[39m\u001b[38;5;124m'\u001b[39m))\n\u001b[0;32m      4\u001b[0m n3\u001b[38;5;241m=\u001b[39m\u001b[38;5;28meval\u001b[39m(\u001b[38;5;28minput\u001b[39m(\u001b[38;5;124m'\u001b[39m\u001b[38;5;124menter the n3:\u001b[39m\u001b[38;5;124m'\u001b[39m))\n\u001b[1;32m----> 5\u001b[0m avg\u001b[38;5;241m=\u001b[39m\u001b[38;5;28mround\u001b[39m((n1\u001b[38;5;241m+\u001b[39mn2\u001b[38;5;241m+\u001b[39mn333)\u001b[38;5;241m/\u001b[39m\u001b[38;5;241m3\u001b[39m,\u001b[38;5;241m2\u001b[39m)\n\u001b[0;32m      6\u001b[0m \u001b[38;5;28mprint\u001b[39m(\u001b[38;5;124mf\u001b[39m\u001b[38;5;124m'\u001b[39m\u001b[38;5;124mthe avg of \u001b[39m\u001b[38;5;132;01m{\u001b[39;00mn1\u001b[38;5;132;01m}\u001b[39;00m\u001b[38;5;124m \u001b[39m\u001b[38;5;132;01m{\u001b[39;00mn2\u001b[38;5;132;01m}\u001b[39;00m\u001b[38;5;124m and \u001b[39m\u001b[38;5;132;01m{\u001b[39;00mn3\u001b[38;5;132;01m}\u001b[39;00m\u001b[38;5;124m is: \u001b[39m\u001b[38;5;132;01m{\u001b[39;00mavg\u001b[38;5;132;01m}\u001b[39;00m\u001b[38;5;124m'\u001b[39m)\n",
      "\u001b[1;31mNameError\u001b[0m: name 'n333' is not defined"
     ]
    }
   ],
   "source": [
    "Average()"
   ]
  },
  {
   "cell_type": "code",
   "execution_count": 9,
   "id": "5c185807-9562-4367-88cb-af166dc4e178",
   "metadata": {},
   "outputs": [
    {
     "name": "stdin",
     "output_type": "stream",
     "text": [
      "enter the n1: 3\n",
      "enter the n2: 5\n",
      "enter the n3: 6\n"
     ]
    },
    {
     "name": "stdout",
     "output_type": "stream",
     "text": [
      "the avg of 3 5 and 6 is: 4.67\n"
     ]
    }
   ],
   "source": [
    "def Average1():\n",
    "    n1=eval(input('enter the n1:'))\n",
    "    n2=eval(input('enter the n2:'))\n",
    "    n3=eval(input('enter the n3:'))\n",
    "    avg=round((n1+n2+n3)/3,2)\n",
    "    print(f'the avg of {n1} {n2} and {n3} is: {avg}')\n",
    "\n",
    "Average1()"
   ]
  },
  {
   "cell_type": "markdown",
   "id": "8c1a6476-793d-4a0f-b027-79f63a970fa9",
   "metadata": {},
   "source": [
    "**checkpoint-1: the function has error**\n",
    "\n",
    "    - when we define the function it will not show any error other than syntax error\n",
    "\n",
    "    - if we want to see the error first we need to call the function\n",
    "\n",
    "**checkpoint-2: where can i call the function in same cell or different cell**\n",
    "\n",
    "    - any where we can call the function\n",
    "\n",
    "    - but make sure first define the function\n",
    "\n",
    "    - because in VScode there is no cells , its a plane book\n",
    "\n",
    "**checkpoint-3: How to do try and except in function**\n",
    "\n",
    "    - write the entire function under try block\n",
    "\n",
    "    - and call the function check error handling or not\n",
    "\n",
    "    - use the try block inside the function on original code\n",
    "\n",
    "    - and call the functiom error handling or not"
   ]
  },
  {
   "cell_type": "code",
   "execution_count": null,
   "id": "0a24ca44-cdf3-4a71-97cf-a753025b6fe3",
   "metadata": {},
   "outputs": [],
   "source": [
    "try:\n",
    "    <entire code>\n",
    "except\n",
    "\n",
    "call the function"
   ]
  },
  {
   "cell_type": "code",
   "execution_count": null,
   "id": "59d696f8-819d-4d6b-b87a-eb73d7521b2c",
   "metadata": {},
   "outputs": [],
   "source": [
    "def <fun>():\n",
    "    try:\n",
    "        <write the>\n",
    "    except:\n",
    "\n",
    "call the functions"
   ]
  },
  {
   "cell_type": "code",
   "execution_count": 22,
   "id": "a63eb37c-470f-4dc8-b53b-e3b5a0ef5f9c",
   "metadata": {},
   "outputs": [
    {
     "name": "stdin",
     "output_type": "stream",
     "text": [
      "enter the n1: 1\n",
      "enter the n2: 2\n",
      "enter the n3: 3\n"
     ]
    },
    {
     "ename": "NameError",
     "evalue": "name 'n333' is not defined",
     "output_type": "error",
     "traceback": [
      "\u001b[1;31m---------------------------------------------------------------------------\u001b[0m",
      "\u001b[1;31mNameError\u001b[0m                                 Traceback (most recent call last)",
      "Cell \u001b[1;32mIn[22], line 12\u001b[0m\n\u001b[0;32m      9\u001b[0m \u001b[38;5;28;01mexcept\u001b[39;00m \u001b[38;5;167;01mException\u001b[39;00m \u001b[38;5;28;01mas\u001b[39;00m e:\n\u001b[0;32m     10\u001b[0m     \u001b[38;5;28mprint\u001b[39m(e)\n\u001b[1;32m---> 12\u001b[0m Average()\n",
      "Cell \u001b[1;32mIn[22], line 6\u001b[0m, in \u001b[0;36mAverage\u001b[1;34m()\u001b[0m\n\u001b[0;32m      4\u001b[0m n2\u001b[38;5;241m=\u001b[39m\u001b[38;5;28meval\u001b[39m(\u001b[38;5;28minput\u001b[39m(\u001b[38;5;124m'\u001b[39m\u001b[38;5;124menter the n2:\u001b[39m\u001b[38;5;124m'\u001b[39m))\n\u001b[0;32m      5\u001b[0m n3\u001b[38;5;241m=\u001b[39m\u001b[38;5;28meval\u001b[39m(\u001b[38;5;28minput\u001b[39m(\u001b[38;5;124m'\u001b[39m\u001b[38;5;124menter the n3:\u001b[39m\u001b[38;5;124m'\u001b[39m))\n\u001b[1;32m----> 6\u001b[0m avg\u001b[38;5;241m=\u001b[39m\u001b[38;5;28mround\u001b[39m((n1\u001b[38;5;241m+\u001b[39mn2\u001b[38;5;241m+\u001b[39mn333)\u001b[38;5;241m/\u001b[39m\u001b[38;5;241m3\u001b[39m,\u001b[38;5;241m2\u001b[39m)\n\u001b[0;32m      7\u001b[0m \u001b[38;5;28mprint\u001b[39m(\u001b[38;5;124mf\u001b[39m\u001b[38;5;124m'\u001b[39m\u001b[38;5;124mthe avg of \u001b[39m\u001b[38;5;132;01m{\u001b[39;00mn1\u001b[38;5;132;01m}\u001b[39;00m\u001b[38;5;124m \u001b[39m\u001b[38;5;132;01m{\u001b[39;00mn2\u001b[38;5;132;01m}\u001b[39;00m\u001b[38;5;124m and \u001b[39m\u001b[38;5;132;01m{\u001b[39;00mn3\u001b[38;5;132;01m}\u001b[39;00m\u001b[38;5;124m is: \u001b[39m\u001b[38;5;132;01m{\u001b[39;00mavg\u001b[38;5;132;01m}\u001b[39;00m\u001b[38;5;124m'\u001b[39m)\n",
      "\u001b[1;31mNameError\u001b[0m: name 'n333' is not defined"
     ]
    }
   ],
   "source": [
    "try:\n",
    "    def Average():\n",
    "        n1=eval(input('enter the n1:'))\n",
    "        n2=eval(input('enter the n2:'))\n",
    "        n3=eval(input('enter the n3:'))\n",
    "        avg=round((n1+n2+n333)/3,2)\n",
    "        print(f'the avg of {n1} {n2} and {n3} is: {avg}')\n",
    "\n",
    "except Exception as e:\n",
    "    print(e)\n",
    "\n",
    "Average()\n"
   ]
  },
  {
   "cell_type": "code",
   "execution_count": 24,
   "id": "fa7cbcff-5c44-4ed0-b418-1eefbb68621d",
   "metadata": {},
   "outputs": [
    {
     "name": "stdin",
     "output_type": "stream",
     "text": [
      "enter the n1: 2\n",
      "enter the n2: 3\n",
      "enter the n3: 4\n"
     ]
    },
    {
     "name": "stdout",
     "output_type": "stream",
     "text": [
      "name 'n333' is not defined\n"
     ]
    }
   ],
   "source": [
    "def Average():\n",
    "    try:\n",
    "        n1=eval(input('enter the n1:'))\n",
    "        n2=eval(input('enter the n2:'))\n",
    "        n3=eval(input('enter the n3:'))\n",
    "        avg=round((n1+n2+n333)/3,2)\n",
    "        print(f'the avg of {n1} {n2} and {n3} is: {avg}')\n",
    "\n",
    "    except Exception as e:\n",
    "        print(e)\n",
    "\n",
    "Average()"
   ]
  },
  {
   "cell_type": "code",
   "execution_count": null,
   "id": "107efd70-0343-4b7f-8b1e-c34e50284df8",
   "metadata": {},
   "outputs": [],
   "source": [
    "vishal asked this qn\n",
    "vishal explored also\n",
    "vishal told correct answer\n",
    "\n",
    "there is inhernt talent === many things\n",
    "you can explore by your own\n",
    "\n",
    "Captial letters as the varaiblname\n",
    "can i give small letter\n",
    "who are stoping you to explore this\n",
    "\n",
    "employees == explore explore explore\n",
    "if you fail\n",
    "if you pass === more "
   ]
  },
  {
   "cell_type": "code",
   "execution_count": 26,
   "id": "a5a2d45f-e1ba-4748-b929-c1a4c1d443b5",
   "metadata": {},
   "outputs": [],
   "source": [
    "#define the function\n",
    "#call the function\n",
    "\n",
    "def Average1():\n",
    "    n1=eval(input('enter the n1:'))\n",
    "    n2=eval(input('enter the n2:'))\n",
    "    n3=eval(input('enter the n3:'))\n",
    "    avg=round((n1+n2+n3)/3,2)\n",
    "    print(f'the avg of {n1} {n2} and {n3} is: {avg}')\n",
    "    Average1()"
   ]
  },
  {
   "cell_type": "code",
   "execution_count": null,
   "id": "58e34c8a-5425-4823-83af-29efd451ccdf",
   "metadata": {},
   "outputs": [],
   "source": [
    "# Q1) Wap ask the user enter two numbers from keyboard find the multiplication\n",
    "\n",
    "# Q2) Wap ask the user enter 3 numbers find the average\n",
    "\n",
    "# Q3) Wap ask the user enter a bill amount and tip value calculate totalbill\n",
    "\n",
    "# Q4) Wap ask the user find the area of circle\n",
    "#     formulae: pi*r*r\n",
    "\n",
    "# Q5) Wap ask the user find the area of right angle traingle\n",
    "#    formula : 0.5*b*h\n",
    "\n",
    "# Q6) Wap ask the user eneter amount in dollars\n",
    "#     convert into rupees 1$=80rs\n",
    "#      dollars=eval(input('enter the amount in dollars'))\n",
    "\n",
    "# Q7) Wap ask the user enter weight in kgs and convert into pounds\n",
    "#     1kg=2.2pounds\n",
    "\n",
    "# Q8) Wap ask the user enter bill amount and tip percentage\n",
    "#     calculate the total bill"
   ]
  },
  {
   "cell_type": "code",
   "execution_count": 1,
   "id": "64303f4e-1c25-408b-82b9-6d2bea3b2972",
   "metadata": {},
   "outputs": [
    {
     "name": "stdin",
     "output_type": "stream",
     "text": [
      "enter the bill amount: 10000\n",
      "tip amount 20\n"
     ]
    },
    {
     "name": "stdout",
     "output_type": "stream",
     "text": [
      "the total amount is:10020\n"
     ]
    }
   ],
   "source": [
    "def TOTAL_BILL():\n",
    "    bill_amount=eval(input('enter the bill amount:'))\n",
    "    tip_amount=eval(input('tip amount'))\n",
    "    total_amount=bill_amount+tip_amount\n",
    "    print(f'the total amount is:{total_amount}')\n",
    "\n",
    "TOTAL_BILL()"
   ]
  },
  {
   "cell_type": "code",
   "execution_count": 3,
   "id": "d6b9c732-dba8-44ca-938b-8b0270340ea1",
   "metadata": {},
   "outputs": [
    {
     "name": "stdin",
     "output_type": "stream",
     "text": [
      "enter the radius 20\n"
     ]
    },
    {
     "name": "stdout",
     "output_type": "stream",
     "text": [
      "the area of circle is: 1256.6370614359173\n"
     ]
    }
   ],
   "source": [
    "import math\n",
    "def AREA_OF_CIRCLE():\n",
    "    pi=math.pi\n",
    "    radius=eval(input('enter the radius'))\n",
    "    area_of_circle=pi*radius*radius\n",
    "    print(f'the area of circle is: {area_of_circle}')\n",
    "\n",
    "AREA_OF_CIRCLE()"
   ]
  },
  {
   "cell_type": "code",
   "execution_count": 5,
   "id": "c4597816-bd69-4435-b9e8-3ad7fb7b2401",
   "metadata": {},
   "outputs": [
    {
     "name": "stdin",
     "output_type": "stream",
     "text": [
      "enter the base: 30\n",
      "enter the height 50\n"
     ]
    },
    {
     "name": "stdout",
     "output_type": "stream",
     "text": [
      "the area_of_traingle is:750.0\n"
     ]
    }
   ],
   "source": [
    "def AREA_OF_TRAINGLE():\n",
    "    base=eval(input('enter the base:'))\n",
    "    height=eval(input('enter the height'))\n",
    "    area_of_traingle=0.5*base*height\n",
    "    print(f'the area_of_traingle is:{area_of_traingle}')\n",
    "\n",
    "AREA_OF_TRAINGLE()\n"
   ]
  },
  {
   "cell_type": "code",
   "execution_count": 13,
   "id": "13b9b011-8e0c-4d37-9d93-1a28a5c32470",
   "metadata": {},
   "outputs": [
    {
     "name": "stdout",
     "output_type": "stream",
     "text": [
      "Addition function called\n"
     ]
    },
    {
     "name": "stdin",
     "output_type": "stream",
     "text": [
      "enter the n1: 1\n",
      "enter the n2: 2\n"
     ]
    },
    {
     "name": "stdout",
     "output_type": "stream",
     "text": [
      "the addition of 1 and 2 is : 3\n",
      "=========================\n",
      "Average function called\n"
     ]
    },
    {
     "name": "stdin",
     "output_type": "stream",
     "text": [
      "enter the n1: 2\n",
      "enter the n2: 3\n",
      "enter the n3: 4\n"
     ]
    },
    {
     "name": "stdout",
     "output_type": "stream",
     "text": [
      "the avg of 2 3 and 4 is: 3.0\n",
      "=========================\n",
      "Total bill function called\n"
     ]
    },
    {
     "name": "stdin",
     "output_type": "stream",
     "text": [
      "enter the bill amount: 1000\n",
      "tip amount 200\n"
     ]
    },
    {
     "name": "stdout",
     "output_type": "stream",
     "text": [
      "the total amount is:1200\n",
      "=========================\n",
      "Area of circle function called\n"
     ]
    },
    {
     "name": "stdin",
     "output_type": "stream",
     "text": [
      "enter the radius 1\n"
     ]
    },
    {
     "name": "stdout",
     "output_type": "stream",
     "text": [
      "the area of circle is: 3.141592653589793\n",
      "=========================\n",
      "Area of triangle function called\n"
     ]
    },
    {
     "name": "stdin",
     "output_type": "stream",
     "text": [
      "enter the base: 12\n",
      "enter the height 12\n"
     ]
    },
    {
     "name": "stdout",
     "output_type": "stream",
     "text": [
      "the area_of_traingle is:72.0\n"
     ]
    }
   ],
   "source": [
    "print('Addition function called')\n",
    "ADDITON()\n",
    "print('=========================')\n",
    "print('Average function called')\n",
    "Average1()\n",
    "print('=========================')\n",
    "print('Total bill function called')\n",
    "TOTAL_BILL()\n",
    "print('=========================')\n",
    "print('Area of circle function called')\n",
    "AREA_OF_CIRCLE()\n",
    "print('=========================')\n",
    "print('Area of triangle function called')\n",
    "AREA_OF_TRAINGLE()"
   ]
  },
  {
   "cell_type": "code",
   "execution_count": null,
   "id": "a193e0cf-fcf6-4444-a95c-b7d9d4c451d6",
   "metadata": {},
   "outputs": [],
   "source": [
    "ADDITON()   # no arguments\n",
    "Average1()  # no arg\n",
    "TOTAL_BILL() # no arg\n",
    "AREA_OF_CIRCLE() # no arg\n",
    "AREA_OF_TRAINGLE() # no rg"
   ]
  },
  {
   "cell_type": "code",
   "execution_count": 15,
   "id": "fe91b08d-93fa-4780-97b1-2908ae3093aa",
   "metadata": {},
   "outputs": [
    {
     "data": {
      "text/plain": [
       "<bound method Random.randint of <random.Random object at 0x000001CDBBB505C0>>"
      ]
     },
     "execution_count": 15,
     "metadata": {},
     "output_type": "execute_result"
    }
   ],
   "source": [
    "import random\n",
    "random.randint()"
   ]
  },
  {
   "cell_type": "code",
   "execution_count": 18,
   "id": "dc55cc89-1bf1-4062-9091-d2dc25a5f403",
   "metadata": {},
   "outputs": [
    {
     "ename": "TypeError",
     "evalue": "ADDITON() takes 0 positional arguments but 1 was given",
     "output_type": "error",
     "traceback": [
      "\u001b[1;31m---------------------------------------------------------------------------\u001b[0m",
      "\u001b[1;31mTypeError\u001b[0m                                 Traceback (most recent call last)",
      "Cell \u001b[1;32mIn[18], line 7\u001b[0m\n\u001b[0;32m      4\u001b[0m     add\u001b[38;5;241m=\u001b[39mn1\u001b[38;5;241m+\u001b[39mn2\n\u001b[0;32m      5\u001b[0m     \u001b[38;5;28mprint\u001b[39m(\u001b[38;5;124mf\u001b[39m\u001b[38;5;124m\"\u001b[39m\u001b[38;5;124mthe addition of \u001b[39m\u001b[38;5;132;01m{\u001b[39;00mn1\u001b[38;5;132;01m}\u001b[39;00m\u001b[38;5;124m and \u001b[39m\u001b[38;5;132;01m{\u001b[39;00mn2\u001b[38;5;132;01m}\u001b[39;00m\u001b[38;5;124m is : \u001b[39m\u001b[38;5;132;01m{\u001b[39;00madd\u001b[38;5;132;01m}\u001b[39;00m\u001b[38;5;124m\"\u001b[39m)\n\u001b[1;32m----> 7\u001b[0m ADDITON(\u001b[38;5;241m20\u001b[39m)\n",
      "\u001b[1;31mTypeError\u001b[0m: ADDITON() takes 0 positional arguments but 1 was given"
     ]
    }
   ],
   "source": [
    "def ADDITON():\n",
    "    n1=eval(input('enter the n1:'))\n",
    "    n2=eval(input('enter the n2:'))\n",
    "    add=n1+n2\n",
    "    print(f\"the addition of {n1} and {n2} is : {add}\")\n",
    "\n",
    "ADDITON(20)"
   ]
  },
  {
   "cell_type": "markdown",
   "id": "e238e9b7-a542-4de0-8428-3c2acc08e57f",
   "metadata": {},
   "source": [
    "## FUNCTION WITH ARGUMENTS\n",
    "\n",
    "- qn-1: how many variables are present in addition function : 3\n",
    "\n",
    "- qn-2: how many input varaibles : 2 n1 and n2\n",
    "\n",
    "- qn-3: how many output variables : 1  add\n",
    "\n",
    "- dont touch output variables"
   ]
  },
  {
   "cell_type": "code",
   "execution_count": 24,
   "id": "2aef6009-6a69-4eb9-b432-5b8d3db79d22",
   "metadata": {},
   "outputs": [
    {
     "name": "stdout",
     "output_type": "stream",
     "text": [
      "the addition of 10 and 20 is : 30\n"
     ]
    }
   ],
   "source": [
    "def ADDITON_1(n1,n2):\n",
    "    add=n1+n2\n",
    "    print(f\"the addition of {n1} and {n2} is : {add}\")\n",
    "\n",
    "ADDITON_1(10,20)"
   ]
  },
  {
   "cell_type": "code",
   "execution_count": 26,
   "id": "b829b678-c799-4917-9a91-fbd74f3c2ce0",
   "metadata": {},
   "outputs": [
    {
     "name": "stdout",
     "output_type": "stream",
     "text": [
      "the avg of 10 20 and 30 is: 20.0\n"
     ]
    }
   ],
   "source": [
    "def Average_1(n1,n2,n3):\n",
    "    avg=round((n1+n2+n3)/3,2)\n",
    "    print(f'the avg of {n1} {n2} and {n3} is: {avg}')\n",
    "\n",
    "Average_1(10,20,30)"
   ]
  },
  {
   "cell_type": "code",
   "execution_count": 30,
   "id": "8656f38e-e723-4fce-b04f-1cabbd9136c8",
   "metadata": {},
   "outputs": [
    {
     "name": "stdout",
     "output_type": "stream",
     "text": [
      "the total amount is:1200.0\n"
     ]
    }
   ],
   "source": [
    "def TOTAL_BILL_1(bill_amount,tip_per):\n",
    "    tip_amount=bill_amount*tip_per/100\n",
    "    total_amount=bill_amount+tip_amount\n",
    "    print(f'the total amount is:{total_amount}')\n",
    "\n",
    "TOTAL_BILL_1(1000,20)"
   ]
  },
  {
   "cell_type": "code",
   "execution_count": 34,
   "id": "90fcdcf5-5196-40b7-a5b5-49b80c5f78d5",
   "metadata": {},
   "outputs": [
    {
     "name": "stdout",
     "output_type": "stream",
     "text": [
      "n1: 10\n"
     ]
    },
    {
     "name": "stdin",
     "output_type": "stream",
     "text": [
      "enter the n2: 20\n",
      "enter the n3: 30\n"
     ]
    },
    {
     "name": "stdout",
     "output_type": "stream",
     "text": [
      "the avg of 10 20 and 30 is: 20.0\n"
     ]
    }
   ],
   "source": [
    "def Average_2(n1):\n",
    "    print('n1:',n1)\n",
    "    n2=eval(input('enter the n2:'))\n",
    "    n3=eval(input('enter the n3:'))\n",
    "    avg=round((n1+n2+n3)/3,2)\n",
    "    print(f'the avg of {n1} {n2} and {n3} is: {avg}')\n",
    "    \n",
    "Average_2(10)"
   ]
  },
  {
   "cell_type": "code",
   "execution_count": 36,
   "id": "737afa4a-f0a0-4c4e-8ebb-78d4c3002163",
   "metadata": {},
   "outputs": [
    {
     "name": "stdout",
     "output_type": "stream",
     "text": [
      "n1: 10\n",
      "n2: 20\n"
     ]
    },
    {
     "name": "stdin",
     "output_type": "stream",
     "text": [
      "enter the n3: 30\n"
     ]
    },
    {
     "name": "stdout",
     "output_type": "stream",
     "text": [
      "the avg of 10 20 and 30 is: 20.0\n"
     ]
    }
   ],
   "source": [
    "def Average_3(n1,n2):\n",
    "    print('n1:',n1)\n",
    "    print('n2:',n2)\n",
    "    n3=eval(input('enter the n3:'))\n",
    "    avg=round((n1+n2+n3)/3,2)\n",
    "    print(f'the avg of {n1} {n2} and {n3} is: {avg}')\n",
    "    \n",
    "Average_3(10,20)"
   ]
  },
  {
   "cell_type": "code",
   "execution_count": null,
   "id": "be19a29d-d4f1-47d9-b083-0b7c570d5e93",
   "metadata": {},
   "outputs": [],
   "source": [
    "def Average():\n",
    "    n1=eval(input('enter the n2:'))\n",
    "    n2=eval(input('enter the n2:'))\n",
    "    n3=eval(input('enter the n3:'))\n",
    "    avg=round((n1+n2+n3)/3,2)\n",
    "    print(f'the avg of {n1} {n2} and {n3} is: {avg}')\n",
    "    \n",
    "def Average_1(n1):\n",
    "    print('n1:',n1)\n",
    "    n2=eval(input('enter the n2:'))\n",
    "    n3=eval(input('enter the n3:'))\n",
    "    avg=round((n1+n2+n3)/3,2)\n",
    "    print(f'the avg of {n1} {n2} and {n3} is: {avg}')\n",
    "    \n",
    "def Average_2(n1,n2):\n",
    "    print('n1:',n1)\n",
    "    print('n2:',n2)\n",
    "    n3=eval(input('enter the n3:'))\n",
    "    avg=round((n1+n2+n3)/3,2)\n",
    "    print(f'the avg of {n1} {n2} and {n3} is: {avg}')\n",
    "    \n",
    "\n",
    "def Average_3(n1,n2,n3):\n",
    "    avg=round((n1+n2+n3)/3,2)\n",
    "    print(f'the avg of {n1} {n2} and {n3} is: {avg}')\n",
    "\n",
    "\n",
    "Average()\n",
    "Average_1(10)\n",
    "Average_2(10,20)\n",
    "Average_3(10,20,30)"
   ]
  },
  {
   "cell_type": "markdown",
   "id": "8a0d15c0-0374-45cd-a480-38ec7a7eee74",
   "metadata": {},
   "source": [
    "- step-1: define the function with code\n",
    "\n",
    "    - **define function is not enough**\n",
    "\n",
    "- Step-2: calling the function\n",
    "\n",
    "- Step-3: the code lines starts executing(running the function)\n",
    "\n",
    "**Make sure before running the functions values should be ready**"
   ]
  },
  {
   "cell_type": "code",
   "execution_count": 40,
   "id": "be7a4e38-a099-48d4-b2b6-bb54794570df",
   "metadata": {},
   "outputs": [
    {
     "name": "stdout",
     "output_type": "stream",
     "text": [
      "n1: 10\n"
     ]
    },
    {
     "name": "stdin",
     "output_type": "stream",
     "text": [
      "enter the n2: 10\n",
      "enter the n3: 20\n"
     ]
    },
    {
     "name": "stdout",
     "output_type": "stream",
     "text": [
      "the avg of 10 10 and 20 is: 13.33\n"
     ]
    }
   ],
   "source": [
    "def Average_1(n1):\n",
    "    print('n1:',n1)\n",
    "    n2=eval(input('enter the n2:'))\n",
    "    n3=eval(input('enter the n3:'))\n",
    "    avg=round((n1+n2+n3)/3,2)\n",
    "    print(f'the avg of {n1} {n2} and {n3} is: {avg}')\n",
    "\n",
    "Average_1(10)\n"
   ]
  },
  {
   "cell_type": "code",
   "execution_count": 45,
   "id": "41ba88e0-18b1-4fc4-9743-319decf5ffcc",
   "metadata": {},
   "outputs": [
    {
     "name": "stdin",
     "output_type": "stream",
     "text": [
      "enter the n1: 10\n"
     ]
    },
    {
     "name": "stdout",
     "output_type": "stream",
     "text": [
      "n1: 10\n"
     ]
    },
    {
     "name": "stdin",
     "output_type": "stream",
     "text": [
      "enter the n2: 20\n",
      "enter the n3: 30\n"
     ]
    },
    {
     "name": "stdout",
     "output_type": "stream",
     "text": [
      "the avg of 10 20 and 30 is: 20.0\n"
     ]
    }
   ],
   "source": [
    "def Average_1(n1):\n",
    "    print('n1:',n1)\n",
    "    n2=eval(input('enter the n2:'))\n",
    "    n3=eval(input('enter the n3:'))\n",
    "    avg=round((n1+n2+n3)/3,2)\n",
    "    print(f'the avg of {n1} {n2} and {n3} is: {avg}')\n",
    "\n",
    "Average_1(eval(input('enter the n1:')))"
   ]
  },
  {
   "cell_type": "code",
   "execution_count": 49,
   "id": "f943cc12-fdeb-4382-ad65-273b90344508",
   "metadata": {},
   "outputs": [
    {
     "name": "stdin",
     "output_type": "stream",
     "text": [
      "enter the n2: 10\n"
     ]
    },
    {
     "name": "stdout",
     "output_type": "stream",
     "text": [
      "n1: 10\n"
     ]
    },
    {
     "name": "stdin",
     "output_type": "stream",
     "text": [
      "enter the n2: 20\n",
      "enter the n3: 30\n"
     ]
    },
    {
     "name": "stdout",
     "output_type": "stream",
     "text": [
      "the avg of 10 20 and 30 is: 20.0\n"
     ]
    }
   ],
   "source": [
    "def Average_1(n1):\n",
    "    print('n1:',n1)\n",
    "    n2=eval(input('enter the n2:'))\n",
    "    n3=eval(input('enter the n3:'))\n",
    "    avg=round((n1+n2+n3)/3,2)\n",
    "    print(f'the avg of {n1} {n2} and {n3} is: {avg}')\n",
    "\n",
    "n1=eval(input('enter the n1:'))\n",
    "\n",
    "Average_1(n1)"
   ]
  },
  {
   "cell_type": "code",
   "execution_count": null,
   "id": "a7c7769f-5ae8-41fe-907c-81041348784a",
   "metadata": {},
   "outputs": [],
   "source": [
    "n1=eval(input('enter the n1:'))\n",
    "\n",
    "def Average_1(n1):\n",
    "    print('n1:',n1)\n",
    "    n2=eval(input('enter the n2:'))\n",
    "    n3=eval(input('enter the n3:'))\n",
    "    avg=round((n1+n2+n3)/3,2)\n",
    "    print(f'the avg of {n1} {n2} and {n3} is: {avg}')\n",
    "\n",
    "Average_1(n1)"
   ]
  },
  {
   "cell_type": "code",
   "execution_count": 51,
   "id": "39191d18-2548-47c7-bb84-694ba457687a",
   "metadata": {},
   "outputs": [
    {
     "ename": "NameError",
     "evalue": "name 'N1' is not defined",
     "output_type": "error",
     "traceback": [
      "\u001b[1;31m---------------------------------------------------------------------------\u001b[0m",
      "\u001b[1;31mNameError\u001b[0m                                 Traceback (most recent call last)",
      "Cell \u001b[1;32mIn[51], line 8\u001b[0m\n\u001b[0;32m      5\u001b[0m     avg\u001b[38;5;241m=\u001b[39m\u001b[38;5;28mround\u001b[39m((N1\u001b[38;5;241m+\u001b[39mN2\u001b[38;5;241m+\u001b[39mN3)\u001b[38;5;241m/\u001b[39m\u001b[38;5;241m3\u001b[39m,\u001b[38;5;241m2\u001b[39m)\n\u001b[0;32m      6\u001b[0m     \u001b[38;5;28mprint\u001b[39m(\u001b[38;5;124mf\u001b[39m\u001b[38;5;124m'\u001b[39m\u001b[38;5;124mthe avg of \u001b[39m\u001b[38;5;132;01m{\u001b[39;00mN1\u001b[38;5;132;01m}\u001b[39;00m\u001b[38;5;124m \u001b[39m\u001b[38;5;132;01m{\u001b[39;00mN2\u001b[38;5;132;01m}\u001b[39;00m\u001b[38;5;124m and \u001b[39m\u001b[38;5;132;01m{\u001b[39;00mN3\u001b[38;5;132;01m}\u001b[39;00m\u001b[38;5;124m is: \u001b[39m\u001b[38;5;132;01m{\u001b[39;00mAVG\u001b[38;5;132;01m}\u001b[39;00m\u001b[38;5;124m'\u001b[39m)\n\u001b[1;32m----> 8\u001b[0m Average_1(N1)\n\u001b[0;32m     11\u001b[0m N1\u001b[38;5;241m=\u001b[39m\u001b[38;5;28meval\u001b[39m(\u001b[38;5;28minput\u001b[39m(\u001b[38;5;124m'\u001b[39m\u001b[38;5;124menter the n2:\u001b[39m\u001b[38;5;124m'\u001b[39m))\n",
      "\u001b[1;31mNameError\u001b[0m: name 'N1' is not defined"
     ]
    }
   ],
   "source": [
    "def Average_1(N1):\n",
    "    print('n1:',N1)\n",
    "    N2=eval(input('enter the n2:'))\n",
    "    N3=eval(input('enter the n3:'))\n",
    "    avg=round((N1+N2+N3)/3,2)\n",
    "    print(f'the avg of {N1} {N2} and {N3} is: {AVG}')\n",
    "\n",
    "Average_1(N1)\n",
    "\n",
    "\n",
    "N1=eval(input('enter the n2:'))"
   ]
  },
  {
   "cell_type": "code",
   "execution_count": 1,
   "id": "a8c260a3-156f-4982-b5f9-959e5030f56d",
   "metadata": {},
   "outputs": [
    {
     "name": "stdout",
     "output_type": "stream",
     "text": [
      "15 is an odd\n"
     ]
    }
   ],
   "source": [
    "# write a code if and else\n",
    "# even and odd\n",
    "# with arguments and with out arguments\n",
    "\n",
    "import random\n",
    "num=random.randint(1,100)\n",
    "if num%2==0:\n",
    "    print(f\"{num} is an even\")\n",
    "else:\n",
    "    print(f\"{num} is an odd\")"
   ]
  },
  {
   "cell_type": "code",
   "execution_count": 5,
   "id": "0e5d4000-a8ce-40d8-97ab-1df4fcdfaa29",
   "metadata": {},
   "outputs": [
    {
     "name": "stdout",
     "output_type": "stream",
     "text": [
      "57 is an odd\n"
     ]
    }
   ],
   "source": [
    "import random\n",
    "def even_odd1():\n",
    "    num=random.randint(1,100)  # local\n",
    "    if num%2==0:\n",
    "        print(f\"{num} is an even\")\n",
    "    else:\n",
    "        print(f\"{num} is an odd\")\n",
    "\n",
    "even_odd1()"
   ]
  },
  {
   "cell_type": "code",
   "execution_count": 11,
   "id": "2d30204e-d2ad-4b83-95ae-670c3d6c1d8e",
   "metadata": {},
   "outputs": [
    {
     "name": "stdout",
     "output_type": "stream",
     "text": [
      "31 is an odd\n"
     ]
    }
   ],
   "source": [
    "import random\n",
    "def even_odd2(num):\n",
    "    if num%2==0:\n",
    "        print(f\"{num} is an even\")\n",
    "    else:\n",
    "        print(f\"{num} is an odd\")\n",
    "\n",
    "even_odd2(random.randint(1,100))  # local"
   ]
  },
  {
   "cell_type": "code",
   "execution_count": 13,
   "id": "f0afce23-db5b-48ee-a07b-27d3afa53f1c",
   "metadata": {},
   "outputs": [
    {
     "name": "stdout",
     "output_type": "stream",
     "text": [
      "57 is an odd\n"
     ]
    }
   ],
   "source": [
    "import random\n",
    "\n",
    "def even_odd2(num):\n",
    "    if num%2==0:\n",
    "        print(f\"{num} is an even\")\n",
    "    else:\n",
    "        print(f\"{num} is an odd\")\n",
    "        \n",
    "num=random.randint(1,100)  # global\n",
    "\n",
    "even_odd2(num)"
   ]
  },
  {
   "cell_type": "code",
   "execution_count": 15,
   "id": "e1336277-0cde-4f61-aa08-039f6acaf038",
   "metadata": {},
   "outputs": [
    {
     "name": "stdout",
     "output_type": "stream",
     "text": [
      "15 is an odd\n"
     ]
    }
   ],
   "source": [
    "import random\n",
    "num=random.randint(1,100)  # global\n",
    "def even_odd3(num):\n",
    "    if num%2==0:\n",
    "        print(f\"{num} is an even\")\n",
    "    else:\n",
    "        print(f\"{num} is an odd\")\n",
    "\n",
    "even_odd3(num)"
   ]
  },
  {
   "cell_type": "code",
   "execution_count": 19,
   "id": "fdd64248-aea3-44d6-a0e3-2f1db0bea797",
   "metadata": {},
   "outputs": [
    {
     "ename": "NameError",
     "evalue": "name 'NUM' is not defined",
     "output_type": "error",
     "traceback": [
      "\u001b[1;31m---------------------------------------------------------------------------\u001b[0m",
      "\u001b[1;31mNameError\u001b[0m                                 Traceback (most recent call last)",
      "Cell \u001b[1;32mIn[19], line 8\u001b[0m\n\u001b[0;32m      5\u001b[0m     \u001b[38;5;28;01melse\u001b[39;00m:\n\u001b[0;32m      6\u001b[0m         \u001b[38;5;28mprint\u001b[39m(\u001b[38;5;124mf\u001b[39m\u001b[38;5;124m\"\u001b[39m\u001b[38;5;132;01m{\u001b[39;00mNUM\u001b[38;5;132;01m}\u001b[39;00m\u001b[38;5;124m is an odd\u001b[39m\u001b[38;5;124m\"\u001b[39m)\n\u001b[1;32m----> 8\u001b[0m even_odd4(NUM)\n\u001b[0;32m     10\u001b[0m NUM\u001b[38;5;241m=\u001b[39mrandom\u001b[38;5;241m.\u001b[39mrandint(\u001b[38;5;241m1\u001b[39m,\u001b[38;5;241m100\u001b[39m)\n",
      "\u001b[1;31mNameError\u001b[0m: name 'NUM' is not defined"
     ]
    }
   ],
   "source": [
    "import random\n",
    "def even_odd4(NUM):\n",
    "    if NUM%2==0:\n",
    "        print(f\"{NUM} is an even\")\n",
    "    else:\n",
    "        print(f\"{NUM} is an odd\")\n",
    "\n",
    "even_odd4(NUM)\n",
    "\n",
    "NUM=random.randint(1,100) # Global"
   ]
  },
  {
   "cell_type": "code",
   "execution_count": null,
   "id": "fe7e4bbd-6aad-405f-8ca9-779efb85c9f9",
   "metadata": {},
   "outputs": [],
   "source": [
    "def even_odd2(num):\n",
    "    if numnum%2==0:\n",
    "        print(f\"{num} is an even\")\n",
    "    else:\n",
    "        print(f\"{num} is an odd\")\n",
    "\n"
   ]
  },
  {
   "cell_type": "code",
   "execution_count": null,
   "id": "74fd82d1-0e15-44d1-b636-8aa43501d94d",
   "metadata": {},
   "outputs": [],
   "source": [
    "import random\n",
    "\n",
    "def even_odd2(num):\n",
    "    if num %2 ==0:\n",
    "        print(num)\n",
    "        print('even')\n",
    "    else:\n",
    "        print(num)\n",
    "        print('odd')\n",
    "\n",
    "even_odd2(num)\n",
    "num=random.randint(1,1000)\n",
    "\n"
   ]
  },
  {
   "cell_type": "code",
   "execution_count": 21,
   "id": "52903e9a-3b2f-4d74-af87-05417872b708",
   "metadata": {},
   "outputs": [
    {
     "name": "stdin",
     "output_type": "stream",
     "text": [
      "enter the salary: 10000\n",
      "enter the tax_per 10\n"
     ]
    },
    {
     "name": "stdout",
     "output_type": "stream",
     "text": [
      "the tax amount is:1000.0\n"
     ]
    }
   ],
   "source": [
    "def TOTAL_TAX():\n",
    "    salary=eval(input('enter the salary:'))\n",
    "    tax_per=eval(input('enter the tax_per'))\n",
    "    tax_amount=salary*tax_per/100\n",
    "    print(f'the tax amount is:{tax_amount}')\n",
    "\n",
    "TOTAL_TAX()"
   ]
  },
  {
   "cell_type": "code",
   "execution_count": 23,
   "id": "a2833d7d-5bfd-4bc3-a4fd-e6c52cb6e181",
   "metadata": {},
   "outputs": [
    {
     "name": "stdout",
     "output_type": "stream",
     "text": [
      "the tax amount is:500.0\n"
     ]
    }
   ],
   "source": [
    "def TOTAL_TAX1(salary,tax_per):\n",
    "    tax_amount=salary*tax_per/100\n",
    "    print(f'the tax amount is:{tax_amount}')\n",
    "\n",
    "TOTAL_TAX1(10000,5)"
   ]
  },
  {
   "cell_type": "markdown",
   "id": "99d0ee14-a678-4b4d-b407-a329e2206710",
   "metadata": {},
   "source": [
    "**Default arguments**\n",
    "\n",
    "- default argument means the value fixed\n",
    "\n",
    "- no need of provide while calling\n",
    "\n",
    "- if we provide while calling it takes that value only\n",
    "\n",
    "- in below example tax_per is a default argument"
   ]
  },
  {
   "cell_type": "code",
   "execution_count": 34,
   "id": "1d9cec96-88c1-4878-83f1-2d39e0ce1f20",
   "metadata": {},
   "outputs": [
    {
     "name": "stdout",
     "output_type": "stream",
     "text": [
      "the tax amount is:2000.0\n"
     ]
    }
   ],
   "source": [
    "def TOTAL_TAX2(salary,tax_per=20):\n",
    "    tax_amount=salary*tax_per/100\n",
    "    print(f'the tax amount is:{tax_amount}')\n",
    "\n",
    "TOTAL_TAX2(10000)\n",
    "\n",
    "# step-1: def function === tax_per=20\n",
    "# step-2: call the function === 20\n",
    "# step-3: run the function  === 20"
   ]
  },
  {
   "cell_type": "code",
   "execution_count": 36,
   "id": "8dccf06a-4930-4f0f-b9b7-bacf9819d48f",
   "metadata": {},
   "outputs": [
    {
     "name": "stdout",
     "output_type": "stream",
     "text": [
      "the tax amount is:3000.0\n"
     ]
    }
   ],
   "source": [
    "def TOTAL_TAX2(salary,tax_per=20):\n",
    "    tax_amount=salary*tax_per/100\n",
    "    print(f'the tax amount is:{tax_amount}')\n",
    "\n",
    "TOTAL_TAX2(10000,30)\n",
    "\n",
    "# step-1: def function  ====== tax_per=20\n",
    "# step-2: call the function === tax_per=30\n",
    "# step-3: run the function  === 30"
   ]
  },
  {
   "cell_type": "code",
   "execution_count": 32,
   "id": "b465904b-5c43-4f40-bae8-b69e20133e6a",
   "metadata": {},
   "outputs": [
    {
     "name": "stdout",
     "output_type": "stream",
     "text": [
      "the tax amount is:4000.0\n"
     ]
    }
   ],
   "source": [
    "def TOTAL_TAX2(salary,tax_per=20):\n",
    "    tax_per=40\n",
    "    tax_amount=salary*tax_per/100\n",
    "    print(f'the tax amount is:{tax_amount}')\n",
    "\n",
    "TOTAL_TAX2(10000,30)\n",
    "\n",
    "# step-1: def function  ====== tax_per=20\n",
    "# step-2: call the function === tax_per=30\n",
    "# step-3: run the function === tax_per=40"
   ]
  },
  {
   "cell_type": "code",
   "execution_count": 38,
   "id": "66973574-74dd-457b-a6b2-cb8cdaef470b",
   "metadata": {},
   "outputs": [
    {
     "name": "stdout",
     "output_type": "stream",
     "text": [
      "60\n"
     ]
    }
   ],
   "source": [
    "# case-1:\n",
    "def add(a,b,c):\n",
    "    print(a+b+c)\n",
    "add(10,20,30)"
   ]
  },
  {
   "cell_type": "code",
   "execution_count": 40,
   "id": "dcb1e196-0ce0-4933-98d1-c3669e337f37",
   "metadata": {},
   "outputs": [
    {
     "name": "stdout",
     "output_type": "stream",
     "text": [
      "a: 10\n",
      "b: 10\n",
      "c: 10\n",
      "130\n"
     ]
    }
   ],
   "source": [
    "# case-2:\n",
    "def add(a,b,c=100):\n",
    "    print('a:',a)\n",
    "    print('b:',a)\n",
    "    print('c:',a)\n",
    "    print(a+b+c)\n",
    "add(10,20)"
   ]
  },
  {
   "cell_type": "code",
   "execution_count": 42,
   "id": "bd08d621-810f-4b3e-9c90-4d51bef51370",
   "metadata": {},
   "outputs": [
    {
     "ename": "SyntaxError",
     "evalue": "parameter without a default follows parameter with a default (1425038266.py, line 2)",
     "output_type": "error",
     "traceback": [
      "\u001b[1;36m  Cell \u001b[1;32mIn[42], line 2\u001b[1;36m\u001b[0m\n\u001b[1;33m    def add(a,b=200,c):\u001b[0m\n\u001b[1;37m                    ^\u001b[0m\n\u001b[1;31mSyntaxError\u001b[0m\u001b[1;31m:\u001b[0m parameter without a default follows parameter with a default\n"
     ]
    }
   ],
   "source": [
    "# case-3:\n",
    "def add(a,b=200,c):\n",
    "    print('a:',a)\n",
    "    print('b:',a)\n",
    "    print('c:',a)\n",
    "    print(a+b+c)\n",
    "add(10,20)"
   ]
  },
  {
   "cell_type": "markdown",
   "id": "6f5b8a9f-b09f-4047-85b2-9483cbf45d7e",
   "metadata": {},
   "source": [
    "**Note: default parameters at last**"
   ]
  },
  {
   "cell_type": "code",
   "execution_count": null,
   "id": "9a8f20cd-a306-4c82-9be1-b23c0338e732",
   "metadata": {},
   "outputs": [],
   "source": [
    "def add(a,c,b=200):\n",
    "    print('a:',a)\n",
    "    print('b:',a)\n",
    "    print('c:',a)\n",
    "    print(a+b+c)\n",
    "add(10,20)"
   ]
  },
  {
   "cell_type": "code",
   "execution_count": null,
   "id": "2f9126c2-58af-4d6a-8391-83030a74d225",
   "metadata": {},
   "outputs": [],
   "source": [
    "a,b,c=100   # w\n",
    "a,b=100,c   # f\n",
    "a=200,b,c   # f\n",
    "a,b=100,c=200 # w\n",
    "a=100,b,c=200 # f \n",
    "a=100,b=200,c # f\n",
    "a=100,b=200,c=300 # w"
   ]
  },
  {
   "cell_type": "code",
   "execution_count": 45,
   "id": "b354a4f4-c33e-40da-99a4-2328d4ecae0f",
   "metadata": {},
   "outputs": [
    {
     "ename": "SyntaxError",
     "evalue": "parameter without a default follows parameter with a default (3712362325.py, line 1)",
     "output_type": "error",
     "traceback": [
      "\u001b[1;36m  Cell \u001b[1;32mIn[45], line 1\u001b[1;36m\u001b[0m\n\u001b[1;33m    def add(a,b=200,c):\u001b[0m\n\u001b[1;37m                    ^\u001b[0m\n\u001b[1;31mSyntaxError\u001b[0m\u001b[1;31m:\u001b[0m parameter without a default follows parameter with a default\n"
     ]
    }
   ],
   "source": [
    "def add(a,b=200,c):\n",
    "    print('a:',a)\n",
    "    print('b:',a)\n",
    "    print('c:',a)\n",
    "    print(a+b+c)\n",
    "add(a=10,c=20)"
   ]
  },
  {
   "cell_type": "code",
   "execution_count": 47,
   "id": "76b9d6ce-be4f-4455-b6d9-4128ea7893e5",
   "metadata": {},
   "outputs": [
    {
     "name": "stdout",
     "output_type": "stream",
     "text": [
      "a: 10\n",
      "b: 10\n",
      "c: 10\n",
      "230\n"
     ]
    }
   ],
   "source": [
    "def add(a,c,b=200):\n",
    "    print('a:',a)\n",
    "    print('b:',a)\n",
    "    print('c:',a)\n",
    "    print(a+b+c)\n",
    "add(a=10,c=20)"
   ]
  },
  {
   "cell_type": "code",
   "execution_count": 51,
   "id": "f3971afe-d1b0-4356-a275-891d39de24d8",
   "metadata": {},
   "outputs": [
    {
     "name": "stdout",
     "output_type": "stream",
     "text": [
      "a: 100\n",
      "b: 100\n",
      "c: 100\n",
      "600\n"
     ]
    }
   ],
   "source": [
    "def add(a,b,c=100):\n",
    "    print('a:',a)\n",
    "    print('b:',a)\n",
    "    print('c:',a)\n",
    "    print(a+b+c)\n",
    "c=400 \n",
    "add(100,200,300)\n",
    "\n",
    "# def ==== c=100\n",
    "# c=400\n",
    "# while calling c=300"
   ]
  },
  {
   "cell_type": "code",
   "execution_count": 53,
   "id": "36ea0489-02c9-4400-9c12-254891e24576",
   "metadata": {},
   "outputs": [
    {
     "name": "stdout",
     "output_type": "stream",
     "text": [
      "a: 100\n",
      "b: 200\n",
      "c: 400\n",
      "700\n"
     ]
    }
   ],
   "source": [
    "def add(a,b):\n",
    "    print('a:',a)\n",
    "    print('b:',b)\n",
    "    print('c:',c)\n",
    "    print(a+b+c)\n",
    "c=400 \n",
    "add(100,200)"
   ]
  },
  {
   "cell_type": "code",
   "execution_count": 55,
   "id": "1af85ce0-fa8e-483f-bf5c-d52518440982",
   "metadata": {},
   "outputs": [
    {
     "name": "stdout",
     "output_type": "stream",
     "text": [
      "a: 100\n",
      "b: 200\n",
      "c: 700\n",
      "1000\n"
     ]
    }
   ],
   "source": [
    "def add(a,b):\n",
    "    c=700\n",
    "    print('a:',a)\n",
    "    print('b:',b)\n",
    "    print('c:',c)\n",
    "    print(a+b+c)\n",
    "c=400\n",
    "add(100,200)\n",
    "\n",
    "# step-1: define ==== c=NO\n",
    "# step-2: globa c=400\n",
    "# step-3: while calling   C is not give 400\n",
    "# step-4: running  c=700"
   ]
  },
  {
   "cell_type": "code",
   "execution_count": 57,
   "id": "af2eac16-f12c-46ff-b4fa-4f160193617f",
   "metadata": {},
   "outputs": [
    {
     "name": "stdout",
     "output_type": "stream",
     "text": [
      "a: 100\n",
      "b: 200\n",
      "c: 700\n",
      "1000\n"
     ]
    }
   ],
   "source": [
    "c=800\n",
    "def add(a,b):\n",
    "    c=700\n",
    "    print('a:',a)\n",
    "    print('b:',b)\n",
    "    print('c:',c)\n",
    "    print(a+b+c)\n",
    "c=400\n",
    "add(100,200)\n",
    "# c=800 ==== c=400 ==== c=700"
   ]
  },
  {
   "cell_type": "code",
   "execution_count": 59,
   "id": "0c1e7db3-7e4b-4264-acaa-4943f84b464c",
   "metadata": {},
   "outputs": [
    {
     "ename": "TypeError",
     "evalue": "add() takes 2 positional arguments but 3 were given",
     "output_type": "error",
     "traceback": [
      "\u001b[1;31m---------------------------------------------------------------------------\u001b[0m",
      "\u001b[1;31mTypeError\u001b[0m                                 Traceback (most recent call last)",
      "Cell \u001b[1;32mIn[59], line 9\u001b[0m\n\u001b[0;32m      7\u001b[0m     \u001b[38;5;28mprint\u001b[39m(a\u001b[38;5;241m+\u001b[39mb\u001b[38;5;241m+\u001b[39mc)\n\u001b[0;32m      8\u001b[0m c\u001b[38;5;241m=\u001b[39m\u001b[38;5;241m400\u001b[39m\n\u001b[1;32m----> 9\u001b[0m add(\u001b[38;5;241m100\u001b[39m,\u001b[38;5;241m200\u001b[39m,\u001b[38;5;241m900\u001b[39m)\n",
      "\u001b[1;31mTypeError\u001b[0m: add() takes 2 positional arguments but 3 were given"
     ]
    }
   ],
   "source": [
    "c=800\n",
    "def add(a,b):\n",
    "    c=700\n",
    "    print('a:',a)\n",
    "    print('b:',b)\n",
    "    print('c:',c)\n",
    "    print(a+b+c)\n",
    "c=400\n",
    "add(100,200,900)"
   ]
  },
  {
   "cell_type": "code",
   "execution_count": 63,
   "id": "18d8c10a-f2fe-4406-b100-8e3bdf1dc303",
   "metadata": {},
   "outputs": [
    {
     "name": "stdout",
     "output_type": "stream",
     "text": [
      "a: 100\n",
      "b: 200\n"
     ]
    },
    {
     "ename": "NameError",
     "evalue": "name 'C' is not defined",
     "output_type": "error",
     "traceback": [
      "\u001b[1;31m---------------------------------------------------------------------------\u001b[0m",
      "\u001b[1;31mNameError\u001b[0m                                 Traceback (most recent call last)",
      "Cell \u001b[1;32mIn[63], line 6\u001b[0m\n\u001b[0;32m      4\u001b[0m     \u001b[38;5;28mprint\u001b[39m(\u001b[38;5;124m'\u001b[39m\u001b[38;5;124mc:\u001b[39m\u001b[38;5;124m'\u001b[39m,C)\n\u001b[0;32m      5\u001b[0m     \u001b[38;5;28mprint\u001b[39m(A\u001b[38;5;241m+\u001b[39mB\u001b[38;5;241m+\u001b[39mC)\n\u001b[1;32m----> 6\u001b[0m add(\u001b[38;5;241m100\u001b[39m,\u001b[38;5;241m200\u001b[39m)\n\u001b[0;32m      7\u001b[0m C\u001b[38;5;241m=\u001b[39m\u001b[38;5;241m700\u001b[39m\n",
      "Cell \u001b[1;32mIn[63], line 4\u001b[0m, in \u001b[0;36madd\u001b[1;34m(A, B)\u001b[0m\n\u001b[0;32m      2\u001b[0m \u001b[38;5;28mprint\u001b[39m(\u001b[38;5;124m'\u001b[39m\u001b[38;5;124ma:\u001b[39m\u001b[38;5;124m'\u001b[39m,A)\n\u001b[0;32m      3\u001b[0m \u001b[38;5;28mprint\u001b[39m(\u001b[38;5;124m'\u001b[39m\u001b[38;5;124mb:\u001b[39m\u001b[38;5;124m'\u001b[39m,B)\n\u001b[1;32m----> 4\u001b[0m \u001b[38;5;28mprint\u001b[39m(\u001b[38;5;124m'\u001b[39m\u001b[38;5;124mc:\u001b[39m\u001b[38;5;124m'\u001b[39m,C)\n\u001b[0;32m      5\u001b[0m \u001b[38;5;28mprint\u001b[39m(A\u001b[38;5;241m+\u001b[39mB\u001b[38;5;241m+\u001b[39mC)\n",
      "\u001b[1;31mNameError\u001b[0m: name 'C' is not defined"
     ]
    }
   ],
   "source": [
    "def add(A,B):\n",
    "    print('a:',A)\n",
    "    print('b:',B)\n",
    "    print('c:',C)\n",
    "    print(A+B+C)\n",
    "add(100,200)\n",
    "C=700"
   ]
  },
  {
   "cell_type": "code",
   "execution_count": 65,
   "id": "1ea68c61-fe6f-4e48-a4a8-d7322404317f",
   "metadata": {},
   "outputs": [
    {
     "name": "stdout",
     "output_type": "stream",
     "text": [
      "a: 100\n",
      "b: 200\n",
      "c: 700\n",
      "1000\n"
     ]
    }
   ],
   "source": [
    "c=800\n",
    "def add(a,b,c):\n",
    "    c=700\n",
    "    print('a:',a)\n",
    "    print('b:',b)\n",
    "    print('c:',c)\n",
    "    print(a+b+c)\n",
    "c=400\n",
    "add(100,200,900)\n",
    "\n",
    "# 800====400==900====700"
   ]
  },
  {
   "cell_type": "code",
   "execution_count": 67,
   "id": "938e9833-b439-4670-a70a-6301fda30483",
   "metadata": {},
   "outputs": [
    {
     "name": "stdout",
     "output_type": "stream",
     "text": [
      "a: 100\n",
      "b: 200\n",
      "c: 700\n",
      "1000\n"
     ]
    }
   ],
   "source": [
    "c=800\n",
    "def add(a,b,c=1000):\n",
    "    c=700\n",
    "    print('a:',a)\n",
    "    print('b:',b)\n",
    "    print('c:',c)\n",
    "    print(a+b+c)\n",
    "c=400\n",
    "add(100,200,900)\n",
    "# 800 ==== 10000 === 400 === 900 === 700"
   ]
  },
  {
   "cell_type": "code",
   "execution_count": 69,
   "id": "ac412f7f-426d-41ad-a0c3-ab9004613674",
   "metadata": {},
   "outputs": [
    {
     "name": "stdout",
     "output_type": "stream",
     "text": [
      "a: 100\n",
      "b: 200\n",
      "c: 900\n",
      "1200\n"
     ]
    }
   ],
   "source": [
    "c=800\n",
    "def add(a,b,c=1000):\n",
    "    print('a:',a)\n",
    "    print('b:',b)\n",
    "    print('c:',c)\n",
    "    print(a+b+c) # 100+200+900=1200\n",
    "    c=1200\n",
    "c=400\n",
    "add(100,200,900)\n",
    "\n",
    "# c=800 === 1000===400===900"
   ]
  },
  {
   "cell_type": "markdown",
   "id": "c7a1c36e-81ca-403c-a83b-3748b2c84f31",
   "metadata": {},
   "source": [
    "**global and local variales**\n",
    "\n",
    "- the variables which are intialised out side the function called as **global variables**\n",
    "\n",
    "    - global variables can be use out side the function\n",
    "\n",
    "    - global varaiables can be use in side the function\n",
    "\n",
    "- local variables are intilaised inside the function only\n",
    "\n",
    "    - local variables can not use outside the function"
   ]
  },
  {
   "cell_type": "code",
   "execution_count": 82,
   "id": "43fb15ab-0714-4f67-ab91-fe3f44d46206",
   "metadata": {},
   "outputs": [
    {
     "name": "stdout",
     "output_type": "stream",
     "text": [
      "n1: 100\n",
      "n2: 200\n",
      "300\n"
     ]
    },
    {
     "data": {
      "text/plain": [
       "20000"
      ]
     },
     "execution_count": 82,
     "metadata": {},
     "output_type": "execute_result"
    }
   ],
   "source": [
    "n1=100\n",
    "n2=200\n",
    "\n",
    "def ADD():\n",
    "    print('n1:',n1)\n",
    "    print('n2:',n2)\n",
    "    summ=n1+n2\n",
    "    print(summ)\n",
    "\n",
    "ADD()\n",
    "\n",
    "n1*n2"
   ]
  },
  {
   "cell_type": "code",
   "execution_count": 84,
   "id": "54971789-5040-4097-84d2-3fd92e174934",
   "metadata": {},
   "outputs": [
    {
     "name": "stdout",
     "output_type": "stream",
     "text": [
      "N1: 100\n",
      "N2: 200\n",
      "300\n"
     ]
    },
    {
     "ename": "NameError",
     "evalue": "name 'N1' is not defined",
     "output_type": "error",
     "traceback": [
      "\u001b[1;31m---------------------------------------------------------------------------\u001b[0m",
      "\u001b[1;31mNameError\u001b[0m                                 Traceback (most recent call last)",
      "Cell \u001b[1;32mIn[84], line 11\u001b[0m\n\u001b[0;32m      7\u001b[0m     \u001b[38;5;28mprint\u001b[39m(SUMM)\n\u001b[0;32m      9\u001b[0m ADD1()\n\u001b[1;32m---> 11\u001b[0m N1\u001b[38;5;241m*\u001b[39mN2\n",
      "\u001b[1;31mNameError\u001b[0m: name 'N1' is not defined"
     ]
    }
   ],
   "source": [
    "def ADD1():\n",
    "    N1=100\n",
    "    N2=200\n",
    "    print('N1:',N1)\n",
    "    print('N2:',N2)\n",
    "    SUMM=N1+N2\n",
    "    print(SUMM)\n",
    "\n",
    "ADD1()\n",
    "\n",
    "N1*N2"
   ]
  },
  {
   "cell_type": "code",
   "execution_count": 86,
   "id": "91346c03-b96b-4c5e-9ee7-2d6938187af0",
   "metadata": {},
   "outputs": [
    {
     "name": "stdout",
     "output_type": "stream",
     "text": [
      "n1: 100\n",
      "n2: 200\n",
      "300\n"
     ]
    }
   ],
   "source": [
    "n1=100\n",
    "n2=200\n",
    "def ADD():\n",
    "    print('n1:',n1)\n",
    "    print('n2:',n2)\n",
    "    summ=n1+n2\n",
    "    print(summ)\n",
    "\n",
    "ADD()"
   ]
  },
  {
   "cell_type": "code",
   "execution_count": 88,
   "id": "9290bb30-2ce6-4991-a64f-6df25c129b02",
   "metadata": {},
   "outputs": [
    {
     "ename": "NameError",
     "evalue": "name 'summ' is not defined",
     "output_type": "error",
     "traceback": [
      "\u001b[1;31m---------------------------------------------------------------------------\u001b[0m",
      "\u001b[1;31mNameError\u001b[0m                                 Traceback (most recent call last)",
      "Cell \u001b[1;32mIn[88], line 1\u001b[0m\n\u001b[1;32m----> 1\u001b[0m summ\n",
      "\u001b[1;31mNameError\u001b[0m: name 'summ' is not defined"
     ]
    }
   ],
   "source": [
    "summ"
   ]
  },
  {
   "cell_type": "code",
   "execution_count": 90,
   "id": "1f9aae0b-923b-4b79-9573-f986562802e9",
   "metadata": {},
   "outputs": [
    {
     "name": "stdout",
     "output_type": "stream",
     "text": [
      "n1: 100\n",
      "n2: 200\n",
      "300\n"
     ]
    }
   ],
   "source": [
    "n1=100\n",
    "n2=200\n",
    "def ADD():\n",
    "    global summ\n",
    "    print('n1:',n1)\n",
    "    print('n2:',n2)\n",
    "    summ=n1+n2\n",
    "    print(summ)\n",
    "\n",
    "ADD()"
   ]
  },
  {
   "cell_type": "code",
   "execution_count": 92,
   "id": "ced7af6c-1af8-4d43-9868-9ce9e53fb3c8",
   "metadata": {},
   "outputs": [
    {
     "data": {
      "text/plain": [
       "300"
      ]
     },
     "execution_count": 92,
     "metadata": {},
     "output_type": "execute_result"
    }
   ],
   "source": [
    "summ"
   ]
  },
  {
   "cell_type": "markdown",
   "id": "452372f4-0ab7-43d0-9e5d-d3ad6dec865c",
   "metadata": {},
   "source": [
    "- Functions with out arguments\n",
    "\n",
    "- Functions with arguments\n",
    "\n",
    "- Functions with default argument\n",
    "\n",
    "- Global vs local\n",
    "\n",
    "- How to use local variable outside the function using **global**"
   ]
  },
  {
   "cell_type": "code",
   "execution_count": null,
   "id": "69062dd5-cc52-4a8f-ae9c-fadf97a13426",
   "metadata": {},
   "outputs": [],
   "source": [
    "# Avg program\n",
    "# with out\n",
    "# with \n",
    "# default\n",
    "# avg value should print new cell outside the function"
   ]
  },
  {
   "cell_type": "code",
   "execution_count": 4,
   "id": "1895d349-c5f6-4240-b5e8-3707f47f285c",
   "metadata": {},
   "outputs": [
    {
     "name": "stdin",
     "output_type": "stream",
     "text": [
      "enter the n1: 10\n",
      "enter the n2: 11\n",
      "enter the n3: 17\n"
     ]
    },
    {
     "name": "stdout",
     "output_type": "stream",
     "text": [
      "The avg of 10,11 and 17 is: 12.67\n"
     ]
    }
   ],
   "source": [
    "n1=eval(input('enter the n1:'))\n",
    "n2=eval(input('enter the n2:'))\n",
    "n3=eval(input('enter the n3:'))\n",
    "avg=round((n1+n2+n3)/3,2)\n",
    "print(f'The avg of {n1},{n2} and {n3} is: {avg}')"
   ]
  },
  {
   "cell_type": "code",
   "execution_count": 6,
   "id": "b3e544df-f39a-423a-84cb-1e5ed543cbf4",
   "metadata": {},
   "outputs": [
    {
     "name": "stdin",
     "output_type": "stream",
     "text": [
      "enter the n1: 10\n",
      "enter the n2: 11\n",
      "enter the n3: 17\n"
     ]
    },
    {
     "name": "stdout",
     "output_type": "stream",
     "text": [
      "The avg of 10,11 and 17 is: 12.67\n"
     ]
    }
   ],
   "source": [
    "def AVG():\n",
    "    n1=eval(input('enter the n1:'))\n",
    "    n2=eval(input('enter the n2:'))\n",
    "    n3=eval(input('enter the n3:'))\n",
    "    avg=round((n1+n2+n3)/3,2)\n",
    "    print(f'The avg of {n1},{n2} and {n3} is: {avg}')\n",
    "\n",
    "AVG()"
   ]
  },
  {
   "cell_type": "code",
   "execution_count": 8,
   "id": "ad87f76d-7133-4c12-be17-c4c1689c7fef",
   "metadata": {},
   "outputs": [
    {
     "name": "stdout",
     "output_type": "stream",
     "text": [
      "The avg of 10,11 and 17 is: 12.67\n"
     ]
    }
   ],
   "source": [
    "def AVG1(n1,n2,n3):\n",
    "    avg=round((n1+n2+n3)/3,2)\n",
    "    print(f'The avg of {n1},{n2} and {n3} is: {avg}')\n",
    "\n",
    "AVG1(10,11,17)"
   ]
  },
  {
   "cell_type": "code",
   "execution_count": 18,
   "id": "69f7ed2f-53b5-4449-9987-26e2ca1d1c09",
   "metadata": {},
   "outputs": [
    {
     "name": "stdout",
     "output_type": "stream",
     "text": [
      "The avg of 10,11 and 17 is: 12.67\n"
     ]
    }
   ],
   "source": [
    "def AVG2(n1,n2,n3=17):\n",
    "    global Avg\n",
    "    Avg=round((n1+n2+n3)/3,2)\n",
    "    print(f'The avg of {n1},{n2} and {n3} is: {Avg}')\n",
    "\n",
    "AVG2(10,11)"
   ]
  },
  {
   "cell_type": "code",
   "execution_count": 20,
   "id": "fc2e056a-0ca3-4f6f-81da-bd1125b51562",
   "metadata": {},
   "outputs": [
    {
     "data": {
      "text/plain": [
       "12.67"
      ]
     },
     "execution_count": 20,
     "metadata": {},
     "output_type": "execute_result"
    }
   ],
   "source": [
    "Avg"
   ]
  },
  {
   "cell_type": "code",
   "execution_count": 22,
   "id": "421727b9-808b-485d-a9ba-69f3459d210b",
   "metadata": {},
   "outputs": [
    {
     "name": "stdin",
     "output_type": "stream",
     "text": [
      "enter the n1: 8\n",
      "enter the n2: 9\n",
      "enter the n3: 9\n"
     ]
    },
    {
     "name": "stdout",
     "output_type": "stream",
     "text": [
      "The avg of 8,9 and 9 is: 8.67\n"
     ]
    }
   ],
   "source": [
    "def AVG():\n",
    "    n1=eval(input('enter the n1:'))\n",
    "    n2=eval(input('enter the n2:'))\n",
    "    n3=eval(input('enter the n3:'))\n",
    "    avg=round((n1+n2+n3)/3,2)\n",
    "    print(f'The avg of {n1},{n2} and {n3} is: {avg}')\n",
    "\n",
    "AVG()\n",
    "\n",
    "def AVG1(n1,n2,n3):\n",
    "    avg=round((n1+n2+n3)/3,2)\n",
    "    print(f'The avg of {n1},{n2} and {n3} is: {avg}')\n",
    "\n",
    "AVG1(10,11,17)\n",
    "\n",
    "def AVG2(n1,n2,n3=17):\n",
    "    global Avg\n",
    "    Avg=round((n1+n2+n3)/3,2)\n",
    "    print(f'The avg of {n1},{n2} and {n3} is: {Avg}')\n",
    "\n",
    "AVG2(10,11)"
   ]
  },
  {
   "cell_type": "markdown",
   "id": "da31a0ab-a15b-4574-ace2-4b4a8094f4e2",
   "metadata": {},
   "source": [
    "**unbound local error**\n",
    "\n",
    "- if we access the local variable before it intialize\n",
    "\n",
    "- then we will get unbound local error "
   ]
  },
  {
   "cell_type": "code",
   "execution_count": 24,
   "id": "fb09ce41-ba30-4d9e-aaf3-804525d718ef",
   "metadata": {},
   "outputs": [
    {
     "ename": "NameError",
     "evalue": "name 'x' is not defined",
     "output_type": "error",
     "traceback": [
      "\u001b[1;31m---------------------------------------------------------------------------\u001b[0m",
      "\u001b[1;31mNameError\u001b[0m                                 Traceback (most recent call last)",
      "Cell \u001b[1;32mIn[24], line 1\u001b[0m\n\u001b[1;32m----> 1\u001b[0m \u001b[38;5;28mprint\u001b[39m(x)\n\u001b[0;32m      2\u001b[0m x\u001b[38;5;241m=\u001b[39m\u001b[38;5;241m5\u001b[39m\n",
      "\u001b[1;31mNameError\u001b[0m: name 'x' is not defined"
     ]
    }
   ],
   "source": [
    "print(x)\n",
    "x=5"
   ]
  },
  {
   "cell_type": "code",
   "execution_count": 26,
   "id": "2d01bb6d-b944-4d12-b0d7-a372f629fe8f",
   "metadata": {},
   "outputs": [],
   "source": [
    "def fun1():\n",
    "    print(x)  # im stop x=lv = not have \n",
    "    x=5"
   ]
  },
  {
   "cell_type": "code",
   "execution_count": 28,
   "id": "778abae5-5c63-4eb6-a887-d12fcfe54f31",
   "metadata": {},
   "outputs": [
    {
     "ename": "UnboundLocalError",
     "evalue": "cannot access local variable 'x' where it is not associated with a value",
     "output_type": "error",
     "traceback": [
      "\u001b[1;31m---------------------------------------------------------------------------\u001b[0m",
      "\u001b[1;31mUnboundLocalError\u001b[0m                         Traceback (most recent call last)",
      "Cell \u001b[1;32mIn[28], line 1\u001b[0m\n\u001b[1;32m----> 1\u001b[0m fun1()\n",
      "Cell \u001b[1;32mIn[26], line 2\u001b[0m, in \u001b[0;36mfun1\u001b[1;34m()\u001b[0m\n\u001b[0;32m      1\u001b[0m \u001b[38;5;28;01mdef\u001b[39;00m \u001b[38;5;21mfun1\u001b[39m():\n\u001b[1;32m----> 2\u001b[0m     \u001b[38;5;28mprint\u001b[39m(x)\n\u001b[0;32m      3\u001b[0m     x\u001b[38;5;241m=\u001b[39m\u001b[38;5;241m5\u001b[39m\n",
      "\u001b[1;31mUnboundLocalError\u001b[0m: cannot access local variable 'x' where it is not associated with a value"
     ]
    }
   ],
   "source": [
    "fun1()"
   ]
  },
  {
   "cell_type": "markdown",
   "id": "ff18f70f-da1a-49a8-ab1d-3b78178be6a0",
   "metadata": {},
   "source": [
    "**Note**\n",
    "\n",
    "- if a variable same as local and global\n",
    "\n",
    "- function treat as local only\n",
    "\n",
    "- and when we run the function , functon feels such a way im printing x with out intilaize"
   ]
  },
  {
   "cell_type": "code",
   "execution_count": 32,
   "id": "9235857d-e5b7-4bc2-8657-2a2fe48f7139",
   "metadata": {},
   "outputs": [
    {
     "ename": "UnboundLocalError",
     "evalue": "cannot access local variable 'x' where it is not associated with a value",
     "output_type": "error",
     "traceback": [
      "\u001b[1;31m---------------------------------------------------------------------------\u001b[0m",
      "\u001b[1;31mUnboundLocalError\u001b[0m                         Traceback (most recent call last)",
      "Cell \u001b[1;32mIn[32], line 6\u001b[0m\n\u001b[0;32m      3\u001b[0m     \u001b[38;5;28mprint\u001b[39m(x) \n\u001b[0;32m      4\u001b[0m     x\u001b[38;5;241m=\u001b[39m\u001b[38;5;241m5\u001b[39m\n\u001b[1;32m----> 6\u001b[0m fun2()\n",
      "Cell \u001b[1;32mIn[32], line 3\u001b[0m, in \u001b[0;36mfun2\u001b[1;34m()\u001b[0m\n\u001b[0;32m      2\u001b[0m \u001b[38;5;28;01mdef\u001b[39;00m \u001b[38;5;21mfun2\u001b[39m():\n\u001b[1;32m----> 3\u001b[0m     \u001b[38;5;28mprint\u001b[39m(x) \n\u001b[0;32m      4\u001b[0m     x\u001b[38;5;241m=\u001b[39m\u001b[38;5;241m5\u001b[39m\n",
      "\u001b[1;31mUnboundLocalError\u001b[0m: cannot access local variable 'x' where it is not associated with a value"
     ]
    }
   ],
   "source": [
    "x=10\n",
    "def fun2():\n",
    "    print(x) \n",
    "    x=5\n",
    "\n",
    "fun2()"
   ]
  },
  {
   "cell_type": "code",
   "execution_count": 35,
   "id": "e29583ed-4c53-4609-9240-c8df57034f06",
   "metadata": {},
   "outputs": [
    {
     "name": "stdout",
     "output_type": "stream",
     "text": [
      "10\n"
     ]
    }
   ],
   "source": [
    "# case-1:\n",
    "x=10\n",
    "def FUN1():\n",
    "    print(x)   # global\n",
    "\n",
    "FUN1()"
   ]
  },
  {
   "cell_type": "code",
   "execution_count": null,
   "id": "b2800edf-6b36-485a-9e14-11ed1d2b4e30",
   "metadata": {},
   "outputs": [],
   "source": [
    "# case-2: Failed\n",
    "\n",
    "def FUN2():\n",
    "    print(x)   # local\n",
    "    x=10\n",
    "\n",
    "FUN2()"
   ]
  },
  {
   "cell_type": "code",
   "execution_count": null,
   "id": "048c5563-a2aa-4081-b8c1-6acc6463275b",
   "metadata": {},
   "outputs": [],
   "source": [
    "# Case-3\n",
    "x=10\n",
    "def Fun3():\n",
    "    print(x)   # Local\n",
    "    x=10\n",
    "\n",
    "Fun3()"
   ]
  },
  {
   "cell_type": "code",
   "execution_count": null,
   "id": "9ce7fcba-8b70-405b-a8dc-f161a2527fb7",
   "metadata": {},
   "outputs": [],
   "source": [
    "# case-1:\n",
    "x=10\n",
    "def FUN1():\n",
    "    print(x)   # global\n",
    "\n",
    "FUN1()\n",
    "\n",
    "# case-2: Failed\n",
    "\n",
    "def FUN2():\n",
    "    print(x)   # local\n",
    "    x=10\n",
    "\n",
    "FUN2()\n",
    "\n",
    "# Case-3\n",
    "x=10\n",
    "def Fun3():\n",
    "    print(x)   # Local\n",
    "    x=10\n",
    "\n",
    "Fun3()"
   ]
  },
  {
   "cell_type": "markdown",
   "id": "d85aa6a8-4686-4735-9272-268d7cdb4c7e",
   "metadata": {},
   "source": [
    "**return statements**"
   ]
  },
  {
   "cell_type": "markdown",
   "id": "700306e8-fd4a-4846-9a58-63d42f4a3d9f",
   "metadata": {},
   "source": [
    "- As of now if i want to see the outputs inside function we just used a print\n",
    "\n",
    "- The varaible inside function also called as local variable\n",
    "\n",
    "- we know that local variabls can not use outside the function\n",
    "\n",
    "- so if i want to use local variables or ouputs inside the function\n",
    "\n",
    "    - either declare as global\n",
    "\n",
    "    - or ask function to return those variables to me instead of print"
   ]
  },
  {
   "cell_type": "code",
   "execution_count": 57,
   "id": "09049fec-62d0-4bb5-9494-2d9cf5ef70fb",
   "metadata": {},
   "outputs": [],
   "source": [
    "def ADD():\n",
    "    n1=10\n",
    "    n2=20\n",
    "    summ=n1+n2\n",
    "    return(summ)\n",
    "\n",
    "summ=ADD()\n",
    "# ADD() function is giving one value \n",
    "# that value we are storing in one variable\n",
    "# that might be same variable or different name"
   ]
  },
  {
   "cell_type": "code",
   "execution_count": 55,
   "id": "49a108ea-de55-493b-954b-277c60b50ed3",
   "metadata": {},
   "outputs": [
    {
     "data": {
      "text/plain": [
       "30"
      ]
     },
     "execution_count": 55,
     "metadata": {},
     "output_type": "execute_result"
    }
   ],
   "source": [
    "summ"
   ]
  },
  {
   "cell_type": "code",
   "execution_count": 59,
   "id": "2b6bf9dd-074e-4c9a-a04f-38503cf6354c",
   "metadata": {},
   "outputs": [],
   "source": [
    "def ADD_SUB():\n",
    "    n1=10\n",
    "    n2=20\n",
    "    summ=n1+n2\n",
    "    subb=n1-n2\n",
    "    return(summ,subb)\n",
    "\n",
    "val=ADD_SUB()\n",
    "summ,sub=ADD_SUB()"
   ]
  },
  {
   "cell_type": "code",
   "execution_count": 61,
   "id": "d59c88a7-355d-4722-a3c0-d1ad2629569f",
   "metadata": {},
   "outputs": [
    {
     "data": {
      "text/plain": [
       "(30, -10)"
      ]
     },
     "execution_count": 61,
     "metadata": {},
     "output_type": "execute_result"
    }
   ],
   "source": [
    "val"
   ]
  },
  {
   "cell_type": "code",
   "execution_count": 63,
   "id": "684d3849-a579-4cbc-bf9e-5f27ce835d8c",
   "metadata": {},
   "outputs": [
    {
     "data": {
      "text/plain": [
       "30"
      ]
     },
     "execution_count": 63,
     "metadata": {},
     "output_type": "execute_result"
    }
   ],
   "source": [
    "summ"
   ]
  },
  {
   "cell_type": "code",
   "execution_count": 65,
   "id": "9460c49b-cdd8-4635-9c11-432bb791cb84",
   "metadata": {},
   "outputs": [
    {
     "data": {
      "text/plain": [
       "-10"
      ]
     },
     "execution_count": 65,
     "metadata": {},
     "output_type": "execute_result"
    }
   ],
   "source": [
    "sub"
   ]
  },
  {
   "cell_type": "code",
   "execution_count": null,
   "id": "f80c1ac5-e156-4551-8880-884d374b147a",
   "metadata": {},
   "outputs": [],
   "source": [
    "n1=10  # p\n",
    "n1=10,20 # p\n",
    "n1,n2=10,20 # p\n",
    "n1,n2=10  # f\n"
   ]
  },
  {
   "cell_type": "markdown",
   "id": "6705508d-aa4c-4c42-bf1c-efe3e38e4cc1",
   "metadata": {},
   "source": [
    "- Multiple values storing in a single variables inform of tuple\n",
    "\n",
    "- One function has one return statement\n",
    "\n",
    "- we can return any number of variables"
   ]
  },
  {
   "cell_type": "code",
   "execution_count": 70,
   "id": "784dd1e1-1525-47a3-916a-57c5c4e3c152",
   "metadata": {},
   "outputs": [
    {
     "name": "stdout",
     "output_type": "stream",
     "text": [
      "10\n"
     ]
    }
   ],
   "source": [
    "s=0\n",
    "def f1():\n",
    "    s=10\n",
    "    print(s)\n",
    "f1()"
   ]
  },
  {
   "cell_type": "code",
   "execution_count": 74,
   "id": "807fe600-3de5-4e2e-b450-3506f6841842",
   "metadata": {},
   "outputs": [
    {
     "name": "stdout",
     "output_type": "stream",
     "text": [
      "10\n"
     ]
    }
   ],
   "source": [
    "s1=0\n",
    "def f11():\n",
    "    global s1\n",
    "    s1=10\n",
    "    print(s1)\n",
    "f11()"
   ]
  },
  {
   "cell_type": "code",
   "execution_count": 76,
   "id": "962be73c-cdc0-445e-a273-e753c6d465b3",
   "metadata": {},
   "outputs": [
    {
     "data": {
      "text/plain": [
       "10"
      ]
     },
     "execution_count": 76,
     "metadata": {},
     "output_type": "execute_result"
    }
   ],
   "source": [
    "s1"
   ]
  },
  {
   "cell_type": "code",
   "execution_count": 78,
   "id": "63d57549-e5b2-4d91-8c54-7ca8bed757cb",
   "metadata": {},
   "outputs": [],
   "source": [
    "s2=0\n",
    "def f12():\n",
    "    s2=10\n",
    "    return(s2)\n",
    "s2=f12()"
   ]
  },
  {
   "cell_type": "code",
   "execution_count": 80,
   "id": "ec198a8d-0019-47be-809a-710bd1c65abf",
   "metadata": {},
   "outputs": [
    {
     "data": {
      "text/plain": [
       "10"
      ]
     },
     "execution_count": 80,
     "metadata": {},
     "output_type": "execute_result"
    }
   ],
   "source": [
    "s2"
   ]
  },
  {
   "cell_type": "code",
   "execution_count": null,
   "id": "a788ff60-a810-4c22-a7f8-284288eb9502",
   "metadata": {},
   "outputs": [],
   "source": [
    "s1=0\n",
    "def f11():\n",
    "    global s1\n",
    "    s1=10\n",
    "    print(s1)\n",
    "f11()\n",
    "\n",
    "# 1. Im intialise s1=0\n",
    "# 2. Im updating s1 by 10\n",
    "# 3. I want to use this s1 outside function\n",
    "# 4. thats why im declare as global\n",
    "\n",
    "s2=0\n",
    "def f12():\n",
    "    s2=10\n",
    "    return(s2)\n",
    "s2=f12()\n",
    "# 1. Im intialise s2=0\n",
    "# 2. Im updating s2 by 10\n",
    "# 3. I want to use this s2 outside function\n",
    "# 4. thats im asking my function to return\n",
    "\n",
    "def f13():\n",
    "    s3=10\n",
    "    return(s3)\n",
    "s3=f13()\n",
    "\n",
    "# 3. I want to use this s3 outside function\n",
    "# 4. thats im asking my function to return"
   ]
  },
  {
   "cell_type": "markdown",
   "id": "422e63ac-67c4-4537-a080-5c541c4c0b0e",
   "metadata": {},
   "source": [
    "- when we update the global variable inside function\n",
    "\n",
    "- the use global keyword to use the value outside the function\n",
    "\n",
    "- otherwise simply use **return**"
   ]
  },
  {
   "cell_type": "markdown",
   "id": "4dc3e043-9a3b-4d72-bd09-d36db7d09426",
   "metadata": {},
   "source": [
    "**function inside function**"
   ]
  },
  {
   "cell_type": "code",
   "execution_count": 84,
   "id": "45a6312f-769b-4345-97b8-89b6520df651",
   "metadata": {},
   "outputs": [],
   "source": [
    "def greet1():\n",
    "    print('good morning')\n",
    "\n",
    "def greet2():\n",
    "    print('good night')"
   ]
  },
  {
   "cell_type": "code",
   "execution_count": 88,
   "id": "d33a9d5d-6976-4055-9ac5-cc925aa60092",
   "metadata": {},
   "outputs": [
    {
     "name": "stdout",
     "output_type": "stream",
     "text": [
      "good night\n"
     ]
    }
   ],
   "source": [
    "greet2()"
   ]
  },
  {
   "cell_type": "code",
   "execution_count": 100,
   "id": "a5c0eaec-5380-466b-b792-d26c7bd5a1ff",
   "metadata": {},
   "outputs": [],
   "source": [
    "def greet1():\n",
    "    print('good morning')\n",
    "    greet2()\n",
    "\n",
    "def greet2():\n",
    "    print('good night')\n"
   ]
  },
  {
   "cell_type": "code",
   "execution_count": 102,
   "id": "f2859b2d-8bbe-43e5-8c39-3b7f73ab95e4",
   "metadata": {},
   "outputs": [
    {
     "name": "stdout",
     "output_type": "stream",
     "text": [
      "good morning\n",
      "good night\n"
     ]
    }
   ],
   "source": [
    "greet1()"
   ]
  },
  {
   "cell_type": "code",
   "execution_count": 104,
   "id": "553130bd-b379-4247-9b5f-ae2565b3e7cf",
   "metadata": {},
   "outputs": [
    {
     "name": "stdout",
     "output_type": "stream",
     "text": [
      "good night\n",
      "good morning\n"
     ]
    }
   ],
   "source": [
    "def greet1():\n",
    "    print('good morning')\n",
    "\n",
    "\n",
    "def greet2():\n",
    "    print('good night')\n",
    "    greet1()\n",
    "\n",
    "greet2()"
   ]
  },
  {
   "cell_type": "code",
   "execution_count": null,
   "id": "9ea8f43e-a47c-41a4-8cc1-78c38fa37361",
   "metadata": {},
   "outputs": [],
   "source": [
    "def greet1():\n",
    "    print('good morning')\n",
    "    greet2()\n",
    "\n",
    "\n",
    "def greet2():\n",
    "    print('good night')\n",
    "    greet1()\n",
    "\n",
    "greet1()"
   ]
  },
  {
   "cell_type": "code",
   "execution_count": 124,
   "id": "83302c9a-2f2a-4daf-822c-23716560682e",
   "metadata": {},
   "outputs": [
    {
     "name": "stdout",
     "output_type": "stream",
     "text": [
      "good morning\n",
      "good eve\n",
      "good night\n",
      "good day\n"
     ]
    }
   ],
   "source": [
    "def greet11():\n",
    "    print('good morning')\n",
    "    print('good eve')\n",
    "    def greet22():\n",
    "        print('good night')\n",
    "    greet22()\n",
    "    print('good day')\n",
    "\n",
    "\n",
    "\n",
    "greet11()\n",
    "\n"
   ]
  },
  {
   "cell_type": "code",
   "execution_count": 118,
   "id": "2962080b-a57f-47e9-a46f-fc0d6d9ddfb5",
   "metadata": {},
   "outputs": [
    {
     "name": "stdout",
     "output_type": "stream",
     "text": [
      "good night\n"
     ]
    }
   ],
   "source": [
    "def greet22():\n",
    "    print('good night')\n",
    "greet22()"
   ]
  },
  {
   "cell_type": "code",
   "execution_count": null,
   "id": "2bc2de79-65d9-413b-a861-81733a896dd3",
   "metadata": {},
   "outputs": [],
   "source": [
    "def greet11():\n",
    "    print('good morning')\n",
    "    print('good eve')\n",
    "    print('good day')\n",
    "\n",
    "greet11()\n",
    "\n",
    "def greet11():\n",
    "    print('good morning')\n",
    "    print('good eve')\n",
    "    def greet22():\n",
    "        print('good night')\n",
    "    print('good day')\n",
    "\n",
    "greet11()\n",
    "\n",
    "def greet11():\n",
    "    print('good morning')\n",
    "    print('good eve')\n",
    "    def greet22():\n",
    "        print('good night')\n",
    "    greet22()\n",
    "    print('good day')\n",
    "\n",
    "\n",
    "\n",
    "greet11()"
   ]
  },
  {
   "cell_type": "code",
   "execution_count": null,
   "id": "6ceb2bfc-3c30-43ac-82ca-3a3e284f29e6",
   "metadata": {},
   "outputs": [],
   "source": [
    "def GREET1():\n",
    "    print('hello')\n",
    "    def GREET2():\n",
    "        print('good morning:',name)\n",
    "\n",
    "# good morning siva\n",
    "# idea: pakka i should run GREET1()\n",
    "#      inside GREET1() pakka GREET2() should call\n",
    "#      but GREET2 is using one variable name\n",
    "#      where could be the name should GREET1 or GREET2"
   ]
  },
  {
   "cell_type": "code",
   "execution_count": 126,
   "id": "4e6d8658-4a9b-4d47-95c0-e3267de209eb",
   "metadata": {},
   "outputs": [
    {
     "name": "stdout",
     "output_type": "stream",
     "text": [
      "hello\n",
      "good morning: siva\n"
     ]
    }
   ],
   "source": [
    "def GREET1():\n",
    "    print('hello')\n",
    "    def GREET2(name):\n",
    "        print('good morning:',name)\n",
    "    GREET2('siva')\n",
    "\n",
    "GREET1()"
   ]
  },
  {
   "cell_type": "code",
   "execution_count": null,
   "id": "72babe7c-2dad-4c2c-9d72-a29ccbad0de1",
   "metadata": {},
   "outputs": [],
   "source": [
    "def GREET2(name):\n",
    "        print('good morning:',name)\n",
    "GREET2('siva')"
   ]
  },
  {
   "cell_type": "code",
   "execution_count": 128,
   "id": "e18b9aca-3899-4e8d-88d3-501210fff9ec",
   "metadata": {},
   "outputs": [
    {
     "name": "stdout",
     "output_type": "stream",
     "text": [
      "hello\n",
      "good morning: SIVA\n"
     ]
    }
   ],
   "source": [
    "def GREET1(name):\n",
    "    print('hello')\n",
    "    def GREET2():\n",
    "        print('good morning:',name)\n",
    "    GREET2()\n",
    "\n",
    "GREET1('SIVA')"
   ]
  },
  {
   "cell_type": "code",
   "execution_count": null,
   "id": "c2c0c893-7c74-49e1-b41f-f3323b046753",
   "metadata": {},
   "outputs": [],
   "source": [
    "def GREET1():\n",
    "    print('hello')\n",
    "    def GREET2(name):\n",
    "        print('good morning:',name)\n",
    "    GREET2('siva')\n",
    "\n",
    "GREET1()\n",
    "\n",
    "def GREET1(name):\n",
    "    print('hello')\n",
    "    def GREET2():\n",
    "        print('good morning:',name)\n",
    "    GREET2()\n",
    "\n",
    "GREET1('SIVA')"
   ]
  },
  {
   "cell_type": "code",
   "execution_count": 130,
   "id": "0e7ba7c4-212e-43c8-ad9c-71046914e4c9",
   "metadata": {},
   "outputs": [
    {
     "name": "stdout",
     "output_type": "stream",
     "text": [
      "300\n",
      "-100\n",
      "20000\n"
     ]
    }
   ],
   "source": [
    "\n",
    "def main(a,b):\n",
    "    def add1():\n",
    "        print(a+b)\n",
    "    \n",
    "    def sub1():\n",
    "        print(a-b)\n",
    "    \n",
    "    def mul1():\n",
    "        print(a*b)\n",
    "    \n",
    "    add1()\n",
    "    sub1()\n",
    "    mul1()\n",
    "\n",
    "main(100,200)"
   ]
  },
  {
   "cell_type": "code",
   "execution_count": 132,
   "id": "0f4fa2cd-4b90-476c-a200-5e85601f4284",
   "metadata": {},
   "outputs": [
    {
     "name": "stdout",
     "output_type": "stream",
     "text": [
      "30\n",
      "-100\n",
      "2000000\n"
     ]
    }
   ],
   "source": [
    "def main():\n",
    "    def add1(a,b):\n",
    "        print(a+b)\n",
    "    \n",
    "    def sub1(a,b):\n",
    "        print(a-b)\n",
    "    \n",
    "    def mul1(a,b):\n",
    "        print(a*b)\n",
    "    \n",
    "    add1(10,20)\n",
    "    sub1(100,200)\n",
    "    mul1(1000,2000)\n",
    "\n",
    "main()"
   ]
  },
  {
   "cell_type": "code",
   "execution_count": null,
   "id": "d8dac0f1-3c16-4595-8d21-efc69e943a7e",
   "metadata": {},
   "outputs": [],
   "source": []
  }
 ],
 "metadata": {
  "kernelspec": {
   "display_name": "Python [conda env:base] *",
   "language": "python",
   "name": "conda-base-py"
  },
  "language_info": {
   "codemirror_mode": {
    "name": "ipython",
    "version": 3
   },
   "file_extension": ".py",
   "mimetype": "text/x-python",
   "name": "python",
   "nbconvert_exporter": "python",
   "pygments_lexer": "ipython3",
   "version": "3.12.7"
  }
 },
 "nbformat": 4,
 "nbformat_minor": 5
}
