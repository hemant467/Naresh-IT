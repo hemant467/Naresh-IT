{
 "cells": [
  {
   "cell_type": "markdown",
   "id": "c8ca5627-d484-4943-8549-a3531a352761",
   "metadata": {},
   "source": [
    "<center><h1><b>Conditional Statements</b></h1></center>"
   ]
  },
  {
   "cell_type": "code",
   "execution_count": null,
   "id": "76d008f5-6392-4144-b9dc-9d86d8a97ae9",
   "metadata": {},
   "outputs": [],
   "source": [
    "indentation"
   ]
  },
  {
   "cell_type": "markdown",
   "id": "cdc2f507-56c3-444c-89a0-a881ec294f26",
   "metadata": {},
   "source": [
    "# **Syntax**\n",
    "\n",
    "if <condition>:\n",
    "    <write the code> #Starting space is called INDENTATION"
   ]
  },
  {
   "cell_type": "markdown",
   "id": "a1f3430a-d532-4398-87f5-6e6c4a01a82a",
   "metadata": {},
   "source": [
    "# **Case - 1 : if**"
   ]
  },
  {
   "cell_type": "code",
   "execution_count": 6,
   "id": "78e20258-ed9b-43df-a676-510b391dd28e",
   "metadata": {},
   "outputs": [
    {
     "name": "stdout",
     "output_type": "stream",
     "text": [
      "hai\n"
     ]
    }
   ],
   "source": [
    "if 100>10:\n",
    "    print('hai')"
   ]
  },
  {
   "cell_type": "code",
   "execution_count": 8,
   "id": "bfd1e6fd-25c6-41d3-87e7-e02eda44777d",
   "metadata": {},
   "outputs": [],
   "source": [
    "if 100<10:\n",
    "    print('hai') # False, so no OUTPUT"
   ]
  },
  {
   "cell_type": "markdown",
   "id": "cd5c2339-151b-4944-8750-f9150c49ca84",
   "metadata": {},
   "source": [
    "# mistake-1"
   ]
  },
  {
   "cell_type": "code",
   "execution_count": 13,
   "id": "60c18a5d-1f3b-47bb-bcc8-288eb6e68496",
   "metadata": {},
   "outputs": [
    {
     "ename": "IndentationError",
     "evalue": "expected an indented block after 'if' statement on line 1 (2174182827.py, line 2)",
     "output_type": "error",
     "traceback": [
      "\u001b[1;36m  Cell \u001b[1;32mIn[13], line 2\u001b[1;36m\u001b[0m\n\u001b[1;33m    print('hai')\u001b[0m\n\u001b[1;37m    ^\u001b[0m\n\u001b[1;31mIndentationError\u001b[0m\u001b[1;31m:\u001b[0m expected an indented block after 'if' statement on line 1\n"
     ]
    }
   ],
   "source": [
    "if 10>10:\n",
    "print('hai') #Space is required @ Starting"
   ]
  },
  {
   "cell_type": "code",
   "execution_count": 17,
   "id": "85be5b64-7804-4080-94d9-8f8c930f2daf",
   "metadata": {},
   "outputs": [
    {
     "name": "stdout",
     "output_type": "stream",
     "text": [
      "hai\n"
     ]
    }
   ],
   "source": [
    "if 100>10:\n",
    "    print('hai')"
   ]
  },
  {
   "cell_type": "code",
   "execution_count": 19,
   "id": "6531efb4-85ce-41a1-9fb2-19fb96dd2ab1",
   "metadata": {},
   "outputs": [
    {
     "name": "stdout",
     "output_type": "stream",
     "text": [
      "hai\n"
     ]
    }
   ],
   "source": [
    "if 100>10:\n",
    "   print('hai')"
   ]
  },
  {
   "cell_type": "code",
   "execution_count": 21,
   "id": "14420c0f-8c6a-4d83-a927-d0210d2a1f43",
   "metadata": {},
   "outputs": [
    {
     "name": "stdout",
     "output_type": "stream",
     "text": [
      "hai\n"
     ]
    }
   ],
   "source": [
    "if 100>10:\n",
    " print('hai')"
   ]
  },
  {
   "cell_type": "markdown",
   "id": "69fd8a76-fd24-4187-a2f8-d945789f19ba",
   "metadata": {},
   "source": [
    "# mistake-2"
   ]
  },
  {
   "cell_type": "code",
   "execution_count": 27,
   "id": "4f58bb33-e74c-4c13-8ec2-e4868bf71bd2",
   "metadata": {},
   "outputs": [
    {
     "ename": "SyntaxError",
     "evalue": "expected ':' (2083703688.py, line 1)",
     "output_type": "error",
     "traceback": [
      "\u001b[1;36m  Cell \u001b[1;32mIn[27], line 1\u001b[1;36m\u001b[0m\n\u001b[1;33m    if 100<10\u001b[0m\n\u001b[1;37m             ^\u001b[0m\n\u001b[1;31mSyntaxError\u001b[0m\u001b[1;31m:\u001b[0m expected ':'\n"
     ]
    }
   ],
   "source": [
    "if 100<10\n",
    "    print('hai') # colon missing \":\""
   ]
  },
  {
   "cell_type": "markdown",
   "id": "858bea28-9691-43e4-9ef0-9a6754ad30a6",
   "metadata": {},
   "source": [
    "# mistake-3"
   ]
  },
  {
   "cell_type": "code",
   "execution_count": null,
   "id": "4b593fc4-ba5a-4ecf-aa76-566d638fe6a1",
   "metadata": {},
   "outputs": [],
   "source": [
    "if:                     # Missing condition\n",
    "    print('hai')"
   ]
  },
  {
   "cell_type": "markdown",
   "id": "48c2223e-eed8-4423-aa5d-7c589919c9ea",
   "metadata": {},
   "source": [
    "- =  means **ASSIGNMENT**\n",
    "- == means **CONDITION**"
   ]
  },
  {
   "cell_type": "code",
   "execution_count": 36,
   "id": "fb929359-39c2-4160-aadc-e2ef2c1d0b5b",
   "metadata": {},
   "outputs": [
    {
     "name": "stdout",
     "output_type": "stream",
     "text": [
      "hai\n"
     ]
    }
   ],
   "source": [
    "if True:\n",
    "    print('hai')"
   ]
  },
  {
   "cell_type": "code",
   "execution_count": 38,
   "id": "983f1257-c318-49f5-89b9-16d4ee624281",
   "metadata": {},
   "outputs": [],
   "source": [
    "if False:\n",
    "    print('bye')"
   ]
  },
  {
   "cell_type": "code",
   "execution_count": 40,
   "id": "38d8b424-fef5-4af1-92c3-4d352e01027c",
   "metadata": {},
   "outputs": [
    {
     "ename": "NameError",
     "evalue": "name 'false' is not defined",
     "output_type": "error",
     "traceback": [
      "\u001b[1;31m---------------------------------------------------------------------------\u001b[0m",
      "\u001b[1;31mNameError\u001b[0m                                 Traceback (most recent call last)",
      "Cell \u001b[1;32mIn[40], line 1\u001b[0m\n\u001b[1;32m----> 1\u001b[0m \u001b[38;5;28;01mif\u001b[39;00m false:\n\u001b[0;32m      2\u001b[0m     \u001b[38;5;28mprint\u001b[39m(\u001b[38;5;124m'\u001b[39m\u001b[38;5;124mbye\u001b[39m\u001b[38;5;124m'\u001b[39m)\n",
      "\u001b[1;31mNameError\u001b[0m: name 'false' is not defined"
     ]
    }
   ],
   "source": [
    "if false:\n",
    "    print('bye')"
   ]
  },
  {
   "cell_type": "code",
   "execution_count": 42,
   "id": "94752afe-882a-476d-a9b6-87ffaea70171",
   "metadata": {},
   "outputs": [],
   "source": [
    "false=False\n",
    "if false:\n",
    "    print('bye')"
   ]
  },
  {
   "cell_type": "code",
   "execution_count": 44,
   "id": "2c7827a7-c6a2-4fbc-ad70-a3f01087f2e1",
   "metadata": {},
   "outputs": [
    {
     "name": "stdout",
     "output_type": "stream",
     "text": [
      "hi\n",
      "hello\n"
     ]
    }
   ],
   "source": [
    "if True:\n",
    "    print('hi')\n",
    "    print('hello')"
   ]
  },
  {
   "cell_type": "markdown",
   "id": "057de5bf-367d-479c-90b6-09b8ae047f4e",
   "metadata": {},
   "source": [
    "Python is a **STEP-by-STEP** process"
   ]
  },
  {
   "cell_type": "code",
   "execution_count": 47,
   "id": "f08b5b37-a889-4fb2-8a78-1c807fa514d9",
   "metadata": {},
   "outputs": [
    {
     "name": "stdout",
     "output_type": "stream",
     "text": [
      "hi\n",
      "hello\n",
      "bye\n"
     ]
    }
   ],
   "source": [
    "if True:\n",
    "    print('hi')\n",
    "    print('hello')\n",
    "\n",
    "print('bye')"
   ]
  },
  {
   "cell_type": "code",
   "execution_count": 49,
   "id": "3b9ad162-72f7-4b9d-91e3-0a3e4bee8682",
   "metadata": {},
   "outputs": [
    {
     "name": "stdout",
     "output_type": "stream",
     "text": [
      "Hey\n",
      "hi\n",
      "hello\n",
      "bye\n"
     ]
    }
   ],
   "source": [
    "print('Hey')\n",
    "#########################\n",
    "if True:\n",
    "    print('hi')\n",
    "    print('hello')\n",
    "#########################\n",
    "print('bye')"
   ]
  },
  {
   "cell_type": "code",
   "execution_count": 51,
   "id": "030e4bdd-e9e9-458e-9c69-0aaf685ae27f",
   "metadata": {},
   "outputs": [
    {
     "name": "stdout",
     "output_type": "stream",
     "text": [
      "Hey\n",
      "bye\n"
     ]
    }
   ],
   "source": [
    "print('Hey')\n",
    "#########################\n",
    "if False:\n",
    "    print('hi')\n",
    "    print('hello')\n",
    "#########################\n",
    "print('bye')"
   ]
  },
  {
   "cell_type": "code",
   "execution_count": 60,
   "id": "2c8e6727-fb50-4487-9f07-f2187a1861c2",
   "metadata": {},
   "outputs": [
    {
     "ename": "IndentationError",
     "evalue": "unindent does not match any outer indentation level (<string>, line 5)",
     "output_type": "error",
     "traceback": [
      "\u001b[1;36m  File \u001b[1;32m<string>:5\u001b[1;36m\u001b[0m\n\u001b[1;33m    print('hello') # IndentationError [alignment]\u001b[0m\n\u001b[1;37m                                                 ^\u001b[0m\n\u001b[1;31mIndentationError\u001b[0m\u001b[1;31m:\u001b[0m unindent does not match any outer indentation level\n"
     ]
    }
   ],
   "source": [
    "print('Hey')\n",
    "\n",
    "if False:\n",
    "    print('hi')\n",
    "  print('hello') # IndentationError [alignment]\n",
    "\n",
    "print('bye')"
   ]
  },
  {
   "cell_type": "code",
   "execution_count": 62,
   "id": "0ee865f1-9925-40d3-91ba-de6d56f44d2b",
   "metadata": {},
   "outputs": [
    {
     "name": "stdout",
     "output_type": "stream",
     "text": [
      "Hi\n",
      "bye\n"
     ]
    }
   ],
   "source": [
    "#Nested-if: Second if inside 1st if\n",
    "if True:\n",
    "    print('Hi')\n",
    "    if True:\n",
    "        print('bye')"
   ]
  },
  {
   "cell_type": "code",
   "execution_count": 66,
   "id": "429f3d8e-5615-4d9f-9b9a-da08b049ee14",
   "metadata": {},
   "outputs": [
    {
     "ename": "IndentationError",
     "evalue": "expected an indented block after 'if' statement on line 3 (3837655950.py, line 4)",
     "output_type": "error",
     "traceback": [
      "\u001b[1;36m  Cell \u001b[1;32mIn[66], line 4\u001b[1;36m\u001b[0m\n\u001b[1;33m    print('bye')\u001b[0m\n\u001b[1;37m    ^\u001b[0m\n\u001b[1;31mIndentationError\u001b[0m\u001b[1;31m:\u001b[0m expected an indented block after 'if' statement on line 3\n"
     ]
    }
   ],
   "source": [
    "if True:\n",
    "    print('Hi')\n",
    "if True:\n",
    "print('bye') # Indentation Error [alignment]"
   ]
  },
  {
   "cell_type": "code",
   "execution_count": 72,
   "id": "38ff57f1-2d3f-47c4-8476-4e3eb5fa3eeb",
   "metadata": {},
   "outputs": [],
   "source": [
    "if False:\n",
    "    print('Hi')\n",
    "    if True:            # INSIDE\n",
    "        print('bye')"
   ]
  },
  {
   "cell_type": "code",
   "execution_count": 74,
   "id": "ce529c39-2ef5-4f73-ace3-de9156165852",
   "metadata": {},
   "outputs": [
    {
     "name": "stdout",
     "output_type": "stream",
     "text": [
      "bye\n"
     ]
    }
   ],
   "source": [
    "if False:\n",
    "    print('Hi')\n",
    "if True:            # OUTSIDE\n",
    "        print('bye')"
   ]
  },
  {
   "cell_type": "code",
   "execution_count": 76,
   "id": "c62987a4-4211-4c7b-85ca-952ce07da0a9",
   "metadata": {},
   "outputs": [
    {
     "name": "stdout",
     "output_type": "stream",
     "text": [
      "Hi\n"
     ]
    }
   ],
   "source": [
    "if True:\n",
    "    print('Hi')\n",
    "    if False:            \n",
    "        print('bye')\n",
    "        if True:\n",
    "            print('ok')"
   ]
  },
  {
   "cell_type": "code",
   "execution_count": 82,
   "id": "8a3de194-bb18-48b1-a8af-338027b59efb",
   "metadata": {},
   "outputs": [
    {
     "name": "stdout",
     "output_type": "stream",
     "text": [
      "Hi\n",
      "ok\n"
     ]
    }
   ],
   "source": [
    "if True:\n",
    "    print('Hi')\n",
    "    if False:            \n",
    "        print('bye')\n",
    "if True:\n",
    "    print('ok')"
   ]
  },
  {
   "cell_type": "code",
   "execution_count": 80,
   "id": "4a3665f9-df8e-44b7-89b2-e1b3502b495b",
   "metadata": {},
   "outputs": [
    {
     "name": "stdout",
     "output_type": "stream",
     "text": [
      "Hi\n",
      "ok\n"
     ]
    }
   ],
   "source": [
    "if True:\n",
    "    print('Hi')\n",
    "    if False:            \n",
    "        print('bye')\n",
    "    if True:\n",
    "            print('ok')"
   ]
  },
  {
   "cell_type": "code",
   "execution_count": 84,
   "id": "1aadce49-8d71-4660-abc2-796ec1617361",
   "metadata": {},
   "outputs": [
    {
     "ename": "IndentationError",
     "evalue": "expected an indented block after 'if' statement on line 1 (2696531639.py, line 2)",
     "output_type": "error",
     "traceback": [
      "\u001b[1;36m  Cell \u001b[1;32mIn[84], line 2\u001b[1;36m\u001b[0m\n\u001b[1;33m    print('Hi')\u001b[0m\n\u001b[1;37m    ^\u001b[0m\n\u001b[1;31mIndentationError\u001b[0m\u001b[1;31m:\u001b[0m expected an indented block after 'if' statement on line 1\n"
     ]
    }
   ],
   "source": [
    "if True:\n",
    "print('Hi')\n",
    "if False:            \n",
    "print('bye')\n",
    "if True:\n",
    "print('ok')"
   ]
  },
  {
   "cell_type": "markdown",
   "id": "8da39e54-d5b7-4643-bbcc-04f5817f9257",
   "metadata": {},
   "source": [
    "# **Case - 2 : if-else**"
   ]
  },
  {
   "cell_type": "code",
   "execution_count": null,
   "id": "0ae88845-cf62-4809-9bd9-0b7241eff9e2",
   "metadata": {},
   "outputs": [],
   "source": [
    "# **Syntax**\n",
    "\n",
    "if <condition>:\n",
    "    <write the code> #Starting space is called INDENTATION\n",
    "else:\n",
    "    <write the code>"
   ]
  },
  {
   "cell_type": "code",
   "execution_count": 92,
   "id": "315a0193-9494-4c25-9e53-9c4c4ef1b36a",
   "metadata": {},
   "outputs": [
    {
     "name": "stdout",
     "output_type": "stream",
     "text": [
      "Less\n"
     ]
    }
   ],
   "source": [
    "if 10<100:\n",
    "    print('Less')\n",
    "else:\n",
    "    print('great')"
   ]
  },
  {
   "cell_type": "code",
   "execution_count": 94,
   "id": "b8e1dfbf-8707-4081-8966-9b7262e47835",
   "metadata": {},
   "outputs": [
    {
     "name": "stdout",
     "output_type": "stream",
     "text": [
      "great\n"
     ]
    }
   ],
   "source": [
    "if 10>100:\n",
    "    print('Less')\n",
    "else:\n",
    "    print('great')"
   ]
  },
  {
   "cell_type": "code",
   "execution_count": 96,
   "id": "73e8c499-4b6d-4488-825c-0f3d6c522e7b",
   "metadata": {},
   "outputs": [
    {
     "name": "stdout",
     "output_type": "stream",
     "text": [
      "200 is greater\n"
     ]
    }
   ],
   "source": [
    "n1=100\n",
    "n2=200\n",
    "if n1>n2:\n",
    "    print(f\"{n1} is greater\")\n",
    "else:\n",
    "    print(f\"{n2} is greater\")"
   ]
  },
  {
   "cell_type": "code",
   "execution_count": 98,
   "id": "da58f631-4857-40de-9e4b-120f1daea898",
   "metadata": {},
   "outputs": [
    {
     "name": "stdin",
     "output_type": "stream",
     "text": [
      "Enter value of n1:  200\n",
      "Enter value of n2:  100\n"
     ]
    },
    {
     "name": "stdout",
     "output_type": "stream",
     "text": [
      "200 is greater\n"
     ]
    }
   ],
   "source": [
    "n1=eval(input('Enter value of n1: '))\n",
    "n2=eval(input('Enter value of n2: '))\n",
    "if n1>n2:\n",
    "    print(f\"{n1} is greater\")\n",
    "else:\n",
    "    print(f\"{n2} is greater\")"
   ]
  },
  {
   "cell_type": "code",
   "execution_count": 100,
   "id": "c5e15586-cf21-4680-89dd-8afca5f7ffa4",
   "metadata": {},
   "outputs": [
    {
     "name": "stdout",
     "output_type": "stream",
     "text": [
      "165 is greater\n"
     ]
    }
   ],
   "source": [
    "from random import randint\n",
    "n1=randint(100,200)\n",
    "n2=randint(100,200)\n",
    "if n1>n2:\n",
    "    print(f\"{n1} is greater\")\n",
    "else:\n",
    "    print(f\"{n2} is greater\")"
   ]
  },
  {
   "cell_type": "code",
   "execution_count": 104,
   "id": "95663433-1d48-419b-873c-29dac3f646df",
   "metadata": {},
   "outputs": [
    {
     "name": "stdout",
     "output_type": "stream",
     "text": [
      "n1: 155\n",
      "n2: 137\n",
      "n1 = 155 is greater\n"
     ]
    }
   ],
   "source": [
    "from random import randint\n",
    "n1=randint(100,200)\n",
    "n2=randint(100,200)\n",
    "print('n1:',n1)\n",
    "print('n2:',n2)\n",
    "if n1>n2:\n",
    "    print(f\"n1 = {n1} is greater\")\n",
    "else:\n",
    "    print(f\"n2 = {n2} is greater\")"
   ]
  },
  {
   "cell_type": "markdown",
   "id": "b7f71987-f695-4ec6-86ee-1c6b50a0a7ca",
   "metadata": {},
   "source": [
    "# We can provide values in 3 ways\n",
    "\n",
    "- Hard coded\n",
    "\n",
    "- Using keyboard\n",
    "\n",
    "- Using random"
   ]
  },
  {
   "cell_type": "code",
   "execution_count": 107,
   "id": "a7019c7e-5620-482b-be78-1c7cc5eb18b6",
   "metadata": {},
   "outputs": [
    {
     "ename": "SyntaxError",
     "evalue": "invalid syntax (3458201524.py, line 5)",
     "output_type": "error",
     "traceback": [
      "\u001b[1;36m  Cell \u001b[1;32mIn[107], line 5\u001b[1;36m\u001b[0m\n\u001b[1;33m    else:\u001b[0m\n\u001b[1;37m    ^\u001b[0m\n\u001b[1;31mSyntaxError\u001b[0m\u001b[1;31m:\u001b[0m invalid syntax\n"
     ]
    }
   ],
   "source": [
    "print('Good Morning')\n",
    "if True:\n",
    "    print('Good Afternoon')\n",
    "print('Middle')\n",
    "else:\n",
    "    print('Good Evening')\n",
    "print('Good Night')"
   ]
  },
  {
   "cell_type": "code",
   "execution_count": 109,
   "id": "dc6ea38d-6e6f-48aa-a01d-61be9bee9e2b",
   "metadata": {},
   "outputs": [
    {
     "name": "stdout",
     "output_type": "stream",
     "text": [
      "Good Morning\n",
      "Good Afternoon\n",
      "Middle\n",
      "Good Night\n"
     ]
    }
   ],
   "source": [
    "print('Good Morning')\n",
    "if True:\n",
    "    print('Good Afternoon')\n",
    "    print('Middle')\n",
    "else:\n",
    "    print('Good Evening')\n",
    "print('Good Night')"
   ]
  },
  {
   "cell_type": "code",
   "execution_count": 113,
   "id": "77c49be5-2de1-40ce-ba4c-5d52a06460f2",
   "metadata": {},
   "outputs": [
    {
     "name": "stdout",
     "output_type": "stream",
     "text": [
      "Good Morning\n",
      "Good Evening\n",
      "Good Night\n"
     ]
    }
   ],
   "source": [
    "print('Good Morning')\n",
    "if False:\n",
    "    print('Good Afternoon')\n",
    "    print('Middle')\n",
    "else:\n",
    "    print('Good Evening')\n",
    "print('Good Night')"
   ]
  },
  {
   "cell_type": "code",
   "execution_count": null,
   "id": "40b65096-d607-4b13-aa8e-a13662551804",
   "metadata": {},
   "outputs": [],
   "source": []
  }
 ],
 "metadata": {
  "kernelspec": {
   "display_name": "Python [conda env:base] *",
   "language": "python",
   "name": "conda-base-py"
  },
  "language_info": {
   "codemirror_mode": {
    "name": "ipython",
    "version": 3
   },
   "file_extension": ".py",
   "mimetype": "text/x-python",
   "name": "python",
   "nbconvert_exporter": "python",
   "pygments_lexer": "ipython3",
   "version": "3.12.7"
  }
 },
 "nbformat": 4,
 "nbformat_minor": 5
}
