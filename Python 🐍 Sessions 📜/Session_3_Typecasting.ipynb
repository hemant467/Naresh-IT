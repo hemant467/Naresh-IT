{
 "cells": [
  {
   "cell_type": "markdown",
   "id": "92fc6024-309b-4c70-904b-a9c3e635d87f",
   "metadata": {},
   "source": [
    "# Type Casting\n",
    "\n",
    "- convert one data type to another data type\n",
    "\n",
    "- integer to other 3-types\n",
    "\n",
    "   - integer to float\n",
    "\n",
    "   - integer to string\n",
    "\n",
    "   - integer to boolean"
   ]
  },
  {
   "cell_type": "code",
   "execution_count": 3,
   "id": "bdce7f21-b3ed-433d-9c1a-0b88d08628fd",
   "metadata": {},
   "outputs": [
    {
     "data": {
      "text/plain": [
       "'1020'"
      ]
     },
     "execution_count": 3,
     "metadata": {},
     "output_type": "execute_result"
    }
   ],
   "source": [
    "'10'+'20'"
   ]
  },
  {
   "cell_type": "code",
   "execution_count": 9,
   "id": "94b9d240-c2fa-4e6e-a2b3-71fed287af6f",
   "metadata": {},
   "outputs": [
    {
     "data": {
      "text/plain": [
       "int"
      ]
     },
     "execution_count": 9,
     "metadata": {},
     "output_type": "execute_result"
    }
   ],
   "source": [
    "number1=100\n",
    "type(number1)"
   ]
  },
  {
   "cell_type": "code",
   "execution_count": 12,
   "id": "cac93acc-d91e-43ed-be28-b5dcdcac9813",
   "metadata": {},
   "outputs": [
    {
     "data": {
      "text/plain": [
       "100.0"
      ]
     },
     "execution_count": 12,
     "metadata": {},
     "output_type": "execute_result"
    }
   ],
   "source": [
    "# int to float\n",
    "float(number1)"
   ]
  },
  {
   "cell_type": "code",
   "execution_count": 20,
   "id": "e76ca46a-c635-4d08-84d0-ae6e0edc48b1",
   "metadata": {},
   "outputs": [
    {
     "data": {
      "text/plain": [
       "'100'"
      ]
     },
     "execution_count": 20,
     "metadata": {},
     "output_type": "execute_result"
    }
   ],
   "source": [
    "# int to str\n",
    "str(number1)"
   ]
  },
  {
   "cell_type": "code",
   "execution_count": 18,
   "id": "92948935-9966-4487-8af9-e708ae218c89",
   "metadata": {},
   "outputs": [
    {
     "data": {
      "text/plain": [
       "True"
      ]
     },
     "execution_count": 18,
     "metadata": {},
     "output_type": "execute_result"
    }
   ],
   "source": [
    "# int to boolean\n",
    "bool(number1)"
   ]
  },
  {
   "cell_type": "code",
   "execution_count": 24,
   "id": "966fa39d-2315-482f-b18f-73853a0344de",
   "metadata": {},
   "outputs": [
    {
     "data": {
      "text/plain": [
       "'100'"
      ]
     },
     "execution_count": 24,
     "metadata": {},
     "output_type": "execute_result"
    }
   ],
   "source": [
    "number1=100\n",
    "float(number1)\n",
    "bool(number1)\n",
    "str(number1)"
   ]
  },
  {
   "cell_type": "code",
   "execution_count": 26,
   "id": "013449b2-8116-4cce-bbd9-8565906d4df3",
   "metadata": {},
   "outputs": [
    {
     "name": "stdout",
     "output_type": "stream",
     "text": [
      "100.0\n",
      "True\n",
      "100\n"
     ]
    }
   ],
   "source": [
    "number1=100\n",
    "print(float(number1))\n",
    "print(bool(number1))\n",
    "print(str(number1))"
   ]
  },
  {
   "cell_type": "code",
   "execution_count": 28,
   "id": "c37ccdca-54cf-4822-b06a-1a2968135065",
   "metadata": {},
   "outputs": [
    {
     "name": "stdout",
     "output_type": "stream",
     "text": [
      "-100.0\n",
      "True\n",
      "-100\n"
     ]
    }
   ],
   "source": [
    "number1=-100\n",
    "print(float(number1))\n",
    "print(bool(number1))\n",
    "print(str(number1))"
   ]
  },
  {
   "cell_type": "code",
   "execution_count": 30,
   "id": "e096c49a-dbf1-42f4-a5dc-8b09adcb636b",
   "metadata": {},
   "outputs": [
    {
     "name": "stdout",
     "output_type": "stream",
     "text": [
      "0.0\n",
      "False\n",
      "0\n"
     ]
    }
   ],
   "source": [
    "number1=0\n",
    "print(float(number1))\n",
    "print(bool(number1))\n",
    "print(str(number1))"
   ]
  },
  {
   "cell_type": "code",
   "execution_count": 32,
   "id": "679fe5a2-0dbd-48f4-b8a5-ba9871592d88",
   "metadata": {},
   "outputs": [
    {
     "name": "stdout",
     "output_type": "stream",
     "text": [
      "1.0\n",
      "True\n",
      "1\n"
     ]
    }
   ],
   "source": [
    "number1=1\n",
    "print(float(number1))\n",
    "print(bool(number1))\n",
    "print(str(number1))"
   ]
  },
  {
   "cell_type": "markdown",
   "id": "0adcba37-5e24-4e27-b485-a92f0af78a0d",
   "metadata": {},
   "source": [
    "True === ON\n",
    "Flase=== OFF"
   ]
  },
  {
   "cell_type": "markdown",
   "id": "2aec01a1-1428-4c46-8c6d-bffda474e585",
   "metadata": {},
   "source": [
    "# **float to other data types**\n",
    "\n",
    "- float to int\n",
    "\n",
    "- float to str\n",
    "\n",
    "- float to boolean"
   ]
  },
  {
   "cell_type": "code",
   "execution_count": 46,
   "id": "683d079f-5da9-4a8f-a99d-06b2e6620ab3",
   "metadata": {},
   "outputs": [
    {
     "name": "stdout",
     "output_type": "stream",
     "text": [
      "25\n",
      "25.5\n",
      "True\n"
     ]
    }
   ],
   "source": [
    "num1=25.5\n",
    "print(int(num1))\n",
    "print(str(num1))\n",
    "print(bool(num1))"
   ]
  },
  {
   "cell_type": "code",
   "execution_count": 48,
   "id": "8976f00e-f23e-4a44-822f-bcd30766a9ef",
   "metadata": {},
   "outputs": [
    {
     "data": {
      "text/plain": [
       "(10, True, '10.5')"
      ]
     },
     "execution_count": 48,
     "metadata": {},
     "output_type": "execute_result"
    }
   ],
   "source": [
    "int(10.5),bool(10.5),str(10.5)"
   ]
  },
  {
   "cell_type": "code",
   "execution_count": 50,
   "id": "1d4552bb-255d-4584-96bf-5370a2b48284",
   "metadata": {},
   "outputs": [
    {
     "data": {
      "text/plain": [
       "(-10, True, '-10.5')"
      ]
     },
     "execution_count": 50,
     "metadata": {},
     "output_type": "execute_result"
    }
   ],
   "source": [
    "int(-10.5),bool(-10.5),str(-10.5)"
   ]
  },
  {
   "cell_type": "code",
   "execution_count": 54,
   "id": "25f203af-42ec-445c-8690-1490a54b37ef",
   "metadata": {},
   "outputs": [
    {
     "data": {
      "text/plain": [
       "(0, False, '-0.0')"
      ]
     },
     "execution_count": 54,
     "metadata": {},
     "output_type": "execute_result"
    }
   ],
   "source": [
    "int(-0.0),bool(-0.0),str(-0.0)"
   ]
  },
  {
   "cell_type": "markdown",
   "id": "7b8158e4-45f0-4223-bbc3-a9a6a047befa",
   "metadata": {},
   "source": [
    "# **String to other data types**\n",
    "\n",
    "- String to int\n",
    "\n",
    "- String to flaot\n",
    "\n",
    "- String to boolean"
   ]
  },
  {
   "cell_type": "markdown",
   "id": "c5c2d3e0-3a59-4df8-9b1b-31b3b0041e42",
   "metadata": {},
   "source": [
    "## Case-1:\n",
    "- str1='10' # WORK\n",
    "- str2='10.5 \n",
    "- str3='0' # WORK\n",
    "- str4='apple'"
   ]
  },
  {
   "cell_type": "code",
   "execution_count": 67,
   "id": "0877c96d-24f6-4fab-b395-cbdfc5e6e530",
   "metadata": {},
   "outputs": [
    {
     "name": "stdout",
     "output_type": "stream",
     "text": [
      "10\n",
      "10.0\n",
      "True\n"
     ]
    }
   ],
   "source": [
    "str1='10'\n",
    "print(int(str1))\n",
    "print(float(str1))\n",
    "print(bool(str1))"
   ]
  },
  {
   "cell_type": "code",
   "execution_count": 71,
   "id": "021ad1fb-5ef4-48c2-a377-59af1d99c9e3",
   "metadata": {},
   "outputs": [
    {
     "ename": "ValueError",
     "evalue": "invalid literal for int() with base 10: '10.5'",
     "output_type": "error",
     "traceback": [
      "\u001b[1;31m---------------------------------------------------------------------------\u001b[0m",
      "\u001b[1;31mValueError\u001b[0m                                Traceback (most recent call last)",
      "Cell \u001b[1;32mIn[71], line 2\u001b[0m\n\u001b[0;32m      1\u001b[0m str2\u001b[38;5;241m=\u001b[39m\u001b[38;5;124m'\u001b[39m\u001b[38;5;124m10.5\u001b[39m\u001b[38;5;124m'\u001b[39m\n\u001b[1;32m----> 2\u001b[0m \u001b[38;5;28mprint\u001b[39m(\u001b[38;5;28mint\u001b[39m(str2))\n\u001b[0;32m      3\u001b[0m \u001b[38;5;28mprint\u001b[39m(\u001b[38;5;28mfloat\u001b[39m(str2))\n\u001b[0;32m      4\u001b[0m \u001b[38;5;28mprint\u001b[39m(\u001b[38;5;28mbool\u001b[39m(str2))\n",
      "\u001b[1;31mValueError\u001b[0m: invalid literal for int() with base 10: '10.5'"
     ]
    }
   ],
   "source": [
    "str2='10.5'\n",
    "print(int(str2))\n",
    "print(float(str2))\n",
    "print(bool(str2))"
   ]
  },
  {
   "cell_type": "code",
   "execution_count": 73,
   "id": "bddc6aa4-6b06-40ab-8f7f-829565c3b87f",
   "metadata": {},
   "outputs": [
    {
     "name": "stdout",
     "output_type": "stream",
     "text": [
      "0\n",
      "0.0\n",
      "True\n"
     ]
    }
   ],
   "source": [
    "str1='0'\n",
    "print(int(str1))\n",
    "print(float(str1))\n",
    "print(bool(str1))"
   ]
  },
  {
   "cell_type": "code",
   "execution_count": 77,
   "id": "ebba3033-a355-49be-92f5-6d5dafbbf972",
   "metadata": {},
   "outputs": [
    {
     "ename": "ValueError",
     "evalue": "invalid literal for int() with base 10: 'apple'",
     "output_type": "error",
     "traceback": [
      "\u001b[1;31m---------------------------------------------------------------------------\u001b[0m",
      "\u001b[1;31mValueError\u001b[0m                                Traceback (most recent call last)",
      "Cell \u001b[1;32mIn[77], line 2\u001b[0m\n\u001b[0;32m      1\u001b[0m str1\u001b[38;5;241m=\u001b[39m\u001b[38;5;124m'\u001b[39m\u001b[38;5;124mapple\u001b[39m\u001b[38;5;124m'\u001b[39m\n\u001b[1;32m----> 2\u001b[0m \u001b[38;5;28mprint\u001b[39m(\u001b[38;5;28mint\u001b[39m(str1))\n\u001b[0;32m      3\u001b[0m \u001b[38;5;28mprint\u001b[39m(\u001b[38;5;28mfloat\u001b[39m(str1))\n\u001b[0;32m      4\u001b[0m \u001b[38;5;28mprint\u001b[39m(\u001b[38;5;28mbool\u001b[39m(str1))\n",
      "\u001b[1;31mValueError\u001b[0m: invalid literal for int() with base 10: 'apple'"
     ]
    }
   ],
   "source": [
    "str1='apple'\n",
    "print(int(str1))\n",
    "print(float(str1))\n",
    "print(bool(str1))"
   ]
  },
  {
   "cell_type": "code",
   "execution_count": 82,
   "id": "f9926e0e-d707-46a9-a9bd-0fb7cb86cef7",
   "metadata": {},
   "outputs": [
    {
     "data": {
      "text/plain": [
       "30"
      ]
     },
     "execution_count": 82,
     "metadata": {},
     "output_type": "execute_result"
    }
   ],
   "source": [
    "int('10')+int('20')"
   ]
  },
  {
   "cell_type": "code",
   "execution_count": 87,
   "id": "85585830-c669-4189-bc42-7528c92e666d",
   "metadata": {},
   "outputs": [
    {
     "data": {
      "text/plain": [
       "10.0"
      ]
     },
     "execution_count": 87,
     "metadata": {},
     "output_type": "execute_result"
    }
   ],
   "source": [
    "float('10')"
   ]
  },
  {
   "cell_type": "code",
   "execution_count": 89,
   "id": "b9462cee-62f3-4005-a3d8-d2d6443a8993",
   "metadata": {},
   "outputs": [
    {
     "data": {
      "text/plain": [
       "True"
      ]
     },
     "execution_count": 89,
     "metadata": {},
     "output_type": "execute_result"
    }
   ],
   "source": [
    "bool('10')"
   ]
  },
  {
   "cell_type": "code",
   "execution_count": 91,
   "id": "31a8b5cc-491e-4ce1-ae25-ec80a37f2b53",
   "metadata": {},
   "outputs": [
    {
     "ename": "ValueError",
     "evalue": "invalid literal for int() with base 10: '10.0'",
     "output_type": "error",
     "traceback": [
      "\u001b[1;31m---------------------------------------------------------------------------\u001b[0m",
      "\u001b[1;31mValueError\u001b[0m                                Traceback (most recent call last)",
      "Cell \u001b[1;32mIn[91], line 1\u001b[0m\n\u001b[1;32m----> 1\u001b[0m \u001b[38;5;28mint\u001b[39m(\u001b[38;5;124m'\u001b[39m\u001b[38;5;124m10.0\u001b[39m\u001b[38;5;124m'\u001b[39m)\n",
      "\u001b[1;31mValueError\u001b[0m: invalid literal for int() with base 10: '10.0'"
     ]
    }
   ],
   "source": [
    "int('10.0')"
   ]
  },
  {
   "cell_type": "code",
   "execution_count": 93,
   "id": "afeb84b2-7145-4095-b273-f1115f538e98",
   "metadata": {},
   "outputs": [
    {
     "data": {
      "text/plain": [
       "10.0"
      ]
     },
     "execution_count": 93,
     "metadata": {},
     "output_type": "execute_result"
    }
   ],
   "source": [
    "float('10.0')"
   ]
  },
  {
   "cell_type": "code",
   "execution_count": null,
   "id": "84e62c00-dde0-4bf8-9d45-e35b25591016",
   "metadata": {},
   "outputs": [],
   "source": [
    "10.5  ====int(10.5)==== 10\n",
    "'10.5' ===int('10.5')=== FAIL\n",
    "'10.5' === float('10.5')=== 10.5 == int(10.5) == 10"
   ]
  },
  {
   "cell_type": "code",
   "execution_count": 95,
   "id": "3a63e467-e298-430a-a343-8a1d62996df5",
   "metadata": {},
   "outputs": [
    {
     "data": {
      "text/plain": [
       "10"
      ]
     },
     "execution_count": 95,
     "metadata": {},
     "output_type": "execute_result"
    }
   ],
   "source": [
    "int(float('10.5'))"
   ]
  },
  {
   "cell_type": "code",
   "execution_count": 100,
   "id": "25c998d3-4d7c-4c74-8f9f-a472243d9541",
   "metadata": {},
   "outputs": [
    {
     "data": {
      "text/plain": [
       "True"
      ]
     },
     "execution_count": 100,
     "metadata": {},
     "output_type": "execute_result"
    }
   ],
   "source": [
    "bool('10.5')"
   ]
  },
  {
   "cell_type": "code",
   "execution_count": null,
   "id": "577437da-c623-40fe-a450-8e20b434157a",
   "metadata": {},
   "outputs": [],
   "source": [
    "int('10') #Pass\n",
    "int('10.5') #Fail\n",
    "\n",
    "float('10') #Pass\n",
    "float('10.5') #Pass"
   ]
  },
  {
   "cell_type": "code",
   "execution_count": 106,
   "id": "290eb497-2817-4ae9-a6ac-369a2ec8ec4b",
   "metadata": {},
   "outputs": [
    {
     "data": {
      "text/plain": [
       "'Apple'"
      ]
     },
     "execution_count": 106,
     "metadata": {},
     "output_type": "execute_result"
    }
   ],
   "source": [
    "str(\"Apple\")"
   ]
  },
  {
   "cell_type": "code",
   "execution_count": null,
   "id": "3c9ce348-4bab-4e38-8dca-551232b9dce7",
   "metadata": {},
   "outputs": [],
   "source": [
    "int('apple')     #Fail\n",
    "float('apple')   #Fail\n",
    "bool('apple')    #True"
   ]
  },
  {
   "cell_type": "code",
   "execution_count": 128,
   "id": "52643188-de4f-4988-92bc-e45ae85c14a2",
   "metadata": {},
   "outputs": [
    {
     "data": {
      "text/plain": [
       "1"
      ]
     },
     "execution_count": 128,
     "metadata": {},
     "output_type": "execute_result"
    }
   ],
   "source": [
    "len('0')  # 1 means one character"
   ]
  },
  {
   "cell_type": "code",
   "execution_count": 115,
   "id": "86f62e68-0def-4d85-9a72-25f4ee8e99cb",
   "metadata": {},
   "outputs": [
    {
     "data": {
      "text/plain": [
       "True"
      ]
     },
     "execution_count": 115,
     "metadata": {},
     "output_type": "execute_result"
    }
   ],
   "source": [
    "bool('0')"
   ]
  },
  {
   "cell_type": "code",
   "execution_count": 119,
   "id": "307d5b32-4e4a-4af7-b7ca-0319bc72b9a6",
   "metadata": {},
   "outputs": [
    {
     "data": {
      "text/plain": [
       "0"
      ]
     },
     "execution_count": 119,
     "metadata": {},
     "output_type": "execute_result"
    }
   ],
   "source": [
    "len('') #No Characters"
   ]
  },
  {
   "cell_type": "code",
   "execution_count": 121,
   "id": "b8975ed1-daa0-4232-b563-91b475ccd2ec",
   "metadata": {},
   "outputs": [
    {
     "data": {
      "text/plain": [
       "False"
      ]
     },
     "execution_count": 121,
     "metadata": {},
     "output_type": "execute_result"
    }
   ],
   "source": [
    "bool('')"
   ]
  },
  {
   "cell_type": "markdown",
   "id": "7557e885-9eb4-467e-8f3f-49794a08fae7",
   "metadata": {},
   "source": [
    "int('10') # 10\n",
    "float('10')# 10.0\n",
    "bool('10') # TRUE\n",
    "\n",
    "int('10.5') # ERROR\n",
    "float('10.5')# 10.5\n",
    "bool('10.5') # TRUE\n",
    "\n",
    "int('0') # 0\n",
    "float('0')# 0.0\n",
    "bool('0') # TRUE\n",
    "\n",
    "int('10.5') # ERROR\n",
    "float('10.5')# 10.5\n",
    "bool('10.5') # TRUE\n",
    "\n",
    "bool('') # False"
   ]
  },
  {
   "cell_type": "code",
   "execution_count": 133,
   "id": "410f34a0-de88-4479-8c63-3a19d0a37705",
   "metadata": {},
   "outputs": [
    {
     "data": {
      "text/plain": [
       "0"
      ]
     },
     "execution_count": 133,
     "metadata": {},
     "output_type": "execute_result"
    }
   ],
   "source": [
    "len('')"
   ]
  },
  {
   "cell_type": "code",
   "execution_count": 135,
   "id": "007b5725-9e99-4ba7-8565-e7210c22dafb",
   "metadata": {},
   "outputs": [
    {
     "data": {
      "text/plain": [
       "1"
      ]
     },
     "execution_count": 135,
     "metadata": {},
     "output_type": "execute_result"
    }
   ],
   "source": [
    "len(' ')"
   ]
  },
  {
   "cell_type": "code",
   "execution_count": 137,
   "id": "32c1155e-81d9-473e-b8f5-12e0fe954ffb",
   "metadata": {},
   "outputs": [
    {
     "data": {
      "text/plain": [
       "2"
      ]
     },
     "execution_count": 137,
     "metadata": {},
     "output_type": "execute_result"
    }
   ],
   "source": [
    "len('  ')"
   ]
  },
  {
   "cell_type": "markdown",
   "id": "30439723-9796-4058-97bf-e1776f23397a",
   "metadata": {},
   "source": [
    "# **Boolean to other data types**"
   ]
  },
  {
   "cell_type": "code",
   "execution_count": null,
   "id": "74c9017e-f7f1-48d8-9c61-74417515eb16",
   "metadata": {},
   "outputs": [],
   "source": [
    "int(True)\n",
    "float(True)\n",
    "str(True)"
   ]
  },
  {
   "cell_type": "code",
   "execution_count": 146,
   "id": "9a577cc8-575d-4a08-bb20-578d0c7ec429",
   "metadata": {},
   "outputs": [
    {
     "name": "stdout",
     "output_type": "stream",
     "text": [
      "1\n"
     ]
    }
   ],
   "source": [
    "print(int(True))"
   ]
  },
  {
   "cell_type": "code",
   "execution_count": 148,
   "id": "689d8da3-9662-4208-a743-b945897fafe5",
   "metadata": {},
   "outputs": [
    {
     "name": "stdout",
     "output_type": "stream",
     "text": [
      "1.0\n"
     ]
    }
   ],
   "source": [
    "print(float(True))"
   ]
  },
  {
   "cell_type": "code",
   "execution_count": 156,
   "id": "f74efc70-b708-4b13-a02f-857fe3f323de",
   "metadata": {},
   "outputs": [
    {
     "name": "stdout",
     "output_type": "stream",
     "text": [
      "True\n"
     ]
    }
   ],
   "source": [
    "print(str(True))"
   ]
  }
 ],
 "metadata": {
  "kernelspec": {
   "display_name": "Python [conda env:base] *",
   "language": "python",
   "name": "conda-base-py"
  },
  "language_info": {
   "codemirror_mode": {
    "name": "ipython",
    "version": 3
   },
   "file_extension": ".py",
   "mimetype": "text/x-python",
   "name": "python",
   "nbconvert_exporter": "python",
   "pygments_lexer": "ipython3",
   "version": "3.12.7"
  }
 },
 "nbformat": 4,
 "nbformat_minor": 5
}
