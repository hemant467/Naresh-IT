{
 "cells": [
  {
   "cell_type": "markdown",
   "id": "04c83636-7bdf-461b-bd50-97cae7907217",
   "metadata": {},
   "source": [
    "- Variables\n",
    "\n",
    "- Data types\n",
    "\n",
    "- Type vasting\n",
    "\n",
    "- print statements\n",
    "\n",
    "- eval and input\n",
    "\n",
    "- basic codes\n",
    "\n",
    "- conditional statements\n",
    "\n",
    "- exception handling"
   ]
  },
  {
   "cell_type": "markdown",
   "id": "3395321c-c11d-4f61-93db-1be607a21caa",
   "metadata": {},
   "source": [
    "- we will write our original code under try block\n",
    "\n",
    "- if any error happend in the try block\n",
    "\n",
    "- the error will be handle in except block"
   ]
  },
  {
   "cell_type": "markdown",
   "id": "5079b45b-ee2b-456c-a4ae-edc04bec704e",
   "metadata": {},
   "source": [
    "**mention some known error**"
   ]
  },
  {
   "cell_type": "code",
   "execution_count": 5,
   "id": "0c5facfc-d0cf-4d66-841d-917a5785a952",
   "metadata": {},
   "outputs": [
    {
     "name": "stdin",
     "output_type": "stream",
     "text": [
      "enter the n1: 20\n",
      "enter the n2: 21\n"
     ]
    },
    {
     "name": "stdout",
     "output_type": "stream",
     "text": [
      "the addition of 20 and 21 is 41\n"
     ]
    }
   ],
   "source": [
    "n1=eval(input('enter the n1:'))\n",
    "n2=eval(input('enter the n2:'))\n",
    "add=n1+n2\n",
    "print(f'the addition of {n1} and {n2} is {add}')"
   ]
  },
  {
   "cell_type": "markdown",
   "id": "20c4db2a-739b-421d-8ba6-47ca86f1f40e",
   "metadata": {},
   "source": [
    "**name error**"
   ]
  },
  {
   "cell_type": "code",
   "execution_count": 8,
   "id": "56dbd21e-6e86-40c7-ad0a-5e15137a3c5a",
   "metadata": {},
   "outputs": [
    {
     "name": "stdin",
     "output_type": "stream",
     "text": [
      "enter the n1: 20\n",
      "enter the n2: 21\n"
     ]
    },
    {
     "ename": "NameError",
     "evalue": "name 'n222' is not defined",
     "output_type": "error",
     "traceback": [
      "\u001b[1;31m---------------------------------------------------------------------------\u001b[0m",
      "\u001b[1;31mNameError\u001b[0m                                 Traceback (most recent call last)",
      "Cell \u001b[1;32mIn[8], line 3\u001b[0m\n\u001b[0;32m      1\u001b[0m n1\u001b[38;5;241m=\u001b[39m\u001b[38;5;28meval\u001b[39m(\u001b[38;5;28minput\u001b[39m(\u001b[38;5;124m'\u001b[39m\u001b[38;5;124menter the n1:\u001b[39m\u001b[38;5;124m'\u001b[39m))\n\u001b[0;32m      2\u001b[0m n2\u001b[38;5;241m=\u001b[39m\u001b[38;5;28meval\u001b[39m(\u001b[38;5;28minput\u001b[39m(\u001b[38;5;124m'\u001b[39m\u001b[38;5;124menter the n2:\u001b[39m\u001b[38;5;124m'\u001b[39m))\n\u001b[1;32m----> 3\u001b[0m add\u001b[38;5;241m=\u001b[39mn1\u001b[38;5;241m+\u001b[39mn222\n\u001b[0;32m      4\u001b[0m \u001b[38;5;28mprint\u001b[39m(\u001b[38;5;124mf\u001b[39m\u001b[38;5;124m'\u001b[39m\u001b[38;5;124mthe addition of \u001b[39m\u001b[38;5;132;01m{\u001b[39;00mn1\u001b[38;5;132;01m}\u001b[39;00m\u001b[38;5;124m and \u001b[39m\u001b[38;5;132;01m{\u001b[39;00mn2\u001b[38;5;132;01m}\u001b[39;00m\u001b[38;5;124m is \u001b[39m\u001b[38;5;132;01m{\u001b[39;00madd\u001b[38;5;132;01m}\u001b[39;00m\u001b[38;5;124m'\u001b[39m)\n",
      "\u001b[1;31mNameError\u001b[0m: name 'n222' is not defined"
     ]
    }
   ],
   "source": [
    "n1=eval(input('enter the n1:'))\n",
    "n2=eval(input('enter the n2:'))\n",
    "add=n1+n222\n",
    "print(f'the addition of {n1} and {n2} is {add}')"
   ]
  },
  {
   "cell_type": "markdown",
   "id": "7a0a772d-e797-4b4c-9b26-820913682c08",
   "metadata": {},
   "source": [
    "**Zero Division error**"
   ]
  },
  {
   "cell_type": "code",
   "execution_count": 10,
   "id": "cc185f2d-6fd2-4ac9-ab01-8c9986296d19",
   "metadata": {},
   "outputs": [
    {
     "name": "stdin",
     "output_type": "stream",
     "text": [
      "enter the n1: 20\n",
      "enter the n2: 0\n"
     ]
    },
    {
     "ename": "ZeroDivisionError",
     "evalue": "division by zero",
     "output_type": "error",
     "traceback": [
      "\u001b[1;31m---------------------------------------------------------------------------\u001b[0m",
      "\u001b[1;31mZeroDivisionError\u001b[0m                         Traceback (most recent call last)",
      "Cell \u001b[1;32mIn[10], line 3\u001b[0m\n\u001b[0;32m      1\u001b[0m n1\u001b[38;5;241m=\u001b[39m\u001b[38;5;28meval\u001b[39m(\u001b[38;5;28minput\u001b[39m(\u001b[38;5;124m'\u001b[39m\u001b[38;5;124menter the n1:\u001b[39m\u001b[38;5;124m'\u001b[39m))\n\u001b[0;32m      2\u001b[0m n2\u001b[38;5;241m=\u001b[39m\u001b[38;5;28meval\u001b[39m(\u001b[38;5;28minput\u001b[39m(\u001b[38;5;124m'\u001b[39m\u001b[38;5;124menter the n2:\u001b[39m\u001b[38;5;124m'\u001b[39m))\n\u001b[1;32m----> 3\u001b[0m div\u001b[38;5;241m=\u001b[39mn1\u001b[38;5;241m/\u001b[39mn2\n\u001b[0;32m      4\u001b[0m \u001b[38;5;28mprint\u001b[39m(\u001b[38;5;124mf\u001b[39m\u001b[38;5;124m'\u001b[39m\u001b[38;5;124mthe div of \u001b[39m\u001b[38;5;132;01m{\u001b[39;00mn1\u001b[38;5;132;01m}\u001b[39;00m\u001b[38;5;124m and \u001b[39m\u001b[38;5;132;01m{\u001b[39;00mn2\u001b[38;5;132;01m}\u001b[39;00m\u001b[38;5;124m is \u001b[39m\u001b[38;5;132;01m{\u001b[39;00mdiv\u001b[38;5;132;01m}\u001b[39;00m\u001b[38;5;124m'\u001b[39m)\n",
      "\u001b[1;31mZeroDivisionError\u001b[0m: division by zero"
     ]
    }
   ],
   "source": [
    "n1=eval(input('enter the n1:'))\n",
    "n2=eval(input('enter the n2:'))\n",
    "div=n1/n2\n",
    "print(f'the div of {n1} and {n2} is {div}')"
   ]
  },
  {
   "cell_type": "code",
   "execution_count": null,
   "id": "10518791-7058-418e-9330-b3b7d9393729",
   "metadata": {},
   "outputs": [],
   "source": [
    "20/0==== not defined\n",
    "0/20 === 0"
   ]
  },
  {
   "cell_type": "markdown",
   "id": "2c26f323-057c-489a-89d8-5f4d2f7440c1",
   "metadata": {},
   "source": [
    "**Value error**"
   ]
  },
  {
   "cell_type": "code",
   "execution_count": 13,
   "id": "c4230c6d-9dd1-45a2-a942-6b73311069b7",
   "metadata": {},
   "outputs": [
    {
     "ename": "ValueError",
     "evalue": "invalid literal for int() with base 10: 'apple'",
     "output_type": "error",
     "traceback": [
      "\u001b[1;31m---------------------------------------------------------------------------\u001b[0m",
      "\u001b[1;31mValueError\u001b[0m                                Traceback (most recent call last)",
      "Cell \u001b[1;32mIn[13], line 1\u001b[0m\n\u001b[1;32m----> 1\u001b[0m \u001b[38;5;28mint\u001b[39m(\u001b[38;5;124m'\u001b[39m\u001b[38;5;124mapple\u001b[39m\u001b[38;5;124m'\u001b[39m)\n",
      "\u001b[1;31mValueError\u001b[0m: invalid literal for int() with base 10: 'apple'"
     ]
    }
   ],
   "source": [
    "int('apple')"
   ]
  },
  {
   "cell_type": "markdown",
   "id": "eb09e2c6-3cc0-427f-8572-b019bff54612",
   "metadata": {},
   "source": [
    "**type error**"
   ]
  },
  {
   "cell_type": "code",
   "execution_count": 16,
   "id": "0a355f59-2cde-4de2-b398-087809e3b706",
   "metadata": {},
   "outputs": [
    {
     "ename": "TypeError",
     "evalue": "unsupported operand type(s) for +: 'int' and 'str'",
     "output_type": "error",
     "traceback": [
      "\u001b[1;31m---------------------------------------------------------------------------\u001b[0m",
      "\u001b[1;31mTypeError\u001b[0m                                 Traceback (most recent call last)",
      "Cell \u001b[1;32mIn[16], line 1\u001b[0m\n\u001b[1;32m----> 1\u001b[0m \u001b[38;5;241m5\u001b[39m\u001b[38;5;241m+\u001b[39m\u001b[38;5;124m'\u001b[39m\u001b[38;5;124mapple\u001b[39m\u001b[38;5;124m'\u001b[39m\n",
      "\u001b[1;31mTypeError\u001b[0m: unsupported operand type(s) for +: 'int' and 'str'"
     ]
    }
   ],
   "source": [
    "5+'apple'"
   ]
  },
  {
   "cell_type": "markdown",
   "id": "b23ad1d6-1ee7-44c9-a9e3-5520f2ae74f0",
   "metadata": {},
   "source": [
    "**Module not found error**"
   ]
  },
  {
   "cell_type": "code",
   "execution_count": 19,
   "id": "d8d9e2ff-2433-4068-a23e-7dc94f7848db",
   "metadata": {},
   "outputs": [
    {
     "ename": "ModuleNotFoundError",
     "evalue": "No module named 'nareshit'",
     "output_type": "error",
     "traceback": [
      "\u001b[1;31m---------------------------------------------------------------------------\u001b[0m",
      "\u001b[1;31mModuleNotFoundError\u001b[0m                       Traceback (most recent call last)",
      "Cell \u001b[1;32mIn[19], line 1\u001b[0m\n\u001b[1;32m----> 1\u001b[0m \u001b[38;5;28;01mimport\u001b[39;00m \u001b[38;5;21;01mnareshit\u001b[39;00m\n",
      "\u001b[1;31mModuleNotFoundError\u001b[0m: No module named 'nareshit'"
     ]
    }
   ],
   "source": [
    "import nareshit"
   ]
  },
  {
   "cell_type": "markdown",
   "id": "0e129009-ec93-48f0-9306-d91df343f704",
   "metadata": {},
   "source": [
    "**Attribute error**"
   ]
  },
  {
   "cell_type": "code",
   "execution_count": 22,
   "id": "ff459196-8121-4373-a6c9-517885215b91",
   "metadata": {},
   "outputs": [
    {
     "ename": "AttributeError",
     "evalue": "module 'random' has no attribute 'virat'",
     "output_type": "error",
     "traceback": [
      "\u001b[1;31m---------------------------------------------------------------------------\u001b[0m",
      "\u001b[1;31mAttributeError\u001b[0m                            Traceback (most recent call last)",
      "Cell \u001b[1;32mIn[22], line 2\u001b[0m\n\u001b[0;32m      1\u001b[0m \u001b[38;5;28;01mimport\u001b[39;00m \u001b[38;5;21;01mrandom\u001b[39;00m\n\u001b[1;32m----> 2\u001b[0m random\u001b[38;5;241m.\u001b[39mvirat\n",
      "\u001b[1;31mAttributeError\u001b[0m: module 'random' has no attribute 'virat'"
     ]
    }
   ],
   "source": [
    "import random\n",
    "random.virat"
   ]
  },
  {
   "cell_type": "code",
   "execution_count": 25,
   "id": "1ee9c5b3-750f-4dc4-8b87-08760a79ca96",
   "metadata": {},
   "outputs": [
    {
     "ename": "SyntaxError",
     "evalue": "unterminated string literal (detected at line 1) (2365013667.py, line 1)",
     "output_type": "error",
     "traceback": [
      "\u001b[1;36m  Cell \u001b[1;32mIn[25], line 1\u001b[1;36m\u001b[0m\n\u001b[1;33m    \"nareshit'\u001b[0m\n\u001b[1;37m    ^\u001b[0m\n\u001b[1;31mSyntaxError\u001b[0m\u001b[1;31m:\u001b[0m unterminated string literal (detected at line 1)\n"
     ]
    }
   ],
   "source": [
    "\"nareshit'"
   ]
  },
  {
   "cell_type": "code",
   "execution_count": 27,
   "id": "89b915d8-117a-44ed-b548-767d44ec2d59",
   "metadata": {},
   "outputs": [
    {
     "ename": "SyntaxError",
     "evalue": "unterminated string literal (detected at line 1) (2972040201.py, line 1)",
     "output_type": "error",
     "traceback": [
      "\u001b[1;36m  Cell \u001b[1;32mIn[27], line 1\u001b[1;36m\u001b[0m\n\u001b[1;33m    n1=eval(input('enter the n1:))\u001b[0m\n\u001b[1;37m                  ^\u001b[0m\n\u001b[1;31mSyntaxError\u001b[0m\u001b[1;31m:\u001b[0m unterminated string literal (detected at line 1)\n"
     ]
    }
   ],
   "source": [
    "n1=eval(input('enter the n1:))"
   ]
  },
  {
   "cell_type": "code",
   "execution_count": 29,
   "id": "923b3412-014a-44cb-9a89-d17f5b641a96",
   "metadata": {},
   "outputs": [
    {
     "ename": "SyntaxError",
     "evalue": "incomplete input (4110232989.py, line 1)",
     "output_type": "error",
     "traceback": [
      "\u001b[1;36m  Cell \u001b[1;32mIn[29], line 1\u001b[1;36m\u001b[0m\n\u001b[1;33m    n1=eval(input('enter the n1:')\u001b[0m\n\u001b[1;37m                                  ^\u001b[0m\n\u001b[1;31mSyntaxError\u001b[0m\u001b[1;31m:\u001b[0m incomplete input\n"
     ]
    }
   ],
   "source": [
    "n1=eval(input('enter the n1:')"
   ]
  },
  {
   "cell_type": "markdown",
   "id": "178373dd-177a-4899-9206-a921a57d6088",
   "metadata": {},
   "source": [
    "- syntax error\n",
    "\n",
    "- indentation error are not a logical errors\n",
    "\n",
    "- only logical error will capture by exception block"
   ]
  },
  {
   "cell_type": "code",
   "execution_count": null,
   "id": "43d2311f-1506-44a4-9b37-efb9ec521751",
   "metadata": {},
   "outputs": [],
   "source": [
    "try:\n",
    "    <code>\n",
    "except Exception as e:\n",
    "    print(e)"
   ]
  },
  {
   "cell_type": "code",
   "execution_count": 33,
   "id": "1a8695dd-de73-45da-b323-597837287cfc",
   "metadata": {},
   "outputs": [
    {
     "name": "stdin",
     "output_type": "stream",
     "text": [
      "enter the n1: 20\n",
      "enter the n2: 22\n"
     ]
    },
    {
     "name": "stdout",
     "output_type": "stream",
     "text": [
      "the addition of 20 and 22 is 42\n"
     ]
    }
   ],
   "source": [
    "try:\n",
    "    n1=eval(input('enter the n1:'))\n",
    "    n2=eval(input('enter the n2:'))\n",
    "    add=n1+n2\n",
    "    print(f'the addition of {n1} and {n2} is {add}')\n",
    "\n",
    "except Exception as e:\n",
    "    print(e)"
   ]
  },
  {
   "cell_type": "code",
   "execution_count": 35,
   "id": "886cc25d-5b63-49f8-83b0-bd9f3c6525bf",
   "metadata": {},
   "outputs": [
    {
     "name": "stdin",
     "output_type": "stream",
     "text": [
      "enter the n1: 20\n",
      "enter the n2: 30\n"
     ]
    },
    {
     "name": "stdout",
     "output_type": "stream",
     "text": [
      "name 'n2222' is not defined\n"
     ]
    }
   ],
   "source": [
    "try:\n",
    "    n1=eval(input('enter the n1:'))\n",
    "    n2=eval(input('enter the n2:'))\n",
    "    add=n1+n2222\n",
    "    print(f'the addition of {n1} and {n2} is {add}')\n",
    "\n",
    "except Exception as e:\n",
    "    print(e)"
   ]
  },
  {
   "cell_type": "code",
   "execution_count": null,
   "id": "5c5b083c-48f2-468b-9424-f5e51a3a8c61",
   "metadata": {},
   "outputs": [],
   "source": [
    "- zero error\n",
    "\n",
    "- value\n",
    "\n",
    "- type\n",
    "\n",
    "- module\n",
    "\n",
    "- attribute\n",
    "\n",
    "- syntax  check it catch or not catch\n",
    "\n",
    "- indenation check it catch or not catch"
   ]
  },
  {
   "cell_type": "code",
   "execution_count": 37,
   "id": "2eb20118-5824-4de0-8258-16603a8c421b",
   "metadata": {},
   "outputs": [
    {
     "ename": "ModuleNotFoundError",
     "evalue": "No module named 'Tushar'",
     "output_type": "error",
     "traceback": [
      "\u001b[1;31m---------------------------------------------------------------------------\u001b[0m",
      "\u001b[1;31mModuleNotFoundError\u001b[0m                       Traceback (most recent call last)",
      "Cell \u001b[1;32mIn[37], line 1\u001b[0m\n\u001b[1;32m----> 1\u001b[0m \u001b[38;5;28;01mimport\u001b[39;00m \u001b[38;5;21;01mTushar\u001b[39;00m\n\u001b[0;32m      2\u001b[0m \u001b[38;5;28;01mfrom\u001b[39;00m \u001b[38;5;21;01mTushar\u001b[39;00m \u001b[38;5;28;01mimport\u001b[39;00m tushar\n\u001b[0;32m      3\u001b[0m \u001b[38;5;28;01mimport\u001b[39;00m \u001b[38;5;21;01mrandom\u001b[39;00m\n",
      "\u001b[1;31mModuleNotFoundError\u001b[0m: No module named 'Tushar'"
     ]
    }
   ],
   "source": [
    "import Tushar\n",
    "from Tushar import tushar\n",
    "import random\n",
    "from random import randint\n",
    "try:\n",
    "    n1=eval(input('Enter a number'))\n",
    "    n2=eval(input('Enter a number second'))\n",
    "    n3=random.randint(10)\n",
    "    n4=Tushar.tushar\n",
    "    add=n1+n2+n3\n",
    "    print(f'The division of {n1} and {n2} is {add}')\n",
    "except Exception as e:\n",
    "    print(e)"
   ]
  },
  {
   "cell_type": "code",
   "execution_count": 41,
   "id": "63fc89be-cc34-47c6-a554-01de3614e5ac",
   "metadata": {},
   "outputs": [
    {
     "name": "stdin",
     "output_type": "stream",
     "text": [
      "Enter a number 20\n",
      "Enter a number second 30\n"
     ]
    },
    {
     "name": "stdout",
     "output_type": "stream",
     "text": [
      "name 'Tushar' is not defined\n"
     ]
    }
   ],
   "source": [
    "try:\n",
    "    n1=eval(input('Enter a number'))\n",
    "    n2=eval(input('Enter a number second'))\n",
    "    n3=random.randint(10,30)\n",
    "    n4=Tushar.tushar\n",
    "    add=n1+n2+n3\n",
    "    print(f'The division of {n1} and {n2} is {add}')\n",
    "except Exception as e:\n",
    "    print(e)"
   ]
  },
  {
   "cell_type": "code",
   "execution_count": 44,
   "id": "186c45a4-8339-4157-b792-c7d573a08f58",
   "metadata": {},
   "outputs": [
    {
     "ename": "IndentationError",
     "evalue": "unindent does not match any outer indentation level (<string>, line 3)",
     "output_type": "error",
     "traceback": [
      "\u001b[1;36m  File \u001b[1;32m<string>:3\u001b[1;36m\u001b[0m\n\u001b[1;33m    print('')\u001b[0m\n\u001b[1;37m             ^\u001b[0m\n\u001b[1;31mIndentationError\u001b[0m\u001b[1;31m:\u001b[0m unindent does not match any outer indentation level\n"
     ]
    }
   ],
   "source": [
    "try:\n",
    "        print('Indentation error')\n",
    "    print('')\n",
    "except Exception as e:\n",
    "    print(e)"
   ]
  },
  {
   "cell_type": "code",
   "execution_count": null,
   "id": "dd469cfd-66db-4e5c-890a-41a2b8193dde",
   "metadata": {},
   "outputs": [],
   "source": [
    "'shobanm'+'begum'\n",
    "\n",
    "'shobnam begum'"
   ]
  },
  {
   "cell_type": "code",
   "execution_count": 57,
   "id": "12e2607a-d9ca-4da8-9cde-5093370dcfb7",
   "metadata": {},
   "outputs": [
    {
     "ename": "IndentationError",
     "evalue": "unindent does not match any outer indentation level (<string>, line 3)",
     "output_type": "error",
     "traceback": [
      "\u001b[1;36m  File \u001b[1;32m<string>:3\u001b[1;36m\u001b[0m\n\u001b[1;33m    print('')\u001b[0m\n\u001b[1;37m             ^\u001b[0m\n\u001b[1;31mIndentationError\u001b[0m\u001b[1;31m:\u001b[0m unindent does not match any outer indentation level\n"
     ]
    }
   ],
   "source": [
    "if True:\n",
    "          print('hello')\n",
    "    print('')"
   ]
  },
  {
   "cell_type": "code",
   "execution_count": 61,
   "id": "ea050566-a1d0-4e71-b726-9b9719c74a58",
   "metadata": {},
   "outputs": [
    {
     "name": "stdin",
     "output_type": "stream",
     "text": [
      "enter the how much distance wants to tarvel: 100\n"
     ]
    },
    {
     "name": "stdout",
     "output_type": "stream",
     "text": [
      "wow govt is giving 25 km.\n"
     ]
    },
    {
     "name": "stdin",
     "output_type": "stream",
     "text": [
      "enter the charge per km: 2\n"
     ]
    },
    {
     "name": "stdout",
     "output_type": "stream",
     "text": [
      "name 'freeeeeeee_distance' is not defined\n"
     ]
    }
   ],
   "source": [
    "try:\n",
    "    distance=eval(input('enter the how much distance wants to tarvel:'))\n",
    "    free_distance=25\n",
    "    print(f'wow govt is giving {free_distance} km.')\n",
    "    if distance>free_distance:\n",
    "        charge=eval(input('enter the charge per km:'))\n",
    "        charge_distance=distance-freeeeeeee_distance\n",
    "        print(f'the chargeble distance:{charge_distance}')\n",
    "        total_charge=charge_distance*charge\n",
    "        print(f'the total charge for {charge_distance}*{charge}={(charge_distance)*charge}')\n",
    "    \n",
    "    else:\n",
    "        print('enjoy the free ride')\n",
    "\n",
    "except Exception as e:\n",
    "    print(e)"
   ]
  },
  {
   "cell_type": "code",
   "execution_count": 63,
   "id": "844c849d-066e-4393-a4df-74cd7b7b7e06",
   "metadata": {},
   "outputs": [
    {
     "name": "stdin",
     "output_type": "stream",
     "text": [
      "enter the n1: 100\n",
      "enter the n2: 20\n"
     ]
    },
    {
     "name": "stdout",
     "output_type": "stream",
     "text": [
      "name 'n2222' is not defined\n",
      "hello\n"
     ]
    }
   ],
   "source": [
    "try:\n",
    "    n1=eval(input('enter the n1:'))\n",
    "    n2=eval(input('enter the n2:'))\n",
    "    add=n1+n2222\n",
    "    print(f'the addition of {n1} and {n2} is {add}')\n",
    "\n",
    "except Exception as e:\n",
    "    print(e)\n",
    "    print('hello')"
   ]
  },
  {
   "cell_type": "code",
   "execution_count": 65,
   "id": "0988b1a3-ea86-4fa0-944d-b19835e187f3",
   "metadata": {},
   "outputs": [
    {
     "name": "stdin",
     "output_type": "stream",
     "text": [
      "enter the n1: 20\n",
      "enter the n2: 30\n"
     ]
    },
    {
     "ename": "NameError",
     "evalue": "name 'n2222' is not defined",
     "output_type": "error",
     "traceback": [
      "\u001b[1;31m---------------------------------------------------------------------------\u001b[0m",
      "\u001b[1;31mNameError\u001b[0m                                 Traceback (most recent call last)",
      "Cell \u001b[1;32mIn[65], line 3\u001b[0m\n\u001b[0;32m      1\u001b[0m n1\u001b[38;5;241m=\u001b[39m\u001b[38;5;28meval\u001b[39m(\u001b[38;5;28minput\u001b[39m(\u001b[38;5;124m'\u001b[39m\u001b[38;5;124menter the n1:\u001b[39m\u001b[38;5;124m'\u001b[39m))\n\u001b[0;32m      2\u001b[0m n2\u001b[38;5;241m=\u001b[39m\u001b[38;5;28meval\u001b[39m(\u001b[38;5;28minput\u001b[39m(\u001b[38;5;124m'\u001b[39m\u001b[38;5;124menter the n2:\u001b[39m\u001b[38;5;124m'\u001b[39m))\n\u001b[1;32m----> 3\u001b[0m add\u001b[38;5;241m=\u001b[39mn1\u001b[38;5;241m+\u001b[39mn2222\n\u001b[0;32m      4\u001b[0m \u001b[38;5;28mprint\u001b[39m(\u001b[38;5;124mf\u001b[39m\u001b[38;5;124m'\u001b[39m\u001b[38;5;124mthe addition of \u001b[39m\u001b[38;5;132;01m{\u001b[39;00mn1\u001b[38;5;132;01m}\u001b[39;00m\u001b[38;5;124m and \u001b[39m\u001b[38;5;132;01m{\u001b[39;00mn2\u001b[38;5;132;01m}\u001b[39;00m\u001b[38;5;124m is \u001b[39m\u001b[38;5;132;01m{\u001b[39;00madd\u001b[38;5;132;01m}\u001b[39;00m\u001b[38;5;124m'\u001b[39m)\n\u001b[0;32m      5\u001b[0m \u001b[38;5;28mprint\u001b[39m(\u001b[38;5;124m'\u001b[39m\u001b[38;5;124mhello\u001b[39m\u001b[38;5;124m'\u001b[39m)\n",
      "\u001b[1;31mNameError\u001b[0m: name 'n2222' is not defined"
     ]
    }
   ],
   "source": [
    "n1=eval(input('enter the n1:'))\n",
    "n2=eval(input('enter the n2:'))\n",
    "add=n1+n2222\n",
    "print(f'the addition of {n1} and {n2} is {add}')\n",
    "print('hello')"
   ]
  },
  {
   "cell_type": "markdown",
   "id": "6acbf288-62e9-4b8c-b61a-1291df7e8ffb",
   "metadata": {},
   "source": [
    "**finally**\n",
    "\n",
    "- finally block will use when you want to show some thing\n",
    "\n",
    "- even for correct code or even for wrong code\n",
    "\n",
    "- we already know correct code in **try**\n",
    "\n",
    "- when code wrong **except block will execute**\n",
    "\n",
    "- I dont mind if it is a try block or except block I want to say something to you\n",
    "\n",
    "- then use **finally**"
   ]
  },
  {
   "cell_type": "code",
   "execution_count": 69,
   "id": "0f95d35a-c7ed-4f5f-a385-52470ae10bf8",
   "metadata": {},
   "outputs": [
    {
     "name": "stdout",
     "output_type": "stream",
     "text": [
      "correct code\n",
      "after code run say bye\n"
     ]
    }
   ],
   "source": [
    "try:\n",
    "    n1=10\n",
    "    n2=20\n",
    "    print(n1+N2)\n",
    "    print('after code run say bye')\n",
    "except Exception as e:\n",
    "    print(e)\n",
    "    print('after code run say bye')"
   ]
  },
  {
   "cell_type": "code",
   "execution_count": null,
   "id": "5bc23349-3731-4f4c-91ee-8ac6e9ae293e",
   "metadata": {},
   "outputs": [],
   "source": [
    "try:\n",
    "    print('correct code')\n",
    "except Exception as e:\n",
    "    print(e)\n",
    "finally:\n",
    "    print('after code run say bye')\n",
    "\n",
    "# youre connecting a Third part cloud database using python \n",
    "# migh\n",
    "# after some time i want to close the session i dont"
   ]
  },
  {
   "cell_type": "code",
   "execution_count": 73,
   "id": "262eeeec-a69c-4953-8203-eef73cb50cf8",
   "metadata": {},
   "outputs": [
    {
     "name": "stdout",
     "output_type": "stream",
     "text": [
      "connection not happend\n",
      "close the connection after some time\n"
     ]
    }
   ],
   "source": [
    "try:\n",
    "    VIRAT\n",
    "except:\n",
    "    print('connection not happend')\n",
    "finally:\n",
    "    print('close the connection after some time')\n",
    "\n"
   ]
  },
  {
   "cell_type": "code",
   "execution_count": 75,
   "id": "14ccb05b-c4cb-47dd-a2e7-e63a6b2e6a50",
   "metadata": {},
   "outputs": [
    {
     "name": "stdout",
     "output_type": "stream",
     "text": [
      "hello\n"
     ]
    },
    {
     "ename": "NameError",
     "evalue": "name 'exception' is not defined",
     "output_type": "error",
     "traceback": [
      "\u001b[1;31m---------------------------------------------------------------------------\u001b[0m",
      "\u001b[1;31mNameError\u001b[0m                                 Traceback (most recent call last)",
      "Cell \u001b[1;32mIn[75], line 2\u001b[0m\n\u001b[0;32m      1\u001b[0m \u001b[38;5;28;01mtry\u001b[39;00m:\n\u001b[1;32m----> 2\u001b[0m     vishal\n\u001b[0;32m      3\u001b[0m     \u001b[38;5;28mprint\u001b[39m(\u001b[38;5;124m'\u001b[39m\u001b[38;5;124mCorrect code\u001b[39m\u001b[38;5;124m'\u001b[39m)\n",
      "\u001b[1;31mNameError\u001b[0m: name 'vishal' is not defined",
      "\nDuring handling of the above exception, another exception occurred:\n",
      "\u001b[1;31mNameError\u001b[0m                                 Traceback (most recent call last)",
      "Cell \u001b[1;32mIn[75], line 4\u001b[0m\n\u001b[0;32m      2\u001b[0m     vishal\n\u001b[0;32m      3\u001b[0m     \u001b[38;5;28mprint\u001b[39m(\u001b[38;5;124m'\u001b[39m\u001b[38;5;124mCorrect code\u001b[39m\u001b[38;5;124m'\u001b[39m)\n\u001b[1;32m----> 4\u001b[0m \u001b[38;5;28;01mexcept\u001b[39;00m exception \u001b[38;5;28;01mas\u001b[39;00m e:\n\u001b[0;32m      5\u001b[0m     \u001b[38;5;28mprint\u001b[39m(e)\n\u001b[0;32m      6\u001b[0m \u001b[38;5;28;01mfinally\u001b[39;00m:\n",
      "\u001b[1;31mNameError\u001b[0m: name 'exception' is not defined"
     ]
    }
   ],
   "source": [
    "try:\n",
    "    vishal\n",
    "    print('Correct code')\n",
    "except exception as e:\n",
    "    print(e)\n",
    "finally:\n",
    "    print('hello')"
   ]
  },
  {
   "cell_type": "code",
   "execution_count": null,
   "id": "b0bd5fa9-9bb9-4bba-91d0-7f6a665d288c",
   "metadata": {},
   "outputs": [],
   "source": [
    "try:\n",
    "    n1=10\n",
    "    n2=eval(input('enter a number'))\n",
    "    print(n1+n222)\n",
    "except Exception as e:\n",
    "    print(e)\n",
    "finally:\n",
    "    print('after run just say bye bye')"
   ]
  },
  {
   "cell_type": "code",
   "execution_count": null,
   "id": "5b20bf23-a313-433e-bfad-5e16c2517284",
   "metadata": {},
   "outputs": [],
   "source": [
    "i am very happy bcz one error =100 members\n",
    "i am welcome this error\n",
    "\n",
    "when i talk your mind will start\n",
    "i will spell the "
   ]
  }
 ],
 "metadata": {
  "kernelspec": {
   "display_name": "Python [conda env:base] *",
   "language": "python",
   "name": "conda-base-py"
  },
  "language_info": {
   "codemirror_mode": {
    "name": "ipython",
    "version": 3
   },
   "file_extension": ".py",
   "mimetype": "text/x-python",
   "name": "python",
   "nbconvert_exporter": "python",
   "pygments_lexer": "ipython3",
   "version": "3.12.7"
  }
 },
 "nbformat": 4,
 "nbformat_minor": 5
}
