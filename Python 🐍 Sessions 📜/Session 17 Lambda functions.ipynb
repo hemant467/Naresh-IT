{
 "cells": [
  {
   "cell_type": "markdown",
   "id": "da2afcae-78a8-42de-b9c2-1d7415d03599",
   "metadata": {},
   "source": [
    "<h1><center><b>Lambda functions</b></center></h1>"
   ]
  },
  {
   "cell_type": "markdown",
   "id": "ba899f8b-34a5-4500-87b8-4bf3c105aa84",
   "metadata": {},
   "source": [
    "# List Comprehension"
   ]
  },
  {
   "cell_type": "markdown",
   "id": "4f8062d7-93d7-48a0-abb8-f18609137a2d",
   "metadata": {},
   "source": [
    "- Method 1 : [ output forloop ]\n",
    "  \n",
    "- Method 2 : [ output forloop ifcondition ]\n",
    "\n",
    "- Method 3 : [ ifoutput if condition else elseoutput forloop ]\n",
    "\n",
    "- Method 4 : [ ifoutput if condition else elifout elifcon else elseout forloop ]"
   ]
  },
  {
   "cell_type": "markdown",
   "id": "452f3608-93e8-475e-a79b-2c8fa9e2ca2d",
   "metadata": {},
   "source": [
    "# Lambda functions :"
   ]
  },
  {
   "cell_type": "markdown",
   "id": "f9b1547d-f2f4-4776-a1c8-793e8e26a5a4",
   "metadata": {},
   "source": [
    "- Lambda functions are representing functions in a single line\n",
    "\n",
    "- It's same analogy as list comprehension"
   ]
  },
  {
   "cell_type": "markdown",
   "id": "82f14d3a-b825-4ece-bbb8-da0f2332841b",
   "metadata": {},
   "source": [
    "# Case 1: Function with one argument"
   ]
  },
  {
   "cell_type": "code",
   "execution_count": 7,
   "id": "33e412b3-b9f9-43ab-ad96-468a1443b1d8",
   "metadata": {},
   "outputs": [
    {
     "name": "stdout",
     "output_type": "stream",
     "text": [
      "200\n"
     ]
    }
   ],
   "source": [
    "def add(a):\n",
    "    print(a*10)\n",
    "add(20)"
   ]
  },
  {
   "cell_type": "markdown",
   "id": "ff207420-d062-47e1-8384-ce218a904384",
   "metadata": {},
   "source": [
    "# SYNTAX :\n",
    "function_name = lambda <argument> : <output>"
   ]
  },
  {
   "cell_type": "code",
   "execution_count": 14,
   "id": "2d6d43ee-50e1-4c1b-a91d-a1a2e468f912",
   "metadata": {},
   "outputs": [
    {
     "data": {
      "text/plain": [
       "1000"
      ]
     },
     "execution_count": 14,
     "metadata": {},
     "output_type": "execute_result"
    }
   ],
   "source": [
    "# function name = add\n",
    "# argument = a\n",
    "# output=a*10\n",
    "\n",
    "add= lambda a : a*10\n",
    "add(100)"
   ]
  },
  {
   "cell_type": "code",
   "execution_count": 16,
   "id": "3d3cb5a9-6fd5-4003-8247-af20f8c4506b",
   "metadata": {},
   "outputs": [
    {
     "data": {
      "text/plain": [
       "1000"
      ]
     },
     "execution_count": 16,
     "metadata": {},
     "output_type": "execute_result"
    }
   ],
   "source": [
    "cube= lambda x: x**3\n",
    "cube(10)"
   ]
  },
  {
   "cell_type": "markdown",
   "id": "9368ff25-a485-434e-946e-6558ec56de67",
   "metadata": {},
   "source": [
    "# Case 2 : Lambda functions with multiple arguments"
   ]
  },
  {
   "cell_type": "code",
   "execution_count": 25,
   "id": "26d5682c-11b2-48bd-8d48-7868ab6062b7",
   "metadata": {},
   "outputs": [
    {
     "name": "stdout",
     "output_type": "stream",
     "text": [
      "300\n"
     ]
    }
   ],
   "source": [
    "def add(a,b):\n",
    "    print(a+b)\n",
    "\n",
    "add(100,200)"
   ]
  },
  {
   "cell_type": "code",
   "execution_count": 27,
   "id": "4fe24780-604a-4df3-af67-6834507d136d",
   "metadata": {},
   "outputs": [
    {
     "data": {
      "text/plain": [
       "500"
      ]
     },
     "execution_count": 27,
     "metadata": {},
     "output_type": "execute_result"
    }
   ],
   "source": [
    "add=lambda a,b:a+b\n",
    "\n",
    "add(200,300)"
   ]
  },
  {
   "cell_type": "code",
   "execution_count": null,
   "id": "2100382e-29a4-428d-9fc1-a2e14633e35f",
   "metadata": {},
   "outputs": [],
   "source": [
    "# <function_name>=lambda <argument_name>:<return_value>"
   ]
  },
  {
   "cell_type": "code",
   "execution_count": 35,
   "id": "51c62eac-a318-444d-a149-82053f7de1f0",
   "metadata": {},
   "outputs": [],
   "source": [
    "def avg(a,b,c):\n",
    "    print((a+b+c)/3)"
   ]
  },
  {
   "cell_type": "code",
   "execution_count": 29,
   "id": "a0e63073-3410-4002-967a-81b39092ecd2",
   "metadata": {},
   "outputs": [
    {
     "data": {
      "text/plain": [
       "20.0"
      ]
     },
     "execution_count": 29,
     "metadata": {},
     "output_type": "execute_result"
    }
   ],
   "source": [
    "avg=lambda a,b,c:(a+b+c)/3\n",
    "avg(10,20,30)"
   ]
  },
  {
   "cell_type": "code",
   "execution_count": 33,
   "id": "e6deb911-e73e-46e1-81d8-8a95a8ab84ad",
   "metadata": {},
   "outputs": [
    {
     "data": {
      "text/plain": [
       "17.33"
      ]
     },
     "execution_count": 33,
     "metadata": {},
     "output_type": "execute_result"
    }
   ],
   "source": [
    "avg=lambda a,b,c:(round((a+b+c)/3,2))\n",
    "avg(1,20,31)"
   ]
  },
  {
   "cell_type": "code",
   "execution_count": 39,
   "id": "d0d66b47-a547-4651-b7c5-74fe641af964",
   "metadata": {},
   "outputs": [
    {
     "data": {
      "text/plain": [
       "40.33"
      ]
     },
     "execution_count": 39,
     "metadata": {},
     "output_type": "execute_result"
    }
   ],
   "source": [
    "avg=lambda a,b,c=100:(round((a+b+c)/3,2))\n",
    "avg(1,20)"
   ]
  },
  {
   "cell_type": "markdown",
   "id": "3b27a855-cabc-425f-b295-35caa9a6d091",
   "metadata": {},
   "source": [
    "# Case 3: Function with if-else"
   ]
  },
  {
   "cell_type": "code",
   "execution_count": 44,
   "id": "472a2209-6806-4cda-8b2d-4a864bbaf532",
   "metadata": {},
   "outputs": [
    {
     "name": "stdout",
     "output_type": "stream",
     "text": [
      "Even\n"
     ]
    }
   ],
   "source": [
    "def even(a):\n",
    "    if a%2==0:\n",
    "        print('Even')\n",
    "even(20)"
   ]
  },
  {
   "cell_type": "code",
   "execution_count": 46,
   "id": "ae730ec4-cc4d-44d9-8fbc-6f485632768b",
   "metadata": {},
   "outputs": [
    {
     "ename": "SyntaxError",
     "evalue": "expected 'else' after 'if' expression (3226982319.py, line 3)",
     "output_type": "error",
     "traceback": [
      "\u001b[1;36m  Cell \u001b[1;32mIn[46], line 3\u001b[1;36m\u001b[0m\n\u001b[1;33m    even = lambda a: a if a%2==0\u001b[0m\n\u001b[1;37m                     ^\u001b[0m\n\u001b[1;31mSyntaxError\u001b[0m\u001b[1;31m:\u001b[0m expected 'else' after 'if' expression\n"
     ]
    }
   ],
   "source": [
    "# func name = Lambda <arg> : <output> <condition>\n",
    "\n",
    "even = lambda a: a if a%2==0\n",
    "even(4)"
   ]
  },
  {
   "cell_type": "code",
   "execution_count": 48,
   "id": "1c98653d-08b7-40bf-80e4-de9a8b2bcc51",
   "metadata": {},
   "outputs": [
    {
     "data": {
      "text/plain": [
       "4"
      ]
     },
     "execution_count": 48,
     "metadata": {},
     "output_type": "execute_result"
    }
   ],
   "source": [
    "even = lambda a: a if a%2==0 else 'odd'\n",
    "even(4)"
   ]
  },
  {
   "cell_type": "code",
   "execution_count": 7,
   "id": "230f9743-2b79-45be-97e1-1c8c2cc49e83",
   "metadata": {},
   "outputs": [
    {
     "data": {
      "text/plain": [
       "'EVEN'"
      ]
     },
     "execution_count": 7,
     "metadata": {},
     "output_type": "execute_result"
    }
   ],
   "source": [
    "even = lambda a: 'EVEN' if a%2==0 else 'ODD'\n",
    "even(4)"
   ]
  },
  {
   "cell_type": "code",
   "execution_count": 5,
   "id": "d9076a09-b5da-4471-a50f-6f535c7b85f4",
   "metadata": {},
   "outputs": [
    {
     "data": {
      "text/plain": [
       "'ODD'"
      ]
     },
     "execution_count": 5,
     "metadata": {},
     "output_type": "execute_result"
    }
   ],
   "source": [
    "even_odd = lambda a: 'EVEN' if a%2==0 else 'ODD'\n",
    "even_odd(21)"
   ]
  },
  {
   "cell_type": "code",
   "execution_count": null,
   "id": "e745f501-a2b4-4d98-a7b6-8358618b3139",
   "metadata": {},
   "outputs": [],
   "source": [
    "def greater(n1,n2):\n",
    "    if n1>n2:\n",
    "        print(n1)\n",
    "    else:\n",
    "        print(n2)"
   ]
  },
  {
   "cell_type": "markdown",
   "id": "47b56c78-9143-403e-95bb-f8da8425b449",
   "metadata": {},
   "source": [
    "# Case 4: List operations"
   ]
  },
  {
   "cell_type": "code",
   "execution_count": 55,
   "id": "3f78a099-8bd6-4876-b4fd-3d86678f1e2c",
   "metadata": {},
   "outputs": [
    {
     "data": {
      "text/plain": [
       "['Hyd', 'Bengaluru', 'Mumbai', 'Chennai']"
      ]
     },
     "execution_count": 55,
     "metadata": {},
     "output_type": "execute_result"
    }
   ],
   "source": [
    "Input=['hyd','bengaluru','Mumbai','Chennai']\n",
    "[i.capitalize() for i in Input]"
   ]
  },
  {
   "cell_type": "code",
   "execution_count": 57,
   "id": "ffbc96a3-c593-4d99-b712-90195c624971",
   "metadata": {},
   "outputs": [
    {
     "data": {
      "text/plain": [
       "<function __main__.<lambda>(i)>"
      ]
     },
     "execution_count": 57,
     "metadata": {},
     "output_type": "execute_result"
    }
   ],
   "source": [
    "# STEP - 1: Make the function\n",
    "            #lambda <arg>:<output>\n",
    "\n",
    "lambda i : i.capitalize()"
   ]
  },
  {
   "cell_type": "code",
   "execution_count": 59,
   "id": "5840861b-b8b5-4cbb-baad-9c7e48a5c130",
   "metadata": {},
   "outputs": [
    {
     "data": {
      "text/plain": [
       "(<function __main__.<lambda>(i)>, ['hyd', 'bengaluru', 'Mumbai', 'Chennai'])"
      ]
     },
     "execution_count": 59,
     "metadata": {},
     "output_type": "execute_result"
    }
   ],
   "source": [
    "# STEP - 2: <lambda function>,list\n",
    "lambda i : i.capitalize(),Input"
   ]
  },
  {
   "cell_type": "code",
   "execution_count": 61,
   "id": "2e3e1377-7ce5-441b-b99b-f123639119a8",
   "metadata": {},
   "outputs": [
    {
     "data": {
      "text/plain": [
       "(10, 20)"
      ]
     },
     "execution_count": 61,
     "metadata": {},
     "output_type": "execute_result"
    }
   ],
   "source": [
    "10,20 # TUPLE ( )"
   ]
  },
  {
   "cell_type": "markdown",
   "id": "f620740b-bc96-4da4-88a4-ed3545da53c5",
   "metadata": {},
   "source": [
    "# MAP"
   ]
  },
  {
   "cell_type": "code",
   "execution_count": 64,
   "id": "d628f6b2-bd3a-4eae-8d2b-422e2bdb823c",
   "metadata": {},
   "outputs": [
    {
     "data": {
      "text/plain": [
       "<map at 0x1eaa17ade10>"
      ]
     },
     "execution_count": 64,
     "metadata": {},
     "output_type": "execute_result"
    }
   ],
   "source": [
    "# Step - 3: Attach function and list using map\n",
    "#           map(fun,iterator)\n",
    "map(lambda i : i.capitalize(),Input)"
   ]
  },
  {
   "cell_type": "code",
   "execution_count": 66,
   "id": "ad38271a-7b8d-48be-8345-b614ffe77840",
   "metadata": {},
   "outputs": [
    {
     "data": {
      "text/plain": [
       "['Hyd', 'Bengaluru', 'Mumbai', 'Chennai']"
      ]
     },
     "execution_count": 66,
     "metadata": {},
     "output_type": "execute_result"
    }
   ],
   "source": [
    "list(map(lambda i : i.capitalize(),Input))"
   ]
  },
  {
   "cell_type": "code",
   "execution_count": 68,
   "id": "86c34f2f-fcb0-4e51-8e17-5a3d91883d1b",
   "metadata": {},
   "outputs": [
    {
     "data": {
      "text/plain": [
       "['Hyd', 'Bengaluru', 'Mumbai', 'Chennai']"
      ]
     },
     "execution_count": 68,
     "metadata": {},
     "output_type": "execute_result"
    }
   ],
   "source": [
    "lambda i : i.capitalize()\n",
    "lambda i : i.capitalize(),Input\n",
    "map(lambda i : i.capitalize(),Input)\n",
    "list(map(lambda i : i.capitalize(),Input))"
   ]
  },
  {
   "cell_type": "code",
   "execution_count": 72,
   "id": "aa381e19-263a-4fb7-869f-829c008a7f14",
   "metadata": {},
   "outputs": [
    {
     "data": {
      "text/plain": [
       "(<function __main__.<lambda>(i)>, ['hyd', 'bengaluru', 'Mumbai', 'Chennai'])"
      ]
     },
     "execution_count": 72,
     "metadata": {},
     "output_type": "execute_result"
    }
   ],
   "source": [
    "lambda i : i.capitalize(),Input"
   ]
  },
  {
   "cell_type": "code",
   "execution_count": 74,
   "id": "1082acec-a2de-425c-8b1e-c8832292e353",
   "metadata": {},
   "outputs": [
    {
     "data": {
      "text/plain": [
       "<map at 0x1eaa2c1c700>"
      ]
     },
     "execution_count": 74,
     "metadata": {},
     "output_type": "execute_result"
    }
   ],
   "source": [
    "map(lambda i : i.capitalize(),Input)"
   ]
  },
  {
   "cell_type": "code",
   "execution_count": 70,
   "id": "9693a4ff-4378-4ed9-89cc-23b255d72c1f",
   "metadata": {},
   "outputs": [
    {
     "data": {
      "text/plain": [
       "['HYD', 'BENGALURU', 'MUMBAI', 'CHENNAI']"
      ]
     },
     "execution_count": 70,
     "metadata": {},
     "output_type": "execute_result"
    }
   ],
   "source": [
    "list(map(lambda i : i.upper(),Input))"
   ]
  },
  {
   "cell_type": "code",
   "execution_count": 76,
   "id": "deb9c3b8-1ad6-4349-8459-2ac07d45ffba",
   "metadata": {},
   "outputs": [
    {
     "name": "stdout",
     "output_type": "stream",
     "text": [
      "<function <lambda> at 0x000001EAA2C16840>\n",
      "<function <lambda> at 0x000001EAA2C16840> ['hyd', 'bengaluru', 'Mumbai', 'Chennai']\n",
      "<map object at 0x000001EAA4188BB0>\n",
      "['Hyd', 'Bengaluru', 'Mumbai', 'Chennai']\n"
     ]
    }
   ],
   "source": [
    "print(lambda i : i.capitalize())\n",
    "print(lambda i : i.capitalize(),Input)\n",
    "print(map(lambda i : i.capitalize(),Input))\n",
    "print(list(map(lambda i : i.capitalize(),Input)))"
   ]
  },
  {
   "cell_type": "code",
   "execution_count": 78,
   "id": "57d8d004-34ce-4327-8f59-6fce8b73afe3",
   "metadata": {},
   "outputs": [
    {
     "data": {
      "text/plain": [
       "['Mum#bai', 'Chen#nai']"
      ]
     },
     "execution_count": 78,
     "metadata": {},
     "output_type": "execute_result"
    }
   ],
   "source": [
    "Input=['hyd','bengaluru','Mum#bai','Chen#nai']\n",
    "[i for i in Input if '#' in i]"
   ]
  },
  {
   "cell_type": "code",
   "execution_count": null,
   "id": "452d3d44-87e8-4582-9ba8-1e757ab8a05d",
   "metadata": {},
   "outputs": [],
   "source": [
    "lambda i : '#' in i \n",
    "lambda i : i.capitalize(),Input\n",
    "map(lambda i : i.capitalize(),Input)\n",
    "list(map(lambda i : i.capitalize(),Input))"
   ]
  },
  {
   "cell_type": "code",
   "execution_count": null,
   "id": "117dffa5-af63-40c0-b926-2e136e71a4f7",
   "metadata": {},
   "outputs": [],
   "source": [
    "lambda <arg> : <condition with out if>\n",
    "lambda <arg> : <condition with out if>,<list>\n",
    "map(lambda <arg> : <condition with out if>,<list>)\n",
    "list(map(lambda <arg> : <condition with out if>,<list>))"
   ]
  },
  {
   "cell_type": "code",
   "execution_count": 80,
   "id": "c93aac7e-b529-485f-b594-c243e1a2efb8",
   "metadata": {},
   "outputs": [
    {
     "data": {
      "text/plain": [
       "(<function __main__.<lambda>(i)>, ['hyd', 'bengaluru', 'Mum#bai', 'Chen#nai'])"
      ]
     },
     "execution_count": 80,
     "metadata": {},
     "output_type": "execute_result"
    }
   ],
   "source": [
    "lambda i : '#' in i,Input"
   ]
  },
  {
   "cell_type": "code",
   "execution_count": 82,
   "id": "66d4af64-9055-4588-8238-736f827f5a77",
   "metadata": {},
   "outputs": [
    {
     "data": {
      "text/plain": [
       "<map at 0x1eaa2eaf9d0>"
      ]
     },
     "execution_count": 82,
     "metadata": {},
     "output_type": "execute_result"
    }
   ],
   "source": [
    "map(lambda i : '#' in i,Input)"
   ]
  },
  {
   "cell_type": "code",
   "execution_count": 84,
   "id": "21cf6392-2e87-41ee-b546-cc91783693c2",
   "metadata": {},
   "outputs": [
    {
     "data": {
      "text/plain": [
       "[False, False, True, True]"
      ]
     },
     "execution_count": 84,
     "metadata": {},
     "output_type": "execute_result"
    }
   ],
   "source": [
    "list(map(lambda i : '#' in i,Input))"
   ]
  },
  {
   "cell_type": "markdown",
   "id": "00e9607c-38f5-48af-948b-888d135330a6",
   "metadata": {},
   "source": [
    "# Filter:"
   ]
  },
  {
   "cell_type": "code",
   "execution_count": 87,
   "id": "6b7adc51-fbe1-4f19-a4d1-c5cc16e23c45",
   "metadata": {},
   "outputs": [
    {
     "data": {
      "text/plain": [
       "<filter at 0x1eaa2c11fc0>"
      ]
     },
     "execution_count": 87,
     "metadata": {},
     "output_type": "execute_result"
    }
   ],
   "source": [
    "lambda i : '#' in i\n",
    "lambda i : '#' in i, Input\n",
    "filter(lambda i : '#' in i,Input)"
   ]
  },
  {
   "cell_type": "code",
   "execution_count": 89,
   "id": "b858ac44-0a99-422a-826b-a267b28a4b5a",
   "metadata": {},
   "outputs": [
    {
     "data": {
      "text/plain": [
       "['Mum#bai', 'Chen#nai']"
      ]
     },
     "execution_count": 89,
     "metadata": {},
     "output_type": "execute_result"
    }
   ],
   "source": [
    "lambda i : '#' in i\n",
    "lambda i : '#' in i, Input\n",
    "filter(lambda i : '#' in i,Input)\n",
    "list(filter(lambda i : '#' in i,Input))"
   ]
  },
  {
   "cell_type": "markdown",
   "id": "6951f8d8-885d-442e-9538-fc163f80a106",
   "metadata": {},
   "source": [
    "# Reduce :"
   ]
  },
  {
   "cell_type": "code",
   "execution_count": 92,
   "id": "13eda338-31b8-49d8-a978-10dcb261f308",
   "metadata": {},
   "outputs": [
    {
     "data": {
      "text/plain": [
       "100"
      ]
     },
     "execution_count": 92,
     "metadata": {},
     "output_type": "execute_result"
    }
   ],
   "source": [
    "l1=[10,20,30,40]\n",
    "summ=0\n",
    "for i in l1:\n",
    "    summ+=i\n",
    "summ"
   ]
  },
  {
   "cell_type": "code",
   "execution_count": 96,
   "id": "f1e76c8b-051a-4824-ab5a-7df0ae79cd94",
   "metadata": {},
   "outputs": [
    {
     "data": {
      "text/plain": [
       "[10, 30, 60, 100]"
      ]
     },
     "execution_count": 96,
     "metadata": {},
     "output_type": "execute_result"
    }
   ],
   "source": [
    "l1=[10,20,30,40]\n",
    "summ=0\n",
    "[summ:=summ+i for i in l1]"
   ]
  },
  {
   "cell_type": "code",
   "execution_count": 98,
   "id": "0848d375-e7cf-4f01-9f1b-8995afab45a0",
   "metadata": {},
   "outputs": [
    {
     "data": {
      "text/plain": [
       "100"
      ]
     },
     "execution_count": 98,
     "metadata": {},
     "output_type": "execute_result"
    }
   ],
   "source": [
    "l1=[10,20,30,40]\n",
    "summ=0\n",
    "[summ:=summ+i for i in l1][-1]"
   ]
  },
  {
   "cell_type": "code",
   "execution_count": 100,
   "id": "891e8267-dace-4ef3-9426-ceee35c52073",
   "metadata": {},
   "outputs": [
    {
     "data": {
      "text/plain": [
       "<map at 0x1eaa2e74c40>"
      ]
     },
     "execution_count": 100,
     "metadata": {},
     "output_type": "execute_result"
    }
   ],
   "source": [
    "l1=[10,20,30,40]\n",
    "map(lambda summ,i:summ+i,l1)"
   ]
  },
  {
   "cell_type": "markdown",
   "id": "cd1d7e18-47fc-433e-a10a-afe2221cadb6",
   "metadata": {},
   "source": [
    "# Reduce :"
   ]
  },
  {
   "cell_type": "code",
   "execution_count": 102,
   "id": "1bed701a-ad14-4253-acdc-f70ddf0e8837",
   "metadata": {},
   "outputs": [
    {
     "ename": "TypeError",
     "evalue": "<lambda>() missing 1 required positional argument: 'i'",
     "output_type": "error",
     "traceback": [
      "\u001b[1;31m---------------------------------------------------------------------------\u001b[0m",
      "\u001b[1;31mTypeError\u001b[0m                                 Traceback (most recent call last)",
      "Cell \u001b[1;32mIn[102], line 2\u001b[0m\n\u001b[0;32m      1\u001b[0m l1\u001b[38;5;241m=\u001b[39m[\u001b[38;5;241m10\u001b[39m,\u001b[38;5;241m20\u001b[39m,\u001b[38;5;241m30\u001b[39m,\u001b[38;5;241m40\u001b[39m]\n\u001b[1;32m----> 2\u001b[0m \u001b[38;5;28mlist\u001b[39m(\u001b[38;5;28mfilter\u001b[39m(\u001b[38;5;28;01mlambda\u001b[39;00m summ,i:summ\u001b[38;5;241m+\u001b[39mi,l1))\n",
      "\u001b[1;31mTypeError\u001b[0m: <lambda>() missing 1 required positional argument: 'i'"
     ]
    }
   ],
   "source": [
    "l1=[10,20,30,40]\n",
    "list(filter(lambda summ,i:summ+i,l1))"
   ]
  },
  {
   "cell_type": "code",
   "execution_count": 111,
   "id": "b08d5d79-a479-459b-8d8c-c45c771045ac",
   "metadata": {},
   "outputs": [
    {
     "data": {
      "text/plain": [
       "100"
      ]
     },
     "execution_count": 111,
     "metadata": {},
     "output_type": "execute_result"
    }
   ],
   "source": [
    "from functools import reduce\n",
    "l1=[10,20,30,40]\n",
    "reduce(lambda summ,i:summ+i,l1)  # By default summ=0"
   ]
  },
  {
   "cell_type": "code",
   "execution_count": null,
   "id": "24f0d902-dc67-485a-8073-b1f85ab55701",
   "metadata": {},
   "outputs": [],
   "source": [
    "l1=[10,20,30,40]\n",
    "summ=0\n",
    "for i in l1:\n",
    "    summ+=i\n",
    "summ\n",
    "#########################################\n",
    "reduce(lambda summ,i:summ+i,l1)"
   ]
  },
  {
   "cell_type": "code",
   "execution_count": 113,
   "id": "e4346c61-1bda-46fc-894f-1752ccba42e3",
   "metadata": {},
   "outputs": [
    {
     "data": {
      "text/plain": [
       "200"
      ]
     },
     "execution_count": 113,
     "metadata": {},
     "output_type": "execute_result"
    }
   ],
   "source": [
    "l1=[10,20,30,40]\n",
    "summ=100\n",
    "for i in l1:\n",
    "    summ+=i\n",
    "summ"
   ]
  },
  {
   "cell_type": "code",
   "execution_count": 115,
   "id": "57756daa-bc04-4316-b7ce-692eb50484e0",
   "metadata": {},
   "outputs": [
    {
     "data": {
      "text/plain": [
       "100"
      ]
     },
     "execution_count": 115,
     "metadata": {},
     "output_type": "execute_result"
    }
   ],
   "source": [
    "reduce(lambda summ,i:summ+i,l1)"
   ]
  },
  {
   "cell_type": "code",
   "execution_count": 119,
   "id": "d6951eb8-5524-4c17-9415-81ff67bcef76",
   "metadata": {},
   "outputs": [
    {
     "data": {
      "text/plain": [
       "200"
      ]
     },
     "execution_count": 119,
     "metadata": {},
     "output_type": "execute_result"
    }
   ],
   "source": [
    "reduce(lambda summ,i:summ+i,l1,100) # By default summ=0"
   ]
  }
 ],
 "metadata": {
  "kernelspec": {
   "display_name": "Python [conda env:base] *",
   "language": "python",
   "name": "conda-base-py"
  },
  "language_info": {
   "codemirror_mode": {
    "name": "ipython",
    "version": 3
   },
   "file_extension": ".py",
   "mimetype": "text/x-python",
   "name": "python",
   "nbconvert_exporter": "python",
   "pygments_lexer": "ipython3",
   "version": "3.12.7"
  }
 },
 "nbformat": 4,
 "nbformat_minor": 5
}
