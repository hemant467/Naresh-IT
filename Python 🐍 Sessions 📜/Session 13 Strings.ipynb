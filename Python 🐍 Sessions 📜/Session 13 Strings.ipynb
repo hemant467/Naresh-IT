{
 "cells": [
  {
   "cell_type": "markdown",
   "id": "746dd6d8-36fe-44a5-bdd2-e6d8d05aa904",
   "metadata": {},
   "source": [
    "# <h1><center>STRINGS</center></h1>"
   ]
  },
  {
   "cell_type": "markdown",
   "id": "04d2d141-68aa-4856-8337-7a277489dfb5",
   "metadata": {},
   "source": [
    "- Initialization of Strings\n",
    "\n",
    "- Will apply some in-built functions\n",
    "\n",
    "    - type\n",
    " \n",
    "    - len\n",
    " \n",
    "    - min\n",
    " \n",
    "    - max\n",
    " \n",
    "    - sum\n",
    " \n",
    "    - sorted\n",
    " \n",
    "    - reversed\n",
    " \n",
    "- concat\n",
    "\n",
    "- index\n",
    "\n",
    "- mutable or immutable\n",
    "\n",
    "- slice\n",
    "\n",
    "- Methods"
   ]
  },
  {
   "cell_type": "markdown",
   "id": "ee5ce3b1-4ec3-4c43-8a85-86c5bd856d5b",
   "metadata": {},
   "source": [
    "# Initialization of Strings :"
   ]
  },
  {
   "cell_type": "code",
   "execution_count": 8,
   "id": "43cf1ad1-89c7-4c14-b2e1-138da8c1503c",
   "metadata": {},
   "outputs": [],
   "source": [
    "str1='Python'\n",
    "str2=\"python\"\n",
    "str3='I like \"python\"'\n",
    "str4=\"I like 'python'\""
   ]
  },
  {
   "cell_type": "code",
   "execution_count": 10,
   "id": "2f6131f8-4192-4eba-9b98-d257585ae0e3",
   "metadata": {},
   "outputs": [
    {
     "data": {
      "text/plain": [
       "'Python'"
      ]
     },
     "execution_count": 10,
     "metadata": {},
     "output_type": "execute_result"
    }
   ],
   "source": [
    "str1"
   ]
  },
  {
   "cell_type": "code",
   "execution_count": 12,
   "id": "60fa6942-e738-468b-8a80-a9715838bacf",
   "metadata": {},
   "outputs": [
    {
     "data": {
      "text/plain": [
       "'python'"
      ]
     },
     "execution_count": 12,
     "metadata": {},
     "output_type": "execute_result"
    }
   ],
   "source": [
    "str2"
   ]
  },
  {
   "cell_type": "code",
   "execution_count": 14,
   "id": "7dc5aaa7-5714-4839-ada7-4417c7668255",
   "metadata": {},
   "outputs": [
    {
     "data": {
      "text/plain": [
       "'I like \"python\"'"
      ]
     },
     "execution_count": 14,
     "metadata": {},
     "output_type": "execute_result"
    }
   ],
   "source": [
    "str3"
   ]
  },
  {
   "cell_type": "code",
   "execution_count": 16,
   "id": "786c6cc6-0c33-4884-ad72-f26eebba814e",
   "metadata": {},
   "outputs": [
    {
     "data": {
      "text/plain": [
       "\"I like 'python'\""
      ]
     },
     "execution_count": 16,
     "metadata": {},
     "output_type": "execute_result"
    }
   ],
   "source": [
    "str4"
   ]
  },
  {
   "cell_type": "code",
   "execution_count": 20,
   "id": "b7dd55b5-d7d5-48b7-86b2-1820de012d94",
   "metadata": {},
   "outputs": [
    {
     "name": "stdout",
     "output_type": "stream",
     "text": [
      "Python\n",
      "python\n",
      "I like \"python\"\n",
      "I like 'python'\n"
     ]
    }
   ],
   "source": [
    "print(str1)\n",
    "print(str2)\n",
    "print(str3)\n",
    "print(str4)"
   ]
  },
  {
   "cell_type": "markdown",
   "id": "164a3a23-7b6b-479b-a6b8-7d4489cbdf76",
   "metadata": {},
   "source": [
    "# Inbuilt functions :\n",
    "- print( )\n",
    "\n",
    "- eval( )\n",
    "\n",
    "- input( )\n",
    "\n",
    "- type( )\n",
    "\n",
    "- int( )\n",
    "\n",
    "- float( )"
   ]
  },
  {
   "cell_type": "code",
   "execution_count": 24,
   "id": "a06d83c1-89bd-4e75-a319-9e46e3782953",
   "metadata": {},
   "outputs": [
    {
     "data": {
      "text/plain": [
       "str"
      ]
     },
     "execution_count": 24,
     "metadata": {},
     "output_type": "execute_result"
    }
   ],
   "source": [
    "str1='python'\n",
    "type(str1)"
   ]
  },
  {
   "cell_type": "code",
   "execution_count": 26,
   "id": "00ed3a79-3188-41f4-8821-593c77f85b9e",
   "metadata": {},
   "outputs": [
    {
     "data": {
      "text/plain": [
       "6"
      ]
     },
     "execution_count": 26,
     "metadata": {},
     "output_type": "execute_result"
    }
   ],
   "source": [
    "str1='python'\n",
    "len(str1)"
   ]
  },
  {
   "cell_type": "code",
   "execution_count": 28,
   "id": "dd8e1bb6-d50f-4012-bce1-811e646883b9",
   "metadata": {},
   "outputs": [
    {
     "data": {
      "text/plain": [
       "'y'"
      ]
     },
     "execution_count": 28,
     "metadata": {},
     "output_type": "execute_result"
    }
   ],
   "source": [
    "str1='python'\n",
    "max(str1)"
   ]
  },
  {
   "cell_type": "code",
   "execution_count": 30,
   "id": "53e12beb-ef5e-4e87-97c6-5c170a226a97",
   "metadata": {},
   "outputs": [
    {
     "data": {
      "text/plain": [
       "'h'"
      ]
     },
     "execution_count": 30,
     "metadata": {},
     "output_type": "execute_result"
    }
   ],
   "source": [
    "str1='python'\n",
    "min(str1)"
   ]
  },
  {
   "cell_type": "code",
   "execution_count": 36,
   "id": "aa9d438f-1c44-4162-a64b-e211858ddfcb",
   "metadata": {},
   "outputs": [
    {
     "data": {
      "text/plain": [
       "['h', 'n', 'o', 'p', 't', 'y']"
      ]
     },
     "execution_count": 36,
     "metadata": {},
     "output_type": "execute_result"
    }
   ],
   "source": [
    "sorted(str1)"
   ]
  },
  {
   "cell_type": "code",
   "execution_count": 38,
   "id": "2b328883-761f-4e62-9712-b2a3af7cfb92",
   "metadata": {},
   "outputs": [
    {
     "data": {
      "text/plain": [
       "<reversed at 0x1e5a4ca0850>"
      ]
     },
     "execution_count": 38,
     "metadata": {},
     "output_type": "execute_result"
    }
   ],
   "source": [
    "reversed(str1)"
   ]
  },
  {
   "cell_type": "code",
   "execution_count": 42,
   "id": "f14e654f-392a-4c82-929f-e783e18d6a0c",
   "metadata": {},
   "outputs": [
    {
     "name": "stdout",
     "output_type": "stream",
     "text": [
      "p 112\n",
      "y 121\n",
      "t 116\n",
      "h 104\n",
      "o 111\n",
      "n 110\n"
     ]
    }
   ],
   "source": [
    "for i in 'python':\n",
    "    print(i,ord(i))"
   ]
  },
  {
   "cell_type": "markdown",
   "id": "75573f72-433b-4405-82dc-8e3d60fc5ff1",
   "metadata": {},
   "source": [
    "# Iterable :\n",
    "\n",
    "- Anything can be able to print using loop\n",
    "\n",
    "- string\n",
    "\n",
    "- list\n",
    "\n",
    "- tuple\n",
    "\n",
    "- dictionary"
   ]
  },
  {
   "cell_type": "code",
   "execution_count": 47,
   "id": "5e43f0b7-9fcd-487a-8b3c-99c87d7b9c68",
   "metadata": {},
   "outputs": [
    {
     "ename": "TypeError",
     "evalue": "sorted expected 1 argument, got 0",
     "output_type": "error",
     "traceback": [
      "\u001b[1;31m---------------------------------------------------------------------------\u001b[0m",
      "\u001b[1;31mTypeError\u001b[0m                                 Traceback (most recent call last)",
      "Cell \u001b[1;32mIn[47], line 1\u001b[0m\n\u001b[1;32m----> 1\u001b[0m \u001b[38;5;28msorted\u001b[39m(iterable\u001b[38;5;241m=\u001b[39m\u001b[38;5;124m'\u001b[39m\u001b[38;5;124mpython\u001b[39m\u001b[38;5;124m'\u001b[39m)\n",
      "\u001b[1;31mTypeError\u001b[0m: sorted expected 1 argument, got 0"
     ]
    }
   ],
   "source": [
    "sorted(iterable='python')    # NOT works"
   ]
  },
  {
   "cell_type": "code",
   "execution_count": 49,
   "id": "d1db7d39-6550-4a84-8af2-a916b362252d",
   "metadata": {},
   "outputs": [
    {
     "data": {
      "text/plain": [
       "['h', 'n', 'o', 'p', 't', 'y']"
      ]
     },
     "execution_count": 49,
     "metadata": {},
     "output_type": "execute_result"
    }
   ],
   "source": [
    "sorted('python')"
   ]
  },
  {
   "cell_type": "code",
   "execution_count": 51,
   "id": "ee10a605-7ead-437f-9960-3ea878a49376",
   "metadata": {},
   "outputs": [
    {
     "data": {
      "text/plain": [
       "['y', 't', 'p', 'o', 'n', 'h']"
      ]
     },
     "execution_count": 51,
     "metadata": {},
     "output_type": "execute_result"
    }
   ],
   "source": [
    "sorted('python',reverse=True)"
   ]
  },
  {
   "cell_type": "code",
   "execution_count": 54,
   "id": "148d99de-1e01-4261-8c06-53e70c27f524",
   "metadata": {},
   "outputs": [
    {
     "data": {
      "text/plain": [
       "<reversed at 0x1e5a623ba00>"
      ]
     },
     "execution_count": 54,
     "metadata": {},
     "output_type": "execute_result"
    }
   ],
   "source": [
    "reversed('python')"
   ]
  },
  {
   "cell_type": "markdown",
   "id": "b75f7276-b8b6-49b9-afcc-2a643f3c518d",
   "metadata": {},
   "source": [
    "- The answer stored at memory location\n",
    "\n",
    "- We can retrive the answer using **for** loop or apply a **list typecast**"
   ]
  },
  {
   "cell_type": "code",
   "execution_count": 57,
   "id": "fc3ba9dc-aaac-44f9-87ab-67c6fc7eabf2",
   "metadata": {},
   "outputs": [
    {
     "data": {
      "text/plain": [
       "['n', 'o', 'h', 't', 'y', 'p']"
      ]
     },
     "execution_count": 57,
     "metadata": {},
     "output_type": "execute_result"
    }
   ],
   "source": [
    "a=reversed('python')\n",
    "list(a)"
   ]
  },
  {
   "cell_type": "code",
   "execution_count": 65,
   "id": "b5717749-e8d0-422b-a071-e2d01d56fd5c",
   "metadata": {},
   "outputs": [
    {
     "name": "stdout",
     "output_type": "stream",
     "text": [
      "n\n",
      "o\n",
      "h\n",
      "t\n",
      "y\n",
      "p\n"
     ]
    }
   ],
   "source": [
    "a=reversed('python')\n",
    "for i in a:\n",
    "    print(i)"
   ]
  },
  {
   "cell_type": "code",
   "execution_count": 73,
   "id": "a964e1ec-4653-49b3-85ac-76c934460b0a",
   "metadata": {},
   "outputs": [
    {
     "name": "stdout",
     "output_type": "stream",
     "text": [
      "n o h t y p "
     ]
    }
   ],
   "source": [
    "a=reversed('python')\n",
    "for i in a:\n",
    "    print(i,end=' ')"
   ]
  },
  {
   "cell_type": "code",
   "execution_count": 75,
   "id": "421bdf0f-6898-4a2b-a776-68804dac30d2",
   "metadata": {},
   "outputs": [
    {
     "data": {
      "text/plain": [
       "'y'"
      ]
     },
     "execution_count": 75,
     "metadata": {},
     "output_type": "execute_result"
    }
   ],
   "source": [
    "max('python123')"
   ]
  },
  {
   "cell_type": "code",
   "execution_count": 77,
   "id": "872fe85b-2d92-4c1d-8d76-7356a745253a",
   "metadata": {},
   "outputs": [
    {
     "data": {
      "text/plain": [
       "49"
      ]
     },
     "execution_count": 77,
     "metadata": {},
     "output_type": "execute_result"
    }
   ],
   "source": [
    "ord('1')"
   ]
  },
  {
   "cell_type": "code",
   "execution_count": 79,
   "id": "c41ea84f-a204-45c2-9f1f-dd7a4bb77196",
   "metadata": {},
   "outputs": [
    {
     "data": {
      "text/plain": [
       "121"
      ]
     },
     "execution_count": 79,
     "metadata": {},
     "output_type": "execute_result"
    }
   ],
   "source": [
    "ord('y')"
   ]
  },
  {
   "cell_type": "code",
   "execution_count": 81,
   "id": "55c2cab8-d157-474b-84a9-01e1fd0f992d",
   "metadata": {},
   "outputs": [
    {
     "data": {
      "text/plain": [
       "['1', '2', '3', 'h', 'n', 'o', 'p', 't', 'y']"
      ]
     },
     "execution_count": 81,
     "metadata": {},
     "output_type": "execute_result"
    }
   ],
   "source": [
    "sorted('python123')"
   ]
  },
  {
   "cell_type": "markdown",
   "id": "cede74c0-b25a-41e4-907d-8e266ad4b2c9",
   "metadata": {},
   "source": [
    "# CONCATINATION :"
   ]
  },
  {
   "cell_type": "code",
   "execution_count": 84,
   "id": "f895828d-0fbd-4535-baa2-4378a18486d6",
   "metadata": {},
   "outputs": [
    {
     "data": {
      "text/plain": [
       "'hellohello'"
      ]
     },
     "execution_count": 84,
     "metadata": {},
     "output_type": "execute_result"
    }
   ],
   "source": [
    "'hello'+'hello'"
   ]
  },
  {
   "cell_type": "code",
   "execution_count": 86,
   "id": "052be80c-e9a6-409e-8540-63ba6539bb60",
   "metadata": {},
   "outputs": [
    {
     "ename": "TypeError",
     "evalue": "can't multiply sequence by non-int of type 'str'",
     "output_type": "error",
     "traceback": [
      "\u001b[1;31m---------------------------------------------------------------------------\u001b[0m",
      "\u001b[1;31mTypeError\u001b[0m                                 Traceback (most recent call last)",
      "Cell \u001b[1;32mIn[86], line 1\u001b[0m\n\u001b[1;32m----> 1\u001b[0m \u001b[38;5;124m'\u001b[39m\u001b[38;5;124mhello\u001b[39m\u001b[38;5;124m'\u001b[39m\u001b[38;5;241m*\u001b[39m\u001b[38;5;124m'\u001b[39m\u001b[38;5;124mhello\u001b[39m\u001b[38;5;124m'\u001b[39m\n",
      "\u001b[1;31mTypeError\u001b[0m: can't multiply sequence by non-int of type 'str'"
     ]
    }
   ],
   "source": [
    "'hello'*'hello'"
   ]
  },
  {
   "cell_type": "code",
   "execution_count": 88,
   "id": "9211c19b-731a-46ec-b8a6-3933f6a93ece",
   "metadata": {},
   "outputs": [
    {
     "ename": "TypeError",
     "evalue": "unsupported operand type(s) for -: 'str' and 'str'",
     "output_type": "error",
     "traceback": [
      "\u001b[1;31m---------------------------------------------------------------------------\u001b[0m",
      "\u001b[1;31mTypeError\u001b[0m                                 Traceback (most recent call last)",
      "Cell \u001b[1;32mIn[88], line 1\u001b[0m\n\u001b[1;32m----> 1\u001b[0m \u001b[38;5;124m'\u001b[39m\u001b[38;5;124mhello\u001b[39m\u001b[38;5;124m'\u001b[39m\u001b[38;5;241m-\u001b[39m\u001b[38;5;124m'\u001b[39m\u001b[38;5;124mhello\u001b[39m\u001b[38;5;124m'\u001b[39m\n",
      "\u001b[1;31mTypeError\u001b[0m: unsupported operand type(s) for -: 'str' and 'str'"
     ]
    }
   ],
   "source": [
    "'hello'-'hello'"
   ]
  },
  {
   "cell_type": "code",
   "execution_count": 90,
   "id": "d4c6b8bd-0c83-4532-b611-11ea399aca38",
   "metadata": {},
   "outputs": [
    {
     "ename": "TypeError",
     "evalue": "unsupported operand type(s) for /: 'str' and 'str'",
     "output_type": "error",
     "traceback": [
      "\u001b[1;31m---------------------------------------------------------------------------\u001b[0m",
      "\u001b[1;31mTypeError\u001b[0m                                 Traceback (most recent call last)",
      "Cell \u001b[1;32mIn[90], line 1\u001b[0m\n\u001b[1;32m----> 1\u001b[0m \u001b[38;5;124m'\u001b[39m\u001b[38;5;124mhello\u001b[39m\u001b[38;5;124m'\u001b[39m\u001b[38;5;241m/\u001b[39m\u001b[38;5;124m'\u001b[39m\u001b[38;5;124mhello\u001b[39m\u001b[38;5;124m'\u001b[39m\n",
      "\u001b[1;31mTypeError\u001b[0m: unsupported operand type(s) for /: 'str' and 'str'"
     ]
    }
   ],
   "source": [
    "'hello'/'hello'"
   ]
  },
  {
   "cell_type": "code",
   "execution_count": 94,
   "id": "b629d955-883f-4d5a-a51f-000465cebfc7",
   "metadata": {},
   "outputs": [
    {
     "data": {
      "text/plain": [
       "'hello hello hello '"
      ]
     },
     "execution_count": 94,
     "metadata": {},
     "output_type": "execute_result"
    }
   ],
   "source": [
    "'hello '*3"
   ]
  },
  {
   "cell_type": "markdown",
   "id": "2fc7172a-60f0-407b-903f-46b5760823c0",
   "metadata": {},
   "source": [
    "# INDEX :"
   ]
  },
  {
   "cell_type": "markdown",
   "id": "5ec37976-e7df-4542-b61e-5e5eb8da2cb2",
   "metadata": {},
   "source": [
    "# -6 -5 -4 -3 -2 -1\n",
    "\n",
    "#  p  y  t  h  o  n\n",
    " \n",
    "#  0  1  2  3  4  5\n",
    "\n",
    "- Function indicates ()\n",
    "\n",
    "- Access the elements []\n",
    "\n",
    "- index is used to access the elements"
   ]
  },
  {
   "cell_type": "code",
   "execution_count": 99,
   "id": "f93bff26-e0fe-4007-b7a7-b6bad15fe139",
   "metadata": {},
   "outputs": [
    {
     "data": {
      "text/plain": [
       "('p', 'y', 't', 'h', 'o', 'n')"
      ]
     },
     "execution_count": 99,
     "metadata": {},
     "output_type": "execute_result"
    }
   ],
   "source": [
    "str1='python'\n",
    "str1[0],str1[1],str1[2],str1[3],str1[4],str1[5]"
   ]
  },
  {
   "cell_type": "code",
   "execution_count": 101,
   "id": "b96bb169-5e9d-48ef-bc3c-3ff567f66fc8",
   "metadata": {},
   "outputs": [
    {
     "name": "stdout",
     "output_type": "stream",
     "text": [
      "p\n",
      "y\n",
      "t\n",
      "h\n",
      "o\n",
      "n\n"
     ]
    }
   ],
   "source": [
    "print(str1[0])\n",
    "print(str1[1])\n",
    "print(str1[2])\n",
    "print(str1[3])\n",
    "print(str1[4])\n",
    "print(str1[5])"
   ]
  },
  {
   "cell_type": "markdown",
   "id": "8939f71a-cbae-4503-b9af-2180ce317315",
   "metadata": {},
   "source": [
    "# CASE 1 : 'i' behave as index through index we can access the element"
   ]
  },
  {
   "cell_type": "code",
   "execution_count": 103,
   "id": "d5359dcd-6eb7-452a-9912-45400a452f36",
   "metadata": {},
   "outputs": [
    {
     "name": "stdout",
     "output_type": "stream",
     "text": [
      "p\n",
      "y\n",
      "t\n",
      "h\n",
      "o\n",
      "n\n"
     ]
    }
   ],
   "source": [
    "str1='python'\n",
    "for i in range(6):\n",
    "    print(str1[i])"
   ]
  },
  {
   "cell_type": "markdown",
   "id": "36674f8c-ddb1-40df-a82e-2617fb2b2d33",
   "metadata": {},
   "source": [
    "# CASE 2 : 'i' behave as character direct access"
   ]
  },
  {
   "cell_type": "code",
   "execution_count": 105,
   "id": "2340d94f-78c1-4acc-9649-c22eb5a76b11",
   "metadata": {},
   "outputs": [
    {
     "name": "stdout",
     "output_type": "stream",
     "text": [
      "p\n",
      "y\n",
      "t\n",
      "h\n",
      "o\n",
      "n\n"
     ]
    }
   ],
   "source": [
    "str1='python'\n",
    "for i in str1:\n",
    "    print(i)"
   ]
  },
  {
   "cell_type": "code",
   "execution_count": 112,
   "id": "b482461b-e0e2-491c-b056-388d0a5d9747",
   "metadata": {},
   "outputs": [
    {
     "name": "stdout",
     "output_type": "stream",
     "text": [
      "0 p\n",
      "1 y\n",
      "2 t\n",
      "3 h\n",
      "4 o\n",
      "5 n\n"
     ]
    }
   ],
   "source": [
    "str1='python'\n",
    "for i in range(6):\n",
    "    print(i,str1[i])"
   ]
  },
  {
   "cell_type": "code",
   "execution_count": 114,
   "id": "57c33b7b-8789-412d-9f36-e775d822766c",
   "metadata": {},
   "outputs": [
    {
     "name": "stdout",
     "output_type": "stream",
     "text": [
      "0 p\n",
      "1 y\n",
      "2 t\n",
      "3 h\n",
      "4 o\n",
      "5 n\n"
     ]
    }
   ],
   "source": [
    "str1='python'\n",
    "n=len(str1)\n",
    "for i in range(n):\n",
    "    print(i,str1[i])"
   ]
  },
  {
   "cell_type": "code",
   "execution_count": 116,
   "id": "ac400a04-34d1-4d1e-9fff-52949b110b2b",
   "metadata": {},
   "outputs": [
    {
     "data": {
      "text/plain": [
       "('p', 'y')"
      ]
     },
     "execution_count": 116,
     "metadata": {},
     "output_type": "execute_result"
    }
   ],
   "source": [
    "str1[-6],str1[-5]"
   ]
  },
  {
   "cell_type": "code",
   "execution_count": 120,
   "id": "1d9ddc0f-2da5-4323-a733-250fa3338303",
   "metadata": {},
   "outputs": [
    {
     "name": "stdout",
     "output_type": "stream",
     "text": [
      "-6 p\n",
      "-5 y\n",
      "-4 t\n",
      "-3 h\n",
      "-2 o\n",
      "-1 n\n"
     ]
    }
   ],
   "source": [
    "str1='python'\n",
    "for i in range(-6,0):\n",
    "    print(i,str1[i])"
   ]
  },
  {
   "cell_type": "markdown",
   "id": "f89fe70f-6256-4fb1-b3fa-b716eef7db90",
   "metadata": {},
   "source": [
    "# WAP ask the user to find the number of 'a' present in a given string\n",
    "    string = 'ola ola ola'\n",
    "\n",
    "# WAP ask the user to get the index of 'a' add the sum of indexes\n",
    "    string = 'ola ola ola'   2+6+11=\n",
    "\n",
    "# WAP ask the user to find the vowels in a given string\n",
    "    string = 'ola ola ola' output: 'aaaaaa'\n",
    "\n",
    "# WAP ask the user to find the vowels, that vowels should not be repeated\n",
    "    string = 'ola ola ola' output: 'oa'"
   ]
  },
  {
   "cell_type": "code",
   "execution_count": 6,
   "id": "273ecbe4-09af-45bf-8dff-157d061069c0",
   "metadata": {},
   "outputs": [
    {
     "name": "stdout",
     "output_type": "stream",
     "text": [
      "a\n",
      "a\n",
      "a\n",
      "3\n"
     ]
    }
   ],
   "source": [
    "str1='ola ola ola'\n",
    "count=0\n",
    "for i in str1:\n",
    "    if i=='a':\n",
    "        print(i)\n",
    "        count=count+1\n",
    "print(count)"
   ]
  },
  {
   "cell_type": "code",
   "execution_count": 14,
   "id": "e27e60b7-3308-4827-9468-b1a576301e9a",
   "metadata": {},
   "outputs": [
    {
     "name": "stdout",
     "output_type": "stream",
     "text": [
      "2\n",
      "6\n",
      "10\n",
      "3\n"
     ]
    }
   ],
   "source": [
    "string='ola ola ola'\n",
    "count=0\n",
    "for i in range(len(string)):\n",
    "    if string[i]=='a':\n",
    "        print(i)\n",
    "        count=count+1\n",
    "    \n",
    "print(count)"
   ]
  },
  {
   "cell_type": "code",
   "execution_count": 16,
   "id": "2b105137-34a7-4363-a5dd-805c4b83e40b",
   "metadata": {},
   "outputs": [
    {
     "name": "stdout",
     "output_type": "stream",
     "text": [
      "o\n",
      "a\n",
      "o\n",
      "a\n",
      "o\n",
      "a\n",
      "6\n"
     ]
    }
   ],
   "source": [
    "str1='ola ola ola'\n",
    "count=0\n",
    "for i in str1:\n",
    "    if i in 'aeiou':\n",
    "        print(i)\n",
    "        count=count+1\n",
    "print(count)"
   ]
  },
  {
   "cell_type": "code",
   "execution_count": 26,
   "id": "9b8480d8-16f7-46e3-a2a0-ce2beaf358a1",
   "metadata": {},
   "outputs": [
    {
     "name": "stdout",
     "output_type": "stream",
     "text": [
      "o\n",
      "o\n",
      "a\n",
      "a\n"
     ]
    },
    {
     "data": {
      "text/plain": [
       "\"\\nSTEP - 1 : i='o' if 'o' in 'aeiou' and 'o' not in ' ' s=''+'o'='o'\\n\\nSTEP - 2 : i='l' if 'l' in 'aeiou'\\n\\nSTEP - 3 : i='a' if 'a' in 'aeiou' and 'a' not in 'o' s='o'+'a'='oa'\\n\""
      ]
     },
     "execution_count": 26,
     "metadata": {},
     "output_type": "execute_result"
    }
   ],
   "source": [
    "# Vowel condition\n",
    "# Empty string condition\n",
    "\n",
    "str1='ola ola ola'\n",
    "s='' # Empty string\n",
    "for i in str1:\n",
    "    if i in 'aeiou' and i not in s:\n",
    "        print(i)\n",
    "        s=s+i\n",
    "        print(i)\n",
    "\n",
    "'''\n",
    "STEP - 1 : i='o' if 'o' in 'aeiou' and 'o' not in ' ' s=''+'o'='o'\n",
    "\n",
    "STEP - 2 : i='l' if 'l' in 'aeiou'\n",
    "\n",
    "STEP - 3 : i='a' if 'a' in 'aeiou' and 'a' not in 'o' s='o'+'a'='oa'\n",
    "'''"
   ]
  },
  {
   "cell_type": "markdown",
   "id": "a4293cd9-ff41-441f-8d2e-fb82f188e1de",
   "metadata": {},
   "source": [
    "# Mutable Immutable:\n",
    "\n",
    "- Mutable change the letter using **index operation**\n",
    "\n",
    "- Immutable means change the letter using index operation"
   ]
  },
  {
   "cell_type": "code",
   "execution_count": 32,
   "id": "080f5aa0-cde7-45c7-bae1-fe863da66f59",
   "metadata": {},
   "outputs": [
    {
     "ename": "TypeError",
     "evalue": "'str' object does not support item assignment",
     "output_type": "error",
     "traceback": [
      "\u001b[1;31m---------------------------------------------------------------------------\u001b[0m",
      "\u001b[1;31mTypeError\u001b[0m                                 Traceback (most recent call last)",
      "Cell \u001b[1;32mIn[32], line 2\u001b[0m\n\u001b[0;32m      1\u001b[0m str1\u001b[38;5;241m=\u001b[39m\u001b[38;5;124m'\u001b[39m\u001b[38;5;124mwelcome\u001b[39m\u001b[38;5;124m'\u001b[39m\n\u001b[1;32m----> 2\u001b[0m str1[\u001b[38;5;241m2\u001b[39m]\u001b[38;5;241m=\u001b[39m\u001b[38;5;124m'\u001b[39m\u001b[38;5;124ml\u001b[39m\u001b[38;5;124m'\u001b[39m\n",
      "\u001b[1;31mTypeError\u001b[0m: 'str' object does not support item assignment"
     ]
    }
   ],
   "source": [
    "str1='welcome'\n",
    "str1[2]='l'"
   ]
  },
  {
   "cell_type": "markdown",
   "id": "14498942-6784-40ee-ab53-b07894c2fecb",
   "metadata": {},
   "source": [
    "# Strings are Immutable"
   ]
  },
  {
   "cell_type": "code",
   "execution_count": 37,
   "id": "bcbe6288-83ea-4e05-8c9c-634d17dcf2fc",
   "metadata": {},
   "outputs": [
    {
     "data": {
      "text/plain": [
       "['w', 'e', 'L', 'c', 'o', 'm', 'e']"
      ]
     },
     "execution_count": 37,
     "metadata": {},
     "output_type": "execute_result"
    }
   ],
   "source": [
    "l=['w','e','l','c','o','m','e']\n",
    "l[2]='L'\n",
    "l"
   ]
  },
  {
   "cell_type": "code",
   "execution_count": 43,
   "id": "6648f268-8768-4563-8b51-d79249ea6026",
   "metadata": {},
   "outputs": [
    {
     "data": {
      "text/plain": [
       "['w', 'E', 'l', 'c', 'o', 'm', 'E']"
      ]
     },
     "execution_count": 43,
     "metadata": {},
     "output_type": "execute_result"
    }
   ],
   "source": [
    "l=['w','e','l','c','o','m','e']\n",
    "l[1]=l[6]='E'\n",
    "l"
   ]
  },
  {
   "cell_type": "markdown",
   "id": "b982da02-b464-4290-8bcd-f51089c112ea",
   "metadata": {},
   "source": [
    "# SLICE :\n",
    "- Slice means cut into pieces\n",
    "\n",
    "- If we want to extract the specific part of the string then use **slicing**\n",
    "\n",
    "- It is similar to range(start,stop,step)\n",
    "\n",
    "- string[start:stop:step]"
   ]
  },
  {
   "cell_type": "code",
   "execution_count": null,
   "id": "05cf3a07-be4f-46ae-b365-18b697babd0e",
   "metadata": {},
   "outputs": [],
   "source": [
    "-15 -14 -13 -12 -11 -10 -9 -8 -7 -6 -5 -4 -3 -2 -1\n",
    " h   a   i        h  o   w     a  r  e     y  o  u\n",
    " 0   1   2   3    4  5   6  7  8  9  10 11 12 13 14"
   ]
  },
  {
   "cell_type": "code",
   "execution_count": 48,
   "id": "7e82591e-cc1b-4013-ae7e-f245c81b38ec",
   "metadata": {},
   "outputs": [
    {
     "data": {
      "text/plain": [
       "' how are'"
      ]
     },
     "execution_count": 48,
     "metadata": {},
     "output_type": "execute_result"
    }
   ],
   "source": [
    "str1='hai how are you'\n",
    "str1[3:11]"
   ]
  },
  {
   "cell_type": "code",
   "execution_count": 50,
   "id": "3b1b20a6-a511-4239-b7ed-e163646920fe",
   "metadata": {},
   "outputs": [
    {
     "data": {
      "text/plain": [
       "' o r '"
      ]
     },
     "execution_count": 50,
     "metadata": {},
     "output_type": "execute_result"
    }
   ],
   "source": [
    "str1='hai how are you'\n",
    "str1[3:13:2]"
   ]
  },
  {
   "cell_type": "code",
   "execution_count": 52,
   "id": "c0abc8b1-4140-4de2-85f5-94b7a02e6ca2",
   "metadata": {},
   "outputs": [
    {
     "data": {
      "text/plain": [
       "''"
      ]
     },
     "execution_count": 52,
     "metadata": {},
     "output_type": "execute_result"
    }
   ],
   "source": [
    "str1[3:13:-2]"
   ]
  },
  {
   "cell_type": "code",
   "execution_count": 54,
   "id": "e245da3e-435f-4cb1-a169-ffcd5c062bd8",
   "metadata": {},
   "outputs": [
    {
     "data": {
      "text/plain": [
       "' how are'"
      ]
     },
     "execution_count": 54,
     "metadata": {},
     "output_type": "execute_result"
    }
   ],
   "source": [
    "str1[3:-4]"
   ]
  },
  {
   "cell_type": "code",
   "execution_count": 66,
   "id": "8837b9fb-6d78-45a5-9ee8-bb6743daa138",
   "metadata": {},
   "outputs": [
    {
     "data": {
      "text/plain": [
       "'o r o '"
      ]
     },
     "execution_count": 66,
     "metadata": {},
     "output_type": "execute_result"
    }
   ],
   "source": [
    "str1[13:-13:-2] # START : STOP : STEP"
   ]
  },
  {
   "cell_type": "code",
   "execution_count": 60,
   "id": "b2a5741d-bfc8-40bc-aa1d-8a1ccdcb306b",
   "metadata": {},
   "outputs": [
    {
     "data": {
      "text/plain": [
       "'i how are you'"
      ]
     },
     "execution_count": 60,
     "metadata": {},
     "output_type": "execute_result"
    }
   ],
   "source": [
    "str1[2:30]"
   ]
  },
  {
   "cell_type": "code",
   "execution_count": 62,
   "id": "bf61896b-04dc-413e-bd01-83642bc8308c",
   "metadata": {},
   "outputs": [
    {
     "data": {
      "text/plain": [
       "'i how are yo'"
      ]
     },
     "execution_count": 62,
     "metadata": {},
     "output_type": "execute_result"
    }
   ],
   "source": [
    "str1[2:14]"
   ]
  },
  {
   "cell_type": "code",
   "execution_count": 64,
   "id": "58d64860-e38d-425c-b4a8-f6d3a2ea9161",
   "metadata": {},
   "outputs": [
    {
     "data": {
      "text/plain": [
       "'i how are you'"
      ]
     },
     "execution_count": 64,
     "metadata": {},
     "output_type": "execute_result"
    }
   ],
   "source": [
    "str1[2:15]"
   ]
  },
  {
   "cell_type": "code",
   "execution_count": null,
   "id": "b2b94925-379f-45d8-9faf-7c6938142a48",
   "metadata": {},
   "outputs": [],
   "source": [
    "for i in range(3,13,-2):\n",
    "    "
   ]
  },
  {
   "cell_type": "code",
   "execution_count": 68,
   "id": "07cd3698-e3ab-482a-84fa-295cda6840af",
   "metadata": {},
   "outputs": [
    {
     "data": {
      "text/plain": [
       "'uyeawh'"
      ]
     },
     "execution_count": 68,
     "metadata": {},
     "output_type": "execute_result"
    }
   ],
   "source": [
    "str1[14:-12:-2]"
   ]
  },
  {
   "cell_type": "code",
   "execution_count": 76,
   "id": "8f5e8d1f-5e3d-4170-889e-ecd86cd56003",
   "metadata": {},
   "outputs": [
    {
     "data": {
      "text/plain": [
       "'i how are you'"
      ]
     },
     "execution_count": 76,
     "metadata": {},
     "output_type": "execute_result"
    }
   ],
   "source": [
    "str1[2:30]"
   ]
  },
  {
   "cell_type": "code",
   "execution_count": 78,
   "id": "fcc68169-4c15-4922-8d1b-c64a0fc58d3f",
   "metadata": {},
   "outputs": [
    {
     "data": {
      "text/plain": [
       "'hai how ar'"
      ]
     },
     "execution_count": 78,
     "metadata": {},
     "output_type": "execute_result"
    }
   ],
   "source": [
    "str1[:10]"
   ]
  },
  {
   "cell_type": "code",
   "execution_count": 80,
   "id": "dc75892a-0edd-479b-9f54-e3e5772a8be5",
   "metadata": {},
   "outputs": [
    {
     "data": {
      "text/plain": [
       "'i how are you'"
      ]
     },
     "execution_count": 80,
     "metadata": {},
     "output_type": "execute_result"
    }
   ],
   "source": [
    "str1[2:]"
   ]
  },
  {
   "cell_type": "code",
   "execution_count": 82,
   "id": "88d02316-41c3-4135-bff2-6f66bb6a5214",
   "metadata": {},
   "outputs": [
    {
     "data": {
      "text/plain": [
       "'hai how are you'"
      ]
     },
     "execution_count": 82,
     "metadata": {},
     "output_type": "execute_result"
    }
   ],
   "source": [
    "str1[::]  # str1[<start>:<stop>:1]"
   ]
  },
  {
   "cell_type": "code",
   "execution_count": 84,
   "id": "8e03d044-fbe1-47f8-bf12-1a72c264d926",
   "metadata": {},
   "outputs": [
    {
     "data": {
      "text/plain": [
       "'uoy era woh iah'"
      ]
     },
     "execution_count": 84,
     "metadata": {},
     "output_type": "execute_result"
    }
   ],
   "source": [
    "str1[::-1] # Reverse"
   ]
  },
  {
   "cell_type": "code",
   "execution_count": 86,
   "id": "85776eb0-a165-4071-88a2-28640b035547",
   "metadata": {},
   "outputs": [
    {
     "data": {
      "text/plain": [
       "''"
      ]
     },
     "execution_count": 86,
     "metadata": {},
     "output_type": "execute_result"
    }
   ],
   "source": [
    "str1[1:1:1]"
   ]
  },
  {
   "cell_type": "code",
   "execution_count": 90,
   "id": "a3533cf7-25ea-49cd-90d3-47c3e0f55740",
   "metadata": {},
   "outputs": [
    {
     "data": {
      "text/plain": [
       "'hai how are you'"
      ]
     },
     "execution_count": 90,
     "metadata": {},
     "output_type": "execute_result"
    }
   ],
   "source": [
    "str1[-16:15:1]"
   ]
  },
  {
   "cell_type": "markdown",
   "id": "1e456c29-d198-4933-9852-db23071e9d41",
   "metadata": {},
   "source": [
    "# Methods:"
   ]
  },
  {
   "cell_type": "code",
   "execution_count": 2,
   "id": "9ed2bdb6-232d-4313-ba22-e07bb45b36bf",
   "metadata": {},
   "outputs": [],
   "source": [
    "import random"
   ]
  },
  {
   "cell_type": "code",
   "execution_count": 4,
   "id": "28384052-3738-4b30-8ac8-a055b046f9aa",
   "metadata": {},
   "outputs": [
    {
     "data": {
      "text/plain": [
       "['BPF',\n",
       " 'LOG4',\n",
       " 'NV_MAGICCONST',\n",
       " 'RECIP_BPF',\n",
       " 'Random',\n",
       " 'SG_MAGICCONST',\n",
       " 'SystemRandom',\n",
       " 'TWOPI',\n",
       " '_ONE',\n",
       " '_Sequence',\n",
       " '__all__',\n",
       " '__builtins__',\n",
       " '__cached__',\n",
       " '__doc__',\n",
       " '__file__',\n",
       " '__loader__',\n",
       " '__name__',\n",
       " '__package__',\n",
       " '__spec__',\n",
       " '_accumulate',\n",
       " '_acos',\n",
       " '_bisect',\n",
       " '_ceil',\n",
       " '_cos',\n",
       " '_e',\n",
       " '_exp',\n",
       " '_fabs',\n",
       " '_floor',\n",
       " '_index',\n",
       " '_inst',\n",
       " '_isfinite',\n",
       " '_lgamma',\n",
       " '_log',\n",
       " '_log2',\n",
       " '_os',\n",
       " '_pi',\n",
       " '_random',\n",
       " '_repeat',\n",
       " '_sha512',\n",
       " '_sin',\n",
       " '_sqrt',\n",
       " '_test',\n",
       " '_test_generator',\n",
       " '_urandom',\n",
       " '_warn',\n",
       " 'betavariate',\n",
       " 'binomialvariate',\n",
       " 'choice',\n",
       " 'choices',\n",
       " 'expovariate',\n",
       " 'gammavariate',\n",
       " 'gauss',\n",
       " 'getrandbits',\n",
       " 'getstate',\n",
       " 'lognormvariate',\n",
       " 'normalvariate',\n",
       " 'paretovariate',\n",
       " 'randbytes',\n",
       " 'randint',\n",
       " 'random',\n",
       " 'randrange',\n",
       " 'sample',\n",
       " 'seed',\n",
       " 'setstate',\n",
       " 'shuffle',\n",
       " 'triangular',\n",
       " 'uniform',\n",
       " 'vonmisesvariate',\n",
       " 'weibullvariate']"
      ]
     },
     "execution_count": 4,
     "metadata": {},
     "output_type": "execute_result"
    }
   ],
   "source": [
    "dir(random)"
   ]
  },
  {
   "cell_type": "code",
   "execution_count": 6,
   "id": "e6127a46-8b30-4e98-89e3-95fca9eb9039",
   "metadata": {},
   "outputs": [
    {
     "data": {
      "text/plain": [
       "['__add__',\n",
       " '__class__',\n",
       " '__contains__',\n",
       " '__delattr__',\n",
       " '__dir__',\n",
       " '__doc__',\n",
       " '__eq__',\n",
       " '__format__',\n",
       " '__ge__',\n",
       " '__getattribute__',\n",
       " '__getitem__',\n",
       " '__getnewargs__',\n",
       " '__getstate__',\n",
       " '__gt__',\n",
       " '__hash__',\n",
       " '__init__',\n",
       " '__init_subclass__',\n",
       " '__iter__',\n",
       " '__le__',\n",
       " '__len__',\n",
       " '__lt__',\n",
       " '__mod__',\n",
       " '__mul__',\n",
       " '__ne__',\n",
       " '__new__',\n",
       " '__reduce__',\n",
       " '__reduce_ex__',\n",
       " '__repr__',\n",
       " '__rmod__',\n",
       " '__rmul__',\n",
       " '__setattr__',\n",
       " '__sizeof__',\n",
       " '__str__',\n",
       " '__subclasshook__',\n",
       " 'capitalize',\n",
       " 'casefold',\n",
       " 'center',\n",
       " 'count',\n",
       " 'encode',\n",
       " 'endswith',\n",
       " 'expandtabs',\n",
       " 'find',\n",
       " 'format',\n",
       " 'format_map',\n",
       " 'index',\n",
       " 'isalnum',\n",
       " 'isalpha',\n",
       " 'isascii',\n",
       " 'isdecimal',\n",
       " 'isdigit',\n",
       " 'isidentifier',\n",
       " 'islower',\n",
       " 'isnumeric',\n",
       " 'isprintable',\n",
       " 'isspace',\n",
       " 'istitle',\n",
       " 'isupper',\n",
       " 'join',\n",
       " 'ljust',\n",
       " 'lower',\n",
       " 'lstrip',\n",
       " 'maketrans',\n",
       " 'partition',\n",
       " 'removeprefix',\n",
       " 'removesuffix',\n",
       " 'replace',\n",
       " 'rfind',\n",
       " 'rindex',\n",
       " 'rjust',\n",
       " 'rpartition',\n",
       " 'rsplit',\n",
       " 'rstrip',\n",
       " 'split',\n",
       " 'splitlines',\n",
       " 'startswith',\n",
       " 'strip',\n",
       " 'swapcase',\n",
       " 'title',\n",
       " 'translate',\n",
       " 'upper',\n",
       " 'zfill']"
      ]
     },
     "execution_count": 6,
     "metadata": {},
     "output_type": "execute_result"
    }
   ],
   "source": [
    "dir('')"
   ]
  },
  {
   "cell_type": "code",
   "execution_count": 8,
   "id": "c754238b-317c-499b-9bda-ff64252b17d4",
   "metadata": {},
   "outputs": [
    {
     "data": {
      "text/plain": [
       "['__add__',\n",
       " '__class__',\n",
       " '__contains__',\n",
       " '__delattr__',\n",
       " '__dir__',\n",
       " '__doc__',\n",
       " '__eq__',\n",
       " '__format__',\n",
       " '__ge__',\n",
       " '__getattribute__',\n",
       " '__getitem__',\n",
       " '__getnewargs__',\n",
       " '__getstate__',\n",
       " '__gt__',\n",
       " '__hash__',\n",
       " '__init__',\n",
       " '__init_subclass__',\n",
       " '__iter__',\n",
       " '__le__',\n",
       " '__len__',\n",
       " '__lt__',\n",
       " '__mod__',\n",
       " '__mul__',\n",
       " '__ne__',\n",
       " '__new__',\n",
       " '__reduce__',\n",
       " '__reduce_ex__',\n",
       " '__repr__',\n",
       " '__rmod__',\n",
       " '__rmul__',\n",
       " '__setattr__',\n",
       " '__sizeof__',\n",
       " '__str__',\n",
       " '__subclasshook__',\n",
       " 'capitalize',\n",
       " 'casefold',\n",
       " 'center',\n",
       " 'count',\n",
       " 'encode',\n",
       " 'endswith',\n",
       " 'expandtabs',\n",
       " 'find',\n",
       " 'format',\n",
       " 'format_map',\n",
       " 'index',\n",
       " 'isalnum',\n",
       " 'isalpha',\n",
       " 'isascii',\n",
       " 'isdecimal',\n",
       " 'isdigit',\n",
       " 'isidentifier',\n",
       " 'islower',\n",
       " 'isnumeric',\n",
       " 'isprintable',\n",
       " 'isspace',\n",
       " 'istitle',\n",
       " 'isupper',\n",
       " 'join',\n",
       " 'ljust',\n",
       " 'lower',\n",
       " 'lstrip',\n",
       " 'maketrans',\n",
       " 'partition',\n",
       " 'removeprefix',\n",
       " 'removesuffix',\n",
       " 'replace',\n",
       " 'rfind',\n",
       " 'rindex',\n",
       " 'rjust',\n",
       " 'rpartition',\n",
       " 'rsplit',\n",
       " 'rstrip',\n",
       " 'split',\n",
       " 'splitlines',\n",
       " 'startswith',\n",
       " 'strip',\n",
       " 'swapcase',\n",
       " 'title',\n",
       " 'translate',\n",
       " 'upper',\n",
       " 'zfill']"
      ]
     },
     "execution_count": 8,
     "metadata": {},
     "output_type": "execute_result"
    }
   ],
   "source": [
    "name='Hemant'\n",
    "dir(name)"
   ]
  },
  {
   "cell_type": "code",
   "execution_count": 10,
   "id": "452df1a8-992e-4833-9455-2d3a77a6d83e",
   "metadata": {},
   "outputs": [
    {
     "data": {
      "text/plain": [
       "['__add__',\n",
       " '__class__',\n",
       " '__contains__',\n",
       " '__delattr__',\n",
       " '__dir__',\n",
       " '__doc__',\n",
       " '__eq__',\n",
       " '__format__',\n",
       " '__ge__',\n",
       " '__getattribute__',\n",
       " '__getitem__',\n",
       " '__getnewargs__',\n",
       " '__getstate__',\n",
       " '__gt__',\n",
       " '__hash__',\n",
       " '__init__',\n",
       " '__init_subclass__',\n",
       " '__iter__',\n",
       " '__le__',\n",
       " '__len__',\n",
       " '__lt__',\n",
       " '__mod__',\n",
       " '__mul__',\n",
       " '__ne__',\n",
       " '__new__',\n",
       " '__reduce__',\n",
       " '__reduce_ex__',\n",
       " '__repr__',\n",
       " '__rmod__',\n",
       " '__rmul__',\n",
       " '__setattr__',\n",
       " '__sizeof__',\n",
       " '__str__',\n",
       " '__subclasshook__',\n",
       " 'capitalize',\n",
       " 'casefold',\n",
       " 'center',\n",
       " 'count',\n",
       " 'encode',\n",
       " 'endswith',\n",
       " 'expandtabs',\n",
       " 'find',\n",
       " 'format',\n",
       " 'format_map',\n",
       " 'index',\n",
       " 'isalnum',\n",
       " 'isalpha',\n",
       " 'isascii',\n",
       " 'isdecimal',\n",
       " 'isdigit',\n",
       " 'isidentifier',\n",
       " 'islower',\n",
       " 'isnumeric',\n",
       " 'isprintable',\n",
       " 'isspace',\n",
       " 'istitle',\n",
       " 'isupper',\n",
       " 'join',\n",
       " 'ljust',\n",
       " 'lower',\n",
       " 'lstrip',\n",
       " 'maketrans',\n",
       " 'partition',\n",
       " 'removeprefix',\n",
       " 'removesuffix',\n",
       " 'replace',\n",
       " 'rfind',\n",
       " 'rindex',\n",
       " 'rjust',\n",
       " 'rpartition',\n",
       " 'rsplit',\n",
       " 'rstrip',\n",
       " 'split',\n",
       " 'splitlines',\n",
       " 'startswith',\n",
       " 'strip',\n",
       " 'swapcase',\n",
       " 'title',\n",
       " 'translate',\n",
       " 'upper',\n",
       " 'zfill']"
      ]
     },
     "execution_count": 10,
     "metadata": {},
     "output_type": "execute_result"
    }
   ],
   "source": [
    "dir('')"
   ]
  },
  {
   "cell_type": "code",
   "execution_count": 12,
   "id": "c00b237d-e170-41b4-9727-7d03c0a808b1",
   "metadata": {},
   "outputs": [
    {
     "data": {
      "text/plain": [
       "'Hemant'"
      ]
     },
     "execution_count": 12,
     "metadata": {},
     "output_type": "execute_result"
    }
   ],
   "source": [
    "name='hemant'\n",
    "name.capitalize()"
   ]
  },
  {
   "cell_type": "code",
   "execution_count": 14,
   "id": "b22fcad3-572a-4aea-8c5d-726b87139ee3",
   "metadata": {},
   "outputs": [
    {
     "data": {
      "text/plain": [
       "'HEMANT'"
      ]
     },
     "execution_count": 14,
     "metadata": {},
     "output_type": "execute_result"
    }
   ],
   "source": [
    "name.upper()"
   ]
  },
  {
   "cell_type": "code",
   "execution_count": 16,
   "id": "c7a81aab-aafe-4b57-a3bd-bc9e086d2064",
   "metadata": {},
   "outputs": [
    {
     "data": {
      "text/plain": [
       "'hemant'"
      ]
     },
     "execution_count": 16,
     "metadata": {},
     "output_type": "execute_result"
    }
   ],
   "source": [
    "name.lower()"
   ]
  },
  {
   "cell_type": "code",
   "execution_count": 18,
   "id": "7a034d70-e4fd-4012-8d9f-adb7fc64f095",
   "metadata": {},
   "outputs": [
    {
     "data": {
      "text/plain": [
       "'Hemant'"
      ]
     },
     "execution_count": 18,
     "metadata": {},
     "output_type": "execute_result"
    }
   ],
   "source": [
    "name.title()"
   ]
  },
  {
   "cell_type": "code",
   "execution_count": 36,
   "id": "ea64e376-02fd-466e-8caf-172db6fc14ae",
   "metadata": {},
   "outputs": [
    {
     "data": {
      "text/plain": [
       "'..hemant..'"
      ]
     },
     "execution_count": 36,
     "metadata": {},
     "output_type": "execute_result"
    }
   ],
   "source": [
    "name.center(10, '.')\n",
    "\n",
    "# Signature: name.center(width, fillchar=' ', /)\n",
    "# Docstring:\n",
    "# Return a centered string of length width.\n",
    "\n",
    "# Padding is done using the specified fill character (default is a space).\n",
    "# Type:      builtin_function_or_method"
   ]
  },
  {
   "cell_type": "code",
   "execution_count": 44,
   "id": "1f87502d-dc1a-4d1f-9540-8c98c7c9fd92",
   "metadata": {},
   "outputs": [
    {
     "data": {
      "text/plain": [
       "'77hemant77'"
      ]
     },
     "execution_count": 44,
     "metadata": {},
     "output_type": "execute_result"
    }
   ],
   "source": [
    "name.center(10, '7')"
   ]
  },
  {
   "cell_type": "code",
   "execution_count": 54,
   "id": "1dfa355a-c8b9-4d96-a3db-e39e2095d1fb",
   "metadata": {},
   "outputs": [
    {
     "data": {
      "text/plain": [
       "'  hemant  '"
      ]
     },
     "execution_count": 54,
     "metadata": {},
     "output_type": "execute_result"
    }
   ],
   "source": [
    "name.center(10, ' ')"
   ]
  },
  {
   "cell_type": "code",
   "execution_count": 48,
   "id": "9674ae65-185f-45de-8271-bfe53c5e2d34",
   "metadata": {},
   "outputs": [
    {
     "name": "stdout",
     "output_type": "stream",
     "text": [
      "Hai how are you\n",
      "Hai How Are You\n"
     ]
    }
   ],
   "source": [
    "# Without using methods\n",
    "str1='hai how are you'\n",
    "print(str1.capitalize())\n",
    "print(str1.title())"
   ]
  },
  {
   "cell_type": "code",
   "execution_count": 50,
   "id": "255c0820-7a73-4890-9105-cab954a19e80",
   "metadata": {},
   "outputs": [
    {
     "data": {
      "text/plain": [
       "['a', 'e', 'l', 'p', 'p']"
      ]
     },
     "execution_count": 50,
     "metadata": {},
     "output_type": "execute_result"
    }
   ],
   "source": [
    "sorted('apple') "
   ]
  },
  {
   "cell_type": "markdown",
   "id": "4a12e25b-2d69-46f1-ab9a-7ce733e0da76",
   "metadata": {},
   "source": [
    "Q. Without sorted method sort the letters"
   ]
  },
  {
   "cell_type": "markdown",
   "id": "013ef474-6835-4174-88b2-ea495618af5a",
   "metadata": {},
   "source": [
    "- Hai how are you\n",
    "- Hai How Are You \n",
    "- without using method"
   ]
  },
  {
   "cell_type": "code",
   "execution_count": 56,
   "id": "015943bd-215d-4617-b4b4-f3ec85ba20db",
   "metadata": {},
   "outputs": [
    {
     "name": "stdout",
     "output_type": "stream",
     "text": [
      "15\n"
     ]
    },
    {
     "data": {
      "text/plain": [
       "'     hai how are you     '"
      ]
     },
     "execution_count": 56,
     "metadata": {},
     "output_type": "execute_result"
    }
   ],
   "source": [
    "str1='hai how are you'\n",
    "print(len(str1))\n",
    "str1.center(25)"
   ]
  },
  {
   "cell_type": "code",
   "execution_count": 58,
   "id": "c2e81cb1-e43a-4de7-bcd5-6cab291f0d54",
   "metadata": {},
   "outputs": [
    {
     "name": "stdout",
     "output_type": "stream",
     "text": [
      "hai how are you\n",
      "     hai how are you     \n",
      "*****hai how are you******\n"
     ]
    }
   ],
   "source": [
    "str1='hai how are you'\n",
    "s1=str1.center(25)\n",
    "s2=str1.center(26,'*')\n",
    "print(str1)\n",
    "print(s1)\n",
    "print(s2)"
   ]
  },
  {
   "cell_type": "code",
   "execution_count": 66,
   "id": "089edb7e-6b9a-4155-84a3-24c6a8fa09e3",
   "metadata": {},
   "outputs": [
    {
     "name": "stdout",
     "output_type": "stream",
     "text": [
      "hai how are you\n",
      "\n",
      "     hai how are you     \n",
      "\n",
      "*****hai how are you******\n"
     ]
    }
   ],
   "source": [
    "str1='hai how are you'\n",
    "s1=str1.center(25)\n",
    "s2=str1.center(26,'*')\n",
    "print(str1) \n",
    "print()\n",
    "print(s1) \n",
    "print()\n",
    "print(s2)"
   ]
  },
  {
   "cell_type": "markdown",
   "id": "549fcdd8-6f65-48f6-b220-2a6d18a98b95",
   "metadata": {},
   "source": [
    "# Stripping :"
   ]
  },
  {
   "cell_type": "markdown",
   "id": "9be2cb3d-7c23-4692-817f-7db4e78fc20d",
   "metadata": {},
   "source": [
    "- rstrip\n",
    "\n",
    "- strip\n",
    "\n",
    "- lstrip"
   ]
  },
  {
   "cell_type": "code",
   "execution_count": 70,
   "id": "2d72f16a-f078-4e4a-8cd4-93caaae93ad3",
   "metadata": {},
   "outputs": [
    {
     "data": {
      "text/plain": [
       "'hai how are you'"
      ]
     },
     "execution_count": 70,
     "metadata": {},
     "output_type": "execute_result"
    }
   ],
   "source": [
    "s1.strip()"
   ]
  },
  {
   "cell_type": "code",
   "execution_count": 72,
   "id": "13a378ad-6463-4029-a05f-852ad3a51725",
   "metadata": {},
   "outputs": [
    {
     "data": {
      "text/plain": [
       "'     hai how are you'"
      ]
     },
     "execution_count": 72,
     "metadata": {},
     "output_type": "execute_result"
    }
   ],
   "source": [
    "s1.rstrip()"
   ]
  },
  {
   "cell_type": "code",
   "execution_count": 74,
   "id": "c6d719f9-a316-4590-bdf4-d3b19c3f4c2d",
   "metadata": {},
   "outputs": [
    {
     "data": {
      "text/plain": [
       "'hai how are you     '"
      ]
     },
     "execution_count": 74,
     "metadata": {},
     "output_type": "execute_result"
    }
   ],
   "source": [
    "s1.lstrip()"
   ]
  },
  {
   "cell_type": "code",
   "execution_count": 76,
   "id": "cd08019e-1754-49d8-b069-ee5ba35365d2",
   "metadata": {},
   "outputs": [
    {
     "data": {
      "text/plain": [
       "'     hai how are you     '"
      ]
     },
     "execution_count": 76,
     "metadata": {},
     "output_type": "execute_result"
    }
   ],
   "source": [
    "s1.lstrip('a')"
   ]
  },
  {
   "cell_type": "code",
   "execution_count": 78,
   "id": "7eaa8a18-db43-40f8-bcd3-bfdc7edb215e",
   "metadata": {},
   "outputs": [
    {
     "data": {
      "text/plain": [
       "'hai how are you'"
      ]
     },
     "execution_count": 78,
     "metadata": {},
     "output_type": "execute_result"
    }
   ],
   "source": [
    "s2.strip('*')"
   ]
  },
  {
   "cell_type": "code",
   "execution_count": 80,
   "id": "16c80ae7-463e-456f-be28-cf8332e8bdd5",
   "metadata": {},
   "outputs": [
    {
     "data": {
      "text/plain": [
       "'*****hai how are you******'"
      ]
     },
     "execution_count": 80,
     "metadata": {},
     "output_type": "execute_result"
    }
   ],
   "source": [
    "s2.lstrip()"
   ]
  },
  {
   "cell_type": "code",
   "execution_count": 82,
   "id": "3e60806c-0052-4279-995d-74adb8c199f2",
   "metadata": {},
   "outputs": [
    {
     "data": {
      "text/plain": [
       "'hai how are you******'"
      ]
     },
     "execution_count": 82,
     "metadata": {},
     "output_type": "execute_result"
    }
   ],
   "source": [
    "s2.lstrip('*')"
   ]
  },
  {
   "cell_type": "code",
   "execution_count": 84,
   "id": "57f63b3f-1757-4090-891a-e681c5f08840",
   "metadata": {},
   "outputs": [
    {
     "data": {
      "text/plain": [
       "'*****hai how are you'"
      ]
     },
     "execution_count": 84,
     "metadata": {},
     "output_type": "execute_result"
    }
   ],
   "source": [
    "s2.rstrip('*')"
   ]
  },
  {
   "cell_type": "markdown",
   "id": "0c56d780-1bc4-48a1-89cf-d52c23661661",
   "metadata": {},
   "source": [
    "# Endswith - Startswith :"
   ]
  },
  {
   "cell_type": "code",
   "execution_count": 89,
   "id": "b385a8ae-0a28-45a6-a4ec-d0b03487e74b",
   "metadata": {},
   "outputs": [
    {
     "data": {
      "text/plain": [
       "True"
      ]
     },
     "execution_count": 89,
     "metadata": {},
     "output_type": "execute_result"
    }
   ],
   "source": [
    "str1='hai how are you'\n",
    "str1.startswith('h') #S.startswith(prefix[, start[, end]]) -> bool"
   ]
  },
  {
   "cell_type": "code",
   "execution_count": 91,
   "id": "b32b307b-7f4a-4d55-8ffb-7129d179be6d",
   "metadata": {},
   "outputs": [
    {
     "data": {
      "text/plain": [
       "False"
      ]
     },
     "execution_count": 91,
     "metadata": {},
     "output_type": "execute_result"
    }
   ],
   "source": [
    "str1='hai how are you'\n",
    "str1.startswith('H')"
   ]
  },
  {
   "cell_type": "code",
   "execution_count": 93,
   "id": "3bcc7bc0-540c-441e-a1bb-0e340e812db1",
   "metadata": {},
   "outputs": [
    {
     "data": {
      "text/plain": [
       "True"
      ]
     },
     "execution_count": 93,
     "metadata": {},
     "output_type": "execute_result"
    }
   ],
   "source": [
    "str1='hai how are you'\n",
    "str1.startswith('h')"
   ]
  },
  {
   "cell_type": "code",
   "execution_count": 95,
   "id": "a062d8ff-f714-4391-a15e-ead532f1bb5d",
   "metadata": {},
   "outputs": [
    {
     "data": {
      "text/plain": [
       "True"
      ]
     },
     "execution_count": 95,
     "metadata": {},
     "output_type": "execute_result"
    }
   ],
   "source": [
    "str1.startswith('hai how are you')\n",
    "str1.startswith(str1)"
   ]
  },
  {
   "cell_type": "code",
   "execution_count": null,
   "id": "cf6fa011-c425-4c2e-954a-6cfec1ab1cc4",
   "metadata": {},
   "outputs": [],
   "source": [
    "-15 -14 -13 -12 -11 -10 -9 -8 -7 -6 -5 -4 -3 -2 -1\n",
    " h   a   i        h  o   w     a  r  e     y  o  u\n",
    " 0   1   2   3    4  5   6  7  8  9  10 11 12 13 14\n",
    "\n",
    "Last = stop - 1"
   ]
  },
  {
   "cell_type": "code",
   "execution_count": 97,
   "id": "61e6e821-bfbd-45d3-afdc-2ad56836ff76",
   "metadata": {},
   "outputs": [
    {
     "data": {
      "text/plain": [
       "False"
      ]
     },
     "execution_count": 97,
     "metadata": {},
     "output_type": "execute_result"
    }
   ],
   "source": [
    "str1.startswith('h',2,4)"
   ]
  },
  {
   "cell_type": "code",
   "execution_count": 101,
   "id": "ac0a0556-9571-45b9-8d05-bfd6df54d836",
   "metadata": {},
   "outputs": [
    {
     "data": {
      "text/plain": [
       "True"
      ]
     },
     "execution_count": 101,
     "metadata": {},
     "output_type": "execute_result"
    }
   ],
   "source": [
    "str1.endswith('h',2,5) # 5-1=4 True"
   ]
  },
  {
   "cell_type": "code",
   "execution_count": 105,
   "id": "b2563d91-835b-4bfd-8e59-08a5bcc5af5f",
   "metadata": {},
   "outputs": [
    {
     "data": {
      "text/plain": [
       "True"
      ]
     },
     "execution_count": 105,
     "metadata": {},
     "output_type": "execute_result"
    }
   ],
   "source": [
    "str1.startswith('h',0,8)"
   ]
  },
  {
   "cell_type": "markdown",
   "id": "2b84d8bf-8fb9-4cf6-94ab-bc4cdf83bcdd",
   "metadata": {},
   "source": [
    "str1.startswith('h',2,4)  # \n",
    "\n",
    "str1.endswith('h',2,5) # 5-1=4 True"
   ]
  },
  {
   "cell_type": "markdown",
   "id": "141d4251-3c90-4dd0-b36c-028110331704",
   "metadata": {},
   "source": [
    "# str1.startswith()\n",
    "\n",
    "**Docstring:**\n",
    "S.startswith(prefix[, start[, end]]) -> bool\n",
    "\n",
    "- Return True if S starts with the specified prefix, False otherwise.\n",
    "- With optional start, test S beginning at that position.\n",
    "- With optional end, stop comparing S at that position.\n",
    "- prefix can also be a tuple of strings to try.\n",
    "\n",
    "- **Type:** builtin_function_or_method"
   ]
  },
  {
   "cell_type": "markdown",
   "id": "ffa22204-c0a6-4eb0-b54b-7fd93675d66f",
   "metadata": {},
   "source": [
    "- Capitalize / Upper / Lower / Title\n",
    "\n",
    "- center\n",
    "\n",
    "- lstrip/rstrip\n",
    "\n",
    "- startswith / endswith"
   ]
  },
  {
   "cell_type": "markdown",
   "id": "0a8c5c9c-1566-4df7-a52a-cfb1628e3bce",
   "metadata": {},
   "source": [
    "# Count :"
   ]
  },
  {
   "cell_type": "code",
   "execution_count": 119,
   "id": "ea978f42-1824-4c61-835a-0f922943526f",
   "metadata": {},
   "outputs": [
    {
     "data": {
      "text/plain": [
       "3"
      ]
     },
     "execution_count": 119,
     "metadata": {},
     "output_type": "execute_result"
    }
   ],
   "source": [
    "str1='ola ola ola'\n",
    "str1.count('a')"
   ]
  },
  {
   "cell_type": "code",
   "execution_count": 121,
   "id": "5358e445-79a2-4994-881f-ffe01f6d0865",
   "metadata": {},
   "outputs": [
    {
     "name": "stdout",
     "output_type": "stream",
     "text": [
      "a\n",
      "a\n",
      "a\n",
      "3\n"
     ]
    }
   ],
   "source": [
    "str1='ola ola ola'\n",
    "count=0\n",
    "for i in str1:\n",
    "    if i=='a':\n",
    "        print(i)\n",
    "        count=count+1\n",
    "print(count)"
   ]
  },
  {
   "cell_type": "code",
   "execution_count": 127,
   "id": "517a051e-ef8d-4223-9b60-27c8a1735608",
   "metadata": {},
   "outputs": [
    {
     "name": "stdout",
     "output_type": "stream",
     "text": [
      "3\n"
     ]
    }
   ],
   "source": [
    "# Sliding window method\n",
    "\n",
    "str1='ola ola ola'\n",
    "count=0\n",
    "for i in range(len(str1)):\n",
    "    # i=0 str1[0:3] = 'ola'\n",
    "    # i=1 str1[1:4] = 'la'\n",
    "    if str1[i:i+3]=='ola':\n",
    "        count=count+1\n",
    "print(count)"
   ]
  },
  {
   "cell_type": "code",
   "execution_count": 1,
   "id": "410f8f3b-8989-49dd-8588-a40337d6b4e5",
   "metadata": {},
   "outputs": [
    {
     "name": "stdout",
     "output_type": "stream",
     "text": [
      "6\n"
     ]
    }
   ],
   "source": [
    "# Sliding window method\n",
    "\n",
    "str1='ola ola ola ola ola ola'\n",
    "count=0\n",
    "for i in range(len(str1)):\n",
    "    # i=0 str1[0:3] = 'ola'\n",
    "    # i=1 str1[1:4] = 'la'\n",
    "    if str1[i:i+3]=='ola':\n",
    "        count=count+1\n",
    "print(count)"
   ]
  },
  {
   "cell_type": "code",
   "execution_count": 3,
   "id": "f52fcef0-31b0-45eb-b017-ad48ee334713",
   "metadata": {},
   "outputs": [
    {
     "name": "stdout",
     "output_type": "stream",
     "text": [
      "0\n"
     ]
    }
   ],
   "source": [
    "count=0\n",
    "s='ola'\n",
    "for s in str1:\n",
    "    if i==s:\n",
    "        count=count+1\n",
    "print(count)"
   ]
  },
  {
   "cell_type": "code",
   "execution_count": 7,
   "id": "02881ad4-a484-4f96-a922-4ff8b1012d85",
   "metadata": {},
   "outputs": [
    {
     "name": "stdout",
     "output_type": "stream",
     "text": [
      "23\n"
     ]
    }
   ],
   "source": [
    "count=0\n",
    "s='ola'\n",
    "for s in str1:\n",
    "    count=count+1\n",
    "print(count)"
   ]
  },
  {
   "cell_type": "code",
   "execution_count": 141,
   "id": "dbc82b8f-86ad-4eb1-b787-9b9dedad7eb0",
   "metadata": {},
   "outputs": [
    {
     "data": {
      "text/plain": [
       "3"
      ]
     },
     "execution_count": 141,
     "metadata": {},
     "output_type": "execute_result"
    }
   ],
   "source": [
    "str1='ola ola ola'\n",
    "str1.count('o')"
   ]
  },
  {
   "cell_type": "code",
   "execution_count": 143,
   "id": "4209ee62-4e68-46f9-b2c0-a9d39686527a",
   "metadata": {},
   "outputs": [
    {
     "data": {
      "text/plain": [
       "2"
      ]
     },
     "execution_count": 143,
     "metadata": {},
     "output_type": "execute_result"
    }
   ],
   "source": [
    "str1='ola ola ola'\n",
    "str1.count('o',4)"
   ]
  },
  {
   "cell_type": "code",
   "execution_count": 145,
   "id": "6c277b90-540d-47ff-9c5a-d5edad8248c0",
   "metadata": {},
   "outputs": [
    {
     "data": {
      "text/plain": [
       "1"
      ]
     },
     "execution_count": 145,
     "metadata": {},
     "output_type": "execute_result"
    }
   ],
   "source": [
    "str1='ola ola ola'\n",
    "str1.count('o',7)"
   ]
  },
  {
   "cell_type": "code",
   "execution_count": 153,
   "id": "754d6c29-9a1f-4067-9078-247904e2256b",
   "metadata": {},
   "outputs": [
    {
     "data": {
      "text/plain": [
       "3"
      ]
     },
     "execution_count": 153,
     "metadata": {},
     "output_type": "execute_result"
    }
   ],
   "source": [
    "str1='ola ola ola'\n",
    "str1.count('o') # str1[:] = start to end = 3"
   ]
  },
  {
   "cell_type": "code",
   "execution_count": 155,
   "id": "a058f82e-b20b-414f-972a-1abc021fb98d",
   "metadata": {},
   "outputs": [
    {
     "data": {
      "text/plain": [
       "2"
      ]
     },
     "execution_count": 155,
     "metadata": {},
     "output_type": "execute_result"
    }
   ],
   "source": [
    "str1.count('o',3) # str1[3:] = start to end = 2"
   ]
  },
  {
   "cell_type": "code",
   "execution_count": 157,
   "id": "f6f26268-f064-4202-a385-10728db12d36",
   "metadata": {},
   "outputs": [
    {
     "data": {
      "text/plain": [
       "1"
      ]
     },
     "execution_count": 157,
     "metadata": {},
     "output_type": "execute_result"
    }
   ],
   "source": [
    "str1.count('o',3,8) # str1[3:8] = start to end = 1"
   ]
  },
  {
   "cell_type": "code",
   "execution_count": 163,
   "id": "45e1020b-9686-4528-bcc9-20b443088a42",
   "metadata": {},
   "outputs": [
    {
     "data": {
      "text/plain": [
       "0"
      ]
     },
     "execution_count": 163,
     "metadata": {},
     "output_type": "execute_result"
    }
   ],
   "source": [
    "str1.count('z')"
   ]
  },
  {
   "cell_type": "markdown",
   "id": "baa9acc3-4f2e-484a-a913-aa54ea90ad0b",
   "metadata": {},
   "source": [
    "# Replace :"
   ]
  },
  {
   "cell_type": "markdown",
   "id": "fd54a2fe-f503-4be3-8b68-957324f79b0b",
   "metadata": {},
   "source": [
    "Signature: str1.replace(old, new, count=-1, /)\n",
    "Docstring:\n",
    "Return a copy with all occurrences of substring old replaced by new.\n",
    "\n",
    "  count\n",
    "    Maximum number of occurrences to replace.\n",
    "    -1 (the default value) means replace all occurrences.\n",
    "\n",
    "If the optional argument count is given, only the first count occurrences are\n",
    "replaced.\n",
    "Type:      builtin_function_or_method"
   ]
  },
  {
   "cell_type": "code",
   "execution_count": 10,
   "id": "2d4c3c82-36b4-4ad7-8c55-0affae98d6f9",
   "metadata": {},
   "outputs": [
    {
     "data": {
      "text/plain": [
       "'weLcome'"
      ]
     },
     "execution_count": 10,
     "metadata": {},
     "output_type": "execute_result"
    }
   ],
   "source": [
    "str1='welcome'\n",
    "str1.replace('l','L')"
   ]
  },
  {
   "cell_type": "code",
   "execution_count": 12,
   "id": "1d1cd54d-8a9d-4ad5-866f-b44073645a0b",
   "metadata": {},
   "outputs": [
    {
     "data": {
      "text/plain": [
       "'weLLLLLcome'"
      ]
     },
     "execution_count": 12,
     "metadata": {},
     "output_type": "execute_result"
    }
   ],
   "source": [
    "str1='welllllcome'\n",
    "str1.replace('l','L')"
   ]
  },
  {
   "cell_type": "code",
   "execution_count": 14,
   "id": "4730829c-99eb-4556-ab46-5f27229ee77d",
   "metadata": {},
   "outputs": [
    {
     "data": {
      "text/plain": [
       "'weLLlllcome'"
      ]
     },
     "execution_count": 14,
     "metadata": {},
     "output_type": "execute_result"
    }
   ],
   "source": [
    "str1='welllllcome'\n",
    "str1.replace('l','L',2)"
   ]
  },
  {
   "cell_type": "code",
   "execution_count": 20,
   "id": "9e7dd675-12a5-468b-8898-62d07222cd99",
   "metadata": {},
   "outputs": [
    {
     "data": {
      "text/plain": [
       "'weLcome welcome'"
      ]
     },
     "execution_count": 20,
     "metadata": {},
     "output_type": "execute_result"
    }
   ],
   "source": [
    "str1='welcome welcome'\n",
    "str1.replace('l','L',1)"
   ]
  },
  {
   "cell_type": "code",
   "execution_count": 24,
   "id": "f336db7b-2214-439e-bb7e-db0a35fff529",
   "metadata": {},
   "outputs": [
    {
     "name": "stdout",
     "output_type": "stream",
     "text": [
      "weLcome weLcome\n"
     ]
    }
   ],
   "source": [
    "# Slicing Replace Concat\n",
    "str1='welcome welcome'\n",
    "str2=str1[:3].replace('l','L')\n",
    "str3=str1[3:].replace('l','L')\n",
    "print(str2+str3)"
   ]
  },
  {
   "cell_type": "code",
   "execution_count": 28,
   "id": "463e93ae-53a4-4fe8-a2eb-cba0e921aa41",
   "metadata": {},
   "outputs": [
    {
     "data": {
      "text/plain": [
       "'welcome weLcome'"
      ]
     },
     "execution_count": 28,
     "metadata": {},
     "output_type": "execute_result"
    }
   ],
   "source": [
    "# w e l c o m e   w e l  c  o  m  e\n",
    "# 0 1 2 3 4 5 6 7 8 9 10 11 12 13 14\n",
    "\n",
    "str1='welcome welcome'\n",
    "str2=str1[0:3]\n",
    "str3=str1[3:]\n",
    "str4=str3.replace('l','L')\n",
    "str2+str4"
   ]
  },
  {
   "cell_type": "markdown",
   "id": "9682f817-f758-4c58-845c-e70f3ee68065",
   "metadata": {},
   "source": [
    "# find - index :"
   ]
  },
  {
   "cell_type": "code",
   "execution_count": null,
   "id": "d80cc3a6-4a6e-4812-ac60-e3dd7cc4dcd7",
   "metadata": {},
   "outputs": [],
   "source": [
    "# o l a   o l a   o l  a     o l  a\n",
    "# 0 1 2 3 4 5 6 7 8 9 10 11 12 13 14"
   ]
  },
  {
   "cell_type": "code",
   "execution_count": 64,
   "id": "ff0f7d39-d7d8-4751-9267-ebf4b3358abf",
   "metadata": {},
   "outputs": [
    {
     "data": {
      "text/plain": [
       "1"
      ]
     },
     "execution_count": 64,
     "metadata": {},
     "output_type": "execute_result"
    }
   ],
   "source": [
    "str1='ola ola ola'\n",
    "str1.index('l') # Sub-String case gives lowest index"
   ]
  },
  {
   "cell_type": "code",
   "execution_count": 36,
   "id": "b6148def-9956-4d5e-8384-01a9883aff59",
   "metadata": {},
   "outputs": [
    {
     "data": {
      "text/plain": [
       "5"
      ]
     },
     "execution_count": 36,
     "metadata": {},
     "output_type": "execute_result"
    }
   ],
   "source": [
    "str1='ola ola ola'\n",
    "str1.index('l',4)"
   ]
  },
  {
   "cell_type": "code",
   "execution_count": 42,
   "id": "43ebcd67-c41c-49e0-9e49-64a88778c36f",
   "metadata": {},
   "outputs": [
    {
     "data": {
      "text/plain": [
       "1"
      ]
     },
     "execution_count": 42,
     "metadata": {},
     "output_type": "execute_result"
    }
   ],
   "source": [
    "str1='ola ola ola'\n",
    "str1.index('l',1,10)\n",
    "\n",
    "# Docstring:\n",
    "# S.index(sub[, start[, end]]) -> int\n",
    "\n",
    "# Return the lowest index in S where substring sub is found,\n",
    "# such that sub is contained within S[start:end].  Optional\n",
    "# arguments start and end are interpreted as in slice notation.\n",
    "\n",
    "# Raises ValueError when the substring is not found.\n",
    "# Type:      builtin_function_or_method"
   ]
  },
  {
   "cell_type": "code",
   "execution_count": 54,
   "id": "c780eb41-e61a-4962-b9bc-9b4358787d72",
   "metadata": {},
   "outputs": [
    {
     "data": {
      "text/plain": [
       "9"
      ]
     },
     "execution_count": 54,
     "metadata": {},
     "output_type": "execute_result"
    }
   ],
   "source": [
    "# o l a   o l a   o l  a     o l  a\n",
    "# 0 1 2 3 4 5 6 7 8 9 10 11 12 13 14\n",
    "\n",
    "str1='ola ola ola ola'\n",
    "str1.index('l',6)"
   ]
  },
  {
   "cell_type": "code",
   "execution_count": 56,
   "id": "09d7a739-19ce-40c5-a14d-3ff39b72da84",
   "metadata": {},
   "outputs": [
    {
     "data": {
      "text/plain": [
       "5"
      ]
     },
     "execution_count": 56,
     "metadata": {},
     "output_type": "execute_result"
    }
   ],
   "source": [
    "# o l a   o l a   o l  a     o l  a\n",
    "# 0 1 2 3 4 5 6 7 8 9 10 11 12 13 14\n",
    "\n",
    "str1='ola ola ola ola'\n",
    "str1.index('l',4,12)  # 5,9"
   ]
  },
  {
   "cell_type": "code",
   "execution_count": 58,
   "id": "00330d5a-0aa4-4c4a-8612-b01b911accae",
   "metadata": {},
   "outputs": [
    {
     "data": {
      "text/plain": [
       "5"
      ]
     },
     "execution_count": 58,
     "metadata": {},
     "output_type": "execute_result"
    }
   ],
   "source": [
    "# o l a   o l a   o l  a     o l  a\n",
    "# 0 1 2 3 4 5 6 7 8 9 10 11 12 13 14\n",
    "\n",
    "str1='ola ola ola ola'\n",
    "str1.index('l',2)  # 5"
   ]
  },
  {
   "cell_type": "code",
   "execution_count": 60,
   "id": "7e232b3c-5b2e-4b48-8846-aeb2e4cb7365",
   "metadata": {},
   "outputs": [
    {
     "data": {
      "text/plain": [
       "9"
      ]
     },
     "execution_count": 60,
     "metadata": {},
     "output_type": "execute_result"
    }
   ],
   "source": [
    "# o l a   o l a   o l  a     o l  a\n",
    "# 0 1 2 3 4 5 6 7 8 9 10 11 12 13 14\n",
    "\n",
    "str1='ola ola ola ola'\n",
    "str1.index('l',6)  # 9"
   ]
  },
  {
   "cell_type": "code",
   "execution_count": 62,
   "id": "6c7554a8-dfd2-447d-901c-6e597fd081ab",
   "metadata": {},
   "outputs": [
    {
     "data": {
      "text/plain": [
       "13"
      ]
     },
     "execution_count": 62,
     "metadata": {},
     "output_type": "execute_result"
    }
   ],
   "source": [
    "# o l a   o l a   o l  a     o l  a\n",
    "# 0 1 2 3 4 5 6 7 8 9 10 11 12 13 14\n",
    "\n",
    "str1='ola ola ola ola'\n",
    "str1.index('l',10)  # 13"
   ]
  },
  {
   "cell_type": "code",
   "execution_count": 68,
   "id": "1ce382ce-aa0a-403a-9ee9-edbbe495bb34",
   "metadata": {},
   "outputs": [
    {
     "name": "stdout",
     "output_type": "stream",
     "text": [
      "9\n",
      "5\n",
      "5\n",
      "9\n",
      "13\n"
     ]
    }
   ],
   "source": [
    "# o l a   o l a   o l  a     o l  a\n",
    "# 0 1 2 3 4 5 6 7 8 9 10 11 12 13 14\n",
    "\n",
    "str1='ola ola ola ola'\n",
    "print(str1.index('l',6))\n",
    "print(str1.index('l',4,12))\n",
    "print(str1.index('l',2))\n",
    "print(str1.index('l',6))\n",
    "print(str1.index('l',10))"
   ]
  },
  {
   "cell_type": "code",
   "execution_count": 86,
   "id": "0bbc73fd-070e-42cf-9672-d7ecdb4c7ec0",
   "metadata": {},
   "outputs": [
    {
     "data": {
      "text/plain": [
       "'welcome weLcome'"
      ]
     },
     "execution_count": 86,
     "metadata": {},
     "output_type": "execute_result"
    }
   ],
   "source": [
    "# w e l c o m e   w e l  c  o  m  e\n",
    "# 0 1 2 3 4 5 6 7 8 9 10 11 12 13 14\n",
    "\n",
    "str1='welcome welcome'\n",
    "i1=str1.index('l')\n",
    "str2=str1[0:i1+1]\n",
    "str3=str1[i1+1:]\n",
    "str4=str3.replace('l','L')\n",
    "str2+str4"
   ]
  },
  {
   "cell_type": "code",
   "execution_count": 88,
   "id": "c5bc4115-2193-43f2-932d-ab911e96bba8",
   "metadata": {},
   "outputs": [
    {
     "data": {
      "text/plain": [
       "'resta$t'"
      ]
     },
     "execution_count": 88,
     "metadata": {},
     "output_type": "execute_result"
    }
   ],
   "source": [
    "# restart --> resta$t\n",
    "\n",
    "str1='restart'\n",
    "i1=str1.index('r')\n",
    "str2=str1[0:i1+1]\n",
    "str3=str1[i1+1:]\n",
    "str4=str3.replace('r','$')\n",
    "str2+str4"
   ]
  },
  {
   "cell_type": "code",
   "execution_count": 90,
   "id": "644a97fb-db61-4b58-aed4-24d7884de729",
   "metadata": {},
   "outputs": [
    {
     "data": {
      "text/plain": [
       "'resta$t'"
      ]
     },
     "execution_count": 90,
     "metadata": {},
     "output_type": "execute_result"
    }
   ],
   "source": [
    "str1='restart'\n",
    "i1=str1.index('r')\n",
    "s1=str1[0:i1+1]\n",
    "s2=str1[i1+1:]\n",
    "s3=str3.replace('r','$')\n",
    "s1+s3"
   ]
  },
  {
   "cell_type": "code",
   "execution_count": 92,
   "id": "b5e9deb9-ad1e-4d78-bc3c-327e534aa0c9",
   "metadata": {},
   "outputs": [
    {
     "name": "stdout",
     "output_type": "stream",
     "text": [
      "1 5 9 13\n"
     ]
    }
   ],
   "source": [
    "str1='ola ola ola ola'\n",
    "i1=str1.index('l')\n",
    "i2=str1.index('l',i1+1)\n",
    "i3=str1.index('l',i2+1)\n",
    "i4=str1.index('l',i3+1)\n",
    "print(i1,i2,i3,i4)"
   ]
  },
  {
   "cell_type": "code",
   "execution_count": 98,
   "id": "a0ed3aea-1024-417d-9025-b31986fa9798",
   "metadata": {},
   "outputs": [
    {
     "name": "stdout",
     "output_type": "stream",
     "text": [
      "1 5 9 13\n"
     ]
    }
   ],
   "source": [
    "str1='ola ola ola ola'\n",
    "i1=str1.find('l')\n",
    "i2=str1.find('l',i1+1)\n",
    "i3=str1.find('l',i2+1)\n",
    "i4=str1.find('l',i3+1)\n",
    "print(i1,i2,i3,i4)"
   ]
  },
  {
   "cell_type": "code",
   "execution_count": 100,
   "id": "e23ed8b0-fed2-4ef8-a89e-728857350f1b",
   "metadata": {},
   "outputs": [
    {
     "data": {
      "text/plain": [
       "-1"
      ]
     },
     "execution_count": 100,
     "metadata": {},
     "output_type": "execute_result"
    }
   ],
   "source": [
    "str1='ola ola ola'\n",
    "str1.find('z')"
   ]
  },
  {
   "cell_type": "code",
   "execution_count": 104,
   "id": "3da83cab-6078-41a1-950a-05298c8cd366",
   "metadata": {},
   "outputs": [
    {
     "name": "stdout",
     "output_type": "stream",
     "text": [
      "0\n",
      "ola ola ola\n"
     ]
    },
    {
     "ename": "ValueError",
     "evalue": "substring not found",
     "output_type": "error",
     "traceback": [
      "\u001b[1;31m---------------------------------------------------------------------------\u001b[0m",
      "\u001b[1;31mValueError\u001b[0m                                Traceback (most recent call last)",
      "Cell \u001b[1;32mIn[104], line 4\u001b[0m\n\u001b[0;32m      2\u001b[0m \u001b[38;5;28mprint\u001b[39m(str1\u001b[38;5;241m.\u001b[39mcount(\u001b[38;5;124m'\u001b[39m\u001b[38;5;124mz\u001b[39m\u001b[38;5;124m'\u001b[39m))\n\u001b[0;32m      3\u001b[0m \u001b[38;5;28mprint\u001b[39m(str1\u001b[38;5;241m.\u001b[39mreplace(\u001b[38;5;124m'\u001b[39m\u001b[38;5;124mz\u001b[39m\u001b[38;5;124m'\u001b[39m,\u001b[38;5;124m'\u001b[39m\u001b[38;5;124ml\u001b[39m\u001b[38;5;124m'\u001b[39m))\n\u001b[1;32m----> 4\u001b[0m \u001b[38;5;28mprint\u001b[39m(str1\u001b[38;5;241m.\u001b[39mindex(\u001b[38;5;124m'\u001b[39m\u001b[38;5;124mz\u001b[39m\u001b[38;5;124m'\u001b[39m))\n\u001b[0;32m      5\u001b[0m \u001b[38;5;28mprint\u001b[39m(str1\u001b[38;5;241m.\u001b[39mfind(\u001b[38;5;124m'\u001b[39m\u001b[38;5;124mz\u001b[39m\u001b[38;5;124m'\u001b[39m))\n",
      "\u001b[1;31mValueError\u001b[0m: substring not found"
     ]
    }
   ],
   "source": [
    "str1='ola ola ola'\n",
    "print(str1.count('z'))\n",
    "print(str1.replace('z','l'))\n",
    "print(str1.index('z'))\n",
    "print(str1.find('z'))"
   ]
  },
  {
   "cell_type": "code",
   "execution_count": 106,
   "id": "a98b644d-15d4-4912-ac50-78232db713ca",
   "metadata": {},
   "outputs": [
    {
     "name": "stdout",
     "output_type": "stream",
     "text": [
      "0\n"
     ]
    }
   ],
   "source": [
    "str1='ola ola ola'\n",
    "print(str1.count('z'))"
   ]
  },
  {
   "cell_type": "code",
   "execution_count": 108,
   "id": "9092f579-2d69-4d95-a72f-597b5039bd4d",
   "metadata": {},
   "outputs": [
    {
     "name": "stdout",
     "output_type": "stream",
     "text": [
      "ola ola ola\n"
     ]
    }
   ],
   "source": [
    "str1='ola ola ola'\n",
    "print(str1.replace('z','l'))"
   ]
  },
  {
   "cell_type": "code",
   "execution_count": 110,
   "id": "bfca53ca-23a4-44e1-89aa-fe523084ada4",
   "metadata": {},
   "outputs": [
    {
     "ename": "ValueError",
     "evalue": "substring not found",
     "output_type": "error",
     "traceback": [
      "\u001b[1;31m---------------------------------------------------------------------------\u001b[0m",
      "\u001b[1;31mValueError\u001b[0m                                Traceback (most recent call last)",
      "Cell \u001b[1;32mIn[110], line 2\u001b[0m\n\u001b[0;32m      1\u001b[0m str1\u001b[38;5;241m=\u001b[39m\u001b[38;5;124m'\u001b[39m\u001b[38;5;124mola ola ola\u001b[39m\u001b[38;5;124m'\u001b[39m\n\u001b[1;32m----> 2\u001b[0m \u001b[38;5;28mprint\u001b[39m(str1\u001b[38;5;241m.\u001b[39mindex(\u001b[38;5;124m'\u001b[39m\u001b[38;5;124mz\u001b[39m\u001b[38;5;124m'\u001b[39m))\n",
      "\u001b[1;31mValueError\u001b[0m: substring not found"
     ]
    }
   ],
   "source": [
    "str1='ola ola ola'\n",
    "print(str1.index('z'))"
   ]
  },
  {
   "cell_type": "code",
   "execution_count": 112,
   "id": "a60784cd-2e60-4884-95df-9c860e9d3997",
   "metadata": {},
   "outputs": [
    {
     "name": "stdout",
     "output_type": "stream",
     "text": [
      "-1\n"
     ]
    }
   ],
   "source": [
    "str1='ola ola ola'\n",
    "print(str1.find('z'))"
   ]
  },
  {
   "cell_type": "code",
   "execution_count": 122,
   "id": "e32fa20b-4eda-4da4-b0a9-2b22f8da64b1",
   "metadata": {},
   "outputs": [
    {
     "name": "stdout",
     "output_type": "stream",
     "text": [
      "first name: virat\n",
      "second name: kohli\n",
      "c name: rcb\n"
     ]
    }
   ],
   "source": [
    "# Extraction means slice\n",
    "# Slice need numbers\n",
    "# To get number index or find\n",
    "str1='virat.kohli@rcb.com'\n",
    "print(\"first name:\",str1[:str1.find('.')])\n",
    "print(\"second name:\",str1[str1.find('.')+1:str1.find('@')])\n",
    "print(\"c name:\",str1[str1.find('@')+1:str1.find('.',str1.find('.')+1)])\n",
    "\n",
    "# First name : before '.'\n",
    "# Second name : '.' and '@'\n",
    "# cname : between '@' and '.'"
   ]
  },
  {
   "cell_type": "code",
   "execution_count": 13,
   "id": "aa8c49a3-b40c-4010-95bf-c80325f0f465",
   "metadata": {},
   "outputs": [
    {
     "name": "stdout",
     "output_type": "stream",
     "text": [
      "\n",
      "    first   name - virat\n",
      "    last    name - rohit\n",
      "    company name - rcb\n",
      "    \n",
      "\n",
      "    first   name - rohith\n",
      "    last    name - rohith\n",
      "    company name - mi\n",
      "    \n",
      "\n",
      "    first   name - ms\n",
      "    last    name - rohit\n",
      "    company name - csk\n",
      "    \n"
     ]
    }
   ],
   "source": [
    "s1='virat.kohli@rcb.com'\n",
    "s2='rohith.sharma@mi.com'\n",
    "s3='ms.dhoni@csk.com'\n",
    "mylist=[s1,s2,s3]\n",
    "for i in mylist:\n",
    "    s1=i\n",
    "    i1=s1.index('.')\n",
    "    fname=s1[:i1]\n",
    "\n",
    "    s11=s1[i1+1:]\n",
    "    i2=s11.index('@')\n",
    "    lname=s2[:i2]\n",
    "\n",
    "    s22=s11[i2+1:]\n",
    "    i3=s22.index('.')\n",
    "    cname=s22[:i3]\n",
    "\n",
    "    print(f\"\"\"\n",
    "    first   name - {fname}\n",
    "    last    name - {lname}\n",
    "    company name - {cname}\n",
    "    \"\"\")"
   ]
  },
  {
   "cell_type": "code",
   "execution_count": 15,
   "id": "4246a334-6382-4bcb-95b4-262fc311254e",
   "metadata": {},
   "outputs": [
    {
     "name": "stdin",
     "output_type": "stream",
     "text": [
      "Enter email (format: firstname.lastname@company.com):  ms.dhoni@csk.com\n"
     ]
    },
    {
     "name": "stdout",
     "output_type": "stream",
     "text": [
      "\n",
      "    First name   : ms\n",
      "    Last name    : dhoni\n",
      "    Company name : csk\n",
      "    \n"
     ]
    },
    {
     "name": "stdin",
     "output_type": "stream",
     "text": [
      "Enter email (format: firstname.lastname@company.com):  rohit.sharma@mi.com\n"
     ]
    },
    {
     "name": "stdout",
     "output_type": "stream",
     "text": [
      "\n",
      "    First name   : rohit\n",
      "    Last name    : sharma\n",
      "    Company name : mi\n",
      "    \n"
     ]
    },
    {
     "name": "stdin",
     "output_type": "stream",
     "text": [
      "Enter email (format: firstname.lastname@company.com):  virat.kohli@rcb.com\n"
     ]
    },
    {
     "name": "stdout",
     "output_type": "stream",
     "text": [
      "\n",
      "    First name   : virat\n",
      "    Last name    : kohli\n",
      "    Company name : rcb\n",
      "    \n"
     ]
    }
   ],
   "source": [
    "for _ in range(3):\n",
    "    str1 = input(\"Enter email (format: firstname.lastname@company.com): \")\n",
    "    \n",
    "    first_name = str1[:str1.find('.')]\n",
    "    last_name = str1[str1.find('.')+1:str1.find('@')]\n",
    "    company_name = str1[str1.find('@')+1:str1.find('.', str1.find('@'))]\n",
    "\n",
    "    print(f\"\"\"\n",
    "    First name   : {first_name}\n",
    "    Last name    : {last_name}\n",
    "    Company name : {company_name}\n",
    "    \"\"\")"
   ]
  }
 ],
 "metadata": {
  "kernelspec": {
   "display_name": "Python [conda env:base] *",
   "language": "python",
   "name": "conda-base-py"
  },
  "language_info": {
   "codemirror_mode": {
    "name": "ipython",
    "version": 3
   },
   "file_extension": ".py",
   "mimetype": "text/x-python",
   "name": "python",
   "nbconvert_exporter": "python",
   "pygments_lexer": "ipython3",
   "version": "3.12.7"
  }
 },
 "nbformat": 4,
 "nbformat_minor": 5
}
