{
 "cells": [
  {
   "cell_type": "markdown",
   "id": "dd45b7d1-b753-4e2c-a15a-83239a3910fe",
   "metadata": {},
   "source": [
    "# Data Types"
   ]
  },
  {
   "cell_type": "markdown",
   "id": "bfe5fa44-abf6-45a0-a19a-6220489ad020",
   "metadata": {},
   "source": [
    "- int (integer)\n",
    "\n",
    "- float\n",
    "\n",
    "- str (string)\n",
    "\n",
    "- bool (boolean)\n",
    "\n",
    "- list\n",
    "\n",
    "- tuple\n",
    "\n",
    "- dict (dictionary)\n",
    "\n",
    "- set\n",
    "\n",
    "- frozen set\n",
    "\n",
    "- bytes\n",
    "\n",
    "- bytearray\n",
    "\n",
    "- memoryview\n",
    "\n",
    "- range\n",
    "\n",
    "- None\n",
    "\n",
    "- complex"
   ]
  },
  {
   "cell_type": "markdown",
   "id": "9071f133-d284-43de-94cc-2f2a8bf82c68",
   "metadata": {},
   "source": [
    "$int$ #esc m"
   ]
  },
  {
   "cell_type": "code",
   "execution_count": 19,
   "id": "0f0d15cd-3145-4b59-a05a-ee735faa769f",
   "metadata": {},
   "outputs": [],
   "source": [
    "number=100"
   ]
  },
  {
   "cell_type": "code",
   "execution_count": 21,
   "id": "c33e129f-3976-4344-b286-05252aa41a9d",
   "metadata": {},
   "outputs": [
    {
     "data": {
      "text/plain": [
       "100"
      ]
     },
     "execution_count": 21,
     "metadata": {},
     "output_type": "execute_result"
    }
   ],
   "source": [
    "number"
   ]
  },
  {
   "cell_type": "code",
   "execution_count": 23,
   "id": "62ec7952-070a-4769-a00b-1e38e5c5447e",
   "metadata": {},
   "outputs": [
    {
     "data": {
      "text/plain": [
       "int"
      ]
     },
     "execution_count": 23,
     "metadata": {},
     "output_type": "execute_result"
    }
   ],
   "source": [
    "type(number)"
   ]
  },
  {
   "cell_type": "markdown",
   "id": "86d0e5a4-3376-4046-a63a-495cab7283d3",
   "metadata": {},
   "source": [
    "# **Float**"
   ]
  },
  {
   "cell_type": "code",
   "execution_count": 26,
   "id": "9ed18af3-b0ce-449c-bdf9-936875762306",
   "metadata": {},
   "outputs": [
    {
     "data": {
      "text/plain": [
       "float"
      ]
     },
     "execution_count": 26,
     "metadata": {},
     "output_type": "execute_result"
    }
   ],
   "source": [
    "number_one=100.5\n",
    "type(number_one)"
   ]
  },
  {
   "cell_type": "markdown",
   "id": "0acb9ee7-4088-4a0d-b0c3-bdcc488e1853",
   "metadata": {},
   "source": [
    "# **String**"
   ]
  },
  {
   "cell_type": "code",
   "execution_count": 34,
   "id": "5ff3151e-4ad4-4914-8d95-dab3cf2ba7b0",
   "metadata": {},
   "outputs": [
    {
     "data": {
      "text/plain": [
       "'Hemant'"
      ]
     },
     "execution_count": 34,
     "metadata": {},
     "output_type": "execute_result"
    }
   ],
   "source": [
    "name='Hemant'\n",
    "name"
   ]
  },
  {
   "cell_type": "code",
   "execution_count": 36,
   "id": "c1f27673-9989-4157-abd1-94e2dba6b292",
   "metadata": {},
   "outputs": [
    {
     "data": {
      "text/plain": [
       "'python'"
      ]
     },
     "execution_count": 36,
     "metadata": {},
     "output_type": "execute_result"
    }
   ],
   "source": [
    "name1=\"python\"\n",
    "name1"
   ]
  },
  {
   "cell_type": "code",
   "execution_count": 44,
   "id": "b662d6e8-b882-4ba0-bfcf-b979d5b2676f",
   "metadata": {},
   "outputs": [
    {
     "name": "stdout",
     "output_type": "stream",
     "text": [
      "Hemant\n"
     ]
    }
   ],
   "source": [
    "print(name) # when we print quotes will NOT display"
   ]
  },
  {
   "cell_type": "code",
   "execution_count": 46,
   "id": "f373ed47-171d-4961-9247-8d9fc1695aba",
   "metadata": {},
   "outputs": [
    {
     "name": "stdout",
     "output_type": "stream",
     "text": [
      "python\n"
     ]
    }
   ],
   "source": [
    "print(name1) # quotes will NOT display"
   ]
  },
  {
   "cell_type": "code",
   "execution_count": 48,
   "id": "5508f6db-59ab-4116-9558-90c5efcf68c6",
   "metadata": {},
   "outputs": [
    {
     "data": {
      "text/plain": [
       "str"
      ]
     },
     "execution_count": 48,
     "metadata": {},
     "output_type": "execute_result"
    }
   ],
   "source": [
    "type(name)"
   ]
  },
  {
   "cell_type": "code",
   "execution_count": 50,
   "id": "498f9cf4-ebe1-4e4c-b13c-d4e9c54d2d96",
   "metadata": {},
   "outputs": [
    {
     "data": {
      "text/plain": [
       "str"
      ]
     },
     "execution_count": 50,
     "metadata": {},
     "output_type": "execute_result"
    }
   ],
   "source": [
    "type(name1)"
   ]
  },
  {
   "cell_type": "code",
   "execution_count": 64,
   "id": "40caf898-54a5-4dbb-9df7-4f8b5507d455",
   "metadata": {},
   "outputs": [],
   "source": [
    "a=100      # without decimal - int\n",
    "b=100.25   # with    decimal - float"
   ]
  },
  {
   "cell_type": "code",
   "execution_count": 60,
   "id": "d9e8df8b-e3e5-4b59-b3ca-3fc8b01b2329",
   "metadata": {},
   "outputs": [
    {
     "data": {
      "text/plain": [
       "int"
      ]
     },
     "execution_count": 60,
     "metadata": {},
     "output_type": "execute_result"
    }
   ],
   "source": [
    "type(a)"
   ]
  },
  {
   "cell_type": "code",
   "execution_count": 62,
   "id": "d1de5e0f-bb9d-48e8-a5c5-feec0f0f0ee0",
   "metadata": {},
   "outputs": [
    {
     "data": {
      "text/plain": [
       "float"
      ]
     },
     "execution_count": 62,
     "metadata": {},
     "output_type": "execute_result"
    }
   ],
   "source": [
    "type(b)"
   ]
  },
  {
   "cell_type": "code",
   "execution_count": 66,
   "id": "5b496b25-eb4a-4205-90d4-4e4b1566bdc7",
   "metadata": {},
   "outputs": [
    {
     "name": "stdout",
     "output_type": "stream",
     "text": [
      "<class 'str'>\n"
     ]
    }
   ],
   "source": [
    "name='Hemant'\n",
    "print(type(name))"
   ]
  },
  {
   "cell_type": "code",
   "execution_count": 70,
   "id": "91700a28-ab98-4578-bcc6-2477458d265e",
   "metadata": {},
   "outputs": [
    {
     "name": "stdout",
     "output_type": "stream",
     "text": [
      "Hemant\n"
     ]
    },
    {
     "data": {
      "text/plain": [
       "NoneType"
      ]
     },
     "execution_count": 70,
     "metadata": {},
     "output_type": "execute_result"
    }
   ],
   "source": [
    "name='Hemant'\n",
    "type(print(name))  #print - OUTPUT ; then type of OUTPUT is NONE"
   ]
  },
  {
   "cell_type": "code",
   "execution_count": 72,
   "id": "4ea19152-a95d-4cf8-b5e2-08b34558f914",
   "metadata": {},
   "outputs": [
    {
     "data": {
      "text/plain": [
       "str"
      ]
     },
     "execution_count": 72,
     "metadata": {},
     "output_type": "execute_result"
    }
   ],
   "source": [
    "name='Hemant'\n",
    "type(name)"
   ]
  },
  {
   "cell_type": "markdown",
   "id": "2950c068-f80e-479b-ad2c-53d3a8cf4c64",
   "metadata": {},
   "source": [
    "# **NOTE :**\n",
    "\n",
    "- print is only for display the OUTPUT\n",
    "\n",
    "- Do not perform any operations on print\n",
    "\n",
    "- Strings can write either single or double quotes\n",
    "\n",
    "- But python by default display by using single quotes only\n",
    "\n",
    "- When we print the string the output in with out quotes"
   ]
  },
  {
   "cell_type": "code",
   "execution_count": 88,
   "id": "de1bdf7c-e536-42af-a02d-ed96e66622b1",
   "metadata": {},
   "outputs": [
    {
     "data": {
      "text/plain": [
       "\"I love 'Python'\""
      ]
     },
     "execution_count": 88,
     "metadata": {},
     "output_type": "execute_result"
    }
   ],
   "source": [
    "str1=\"I love 'Python'\"\n",
    "str1"
   ]
  },
  {
   "cell_type": "code",
   "execution_count": 90,
   "id": "a8f129c0-2371-45aa-afde-d7c95a518d78",
   "metadata": {},
   "outputs": [
    {
     "data": {
      "text/plain": [
       "'I love \"Python\"'"
      ]
     },
     "execution_count": 90,
     "metadata": {},
     "output_type": "execute_result"
    }
   ],
   "source": [
    "str2='I love \"Python\"'\n",
    "str2"
   ]
  },
  {
   "cell_type": "code",
   "execution_count": 92,
   "id": "078a8bba-8e0e-48ee-8d08-8d6c31db3c8f",
   "metadata": {},
   "outputs": [
    {
     "name": "stdout",
     "output_type": "stream",
     "text": [
      "I love 'Python'\n",
      "I love \"Python\"\n"
     ]
    }
   ],
   "source": [
    "print(str1)\n",
    "print(str2)"
   ]
  },
  {
   "cell_type": "markdown",
   "id": "6d8d45fe-7b12-495e-95ee-e13ec0c93cc0",
   "metadata": {},
   "source": [
    "\"\"\"\n",
    "\n",
    "**Doc string**\n",
    "\n",
    "- Triple quotes also use in strings\n",
    "\n",
    "- Triple quotes means **multiline comment**\n",
    "\n",
    "- In jupyter notebook we have markdown to write the information\n",
    "\n",
    "- But in VS-Code or pycharm there is **NO** markdown option\n",
    "\n",
    "- In order to write any information we need to use triple quotes as multiline comment\n",
    "\n",
    "- This is called as **Doc String**\n",
    "\n",
    "- Triple quotes means conveying the information\n",
    "\n",
    "\"\"\""
   ]
  },
  {
   "cell_type": "markdown",
   "id": "4eb43dfd-d971-40d0-a093-a49d08f512c2",
   "metadata": {},
   "source": [
    "# **Boolean**"
   ]
  },
  {
   "cell_type": "code",
   "execution_count": 107,
   "id": "a7109833-73f0-465a-9c05-946e75a7fde7",
   "metadata": {},
   "outputs": [
    {
     "data": {
      "text/plain": [
       "bool"
      ]
     },
     "execution_count": 107,
     "metadata": {},
     "output_type": "execute_result"
    }
   ],
   "source": [
    "n1=True\n",
    "type(n1)"
   ]
  },
  {
   "cell_type": "code",
   "execution_count": 109,
   "id": "a0c6b2e2-afc0-4c22-816a-10e5a9aa51cd",
   "metadata": {},
   "outputs": [
    {
     "data": {
      "text/plain": [
       "bool"
      ]
     },
     "execution_count": 109,
     "metadata": {},
     "output_type": "execute_result"
    }
   ],
   "source": [
    "n2=False\n",
    "type(n2)"
   ]
  },
  {
   "cell_type": "code",
   "execution_count": 111,
   "id": "8f9b4092-e129-4f18-aec4-a1e3aac7961b",
   "metadata": {},
   "outputs": [],
   "source": [
    "true=100 #int\n",
    "true=True #bool\n",
    "true='true' #str\n",
    "\n",
    "#true ---- Variable\n",
    "#True ---- boolean\n",
    "#'true'--- string"
   ]
  }
 ],
 "metadata": {
  "kernelspec": {
   "display_name": "Python [conda env:base] *",
   "language": "python",
   "name": "conda-base-py"
  },
  "language_info": {
   "codemirror_mode": {
    "name": "ipython",
    "version": 3
   },
   "file_extension": ".py",
   "mimetype": "text/x-python",
   "name": "python",
   "nbconvert_exporter": "python",
   "pygments_lexer": "ipython3",
   "version": "3.12.7"
  }
 },
 "nbformat": 4,
 "nbformat_minor": 5
}
