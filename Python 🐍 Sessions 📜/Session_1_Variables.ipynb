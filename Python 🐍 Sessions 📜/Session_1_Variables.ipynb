{
 "cells": [
  {
   "cell_type": "code",
   "execution_count": null,
   "id": "fe08ca23-c18a-46fa-a48f-bf6edf3186e8",
   "metadata": {},
   "outputs": [],
   "source": [
    "=========================== Python Basic level ===========================\n",
    "1. Variables\n",
    "2. Data types\n",
    "3. Data type conversion (type cast)\n",
    "4. print,eval,input\n",
    "5. Basic codes\n",
    "6. Packages information we start using packages\n",
    "7. conditional statements\n",
    "8. functions\n",
    "9. loops\n",
    "\n",
    "=========================== Python Intermediate Core python ===========================\n",
    "10. Strings\n",
    "11. List\n",
    "12. Tuple\n",
    "13. Sets\n",
    "14. Dictionary\n",
    "15. List comprehensions\n",
    "16. Lambda functions\n",
    "17. file handling sessions\n",
    "\n",
    "=========================== Python Advanced OOPS ===========================\n",
    "python + statistics\n",
    "python + ml\n",
    "python + dl\n",
    "python + nlp\n",
    "python + genai"
   ]
  },
  {
   "cell_type": "markdown",
   "id": "4165e3c1-7de7-4c9d-8e04-8a43b33fd106",
   "metadata": {},
   "source": [
    "**VARIABLES**"
   ]
  },
  {
   "cell_type": "markdown",
   "id": "9940265a-e04f-4e58-a15e-38041bbfec97",
   "metadata": {},
   "source": [
    "- Variable is used to stroe the values \n",
    "- and that values can be changed"
   ]
  },
  {
   "cell_type": "code",
   "execution_count": 5,
   "id": "9f062294-b7b4-44f7-afa0-29811c52048f",
   "metadata": {},
   "outputs": [
    {
     "data": {
      "text/plain": [
       "100"
      ]
     },
     "execution_count": 5,
     "metadata": {},
     "output_type": "execute_result"
    }
   ],
   "source": [
    "num=100 # 100 is stored in a variable called number\n",
    "num"
   ]
  },
  {
   "cell_type": "code",
   "execution_count": 7,
   "id": "b2135c51-cbbc-4382-ac48-8d1d192e681f",
   "metadata": {},
   "outputs": [
    {
     "data": {
      "text/plain": [
       "100"
      ]
     },
     "execution_count": 7,
     "metadata": {},
     "output_type": "execute_result"
    }
   ],
   "source": [
    "num"
   ]
  },
  {
   "cell_type": "code",
   "execution_count": 9,
   "id": "112b9b33-cd50-4e5a-a2c7-79adfbd5fee9",
   "metadata": {},
   "outputs": [
    {
     "name": "stdout",
     "output_type": "stream",
     "text": [
      "100\n"
     ]
    }
   ],
   "source": [
    "print(num)"
   ]
  },
  {
   "cell_type": "code",
   "execution_count": 11,
   "id": "961ad34b-ca59-43af-8b01-1f6698dea030",
   "metadata": {},
   "outputs": [
    {
     "data": {
      "text/plain": [
       "200"
      ]
     },
     "execution_count": 11,
     "metadata": {},
     "output_type": "execute_result"
    }
   ],
   "source": [
    "num=200\n",
    "num"
   ]
  },
  {
   "cell_type": "code",
   "execution_count": 17,
   "id": "55ba1df5-2fe6-44f1-a6bc-3d253239d9af",
   "metadata": {},
   "outputs": [
    {
     "data": {
      "text/plain": [
       "20"
      ]
     },
     "execution_count": 17,
     "metadata": {},
     "output_type": "execute_result"
    }
   ],
   "source": [
    "a=10\n",
    "b=20\n",
    "a\n",
    "b   #Last line only we can see"
   ]
  },
  {
   "cell_type": "code",
   "execution_count": 15,
   "id": "f2a84830-a9f0-453b-9959-1f422bb49ae1",
   "metadata": {},
   "outputs": [
    {
     "name": "stdout",
     "output_type": "stream",
     "text": [
      "10\n",
      "20\n"
     ]
    }
   ],
   "source": [
    "a=10\n",
    "b=20\n",
    "print(a)\n",
    "print(b)"
   ]
  },
  {
   "cell_type": "code",
   "execution_count": 21,
   "id": "ec298eaf-8cbc-424e-a694-76887b4a02c0",
   "metadata": {},
   "outputs": [
    {
     "data": {
      "text/plain": [
       "(10, 20)"
      ]
     },
     "execution_count": 21,
     "metadata": {},
     "output_type": "execute_result"
    }
   ],
   "source": [
    "a,b"
   ]
  },
  {
   "cell_type": "code",
   "execution_count": 23,
   "id": "19eb6a41-fa37-4520-bf14-fae1de6ba60f",
   "metadata": {},
   "outputs": [
    {
     "name": "stdout",
     "output_type": "stream",
     "text": [
      "10\n",
      "20\n"
     ]
    },
    {
     "data": {
      "text/plain": [
       "(None, None)"
      ]
     },
     "execution_count": 23,
     "metadata": {},
     "output_type": "execute_result"
    }
   ],
   "source": [
    "print(a),print(b)"
   ]
  },
  {
   "cell_type": "code",
   "execution_count": 25,
   "id": "6228368d-7c42-492b-a811-f6b387d43c65",
   "metadata": {},
   "outputs": [
    {
     "name": "stdout",
     "output_type": "stream",
     "text": [
      "10 20\n"
     ]
    }
   ],
   "source": [
    "print(a,b)"
   ]
  },
  {
   "cell_type": "code",
   "execution_count": 27,
   "id": "480a5a9e-1eea-488f-8435-7ff14563613f",
   "metadata": {},
   "outputs": [
    {
     "ename": "SyntaxError",
     "evalue": "invalid syntax. Maybe you meant '==' or ':=' instead of '='? (3374097297.py, line 3)",
     "output_type": "error",
     "traceback": [
      "\u001b[1;36m  Cell \u001b[1;32mIn[27], line 3\u001b[1;36m\u001b[0m\n\u001b[1;33m    a=10,b=20\u001b[0m\n\u001b[1;37m    ^\u001b[0m\n\u001b[1;31mSyntaxError\u001b[0m\u001b[1;31m:\u001b[0m invalid syntax. Maybe you meant '==' or ':=' instead of '='?\n"
     ]
    }
   ],
   "source": [
    "a=10,20\n",
    "a,b=10,20\n",
    "a=10,b=20\n",
    "a=10"
   ]
  },
  {
   "cell_type": "code",
   "execution_count": 39,
   "id": "dffa1a48-f11a-40e7-a088-5f12f44da73f",
   "metadata": {},
   "outputs": [],
   "source": [
    "a=10,20 #2 values can assign to 1 varible"
   ]
  },
  {
   "cell_type": "code",
   "execution_count": 31,
   "id": "5a3ea663-8102-45b4-bf56-e5f24d8a6b66",
   "metadata": {},
   "outputs": [],
   "source": [
    "a,b=10,20"
   ]
  },
  {
   "cell_type": "code",
   "execution_count": 33,
   "id": "a70e509a-a409-45b3-a47b-8edceb5bd593",
   "metadata": {},
   "outputs": [
    {
     "ename": "SyntaxError",
     "evalue": "invalid syntax. Maybe you meant '==' or ':=' instead of '='? (1138183328.py, line 1)",
     "output_type": "error",
     "traceback": [
      "\u001b[1;36m  Cell \u001b[1;32mIn[33], line 1\u001b[1;36m\u001b[0m\n\u001b[1;33m    a=10,b=20\u001b[0m\n\u001b[1;37m    ^\u001b[0m\n\u001b[1;31mSyntaxError\u001b[0m\u001b[1;31m:\u001b[0m invalid syntax. Maybe you meant '==' or ':=' instead of '='?\n"
     ]
    }
   ],
   "source": [
    "a=10,b=20  "
   ]
  },
  {
   "cell_type": "code",
   "execution_count": 35,
   "id": "e35f41d1-3d15-4670-91ef-462b6b651c5c",
   "metadata": {},
   "outputs": [],
   "source": [
    "a=10"
   ]
  },
  {
   "cell_type": "code",
   "execution_count": 37,
   "id": "c7731941-1d08-4d00-94bf-c04d3a594f5a",
   "metadata": {},
   "outputs": [
    {
     "ename": "TypeError",
     "evalue": "cannot unpack non-iterable int object",
     "output_type": "error",
     "traceback": [
      "\u001b[1;31m---------------------------------------------------------------------------\u001b[0m",
      "\u001b[1;31mTypeError\u001b[0m                                 Traceback (most recent call last)",
      "Cell \u001b[1;32mIn[37], line 1\u001b[0m\n\u001b[1;32m----> 1\u001b[0m a,b\u001b[38;5;241m=\u001b[39m\u001b[38;5;241m10\u001b[39m\n",
      "\u001b[1;31mTypeError\u001b[0m: cannot unpack non-iterable int object"
     ]
    }
   ],
   "source": [
    "a,b=10"
   ]
  },
  {
   "cell_type": "code",
   "execution_count": 41,
   "id": "dac95d11-e340-4afa-8093-1a81b56e877f",
   "metadata": {},
   "outputs": [],
   "source": [
    "NUMBER=100\n",
    "number=200"
   ]
  },
  {
   "cell_type": "code",
   "execution_count": 43,
   "id": "35e16895-f6db-476e-9b0f-65c12f5a8578",
   "metadata": {},
   "outputs": [
    {
     "data": {
      "text/plain": [
       "(200, 100)"
      ]
     },
     "execution_count": 43,
     "metadata": {},
     "output_type": "execute_result"
    }
   ],
   "source": [
    "number,NUMBER"
   ]
  },
  {
   "cell_type": "code",
   "execution_count": 45,
   "id": "813ea0ee-ec67-4730-80f3-264deb57e801",
   "metadata": {},
   "outputs": [
    {
     "data": {
      "text/plain": [
       "300"
      ]
     },
     "execution_count": 45,
     "metadata": {},
     "output_type": "execute_result"
    }
   ],
   "source": [
    "NUMBERone=300\n",
    "NUMBERone"
   ]
  },
  {
   "cell_type": "code",
   "execution_count": 47,
   "id": "002090e8-7dd2-4969-a39b-61a0458e4219",
   "metadata": {},
   "outputs": [
    {
     "data": {
      "text/plain": [
       "500"
      ]
     },
     "execution_count": 47,
     "metadata": {},
     "output_type": "execute_result"
    }
   ],
   "source": [
    "number123=500\n",
    "number123   #type 'n' then enter \"tab\""
   ]
  },
  {
   "cell_type": "code",
   "execution_count": 49,
   "id": "fd545a5a-676c-4c18-bce2-7fa83f10563f",
   "metadata": {},
   "outputs": [
    {
     "ename": "SyntaxError",
     "evalue": "invalid decimal literal (2634384393.py, line 1)",
     "output_type": "error",
     "traceback": [
      "\u001b[1;36m  Cell \u001b[1;32mIn[49], line 1\u001b[1;36m\u001b[0m\n\u001b[1;33m    123number=600\u001b[0m\n\u001b[1;37m      ^\u001b[0m\n\u001b[1;31mSyntaxError\u001b[0m\u001b[1;31m:\u001b[0m invalid decimal literal\n"
     ]
    }
   ],
   "source": [
    "123number=600\n",
    "123number"
   ]
  },
  {
   "cell_type": "code",
   "execution_count": 51,
   "id": "55084929-b06c-4587-bc5c-081ddf748892",
   "metadata": {},
   "outputs": [
    {
     "ename": "SyntaxError",
     "evalue": "invalid decimal literal (2361809161.py, line 5)",
     "output_type": "error",
     "traceback": [
      "\u001b[1;36m  Cell \u001b[1;32mIn[51], line 5\u001b[1;36m\u001b[0m\n\u001b[1;33m    123number = 500 #fail\u001b[0m\n\u001b[1;37m      ^\u001b[0m\n\u001b[1;31mSyntaxError\u001b[0m\u001b[1;31m:\u001b[0m invalid decimal literal\n"
     ]
    }
   ],
   "source": [
    "number  = 100 #work\n",
    "NUMBER = 200 #work\n",
    "NUMBERone = 300 #work\n",
    "number123 = 400 #work\n",
    "123number = 500 #fail"
   ]
  },
  {
   "cell_type": "markdown",
   "id": "78e7a508-ce5e-4119-9b00-ecb687f332e3",
   "metadata": {},
   "source": [
    "**SPECIAL CHARACTERS**"
   ]
  },
  {
   "cell_type": "code",
   "execution_count": 53,
   "id": "48eb481e-9ea4-4fe9-9a67-65fe04990236",
   "metadata": {},
   "outputs": [
    {
     "ename": "SyntaxError",
     "evalue": "cannot assign to expression here. Maybe you meant '==' instead of '='? (4196492075.py, line 1)",
     "output_type": "error",
     "traceback": [
      "\u001b[1;36m  Cell \u001b[1;32mIn[53], line 1\u001b[1;36m\u001b[0m\n\u001b[1;33m    number&one = 600\u001b[0m\n\u001b[1;37m    ^\u001b[0m\n\u001b[1;31mSyntaxError\u001b[0m\u001b[1;31m:\u001b[0m cannot assign to expression here. Maybe you meant '==' instead of '='?\n"
     ]
    }
   ],
   "source": [
    "number&one = 600\n",
    "number&one      #FAILS"
   ]
  },
  {
   "cell_type": "code",
   "execution_count": 55,
   "id": "6a596004-0b03-4022-993d-f791ec5534fa",
   "metadata": {},
   "outputs": [
    {
     "ename": "SyntaxError",
     "evalue": "invalid syntax (3762185739.py, line 1)",
     "output_type": "error",
     "traceback": [
      "\u001b[1;36m  Cell \u001b[1;32mIn[55], line 1\u001b[1;36m\u001b[0m\n\u001b[1;33m    number one=900\u001b[0m\n\u001b[1;37m           ^\u001b[0m\n\u001b[1;31mSyntaxError\u001b[0m\u001b[1;31m:\u001b[0m invalid syntax\n"
     ]
    }
   ],
   "source": [
    "number one=900\n",
    "number one"
   ]
  },
  {
   "cell_type": "code",
   "execution_count": 59,
   "id": "f6b8d3dd-0cbf-499e-a9ec-80a90088c5a9",
   "metadata": {},
   "outputs": [
    {
     "data": {
      "text/plain": [
       "900"
      ]
     },
     "execution_count": 59,
     "metadata": {},
     "output_type": "execute_result"
    }
   ],
   "source": [
    "number_one=900\n",
    "number_one"
   ]
  },
  {
   "cell_type": "code",
   "execution_count": 65,
   "id": "88575486-196e-4e53-88a9-8c3037156663",
   "metadata": {},
   "outputs": [
    {
     "data": {
      "text/plain": [
       "1000"
      ]
     },
     "execution_count": 65,
     "metadata": {},
     "output_type": "execute_result"
    }
   ],
   "source": [
    "_=1000\n",
    "_"
   ]
  },
  {
   "cell_type": "code",
   "execution_count": 69,
   "id": "e82fb2d6-c3be-475a-8607-d0b26d4820b2",
   "metadata": {},
   "outputs": [
    {
     "ename": "SyntaxError",
     "evalue": "cannot assign to expression here. Maybe you meant '==' instead of '='? (3815205314.py, line 1)",
     "output_type": "error",
     "traceback": [
      "\u001b[1;36m  Cell \u001b[1;32mIn[69], line 1\u001b[1;36m\u001b[0m\n\u001b[1;33m    number&one=200 #FAIL\u001b[0m\n\u001b[1;37m    ^\u001b[0m\n\u001b[1;31mSyntaxError\u001b[0m\u001b[1;31m:\u001b[0m cannot assign to expression here. Maybe you meant '==' instead of '='?\n"
     ]
    }
   ],
   "source": [
    "number&one=200 #FAIL\n",
    "number one=300 #FAIL\n",
    "number_one=400 #WORK\n",
    "_=500 #WORK"
   ]
  },
  {
   "cell_type": "code",
   "execution_count": 71,
   "id": "4f9d7820-609f-46d0-8653-30f0378ddfd4",
   "metadata": {},
   "outputs": [
    {
     "ename": "SyntaxError",
     "evalue": "invalid syntax (2794413473.py, line 3)",
     "output_type": "error",
     "traceback": [
      "\u001b[1;36m  Cell \u001b[1;32mIn[71], line 3\u001b[1;36m\u001b[0m\n\u001b[1;33m    number one=300\u001b[0m\n\u001b[1;37m           ^\u001b[0m\n\u001b[1;31mSyntaxError\u001b[0m\u001b[1;31m:\u001b[0m invalid syntax\n"
     ]
    }
   ],
   "source": [
    "number_one=400 # erro\n",
    "_=500\n",
    "number one=300\n",
    "numberone=200"
   ]
  },
  {
   "cell_type": "code",
   "execution_count": 73,
   "id": "4ecf15b1-ccab-4d74-a57d-1effcd4d8d12",
   "metadata": {},
   "outputs": [
    {
     "data": {
      "text/plain": [
       "100"
      ]
     },
     "execution_count": 73,
     "metadata": {},
     "output_type": "execute_result"
    }
   ],
   "source": [
    "print=100\n",
    "print"
   ]
  },
  {
   "cell_type": "code",
   "execution_count": 75,
   "id": "07c97eb8-2f92-49eb-8fb7-f67370762d78",
   "metadata": {},
   "outputs": [
    {
     "data": {
      "text/plain": [
       "100"
      ]
     },
     "execution_count": 75,
     "metadata": {},
     "output_type": "execute_result"
    }
   ],
   "source": [
    "sum=100\n",
    "sum"
   ]
  },
  {
   "cell_type": "code",
   "execution_count": 3,
   "id": "c07e920a-c963-498f-8b6b-c75b6e9d2daf",
   "metadata": {},
   "outputs": [
    {
     "data": {
      "text/plain": [
       "6"
      ]
     },
     "execution_count": 3,
     "metadata": {},
     "output_type": "execute_result"
    }
   ],
   "source": [
    "sum([1,2,3])   #Kernel -> Restart Kernel"
   ]
  },
  {
   "cell_type": "code",
   "execution_count": 5,
   "id": "331ba9b4-90fe-41ef-9396-4a4e6cb3eca3",
   "metadata": {},
   "outputs": [
    {
     "ename": "SyntaxError",
     "evalue": "invalid decimal literal (1825462829.py, line 5)",
     "output_type": "error",
     "traceback": [
      "\u001b[1;36m  Cell \u001b[1;32mIn[5], line 5\u001b[1;36m\u001b[0m\n\u001b[1;33m    123number=500\u001b[0m\n\u001b[1;37m      ^\u001b[0m\n\u001b[1;31mSyntaxError\u001b[0m\u001b[1;31m:\u001b[0m invalid decimal literal\n"
     ]
    }
   ],
   "source": [
    "number=100 \n",
    "NUMBER=200\n",
    "NUMBERone=300 \n",
    "number123=400\n",
    "\n",
    "123number=500  #FAIL\n",
    "number&one=600 #FAIL\n",
    "number one=700 #FAIL\n",
    "\n",
    "number_one=800\n",
    "_=900\n",
    "\n",
    "if=1000 #FAIL\n",
    "\n",
    "SUM=100 #WORK but don't use\n",
    "print=200 #WORK but don't use"
   ]
  },
  {
   "cell_type": "markdown",
   "id": "2267841d-3924-419e-9585-6d61c0280c72",
   "metadata": {},
   "source": [
    "- Variables are case sensitive which means bot CAPITAL , SMALL are allowed and different\n",
    "- Varibles should not start with numbers\n",
    "- Special characters are not allowed in variables except underscore\n",
    "- Only underscore allowed\n",
    "- Keywords are not allowed as variables\n",
    "- keywords are in GREEN color\n",
    "- Variables are in BLACK color"
   ]
  },
  {
   "cell_type": "markdown",
   "id": "7aa152b3-8d53-41fc-8647-5a76717309e9",
   "metadata": {},
   "source": []
  }
 ],
 "metadata": {
  "kernelspec": {
   "display_name": "Python [conda env:base] *",
   "language": "python",
   "name": "conda-base-py"
  },
  "language_info": {
   "codemirror_mode": {
    "name": "ipython",
    "version": 3
   },
   "file_extension": ".py",
   "mimetype": "text/x-python",
   "name": "python",
   "nbconvert_exporter": "python",
   "pygments_lexer": "ipython3",
   "version": "3.12.7"
  }
 },
 "nbformat": 4,
 "nbformat_minor": 5
}
