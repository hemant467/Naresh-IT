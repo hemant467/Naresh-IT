{
 "cells": [
  {
   "cell_type": "code",
   "execution_count": 1,
   "id": "017db589-6142-42ff-b80a-237a3d9e3791",
   "metadata": {},
   "outputs": [
    {
     "data": {
      "text/plain": [
       "'E:\\\\Python Projects\\\\Python sessions'"
      ]
     },
     "execution_count": 1,
     "metadata": {},
     "output_type": "execute_result"
    }
   ],
   "source": [
    "import os\n",
    "os.getcwd()\n",
    "#get current working directory\n",
    "#This will give the location where our python file located"
   ]
  },
  {
   "cell_type": "markdown",
   "id": "0552bcb2-eb5b-4e17-b109-2ea458cb091b",
   "metadata": {},
   "source": [
    "# **PRINT STATEMENTS**"
   ]
  },
  {
   "cell_type": "code",
   "execution_count": 6,
   "id": "b9c5fbf3-d654-4eba-8d13-75b9f8cb73d1",
   "metadata": {},
   "outputs": [
    {
     "data": {
      "text/plain": [
       "10"
      ]
     },
     "execution_count": 6,
     "metadata": {},
     "output_type": "execute_result"
    }
   ],
   "source": [
    "a=10\n",
    "a"
   ]
  },
  {
   "cell_type": "code",
   "execution_count": 8,
   "id": "7cf2bf39-0fe7-46ae-96d2-42a629f64e3b",
   "metadata": {},
   "outputs": [
    {
     "name": "stdout",
     "output_type": "stream",
     "text": [
      "10\n"
     ]
    }
   ],
   "source": [
    "print(a)"
   ]
  },
  {
   "cell_type": "code",
   "execution_count": 10,
   "id": "cb4c3703-a2d5-429d-b3e4-5b1e66abcd2b",
   "metadata": {},
   "outputs": [
    {
     "name": "stdout",
     "output_type": "stream",
     "text": [
      "10\n",
      "20\n"
     ]
    }
   ],
   "source": [
    "a=10\n",
    "b=20\n",
    "print(a)\n",
    "print(b)"
   ]
  },
  {
   "cell_type": "code",
   "execution_count": 20,
   "id": "d936f09e-2c8d-4be1-91ef-8c0013dcf3b4",
   "metadata": {},
   "outputs": [
    {
     "name": "stdout",
     "output_type": "stream",
     "text": [
      "The sum of 100 and 200 is 300\n"
     ]
    }
   ],
   "source": [
    "n1=100\n",
    "n2=200\n",
    "add=n1+n2\n",
    "print('The sum of', n1 ,'and', n2 ,'is',add)"
   ]
  },
  {
   "cell_type": "code",
   "execution_count": 24,
   "id": "bb39397c-7f54-4b41-a499-cbfa84272a55",
   "metadata": {},
   "outputs": [
    {
     "name": "stdout",
     "output_type": "stream",
     "text": [
      "My name is python im 10 years old I came from Hyd\n"
     ]
    }
   ],
   "source": [
    "#name\n",
    "#age\n",
    "#city\n",
    "a='python'\n",
    "b=10\n",
    "c='Hyd'\n",
    "print('My name is',a,'im',b,'years old I came from',c)"
   ]
  },
  {
   "cell_type": "markdown",
   "id": "e3a5dcf1-2e97-458d-8c66-cc4eafbf9009",
   "metadata": {},
   "source": [
    "**We should not use above method**"
   ]
  },
  {
   "cell_type": "markdown",
   "id": "6f1e1aa7-2b50-4c02-86fc-b1992e899999",
   "metadata": {},
   "source": [
    "# **Format Method**"
   ]
  },
  {
   "cell_type": "code",
   "execution_count": 29,
   "id": "279e39ee-11bf-4e0d-bb6e-b2ca86378719",
   "metadata": {},
   "outputs": [
    {
     "name": "stdout",
     "output_type": "stream",
     "text": [
      "The sum of 1000 and 2000 is :3000\n"
     ]
    }
   ],
   "source": [
    "n1=1000\n",
    "n2=2000\n",
    "add=n1+n2\n",
    "print('The sum of {} and {} is :{}'.format(n1,n2,add))"
   ]
  },
  {
   "cell_type": "code",
   "execution_count": 42,
   "id": "38750d8d-aba9-4f35-bb38-3a271fe73826",
   "metadata": {},
   "outputs": [
    {
     "name": "stdout",
     "output_type": "stream",
     "text": [
      "My name is python im 10 years old I came from Hyd\n"
     ]
    }
   ],
   "source": [
    "a='python'\n",
    "b=10\n",
    "c='Hyd'\n",
    "print('My name is {} im {} years old I came from {}'.format(a,b,c))"
   ]
  },
  {
   "cell_type": "markdown",
   "id": "94ebb776-0ec4-44e7-8064-44b9d4a878ad",
   "metadata": {},
   "source": [
    "# **f-STRING METHOD**"
   ]
  },
  {
   "cell_type": "code",
   "execution_count": 52,
   "id": "b532c7a9-cd2e-4e58-a9c6-aa4e6d3360d0",
   "metadata": {},
   "outputs": [
    {
     "name": "stdout",
     "output_type": "stream",
     "text": [
      "The sum of 1000 and 2000 is :3000\n"
     ]
    }
   ],
   "source": [
    "n1=1000\n",
    "n2=2000\n",
    "add=n1+n2\n",
    "print(f'The sum of {n1} and {n2} is :{add}') #'f-string' method"
   ]
  },
  {
   "cell_type": "code",
   "execution_count": null,
   "id": "6acd2e0e-c930-430d-bfd0-d6b90d8e3105",
   "metadata": {},
   "outputs": [],
   "source": []
  }
 ],
 "metadata": {
  "kernelspec": {
   "display_name": "Python [conda env:base] *",
   "language": "python",
   "name": "conda-base-py"
  },
  "language_info": {
   "codemirror_mode": {
    "name": "ipython",
    "version": 3
   },
   "file_extension": ".py",
   "mimetype": "text/x-python",
   "name": "python",
   "nbconvert_exporter": "python",
   "pygments_lexer": "ipython3",
   "version": "3.12.7"
  }
 },
 "nbformat": 4,
 "nbformat_minor": 5
}
