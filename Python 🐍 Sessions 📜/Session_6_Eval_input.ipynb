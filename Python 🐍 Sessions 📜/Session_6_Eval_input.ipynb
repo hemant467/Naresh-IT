{
 "cells": [
  {
   "cell_type": "markdown",
   "id": "9df6c851-b023-4a47-958d-f9c691232d6e",
   "metadata": {},
   "source": [
    "# **INPUT**"
   ]
  },
  {
   "cell_type": "markdown",
   "id": "3a56bbde-0a80-4bf6-8ee3-4b18c1906c3e",
   "metadata": {},
   "source": [
    "- Input is a keyword is used to take the values from the user keyboard"
   ]
  },
  {
   "cell_type": "markdown",
   "id": "c620388e-cbf1-4a70-92cf-17f13f576db0",
   "metadata": {},
   "source": [
    "city='hyd' #hard coded"
   ]
  },
  {
   "cell_type": "code",
   "execution_count": 4,
   "id": "d1aa1ed3-bc2e-4e04-896d-b918b420b770",
   "metadata": {},
   "outputs": [
    {
     "data": {
      "text/plain": [
       "<bound method Kernel.raw_input of <ipykernel.ipkernel.IPythonKernel object at 0x0000029E31E1F890>>"
      ]
     },
     "execution_count": 4,
     "metadata": {},
     "output_type": "execute_result"
    }
   ],
   "source": [
    "input"
   ]
  },
  {
   "cell_type": "markdown",
   "id": "386dbc8c-9053-4d63-900f-c151c1cebe6c",
   "metadata": {},
   "source": [
    "- Bound method\n",
    "\n",
    "- function\n",
    "\n",
    "- Both indicates we are missing the brackets parantheses"
   ]
  },
  {
   "cell_type": "code",
   "execution_count": 9,
   "id": "3b0955d1-91e7-4290-a289-418a18c50e12",
   "metadata": {},
   "outputs": [
    {
     "name": "stdin",
     "output_type": "stream",
     "text": [
      " Hyderabad\n"
     ]
    },
    {
     "data": {
      "text/plain": [
       "'Hyderabad'"
      ]
     },
     "execution_count": 9,
     "metadata": {},
     "output_type": "execute_result"
    }
   ],
   "source": [
    "input()"
   ]
  },
  {
   "cell_type": "code",
   "execution_count": 11,
   "id": "42590bf0-0d3a-4aa2-b4c8-dc996bb29d69",
   "metadata": {},
   "outputs": [
    {
     "name": "stdin",
     "output_type": "stream",
     "text": [
      " Python\n",
      " 10\n",
      " hyd\n"
     ]
    },
    {
     "data": {
      "text/plain": [
       "'hyd'"
      ]
     },
     "execution_count": 11,
     "metadata": {},
     "output_type": "execute_result"
    }
   ],
   "source": [
    "input()\n",
    "input()\n",
    "input()"
   ]
  },
  {
   "cell_type": "code",
   "execution_count": 15,
   "id": "c3b70894-50ea-4f1d-b3cd-efac1e6e81c7",
   "metadata": {},
   "outputs": [
    {
     "name": "stdin",
     "output_type": "stream",
     "text": [
      "Enter name:  HEMANT\n",
      "Enter age :  50\n",
      "Enter city:  Hyd\n"
     ]
    },
    {
     "data": {
      "text/plain": [
       "'Hyd'"
      ]
     },
     "execution_count": 15,
     "metadata": {},
     "output_type": "execute_result"
    }
   ],
   "source": [
    "input('Enter name: ')\n",
    "input('Enter age : ')\n",
    "input('Enter city: ')"
   ]
  },
  {
   "cell_type": "code",
   "execution_count": 19,
   "id": "0179ebf4-6c59-4f93-9bb9-83a6e14f6af4",
   "metadata": {},
   "outputs": [
    {
     "name": "stdin",
     "output_type": "stream",
     "text": [
      "Enter name:  HEMANT\n",
      "Enter age :  50\n",
      "Enter city:  Hyd\n"
     ]
    },
    {
     "name": "stdout",
     "output_type": "stream",
     "text": [
      "My name is HEMANT, my age is 50 and i came from Hyd\n"
     ]
    }
   ],
   "source": [
    "name=input('Enter name: ')\n",
    "age=input('Enter age : ')\n",
    "city=input('Enter city: ')\n",
    "print(f'My name is {name}, my age is {age} and i came from {city}')"
   ]
  },
  {
   "cell_type": "code",
   "execution_count": 23,
   "id": "378243fd-73b7-44a5-8f66-b6ccaab64578",
   "metadata": {},
   "outputs": [
    {
     "name": "stdin",
     "output_type": "stream",
     "text": [
      "Enter no 1:  100\n",
      "Enter no 2:  200\n"
     ]
    },
    {
     "name": "stdout",
     "output_type": "stream",
     "text": [
      "Sum of 100 and 200 is 100200\n"
     ]
    }
   ],
   "source": [
    "n1=input('Enter no 1: ')\n",
    "n2=input('Enter no 2: ')\n",
    "n1+n2\n",
    "print(f'Sum of {n1} and {n2} is {n1+n2}')"
   ]
  },
  {
   "cell_type": "markdown",
   "id": "81fea579-0202-454f-951b-07abdd0a49cb",
   "metadata": {},
   "source": [
    "## **Note :**\n",
    "- If the user takes any value from keyboard by default it is a string data type\n",
    "  \n",
    "- Even if we take numbers also it is string data type\n",
    "\n",
    "- So we need to convert string to either int or float"
   ]
  },
  {
   "cell_type": "code",
   "execution_count": 32,
   "id": "e677ec8a-3a8e-4fad-82e8-a44ad0903aca",
   "metadata": {},
   "outputs": [
    {
     "name": "stdin",
     "output_type": "stream",
     "text": [
      "Enter no 1:  100\n",
      "Enter no 2:  200\n"
     ]
    },
    {
     "name": "stdout",
     "output_type": "stream",
     "text": [
      "Sum of 100 and 200 is 300\n"
     ]
    }
   ],
   "source": [
    "n1=int(input('Enter no 1: '))\n",
    "n2=int(input('Enter no 2: '))\n",
    "n1+n2\n",
    "print(f'Sum of {n1} and {n2} is {n1+n2}')"
   ]
  },
  {
   "cell_type": "code",
   "execution_count": 34,
   "id": "462bcc6f-1b58-46df-9668-c70ae64398cf",
   "metadata": {},
   "outputs": [
    {
     "name": "stdin",
     "output_type": "stream",
     "text": [
      "Enter no 1:  100\n",
      "Enter no 2:  200\n"
     ]
    },
    {
     "name": "stdout",
     "output_type": "stream",
     "text": [
      "Sum of 100.0 and 200.0 is 300.0\n"
     ]
    }
   ],
   "source": [
    "n1=float(input('Enter no 1: '))\n",
    "n2=float(input('Enter no 2: '))\n",
    "n1+n2\n",
    "print(f'Sum of {n1} and {n2} is {n1+n2}')"
   ]
  },
  {
   "cell_type": "markdown",
   "id": "f3e78ac3-4702-42cd-b503-1a23fc746826",
   "metadata": {},
   "source": [
    "## **eval**"
   ]
  },
  {
   "cell_type": "code",
   "execution_count": 37,
   "id": "4637ec8c-5197-4d5e-8ed6-7a70e2abe6c4",
   "metadata": {},
   "outputs": [
    {
     "name": "stdin",
     "output_type": "stream",
     "text": [
      " 100.5\n"
     ]
    },
    {
     "data": {
      "text/plain": [
       "100.5"
      ]
     },
     "execution_count": 37,
     "metadata": {},
     "output_type": "execute_result"
    }
   ],
   "source": [
    "eval(input())"
   ]
  },
  {
   "cell_type": "code",
   "execution_count": 41,
   "id": "d11e4716-125f-41fb-9f35-4e58fd932afc",
   "metadata": {},
   "outputs": [
    {
     "name": "stdin",
     "output_type": "stream",
     "text": [
      "Enter no 1:  100.5\n",
      "Enter no 2:  1\n"
     ]
    },
    {
     "name": "stdout",
     "output_type": "stream",
     "text": [
      "Sum of 100.5 and 1 is 101.5\n"
     ]
    }
   ],
   "source": [
    "n1=eval(input('Enter no 1: '))\n",
    "n2=eval(input('Enter no 2: '))\n",
    "n1+n2\n",
    "print(f'Sum of {n1} and {n2} is {n1+n2}')"
   ]
  },
  {
   "cell_type": "code",
   "execution_count": 44,
   "id": "8bbf46f0-9003-4d30-baa4-5018d5556e14",
   "metadata": {},
   "outputs": [
    {
     "name": "stdin",
     "output_type": "stream",
     "text": [
      "Enter no 1:  2\n",
      "Enter no 2:  5\n"
     ]
    },
    {
     "name": "stdout",
     "output_type": "stream",
     "text": [
      "The multiplication of 2 and 5 is 10\n"
     ]
    }
   ],
   "source": [
    "n1=eval(input('Enter no 1: '))\n",
    "n2=eval(input('Enter no 2: '))\n",
    "mul=n1*n2\n",
    "print(f'The multiplication of {n1} and {n2} is {mul}')"
   ]
  },
  {
   "cell_type": "code",
   "execution_count": 48,
   "id": "90a295ed-16aa-4fac-ac4c-3fc5c8d7c84f",
   "metadata": {},
   "outputs": [
    {
     "name": "stdin",
     "output_type": "stream",
     "text": [
      "Enter no 1:  10\n",
      "Enter no 2:  20.5\n",
      "Enter no 3:  30\n"
     ]
    },
    {
     "name": "stdout",
     "output_type": "stream",
     "text": [
      "The avg of 10 20.5 and 30 is 20.166666666666668\n"
     ]
    }
   ],
   "source": [
    "a=eval(input('Enter no 1: '))\n",
    "b=eval(input('Enter no 2: '))\n",
    "c=eval(input('Enter no 3: '))\n",
    "avg=(a+b+c)/3\n",
    "print('The avg of {} {} and {} is {}'.format(a,b,c,avg))"
   ]
  },
  {
   "cell_type": "code",
   "execution_count": 50,
   "id": "5b6b2ca1-e765-4cf3-b152-cb82c9572dbd",
   "metadata": {},
   "outputs": [
    {
     "name": "stdin",
     "output_type": "stream",
     "text": [
      "bill_amount=  100\n",
      "tip_amount=  200\n"
     ]
    },
    {
     "data": {
      "text/plain": [
       "300"
      ]
     },
     "execution_count": 50,
     "metadata": {},
     "output_type": "execute_result"
    }
   ],
   "source": [
    "a=eval(input('bill_amount= '))\n",
    "b=eval(input('tip_amount= '))\n",
    "total_amount=a+b\n",
    "total_amount"
   ]
  },
  {
   "cell_type": "code",
   "execution_count": 92,
   "id": "a4eb4e20-322a-4828-aec5-f1a6e8fbb7bc",
   "metadata": {},
   "outputs": [
    {
     "name": "stdin",
     "output_type": "stream",
     "text": [
      "Enter radius:  50\n"
     ]
    },
    {
     "name": "stdout",
     "output_type": "stream",
     "text": [
      "area of circle is 7850.0\n"
     ]
    }
   ],
   "source": [
    "r=eval(input('Enter radius: '))\n",
    "pi=3.14\n",
    "area=pi*r*r\n",
    "print('area of circle is',area)"
   ]
  },
  {
   "cell_type": "code",
   "execution_count": 60,
   "id": "16a548dd-7fca-45e9-afba-871bb59316ea",
   "metadata": {},
   "outputs": [
    {
     "name": "stdin",
     "output_type": "stream",
     "text": [
      "Enter b:  100\n",
      "Enter h:  200\n"
     ]
    },
    {
     "name": "stdout",
     "output_type": "stream",
     "text": [
      "Area of triangle is 10000.0\n"
     ]
    }
   ],
   "source": [
    "b=eval(input('Enter b: '))\n",
    "h=eval(input('Enter h: '))\n",
    "area=0.5*b*h\n",
    "print('Area of triangle is {}'.format(area))"
   ]
  },
  {
   "cell_type": "code",
   "execution_count": 66,
   "id": "eb7bcf39-d125-4290-936a-3325ad6661c2",
   "metadata": {},
   "outputs": [
    {
     "name": "stdin",
     "output_type": "stream",
     "text": [
      "Enter amount in dollar:  1\n"
     ]
    },
    {
     "name": "stdout",
     "output_type": "stream",
     "text": [
      "Amount in rupees is  80\n"
     ]
    }
   ],
   "source": [
    "a=eval(input('Enter amount in dollar: '))\n",
    "dollar=a*80\n",
    "print('Amount in rupees is ',dollar)"
   ]
  },
  {
   "cell_type": "code",
   "execution_count": 74,
   "id": "7c244ef0-3966-45c9-9c1e-6c1e83df92bf",
   "metadata": {},
   "outputs": [
    {
     "name": "stdin",
     "output_type": "stream",
     "text": [
      "Enter weight in Kg:  1\n"
     ]
    },
    {
     "name": "stdout",
     "output_type": "stream",
     "text": [
      "Weight of 1 kg in pounds is 2.2 pounds\n"
     ]
    }
   ],
   "source": [
    "a=eval(input('Enter weight in Kg: '))\n",
    "pound=a*2.2\n",
    "print('Weight of',a ,'kg in pounds is',pound,'pounds')"
   ]
  },
  {
   "cell_type": "code",
   "execution_count": 76,
   "id": "92e3a2c3-1dc9-4875-a8e8-1f6c6b86a2c4",
   "metadata": {},
   "outputs": [
    {
     "name": "stdin",
     "output_type": "stream",
     "text": [
      "Enter bill amount:  100\n",
      "Enter tip amount:  200\n"
     ]
    },
    {
     "name": "stdout",
     "output_type": "stream",
     "text": [
      "Total amount is 300\n"
     ]
    }
   ],
   "source": [
    "a=eval(input('Enter bill amount: '))\n",
    "b=eval(input('Enter tip amount: '))\n",
    "total_amount=a+b\n",
    "print('Total amount is',total_amount)"
   ]
  },
  {
   "cell_type": "code",
   "execution_count": 84,
   "id": "75336488-1240-4755-a9f7-440eacac21f4",
   "metadata": {},
   "outputs": [
    {
     "name": "stdin",
     "output_type": "stream",
     "text": [
      "enter n1:  10\n",
      "enter n2:  11\n",
      "enter n3:  34\n"
     ]
    },
    {
     "name": "stdout",
     "output_type": "stream",
     "text": [
      "Average of 10 11 and 34 is 18\n"
     ]
    }
   ],
   "source": [
    "n1=eval(input('enter n1: '))\n",
    "n2=eval(input('enter n2: '))\n",
    "n3=eval(input('enter n3: '))\n",
    "avg=(n1+n2+n3)/3\n",
    "round(avg)\n",
    "print('Average of',n1,n2,'and',n3, 'is',round(avg))"
   ]
  },
  {
   "cell_type": "code",
   "execution_count": 90,
   "id": "696270ae-0754-495c-84ce-fa104ae1418f",
   "metadata": {},
   "outputs": [
    {
     "name": "stdin",
     "output_type": "stream",
     "text": [
      "Enter the bill amount:  2000\n",
      "Enter the tip percent:  20\n"
     ]
    },
    {
     "name": "stdout",
     "output_type": "stream",
     "text": [
      "The total amount is: 2400.0\n"
     ]
    }
   ],
   "source": [
    "bill_amount=eval(input('Enter the bill amount: '))\n",
    "tip_percent=eval(input('Enter the tip percent: '))\n",
    "tip_amount=bill_amount*tip_percent/100\n",
    "total_amount=bill_amount+tip_amount\n",
    "print(f'The total amount is: {total_amount}')"
   ]
  },
  {
   "cell_type": "code",
   "execution_count": 94,
   "id": "0c47249d-31b1-4eb6-8e26-ca47fbfc45e9",
   "metadata": {},
   "outputs": [
    {
     "name": "stdin",
     "output_type": "stream",
     "text": [
      "Enter base:  10\n",
      "Enter height:  20\n"
     ]
    },
    {
     "name": "stdout",
     "output_type": "stream",
     "text": [
      "Area of triangle is 100.0\n"
     ]
    }
   ],
   "source": [
    "b=eval(input('Enter base: '))\n",
    "h=eval(input('Enter height: '))\n",
    "area=0.5*b*h\n",
    "print(f'Area of triangle is {area}')"
   ]
  },
  {
   "cell_type": "code",
   "execution_count": 102,
   "id": "3c1335a6-a90c-4d74-9ad8-89676947a0df",
   "metadata": {},
   "outputs": [
    {
     "name": "stdin",
     "output_type": "stream",
     "text": [
      "Enter amount in dollar:  5\n"
     ]
    },
    {
     "name": "stdout",
     "output_type": "stream",
     "text": [
      "5$ amount is: 5*80 = 400rs\n"
     ]
    }
   ],
   "source": [
    "a=eval(input('Enter amount in dollar: '))\n",
    "INR=a*80\n",
    "print(f'{a}$ amount is: {a}*80 = {INR}rs')"
   ]
  },
  {
   "cell_type": "code",
   "execution_count": 114,
   "id": "49337527-46b6-43f4-bde7-ae013bfd04d3",
   "metadata": {},
   "outputs": [
    {
     "name": "stdin",
     "output_type": "stream",
     "text": [
      "Enter weight in Kg:  60\n"
     ]
    },
    {
     "name": "stdout",
     "output_type": "stream",
     "text": [
      "Weight of 60 kg in pounds is: 60*2.2 = 132.0 pounds\n"
     ]
    }
   ],
   "source": [
    "a=eval(input('Enter weight in Kg: '))\n",
    "pound=a*2.2\n",
    "print(f'Weight of {a} kg in pounds is: {a}*2.2 = {pound} pounds')"
   ]
  },
  {
   "cell_type": "code",
   "execution_count": null,
   "id": "d533ab20-72f0-4bf7-901f-0dc493288576",
   "metadata": {},
   "outputs": [],
   "source": []
  }
 ],
 "metadata": {
  "kernelspec": {
   "display_name": "Python [conda env:base] *",
   "language": "python",
   "name": "conda-base-py"
  },
  "language_info": {
   "codemirror_mode": {
    "name": "ipython",
    "version": 3
   },
   "file_extension": ".py",
   "mimetype": "text/x-python",
   "name": "python",
   "nbconvert_exporter": "python",
   "pygments_lexer": "ipython3",
   "version": "3.12.7"
  }
 },
 "nbformat": 4,
 "nbformat_minor": 5
}
