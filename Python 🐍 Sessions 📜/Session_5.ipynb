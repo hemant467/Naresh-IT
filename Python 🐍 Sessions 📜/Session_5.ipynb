{
 "cells": [
  {
   "cell_type": "markdown",
   "id": "4510047b-6df0-4df0-885b-a2c78f2e2142",
   "metadata": {},
   "source": [
    "'''\n",
    "WAP ask the user take two numbers find the multiplication\n",
    "n1=10\n",
    "n2=20\n",
    "mul=<>\n",
    "the multiplication of 10 and 20 is 200\n",
    "print with fromat and f string\n",
    "'''"
   ]
  },
  {
   "cell_type": "code",
   "execution_count": 12,
   "id": "7fdc10ff-7900-429e-8efa-f71ddd41daa2",
   "metadata": {},
   "outputs": [
    {
     "name": "stdout",
     "output_type": "stream",
     "text": [
      "The multiplication of 10 and 20 is 200\n",
      "The multiplication of 10 and 20 is 200\n",
      "The multiplication of 10 and 20 is 200\n"
     ]
    }
   ],
   "source": [
    "n1=10\n",
    "n2=20\n",
    "mul=n1*n2\n",
    "print('The multiplication of',n1,'and',n2,'is',mul)\n",
    "print('The multiplication of {} and {} is {}'.format(n1,n2,mul))\n",
    "print(f'The multiplication of {n1} and {n2} is {mul}')"
   ]
  },
  {
   "cell_type": "code",
   "execution_count": 8,
   "id": "c41a2579-84d6-4c2b-955d-fc1aeac76e59",
   "metadata": {},
   "outputs": [
    {
     "name": "stdout",
     "output_type": "stream",
     "text": [
      "The avg of 10 20 and 30 is 20.0\n"
     ]
    }
   ],
   "source": [
    "a=10\n",
    "b=20\n",
    "c=30\n",
    "avg=(a+b+c)/3\n",
    "print('The avg of {} {} and {} is {}'.format(a,b,c,avg))"
   ]
  },
  {
   "cell_type": "code",
   "execution_count": 27,
   "id": "43fb8b76-13e8-4686-9130-d0189f8dbb7f",
   "metadata": {},
   "outputs": [
    {
     "name": "stdout",
     "output_type": "stream",
     "text": [
      "area of circle is 2826.0\n"
     ]
    }
   ],
   "source": [
    "r=30\n",
    "pi=3.14\n",
    "area=pi*r*r\n",
    "print('area of circle is',area)"
   ]
  },
  {
   "cell_type": "code",
   "execution_count": 25,
   "id": "0a28566a-b306-43fc-91e1-3c44234e5cc3",
   "metadata": {},
   "outputs": [
    {
     "name": "stdout",
     "output_type": "stream",
     "text": [
      "The avg of 10 20 and 30 is 20.0 20\n"
     ]
    }
   ],
   "source": [
    "a=10\n",
    "b=20\n",
    "c=30\n",
    "avg=(a+b+c)/3\n",
    "avg1=round((a+b+c)/3)\n",
    "print('The avg of {} {} and {} is {} {}'.format(a,b,c,avg,avg1))"
   ]
  },
  {
   "cell_type": "code",
   "execution_count": 33,
   "id": "5541c647-9ffa-4929-b26d-ffc6ebcb7413",
   "metadata": {},
   "outputs": [
    {
     "name": "stdout",
     "output_type": "stream",
     "text": [
      "Area of triangle is 10000.0\n"
     ]
    }
   ],
   "source": [
    "b=100\n",
    "h=200\n",
    "area=0.5*b*h\n",
    "print('Area of triangle is {}'.format(area))"
   ]
  },
  {
   "cell_type": "code",
   "execution_count": 35,
   "id": "9109fdb4-3e26-4363-9e64-e9c93a3e1da4",
   "metadata": {},
   "outputs": [
    {
     "data": {
      "text/plain": [
       "300"
      ]
     },
     "execution_count": 35,
     "metadata": {},
     "output_type": "execute_result"
    }
   ],
   "source": [
    "bill_amount=100\n",
    "tip_amount=200\n",
    "total_amount=bill_amount+tip_amount\n",
    "total_amount"
   ]
  },
  {
   "cell_type": "markdown",
   "id": "003e3ba6-6613-420b-b427-93f7d9f77207",
   "metadata": {},
   "source": [
    "# **Round Off**"
   ]
  },
  {
   "cell_type": "code",
   "execution_count": 19,
   "id": "6a7e682d-8350-4afd-8fa7-538a94ab3e54",
   "metadata": {},
   "outputs": [
    {
     "data": {
      "text/plain": [
       "10.568"
      ]
     },
     "execution_count": 19,
     "metadata": {},
     "output_type": "execute_result"
    }
   ],
   "source": [
    "round(10.5678,3)\n",
    "#10.5"
   ]
  }
 ],
 "metadata": {
  "kernelspec": {
   "display_name": "Python [conda env:base] *",
   "language": "python",
   "name": "conda-base-py"
  },
  "language_info": {
   "codemirror_mode": {
    "name": "ipython",
    "version": 3
   },
   "file_extension": ".py",
   "mimetype": "text/x-python",
   "name": "python",
   "nbconvert_exporter": "python",
   "pygments_lexer": "ipython3",
   "version": "3.12.7"
  }
 },
 "nbformat": 4,
 "nbformat_minor": 5
}
