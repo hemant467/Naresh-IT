{
 "cells": [
  {
   "cell_type": "markdown",
   "id": "bad5e389-8a29-422e-81c2-b1a9eee967fd",
   "metadata": {},
   "source": [
    "**List Comprehension**\n",
    "\n",
    "- List Comprehension is used to write multiple code lines as a single in a list\n",
    "\n",
    "- In real time we will write for loops and conditional statements, speed of execution become slow\n",
    "\n",
    "- List Comprehensions will increase the speed"
   ]
  },
  {
   "cell_type": "markdown",
   "id": "c2bbd41e-a70c-41e3-9f85-45b28c5d76e5",
   "metadata": {},
   "source": [
    "**Method-1:Only Forloop**"
   ]
  },
  {
   "cell_type": "code",
   "execution_count": 6,
   "id": "770a1aa4-33d9-4a40-b63e-5d6e275e9397",
   "metadata": {},
   "outputs": [
    {
     "data": {
      "text/plain": [
       "[1, 2, 3, 4, 5, 6, 7, 8, 9, 10]"
      ]
     },
     "execution_count": 6,
     "metadata": {},
     "output_type": "execute_result"
    }
   ],
   "source": [
    "l=[]\n",
    "for i in range(1,11):\n",
    "    l.append(i)\n",
    "l"
   ]
  },
  {
   "cell_type": "code",
   "execution_count": 8,
   "id": "a9ef8423-d814-4b3c-b557-8da65039f597",
   "metadata": {},
   "outputs": [
    {
     "data": {
      "text/plain": [
       "[1, 2, 3, 4, 5, 6, 7, 8, 9, 10]"
      ]
     },
     "execution_count": 8,
     "metadata": {},
     "output_type": "execute_result"
    }
   ],
   "source": [
    "#l=[<write my code>]\n",
    "# l=[<output> <forloop>]\n",
    "\n",
    "l=[i for i in range(1,11)]\n",
    "l"
   ]
  },
  {
   "cell_type": "code",
   "execution_count": 10,
   "id": "04ed8cf1-6a0b-4055-83d5-0a9a8362ca5c",
   "metadata": {},
   "outputs": [
    {
     "data": {
      "text/plain": [
       "[1, 4, 9, 16, 25, 36, 49, 64, 81, 100]"
      ]
     },
     "execution_count": 10,
     "metadata": {},
     "output_type": "execute_result"
    }
   ],
   "source": [
    "l=[i*i for i in range(1,11)]\n",
    "l"
   ]
  },
  {
   "cell_type": "code",
   "execution_count": 16,
   "id": "9399801a-93b6-4a6f-88b3-c7e3d6681313",
   "metadata": {},
   "outputs": [
    {
     "data": {
      "text/plain": [
       "[1.0, 2.0, 3.0, 4.0, 5.0]"
      ]
     },
     "execution_count": 16,
     "metadata": {},
     "output_type": "execute_result"
    }
   ],
   "source": [
    "l=[10,20,30,40,50]\n",
    "l1=[]\n",
    "for i in l:\n",
    "    l1.append(i/10)\n",
    "l1"
   ]
  },
  {
   "cell_type": "code",
   "execution_count": 18,
   "id": "414dc5fc-9324-4175-bccd-27baafc933d2",
   "metadata": {},
   "outputs": [
    {
     "data": {
      "text/plain": [
       "[1.0, 2.0, 3.0, 4.0, 5.0]"
      ]
     },
     "execution_count": 18,
     "metadata": {},
     "output_type": "execute_result"
    }
   ],
   "source": [
    "l=[10,20,30,40,50]\n",
    "l1=[i/10 for i in l]\n",
    "l1"
   ]
  },
  {
   "cell_type": "code",
   "execution_count": null,
   "id": "9271e970-2d2d-4dba-86a3-d878c7236001",
   "metadata": {},
   "outputs": [],
   "source": [
    "# Q1) input=['hyd','bengaluru','mumbai','chennai']\n",
    "#     output=['Hyd','Bengaluru','Mumbai','Chennai']\n",
    "\n",
    "# Q2) input=['hyd','bengaluru','mumbai','chennai']\n",
    "#     output=['HYD','BENGALURU','MUMBAI','CHENNAI']"
   ]
  },
  {
   "cell_type": "code",
   "execution_count": 20,
   "id": "104db1ed-2844-4b33-8e2c-39d35be495b3",
   "metadata": {},
   "outputs": [
    {
     "data": {
      "text/plain": [
       "['Hyd', 'Bengaluru', 'Mumbai', 'Chennai']"
      ]
     },
     "execution_count": 20,
     "metadata": {},
     "output_type": "execute_result"
    }
   ],
   "source": [
    "# Q1) input=['hyd','bengaluru','mumbai','chennai']\n",
    "Input=['hyd','bengaluru','mumbai','chennai']\n",
    "output=[i.capitalize() for i in Input]\n",
    "output"
   ]
  },
  {
   "cell_type": "code",
   "execution_count": 22,
   "id": "04c6d7f0-d9e0-4c4b-a4d9-e89b1c3d4add",
   "metadata": {},
   "outputs": [
    {
     "data": {
      "text/plain": [
       "['HYD', 'BENGALURU', 'MUMBAI', 'CHENNAI']"
      ]
     },
     "execution_count": 22,
     "metadata": {},
     "output_type": "execute_result"
    }
   ],
   "source": [
    "Input=['hyd','bengaluru','mumbai','chennai']\n",
    "output=[i.upper() for i in Input]\n",
    "output"
   ]
  },
  {
   "cell_type": "markdown",
   "id": "6c524c12-09b9-48e3-b9bc-e6a3264ca26f",
   "metadata": {},
   "source": [
    "**Method-2: for with if**"
   ]
  },
  {
   "cell_type": "code",
   "execution_count": null,
   "id": "b9c5b964-f2f5-4dc9-9827-7621f207e9ac",
   "metadata": {},
   "outputs": [],
   "source": [
    "# Q3) input=['hyd','bengaluru','mum#bai','chen#nai']\n",
    "#     output=['mum#bai','chen#nai']"
   ]
  },
  {
   "cell_type": "code",
   "execution_count": 25,
   "id": "3368b04d-2378-40c5-929c-f53023246089",
   "metadata": {},
   "outputs": [
    {
     "data": {
      "text/plain": [
       "['mum#bai', 'chen#nai']"
      ]
     },
     "execution_count": 25,
     "metadata": {},
     "output_type": "execute_result"
    }
   ],
   "source": [
    "Input=['hyd','bengaluru','mum#bai','chen#nai']\n",
    "output=[]\n",
    "for i in Input:\n",
    "    if '#' in i:\n",
    "        output.append(i)\n",
    "output"
   ]
  },
  {
   "cell_type": "code",
   "execution_count": null,
   "id": "21414210-5204-430c-a916-a21a98aca8ab",
   "metadata": {},
   "outputs": [],
   "source": [
    "# [<output> <forloop>]\n",
    "# [<output> <forloop> <if cond> ]"
   ]
  },
  {
   "cell_type": "code",
   "execution_count": 31,
   "id": "4da79fbb-9586-4689-a736-38a8c2b99306",
   "metadata": {},
   "outputs": [
    {
     "data": {
      "text/plain": [
       "['mum#bai', 'chen#nai']"
      ]
     },
     "execution_count": 31,
     "metadata": {},
     "output_type": "execute_result"
    }
   ],
   "source": [
    "Input=['hyd','bengaluru','mum#bai','chen#nai']\n",
    "output=[i for i in Input if '#' in i]\n",
    "output\n",
    "\n"
   ]
  },
  {
   "cell_type": "code",
   "execution_count": 35,
   "id": "832f8605-2236-48cf-bdb8-7edf926700ec",
   "metadata": {},
   "outputs": [
    {
     "data": {
      "text/plain": [
       "[28, 72, 62]"
      ]
     },
     "execution_count": 35,
     "metadata": {},
     "output_type": "execute_result"
    }
   ],
   "source": [
    "# get 5 random values in a list\n",
    "# create another list of even numbers from above list\n",
    "from random import randint\n",
    "Input=[randint(1,100) for i in range(5)]\n",
    "output=[i for i in Input if i%2==0]\n",
    "output"
   ]
  },
  {
   "cell_type": "markdown",
   "id": "7fdddc8a-3689-4805-810a-bca37743a7fa",
   "metadata": {},
   "source": [
    "**Method-3:if-else**"
   ]
  },
  {
   "cell_type": "code",
   "execution_count": null,
   "id": "93449492-0040-4c6e-96d9-5e4f81e0f361",
   "metadata": {},
   "outputs": [],
   "source": [
    "# for:          [<output> <forloop>]\n",
    "# for if:       [<output> <forloop> <if cond> ]\n",
    "# for if else : [<if output> <if> <else> <else_out> <for loop>]"
   ]
  },
  {
   "cell_type": "code",
   "execution_count": 40,
   "id": "2180bd04-7685-4b33-aece-68bae0c839c5",
   "metadata": {},
   "outputs": [
    {
     "data": {
      "text/plain": [
       "['76_even']"
      ]
     },
     "execution_count": 40,
     "metadata": {},
     "output_type": "execute_result"
    }
   ],
   "source": [
    "from random import randint\n",
    "Input=[randint(1,100) for i in range(5)]\n",
    "output=[f'{i}_even' for i in Input if i%2==0]\n",
    "output"
   ]
  },
  {
   "cell_type": "code",
   "execution_count": 44,
   "id": "2e683541-5fd2-4fef-96c5-92fc1fd045e7",
   "metadata": {},
   "outputs": [
    {
     "data": {
      "text/plain": [
       "['59_odd', '23_odd', '20_even', '34_even', '48_even']"
      ]
     },
     "execution_count": 44,
     "metadata": {},
     "output_type": "execute_result"
    }
   ],
   "source": [
    "from random import randint\n",
    "Input=[randint(1,100) for i in range(5)]\n",
    "output=[f'{i}_even' if i%2==0 else f'{i}_odd' for i in Input]\n",
    "output"
   ]
  },
  {
   "cell_type": "code",
   "execution_count": 46,
   "id": "abf69416-a1fe-4f0c-9491-170e088b0ed0",
   "metadata": {},
   "outputs": [
    {
     "data": {
      "text/plain": [
       "['2_even', '6_even', '20_even', '54_even', '38_even']"
      ]
     },
     "execution_count": 46,
     "metadata": {},
     "output_type": "execute_result"
    }
   ],
   "source": [
    "from random import randint\n",
    "Input=[randint(1,100) for i in range(5)]\n",
    "output=[f'{i}_even' if i%2==0 \\\n",
    "        else f'{i}_odd' \\\n",
    "        for i in Input]\n",
    "output"
   ]
  },
  {
   "cell_type": "markdown",
   "id": "566ac189-e28b-4d2a-a851-1eb5099657d0",
   "metadata": {},
   "source": [
    "**Method-4: if -elif-else**"
   ]
  },
  {
   "cell_type": "code",
   "execution_count": null,
   "id": "3fc41b6e-174d-4ca4-9943-537e67a8aa88",
   "metadata": {},
   "outputs": [],
   "source": [
    "# for:          [<output> <forloop>]\n",
    "# for if:       [<output> <forloop> <if cond> ]\n",
    "# for if else : [<if output> <if> <else> <else_out> <for loop>]\n",
    "# for if elif else\n",
    "# [<if output> <if_conf> \\\n",
    "#  else <elif out> <elif con> \\\n",
    "#  <else> <else_out> <for loop>]"
   ]
  },
  {
   "cell_type": "code",
   "execution_count": 49,
   "id": "b3780073-8045-4d9e-a30a-abb5a2a90125",
   "metadata": {},
   "outputs": [
    {
     "name": "stdout",
     "output_type": "stream",
     "text": [
      "A grade\n"
     ]
    }
   ],
   "source": [
    "perce=[100,60,90,70]\n",
    "if perce>=90:\n",
    "    print('A grade')\n",
    "elif perce>=70:   # else+if\n",
    "    print('B grade')\n",
    "else:\n",
    "    print('C grade')\n",
    "\n",
    "['A grade' if perce>=90 else if perce>=70 'Bgrade'  else 'C grade']"
   ]
  },
  {
   "cell_type": "code",
   "execution_count": 53,
   "id": "039f42ed-f86d-4afb-a630-d6bd04182463",
   "metadata": {},
   "outputs": [
    {
     "data": {
      "text/plain": [
       "['100_A grade', '60_C grade', '90_A grade', '70_B grade']"
      ]
     },
     "execution_count": 53,
     "metadata": {},
     "output_type": "execute_result"
    }
   ],
   "source": [
    "perce=[100,60,90,70]\n",
    "\n",
    "[f'{i}_A grade' if i>=90 \\\n",
    "else f'{i}_B grade' if i>=70 \\\n",
    "else f'{i}_C grade' for i in perce]"
   ]
  },
  {
   "cell_type": "code",
   "execution_count": null,
   "id": "3026cb24-7aa4-464c-95af-8e627e95faf1",
   "metadata": {},
   "outputs": [],
   "source": [
    "Method-1: for \n",
    "    [output forloop]\n",
    "Method-2: for if\n",
    "    [output forloop if]\n",
    "Method-3: for if else\n",
    "    [if_out if_con else else_out for loop]\n",
    "Method-4: for if elif else\n",
    "    [if_out if_con \\\n",
    "    else elif_out elif_con \\\n",
    "    else else_out forloop]"
   ]
  },
  {
   "cell_type": "code",
   "execution_count": 55,
   "id": "97bb46f9-8207-4035-adad-67480cf82fe1",
   "metadata": {},
   "outputs": [
    {
     "data": {
      "text/plain": [
       "55"
      ]
     },
     "execution_count": 55,
     "metadata": {},
     "output_type": "execute_result"
    }
   ],
   "source": [
    "summ=0\n",
    "for i in range(1,11):\n",
    "    summ=summ+i\n",
    "summ"
   ]
  },
  {
   "cell_type": "code",
   "execution_count": null,
   "id": "88502d9c-8a51-44b6-9ce0-d4af81fb03b3",
   "metadata": {},
   "outputs": [],
   "source": [
    "summ=0\n",
    "[summ for i in range(1,11)] # [0,0,0,0]\n",
    "[summ+i for i in range(1,11)] # [0+1,0+2,0+3]\n",
    "[summ=summ+i for i in range(1,11)]"
   ]
  },
  {
   "cell_type": "code",
   "execution_count": 57,
   "id": "0895607e-3b8c-42a4-a2bc-0f92dd0a1717",
   "metadata": {},
   "outputs": [
    {
     "data": {
      "text/plain": [
       "[0, 0, 0, 0, 0, 0, 0, 0, 0, 0]"
      ]
     },
     "execution_count": 57,
     "metadata": {},
     "output_type": "execute_result"
    }
   ],
   "source": [
    "summ=0\n",
    "[summ for i in range(1,11)]"
   ]
  },
  {
   "cell_type": "code",
   "execution_count": 59,
   "id": "6d68d4ea-3ee8-4e34-a1de-e371a6a7a208",
   "metadata": {},
   "outputs": [
    {
     "data": {
      "text/plain": [
       "[1, 2, 3, 4, 5, 6, 7, 8, 9, 10]"
      ]
     },
     "execution_count": 59,
     "metadata": {},
     "output_type": "execute_result"
    }
   ],
   "source": [
    "summ=0\n",
    "[summ+i for i in range(1,11)]"
   ]
  },
  {
   "cell_type": "markdown",
   "id": "9fd41b3f-6c01-4e1b-a52a-6cad80113861",
   "metadata": {},
   "source": [
    "**walrus operator**"
   ]
  },
  {
   "cell_type": "code",
   "execution_count": 70,
   "id": "43d33dd5-9c5f-4928-a935-c6109d737086",
   "metadata": {},
   "outputs": [
    {
     "data": {
      "text/plain": [
       "55"
      ]
     },
     "execution_count": 70,
     "metadata": {},
     "output_type": "execute_result"
    }
   ],
   "source": [
    "summ=0\n",
    "[summ:=summ+i for i in range(1,11)][-1]"
   ]
  },
  {
   "cell_type": "code",
   "execution_count": null,
   "id": "d3e6b459-b964-4fcb-be42-684dd1d482a6",
   "metadata": {},
   "outputs": [],
   "source": []
  }
 ],
 "metadata": {
  "kernelspec": {
   "display_name": "Python [conda env:base] *",
   "language": "python",
   "name": "conda-base-py"
  },
  "language_info": {
   "codemirror_mode": {
    "name": "ipython",
    "version": 3
   },
   "file_extension": ".py",
   "mimetype": "text/x-python",
   "name": "python",
   "nbconvert_exporter": "python",
   "pygments_lexer": "ipython3",
   "version": "3.12.7"
  }
 },
 "nbformat": 4,
 "nbformat_minor": 5
}
