{
 "cells": [
  {
   "cell_type": "markdown",
   "id": "c176a16d-75e6-4acd-92d9-dcbc9818bf90",
   "metadata": {},
   "source": [
    "# <center><b>LOOPS</b></center>"
   ]
  },
  {
   "cell_type": "markdown",
   "id": "46e2a884-422c-436f-b0c7-f740986e4882",
   "metadata": {},
   "source": [
    "- Same code we are using : **function**\n",
    "\n",
    "- multiple times we are using : **loop**\n",
    "\n",
    "- Every loop we need 3 points :\n",
    "\n",
    "  - Initialization [ ENTRY ]\n",
    "\n",
    "  - Increment or Decrement  [ ROTATION ]\n",
    " \n",
    "  - Condition to STOP  [ EXIT ]"
   ]
  },
  {
   "cell_type": "markdown",
   "id": "56886674-dfb4-4e18-9360-fdedc939c5f4",
   "metadata": {},
   "source": [
    "# 2 Types of Loops:\n",
    "\n",
    "    - for : Is used when we know how many times the loop should run\n",
    "\n",
    "    - while : Is used when we don't know how many times\n",
    "\n",
    "        - but we know that the loop should run till condition is **True**"
   ]
  },
  {
   "cell_type": "markdown",
   "id": "d24c5b73-d059-48a9-83fd-418e00f78d7a",
   "metadata": {},
   "source": [
    "# For Loop :"
   ]
  },
  {
   "cell_type": "markdown",
   "id": "4b18e05a-e331-4d4d-99cd-ceae6ff878d5",
   "metadata": {},
   "source": [
    "# Case 1 : range(stop)\n",
    "\n",
    "- When we see a format **range(value)**\n",
    "\n",
    "- Start value by default **0**\n",
    "\n",
    "- By default increment by **+1**\n",
    "\n",
    "- Last value = stop - 1"
   ]
  },
  {
   "cell_type": "code",
   "execution_count": null,
   "id": "01424dd3-5f7c-4161-9cc7-ff042caaa47e",
   "metadata": {},
   "outputs": [],
   "source": [
    "print(0)\n",
    "print(1)\n",
    "print(2)\n",
    "print(3)    # range(4)\n",
    "\n",
    "print(i)"
   ]
  },
  {
   "cell_type": "code",
   "execution_count": 19,
   "id": "b334517e-9b55-4c28-9244-c4a33d67cd7f",
   "metadata": {},
   "outputs": [
    {
     "name": "stdout",
     "output_type": "stream",
     "text": [
      "0\n",
      "1\n",
      "2\n",
      "3\n"
     ]
    }
   ],
   "source": [
    "for i in range(4):\n",
    "    print(i)"
   ]
  },
  {
   "cell_type": "code",
   "execution_count": 21,
   "id": "424d2f45-5053-4f39-a0ef-3112febc606b",
   "metadata": {},
   "outputs": [
    {
     "name": "stdout",
     "output_type": "stream",
     "text": [
      "Hello\n",
      "Hello\n",
      "Hello\n"
     ]
    }
   ],
   "source": [
    "for i in range(3):\n",
    "    print('Hello')"
   ]
  },
  {
   "cell_type": "code",
   "execution_count": 25,
   "id": "74be0d57-e04d-4142-91a6-8125b58ac631",
   "metadata": {},
   "outputs": [
    {
     "name": "stdout",
     "output_type": "stream",
     "text": [
      "0\n",
      "1\n",
      "4\n",
      "9\n",
      "16\n"
     ]
    }
   ],
   "source": [
    "#WAP to print the square of the number from 0 to 4\n",
    "for i in range(5):\n",
    "    a=i*i\n",
    "    print(a)"
   ]
  },
  {
   "cell_type": "code",
   "execution_count": 35,
   "id": "8b8eb40e-3f3f-4321-8457-d8630f8ce15f",
   "metadata": {},
   "outputs": [
    {
     "name": "stdout",
     "output_type": "stream",
     "text": [
      "the square of 0 is 0\n",
      "the square of 1 is 1\n",
      "the square of 2 is 4\n",
      "the square of 3 is 9\n",
      "the square of 4 is 16\n"
     ]
    }
   ],
   "source": [
    "for i in range(0,5):\n",
    "    print(f'the square of {i} is {i*i}')"
   ]
  },
  {
   "cell_type": "code",
   "execution_count": 45,
   "id": "3f1d38fb-f38d-49e1-a6cc-dfcca0d30ec9",
   "metadata": {},
   "outputs": [
    {
     "name": "stdout",
     "output_type": "stream",
     "text": [
      "0 time\n"
     ]
    },
    {
     "name": "stdin",
     "output_type": "stream",
     "text": [
      "Enter the number:  1\n"
     ]
    },
    {
     "name": "stdout",
     "output_type": "stream",
     "text": [
      "The square of 1 is 1\n",
      "1 time\n"
     ]
    },
    {
     "name": "stdin",
     "output_type": "stream",
     "text": [
      "Enter the number:  2\n"
     ]
    },
    {
     "name": "stdout",
     "output_type": "stream",
     "text": [
      "The square of 2 is 4\n",
      "2 time\n"
     ]
    },
    {
     "name": "stdin",
     "output_type": "stream",
     "text": [
      "Enter the number:  3\n"
     ]
    },
    {
     "name": "stdout",
     "output_type": "stream",
     "text": [
      "The square of 3 is 9\n",
      "3 time\n"
     ]
    },
    {
     "name": "stdin",
     "output_type": "stream",
     "text": [
      "Enter the number:  4\n"
     ]
    },
    {
     "name": "stdout",
     "output_type": "stream",
     "text": [
      "The square of 4 is 16\n",
      "4 time\n"
     ]
    },
    {
     "name": "stdin",
     "output_type": "stream",
     "text": [
      "Enter the number:  5\n"
     ]
    },
    {
     "name": "stdout",
     "output_type": "stream",
     "text": [
      "The square of 5 is 25\n"
     ]
    }
   ],
   "source": [
    "for i in range(0,5):\n",
    "    print(f\"{i} time\")\n",
    "    num=eval(input('Enter the number: '))\n",
    "    print(f'The square of {num} is {num*num}')"
   ]
  },
  {
   "cell_type": "code",
   "execution_count": 47,
   "id": "f1a32d5c-fa1a-44f7-906a-b5d73a83300f",
   "metadata": {},
   "outputs": [
    {
     "name": "stdout",
     "output_type": "stream",
     "text": [
      "The square of 29 is 841\n",
      "The square of 12 is 144\n",
      "The square of 24 is 576\n",
      "The square of 4 is 16\n",
      "The square of 59 is 3481\n"
     ]
    }
   ],
   "source": [
    "import random\n",
    "for i in range(5):\n",
    "    num=random.randint(1,100)\n",
    "    print(f'The square of {num} is {num*num}')"
   ]
  },
  {
   "cell_type": "markdown",
   "id": "249b2339-b56b-4a9e-9c78-aa588e09528b",
   "metadata": {},
   "source": [
    "# Case 2 : range(start,stop)\n",
    "\n",
    "- When we see a format **range(value1,value2)**\n",
    "\n",
    "- Start = Start\n",
    "\n",
    "- By default increment by **+1**\n",
    "\n",
    "- Last value = stop - 1\n",
    "\n",
    "- range(5,10)\n",
    "\n",
    "- start = 5 increment = 1 last = 10-1 =9    || 5,6,7,8,9"
   ]
  },
  {
   "cell_type": "code",
   "execution_count": 54,
   "id": "da239039-e231-4555-8153-311af60aa765",
   "metadata": {},
   "outputs": [
    {
     "name": "stdout",
     "output_type": "stream",
     "text": [
      "5\n",
      "6\n",
      "7\n",
      "8\n",
      "9\n"
     ]
    }
   ],
   "source": [
    "import random\n",
    "for i in range(5,10):\n",
    "   print(i)"
   ]
  },
  {
   "cell_type": "code",
   "execution_count": 56,
   "id": "21149fed-2ea6-43a5-8d3f-723645209ba3",
   "metadata": {},
   "outputs": [
    {
     "name": "stdout",
     "output_type": "stream",
     "text": [
      "5 6 7 8 9 "
     ]
    }
   ],
   "source": [
    "import random\n",
    "for i in range(5,10):\n",
    "   print(i,end=' ')"
   ]
  },
  {
   "cell_type": "code",
   "execution_count": 58,
   "id": "4f77e76a-3c79-4c32-bc40-db577e74544b",
   "metadata": {},
   "outputs": [
    {
     "name": "stdout",
     "output_type": "stream",
     "text": [
      "5 6\n"
     ]
    }
   ],
   "source": [
    "print(5,end=' ')\n",
    "print(6)"
   ]
  },
  {
   "cell_type": "markdown",
   "id": "acef9c73-aceb-471f-935d-f63b558cfbdd",
   "metadata": {},
   "source": [
    "for i in range(5,10):    ====> Used only for **ROTATION**"
   ]
  },
  {
   "cell_type": "code",
   "execution_count": 61,
   "id": "88626612-1b95-43f1-91de-e7f2da7f9a13",
   "metadata": {},
   "outputs": [
    {
     "name": "stdout",
     "output_type": "stream",
     "text": [
      "The square of 20 is 400\n",
      "The square of 21 is 441\n",
      "The square of 22 is 484\n",
      "The square of 23 is 529\n",
      "The square of 24 is 576\n"
     ]
    }
   ],
   "source": [
    "for i in range(20,25):\n",
    "    print(f'The square of {i} is {i*i}')"
   ]
  },
  {
   "cell_type": "code",
   "execution_count": 63,
   "id": "ec51842d-1efe-4958-8bb2-3864d4929ebe",
   "metadata": {},
   "outputs": [
    {
     "name": "stdin",
     "output_type": "stream",
     "text": [
      "Enter the num:  10\n"
     ]
    },
    {
     "name": "stdout",
     "output_type": "stream",
     "text": [
      "The square of 10 is 100\n"
     ]
    },
    {
     "name": "stdin",
     "output_type": "stream",
     "text": [
      "Enter the num:  20\n"
     ]
    },
    {
     "name": "stdout",
     "output_type": "stream",
     "text": [
      "The square of 20 is 400\n"
     ]
    },
    {
     "name": "stdin",
     "output_type": "stream",
     "text": [
      "Enter the num:  30\n"
     ]
    },
    {
     "name": "stdout",
     "output_type": "stream",
     "text": [
      "The square of 30 is 900\n"
     ]
    },
    {
     "name": "stdin",
     "output_type": "stream",
     "text": [
      "Enter the num:  40\n"
     ]
    },
    {
     "name": "stdout",
     "output_type": "stream",
     "text": [
      "The square of 40 is 1600\n"
     ]
    },
    {
     "name": "stdin",
     "output_type": "stream",
     "text": [
      "Enter the num:  50\n"
     ]
    },
    {
     "name": "stdout",
     "output_type": "stream",
     "text": [
      "The square of 50 is 2500\n"
     ]
    },
    {
     "name": "stdin",
     "output_type": "stream",
     "text": [
      "Enter the num:  60\n"
     ]
    },
    {
     "name": "stdout",
     "output_type": "stream",
     "text": [
      "The square of 60 is 3600\n"
     ]
    },
    {
     "ename": "KeyboardInterrupt",
     "evalue": "Interrupted by user",
     "output_type": "error",
     "traceback": [
      "\u001b[1;31m---------------------------------------------------------------------------\u001b[0m",
      "\u001b[1;31mKeyboardInterrupt\u001b[0m                         Traceback (most recent call last)",
      "Cell \u001b[1;32mIn[63], line 2\u001b[0m\n\u001b[0;32m      1\u001b[0m \u001b[38;5;28;01mfor\u001b[39;00m i \u001b[38;5;129;01min\u001b[39;00m \u001b[38;5;28mrange\u001b[39m(\u001b[38;5;241m230\u001b[39m,\u001b[38;5;241m245\u001b[39m):\n\u001b[1;32m----> 2\u001b[0m     num\u001b[38;5;241m=\u001b[39m\u001b[38;5;28meval\u001b[39m(\u001b[38;5;28minput\u001b[39m(\u001b[38;5;124m'\u001b[39m\u001b[38;5;124mEnter the num: \u001b[39m\u001b[38;5;124m'\u001b[39m))\n\u001b[0;32m      3\u001b[0m     \u001b[38;5;28mprint\u001b[39m(\u001b[38;5;124mf\u001b[39m\u001b[38;5;124m'\u001b[39m\u001b[38;5;124mThe square of \u001b[39m\u001b[38;5;132;01m{\u001b[39;00mnum\u001b[38;5;132;01m}\u001b[39;00m\u001b[38;5;124m is \u001b[39m\u001b[38;5;132;01m{\u001b[39;00mnum\u001b[38;5;241m*\u001b[39mnum\u001b[38;5;132;01m}\u001b[39;00m\u001b[38;5;124m'\u001b[39m)\n",
      "File \u001b[1;32mE:\\Python Anaconda\\Lib\\site-packages\\ipykernel\\kernelbase.py:1262\u001b[0m, in \u001b[0;36mKernel.raw_input\u001b[1;34m(self, prompt)\u001b[0m\n\u001b[0;32m   1260\u001b[0m     msg \u001b[38;5;241m=\u001b[39m \u001b[38;5;124m\"\u001b[39m\u001b[38;5;124mraw_input was called, but this frontend does not support input requests.\u001b[39m\u001b[38;5;124m\"\u001b[39m\n\u001b[0;32m   1261\u001b[0m     \u001b[38;5;28;01mraise\u001b[39;00m StdinNotImplementedError(msg)\n\u001b[1;32m-> 1262\u001b[0m \u001b[38;5;28;01mreturn\u001b[39;00m \u001b[38;5;28mself\u001b[39m\u001b[38;5;241m.\u001b[39m_input_request(\n\u001b[0;32m   1263\u001b[0m     \u001b[38;5;28mstr\u001b[39m(prompt),\n\u001b[0;32m   1264\u001b[0m     \u001b[38;5;28mself\u001b[39m\u001b[38;5;241m.\u001b[39m_parent_ident[\u001b[38;5;124m\"\u001b[39m\u001b[38;5;124mshell\u001b[39m\u001b[38;5;124m\"\u001b[39m],\n\u001b[0;32m   1265\u001b[0m     \u001b[38;5;28mself\u001b[39m\u001b[38;5;241m.\u001b[39mget_parent(\u001b[38;5;124m\"\u001b[39m\u001b[38;5;124mshell\u001b[39m\u001b[38;5;124m\"\u001b[39m),\n\u001b[0;32m   1266\u001b[0m     password\u001b[38;5;241m=\u001b[39m\u001b[38;5;28;01mFalse\u001b[39;00m,\n\u001b[0;32m   1267\u001b[0m )\n",
      "File \u001b[1;32mE:\\Python Anaconda\\Lib\\site-packages\\ipykernel\\kernelbase.py:1305\u001b[0m, in \u001b[0;36mKernel._input_request\u001b[1;34m(self, prompt, ident, parent, password)\u001b[0m\n\u001b[0;32m   1302\u001b[0m \u001b[38;5;28;01mexcept\u001b[39;00m \u001b[38;5;167;01mKeyboardInterrupt\u001b[39;00m:\n\u001b[0;32m   1303\u001b[0m     \u001b[38;5;66;03m# re-raise KeyboardInterrupt, to truncate traceback\u001b[39;00m\n\u001b[0;32m   1304\u001b[0m     msg \u001b[38;5;241m=\u001b[39m \u001b[38;5;124m\"\u001b[39m\u001b[38;5;124mInterrupted by user\u001b[39m\u001b[38;5;124m\"\u001b[39m\n\u001b[1;32m-> 1305\u001b[0m     \u001b[38;5;28;01mraise\u001b[39;00m \u001b[38;5;167;01mKeyboardInterrupt\u001b[39;00m(msg) \u001b[38;5;28;01mfrom\u001b[39;00m \u001b[38;5;28;01mNone\u001b[39;00m\n\u001b[0;32m   1306\u001b[0m \u001b[38;5;28;01mexcept\u001b[39;00m \u001b[38;5;167;01mException\u001b[39;00m:\n\u001b[0;32m   1307\u001b[0m     \u001b[38;5;28mself\u001b[39m\u001b[38;5;241m.\u001b[39mlog\u001b[38;5;241m.\u001b[39mwarning(\u001b[38;5;124m\"\u001b[39m\u001b[38;5;124mInvalid Message:\u001b[39m\u001b[38;5;124m\"\u001b[39m, exc_info\u001b[38;5;241m=\u001b[39m\u001b[38;5;28;01mTrue\u001b[39;00m)\n",
      "\u001b[1;31mKeyboardInterrupt\u001b[0m: Interrupted by user"
     ]
    }
   ],
   "source": [
    "for i in range(230,245):\n",
    "    num=eval(input('Enter the num: '))\n",
    "    print(f'The square of {num} is {num*num}')"
   ]
  },
  {
   "cell_type": "markdown",
   "id": "ab664534-03ec-4bdf-a586-e3a7aa933494",
   "metadata": {},
   "source": [
    "# Case 3 : range(start,stop,step)\n",
    "\n",
    "- When we see a format **range(value1,value2,value3)**\n",
    "\n",
    "- Start = Start\n",
    "\n",
    "- Step:\n",
    "\n",
    "    - If step is a positive number it is **increment**\n",
    "\n",
    "        - Assume that step = **2** increment by **+ 2**\n",
    "        \n",
    "        - Last value = **stop - 1**\n",
    "     \n",
    "    - If step is a negative number it is **decrement**\n",
    " \n",
    "        - Assume that step = **- 2** decrement by **- 2**\n",
    "     \n",
    "        - Last value = **stop + 1**"
   ]
  },
  {
   "cell_type": "code",
   "execution_count": 68,
   "id": "68447c3b-54a6-448f-8f7a-79ed93166c17",
   "metadata": {},
   "outputs": [
    {
     "name": "stdout",
     "output_type": "stream",
     "text": [
      "2 5 8 11 14 17 "
     ]
    }
   ],
   "source": [
    "import random\n",
    "for i in range(2,20,3):\n",
    "   print(i,end=' ')"
   ]
  },
  {
   "cell_type": "markdown",
   "id": "e7009ed6-27b5-42be-ad53-1012deff1530",
   "metadata": {},
   "source": [
    "- range(20 , 8 , -2)\n",
    "  \n",
    "- start = 20\n",
    "\n",
    "- step = -2\n",
    "\n",
    "- last = stop + 1 = 8 + 1 =9\n",
    "\n",
    "20 19 18 17 16 15 14 13 12 11 10 9\n",
    "20    18    16    14    12    10"
   ]
  },
  {
   "cell_type": "code",
   "execution_count": 70,
   "id": "7b6d6218-b2aa-47da-8390-941f0b5f651b",
   "metadata": {},
   "outputs": [
    {
     "name": "stdout",
     "output_type": "stream",
     "text": [
      "20 18 16 14 12 10 "
     ]
    }
   ],
   "source": [
    "import random\n",
    "for i in range(20,8,-2):\n",
    "   print(i,end=' ')"
   ]
  },
  {
   "cell_type": "code",
   "execution_count": 73,
   "id": "18276930-6d34-4099-a552-01ce092c3f56",
   "metadata": {},
   "outputs": [
    {
     "name": "stdout",
     "output_type": "stream",
     "text": [
      "20 19 18 17 16 15 14 13 12 11 10 9 "
     ]
    }
   ],
   "source": [
    "import random\n",
    "for i in range(20,8,-1):\n",
    "   print(i,end=' ')"
   ]
  },
  {
   "cell_type": "code",
   "execution_count": 75,
   "id": "216c8ca6-909a-46a1-9aa8-429fe84c393f",
   "metadata": {},
   "outputs": [
    {
     "name": "stdout",
     "output_type": "stream",
     "text": [
      "20 18 16 14 12 10 8 "
     ]
    }
   ],
   "source": [
    "import random\n",
    "for i in range(20,7,-2):\n",
    "   print(i,end=' ')"
   ]
  },
  {
   "cell_type": "code",
   "execution_count": 79,
   "id": "4090efa4-2a67-4a7c-b118-25d4edee1cb0",
   "metadata": {},
   "outputs": [],
   "source": [
    "#range(2,20,-2)\n",
    "# start = 2\n",
    "# step = -2\n",
    "# last=stop+1=20+1=21\n",
    "for i in range(2,20,-2):\n",
    "    print(i)   # No Answer No Error"
   ]
  },
  {
   "cell_type": "code",
   "execution_count": 81,
   "id": "ea609f5e-38e7-4861-aa10-9f1fce04ec2f",
   "metadata": {},
   "outputs": [],
   "source": [
    "for i in range(20,2,2):\n",
    "    print(i)   # No Answer No Error"
   ]
  },
  {
   "cell_type": "code",
   "execution_count": 83,
   "id": "53afcee4-3926-4523-883c-03267f9ffae6",
   "metadata": {},
   "outputs": [],
   "source": [
    "for i in range(-20,2,-2):\n",
    "    print(i)   # No Answer No Error"
   ]
  },
  {
   "cell_type": "code",
   "execution_count": 89,
   "id": "e83d615f-91df-44e3-8a23-e87a7c411ebd",
   "metadata": {},
   "outputs": [
    {
     "name": "stdout",
     "output_type": "stream",
     "text": [
      "-20\n",
      "-18\n",
      "-16\n",
      "-14\n",
      "-12\n",
      "-10\n",
      "-8\n",
      "-6\n",
      "-4\n",
      "-2\n",
      "0\n"
     ]
    }
   ],
   "source": [
    "for i in range(-20,2,2):\n",
    "    print(i)   "
   ]
  },
  {
   "cell_type": "code",
   "execution_count": 91,
   "id": "3f09a7a4-6a23-4cfc-918b-00cff477c37d",
   "metadata": {},
   "outputs": [
    {
     "name": "stdout",
     "output_type": "stream",
     "text": [
      "3\n",
      "6\n",
      "9\n",
      "12\n"
     ]
    }
   ],
   "source": [
    "for i in range(3,15,3):\n",
    "    print(i)   "
   ]
  },
  {
   "cell_type": "code",
   "execution_count": 93,
   "id": "5ab9cea3-843d-49a4-8af1-1b0905b520b8",
   "metadata": {},
   "outputs": [],
   "source": [
    "for i in range(3,15,-3):\n",
    "    print(i)   "
   ]
  }
 ],
 "metadata": {
  "kernelspec": {
   "display_name": "Python [conda env:base] *",
   "language": "python",
   "name": "conda-base-py"
  },
  "language_info": {
   "codemirror_mode": {
    "name": "ipython",
    "version": 3
   },
   "file_extension": ".py",
   "mimetype": "text/x-python",
   "name": "python",
   "nbconvert_exporter": "python",
   "pygments_lexer": "ipython3",
   "version": "3.12.7"
  }
 },
 "nbformat": 4,
 "nbformat_minor": 5
}
