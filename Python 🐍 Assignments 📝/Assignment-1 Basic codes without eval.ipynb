{
 "cells": [
  {
   "cell_type": "markdown",
   "id": "9c4b3a70-cb5a-4b75-9267-fd367f5ab1a2",
   "metadata": {},
   "source": [
    "<center><h1><b>Assignment - 1 basic codes without eval</b></h1></center>"
   ]
  },
  {
   "cell_type": "code",
   "execution_count": 11,
   "id": "d8b67c22-c772-41c0-90c9-14f0174329b9",
   "metadata": {},
   "outputs": [
    {
     "name": "stdin",
     "output_type": "stream",
     "text": [
      "Enter n1 value:  10\n",
      "Enter n2 value:  20\n",
      "Enter n3 value:  30\n"
     ]
    },
    {
     "name": "stdout",
     "output_type": "stream",
     "text": [
      "The average of 10.0 20.0 and 30.0 is 20.0\n",
      "The average of 10.0 20.0 and 30.0 is 20.0\n",
      "The average of 10.0 20.0 and 30.0 is 20.0\n"
     ]
    }
   ],
   "source": [
    "n1=float(input('Enter n1 value: '))\n",
    "n2=float(input('Enter n2 value: '))\n",
    "n3=float(input('Enter n3 value: '))\n",
    "\n",
    "avg=(n1+n2+n3)/3\n",
    "\n",
    "print('The average of',n1,n2,'and',n3,'is',avg)\n",
    "print('The average of {} {} and {} is {}'.format(n1,n2,n3,avg))\n",
    "print(f'The average of {n1} {n2} and {n3} is {avg}')"
   ]
  },
  {
   "cell_type": "code",
   "execution_count": 39,
   "id": "a7fd4b15-052c-43fa-b85d-c991d5e5bea4",
   "metadata": {},
   "outputs": [
    {
     "name": "stdin",
     "output_type": "stream",
     "text": [
      "Enter radius of a circle:  1.52\n"
     ]
    },
    {
     "name": "stdout",
     "output_type": "stream",
     "text": [
      "The area of circle is 7.258\n",
      "The area of circle is 7.258\n"
     ]
    }
   ],
   "source": [
    "r=float(input('Enter radius of a circle: '))\n",
    "pi=3.1415926536\n",
    "\n",
    "area=pi*r*r\n",
    "area = round(area, 3)\n",
    "\n",
    "print(f'The area of circle is',area)\n",
    "print('The area of circle is {}'.format(area))"
   ]
  },
  {
   "cell_type": "code",
   "execution_count": 43,
   "id": "b0c3b262-abe1-40b4-9670-55ad5269902a",
   "metadata": {},
   "outputs": [
    {
     "name": "stdin",
     "output_type": "stream",
     "text": [
      "Enter base of a triangle:  5.4\n",
      "Enter height of a triangle:  6.458\n"
     ]
    },
    {
     "name": "stdout",
     "output_type": "stream",
     "text": [
      "Area of triangle is 17.44\n",
      "Area of triangle is 17.44\n",
      "Area of triangle is 17.44\n"
     ]
    }
   ],
   "source": [
    "b=float(input('Enter base of a triangle: '))\n",
    "h=float(input('Enter height of a triangle: '))\n",
    "\n",
    "area=0.5*b*h\n",
    "area=round(area,2)\n",
    "\n",
    "print('Area of triangle is',area)\n",
    "print(f'Area of triangle is',area)\n",
    "print('Area of triangle is {}'.format(area))"
   ]
  },
  {
   "cell_type": "code",
   "execution_count": 31,
   "id": "f87b621e-d763-4c38-98d8-c52c9335ef65",
   "metadata": {},
   "outputs": [
    {
     "name": "stdin",
     "output_type": "stream",
     "text": [
      "Enter bill amount:  100\n",
      "Enter tip amount:  50\n"
     ]
    },
    {
     "name": "stdout",
     "output_type": "stream",
     "text": [
      "Total amount is 150.0\n",
      "Total amount is 150.0\n",
      "Total amount is 150.0\n"
     ]
    }
   ],
   "source": [
    "a=float(input('Enter bill amount: '))\n",
    "b=float(input('Enter tip amount: '))\n",
    "total_amount=a+b\n",
    "print('Total amount is',total_amount)\n",
    "print(f'Total amount is',total_amount)\n",
    "print('Total amount is {}'.format(total_amount))"
   ]
  },
  {
   "cell_type": "code",
   "execution_count": 47,
   "id": "54f5c8e7-67d8-40c0-94e8-3d047fd7e819",
   "metadata": {},
   "outputs": [
    {
     "name": "stdin",
     "output_type": "stream",
     "text": [
      "Enter length of a rectangle:  10.5\n",
      "Enter breadth of a rectangle:  3.33\n"
     ]
    },
    {
     "name": "stdout",
     "output_type": "stream",
     "text": [
      "Area of rectangle is 34.97\n",
      "Area of rectangle is 34.97\n",
      "Area of rectangle is 34.97\n"
     ]
    }
   ],
   "source": [
    "l=float(input('Enter length of a rectangle: '))\n",
    "b=float(input('Enter breadth of a rectangle: '))\n",
    "\n",
    "area=l*b\n",
    "area=round(area,2)\n",
    "\n",
    "print('Area of rectangle is',area)\n",
    "print(f'Area of rectangle is',area)\n",
    "print('Area of rectangle is {}'.format(area))"
   ]
  }
 ],
 "metadata": {
  "kernelspec": {
   "display_name": "Python [conda env:base] *",
   "language": "python",
   "name": "conda-base-py"
  },
  "language_info": {
   "codemirror_mode": {
    "name": "ipython",
    "version": 3
   },
   "file_extension": ".py",
   "mimetype": "text/x-python",
   "name": "python",
   "nbconvert_exporter": "python",
   "pygments_lexer": "ipython3",
   "version": "3.12.7"
  }
 },
 "nbformat": 4,
 "nbformat_minor": 5
}
