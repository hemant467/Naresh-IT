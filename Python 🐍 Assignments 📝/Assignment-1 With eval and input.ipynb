{
 "cells": [
  {
   "cell_type": "markdown",
   "id": "98486b0f-d4d3-4990-8560-b282e9f05e3b",
   "metadata": {},
   "source": [
    "<center><h1><b>Assignment - 1 basic codes using eval and input</b></h1></center>"
   ]
  },
  {
   "cell_type": "code",
   "execution_count": 45,
   "id": "044f5b92-87d1-4ae8-93c1-a491b3e8f282",
   "metadata": {},
   "outputs": [
    {
     "name": "stdin",
     "output_type": "stream",
     "text": [
      "Enter n1 value:  10\n",
      "Enter n2 value:  20\n",
      "Enter n3 value:  30\n"
     ]
    },
    {
     "name": "stdout",
     "output_type": "stream",
     "text": [
      "The average of 10 20 and 30 is 20.0\n",
      "The average of 10 20 and 30 is 20.0\n",
      "The average of 10 20 and 30 is 20.0\n"
     ]
    }
   ],
   "source": [
    "n1=eval(input('Enter n1 value: '))\n",
    "n2=eval(input('Enter n2 value: '))\n",
    "n3=eval(input('Enter n3 value: '))\n",
    "\n",
    "avg=(n1+n2+n3)/3\n",
    "\n",
    "print('The average of',n1,n2,'and',n3,'is',avg)\n",
    "print('The average of {} {} and {} is {}'.format(n1,n2,n3,avg))\n",
    "print(f'The average of {n1} {n2} and {n3} is {avg}')"
   ]
  },
  {
   "cell_type": "code",
   "execution_count": 26,
   "id": "47072a7b-e7a3-4a05-b1cb-eeb1f20efd23",
   "metadata": {},
   "outputs": [
    {
     "name": "stdin",
     "output_type": "stream",
     "text": [
      "Enter radius of a circle:  50.2\n"
     ]
    },
    {
     "name": "stdout",
     "output_type": "stream",
     "text": [
      "The area of circle is 7916.939\n",
      "The area of circle is 7916.939\n"
     ]
    }
   ],
   "source": [
    "r=eval(input('Enter radius of a circle: '))\n",
    "pi=3.1415926536\n",
    "\n",
    "area=pi*r*r\n",
    "area = round(area, 3)\n",
    "\n",
    "print(f'The area of circle is',area)\n",
    "print('The area of circle is {}'.format(area))"
   ]
  },
  {
   "cell_type": "code",
   "execution_count": 30,
   "id": "e9b0d1e5-b3b9-4d24-a32a-f847b9ba2332",
   "metadata": {},
   "outputs": [
    {
     "name": "stdin",
     "output_type": "stream",
     "text": [
      "Enter base of a triangle:  10.25\n",
      "Enter height of a triangle:  2\n"
     ]
    },
    {
     "name": "stdout",
     "output_type": "stream",
     "text": [
      "Area of triangle is 10.25\n",
      "Area of triangle is 10.25\n",
      "Area of triangle is 10.25\n"
     ]
    }
   ],
   "source": [
    "b=eval(input('Enter base of a triangle: '))\n",
    "h=eval(input('Enter height of a triangle: '))\n",
    "\n",
    "area=0.5*b*h\n",
    "area=round(area,3)\n",
    "\n",
    "print('Area of triangle is',area)\n",
    "print(f'Area of triangle is',area)\n",
    "print('Area of triangle is {}'.format(area))"
   ]
  },
  {
   "cell_type": "code",
   "execution_count": 36,
   "id": "a362f975-d3fc-4650-bd4f-f9d827b9abdb",
   "metadata": {},
   "outputs": [
    {
     "name": "stdin",
     "output_type": "stream",
     "text": [
      "Enter the bill amount:  2000\n",
      "Enter the tip percent:  25.45\n"
     ]
    },
    {
     "name": "stdout",
     "output_type": "stream",
     "text": [
      "The total amount is: 2509.0\n",
      "The total amount is: 2509.0\n",
      "The total amount is: 2509.0 \n"
     ]
    }
   ],
   "source": [
    "bill_amount=eval(input('Enter the bill amount: '))\n",
    "tip_percent=eval(input('Enter the tip percent: '))\n",
    "\n",
    "tip_amount=bill_amount*tip_percent/100\n",
    "total_amount=bill_amount+tip_amount\n",
    "\n",
    "print('The total amount is:',total_amount)\n",
    "print(f'The total amount is: {total_amount}')\n",
    "print('The total amount is: {} '.format(total_amount))"
   ]
  },
  {
   "cell_type": "code",
   "execution_count": 43,
   "id": "5c0e8f2e-f211-4052-bf49-45ae1c385d3d",
   "metadata": {},
   "outputs": [
    {
     "name": "stdin",
     "output_type": "stream",
     "text": [
      "Enter length of a rectangle:  10.5\n",
      "Enter breadth of a rectangle:  2.95\n"
     ]
    },
    {
     "name": "stdout",
     "output_type": "stream",
     "text": [
      "Area of rectangle is 30.98\n",
      "Area of rectangle is 30.98\n",
      "Area of rectangle is 30.98\n"
     ]
    }
   ],
   "source": [
    "l=eval(input('Enter length of a rectangle: '))\n",
    "b=eval(input('Enter breadth of a rectangle: '))\n",
    "\n",
    "area=l*b\n",
    "area=round(area,2)\n",
    "\n",
    "print('Area of rectangle is',area)\n",
    "print(f'Area of rectangle is',area)\n",
    "print('Area of rectangle is {}'.format(area))"
   ]
  }
 ],
 "metadata": {
  "kernelspec": {
   "display_name": "Python [conda env:base] *",
   "language": "python",
   "name": "conda-base-py"
  },
  "language_info": {
   "codemirror_mode": {
    "name": "ipython",
    "version": 3
   },
   "file_extension": ".py",
   "mimetype": "text/x-python",
   "name": "python",
   "nbconvert_exporter": "python",
   "pygments_lexer": "ipython3",
   "version": "3.12.7"
  }
 },
 "nbformat": 4,
 "nbformat_minor": 5
}
