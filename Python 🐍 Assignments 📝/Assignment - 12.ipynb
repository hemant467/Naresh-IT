{
 "cells": [
  {
   "cell_type": "markdown",
   "id": "e4392107-61bb-471c-9879-df8e35aaae3e",
   "metadata": {},
   "source": [
    "<h1><center><b>Assignment - 12</b></center></h1>\n",
    "<h2><center><b>Python Important Questions</b></center></h2>"
   ]
  },
  {
   "cell_type": "markdown",
   "id": "15c1a32d-aa49-4931-a539-2aab3cbd221d",
   "metadata": {},
   "source": [
    "# WAP ask the user find the min value in a list with out using min"
   ]
  },
  {
   "cell_type": "code",
   "execution_count": 18,
   "id": "c7395609-c5a3-4828-b2b1-36a40da14ee6",
   "metadata": {},
   "outputs": [
    {
     "name": "stdout",
     "output_type": "stream",
     "text": [
      "1\n"
     ]
    }
   ],
   "source": [
    "a = [8, 3, 5, 12, 1, 7, 2, 10]\n",
    "\n",
    "smallest = a[0]\n",
    "\n",
    "for val in a:\n",
    "    if val < smallest:\n",
    "        smallest = val\n",
    "        \n",
    "print(smallest)"
   ]
  },
  {
   "cell_type": "markdown",
   "id": "56ca65a6-188e-410c-871a-1a4da792666c",
   "metadata": {},
   "source": [
    "# WAP ask the user find the max value in a list with out using max"
   ]
  },
  {
   "cell_type": "code",
   "execution_count": 16,
   "id": "631a6914-56f5-4f03-897d-a7ffb1b81538",
   "metadata": {},
   "outputs": [
    {
     "name": "stdout",
     "output_type": "stream",
     "text": [
      "12\n"
     ]
    }
   ],
   "source": [
    "a = [8, 3, 5, 12, 1, 7, 2, 10]\n",
    "\n",
    "largest = a[0]\n",
    "\n",
    "for val in a:\n",
    "    if val > largest:\n",
    "        largest = val\n",
    "        \n",
    "print(largest)"
   ]
  },
  {
   "cell_type": "code",
   "execution_count": 58,
   "id": "9b912b78-e174-4ae4-ac1d-0181bd9ac529",
   "metadata": {},
   "outputs": [
    {
     "name": "stdout",
     "output_type": "stream",
     "text": [
      "List is : [8, 3, 5, 12, 1, 7, 2, 10]\n",
      "\n",
      "Maximum value in a list is : 12\n"
     ]
    }
   ],
   "source": [
    "a = [8, 3, 5, 12, 1, 7, 2, 10]\n",
    "print(f'List is : {a}')\n",
    "\n",
    "largest = a[0]\n",
    "\n",
    "for val in a:\n",
    "    if val > largest:\n",
    "        largest = val\n",
    "        \n",
    "print(f'\\nMaximum value in a list is : {largest}')"
   ]
  },
  {
   "cell_type": "markdown",
   "id": "cfb2fa11-e973-42f0-9596-6bee7d0e4da1",
   "metadata": {},
   "source": [
    "# WAP ask the user find the second min value in a list with out using min"
   ]
  },
  {
   "cell_type": "code",
   "execution_count": 64,
   "id": "be2659c5-92c7-49c4-a01f-3d1c820ccf99",
   "metadata": {},
   "outputs": [
    {
     "name": "stdout",
     "output_type": "stream",
     "text": [
      "List is : [8, 3, 5, 1, 7, 2, 10]\n",
      "\n",
      "Second minimum value in a list is : 2\n"
     ]
    }
   ],
   "source": [
    "a = [8, 3, 5, 1, 7, 2, 10]\n",
    "print(f'List is : {a}')\n",
    "\n",
    "first_min = a[0]\n",
    "for val in a:\n",
    "    if val < first_min:\n",
    "        first_min = val\n",
    "\n",
    "second_min = None\n",
    "for val in a:\n",
    "    if val != first_min:\n",
    "        if second_min == None or val < second_min:\n",
    "            second_min = val\n",
    "\n",
    "print(f'\\nSecond minimum value in a list is : {second_min}')"
   ]
  },
  {
   "cell_type": "markdown",
   "id": "47924051-ff83-4db9-8469-19137594f2f4",
   "metadata": {},
   "source": [
    "# WAP ask the user find the second max value in a list with out using max"
   ]
  },
  {
   "cell_type": "code",
   "execution_count": 72,
   "id": "1cecb9bf-efd6-4529-9ed3-c68b59760192",
   "metadata": {},
   "outputs": [
    {
     "name": "stdout",
     "output_type": "stream",
     "text": [
      "List is : [8, 3, 15, 1, 7, 5, 10, 2]\n",
      "\n",
      "Second maximum value in a list is : 10\n"
     ]
    }
   ],
   "source": [
    "a = [8, 3, 15, 1, 7, 5, 10, 2]\n",
    "print(f'List is : {a}')\n",
    "\n",
    "first_min = a[0]\n",
    "for val in a:\n",
    "    if val > first_min:\n",
    "        first_min = val\n",
    "\n",
    "second_min = None\n",
    "for val in a:\n",
    "    if val != first_min:\n",
    "        if second_min == None or val > second_min:\n",
    "            second_min = val\n",
    "\n",
    "print(f'\\nSecond maximum value in a list is : {second_min}')"
   ]
  },
  {
   "cell_type": "markdown",
   "id": "d16c7bc6-02c7-421d-bbbc-473462d2aa46",
   "metadata": {},
   "source": [
    "# WAP ask the user sort the values in a list with out using sorting"
   ]
  },
  {
   "cell_type": "code",
   "execution_count": 75,
   "id": "8b303578-f2f1-4c9e-9725-6ef7d21d6b4f",
   "metadata": {},
   "outputs": [
    {
     "name": "stdin",
     "output_type": "stream",
     "text": [
      "How many numbers you want to sort in a list:  5\n",
      "Enter number:  10\n",
      "Enter number:  5\n",
      "Enter number:  15\n",
      "Enter number:  11\n",
      "Enter number:  4\n"
     ]
    },
    {
     "name": "stdout",
     "output_type": "stream",
     "text": [
      "Sorted list: [4, 5, 10, 11, 15]\n"
     ]
    }
   ],
   "source": [
    "n = int(input(\"How many numbers you want to sort in a list: \"))\n",
    "nums = [0] * n\n",
    "\n",
    "for i in range(n):\n",
    "    nums[i] = int(input(\"Enter number: \"))\n",
    "\n",
    "for i in range(n):\n",
    "    for j in range(i + 1, n):\n",
    "        if nums[i] > nums[j]:\n",
    "            nums[i], nums[j] = nums[j], nums[i]\n",
    "\n",
    "print(\"Sorted list:\", nums)\n"
   ]
  },
  {
   "cell_type": "code",
   "execution_count": 81,
   "id": "24c3a870-984b-4706-ac67-12b3a879b667",
   "metadata": {},
   "outputs": [
    {
     "name": "stdin",
     "output_type": "stream",
     "text": [
      "How many numbers you want to sort in a list:  5\n",
      "\n",
      "Enter number 1:  10\n",
      "\n",
      "Enter number 2:  6\n",
      "\n",
      "Enter number 3:  1\n",
      "\n",
      "Enter number 4:  5\n",
      "\n",
      "Enter number 5:  3\n"
     ]
    },
    {
     "name": "stdout",
     "output_type": "stream",
     "text": [
      "\n",
      "Sorted list: [1, 3, 5, 6, 10]\n"
     ]
    }
   ],
   "source": [
    "n = int(input(\"How many numbers you want to sort in a list: \"))\n",
    "nums = [0] * n  # Create a list of size n initialized with zeros\n",
    "\n",
    "for i in range(n):\n",
    "    nums[i] = int(input(f\"\\nEnter number {i+1}: \")) # Store each number at index i\n",
    "\n",
    "# Nested loop to sort the list\n",
    "for i in range(n):\n",
    "    for j in range(i + 1, n):\n",
    "        if nums[i] > nums[j]:         # If the current number is greater than the next one, swap the numbers\n",
    "            nums[i], nums[j] = nums[j], nums[i]   # Swapping up of numbers\n",
    "\n",
    "print(f\"\\nSorted list:\", nums)"
   ]
  },
  {
   "cell_type": "markdown",
   "id": "fff15b30-cc5c-4435-9e0a-fff437818a65",
   "metadata": {},
   "source": [
    "# WAP ask the user find the most repated word in a given string"
   ]
  },
  {
   "cell_type": "code",
   "execution_count": 97,
   "id": "8a5b91b0-b85a-400e-97ba-f88dbcbecd48",
   "metadata": {},
   "outputs": [
    {
     "name": "stdin",
     "output_type": "stream",
     "text": [
      "Enter a sentence:  He parked his bike at the bike stand\n"
     ]
    },
    {
     "name": "stdout",
     "output_type": "stream",
     "text": [
      "\n",
      "Repeating word: bike\n",
      "\n",
      "bike appeared 2 times\n"
     ]
    }
   ],
   "source": [
    "str1 = input(\"Enter a sentence: \")\n",
    "\n",
    "word_count = {}\n",
    "word = \"\"\n",
    "\n",
    "# Iterating each character in the input string\n",
    "for char in str1:\n",
    "    # Check for space or punctuation marks (indicating the end of a word)\n",
    "    if char == ' ' or char in \",.!?\":\n",
    "        if word:  \n",
    "            # Count occurrences of the word\n",
    "            if word in word_count:\n",
    "                word_count[word] += 1\n",
    "            else:\n",
    "                word_count[word] = 1\n",
    "            word = \"\"  # Reset the word for the next one\n",
    "    else:\n",
    "        word += char  # Add character to the current word\n",
    "\n",
    "# Don't forget to check the last word in case the sentence doesn't end with a space\n",
    "if word:\n",
    "    if word in word_count:\n",
    "        word_count[word] += 1\n",
    "    else:\n",
    "        word_count[word] = 1\n",
    "\n",
    "for word, count in word_count.items():\n",
    "    if count > 1:  # Check if the word is repeated\n",
    "        # Print the repeating word\n",
    "        print(f\"\\nRepeating word: {word}\")\n",
    "        print(f\"\\n{word} appeared {count} times\")"
   ]
  },
  {
   "cell_type": "code",
   "execution_count": 105,
   "id": "956d3375-b775-4fce-ad12-5698eef8897a",
   "metadata": {},
   "outputs": [
    {
     "name": "stdin",
     "output_type": "stream",
     "text": [
      "Enter a sentence:  He is riding on a bike\n"
     ]
    },
    {
     "name": "stdout",
     "output_type": "stream",
     "text": [
      "\n",
      "No repeating words found.\n"
     ]
    }
   ],
   "source": [
    "str1 = input(\"Enter a sentence: \")\n",
    "\n",
    "word_count = {}\n",
    "word = \"\"\n",
    "\n",
    "# Iterate through each character\n",
    "for char in str1:\n",
    "    if char == ' ' or char in \",.!?\":\n",
    "        if word:\n",
    "            word = word.lower()  # Convert to lowercase to handle case-insensitive match\n",
    "            if word in word_count:\n",
    "                word_count[word] += 1\n",
    "            else:\n",
    "                word_count[word] = 1\n",
    "            word = \"\"\n",
    "    else:\n",
    "        word += char\n",
    "\n",
    "# Check the last word\n",
    "if word:\n",
    "    word = word.lower()\n",
    "    if word in word_count:\n",
    "        word_count[word] += 1\n",
    "    else:\n",
    "        word_count[word] = 1\n",
    "\n",
    "# Flag to check if any word is repeated\n",
    "found = False\n",
    "\n",
    "for word, count in word_count.items():\n",
    "    if count > 1:\n",
    "        print(f\"\\nRepeating word: {word}\")\n",
    "        print(f\"\\n{word} appeared {count} times\")\n",
    "        found = True\n",
    "\n",
    "if not found:\n",
    "    print(f\"\\nNo repeating words found.\")"
   ]
  },
  {
   "cell_type": "code",
   "execution_count": 101,
   "id": "34b2febb-1efd-4a29-a6df-71c811e80b95",
   "metadata": {},
   "outputs": [
    {
     "name": "stdin",
     "output_type": "stream",
     "text": [
      "Enter a sentence:  He parked his bike at the bike stand\n"
     ]
    },
    {
     "name": "stdout",
     "output_type": "stream",
     "text": [
      "\n",
      "Repeating word: bike\n",
      "\n",
      "bike appeared 2 times\n"
     ]
    }
   ],
   "source": [
    "str1 = input(\"Enter a sentence: \")\n",
    "\n",
    "word_count = {}\n",
    "word = \"\"\n",
    "\n",
    "# Iterate through each character\n",
    "for char in str1:\n",
    "    if char == ' ' or char in \",.!?\":\n",
    "        if word:\n",
    "            word = word.lower()  # Convert to lowercase to handle case-insensitive match\n",
    "            if word in word_count:\n",
    "                word_count[word] += 1\n",
    "            else:\n",
    "                word_count[word] = 1\n",
    "            word = \"\"\n",
    "    else:\n",
    "        word += char\n",
    "\n",
    "# Check the last word\n",
    "if word:\n",
    "    word = word.lower()\n",
    "    if word in word_count:\n",
    "        word_count[word] += 1\n",
    "    else:\n",
    "        word_count[word] = 1\n",
    "\n",
    "# Flag to check if any word is repeated\n",
    "found = False\n",
    "\n",
    "for word, count in word_count.items():\n",
    "    if count > 1:\n",
    "        print(f\"\\nRepeating word: {word}\")\n",
    "        print(f\"\\n{word} appeared {count} times\")\n",
    "        found = True\n",
    "\n",
    "if not found:\n",
    "    print(f\"\\nNo repeating words found.\")"
   ]
  },
  {
   "cell_type": "markdown",
   "id": "ae0d0987-5b72-4671-8052-c4bd0e244dc1",
   "metadata": {},
   "source": [
    "# WAP ask the user find the longest word in a given string"
   ]
  },
  {
   "cell_type": "code",
   "execution_count": 5,
   "id": "e0e5f20f-cdee-4fe6-ba25-3ee5bb5cd4f1",
   "metadata": {},
   "outputs": [
    {
     "name": "stdin",
     "output_type": "stream",
     "text": [
      "Enter a sentence:  Happy birthday to you\n"
     ]
    },
    {
     "name": "stdout",
     "output_type": "stream",
     "text": [
      "birthday\n"
     ]
    }
   ],
   "source": [
    "str1 = input(\"Enter a sentence: \")\n",
    "words = str1.split()\n",
    "longest_word = words[0]\n",
    "\n",
    "for word in words[1:]:\n",
    "    if len(word) > len(longest_word):\n",
    "        longest_word = word\n",
    "\n",
    "print(longest_word)"
   ]
  },
  {
   "cell_type": "markdown",
   "id": "1c1e636a-5df6-4636-abe0-3f26fb47f154",
   "metadata": {},
   "source": [
    "# WAP ask the user find the smallest word in a given string"
   ]
  },
  {
   "cell_type": "code",
   "execution_count": 109,
   "id": "7c44aadf-52dc-41fd-a82b-7cedbf5f7bb2",
   "metadata": {},
   "outputs": [
    {
     "name": "stdin",
     "output_type": "stream",
     "text": [
      "Enter a sentence:  He is going to school\n"
     ]
    },
    {
     "name": "stdout",
     "output_type": "stream",
     "text": [
      "Smallest word: He\n"
     ]
    }
   ],
   "source": [
    "def smallestWord(s):\n",
    "    words = s.split()  # Split the sentence into words\n",
    "    smallest = words[0]  # Let us assume the first word is the smallest\n",
    "\n",
    "    for word in words:\n",
    "        if len(word) < len(smallest):\n",
    "            smallest = word  # Update if a smaller word is found\n",
    "\n",
    "    print(\"Smallest word:\", smallest)\n",
    "\n",
    "# Driver code\n",
    "s = input(\"Enter a sentence: \")\n",
    "smallestWord(s)"
   ]
  },
  {
   "cell_type": "code",
   "execution_count": 111,
   "id": "893f0d6a-1841-450d-af97-c4b2e42ae064",
   "metadata": {},
   "outputs": [
    {
     "name": "stdin",
     "output_type": "stream",
     "text": [
      "Enter a sentence:  He is going to school\n"
     ]
    },
    {
     "name": "stdout",
     "output_type": "stream",
     "text": [
      "Smallest word: He\n",
      "It appears 1 time(s) in the sentence.\n"
     ]
    }
   ],
   "source": [
    "def smallestWord(s):\n",
    "    words = s.split()  # Split the sentence into words\n",
    "    smallest = words[0]  # Assume the first word is the smallest\n",
    "\n",
    "    # Find the smallest word by length\n",
    "    for word in words:\n",
    "        if len(word) < len(smallest):\n",
    "            smallest = word\n",
    "\n",
    "    # Count how many times the smallest word appears\n",
    "    count = 0\n",
    "    for word in words:\n",
    "        if word == smallest:\n",
    "            count += 1\n",
    "\n",
    "    print(\"Smallest word:\", smallest)\n",
    "    print(\"It appears\", count, \"time(s) in the sentence.\")\n",
    "\n",
    "# Driver code\n",
    "s = input(\"Enter a sentence: \")\n",
    "smallestWord(s)"
   ]
  },
  {
   "cell_type": "markdown",
   "id": "a87d33f9-be14-4acd-aa93-294a14947c1b",
   "metadata": {},
   "source": [
    "<h1><b><center>*** THE END ***</center></b></h1>"
   ]
  }
 ],
 "metadata": {
  "kernelspec": {
   "display_name": "Python [conda env:base] *",
   "language": "python",
   "name": "conda-base-py"
  },
  "language_info": {
   "codemirror_mode": {
    "name": "ipython",
    "version": 3
   },
   "file_extension": ".py",
   "mimetype": "text/x-python",
   "name": "python",
   "nbconvert_exporter": "python",
   "pygments_lexer": "ipython3",
   "version": "3.12.7"
  }
 },
 "nbformat": 4,
 "nbformat_minor": 5
}
