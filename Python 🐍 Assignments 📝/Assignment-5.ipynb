{
 "cells": [
  {
   "cell_type": "markdown",
   "id": "8b24f9a9-03fa-4a00-afe2-7542127b8093",
   "metadata": {},
   "source": [
    "<center><h1><b>ASSIGNMENT - 5</b></h1></center>"
   ]
  },
  {
   "cell_type": "code",
   "execution_count": 2,
   "id": "17bff654-d336-46a2-8da1-8bee78cff909",
   "metadata": {},
   "outputs": [],
   "source": [
    "import random"
   ]
  },
  {
   "cell_type": "code",
   "execution_count": 4,
   "id": "f2294151-c108-4a62-8fa2-09452b4a77af",
   "metadata": {},
   "outputs": [
    {
     "data": {
      "text/plain": [
       "<module 'random' from 'E:\\\\Python Anaconda\\\\Lib\\\\random.py'>"
      ]
     },
     "execution_count": 4,
     "metadata": {},
     "output_type": "execute_result"
    }
   ],
   "source": [
    "random"
   ]
  },
  {
   "cell_type": "code",
   "execution_count": 6,
   "id": "b44ec558-0ccb-4668-82fe-fe9514bb66c7",
   "metadata": {},
   "outputs": [
    {
     "data": {
      "text/plain": [
       "['BPF',\n",
       " 'LOG4',\n",
       " 'NV_MAGICCONST',\n",
       " 'RECIP_BPF',\n",
       " 'Random',\n",
       " 'SG_MAGICCONST',\n",
       " 'SystemRandom',\n",
       " 'TWOPI',\n",
       " '_ONE',\n",
       " '_Sequence',\n",
       " '__all__',\n",
       " '__builtins__',\n",
       " '__cached__',\n",
       " '__doc__',\n",
       " '__file__',\n",
       " '__loader__',\n",
       " '__name__',\n",
       " '__package__',\n",
       " '__spec__',\n",
       " '_accumulate',\n",
       " '_acos',\n",
       " '_bisect',\n",
       " '_ceil',\n",
       " '_cos',\n",
       " '_e',\n",
       " '_exp',\n",
       " '_fabs',\n",
       " '_floor',\n",
       " '_index',\n",
       " '_inst',\n",
       " '_isfinite',\n",
       " '_lgamma',\n",
       " '_log',\n",
       " '_log2',\n",
       " '_os',\n",
       " '_pi',\n",
       " '_random',\n",
       " '_repeat',\n",
       " '_sha512',\n",
       " '_sin',\n",
       " '_sqrt',\n",
       " '_test',\n",
       " '_test_generator',\n",
       " '_urandom',\n",
       " '_warn',\n",
       " 'betavariate',\n",
       " 'binomialvariate',\n",
       " 'choice',\n",
       " 'choices',\n",
       " 'expovariate',\n",
       " 'gammavariate',\n",
       " 'gauss',\n",
       " 'getrandbits',\n",
       " 'getstate',\n",
       " 'lognormvariate',\n",
       " 'normalvariate',\n",
       " 'paretovariate',\n",
       " 'randbytes',\n",
       " 'randint',\n",
       " 'random',\n",
       " 'randrange',\n",
       " 'sample',\n",
       " 'seed',\n",
       " 'setstate',\n",
       " 'shuffle',\n",
       " 'triangular',\n",
       " 'uniform',\n",
       " 'vonmisesvariate',\n",
       " 'weibullvariate']"
      ]
     },
     "execution_count": 6,
     "metadata": {},
     "output_type": "execute_result"
    }
   ],
   "source": [
    "dir(random)"
   ]
  },
  {
   "cell_type": "code",
   "execution_count": 8,
   "id": "1ab6cb13-696c-4851-bbea-bb9fd4e1a576",
   "metadata": {},
   "outputs": [],
   "source": [
    "from random import randint"
   ]
  },
  {
   "cell_type": "code",
   "execution_count": 10,
   "id": "fc821e04-15e7-4f5a-8d65-ce9f6e6a5f4c",
   "metadata": {},
   "outputs": [
    {
     "data": {
      "text/plain": [
       "92"
      ]
     },
     "execution_count": 10,
     "metadata": {},
     "output_type": "execute_result"
    }
   ],
   "source": [
    "randint(1,100)"
   ]
  },
  {
   "cell_type": "code",
   "execution_count": 12,
   "id": "9da0b5cb-c7b4-42bb-a642-7dffa12ac9c1",
   "metadata": {},
   "outputs": [
    {
     "name": "stdout",
     "output_type": "stream",
     "text": [
      "Genereating random numbers between 1 and 100 \n",
      "\n",
      "Original number: 12.53\n",
      "Rounded (ceil): 13\n",
      "\n",
      "Original number: 54.15\n",
      "Rounded (ceil): 55\n",
      "\n",
      "Original number: 42.94\n",
      "Rounded (ceil): 43\n",
      "\n",
      "Original number: 71.39\n",
      "Rounded (ceil): 72\n",
      "\n",
      "Original number: 98.69\n",
      "Rounded (ceil): 99\n",
      "\n",
      "EXECUTED!!!\n"
     ]
    }
   ],
   "source": [
    "import random\n",
    "import time\n",
    "from math import ceil\n",
    "\n",
    "# Generate 5 random float-like values between 1 and 100\n",
    "print(\"Genereating random numbers between 1 and 100 \\n\")\n",
    "time.sleep(1)\n",
    "\n",
    "for i in range(5):\n",
    "    num=random.randint(1,100) + random.random()\n",
    "    rounded_num=ceil(num)\n",
    "\n",
    "    print(f'Original number: {num:.2f}')\n",
    "    time.sleep(4)\n",
    "    print(f'Rounded (ceil): {rounded_num}\\n')\n",
    "    time.sleep(5)\n",
    "\n",
    "print('EXECUTED!!!')"
   ]
  },
  {
   "cell_type": "code",
   "execution_count": 16,
   "id": "4161896b-dee9-4745-b7ac-26b8253267b7",
   "metadata": {},
   "outputs": [
    {
     "name": "stdout",
     "output_type": "stream",
     "text": [
      "Genereating random numbers between 1 and 100 \n",
      "\n",
      "Original number: 31.27043277302128\n",
      "Rounded (ceil): 32\n",
      "\n",
      "Original number: 66.08158619148523\n",
      "Rounded (ceil): 67\n",
      "\n",
      "Original number: 25.253471298939118\n",
      "Rounded (ceil): 26\n",
      "\n",
      "Original number: 88.27490667798548\n",
      "Rounded (ceil): 89\n",
      "\n",
      "Original number: 15.952287570589341\n",
      "Rounded (ceil): 16\n",
      "\n",
      "EXECUTED!!!\n"
     ]
    }
   ],
   "source": [
    "import random\n",
    "import time\n",
    "from math import ceil\n",
    "\n",
    "# Generate 5 random float-like values between 1 and 100\n",
    "print(\"Genereating random numbers between 1 and 100 \\n\")\n",
    "time.sleep(1)\n",
    "\n",
    "for i in range(5):\n",
    "    num=random.randint(1,100) + random.random()\n",
    "    round(num,2)\n",
    "    rounded_num=ceil(num)\n",
    "\n",
    "    print(f'Original number: {num}')\n",
    "    time.sleep(4)\n",
    "    print(f'Rounded (ceil): {rounded_num}\\n')\n",
    "    time.sleep(5)\n",
    "\n",
    "print('EXECUTED!!!')"
   ]
  },
  {
   "cell_type": "code",
   "execution_count": 18,
   "id": "256c0c6e-132a-476a-b4e8-9e0a9ecc2eca",
   "metadata": {},
   "outputs": [
    {
     "name": "stdout",
     "output_type": "stream",
     "text": [
      "Generating random numbers between 1 and 100...\n",
      "\n",
      "Original number: 19.35\n",
      "Rounded (ceil): 20\n",
      "\n",
      "Original number: 97.26\n",
      "Rounded (ceil): 98\n",
      "\n",
      "Original number: 43.54\n",
      "Rounded (ceil): 44\n",
      "\n",
      "Original number: 71.25\n",
      "Rounded (ceil): 72\n",
      "\n",
      "Original number: 69.36\n",
      "Rounded (ceil): 70\n",
      "\n",
      "EXECUTED!!!\n"
     ]
    }
   ],
   "source": [
    "import random\n",
    "import time\n",
    "from math import ceil\n",
    "\n",
    "# Generate 5 random float-like values between 1 and 100\n",
    "print(\"Generating random numbers between 1 and 100...\\n\")\n",
    "time.sleep(1)\n",
    "\n",
    "for i in range(5):\n",
    "    num = random.randint(1, 100) + random.random()\n",
    "    rounded_num = ceil(num)\n",
    "\n",
    "    print(f'Original number: {round(num, 2)}')  # Round for display\n",
    "    time.sleep(2)  # Adjusted sleep for quicker output\n",
    "    print(f'Rounded (ceil): {rounded_num}\\n')\n",
    "    time.sleep(2)\n",
    "\n",
    "print('EXECUTED!!!')"
   ]
  },
  {
   "cell_type": "code",
   "execution_count": 14,
   "id": "4936d5a5-19d7-4410-b049-da5dd211b490",
   "metadata": {},
   "outputs": [
    {
     "name": "stdout",
     "output_type": "stream",
     "text": [
      "Random numbers are: 91, 50, 10\n",
      "Average: 50.33\n"
     ]
    }
   ],
   "source": [
    "import random\n",
    "\n",
    "# Simulate 3 random inputs using randint\n",
    "n1 = random.randint(1, 100)\n",
    "n2 = random.randint(1, 100)\n",
    "n3 = random.randint(1, 100)\n",
    "\n",
    "print(f\"Random numbers are: {n1}, {n2}, {n3}\")\n",
    "\n",
    "# Calculate average\n",
    "average = (n1 + n2 + n3) / 3\n",
    "print(f\"Average: {average:.2f}\")"
   ]
  },
  {
   "cell_type": "code",
   "execution_count": 56,
   "id": "7996eea5-9b65-483c-a8f4-d2463dcd48ba",
   "metadata": {},
   "outputs": [
    {
     "name": "stdout",
     "output_type": "stream",
     "text": [
      "Random numbers are: 97, 49, 14\n",
      "\n",
      "Average before ceil: 53.333333333333336\n",
      "\n",
      "Average: 54\n"
     ]
    }
   ],
   "source": [
    "import random\n",
    "from math import ceil\n",
    "\n",
    "# Simulate 3 random inputs using randint\n",
    "n1 = random.randint(1, 100)\n",
    "n2 = random.randint(1, 100)\n",
    "n3 = random.randint(1, 100)\n",
    "\n",
    "print(f\"Random numbers are: {n1}, {n2}, {n3}\\n\")\n",
    "\n",
    "# Calculate average\n",
    "avg = (n1 + n2 + n3) / 3\n",
    "print(f\"Average before ceil: {avg}\\n\")\n",
    "average = ceil(avg)\n",
    "time.sleep(5)\n",
    "print(f\"Average: {average}\")"
   ]
  },
  {
   "cell_type": "code",
   "execution_count": 24,
   "id": "cc432400-c5c6-4c6f-8d8e-f2af172bd59a",
   "metadata": {},
   "outputs": [
    {
     "name": "stdin",
     "output_type": "stream",
     "text": [
      "Enter your name:  RAHUL\n",
      "Enter your city:  Bengaluru\n"
     ]
    },
    {
     "name": "stdout",
     "output_type": "stream",
     "text": [
      "\n",
      "My name is RAHUL, I'm 82 years old and came from Bengaluru.\n"
     ]
    }
   ],
   "source": [
    "import random\n",
    "\n",
    "# INPUT\n",
    "name = input(\"Enter your name: \")\n",
    "city = input(\"Enter your city: \")\n",
    "\n",
    "# Generate a random age between 1 and 100\n",
    "age = random.randint(1, 100)\n",
    "\n",
    "# Print the sentence\n",
    "print(f\"\\nMy name is {name}, I'm {age} years old and came from {city}.\")"
   ]
  },
  {
   "cell_type": "code",
   "execution_count": 36,
   "id": "dadf7d2e-dd40-40ca-8f1f-ea4f82b1b7ce",
   "metadata": {},
   "outputs": [
    {
     "name": "stdout",
     "output_type": "stream",
     "text": [
      "The random radius of circle is : 94 Units\n",
      "\n",
      "The area of circle is : 27759.113 Sq.Units\n"
     ]
    }
   ],
   "source": [
    "import random\n",
    "\n",
    "r = random.randint(1,100)\n",
    "pi=3.1415926536\n",
    "\n",
    "print(f'The random radius of circle is : {r} Units')\n",
    "\n",
    "area=pi*r*r\n",
    "area = round(area, 3)\n",
    "\n",
    "print(f'\\nThe area of circle is : {area} Sq.Units')"
   ]
  },
  {
   "cell_type": "code",
   "execution_count": 58,
   "id": "91e4d34a-7ac6-4925-bb43-7bfd5d59a8f8",
   "metadata": {},
   "outputs": [
    {
     "name": "stdout",
     "output_type": "stream",
     "text": [
      "The base of a triangle is : 98 Units\n",
      "\n",
      "The height of a triangle is : 21 Units\n",
      "\n",
      "The area of triangle is : 1029.0 Sq.Units\n"
     ]
    }
   ],
   "source": [
    "import random\n",
    "\n",
    "b = random.randint(1,100)\n",
    "h = random.randint(1,100)\n",
    "\n",
    "print(f'The base of a triangle is : {b} Units')\n",
    "print(f'\\nThe height of a triangle is : {h} Units')\n",
    "\n",
    "area=0.5*b*h\n",
    "area = round(area, 3)\n",
    "\n",
    "print(f'\\nThe area of triangle is : {area} Sq.Units')"
   ]
  },
  {
   "cell_type": "code",
   "execution_count": 52,
   "id": "32e3c0e8-cfe6-4199-8494-039662b204f2",
   "metadata": {},
   "outputs": [
    {
     "name": "stdout",
     "output_type": "stream",
     "text": [
      "Bill Amount is : 8651\n",
      "\n",
      "Tip Amount is : 78\n",
      "\n",
      "The total amount is: 8729\n",
      "\n",
      "The total amount after round-off is: 8729\n",
      "The total amount after round-off is: 8729\n",
      "The total amount after round-off is: 8729 \n"
     ]
    }
   ],
   "source": [
    "import random\n",
    "from math import ceil\n",
    "\n",
    "bill_amount=random.randint(1,10000)\n",
    "tip_amount=random.randint(1,100)\n",
    "\n",
    "total_amount = bill_amount + tip_amount\n",
    "\n",
    "print(f'Bill Amount is : {bill_amount}')\n",
    "print(f'\\nTip Amount is : {tip_amount}')\n",
    "print(f'\\nThe total amount is: {total_amount}')\n",
    "print()\n",
    "\n",
    "total = ceil(total_amount)\n",
    "\n",
    "print('The total amount after round-off is:',total)\n",
    "print(f'The total amount after round-off is: {total}')\n",
    "print('The total amount after round-off is: {} '.format(total))"
   ]
  },
  {
   "cell_type": "code",
   "execution_count": 48,
   "id": "ab008cad-62f5-490a-b312-2760e0ffd42c",
   "metadata": {},
   "outputs": [
    {
     "name": "stdout",
     "output_type": "stream",
     "text": [
      "Bill Amount is : 73508\n",
      "Tip Percentage is : 91%\n",
      "Tip Amount is : 66892.28\n",
      "\n",
      "The total amount is: 140400.28\n",
      "\n",
      "The total amount after round-off is: 140401\n",
      "The total amount after round-off is: 140401\n",
      "The total amount after round-off is: 140401 \n"
     ]
    }
   ],
   "source": [
    "import random\n",
    "from math import ceil\n",
    "\n",
    "# Generate random bill amount and tip percentage\n",
    "bill_amount = random.randint(1, 100000)\n",
    "tip_percent = random.randint(1, 100)\n",
    "\n",
    "# Calculate tip and total\n",
    "tip_amount = bill_amount * tip_percent / 100\n",
    "total_amount = bill_amount + tip_amount\n",
    "\n",
    "# Print details\n",
    "print(f'Bill Amount is : {bill_amount}')\n",
    "print(f'Tip Percentage is : {tip_percent}%')\n",
    "print(f'Tip Amount is : {tip_amount:.2f}')\n",
    "print(f'\\nThe total amount is: {total_amount:.2f}')\n",
    "\n",
    "# Round off\n",
    "total = ceil(total_amount)\n",
    "\n",
    "print('\\nThe total amount after round-off is:', total)\n",
    "print(f'The total amount after round-off is: {total}')\n",
    "print('The total amount after round-off is: {} '.format(total))\n"
   ]
  },
  {
   "cell_type": "code",
   "execution_count": 60,
   "id": "733f390f-392c-411d-88aa-7cf6bfaeb0ea",
   "metadata": {},
   "outputs": [
    {
     "name": "stdout",
     "output_type": "stream",
     "text": [
      "The length of a rectangle is : 56 Units\n",
      "\n",
      "The breadth of a triangle is : 5 Units\n",
      "\n",
      "The area of a rectangle is : 280 Sq.Units\n"
     ]
    }
   ],
   "source": [
    "import random\n",
    "\n",
    "l = random.randint(1,100)\n",
    "b = random.randint(1,100)\n",
    "\n",
    "print(f'The length of a rectangle is : {l} Units')\n",
    "print(f'\\nThe breadth of a triangle is : {b} Units')\n",
    "\n",
    "area=l*b\n",
    "area = round(area)\n",
    "\n",
    "print(f'\\nThe area of a rectangle is : {area} Sq.Units')"
   ]
  },
  {
   "cell_type": "code",
   "execution_count": 66,
   "id": "a2d474c0-a951-4427-b776-955ec554a1f2",
   "metadata": {},
   "outputs": [
    {
     "name": "stdout",
     "output_type": "stream",
     "text": [
      "The radius of a sphere is : 15 Units\n",
      "\n",
      "The volume of a sphere is : 14137.166941200001 Cu.Units\n",
      "\n",
      "The volume of a sphere after round-off is : 14137 Cu.Units\n"
     ]
    }
   ],
   "source": [
    "import random\n",
    "\n",
    "r = random.randint(1,100)\n",
    "\n",
    "print(f'The radius of a sphere is : {r} Units')\n",
    "\n",
    "v=(4/3)*pi*r**3\n",
    "print(f'\\nThe volume of a sphere is : {v} Cu.Units')\n",
    "\n",
    "v = round(v)\n",
    "\n",
    "print(f'\\nThe volume of a sphere after round-off is : {v} Cu.Units')"
   ]
  },
  {
   "cell_type": "code",
   "execution_count": 78,
   "id": "86f76125-952b-4ab6-bb72-4e7cc1bc2513",
   "metadata": {},
   "outputs": [
    {
     "name": "stdout",
     "output_type": "stream",
     "text": [
      "\n",
      "Amount in dollars is : 879 $\n",
      "\n",
      "Amount in rupees is : 75356.67/- rupees\n"
     ]
    }
   ],
   "source": [
    "import random\n",
    "\n",
    "a = random.randint(1,1000)\n",
    "print(f'\\nAmount in dollars is : {a} $')\n",
    "dollar=a*85.73\n",
    "print(f'\\nAmount in rupees is : {dollar}/- rupees')"
   ]
  },
  {
   "cell_type": "code",
   "execution_count": 88,
   "id": "60dc9173-07cc-4531-a74f-fa1f49676490",
   "metadata": {},
   "outputs": [
    {
     "name": "stdout",
     "output_type": "stream",
     "text": [
      "\n",
      "Weight in Kg: 149 Kg\n",
      "\n",
      "Weight of 149 kg in pounds is 328.55 pounds\n"
     ]
    }
   ],
   "source": [
    "import random\n",
    "\n",
    "a = random.randint(0,1000)\n",
    "print(f'\\nWeight in Kg: {a} Kg')\n",
    "\n",
    "pound=a*2.205\n",
    "pound=round(pound,2)\n",
    "\n",
    "print(f'\\nWeight of {a} kg in pounds is {pound} pounds')"
   ]
  },
  {
   "cell_type": "markdown",
   "id": "daefbc19-a0d2-4124-8d89-fd643495aa01",
   "metadata": {},
   "source": [
    "<center><h1><b>*** THE END ***</b></h1></center>"
   ]
  }
 ],
 "metadata": {
  "kernelspec": {
   "display_name": "Python [conda env:base] *",
   "language": "python",
   "name": "conda-base-py"
  },
  "language_info": {
   "codemirror_mode": {
    "name": "ipython",
    "version": 3
   },
   "file_extension": ".py",
   "mimetype": "text/x-python",
   "name": "python",
   "nbconvert_exporter": "python",
   "pygments_lexer": "ipython3",
   "version": "3.12.7"
  }
 },
 "nbformat": 4,
 "nbformat_minor": 5
}
