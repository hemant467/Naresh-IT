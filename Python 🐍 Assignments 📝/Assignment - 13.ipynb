{
 "cells": [
  {
   "cell_type": "markdown",
   "id": "599c2ecf-edd9-4174-8ac4-7ab6eef7c0cb",
   "metadata": {},
   "source": [
    "<h1><center><b>Assignment - 13</b></center></h1>\n",
    "<h2><center><b>Strings</b></center></h2>"
   ]
  },
  {
   "cell_type": "markdown",
   "id": "88414aa9-c8df-4cae-9bc1-6b00b064eb19",
   "metadata": {},
   "source": [
    "# **1.** Write a program that asks the user to enter a string. The program should then print the following:\n",
    "- (a) The total number of characters in the string\n",
    "\n",
    "- (b) The string repeated **10 times**\n",
    "\n",
    "- (c) The first character of the string (remember that string indices start at 0) \n",
    "\n",
    "- (d) The **first three** characters of the string\n",
    "\n",
    "- (e) The **last three** characters of the string\n",
    "\n",
    "- (f) The string **backwards**\n",
    "\n",
    "- (g) The seventh character of the string if the string is long enough and a message otherwise\n",
    "\n",
    "- (h) The string with its **first** and **last** characters removed\n",
    "\n",
    "- (i) The string in all **caps**\n",
    "\n",
    "- (j) The string with every **a** replaced with an **e**"
   ]
  },
  {
   "cell_type": "code",
   "execution_count": 28,
   "id": "72b58cd2-45b5-4871-b8cb-d816653fce49",
   "metadata": {},
   "outputs": [
    {
     "name": "stdin",
     "output_type": "stream",
     "text": [
      "Enter a string:  An apple a day keeps the doctor away\n"
     ]
    },
    {
     "name": "stdout",
     "output_type": "stream",
     "text": [
      "\n",
      "(a) Total number of characters: 36\n",
      "\n",
      "(b) String repeated 10 times: \n",
      "\n",
      "1. An apple a day keeps the doctor away\n",
      "\n",
      "2. An apple a day keeps the doctor away\n",
      "\n",
      "3. An apple a day keeps the doctor away\n",
      "\n",
      "4. An apple a day keeps the doctor away\n",
      "\n",
      "5. An apple a day keeps the doctor away\n",
      "\n",
      "6. An apple a day keeps the doctor away\n",
      "\n",
      "7. An apple a day keeps the doctor away\n",
      "\n",
      "8. An apple a day keeps the doctor away\n",
      "\n",
      "9. An apple a day keeps the doctor away\n",
      "\n",
      "10. An apple a day keeps the doctor away\n",
      "\n",
      "(c) First character: A\n",
      "\n",
      "(d) First three characters: An \n",
      "\n",
      "(e) Last three characters: way\n",
      "\n",
      "(f) String backwards: yawa rotcod eht speek yad a elppa nA\n",
      "\n",
      "(g) Seventh character: l\n",
      "\n",
      "(h) Without first and last characters: n apple a day keeps the doctor awa\n",
      "\n",
      "(i) All caps: AN APPLE A DAY KEEPS THE DOCTOR AWAY\n",
      "\n",
      "(j) Replace 'a' with 'e': en epple e dey keeps the doctor ewey\n"
     ]
    }
   ],
   "source": [
    "user_string = input(\"Enter a string: \")\n",
    "\n",
    "# (a) Total number of characters in the string\n",
    "print(f\"\\n(a) Total number of characters: {len(user_string)}\")\n",
    "\n",
    "# (b) The string repeated 10 times\n",
    "print(f\"\\n(b) String repeated 10 times: \")\n",
    "for i in range(1, 11):\n",
    "    print(f\"\\n{i}. {user_string}\")\n",
    "\n",
    "# (c) The first character of the string\n",
    "if len(user_string) > 0:\n",
    "    print(f\"\\n(c) First character: {user_string[0]}\")\n",
    "else:\n",
    "    print(f\"\\n(c) The string is empty, so no first character.\")\n",
    "\n",
    "# (d) The first three characters of the string\n",
    "print(f\"\\n(d) First three characters: {user_string[:3]}\")\n",
    "\n",
    "# (e) The last three characters of the string\n",
    "print(f\"\\n(e) Last three characters: {user_string[-3:]}\")\n",
    "\n",
    "# (f) The string backwards\n",
    "print(f\"\\n(f) String backwards: {user_string[::-1]}\")\n",
    "\n",
    "# (g) The seventh character if long enough\n",
    "if len(user_string) >= 7:\n",
    "    print(f\"\\n(g) Seventh character: {user_string[6]}\")\n",
    "else:\n",
    "    print(f\"\\n(g) The string is not long enough for a seventh character.\")\n",
    "\n",
    "# (h) The string with its first and last characters removed\n",
    "if len(user_string) >= 2:\n",
    "    print(f\"\\n(h) Without first and last characters: {user_string[1:-1]}\")\n",
    "else:\n",
    "    print(f\"\\n(h) String too short to remove first and last characters.\")\n",
    "\n",
    "# (i) The string in all caps\n",
    "print(f\"\\n(i) All caps: {user_string.upper()}\")\n",
    "\n",
    "# (j) The string with every 'a' replaced with 'e'\n",
    "print(f\"\\n(j) Replace 'a' with 'e': {user_string.replace('a', 'e').replace('A','e')}\")"
   ]
  },
  {
   "cell_type": "markdown",
   "id": "86dea9cb-eb27-40b5-af41-6363312576e4",
   "metadata": {},
   "source": [
    "# **2.** A simple way to estimate the number of words in a string is to count the number of spaces in the\n",
    "string. Write a program that asks the user for a string and returns an estimate of how many words\n",
    "are in the string.\n",
    "\n",
    "- Tip: You need to count the number of words using spaces"
   ]
  },
  {
   "cell_type": "code",
   "execution_count": 38,
   "id": "86c0928b-cc64-4e08-bcbb-9d926b89047e",
   "metadata": {},
   "outputs": [
    {
     "name": "stdin",
     "output_type": "stream",
     "text": [
      "Enter a sentence:  Hello have a great day\n"
     ]
    },
    {
     "name": "stdout",
     "output_type": "stream",
     "text": [
      "\n",
      "Estimated number of words: 5\n"
     ]
    }
   ],
   "source": [
    "user_input = input(\"Enter a sentence: \")\n",
    "\n",
    "# Count the number of spaces\n",
    "space_count = 0\n",
    "for char in user_input:\n",
    "    if char == ' ':\n",
    "        space_count += 1\n",
    "\n",
    "# If the input is empty or only spaces, word count is 0\n",
    "if len(user_input) == 0 or space_count == len(user_input):\n",
    "    word_estimate = 0\n",
    "else:\n",
    "    word_estimate = space_count + 1\n",
    "\n",
    "print(f\"\\nEstimated number of words: {word_estimate}\")"
   ]
  },
  {
   "cell_type": "markdown",
   "id": "f0c7ece9-9950-47ad-b3ad-44c7683cd733",
   "metadata": {},
   "source": [
    "# **3.** Write a program that asks the user to enter a word and prints out whether that word contains any vowels."
   ]
  },
  {
   "cell_type": "code",
   "execution_count": 44,
   "id": "8903b172-31be-4b62-bbfd-221327bcf6f1",
   "metadata": {},
   "outputs": [
    {
     "name": "stdin",
     "output_type": "stream",
     "text": [
      "Enter a word:  run\n"
     ]
    },
    {
     "name": "stdout",
     "output_type": "stream",
     "text": [
      "The word contains at least one vowel.\n"
     ]
    }
   ],
   "source": [
    "word = input(\"Enter a word: \")\n",
    "\n",
    "vowels = \"aeiouAEIOU\"\n",
    "\n",
    "contains_vowel = False  # flag\n",
    "\n",
    "for char in word:\n",
    "    if char in vowels:\n",
    "        contains_vowel = True\n",
    "        break\n",
    "\n",
    "if contains_vowel:\n",
    "    print(\"The word contains at least one vowel.\")\n",
    "else:\n",
    "    print(\"The word does not contain any vowels.\")"
   ]
  },
  {
   "cell_type": "code",
   "execution_count": 46,
   "id": "ed9eb63d-823e-4de7-92c6-74ace9a29dbc",
   "metadata": {},
   "outputs": [
    {
     "name": "stdin",
     "output_type": "stream",
     "text": [
      "Enter a word:  fly\n"
     ]
    },
    {
     "name": "stdout",
     "output_type": "stream",
     "text": [
      "The word does not contain any vowels.\n"
     ]
    }
   ],
   "source": [
    "word = input(\"Enter a word: \")\n",
    "\n",
    "vowels = \"aeiouAEIOU\"\n",
    "\n",
    "contains_vowel = False  # flag\n",
    "\n",
    "for char in word:\n",
    "    if char in vowels:\n",
    "        contains_vowel = True\n",
    "        break\n",
    "\n",
    "if contains_vowel:\n",
    "    print(\"The word contains at least one vowel.\")\n",
    "else:\n",
    "    print(\"The word does not contain any vowels.\")"
   ]
  },
  {
   "cell_type": "code",
   "execution_count": 48,
   "id": "3ec79586-bcbc-4be1-b2f1-27ce0efdbd59",
   "metadata": {},
   "outputs": [
    {
     "name": "stdin",
     "output_type": "stream",
     "text": [
      "Enter a word:  rhythm\n"
     ]
    },
    {
     "name": "stdout",
     "output_type": "stream",
     "text": [
      "The word does not contain any vowels.\n"
     ]
    }
   ],
   "source": [
    "word = input(\"Enter a word: \")\n",
    "\n",
    "vowels = \"aeiouAEIOU\"\n",
    "unique_vowels = []\n",
    "\n",
    "for char in word:\n",
    "    if char in vowels:\n",
    "        lower_char = char.lower()\n",
    "        if lower_char not in unique_vowels:\n",
    "            unique_vowels.append(lower_char)\n",
    "\n",
    "if unique_vowels:\n",
    "    print(\"The word contains the following unique vowel(s):\", \", \".join(sorted(unique_vowels)))\n",
    "else:\n",
    "    print(\"The word does not contain any vowels.\")"
   ]
  },
  {
   "cell_type": "code",
   "execution_count": 50,
   "id": "e4d2990b-0e38-46bd-822f-ab2c52ecc7ed",
   "metadata": {},
   "outputs": [
    {
     "name": "stdin",
     "output_type": "stream",
     "text": [
      "Enter a word:  hello\n"
     ]
    },
    {
     "name": "stdout",
     "output_type": "stream",
     "text": [
      "The word contains the following unique vowel(s): e, o\n"
     ]
    }
   ],
   "source": [
    "word = input(\"Enter a word: \")\n",
    "\n",
    "vowels = \"aeiouAEIOU\"\n",
    "unique_vowels = []\n",
    "\n",
    "for char in word:\n",
    "    if char in vowels:\n",
    "        lower_char = char.lower()\n",
    "        if lower_char not in unique_vowels:\n",
    "            unique_vowels.append(lower_char)\n",
    "\n",
    "if unique_vowels:\n",
    "    print(\"The word contains the following unique vowel(s):\", \", \".join(sorted(unique_vowels)))\n",
    "else:\n",
    "    print(\"The word does not contain any vowels.\")"
   ]
  },
  {
   "cell_type": "markdown",
   "id": "c63ff070-465e-4b1f-95bb-4b9da0027c9d",
   "metadata": {},
   "source": [
    "**5. Write a program that asks the user to enter a string. The program should create a new string called new_string from the user’s string such that the second character is changed to an asterisk and three exclamation points are attached to the end of the string. Finally, print new_string.**\n",
    "\n",
    "Typical output is shown below:\n",
    "- Enter your string: Qbert\n",
    "\n",
    "- Output: Q*ert!!!"
   ]
  },
  {
   "cell_type": "code",
   "execution_count": 57,
   "id": "346ec061-0de3-4410-83d9-cefe557bdcc8",
   "metadata": {},
   "outputs": [
    {
     "name": "stdin",
     "output_type": "stream",
     "text": [
      "Enter your string:  Qbert\n"
     ]
    },
    {
     "name": "stdout",
     "output_type": "stream",
     "text": [
      "Output: Q*ert!!!\n"
     ]
    }
   ],
   "source": [
    "user_string = input(\"Enter your string: \")\n",
    "\n",
    "# Check if the string is long enough to modify the second character\n",
    "if len(user_string) >= 2:\n",
    "    # Creating new_string with the second character replaced and \"!!!\" appended\n",
    "    new_string = user_string[0] + '*' + user_string[2:] + '!!!'\n",
    "else:\n",
    "    # If the string is too short, add \"!!!\"\n",
    "    new_string = user_string + '!!!'\n",
    "\n",
    "print(\"Output:\", new_string)"
   ]
  },
  {
   "cell_type": "markdown",
   "id": "da6b897a-f541-4143-aa58-85c94a1fe779",
   "metadata": {},
   "source": [
    "**6.Write a program that asks the user to enter a word and determines whether the word is a palindrome or not.**"
   ]
  },
  {
   "cell_type": "code",
   "execution_count": 59,
   "id": "ca6d8f4e-5625-4584-8802-a2aa0ffcb73c",
   "metadata": {},
   "outputs": [
    {
     "name": "stdin",
     "output_type": "stream",
     "text": [
      "Enter a word:  rotor\n"
     ]
    },
    {
     "name": "stdout",
     "output_type": "stream",
     "text": [
      "The word is a palindrome.\n"
     ]
    }
   ],
   "source": [
    "word = input(\"Enter a word: \")\n",
    "\n",
    "# Convert the word to lowercase\n",
    "word_lower = word.lower()\n",
    "\n",
    "if word_lower == word_lower[::-1]:\n",
    "    print(\"The word is a palindrome.\")\n",
    "else:\n",
    "    print(\"The word is not a palindrome.\")"
   ]
  },
  {
   "cell_type": "markdown",
   "id": "82b0e805-8b1d-41b3-9149-73e3210ab7ec",
   "metadata": {},
   "source": [
    "**7. At a certain school, student email addresses end with @student.college.edu, while professor email addresses end with @prof.college.edu. Write a program that first asks the user how many\n",
    "email addresses they will be entering, and then has the user enter those addresses. After all the email addresses are entered, the program should print out a message indicating either that all the\n",
    "addresses are student addresses or that there were some professor addresses entered.**"
   ]
  },
  {
   "cell_type": "code",
   "execution_count": 68,
   "id": "9eeeb28a-78f8-4439-8979-42ad3b21d305",
   "metadata": {},
   "outputs": [
    {
     "name": "stdin",
     "output_type": "stream",
     "text": [
      "How many email addresses will you enter?  4\n",
      "Enter an email address:  hod@prof.college.edu\n",
      "Enter an email address:  hi@gmail.com\n",
      "Enter an email address:  good123@gmail.com\n",
      "Enter an email address:  dean@prof.college.edu\n"
     ]
    },
    {
     "name": "stdout",
     "output_type": "stream",
     "text": [
      "Some professor addresses were entered.\n"
     ]
    }
   ],
   "source": [
    "def check_email_addresses():\n",
    "    num_addresses = int(input(\"How many email addresses will you enter? \"))\n",
    "    \n",
    "    all_student_addresses = True\n",
    "    \n",
    "    # Loop through the number of addresses to get each address\n",
    "    for _ in range(num_addresses):\n",
    "        email = input(\"Enter an email address: \")\n",
    "        \n",
    "        # Check if the email address ends with '@prof.college.edu'\n",
    "        if email.endswith('@prof.college.edu'):\n",
    "            all_student_addresses = False\n",
    "    \n",
    "    if all_student_addresses:\n",
    "        print(\"All the addresses are student addresses.\")\n",
    "    else:\n",
    "        print(\"Some professor addresses were entered.\")\n",
    "\n",
    "check_email_addresses()"
   ]
  },
  {
   "cell_type": "code",
   "execution_count": 70,
   "id": "12b0f743-221b-4eb9-8aab-2971b84c1d06",
   "metadata": {},
   "outputs": [
    {
     "name": "stdin",
     "output_type": "stream",
     "text": [
      "How many email addresses will you enter?  5\n",
      "Enter an email address:  hod@prof.college.edu\n",
      "Enter an email address:  hi@gmail.com\n",
      "Enter an email address:  good123@gmail.com\n",
      "Enter an email address:  dean@prof.college.edu\n",
      "Enter an email address:  ok@hotmail.com\n"
     ]
    },
    {
     "name": "stdout",
     "output_type": "stream",
     "text": [
      "\n",
      "Student Addresses:\n",
      "hi@gmail.com\n",
      "good123@gmail.com\n",
      "ok@hotmail.com\n",
      "\n",
      "Professor Addresses:\n",
      "hod@prof.college.edu\n",
      "dean@prof.college.edu\n",
      "\n",
      "Some professor addresses were entered.\n"
     ]
    }
   ],
   "source": [
    "def check_email_addresses():\n",
    "    num_addresses = int(input(\"How many email addresses will you enter? \"))\n",
    "    \n",
    "    all_student_addresses = True\n",
    "    student_addresses = []\n",
    "    professor_addresses = []\n",
    "\n",
    "    # Loop through the number of addresses to get each address\n",
    "    for _ in range(num_addresses):\n",
    "        email = input(\"Enter an email address: \")\n",
    "        \n",
    "        # Check if the email address ends with '@prof.college.edu'\n",
    "        if email.endswith('@prof.college.edu'):\n",
    "            professor_addresses.append(email)\n",
    "            all_student_addresses = False\n",
    "        else:\n",
    "            student_addresses.append(email)\n",
    "    \n",
    "    # Displaying student and professor addresses\n",
    "    print(\"\\nStudent Addresses:\")\n",
    "    for address in student_addresses:\n",
    "        print(address)\n",
    "    \n",
    "    print(\"\\nProfessor Addresses:\")\n",
    "    for address in professor_addresses:\n",
    "        print(address)\n",
    "    \n",
    "    # If professor address was found display in the output\n",
    "    if all_student_addresses:\n",
    "        print(\"\\nAll the addresses are student addresses.\")\n",
    "    else:\n",
    "        print(\"\\nSome professor addresses were entered.\")\n",
    "\n",
    "# Run the function\n",
    "check_email_addresses()"
   ]
  },
  {
   "cell_type": "code",
   "execution_count": 82,
   "id": "8d133e16-1098-4ea2-bbdc-02a16149887a",
   "metadata": {},
   "outputs": [
    {
     "name": "stdin",
     "output_type": "stream",
     "text": [
      "How many email addresses will you enter?  3\n",
      "\n",
      "1. Enter an email address:  good123@gmail.com\n",
      "\n",
      "2. Enter an email address:  hi@gmail.com\n",
      "\n",
      "3. Enter an email address:  hod@prof.college.edu\n"
     ]
    },
    {
     "name": "stdout",
     "output_type": "stream",
     "text": [
      "\n",
      "Student Addresses:\n",
      "good123@gmail.com\n",
      "hi@gmail.com\n",
      "\n",
      "Professor Addresses:\n",
      "hod@prof.college.edu\n",
      "\n",
      "Some professor addresses were entered.\n"
     ]
    }
   ],
   "source": [
    "def check_email_addresses():\n",
    "    num_addresses = int(input(\"How many email addresses will you enter? \"))\n",
    "    \n",
    "    all_student_addresses = True\n",
    "    student_addresses = []\n",
    "    professor_addresses = []\n",
    "\n",
    "    # Loop through the number of addresses to get each address\n",
    "    for i in range(num_addresses):\n",
    "        email = input(f\"\\n{i+1}. Enter an email address: \")\n",
    "        \n",
    "        # Check if the email address ends with '@prof.college.edu'\n",
    "        if email.endswith('@prof.college.edu'):\n",
    "            professor_addresses.append(email)\n",
    "            all_student_addresses = False\n",
    "        else:\n",
    "            student_addresses.append(email)\n",
    "    \n",
    "    # Displaying student and professor addresses\n",
    "    print(\"\\nStudent Addresses:\")\n",
    "    for address in student_addresses:\n",
    "        print(address)\n",
    "    \n",
    "    print(\"\\nProfessor Addresses:\")\n",
    "    for address in professor_addresses:\n",
    "        print(address)\n",
    "    \n",
    "    # If professor address was found display in the output\n",
    "    if all_student_addresses:\n",
    "        print(\"\\nAll the addresses are student addresses.\")\n",
    "    else:\n",
    "        print(\"\\nSome professor addresses were entered.\")\n",
    "\n",
    "# Run the function\n",
    "check_email_addresses()"
   ]
  },
  {
   "cell_type": "markdown",
   "id": "35dcaa85-69cc-4e00-a403-ec3556cbd5f7",
   "metadata": {},
   "source": [
    "**8. Write a program that asks the user to enter a string, then prints out each letter of the string\n",
    "doubled and on a separate line. For instance,if the user entered HEY, the output would be :**\n",
    "- **HH**\n",
    "\n",
    "- **EE**\n",
    "\n",
    "- **YY**"
   ]
  },
  {
   "cell_type": "code",
   "execution_count": 87,
   "id": "3d0459eb-34df-41b9-8ca3-70eac77c009d",
   "metadata": {},
   "outputs": [
    {
     "name": "stdin",
     "output_type": "stream",
     "text": [
      "Enter a string:  HEY\n"
     ]
    },
    {
     "name": "stdout",
     "output_type": "stream",
     "text": [
      "HH\n",
      "EE\n",
      "YY\n"
     ]
    }
   ],
   "source": [
    "user_input = input(\"Enter a string: \")\n",
    "\n",
    "# Loop through each character in the string\n",
    "for char in user_input:\n",
    "    print(char * 2)"
   ]
  },
  {
   "cell_type": "code",
   "execution_count": 101,
   "id": "83585b26-d63f-45ea-9a80-02d840831ce0",
   "metadata": {},
   "outputs": [
    {
     "name": "stdin",
     "output_type": "stream",
     "text": [
      "Enter a string:  hello\n"
     ]
    },
    {
     "name": "stdout",
     "output_type": "stream",
     "text": [
      "hh\n",
      "ee\n",
      "ll\n",
      "ll\n",
      "oo\n"
     ]
    }
   ],
   "source": [
    "user_input=input(\"Enter a string: \")\n",
    "for char in user_input:\n",
    "    print(char * 2)"
   ]
  },
  {
   "cell_type": "markdown",
   "id": "3d51d4d9-da0e-4b82-bb55-08ee7eb3b9cf",
   "metadata": {},
   "source": [
    "**9.Write a program that asks the user to enter a word that contains the letter a. The program should then print the following two lines: \n",
    "On the first line should be the part of the string up to and including the the first a, and on the second line should be the rest of the string.**\n",
    "\n",
    "**Sample output is shown below:**\n",
    "\n",
    "- Enter a word: **buffalo**\n",
    "\n",
    "- buffa\n",
    "- lo"
   ]
  },
  {
   "cell_type": "code",
   "execution_count": 122,
   "id": "fed22b82-5a04-484f-8892-44b2019722b1",
   "metadata": {},
   "outputs": [
    {
     "name": "stdin",
     "output_type": "stream",
     "text": [
      "Enter a word:  buffalo\n"
     ]
    },
    {
     "name": "stdout",
     "output_type": "stream",
     "text": [
      "\n",
      "buffa\n",
      "lo\n"
     ]
    }
   ],
   "source": [
    "word = input(\"Enter a word: \")\n",
    "\n",
    "# Find the index of the first 'a'\n",
    "index = word.find('a')\n",
    "\n",
    "# Splitting the word into two parts\n",
    "first_part = word[:index + 1]\n",
    "second_part = word[index + 1:]\n",
    "\n",
    "print(f'\\n{first_part}')\n",
    "print(second_part)"
   ]
  },
  {
   "cell_type": "markdown",
   "id": "e5e85c5d-0e5a-4126-ab7a-bd80a0e39134",
   "metadata": {},
   "source": [
    "**10. Write a program that asks the user to enter a word and then capitalizes every other letter of that word.**\n",
    "- So if the user enters **rhinoceros**, the program should print **rHiNoCeRoS.**"
   ]
  },
  {
   "cell_type": "code",
   "execution_count": 130,
   "id": "e4eb8bf5-e591-492b-91a2-67cf4881668b",
   "metadata": {},
   "outputs": [
    {
     "name": "stdin",
     "output_type": "stream",
     "text": [
      "Enter a word:  rhinoceros\n"
     ]
    },
    {
     "name": "stdout",
     "output_type": "stream",
     "text": [
      "\n",
      "rHiNoCeRoS\n"
     ]
    }
   ],
   "source": [
    "word = input(\"Enter a word: \")\n",
    "\n",
    "# Initialize an empty string to store the output\n",
    "output = \"\"\n",
    "\n",
    "for i in range(len(word)):\n",
    "    if i % 2 == 0:\n",
    "        output += word[i].lower()  # even index: lowercase\n",
    "    else:\n",
    "        output += word[i].upper()  # odd index: uppercase\n",
    "\n",
    "print(f'\\n{output}')"
   ]
  },
  {
   "cell_type": "markdown",
   "id": "3877c4c6-e291-432e-bc65-38708d110b02",
   "metadata": {},
   "source": [
    "**11. Write a program that asks the user to enter two strings of the same length. The program should then check to see if the strings are of the same length. If they are not, the program should print an\n",
    "appropriate message and exit. If they are of the same length, the program should alternate the characters of the two strings.**\n",
    "\n",
    "- For example, if the user enters **abcde and ABCDE** the program should print out **AaBbCcDdEe**."
   ]
  },
  {
   "cell_type": "code",
   "execution_count": 138,
   "id": "286b4531-53d6-4ce0-931b-0b195565d553",
   "metadata": {},
   "outputs": [
    {
     "name": "stdin",
     "output_type": "stream",
     "text": [
      "Enter the first string:  abcde\n",
      "Enter the second string:  ABCDE\n"
     ]
    },
    {
     "name": "stdout",
     "output_type": "stream",
     "text": [
      "Result:  aAbBcCdDeE\n"
     ]
    }
   ],
   "source": [
    "str1=input(\"Enter the first string: \")\n",
    "str2=input(\"Enter the second string: \")\n",
    "\n",
    "# Checking if the lengths are same\n",
    "if len(str1) != len(str2):\n",
    "    print(\"The strings are NOT having same length\")\n",
    "else:\n",
    "    result=\"\"\n",
    "    for i in range(len(str1)):\n",
    "        result=result+str1[i]+str2[i]\n",
    "    print(\"Result: \",result)"
   ]
  },
  {
   "cell_type": "markdown",
   "id": "efef3745-123c-4a47-b446-9a334a0d901b",
   "metadata": {},
   "source": [
    "**12. Write a program that asks the user to enter their name in lowercase and then capitalizes the first letter of each word of their name.**"
   ]
  },
  {
   "cell_type": "code",
   "execution_count": 154,
   "id": "020a345f-3b3e-4e18-8115-9507ece6c885",
   "metadata": {},
   "outputs": [
    {
     "name": "stdin",
     "output_type": "stream",
     "text": [
      "Enter you're name in lowercase :  python is fun\n"
     ]
    },
    {
     "name": "stdout",
     "output_type": "stream",
     "text": [
      "\n",
      "Capitalized name: Python Is Fun\n"
     ]
    }
   ],
   "source": [
    "str1=input(\"Enter you're name in lowercase : \")\n",
    "capital_name=str1.title()\n",
    "print(f\"\\nCapitalized name: {capital_name}\")"
   ]
  },
  {
   "cell_type": "markdown",
   "id": "e1b3e594-b052-4276-978c-4fee0d412520",
   "metadata": {},
   "source": [
    "**13. The goal of this exercise is to see if you can mimic the behavior of the in operator and the count and index methods using only variables, for loops, and if statements.**\n",
    "\n",
    "- (a) Without using the in operator, write a program that asks the user for a string and a letter and prints out whether or not the letter appears in the string."
   ]
  },
  {
   "cell_type": "code",
   "execution_count": 167,
   "id": "987abf8e-e8b2-40f9-b909-26594a74cc6a",
   "metadata": {},
   "outputs": [
    {
     "name": "stdin",
     "output_type": "stream",
     "text": [
      "Enter a string:  pineapple\n",
      "Enter a letter:  a\n"
     ]
    },
    {
     "name": "stdout",
     "output_type": "stream",
     "text": [
      "\n",
      "The letter a appears in the string.\n"
     ]
    }
   ],
   "source": [
    "user_string = input(\"Enter a string: \")\n",
    "user_letter = input(\"Enter a letter: \")\n",
    "\n",
    "# Assume the letter is not found\n",
    "found = False\n",
    "\n",
    "# Loop through each character in the string\n",
    "for char in user_string:\n",
    "    if char == user_letter:\n",
    "        found = True\n",
    "        break\n",
    "\n",
    "if found:\n",
    "    print(f\"\\nThe letter {char} appears in the string.\")\n",
    "else:\n",
    "    print(\"The letter does not appear in the string.\")"
   ]
  },
  {
   "cell_type": "markdown",
   "id": "e851c4e9-05c2-48c5-8025-f12eb7b4d8dc",
   "metadata": {},
   "source": [
    "- (b) Without using the count method, write a program that asks the user for a string and a letter and counts how many occurrences there are of the letter in the string."
   ]
  },
  {
   "cell_type": "code",
   "execution_count": 173,
   "id": "7f06f38e-2ef8-47be-9224-323bcfcd0d0a",
   "metadata": {},
   "outputs": [
    {
     "name": "stdin",
     "output_type": "stream",
     "text": [
      "Enter a string:  happy birthday to you\n",
      "Enter a letter:  y\n"
     ]
    },
    {
     "name": "stdout",
     "output_type": "stream",
     "text": [
      "The letter y appeared 3 time(s) in the string.\n"
     ]
    }
   ],
   "source": [
    "user_string = input(\"Enter a string: \")\n",
    "user_letter = input(\"Enter a letter: \")\n",
    "\n",
    "# Initialize a counter variable\n",
    "count = 0\n",
    "\n",
    "# Loop through each character in the string\n",
    "for char in user_string:\n",
    "    if char == user_letter:\n",
    "        count += 1  # Increment the counter if the letter matches\n",
    "\n",
    "print(f\"The letter {user_letter} appeared {count} time(s) in the string.\")"
   ]
  },
  {
   "cell_type": "code",
   "execution_count": 175,
   "id": "96c4c6cc-d2b4-439e-838c-5a0f1bf62587",
   "metadata": {},
   "outputs": [
    {
     "name": "stdin",
     "output_type": "stream",
     "text": [
      "Enter a string:  happy birthday to you\n",
      "Enter a letter:  z\n"
     ]
    },
    {
     "name": "stdout",
     "output_type": "stream",
     "text": [
      "The letter z appeared 0 time(s) in the string.\n"
     ]
    }
   ],
   "source": [
    "user_string = input(\"Enter a string: \")\n",
    "user_letter = input(\"Enter a letter: \")\n",
    "\n",
    "# Initialize a counter variable\n",
    "count = 0\n",
    "\n",
    "# Loop through each character in the string\n",
    "for char in user_string:\n",
    "    if char == user_letter:\n",
    "        count += 1  # Increment the counter if the letter matches\n",
    "\n",
    "print(f\"The letter {user_letter} appeared {count} time(s) in the string.\")"
   ]
  },
  {
   "cell_type": "markdown",
   "id": "68806dd2-a016-47f1-b8c5-889a1819fbf9",
   "metadata": {},
   "source": [
    "- (c) Without using the index method, write a program that asks the user for a string and a letter and prints out the index of the first occurrence of the letter in the string. If the letter is not in the string, the program should say so."
   ]
  },
  {
   "cell_type": "code",
   "execution_count": 181,
   "id": "d72d45a6-dcb5-4100-b704-61c4569cab73",
   "metadata": {},
   "outputs": [
    {
     "name": "stdin",
     "output_type": "stream",
     "text": [
      "Enter a string:  happy birthday to you\n",
      "Enter a letter:  y\n"
     ]
    },
    {
     "name": "stdout",
     "output_type": "stream",
     "text": [
      "The first occurrence of the letter y is at index 4\n"
     ]
    }
   ],
   "source": [
    "user_string = input(\"Enter a string: \")\n",
    "user_letter = input(\"Enter a letter: \")\n",
    "\n",
    "# Initialize an index counter\n",
    "index = 0\n",
    "found = False\n",
    "\n",
    "# Loop through each character in the string\n",
    "for char in user_string:\n",
    "    if char == user_letter:\n",
    "        found = True\n",
    "        break  # Stop the loop at the first occurrence if found\n",
    "    index += 1  # Move to the next index\n",
    "\n",
    "# Output\n",
    "if found:\n",
    "    print(f\"The first occurrence of the letter {char} is at index {index}\")\n",
    "else:\n",
    "    print(\"The letter does not appear in the string.\")"
   ]
  },
  {
   "cell_type": "code",
   "execution_count": 187,
   "id": "f44b6857-6012-47b4-9eca-a16c2ffe57b8",
   "metadata": {},
   "outputs": [
    {
     "name": "stdin",
     "output_type": "stream",
     "text": [
      "Enter a string:  happy birthday to you\n",
      "Enter a letter:  z\n"
     ]
    },
    {
     "name": "stdout",
     "output_type": "stream",
     "text": [
      "The letter z does not appear in the string.\n"
     ]
    }
   ],
   "source": [
    "user_string = input(\"Enter a string: \")\n",
    "user_letter = input(\"Enter a letter: \")\n",
    "\n",
    "# Initialize an index counter\n",
    "index = 0\n",
    "found = False\n",
    "\n",
    "# Loop through each character in the string\n",
    "for char in user_string:\n",
    "    if char == user_letter:\n",
    "        found = True\n",
    "        break  # Stop the loop at the first occurrence if found\n",
    "    index += 1  # Move to the next index\n",
    "\n",
    "# Output\n",
    "if found:\n",
    "    print(f\"The first occurrence of the letter {char} is at index {index}\")\n",
    "else:\n",
    "    print(f\"The letter {user_letter} does not appear in the string.\")"
   ]
  },
  {
   "cell_type": "markdown",
   "id": "aff750d3-a9e5-4bb2-a108-cd9a60e63fe3",
   "metadata": {},
   "source": [
    "**14.** Finding a substring within a string\n",
    "For example, if we were presented a series of lines formatted as follows:\n",
    "- From **stephen.marquard@uct.ac.za** Sat Jan 5 09:14:16 2008 and we wanted to pull out only the second half of the address (i.e., uct.ac.za)"
   ]
  },
  {
   "cell_type": "code",
   "execution_count": 195,
   "id": "de215435-a5ed-46a7-87e2-5703a9bdea99",
   "metadata": {},
   "outputs": [
    {
     "name": "stdout",
     "output_type": "stream",
     "text": [
      "uct.ac.za\n"
     ]
    }
   ],
   "source": [
    "email = \"stephen.marquard@uct.ac.za\"\n",
    "\n",
    "domain = email.split('@')[1]\n",
    "\n",
    "print(domain)"
   ]
  },
  {
   "cell_type": "code",
   "execution_count": 202,
   "id": "3280be4f-aa32-4d56-8287-ddbb23937e8b",
   "metadata": {},
   "outputs": [
    {
     "name": "stdin",
     "output_type": "stream",
     "text": [
      "Enter an e-MAIL ID :  stephen.marquard@uct.ac.za\n"
     ]
    },
    {
     "name": "stdout",
     "output_type": "stream",
     "text": [
      "\n",
      "The second half of the address is : uct.ac.za\n"
     ]
    }
   ],
   "source": [
    "email = input(\"Enter an e-MAIL ID : \")\n",
    "\n",
    "domain = email.split('@')[1]\n",
    "\n",
    "print(f\"\\nThe second half of the address is : {domain}\")"
   ]
  },
  {
   "cell_type": "markdown",
   "id": "a8845f3b-0c2a-42e1-8aa4-500bdaa03ac2",
   "metadata": {},
   "source": [
    "**15.** Write a Python program to add **'ing'**; at the end of a given string (length should be at least 3). If the\n",
    "given string already ends with **'ing'** then add **'ly'** instead.\n",
    "- If the string length of the given string is less than 3, leave it unchanged.\n",
    "- Go to the editor\n",
    "- Sample String : 'abc'\n",
    "- Expected Result : 'abcing'\n",
    "- Sample String : 'string'\n",
    "- Expected Result : 'stringly'"
   ]
  },
  {
   "cell_type": "code",
   "execution_count": 212,
   "id": "d838bad3-80bc-4d6c-b019-e3f12263a6c2",
   "metadata": {},
   "outputs": [
    {
     "name": "stdin",
     "output_type": "stream",
     "text": [
      "Enter a word:  abc\n"
     ]
    },
    {
     "name": "stdout",
     "output_type": "stream",
     "text": [
      "\n",
      "Result: abcing\n"
     ]
    }
   ],
   "source": [
    "def add_ing_or_ly(word):\n",
    "    if len(word) < 3:\n",
    "        return word\n",
    "    elif word.endswith('ing'):\n",
    "        return word + 'ly'\n",
    "    else:\n",
    "        return word + 'ing'\n",
    "\n",
    "user_input = input(\"Enter a word: \")\n",
    "result = add_ing_or_ly(user_input)\n",
    "print(\"\\nResult:\", result)"
   ]
  },
  {
   "cell_type": "code",
   "execution_count": 214,
   "id": "1640839d-4c78-4d41-8204-920f6f5ffc54",
   "metadata": {},
   "outputs": [
    {
     "name": "stdin",
     "output_type": "stream",
     "text": [
      "Enter a word:  string\n"
     ]
    },
    {
     "name": "stdout",
     "output_type": "stream",
     "text": [
      "\n",
      "Result: stringly\n"
     ]
    }
   ],
   "source": [
    "def add_ing_or_ly(word):\n",
    "    if len(word) < 3:\n",
    "        return word\n",
    "    elif word.endswith('ing'):\n",
    "        return word + 'ly'\n",
    "    else:\n",
    "        return word + 'ing'\n",
    "\n",
    "user_input = input(\"Enter a word: \")\n",
    "result = add_ing_or_ly(user_input)\n",
    "print(\"\\nResult:\", result)"
   ]
  },
  {
   "cell_type": "markdown",
   "id": "69ddbb8f-b421-4268-88bc-10598b231058",
   "metadata": {},
   "source": [
    "**16.** Take the following Python code that stores a string:‘\n",
    "string = **'X-DSPAM-Confidence: 0.8475'**\n",
    "- Extract the portion of the string after the colon character and then use the float function to convert\n",
    "the extracted string into a floating point number."
   ]
  },
  {
   "cell_type": "code",
   "execution_count": 216,
   "id": "c05edeae-6c7c-4088-953c-1d792c6d82a2",
   "metadata": {},
   "outputs": [
    {
     "name": "stdout",
     "output_type": "stream",
     "text": [
      "Extracted float value: 0.8475\n"
     ]
    }
   ],
   "source": [
    "string = 'X-DSPAM-Confidence: 0.8475'\n",
    "\n",
    "# Find the position of the colon\n",
    "colon_pos = string.find(':')\n",
    "\n",
    "# Extract the substring after the colon and strip any extra whitespace\n",
    "number_str = string[colon_pos + 1:].strip()\n",
    "\n",
    "# Convert the extracted string to a float\n",
    "confidence = float(number_str)\n",
    "\n",
    "print(\"Extracted float value:\", confidence)"
   ]
  },
  {
   "cell_type": "code",
   "execution_count": 225,
   "id": "bceb0bd5-8e3a-43c3-a3ff-d613f3ec8089",
   "metadata": {},
   "outputs": [
    {
     "name": "stdin",
     "output_type": "stream",
     "text": [
      "Enter a string:  X-DSPAM-Confidence: 0.8475\n"
     ]
    },
    {
     "name": "stdout",
     "output_type": "stream",
     "text": [
      "\n",
      "Extracted float value: 0.8475\n"
     ]
    }
   ],
   "source": [
    "string = input(\"Enter a string: \")\n",
    "\n",
    "# Find the position of the colon\n",
    "colon_pos = string.find(':')\n",
    "\n",
    "# Extract the substring after the colon and strip any extra whitespace\n",
    "number_str = string[colon_pos + 1:].strip()\n",
    "\n",
    "# Convert the extracted string to a float\n",
    "confidence = float(number_str)\n",
    "\n",
    "print(\"\\nExtracted float value:\", confidence)"
   ]
  }
 ],
 "metadata": {
  "kernelspec": {
   "display_name": "Python [conda env:base] *",
   "language": "python",
   "name": "conda-base-py"
  },
  "language_info": {
   "codemirror_mode": {
    "name": "ipython",
    "version": 3
   },
   "file_extension": ".py",
   "mimetype": "text/x-python",
   "name": "python",
   "nbconvert_exporter": "python",
   "pygments_lexer": "ipython3",
   "version": "3.12.7"
  }
 },
 "nbformat": 4,
 "nbformat_minor": 5
}
