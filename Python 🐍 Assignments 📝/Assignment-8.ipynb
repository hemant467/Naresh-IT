{
 "cells": [
  {
   "cell_type": "markdown",
   "id": "04cc1f87-94b1-442e-8302-3c1626f86a29",
   "metadata": {},
   "source": [
    "<center><h1><b>Assignmnet - 8 </b></h1></center>"
   ]
  },
  {
   "cell_type": "code",
   "execution_count": 2,
   "id": "24b237c2-46f4-4dce-9b69-2df052ac24c2",
   "metadata": {},
   "outputs": [],
   "source": [
    "import random\n",
    "def mul():\n",
    "    a=random.randint(1,100)\n",
    "    b=random.randint(1,100)\n",
    "    multiply=a*b\n",
    "    print(f'The multiplication of {a} and {b} is : {multiply}')"
   ]
  },
  {
   "cell_type": "code",
   "execution_count": 4,
   "id": "e5853b0f-b7c8-4214-961e-5f007238b9eb",
   "metadata": {},
   "outputs": [
    {
     "name": "stdout",
     "output_type": "stream",
     "text": [
      "The multiplication of 94 and 28 is : 2632\n"
     ]
    }
   ],
   "source": [
    "mul()"
   ]
  },
  {
   "cell_type": "code",
   "execution_count": 24,
   "id": "f8af2a7d-8a82-4a1d-9e15-662c4aad6f8c",
   "metadata": {},
   "outputs": [],
   "source": [
    "import random\n",
    "from math import ceil\n",
    "def avg():\n",
    "    a=random.randint(1,100)\n",
    "    b=random.randint(1,100)\n",
    "    c=random.randint(1,100)\n",
    "    avg_value=(a+b+c)/3\n",
    "    average=ceil(avg_value)\n",
    "    print(f'The average of {a},{b} and {c} is : {average}')"
   ]
  },
  {
   "cell_type": "code",
   "execution_count": 26,
   "id": "b47b5f18-9a7f-463e-82cb-5ecf25be3bc4",
   "metadata": {},
   "outputs": [
    {
     "name": "stdout",
     "output_type": "stream",
     "text": [
      "The average of 36,89 and 35 is : 54\n"
     ]
    }
   ],
   "source": [
    "avg()"
   ]
  },
  {
   "cell_type": "code",
   "execution_count": 28,
   "id": "25ad25ef-e7e2-4cd9-b4b0-e1525500744e",
   "metadata": {},
   "outputs": [
    {
     "name": "stdout",
     "output_type": "stream",
     "text": [
      "The average of 84,48 and 69 is : 67\n"
     ]
    }
   ],
   "source": [
    "avg()"
   ]
  },
  {
   "cell_type": "code",
   "execution_count": 32,
   "id": "10571778-1b18-49bb-8a45-3a0f9059d5df",
   "metadata": {},
   "outputs": [],
   "source": [
    "import random\n",
    "from math import ceil\n",
    "\n",
    "def generate_bill_and_tip():\n",
    "    bill = random.randint(1, 100000)\n",
    "    tip = random.randint(1, 100)\n",
    "    return bill, tip\n",
    "\n",
    "def calculate_tip(bill_amount, tip_percent):\n",
    "    return bill_amount * tip_percent / 100\n",
    "\n",
    "def calculate_total(bill_amount, tip_amount):\n",
    "    return bill_amount + tip_amount\n",
    "\n",
    "def display_details(bill, tip_percent, tip_amount, total_amount):\n",
    "    print(f'Bill Amount is : {bill}')\n",
    "    print(f'Tip Percentage is : {tip_percent}%')\n",
    "    print(f'Tip Amount is : {tip_amount:.2f}')\n",
    "    print(f'\\nThe total amount is: {total_amount:.2f}')\n",
    "\n",
    "def round_off_total(total_amount):\n",
    "    rounded = ceil(total_amount)\n",
    "    print('\\nThe total amount after round-off is:', rounded)\n",
    "    print(f'The total amount after round-off is: {rounded}')\n",
    "    print('The total amount after round-off is: {} '.format(rounded))\n",
    "\n",
    "def main():\n",
    "    bill, tip_percent = generate_bill_and_tip()\n",
    "    tip_amount = calculate_tip(bill, tip_percent)\n",
    "    total_amount = calculate_total(bill, tip_amount)\n",
    "    display_details(bill, tip_percent, tip_amount, total_amount)\n",
    "    round_off_total(total_amount)"
   ]
  },
  {
   "cell_type": "code",
   "execution_count": 34,
   "id": "5f3e15a9-5386-4841-aebb-244078ed5a6c",
   "metadata": {},
   "outputs": [
    {
     "name": "stdout",
     "output_type": "stream",
     "text": [
      "Bill Amount is : 83036\n",
      "Tip Percentage is : 10%\n",
      "Tip Amount is : 8303.60\n",
      "\n",
      "The total amount is: 91339.60\n",
      "\n",
      "The total amount after round-off is: 91340\n",
      "The total amount after round-off is: 91340\n",
      "The total amount after round-off is: 91340 \n"
     ]
    }
   ],
   "source": [
    "main()"
   ]
  },
  {
   "cell_type": "code",
   "execution_count": 40,
   "id": "0f970782-c3fc-4b6c-8adf-ac982b6c71e3",
   "metadata": {},
   "outputs": [],
   "source": [
    "import random\n",
    "def radius():\n",
    "    r = random.randint(1,100)\n",
    "    pi=3.1415926536\n",
    "\n",
    "    print(f'The random radius of circle is : {r} Units')\n",
    "\n",
    "    area=pi*r*r\n",
    "    area = round(area, 3)\n",
    "\n",
    "    print(f'\\nThe area of circle is : {area} Sq.Units')"
   ]
  },
  {
   "cell_type": "code",
   "execution_count": 42,
   "id": "eb845089-aa87-4c1d-b71b-991a32eaeca8",
   "metadata": {},
   "outputs": [
    {
     "name": "stdout",
     "output_type": "stream",
     "text": [
      "The random radius of circle is : 88 Units\n",
      "\n",
      "The area of circle is : 24328.494 Sq.Units\n"
     ]
    }
   ],
   "source": [
    "radius()"
   ]
  },
  {
   "cell_type": "code",
   "execution_count": 52,
   "id": "cd9faca7-286d-4c34-9b7e-cc89067a8382",
   "metadata": {},
   "outputs": [],
   "source": [
    "import random\n",
    "def area():\n",
    "    b = random.randint(1,100)\n",
    "    h = random.randint(1,100)\n",
    "\n",
    "    print(f'The base of a triangle is {b} units and the height is {h} units')\n",
    "\n",
    "    area=0.5*b*h\n",
    "    print(f'\\nThe area of the triangle is : {area} Sq.Units')\n",
    "    area = ceil(area)\n",
    "\n",
    "    print(f'\\nThe area of the triangle after rounding-off is : {area} Sq.Units')"
   ]
  },
  {
   "cell_type": "code",
   "execution_count": 62,
   "id": "5d18f88d-cdca-491c-ada8-42870b9f67de",
   "metadata": {},
   "outputs": [
    {
     "name": "stdout",
     "output_type": "stream",
     "text": [
      "The base of a triangle is 27 units and the height is 79 units\n",
      "\n",
      "The area of the triangle is : 1066.5 Sq.Units\n",
      "\n",
      "The area of the triangle after rounding-off is : 1067 Sq.Units\n"
     ]
    }
   ],
   "source": [
    "area()"
   ]
  },
  {
   "cell_type": "code",
   "execution_count": 68,
   "id": "1f7070aa-13ef-441f-a649-d0b6b669d5dd",
   "metadata": {},
   "outputs": [],
   "source": [
    "import random\n",
    "def amount():\n",
    "    a = random.randint(1,1000)\n",
    "    print(f'\\nAmount in dollars is : {a} $')\n",
    "    dollar=a*80\n",
    "    print(f'\\nAmount in rupees is : {dollar}/- rupees')"
   ]
  },
  {
   "cell_type": "code",
   "execution_count": 70,
   "id": "e4d6e5fc-a9dd-4872-84f9-bcb368bc55ca",
   "metadata": {},
   "outputs": [
    {
     "name": "stdout",
     "output_type": "stream",
     "text": [
      "\n",
      "Amount in dollars is : 516 $\n",
      "\n",
      "Amount in rupees is : 41280/- rupees\n"
     ]
    }
   ],
   "source": [
    "amount()"
   ]
  },
  {
   "cell_type": "code",
   "execution_count": 72,
   "id": "0a83b3fe-0504-4969-adbe-084f6cea9a52",
   "metadata": {},
   "outputs": [],
   "source": [
    "import random\n",
    "def weight():\n",
    "    a = random.randint(0,1000)\n",
    "    print(f'\\nWeight in Kg: {a} Kg')\n",
    "\n",
    "    pound=a*2.2\n",
    "    pound=round(pound,2)\n",
    "\n",
    "    print(f'\\nWeight of {a} kg in pounds is {pound} pounds')"
   ]
  },
  {
   "cell_type": "code",
   "execution_count": 74,
   "id": "31bfab8c-4d14-4533-a003-790d756ed041",
   "metadata": {},
   "outputs": [
    {
     "name": "stdout",
     "output_type": "stream",
     "text": [
      "\n",
      "Weight in Kg: 75 Kg\n",
      "\n",
      "Weight of 75 kg in pounds is 165.0 pounds\n"
     ]
    }
   ],
   "source": [
    "weight()"
   ]
  },
  {
   "cell_type": "code",
   "execution_count": 76,
   "id": "7a707a24-eddf-4e2e-aca8-751778150f01",
   "metadata": {},
   "outputs": [],
   "source": [
    "import random\n",
    "from math import ceil\n",
    "def bill():\n",
    "    # Generate random bill amount and tip percentage\n",
    "    bill_amount = random.randint(1, 100000)\n",
    "    tip_percent = random.randint(1, 100)\n",
    "\n",
    "    # Calculate tip and total\n",
    "    tip_amount = bill_amount * tip_percent / 100\n",
    "    total_amount = bill_amount + tip_amount\n",
    "\n",
    "    # Print details\n",
    "    print(f'Bill Amount is : {bill_amount}')\n",
    "    print(f'Tip Percentage is : {tip_percent}%')\n",
    "    print(f'Tip Amount is : {tip_amount:.2f}')\n",
    "    print(f'\\nThe total amount is: {total_amount:.2f}')\n",
    "\n",
    "    # Round off\n",
    "    total = ceil(total_amount)\n",
    "\n",
    "    print('\\nThe total amount after round-off is:', total)\n",
    "    print(f'The total amount after round-off is: {total}')\n",
    "    print('The total amount after round-off is: {} '.format(total))"
   ]
  },
  {
   "cell_type": "code",
   "execution_count": 78,
   "id": "0384fee3-d296-41ec-8f8a-bd97a82730a9",
   "metadata": {},
   "outputs": [
    {
     "name": "stdout",
     "output_type": "stream",
     "text": [
      "Bill Amount is : 89449\n",
      "Tip Percentage is : 72%\n",
      "Tip Amount is : 64403.28\n",
      "\n",
      "The total amount is: 153852.28\n",
      "\n",
      "The total amount after round-off is: 153853\n",
      "The total amount after round-off is: 153853\n",
      "The total amount after round-off is: 153853 \n"
     ]
    }
   ],
   "source": [
    "bill()"
   ]
  },
  {
   "cell_type": "markdown",
   "id": "06d788d0-36b8-47e3-938d-d98c4f721d4b",
   "metadata": {},
   "source": [
    "<center><h1><b>*** THE END ***</b></h1></center>"
   ]
  }
 ],
 "metadata": {
  "kernelspec": {
   "display_name": "Python [conda env:base] *",
   "language": "python",
   "name": "conda-base-py"
  },
  "language_info": {
   "codemirror_mode": {
    "name": "ipython",
    "version": 3
   },
   "file_extension": ".py",
   "mimetype": "text/x-python",
   "name": "python",
   "nbconvert_exporter": "python",
   "pygments_lexer": "ipython3",
   "version": "3.12.7"
  }
 },
 "nbformat": 4,
 "nbformat_minor": 5
}
