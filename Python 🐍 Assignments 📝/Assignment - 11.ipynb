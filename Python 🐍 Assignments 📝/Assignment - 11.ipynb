{
 "cells": [
  {
   "cell_type": "markdown",
   "id": "36c1244a-6deb-45f9-9e4a-62340904bbed",
   "metadata": {},
   "source": [
    "<h1><center><b>Assignment - 11</b></center></h1>\n",
    "<h2><center><b>Strings Methods</b></center></h2>"
   ]
  },
  {
   "cell_type": "code",
   "execution_count": 3,
   "id": "95a037e7-597e-43a1-8fa7-0b7a7d8174b7",
   "metadata": {},
   "outputs": [
    {
     "data": {
      "text/plain": [
       "['__add__',\n",
       " '__class__',\n",
       " '__contains__',\n",
       " '__delattr__',\n",
       " '__dir__',\n",
       " '__doc__',\n",
       " '__eq__',\n",
       " '__format__',\n",
       " '__ge__',\n",
       " '__getattribute__',\n",
       " '__getitem__',\n",
       " '__getnewargs__',\n",
       " '__getstate__',\n",
       " '__gt__',\n",
       " '__hash__',\n",
       " '__init__',\n",
       " '__init_subclass__',\n",
       " '__iter__',\n",
       " '__le__',\n",
       " '__len__',\n",
       " '__lt__',\n",
       " '__mod__',\n",
       " '__mul__',\n",
       " '__ne__',\n",
       " '__new__',\n",
       " '__reduce__',\n",
       " '__reduce_ex__',\n",
       " '__repr__',\n",
       " '__rmod__',\n",
       " '__rmul__',\n",
       " '__setattr__',\n",
       " '__sizeof__',\n",
       " '__str__',\n",
       " '__subclasshook__',\n",
       " 'capitalize',\n",
       " 'casefold',\n",
       " 'center',\n",
       " 'count',\n",
       " 'encode',\n",
       " 'endswith',\n",
       " 'expandtabs',\n",
       " 'find',\n",
       " 'format',\n",
       " 'format_map',\n",
       " 'index',\n",
       " 'isalnum',\n",
       " 'isalpha',\n",
       " 'isascii',\n",
       " 'isdecimal',\n",
       " 'isdigit',\n",
       " 'isidentifier',\n",
       " 'islower',\n",
       " 'isnumeric',\n",
       " 'isprintable',\n",
       " 'isspace',\n",
       " 'istitle',\n",
       " 'isupper',\n",
       " 'join',\n",
       " 'ljust',\n",
       " 'lower',\n",
       " 'lstrip',\n",
       " 'maketrans',\n",
       " 'partition',\n",
       " 'removeprefix',\n",
       " 'removesuffix',\n",
       " 'replace',\n",
       " 'rfind',\n",
       " 'rindex',\n",
       " 'rjust',\n",
       " 'rpartition',\n",
       " 'rsplit',\n",
       " 'rstrip',\n",
       " 'split',\n",
       " 'splitlines',\n",
       " 'startswith',\n",
       " 'strip',\n",
       " 'swapcase',\n",
       " 'title',\n",
       " 'translate',\n",
       " 'upper',\n",
       " 'zfill']"
      ]
     },
     "execution_count": 3,
     "metadata": {},
     "output_type": "execute_result"
    }
   ],
   "source": [
    "dir('')"
   ]
  },
  {
   "cell_type": "code",
   "execution_count": null,
   "id": "6d81905b-f701-4079-b098-b5184cdfa00e",
   "metadata": {},
   "outputs": [],
   "source": [
    "'isalnum',\n",
    " 'isalpha',\n",
    " 'isascii',\n",
    " 'isdecimal',\n",
    " 'isdigit',\n",
    " 'isidentifier',\n",
    " 'islower',\n",
    " 'isnumeric',\n",
    " 'isprintable',\n",
    " 'isspace',\n",
    " 'istitle',\n",
    " 'isupper'"
   ]
  },
  {
   "cell_type": "code",
   "execution_count": 7,
   "id": "33777f3b-3744-4027-bf2f-320f140ce648",
   "metadata": {},
   "outputs": [
    {
     "name": "stdout",
     "output_type": "stream",
     "text": [
      "True\n",
      "True\n",
      "False\n",
      "False\n",
      "True\n",
      "True\n",
      "True\n",
      "True\n",
      "False\n",
      "False\n",
      "True\n",
      "False\n",
      "True\n",
      "False\n",
      "True\n",
      "False\n",
      "True\n",
      "False\n"
     ]
    }
   ],
   "source": [
    "print('123'.isalnum())\n",
    "print('123abc'.isalnum())\n",
    "print(''.isalnum())\n",
    "print('123'.isalpha())\n",
    "print('abc'.isalpha())\n",
    "print('a'.isascii())\n",
    "print('A'.isascii())\n",
    "print(' '.isascii())\n",
    "print('1.2'.isdecimal())\n",
    "print(''.isdecimal())\n",
    "print('7'.isdigit())\n",
    "print('^'.isidentifier())\n",
    "print('ab'.islower())\n",
    "print('a'.isnumeric())\n",
    "print(' '.isspace())\n",
    "print(''.istitle())\n",
    "print('Title'.istitle())\n",
    "print('a'.isupper())"
   ]
  },
  {
   "cell_type": "code",
   "execution_count": 9,
   "id": "befe51b9-4041-432a-9198-609b281464ff",
   "metadata": {},
   "outputs": [
    {
     "name": "stdout",
     "output_type": "stream",
     "text": [
      "True\n"
     ]
    }
   ],
   "source": [
    "print('123abc'.isalnum())"
   ]
  },
  {
   "cell_type": "code",
   "execution_count": 11,
   "id": "a30d8e22-0b69-4364-979a-199aaad7c36d",
   "metadata": {},
   "outputs": [
    {
     "name": "stdout",
     "output_type": "stream",
     "text": [
      "True\n"
     ]
    }
   ],
   "source": [
    "print('abc'.isalpha())"
   ]
  },
  {
   "cell_type": "code",
   "execution_count": 13,
   "id": "02bd3193-67f2-418d-9751-1b0e2b14eb11",
   "metadata": {},
   "outputs": [
    {
     "name": "stdout",
     "output_type": "stream",
     "text": [
      "False\n"
     ]
    }
   ],
   "source": [
    "print('123'.isalpha())"
   ]
  },
  {
   "cell_type": "code",
   "execution_count": 15,
   "id": "5a41a817-d28c-454a-93a4-820b280e794a",
   "metadata": {},
   "outputs": [
    {
     "name": "stdout",
     "output_type": "stream",
     "text": [
      "True\n"
     ]
    }
   ],
   "source": [
    "print(' '.isascii())"
   ]
  },
  {
   "cell_type": "code",
   "execution_count": 17,
   "id": "29d16e8f-2797-49ab-9f7e-d51bdb0c9359",
   "metadata": {},
   "outputs": [
    {
     "name": "stdout",
     "output_type": "stream",
     "text": [
      "True\n"
     ]
    }
   ],
   "source": [
    "print('a'.isascii())"
   ]
  },
  {
   "cell_type": "code",
   "execution_count": 19,
   "id": "e1a4ab16-f830-474c-a58d-ce3d3a6bf292",
   "metadata": {},
   "outputs": [
    {
     "name": "stdout",
     "output_type": "stream",
     "text": [
      "True\n"
     ]
    }
   ],
   "source": [
    "print('A'.isascii())"
   ]
  },
  {
   "cell_type": "code",
   "execution_count": 21,
   "id": "0125ddb8-dcd0-4ea1-a085-803b18a1eb49",
   "metadata": {},
   "outputs": [
    {
     "name": "stdout",
     "output_type": "stream",
     "text": [
      "False\n"
     ]
    }
   ],
   "source": [
    "print('1.2'.isdecimal())"
   ]
  },
  {
   "cell_type": "code",
   "execution_count": 23,
   "id": "5f22f2da-fa79-44c1-b811-562561e9474d",
   "metadata": {},
   "outputs": [
    {
     "name": "stdout",
     "output_type": "stream",
     "text": [
      "False\n"
     ]
    }
   ],
   "source": [
    "print(''.isdecimal())"
   ]
  },
  {
   "cell_type": "code",
   "execution_count": 25,
   "id": "453f7e1c-6447-41b1-8922-b0e6e56e2e62",
   "metadata": {},
   "outputs": [
    {
     "name": "stdout",
     "output_type": "stream",
     "text": [
      "True\n"
     ]
    }
   ],
   "source": [
    "print('12'.isdecimal())"
   ]
  },
  {
   "cell_type": "code",
   "execution_count": 27,
   "id": "fa0c83d8-32d6-4113-8c63-76243c36a8cd",
   "metadata": {},
   "outputs": [
    {
     "name": "stdout",
     "output_type": "stream",
     "text": [
      "True\n"
     ]
    }
   ],
   "source": [
    "print('7'.isdigit())"
   ]
  },
  {
   "cell_type": "code",
   "execution_count": 29,
   "id": "40a7f732-4a00-45da-be69-3c83fccf948a",
   "metadata": {},
   "outputs": [
    {
     "name": "stdout",
     "output_type": "stream",
     "text": [
      "False\n"
     ]
    }
   ],
   "source": [
    "print('^'.isidentifier())"
   ]
  },
  {
   "cell_type": "code",
   "execution_count": 33,
   "id": "a1770afd-7d5e-461d-91a6-ddccbc41e8f9",
   "metadata": {},
   "outputs": [
    {
     "name": "stdout",
     "output_type": "stream",
     "text": [
      "True\n"
     ]
    }
   ],
   "source": [
    "print('a'.isidentifier())"
   ]
  },
  {
   "cell_type": "code",
   "execution_count": 39,
   "id": "fe7f01d9-283c-4799-a884-1f5a34c50cb2",
   "metadata": {},
   "outputs": [
    {
     "name": "stdout",
     "output_type": "stream",
     "text": [
      "False\n"
     ]
    }
   ],
   "source": [
    "print('123'.isidentifier())"
   ]
  },
  {
   "cell_type": "code",
   "execution_count": 41,
   "id": "57ec186c-ee7a-4856-ad06-d06af5ca4a15",
   "metadata": {},
   "outputs": [
    {
     "name": "stdout",
     "output_type": "stream",
     "text": [
      "True\n"
     ]
    }
   ],
   "source": [
    "print('_'.isidentifier())"
   ]
  },
  {
   "cell_type": "code",
   "execution_count": 43,
   "id": "343a77f9-3d55-49d7-99a4-752b320c1332",
   "metadata": {},
   "outputs": [
    {
     "name": "stdout",
     "output_type": "stream",
     "text": [
      "True\n"
     ]
    }
   ],
   "source": [
    "print('ab'.islower())"
   ]
  },
  {
   "cell_type": "code",
   "execution_count": 45,
   "id": "7b3134e1-3c7b-4111-ac04-3261f2043818",
   "metadata": {},
   "outputs": [
    {
     "name": "stdout",
     "output_type": "stream",
     "text": [
      "False\n"
     ]
    }
   ],
   "source": [
    "print('Xy'.islower())"
   ]
  },
  {
   "cell_type": "code",
   "execution_count": 47,
   "id": "e50ddede-1fa0-4bff-8dd9-e41260ef71e2",
   "metadata": {},
   "outputs": [
    {
     "name": "stdout",
     "output_type": "stream",
     "text": [
      "True\n"
     ]
    }
   ],
   "source": [
    "print('xy'.islower())"
   ]
  },
  {
   "cell_type": "code",
   "execution_count": 49,
   "id": "d1e27664-64a6-4f3f-bd1d-9e585632630f",
   "metadata": {},
   "outputs": [
    {
     "name": "stdout",
     "output_type": "stream",
     "text": [
      "False\n"
     ]
    }
   ],
   "source": [
    "print('a'.isnumeric())"
   ]
  },
  {
   "cell_type": "code",
   "execution_count": 51,
   "id": "08dfbbd4-5554-4b05-bba6-47ffcdca1b84",
   "metadata": {},
   "outputs": [
    {
     "name": "stdout",
     "output_type": "stream",
     "text": [
      "True\n"
     ]
    }
   ],
   "source": [
    "print('1'.isnumeric())"
   ]
  },
  {
   "cell_type": "code",
   "execution_count": 53,
   "id": "d6d78e19-c853-48f2-a3f0-3c3491097683",
   "metadata": {},
   "outputs": [
    {
     "name": "stdout",
     "output_type": "stream",
     "text": [
      "True\n"
     ]
    }
   ],
   "source": [
    "print(' '.isspace())"
   ]
  },
  {
   "cell_type": "code",
   "execution_count": 55,
   "id": "4b6325ab-475c-4774-b763-0ae1e71ab0a0",
   "metadata": {},
   "outputs": [
    {
     "name": "stdout",
     "output_type": "stream",
     "text": [
      "False\n"
     ]
    }
   ],
   "source": [
    "print(''.istitle())"
   ]
  },
  {
   "cell_type": "code",
   "execution_count": 57,
   "id": "c8033f55-b32b-491f-b6e3-bb7a7f9cc27b",
   "metadata": {},
   "outputs": [
    {
     "name": "stdout",
     "output_type": "stream",
     "text": [
      "True\n"
     ]
    }
   ],
   "source": [
    "print('Title'.istitle())"
   ]
  },
  {
   "cell_type": "code",
   "execution_count": 69,
   "id": "975cd9a2-f1ec-4744-8610-3e31c9ff486e",
   "metadata": {},
   "outputs": [
    {
     "name": "stdout",
     "output_type": "stream",
     "text": [
      "False\n"
     ]
    }
   ],
   "source": [
    "print('a'.istitle())"
   ]
  },
  {
   "cell_type": "code",
   "execution_count": 67,
   "id": "5b585aba-fee0-4845-89c7-f272a62976fd",
   "metadata": {},
   "outputs": [
    {
     "name": "stdout",
     "output_type": "stream",
     "text": [
      "True\n"
     ]
    }
   ],
   "source": [
    "print('A'.istitle())"
   ]
  },
  {
   "cell_type": "code",
   "execution_count": 59,
   "id": "2cc4fae1-6caf-4199-b3b7-445998d98386",
   "metadata": {},
   "outputs": [
    {
     "name": "stdout",
     "output_type": "stream",
     "text": [
      "False\n"
     ]
    }
   ],
   "source": [
    "print('a'.isupper())"
   ]
  },
  {
   "cell_type": "code",
   "execution_count": 61,
   "id": "38e30df3-78a5-4e1a-a5ff-2fdbf3a28e2e",
   "metadata": {},
   "outputs": [
    {
     "name": "stdout",
     "output_type": "stream",
     "text": [
      "True\n"
     ]
    }
   ],
   "source": [
    "print('Z'.isupper())"
   ]
  },
  {
   "cell_type": "code",
   "execution_count": 78,
   "id": "0941957f-c7af-44e4-9005-90a4f88a6554",
   "metadata": {},
   "outputs": [
    {
     "name": "stdout",
     "output_type": "stream",
     "text": [
      "True\n",
      "True\n",
      "True\n",
      "False\n",
      "False\n",
      "True\n",
      "True\n",
      "False\n",
      "True\n",
      "False\n",
      "False\n",
      "False\n",
      "\n",
      "True\n",
      "False\n",
      "True\n",
      "True\n",
      "True\n",
      "False\n",
      "False\n",
      "True\n",
      "True\n",
      "False\n",
      "False\n",
      "False\n",
      "\n",
      "True\n",
      "False\n",
      "True\n",
      "False\n",
      "False\n",
      "True\n",
      "True\n",
      "False\n",
      "True\n",
      "False\n",
      "False\n",
      "False\n",
      "\n",
      "True\n",
      "True\n",
      "True\n",
      "False\n",
      "False\n",
      "True\n",
      "False\n",
      "False\n",
      "True\n",
      "False\n",
      "False\n",
      "True\n",
      "\n"
     ]
    }
   ],
   "source": [
    "string1='abc'\n",
    "string2='123'\n",
    "string3='abc123'\n",
    "string4='ABC'\n",
    "print(string1.isalnum())\n",
    "print(string1.isalpha())\n",
    "print(string1.isascii())\n",
    "print(string1.isdecimal())\n",
    "print(string1.isdigit())\n",
    "print(string1.isidentifier())\n",
    "print(string1.islower())\n",
    "print(string1.isnumeric())\n",
    "print(string1.isprintable())\n",
    "print(string1.isspace())\n",
    "print(string1.istitle())\n",
    "print(string1.isupper())\n",
    "print()\n",
    "print(string2.isalnum())\n",
    "print(string2.isalpha())\n",
    "print(string2.isascii())\n",
    "print(string2.isdecimal())\n",
    "print(string2.isdigit())\n",
    "print(string2.isidentifier())\n",
    "print(string2.islower())\n",
    "print(string2.isnumeric())\n",
    "print(string2.isprintable())\n",
    "print(string2.isspace())\n",
    "print(string2.istitle())\n",
    "print(string2.isupper())\n",
    "print()\n",
    "print(string3.isalnum())\n",
    "print(string3.isalpha())\n",
    "print(string3.isascii())\n",
    "print(string3.isdecimal())\n",
    "print(string3.isdigit())\n",
    "print(string3.isidentifier())\n",
    "print(string3.islower())\n",
    "print(string3.isnumeric())\n",
    "print(string3.isprintable())\n",
    "print(string3.isspace())\n",
    "print(string3.istitle())\n",
    "print(string3.isupper())\n",
    "print()\n",
    "print(string4.isalnum())\n",
    "print(string4.isalpha())\n",
    "print(string4.isascii())\n",
    "print(string4.isdecimal())\n",
    "print(string4.isdigit())\n",
    "print(string4.isidentifier())\n",
    "print(string4.islower())\n",
    "print(string4.isnumeric())\n",
    "print(string4.isprintable())\n",
    "print(string4.isspace())\n",
    "print(string4.istitle())\n",
    "print(string4.isupper())\n",
    "print()"
   ]
  },
  {
   "cell_type": "markdown",
   "id": "8ec94bb6-137d-4961-89a8-c656f45b0c8b",
   "metadata": {},
   "source": [
    "<h1><b><center>*** THE END ***</center></b></h1>"
   ]
  }
 ],
 "metadata": {
  "kernelspec": {
   "display_name": "Python [conda env:base] *",
   "language": "python",
   "name": "conda-base-py"
  },
  "language_info": {
   "codemirror_mode": {
    "name": "ipython",
    "version": 3
   },
   "file_extension": ".py",
   "mimetype": "text/x-python",
   "name": "python",
   "nbconvert_exporter": "python",
   "pygments_lexer": "ipython3",
   "version": "3.12.7"
  }
 },
 "nbformat": 4,
 "nbformat_minor": 5
}
