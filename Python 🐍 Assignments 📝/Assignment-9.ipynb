{
 "cells": [
  {
   "cell_type": "markdown",
   "id": "a276a749-3ffd-4e8b-a211-da1fbff53384",
   "metadata": {},
   "source": [
    "<center><h1><b>Assignmnet - 9 </b></h1></center>"
   ]
  },
  {
   "cell_type": "code",
   "execution_count": 13,
   "id": "bf69720b-8537-4986-a6e5-3abe956fc1da",
   "metadata": {},
   "outputs": [
    {
     "name": "stdout",
     "output_type": "stream",
     "text": [
      "73 is ODD\n",
      "82 is EVEN\n",
      "19 is ODD\n"
     ]
    }
   ],
   "source": [
    "import random\n",
    "\n",
    "even_sum=0   # even_summ=even_summ+i\n",
    "odd_sum=0\n",
    "for i in range(3): # 1\n",
    "    num = random.randint(1,100) # 2\n",
    "    if num%2==0:  # 3\n",
    "        print(f'{num} is EVEN') # 4\n",
    "        even_sum=even_sum+num\n",
    "    else:  # 5\n",
    "        print(f'{num} is ODD') # 6\n",
    "        odd_sum=odd_sum+num"
   ]
  },
  {
   "cell_type": "code",
   "execution_count": 19,
   "id": "7387bb31-3bc8-4111-9afc-72ee1f62a58d",
   "metadata": {},
   "outputs": [
    {
     "name": "stdout",
     "output_type": "stream",
     "text": [
      "14 is EVEN\n",
      "14 is EVEN\n",
      "14 is EVEN\n",
      "14 is EVEN\n",
      "14 is EVEN\n",
      "14 is EVEN\n",
      "14 is EVEN\n",
      "14 is EVEN\n",
      "14 is EVEN\n",
      "14 is EVEN\n"
     ]
    }
   ],
   "source": [
    "import random\n",
    "\n",
    "even_sum=0   # even_summ=even_summ+i\n",
    "odd_sum=0\n",
    "for i in range(10,20): # 1\n",
    "    if num%2==0:  # 3\n",
    "        print(f'{num} is EVEN') # 4\n",
    "        even_sum=even_sum+num\n",
    "    else:  # 5\n",
    "        print(f'{num} is ODD') # 6\n",
    "        odd_sum=odd_sum+num"
   ]
  },
  {
   "cell_type": "code",
   "execution_count": 29,
   "id": "7dd8fde2-7a19-406d-9150-16b0338e8d07",
   "metadata": {},
   "outputs": [
    {
     "name": "stdout",
     "output_type": "stream",
     "text": [
      "Even numbers:\n",
      "10\n",
      "12\n",
      "14\n",
      "16\n",
      "18\n",
      "20\n",
      "\n",
      "Odd numbers:\n",
      "11\n",
      "13\n",
      "15\n",
      "17\n",
      "19\n"
     ]
    }
   ],
   "source": [
    "print(\"Even numbers:\")\n",
    "for i in range(10, 21):\n",
    "    if i % 2 == 0:\n",
    "        print(i)\n",
    "\n",
    "print(\"\\nOdd numbers:\")\n",
    "for i in range(10, 20):\n",
    "    if i % 2 != 0:\n",
    "        print(i)"
   ]
  },
  {
   "cell_type": "code",
   "execution_count": 35,
   "id": "b1e8e07d-4f0b-46a3-9ae5-487680db183a",
   "metadata": {},
   "outputs": [
    {
     "name": "stdout",
     "output_type": "stream",
     "text": [
      "The square of 20 is 400\n",
      "The square of 21 is 441\n",
      "The square of 22 is 484\n",
      "The square of 23 is 529\n",
      "The square of 24 is 576\n",
      "The square of 25 is 625\n"
     ]
    }
   ],
   "source": [
    "for num in range(20,26):\n",
    "    print(f'The square of {num} is {num*num}')"
   ]
  },
  {
   "cell_type": "code",
   "execution_count": 37,
   "id": "31b9de9d-ca04-4458-816a-1e1a2c71a278",
   "metadata": {},
   "outputs": [
    {
     "name": "stdin",
     "output_type": "stream",
     "text": [
      "enter the table num: 14\n"
     ]
    },
    {
     "name": "stdout",
     "output_type": "stream",
     "text": [
      "14x1=14\n",
      "14x2=28\n",
      "14x3=42\n",
      "14x4=56\n",
      "14x5=70\n",
      "14x6=84\n",
      "14x7=98\n",
      "14x8=112\n",
      "14x9=126\n",
      "14x10=140\n"
     ]
    }
   ],
   "source": [
    "num=eval(input('enter the table num:'))\n",
    "for i in range(1,11):\n",
    "    print(f\"{num}x{i}={num*i}\")"
   ]
  },
  {
   "cell_type": "code",
   "execution_count": 43,
   "id": "cbbda35c-a1ba-44c8-9d82-b4eab13beb13",
   "metadata": {},
   "outputs": [
    {
     "name": "stdin",
     "output_type": "stream",
     "text": [
      "enter the number to find factors: 75\n"
     ]
    },
    {
     "name": "stdout",
     "output_type": "stream",
     "text": [
      "\n",
      "Factors of 75 are:\n",
      "1\n",
      "3\n",
      "5\n",
      "15\n",
      "25\n",
      "75\n"
     ]
    }
   ],
   "source": [
    "number = eval(input('enter the number to find factors:'))\n",
    "\n",
    "print()\n",
    "print(f\"Factors of {number} are:\")\n",
    "\n",
    "for i in range(1, number + 1):\n",
    "    if number % i == 0:\n",
    "        print(i)"
   ]
  },
  {
   "cell_type": "code",
   "execution_count": 51,
   "id": "ccbce22a-eef6-4e47-a1f7-d367893554af",
   "metadata": {},
   "outputs": [
    {
     "name": "stdout",
     "output_type": "stream",
     "text": [
      "The sum of first 10 natural numbers is : 55\n"
     ]
    }
   ],
   "source": [
    "sum=0\n",
    "for i in range(1,11):\n",
    "    sum=sum+i\n",
    "print(f\"The sum of first 10 natural numbers is : {sum}\")"
   ]
  },
  {
   "cell_type": "code",
   "execution_count": 53,
   "id": "4bf818a0-40d9-4c45-9298-a34a7d527cb5",
   "metadata": {},
   "outputs": [
    {
     "name": "stdout",
     "output_type": "stream",
     "text": [
      "The average of numbers from 1 to 10 is: 5.5\n"
     ]
    }
   ],
   "source": [
    "# Step 1: Initialize sum\n",
    "total = 0\n",
    "\n",
    "# Step 2: Loop through 1 to 10 and add to total\n",
    "for i in range(1, 11):\n",
    "    total += i\n",
    "\n",
    "# Step 3: Calculate average\n",
    "average = total / 10\n",
    "\n",
    "print(f\"The average of numbers from 1 to 10 is: {average}\")"
   ]
  },
  {
   "cell_type": "code",
   "execution_count": 57,
   "id": "9d3961a7-a999-4805-a839-e6ef62724120",
   "metadata": {},
   "outputs": [
    {
     "name": "stdout",
     "output_type": "stream",
     "text": [
      "The average of numbers from 1 to 10 is: 5.5\n"
     ]
    }
   ],
   "source": [
    "# Step 1: Initialize sum\n",
    "total = 0\n",
    "\n",
    "# Step 2: Loop through 1 to 10 and add to total\n",
    "for i in range(1, 11):\n",
    "    total += i\n",
    "\n",
    "# Step 3: Calculate average\n",
    "average = total / 10\n",
    "\n",
    "print(f\"The average of numbers from 1 to {i} is: {average}\")"
   ]
  },
  {
   "cell_type": "code",
   "execution_count": 59,
   "id": "619244e1-990b-4f90-a833-93f1a3e6e45c",
   "metadata": {},
   "outputs": [
    {
     "name": "stdin",
     "output_type": "stream",
     "text": [
      "Enter the value of n:  50\n"
     ]
    },
    {
     "name": "stdout",
     "output_type": "stream",
     "text": [
      "The average of first 50 numbers is: 25.5\n"
     ]
    }
   ],
   "source": [
    "n = int(input(\"Enter the value of n: \"))\n",
    "\n",
    "total = 0\n",
    "\n",
    "for i in range(1, n + 1):\n",
    "    total += i\n",
    "\n",
    "average = total / n\n",
    "\n",
    "print(f\"The average of first {n} numbers is: {average}\")"
   ]
  },
  {
   "cell_type": "code",
   "execution_count": 63,
   "id": "b7302a41-76ad-450b-bb66-552b9b63f189",
   "metadata": {},
   "outputs": [
    {
     "name": "stdin",
     "output_type": "stream",
     "text": [
      "Enter the value of n:  75\n"
     ]
    },
    {
     "name": "stdout",
     "output_type": "stream",
     "text": [
      "Divisors of 75 are:\n",
      "1\n",
      "3\n",
      "5\n",
      "15\n",
      "25\n",
      "75\n",
      "The total number of divisors = 6\n"
     ]
    }
   ],
   "source": [
    "n = int(input(\"Enter the value of n: \"))\n",
    "\n",
    "count = 0\n",
    "\n",
    "print(f\"Divisors of {n} are:\")\n",
    "\n",
    "for i in range(1, n + 1):\n",
    "    if n % i == 0:\n",
    "        print(i)\n",
    "        count += 1\n",
    "\n",
    "print(f\"The total number of divisors = {count}\")"
   ]
  },
  {
   "cell_type": "code",
   "execution_count": 71,
   "id": "a7362a38-c436-4f06-80df-8b28452a5d1c",
   "metadata": {},
   "outputs": [
    {
     "name": "stdout",
     "output_type": "stream",
     "text": [
      "Welcome to the guessing game!\n"
     ]
    },
    {
     "name": "stdin",
     "output_type": "stream",
     "text": [
      "Enter a number between 1 and 10 (Chances left: 4):  4\n"
     ]
    },
    {
     "name": "stdout",
     "output_type": "stream",
     "text": [
      "Wrong guess! Try again. 3 chances left.\n"
     ]
    },
    {
     "name": "stdin",
     "output_type": "stream",
     "text": [
      "Enter a number between 1 and 10 (Chances left: 3):  6\n"
     ]
    },
    {
     "name": "stdout",
     "output_type": "stream",
     "text": [
      "Wrong guess! Try again. 2 chances left.\n"
     ]
    },
    {
     "name": "stdin",
     "output_type": "stream",
     "text": [
      "Enter a number between 1 and 10 (Chances left: 2):  7\n"
     ]
    },
    {
     "name": "stdout",
     "output_type": "stream",
     "text": [
      "Wrong guess! Try again. 1 chances left.\n"
     ]
    },
    {
     "name": "stdin",
     "output_type": "stream",
     "text": [
      "Enter a number between 1 and 10 (Chances left: 1):  2\n"
     ]
    },
    {
     "name": "stdout",
     "output_type": "stream",
     "text": [
      "\n",
      "You've used all your chances.\n",
      "Try again after 24 hours.\n"
     ]
    }
   ],
   "source": [
    "import random\n",
    "import time\n",
    "\n",
    "num1 = random.randint(1, 10)\n",
    "\n",
    "# Setting the number of chances to 4 or any other number\n",
    "total_chances = 4\n",
    "chances_left = total_chances\n",
    "\n",
    "print(\"Welcome to the guessing game!\")\n",
    "\n",
    "while chances_left > 0:\n",
    "    # Ask the user to guess a number\n",
    "    num2 = int(input(f\"Enter a number between 1 and 10 (Chances left: {chances_left}): \"))\n",
    "    \n",
    "    # Check if the guess is correct\n",
    "    if num1 == num2:\n",
    "        print(\"You won!\")\n",
    "        break\n",
    "    else:\n",
    "        chances_left -= 1\n",
    "        if chances_left > 0:\n",
    "            print(f\"Wrong guess! Try again. {chances_left} chances left.\")\n",
    "        else:\n",
    "            print()\n",
    "            print(\"You've used all your chances.\")\n",
    "            print(\"Try again after 24 hours.\")\n",
    "\n",
    "    # Optional: Wait for 1 second to give the user a pause before asking again\n",
    "    time.sleep(1)"
   ]
  },
  {
   "cell_type": "code",
   "execution_count": 67,
   "id": "01021f6d-c5ec-4faa-b7b4-da6e291f712a",
   "metadata": {},
   "outputs": [
    {
     "name": "stdout",
     "output_type": "stream",
     "text": [
      "4\n",
      "Welcome to the guessing game!\n"
     ]
    },
    {
     "name": "stdin",
     "output_type": "stream",
     "text": [
      "Enter a number between 1 and 10 (Chances left: 4):  4\n"
     ]
    },
    {
     "name": "stdout",
     "output_type": "stream",
     "text": [
      "You won!\n"
     ]
    }
   ],
   "source": [
    "import random\n",
    "import time\n",
    "\n",
    "num1 = random.randint(1, 10)\n",
    "print(num1)\n",
    "\n",
    "# Setting the number of chances to 4 or any other number\n",
    "total_chances = 4\n",
    "chances_left = total_chances\n",
    "\n",
    "print(\"Welcome to the guessing game!\")\n",
    "\n",
    "while chances_left > 0:\n",
    "    # Ask the user to guess a number\n",
    "    num2 = int(input(f\"Enter a number between 1 and 10 (Chances left: {chances_left}): \"))\n",
    "    \n",
    "    # Check if the guess is correct\n",
    "    if num1 == num2:\n",
    "        print(\"You won!\")\n",
    "        break\n",
    "    else:\n",
    "        chances_left -= 1\n",
    "        if chances_left > 0:\n",
    "            print(f\"Wrong guess! Try again. {chances_left} chances left.\")\n",
    "        else:\n",
    "            print(\"You've used all your chances.\")\n",
    "            print(\"Try again after 24 hours.\")\n",
    "\n",
    "    # Optional: Wait for 1 second to give the user a pause before asking again\n",
    "    time.sleep(1)"
   ]
  },
  {
   "cell_type": "code",
   "execution_count": 73,
   "id": "06ce1f22-4e65-4d6b-99bb-b3df74327d78",
   "metadata": {},
   "outputs": [
    {
     "name": "stdout",
     "output_type": "stream",
     "text": [
      "Let's check if 5 random numbers are even or odd:\n",
      "97 is ODD\n",
      "4 is EVEN\n",
      "82 is EVEN\n",
      "39 is ODD\n",
      "43 is ODD\n",
      "\n",
      "Total even numbers: 2\n",
      "Total odd numbers: 3\n"
     ]
    }
   ],
   "source": [
    "import random\n",
    "\n",
    "even_count = 0\n",
    "odd_count = 0\n",
    "\n",
    "print(\"Let's check if 5 random numbers are even or odd:\")\n",
    "\n",
    "for i in range(5):\n",
    "    num = random.randint(1, 100)  # Generate a random number between 1 and 100\n",
    "    if num % 2 == 0:\n",
    "        print(f\"{num} is EVEN\")\n",
    "        even_count += 1\n",
    "    else:\n",
    "        print(f\"{num} is ODD\")\n",
    "        odd_count += 1\n",
    "\n",
    "print(f\"\\nTotal even numbers: {even_count}\")\n",
    "print(f\"Total odd numbers: {odd_count}\")"
   ]
  },
  {
   "cell_type": "code",
   "execution_count": 75,
   "id": "40691584-2500-41af-9d02-9fc539da3209",
   "metadata": {},
   "outputs": [
    {
     "name": "stdout",
     "output_type": "stream",
     "text": [
      "Generated number: 48\n",
      "48 is EVEN\n",
      "Generated number: 34\n",
      "34 is EVEN\n",
      "Generated number: 18\n",
      "18 is EVEN\n",
      "Generated number: 89\n",
      "89 is ODD\n",
      "Generated number: 52\n",
      "52 is EVEN\n",
      "\n",
      "Total even numbers: 4\n",
      "Total odd numbers: 1\n"
     ]
    }
   ],
   "source": [
    "import random\n",
    "\n",
    "# Initialize counters for even and odd numbers\n",
    "even_count = 0\n",
    "odd_count = 0\n",
    "\n",
    "# Loop 5 times\n",
    "for i in range(5):\n",
    "    num = random.randint(1, 100)  # Generate a random number between 1 and 100\n",
    "    print(f\"Generated number: {num}\")\n",
    "    \n",
    "    # Check if the number is even or odd and update the respective counter\n",
    "    if num % 2 == 0:\n",
    "        print(f\"{num} is EVEN\")\n",
    "        even_count += 1  # Increment the even counter\n",
    "    else:\n",
    "        print(f\"{num} is ODD\")\n",
    "        odd_count += 1  # Increment the odd counter\n",
    "\n",
    "# Display the final counts\n",
    "print(f\"\\nTotal even numbers: {even_count}\")\n",
    "print(f\"Total odd numbers: {odd_count}\")"
   ]
  },
  {
   "cell_type": "code",
   "execution_count": 79,
   "id": "11000d44-3636-4dc0-9379-3cdf6c2bc75c",
   "metadata": {},
   "outputs": [
    {
     "name": "stdout",
     "output_type": "stream",
     "text": [
      "Random number generated: 52\n",
      "52 is EVEN\n",
      "Random number generated: 61\n",
      "61 is ODD\n",
      "Random number generated: 70\n",
      "70 is EVEN\n",
      "Random number generated: 53\n",
      "53 is ODD\n",
      "Random number generated: 49\n",
      "49 is ODD\n",
      "\n",
      "Total even numbers: 2\n",
      "Total odd numbers: 3\n",
      "Sum of even numbers: 122\n",
      "Sum of odd numbers: 163\n"
     ]
    }
   ],
   "source": [
    "import random\n",
    "\n",
    "# Initialize counters and sum variables for even and odd numbers\n",
    "even_count = 0\n",
    "odd_count = 0\n",
    "even_sum = 0\n",
    "odd_sum = 0\n",
    "\n",
    "# Loop 5 times\n",
    "for i in range(5):\n",
    "    num = random.randint(1, 100)  # Generate a random number between 1 and 100\n",
    "    print(f\"Random number generated: {num}\")\n",
    "    \n",
    "    # Check if the number is even or odd and update the respective counter and sum\n",
    "    if num % 2 == 0:\n",
    "        print(f\"{num} is EVEN\")\n",
    "        even_count += 1  # Increment the even counter\n",
    "        even_sum += num  # Add to the sum of even numbers\n",
    "    else:\n",
    "        print(f\"{num} is ODD\")\n",
    "        odd_count += 1  # Increment the odd counter\n",
    "        odd_sum += num  # Add to the sum of odd numbers\n",
    "\n",
    "# Display the final counts and sums\n",
    "print(f\"\\nTotal even numbers: {even_count}\")\n",
    "print(f\"Total odd numbers: {odd_count}\")\n",
    "print(f\"Sum of even numbers: {even_sum}\")\n",
    "print(f\"Sum of odd numbers: {odd_sum}\")"
   ]
  },
  {
   "cell_type": "code",
   "execution_count": 85,
   "id": "656d3a18-c417-44ee-8443-efc3f49ff2a4",
   "metadata": {},
   "outputs": [
    {
     "name": "stdout",
     "output_type": "stream",
     "text": [
      "Random number generated: 45\n",
      "45 is ODD\n",
      "Random number generated: 2\n",
      "2 is EVEN\n",
      "Random number generated: 58\n",
      "58 is EVEN\n",
      "Random number generated: 17\n",
      "17 is ODD\n",
      "Random number generated: 31\n",
      "31 is ODD\n",
      "\n",
      "Total even numbers: 2\n",
      "Total odd numbers: 3\n",
      "Sum of even numbers: 60\n",
      "Sum of odd numbers: 93\n",
      "\n",
      "Even numbers: [2, 58]\n",
      "Odd numbers: [45, 17, 31]\n"
     ]
    }
   ],
   "source": [
    "import random\n",
    "\n",
    "# Initialize counters, sum variables for even and odd numbers\n",
    "even_count = 0\n",
    "odd_count = 0\n",
    "even_sum = 0\n",
    "odd_sum = 0\n",
    "even_numbers = [0] * 5  # Pre-allocate a List to store up to 5 even numbers\n",
    "odd_numbers = [0] * 5   # Pre-allocate a list to store up to 5 odd numbers\n",
    "\n",
    "# Loop 5 times\n",
    "for i in range(5):\n",
    "    num = random.randint(1, 100)  # Generate a random number between 1 and 100\n",
    "    print(f\"Random number generated: {num}\")\n",
    "    \n",
    "    # Check if the number is even or odd and update the respective counter, sum, and list\n",
    "    if num % 2 == 0:\n",
    "        print(f\"{num} is EVEN\")\n",
    "        even_count += 1  # Increment the even counter\n",
    "        even_sum += num  # Add to the sum of even numbers\n",
    "        even_numbers[even_count - 1] = num  # Place in the correct position of even_numbers list\n",
    "    else:\n",
    "        print(f\"{num} is ODD\")\n",
    "        odd_count += 1  # Increment the odd counter\n",
    "        odd_sum += num  # Add to the sum of odd numbers\n",
    "        odd_numbers[odd_count - 1] = num  # Place in the correct position of odd_numbers list\n",
    "\n",
    "# Display the final counts and sums\n",
    "print(f\"\\nTotal even numbers: {even_count}\")\n",
    "print(f\"Total odd numbers: {odd_count}\")\n",
    "print(f\"Sum of even numbers: {even_sum}\")\n",
    "print(f\"Sum of odd numbers: {odd_sum}\")\n",
    "\n",
    "# Only print the relevant part of the lists (non-zero values)\n",
    "print(f\"\\nEven numbers: {even_numbers[:even_count]}\")\n",
    "print(f\"Odd numbers: {odd_numbers[:odd_count]}\")\n"
   ]
  },
  {
   "cell_type": "markdown",
   "id": "6c0192ba-28e0-41c1-a6e2-744af6672506",
   "metadata": {},
   "source": [
    "<center><h1><b>*** THE END ***</b></h1></center>"
   ]
  }
 ],
 "metadata": {
  "kernelspec": {
   "display_name": "Python [conda env:base] *",
   "language": "python",
   "name": "conda-base-py"
  },
  "language_info": {
   "codemirror_mode": {
    "name": "ipython",
    "version": 3
   },
   "file_extension": ".py",
   "mimetype": "text/x-python",
   "name": "python",
   "nbconvert_exporter": "python",
   "pygments_lexer": "ipython3",
   "version": "3.12.7"
  }
 },
 "nbformat": 4,
 "nbformat_minor": 5
}
