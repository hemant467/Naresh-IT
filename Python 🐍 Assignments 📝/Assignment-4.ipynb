{
 "cells": [
  {
   "cell_type": "markdown",
   "id": "c724a040-8224-48c2-aba9-07809989c2bb",
   "metadata": {},
   "source": [
    "<center><h1><b>Exploring following Methods of Packages</b></h1></center>"
   ]
  },
  {
   "cell_type": "markdown",
   "id": "221273ab-81a5-4e3f-97dd-3e1bc80bb20d",
   "metadata": {},
   "source": [
    "# RANDOM :"
   ]
  },
  {
   "cell_type": "code",
   "execution_count": 1,
   "id": "db183db1-f864-4ad2-bb76-1702833d3679",
   "metadata": {},
   "outputs": [],
   "source": [
    "import random"
   ]
  },
  {
   "cell_type": "code",
   "execution_count": 3,
   "id": "998c60ed-9555-4df7-9e54-b5a8da592c8e",
   "metadata": {},
   "outputs": [
    {
     "data": {
      "text/plain": [
       "<module 'random' from 'E:\\\\Python Anaconda\\\\Lib\\\\random.py'>"
      ]
     },
     "execution_count": 3,
     "metadata": {},
     "output_type": "execute_result"
    }
   ],
   "source": [
    "random"
   ]
  },
  {
   "cell_type": "code",
   "execution_count": 5,
   "id": "1c86da54-2dfc-404c-8d40-72d3e50471fc",
   "metadata": {},
   "outputs": [
    {
     "data": {
      "text/plain": [
       "['BPF',\n",
       " 'LOG4',\n",
       " 'NV_MAGICCONST',\n",
       " 'RECIP_BPF',\n",
       " 'Random',\n",
       " 'SG_MAGICCONST',\n",
       " 'SystemRandom',\n",
       " 'TWOPI',\n",
       " '_ONE',\n",
       " '_Sequence',\n",
       " '__all__',\n",
       " '__builtins__',\n",
       " '__cached__',\n",
       " '__doc__',\n",
       " '__file__',\n",
       " '__loader__',\n",
       " '__name__',\n",
       " '__package__',\n",
       " '__spec__',\n",
       " '_accumulate',\n",
       " '_acos',\n",
       " '_bisect',\n",
       " '_ceil',\n",
       " '_cos',\n",
       " '_e',\n",
       " '_exp',\n",
       " '_fabs',\n",
       " '_floor',\n",
       " '_index',\n",
       " '_inst',\n",
       " '_isfinite',\n",
       " '_lgamma',\n",
       " '_log',\n",
       " '_log2',\n",
       " '_os',\n",
       " '_pi',\n",
       " '_random',\n",
       " '_repeat',\n",
       " '_sha512',\n",
       " '_sin',\n",
       " '_sqrt',\n",
       " '_test',\n",
       " '_test_generator',\n",
       " '_urandom',\n",
       " '_warn',\n",
       " 'betavariate',\n",
       " 'binomialvariate',\n",
       " 'choice',\n",
       " 'choices',\n",
       " 'expovariate',\n",
       " 'gammavariate',\n",
       " 'gauss',\n",
       " 'getrandbits',\n",
       " 'getstate',\n",
       " 'lognormvariate',\n",
       " 'normalvariate',\n",
       " 'paretovariate',\n",
       " 'randbytes',\n",
       " 'randint',\n",
       " 'random',\n",
       " 'randrange',\n",
       " 'sample',\n",
       " 'seed',\n",
       " 'setstate',\n",
       " 'shuffle',\n",
       " 'triangular',\n",
       " 'uniform',\n",
       " 'vonmisesvariate',\n",
       " 'weibullvariate']"
      ]
     },
     "execution_count": 5,
     "metadata": {},
     "output_type": "execute_result"
    }
   ],
   "source": [
    "dir(random)"
   ]
  },
  {
   "cell_type": "code",
   "execution_count": 7,
   "id": "c675175c-9a72-4bfa-b616-5d3a7a35ef0d",
   "metadata": {},
   "outputs": [],
   "source": [
    "from random import randint"
   ]
  },
  {
   "cell_type": "code",
   "execution_count": 9,
   "id": "9c0fabff-e9d9-4f77-9bd3-d2c5d7dd92bf",
   "metadata": {},
   "outputs": [],
   "source": [
    "from random import random"
   ]
  },
  {
   "cell_type": "code",
   "execution_count": 27,
   "id": "1afc6e59-4067-4094-bf82-24b3dcc41056",
   "metadata": {},
   "outputs": [
    {
     "name": "stdout",
     "output_type": "stream",
     "text": [
      "4\n"
     ]
    }
   ],
   "source": [
    "from random import choice\n",
    "\n",
    "list=[1,2,3,4,5]\n",
    "random_item = choice(list)\n",
    "\n",
    "print(random_item)"
   ]
  },
  {
   "cell_type": "code",
   "execution_count": 31,
   "id": "849c1951-6330-416c-a348-898b70565baa",
   "metadata": {},
   "outputs": [
    {
     "name": "stdout",
     "output_type": "stream",
     "text": [
      "Help on method sample in module random:\n",
      "\n",
      "sample(population, k, *, counts=None) method of random.Random instance\n",
      "    Chooses k unique random elements from a population sequence.\n",
      "\n",
      "    Returns a new list containing elements from the population while\n",
      "    leaving the original population unchanged.  The resulting list is\n",
      "    in selection order so that all sub-slices will also be valid random\n",
      "    samples.  This allows raffle winners (the sample) to be partitioned\n",
      "    into grand prize and second place winners (the subslices).\n",
      "\n",
      "    Members of the population need not be hashable or unique.  If the\n",
      "    population contains repeats, then each occurrence is a possible\n",
      "    selection in the sample.\n",
      "\n",
      "    Repeated elements can be specified one at a time or with the optional\n",
      "    counts parameter.  For example:\n",
      "\n",
      "        sample(['red', 'blue'], counts=[4, 2], k=5)\n",
      "\n",
      "    is equivalent to:\n",
      "\n",
      "        sample(['red', 'red', 'red', 'red', 'blue', 'blue'], k=5)\n",
      "\n",
      "    To choose a sample from a range of integers, use range() for the\n",
      "    population argument.  This is especially fast and space efficient\n",
      "    for sampling from a large population:\n",
      "\n",
      "        sample(range(10000000), 60)\n",
      "\n"
     ]
    }
   ],
   "source": [
    "from random import sample\n",
    "help(sample)"
   ]
  },
  {
   "cell_type": "code",
   "execution_count": 33,
   "id": "b408ef3c-c2fa-48fc-b277-ac590bfaa996",
   "metadata": {},
   "outputs": [
    {
     "name": "stdout",
     "output_type": "stream",
     "text": [
      "Random items:  4\n",
      "Random sample of 3 items: [5, 4, 1]\n"
     ]
    }
   ],
   "source": [
    "from random import sample\n",
    "\n",
    "list=[1,2,3,4,5]\n",
    "random_item = choice(list)\n",
    "print('Random items: ',random_item)\n",
    "\n",
    "random_sample = sample(list,3)\n",
    "print(\"Random sample of 3 items:\", random_sample)"
   ]
  },
  {
   "cell_type": "code",
   "execution_count": 37,
   "id": "0db975f0-c257-484c-93ce-1692883f5c93",
   "metadata": {},
   "outputs": [
    {
     "name": "stdout",
     "output_type": "stream",
     "text": [
      "Help on method randrange in module random:\n",
      "\n",
      "randrange(start, stop=None, step=1) method of random.Random instance\n",
      "    Choose a random item from range(stop) or range(start, stop[, step]).\n",
      "\n",
      "    Roughly equivalent to ``choice(range(start, stop, step))`` but\n",
      "    supports arbitrarily large ranges and is optimized for common cases.\n",
      "\n"
     ]
    }
   ],
   "source": [
    "from random import randrange\n",
    "help(randrange)"
   ]
  },
  {
   "cell_type": "code",
   "execution_count": 43,
   "id": "2db3461f-47b1-403a-9b5f-cc914f9a2100",
   "metadata": {},
   "outputs": [
    {
     "name": "stdout",
     "output_type": "stream",
     "text": [
      "Random item: 2\n"
     ]
    }
   ],
   "source": [
    "from random import randrange\n",
    "\n",
    "list = [1, 2, 3, 4, 5]\n",
    "\n",
    "# Get a random index using randrange\n",
    "random_index = randrange(len(list))\n",
    "\n",
    "# Use the index to get a random item\n",
    "random_item = list[random_index]\n",
    "\n",
    "print(\"Random item:\", random_item)"
   ]
  },
  {
   "cell_type": "markdown",
   "id": "041a1c50-80eb-4db1-8db2-c6eecda22917",
   "metadata": {},
   "source": [
    "# MATH :"
   ]
  },
  {
   "cell_type": "code",
   "execution_count": 47,
   "id": "9a9514b4-d654-4fdc-8081-634d24315bee",
   "metadata": {},
   "outputs": [
    {
     "data": {
      "text/plain": [
       "9.539392014169456"
      ]
     },
     "execution_count": 47,
     "metadata": {},
     "output_type": "execute_result"
    }
   ],
   "source": [
    "from math import sqrt\n",
    "sqrt(91)"
   ]
  },
  {
   "cell_type": "code",
   "execution_count": 51,
   "id": "69886e50-ab07-4e26-83d7-ea5fd943af81",
   "metadata": {},
   "outputs": [
    {
     "data": {
      "text/plain": [
       "10"
      ]
     },
     "execution_count": 51,
     "metadata": {},
     "output_type": "execute_result"
    }
   ],
   "source": [
    "from math import sqrt\n",
    "round(sqrt(91))"
   ]
  },
  {
   "cell_type": "code",
   "execution_count": 53,
   "id": "561ced61-4095-4191-988b-3c4b68f8eab5",
   "metadata": {},
   "outputs": [
    {
     "data": {
      "text/plain": [
       "3.141592653589793"
      ]
     },
     "execution_count": 53,
     "metadata": {},
     "output_type": "execute_result"
    }
   ],
   "source": [
    "from math import pi\n",
    "pi"
   ]
  },
  {
   "cell_type": "code",
   "execution_count": 57,
   "id": "7b357b6e-2006-4790-a68b-146a346feaa2",
   "metadata": {},
   "outputs": [
    {
     "data": {
      "text/plain": [
       "4"
      ]
     },
     "execution_count": 57,
     "metadata": {},
     "output_type": "execute_result"
    }
   ],
   "source": [
    "from math import pi,ceil\n",
    "ceil(pi)"
   ]
  },
  {
   "cell_type": "code",
   "execution_count": 59,
   "id": "a31b5a37-a079-4d43-bf13-ceb7d5b15b2c",
   "metadata": {},
   "outputs": [
    {
     "data": {
      "text/plain": [
       "2.718281828459045"
      ]
     },
     "execution_count": 59,
     "metadata": {},
     "output_type": "execute_result"
    }
   ],
   "source": [
    "from math import e\n",
    "e"
   ]
  },
  {
   "cell_type": "code",
   "execution_count": 61,
   "id": "34de02b1-7886-4c73-9f9f-f455706000d6",
   "metadata": {},
   "outputs": [
    {
     "data": {
      "text/plain": [
       "8.0"
      ]
     },
     "execution_count": 61,
     "metadata": {},
     "output_type": "execute_result"
    }
   ],
   "source": [
    "from math import pow\n",
    "pow(2,3)"
   ]
  },
  {
   "cell_type": "code",
   "execution_count": 63,
   "id": "7ee35b5f-fe7c-4a28-a379-1519c5741f1b",
   "metadata": {},
   "outputs": [
    {
     "data": {
      "text/plain": [
       "0.8939966636005579"
      ]
     },
     "execution_count": 63,
     "metadata": {},
     "output_type": "execute_result"
    }
   ],
   "source": [
    "from math import sin\n",
    "sin(90)"
   ]
  },
  {
   "cell_type": "code",
   "execution_count": 65,
   "id": "a80d578f-00c1-483a-9212-b46f69a09cb6",
   "metadata": {},
   "outputs": [
    {
     "data": {
      "text/plain": [
       "1"
      ]
     },
     "execution_count": 65,
     "metadata": {},
     "output_type": "execute_result"
    }
   ],
   "source": [
    "from math import sin,ceil\n",
    "ceil(sin(90))"
   ]
  },
  {
   "cell_type": "code",
   "execution_count": 67,
   "id": "58a04219-92c7-4b3a-b936-ac78e9c4180c",
   "metadata": {},
   "outputs": [
    {
     "data": {
      "text/plain": [
       "1"
      ]
     },
     "execution_count": 67,
     "metadata": {},
     "output_type": "execute_result"
    }
   ],
   "source": [
    "from math import sin\n",
    "round(sin(90))"
   ]
  },
  {
   "cell_type": "markdown",
   "id": "747b2b92-fb85-4855-9ddf-556b051d2874",
   "metadata": {},
   "source": [
    "# TIME :"
   ]
  },
  {
   "cell_type": "code",
   "execution_count": 75,
   "id": "11e5e5cd-09f1-40a3-a906-6438439fbca7",
   "metadata": {},
   "outputs": [],
   "source": [
    "from time import sleep"
   ]
  },
  {
   "cell_type": "code",
   "execution_count": 77,
   "id": "b6ec87a0-b024-415a-afc4-e47ca180458a",
   "metadata": {},
   "outputs": [
    {
     "name": "stdout",
     "output_type": "stream",
     "text": [
      "Good\n",
      "Morning\n"
     ]
    }
   ],
   "source": [
    "import time\n",
    "print('Good')\n",
    "time.sleep(5)\n",
    "print('Morning')"
   ]
  },
  {
   "cell_type": "code",
   "execution_count": 79,
   "id": "dcd2e2c5-0a0a-46bf-bbec-a71bb98e7b90",
   "metadata": {},
   "outputs": [
    {
     "name": "stdout",
     "output_type": "stream",
     "text": [
      "AB\n",
      "CDE\n",
      "FGHI\n",
      "The total time taken:  7.003495216369629\n"
     ]
    }
   ],
   "source": [
    "import time\n",
    "start=time.time()\n",
    "print('AB')\n",
    "time.sleep(5)\n",
    "print('CDE')\n",
    "time.sleep(2)\n",
    "print('FGHI')\n",
    "end=time.time()\n",
    "print('The total time taken: ',(end-start))"
   ]
  },
  {
   "cell_type": "markdown",
   "id": "08f2ea40-f16a-44d0-83d0-c3acd7180b88",
   "metadata": {},
   "source": [
    "<center><h1><b>*** THE END ***</b></h1></center>"
   ]
  }
 ],
 "metadata": {
  "kernelspec": {
   "display_name": "Python [conda env:base] *",
   "language": "python",
   "name": "conda-base-py"
  },
  "language_info": {
   "codemirror_mode": {
    "name": "ipython",
    "version": 3
   },
   "file_extension": ".py",
   "mimetype": "text/x-python",
   "name": "python",
   "nbconvert_exporter": "python",
   "pygments_lexer": "ipython3",
   "version": "3.12.7"
  }
 },
 "nbformat": 4,
 "nbformat_minor": 5
}
