{
 "cells": [
  {
   "cell_type": "markdown",
   "id": "63a171a1-3688-4f6e-a3c8-0891c2d25f2b",
   "metadata": {},
   "source": [
    "<center><h1><b>Assignmnet - 6 </b></h1></center>"
   ]
  },
  {
   "cell_type": "code",
   "execution_count": 9,
   "id": "a42a0e2b-2b4a-4741-9fc3-f7f07555b16b",
   "metadata": {},
   "outputs": [
    {
     "name": "stdin",
     "output_type": "stream",
     "text": [
      "Enter first number:  4\n",
      "Enter second number:  5\n"
     ]
    },
    {
     "name": "stdout",
     "output_type": "stream",
     "text": [
      "You lost\n"
     ]
    }
   ],
   "source": [
    "try:\n",
    "    n1 = eval(input(\"Enter first number: \"))\n",
    "    \n",
    "    n2 = eval(input(\"Enter second number: \"))\n",
    "    \n",
    "    if n1 == n2:\n",
    "        print(\"You won\")\n",
    "        \n",
    "    else:\n",
    "        print(\"You lost\")\n",
    "        \n",
    "except Exception as e:\n",
    "    print(\"Invalid input. Please enter valid numbers.\")"
   ]
  },
  {
   "cell_type": "code",
   "execution_count": 21,
   "id": "b3559615-de0c-465f-bde4-3d498b9005f3",
   "metadata": {},
   "outputs": [
    {
     "name": "stdin",
     "output_type": "stream",
     "text": [
      "Enter first number:  10\n"
     ]
    },
    {
     "name": "stdout",
     "output_type": "stream",
     "text": [
      "\n",
      "n1 number is :  10\n",
      "\n",
      "n2 number is :  4\n",
      "\n",
      "You lost\n"
     ]
    }
   ],
   "source": [
    "import random\n",
    "\n",
    "try:\n",
    "    n1 = eval(input(\"Enter first number: \"))\n",
    "    print(f'\\nn1 number is : ',n1)\n",
    "    \n",
    "    n2 = random.randint(1,10)\n",
    "    print(f'\\nn2 number is : ',n2)\n",
    "    \n",
    "    if n1 == n2:\n",
    "        print(f'\\nYou won')\n",
    "        \n",
    "    else:\n",
    "        print(f'\\nYou lost')\n",
    "        \n",
    "except Exception as e:\n",
    "    print(\"Invalid input. Please enter valid numbers.\")"
   ]
  },
  {
   "cell_type": "code",
   "execution_count": 37,
   "id": "9008b010-07f9-4ee6-923d-2611780bbe4f",
   "metadata": {},
   "outputs": [
    {
     "name": "stdout",
     "output_type": "stream",
     "text": [
      "\n",
      "n2 number is :  7\n",
      "\n"
     ]
    },
    {
     "name": "stdin",
     "output_type": "stream",
     "text": [
      "Enter n1 number:  6\n"
     ]
    },
    {
     "name": "stdout",
     "output_type": "stream",
     "text": [
      "\n",
      "n1 number is :  6\n",
      "\n",
      "n2 number is :  7\n",
      "\n",
      "You lost\n"
     ]
    }
   ],
   "source": [
    "import random\n",
    "\n",
    "try:\n",
    "    n2 = random.randint(1,10)\n",
    "    print(f'\\nn2 number is : ',n2)\n",
    "\n",
    "    print()\n",
    "    n1 = eval(input(\"Enter n1 number: \"))\n",
    "    print(f'\\nn1 number is : ',n1)\n",
    "    print(f'\\nn2 number is : ',n2)\n",
    "    \n",
    "    if n1 == n2:\n",
    "        print(f'\\nYou won')\n",
    "        \n",
    "    else:\n",
    "        print(f'\\nYou lost')\n",
    "        \n",
    "except Exception as e:\n",
    "    print(\"Invalid input. Please enter valid numbers.\")"
   ]
  },
  {
   "cell_type": "code",
   "execution_count": 39,
   "id": "e9f25133-e1b7-4008-b4b7-3edcde45d790",
   "metadata": {},
   "outputs": [
    {
     "name": "stdout",
     "output_type": "stream",
     "text": [
      "\n",
      "n2 number is :  10\n",
      "\n"
     ]
    },
    {
     "name": "stdin",
     "output_type": "stream",
     "text": [
      "Enter n1 number:  10\n"
     ]
    },
    {
     "name": "stdout",
     "output_type": "stream",
     "text": [
      "\n",
      "n1 number is :  10\n",
      "\n",
      "n2 number is :  10\n",
      "\n",
      "You won\n"
     ]
    }
   ],
   "source": [
    "import random\n",
    "\n",
    "try:\n",
    "    n2 = random.randint(1,10)\n",
    "    print(f'\\nn2 number is : ',n2)\n",
    "\n",
    "    print()\n",
    "    n1 = eval(input(\"Enter n1 number: \"))\n",
    "    print(f'\\nn1 number is : ',n1)\n",
    "    print(f'\\nn2 number is : ',n2)\n",
    "    \n",
    "    if n1 == n2:\n",
    "        print(f'\\nYou won')\n",
    "        \n",
    "    else:\n",
    "        print(f'\\nYou lost')\n",
    "        \n",
    "except Exception as e:\n",
    "    print(\"Invalid input. Please enter valid numbers.\")"
   ]
  },
  {
   "cell_type": "code",
   "execution_count": 51,
   "id": "a0abc86b-d507-4bcd-bd73-b3fb22071b73",
   "metadata": {},
   "outputs": [
    {
     "name": "stdin",
     "output_type": "stream",
     "text": [
      "Enter number:  77\n"
     ]
    },
    {
     "name": "stdout",
     "output_type": "stream",
     "text": [
      "77 is an ODD number\n"
     ]
    }
   ],
   "source": [
    "try:\n",
    "    num=eval(input('Enter number: '))\n",
    "\n",
    "    if num%2==0:\n",
    "        print(f\"{num} is an EVEN number\")\n",
    "    else:\n",
    "        print(f\"{num} is an ODD number\")\n",
    "except Exception as e:\n",
    "    print(\"Invalid input. Please enter valid numbers.\")"
   ]
  },
  {
   "cell_type": "code",
   "execution_count": 49,
   "id": "a9a3d63a-9795-4d95-8830-f01da52925ac",
   "metadata": {},
   "outputs": [
    {
     "name": "stdout",
     "output_type": "stream",
     "text": [
      "Random number is : 96\n",
      "96 is an EVEN number\n"
     ]
    }
   ],
   "source": [
    "import random\n",
    "\n",
    "try:\n",
    "    num=random.randint(1,100)\n",
    "    print(f\"Random number is : {num}\" )\n",
    "\n",
    "    if num%2==0:\n",
    "        print(f\"{num} is an EVEN number\")\n",
    "    else:\n",
    "        print(f\"{num} is an ODD number\")\n",
    "except Exception as e:\n",
    "    print(\"Invalid input. Please enter valid numbers.\")"
   ]
  },
  {
   "cell_type": "code",
   "execution_count": 89,
   "id": "ecaca3cc-2557-410c-8fd3-7e2a192b4ada",
   "metadata": {},
   "outputs": [
    {
     "name": "stdin",
     "output_type": "stream",
     "text": [
      "Enter the distance in KM:  25.1\n",
      "Enter the charge per km:  5\n"
     ]
    },
    {
     "name": "stdout",
     "output_type": "stream",
     "text": [
      "\n",
      "The chargeable distance: 125.5\n",
      "\n",
      "Total charge for 125.5 * 5 = 627.5\n"
     ]
    }
   ],
   "source": [
    "#Set distance\n",
    "distance = eval(input('Enter the distance in KM: '))\n",
    "\n",
    "# Set free distance (assuming only males get charged after some free distance)\n",
    "free_distance = 25  # You can adjust this as needed\n",
    "\n",
    "try:\n",
    "    if distance > 25:\n",
    "        # Input the total distance and per unit charge\n",
    "        charge = eval(input('Enter the charge per km: '))\n",
    "    \n",
    "        # Calculate chargeable distance\n",
    "        charge_distance = max(0, distance * charge)\n",
    "        print(f'\\nThe chargeable distance: {charge_distance}')\n",
    "    \n",
    "        # Calculate total charge\n",
    "        total_charge = charge_distance * charge\n",
    "        print(f'\\nTotal charge for {charge_distance} * {charge} = {total_charge}')\n",
    "\n",
    "    else:\n",
    "        print('Enjoy the free ride!')\n",
    "except Exception as e:\n",
    "    print(\"Invalid input.\")"
   ]
  },
  {
   "cell_type": "code",
   "execution_count": 73,
   "id": "9a83645c-9718-4754-8337-b5ab36706c92",
   "metadata": {},
   "outputs": [
    {
     "name": "stdin",
     "output_type": "stream",
     "text": [
      "Enter the distance in KM:  24.4\n"
     ]
    },
    {
     "name": "stdout",
     "output_type": "stream",
     "text": [
      "Enjoy the free ride!\n"
     ]
    }
   ],
   "source": [
    "#Set distance\n",
    "distance = eval(input('Enter the distance in KM: '))\n",
    "\n",
    "# Set free distance (assuming only males get charged after some free distance)\n",
    "free_distance = 25  # You can adjust this as needed\n",
    "\n",
    "try:\n",
    "    if distance > 25:\n",
    "        # Input the total distance and per unit charge\n",
    "        distance = eval(input('Enter the distance: '))\n",
    "        charge = eval(input('Enter the charge per km: '))\n",
    "    \n",
    "        # Calculate chargeable distance\n",
    "        charge_distance = distance-25\n",
    "        print(f'The chargeable distance: {charge_distance}')\n",
    "    \n",
    "        # Calculate total charge\n",
    "        total_charge = charge_distance * charge\n",
    "        print(f'Total charge for {charge_distance} * {charge} = {total_charge}')\n",
    "\n",
    "    else:\n",
    "        print('Enjoy the free ride!')\n",
    "except Exception as e:\n",
    "    print(\"Invalid input.\")"
   ]
  },
  {
   "cell_type": "code",
   "execution_count": 94,
   "id": "d2bf06c7-4d98-4fea-9a10-3dd5a8f1ff5c",
   "metadata": {},
   "outputs": [
    {
     "name": "stdout",
     "output_type": "stream",
     "text": [
      "Random number is : 53\n",
      "Random number is : 17\n",
      "number 1 = 53 is GREATER\n"
     ]
    }
   ],
   "source": [
    "import random\n",
    "\n",
    "try:\n",
    "    num_1=random.randint(1,100)\n",
    "    print(f\"Random number is : {num_1}\" )\n",
    "\n",
    "    num_2=random.randint(1,100)\n",
    "    print(f\"Random number is : {num_2}\" )\n",
    "\n",
    "    if num_1>num_2:\n",
    "        print(f\"number 1 = {num_1} is GREATER\")\n",
    "    else:\n",
    "        print(f\"number 2 = {num_2} is GREATER\")\n",
    "except Exception as e:\n",
    "    print(\"Invalid input. Please enter valid numbers.\")"
   ]
  },
  {
   "cell_type": "code",
   "execution_count": 91,
   "id": "d88eb772-e16b-487e-bbd2-da4f63ec0f73",
   "metadata": {},
   "outputs": [
    {
     "name": "stdin",
     "output_type": "stream",
     "text": [
      "Enter the course:  Data science\n",
      "Enter the institute:  Naresh It\n"
     ]
    },
    {
     "name": "stdout",
     "output_type": "stream",
     "text": [
      "We're GOOD\n"
     ]
    }
   ],
   "source": [
    "import random\n",
    "try:\n",
    "    course=input('Enter the course: ')\n",
    "    institute=input('Enter the institute: ')\n",
    "\n",
    "    if course==\"Data science\" and institute==\"Naresh It\":\n",
    "        print(f\"We're GOOD\")\n",
    "    else:\n",
    "        print(f\"NOT GOOD\")\n",
    "except Exception as e:\n",
    "    print(\"Invalid input. Please enter valid numbers.\")"
   ]
  },
  {
   "cell_type": "markdown",
   "id": "a42df926-bde9-40fb-b0aa-db14620428ee",
   "metadata": {},
   "source": [
    "<center><h1><b>*** THE END ***</b></h1></center>"
   ]
  }
 ],
 "metadata": {
  "kernelspec": {
   "display_name": "Python [conda env:base] *",
   "language": "python",
   "name": "conda-base-py"
  },
  "language_info": {
   "codemirror_mode": {
    "name": "ipython",
    "version": 3
   },
   "file_extension": ".py",
   "mimetype": "text/x-python",
   "name": "python",
   "nbconvert_exporter": "python",
   "pygments_lexer": "ipython3",
   "version": "3.12.7"
  }
 },
 "nbformat": 4,
 "nbformat_minor": 5
}
