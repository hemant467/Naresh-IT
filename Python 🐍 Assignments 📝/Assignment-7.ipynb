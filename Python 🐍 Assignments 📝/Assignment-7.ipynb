{
 "cells": [
  {
   "cell_type": "markdown",
   "id": "2d5b967c-bee3-4685-a4a7-7955d2c81f72",
   "metadata": {},
   "source": [
    "<center><h1><b>Assignmnet - 7 </b></h1></center>"
   ]
  },
  {
   "cell_type": "code",
   "execution_count": 29,
   "id": "74b61fc9-3809-48f9-afa5-0a1496a63a5b",
   "metadata": {},
   "outputs": [
    {
     "name": "stdin",
     "output_type": "stream",
     "text": [
      "Enter the length in cm:  5\n"
     ]
    },
    {
     "name": "stdout",
     "output_type": "stream",
     "text": [
      "\n",
      "The length of 5 cm is 1.968503937007874 inches\n",
      "The length of 5 cm is round-off to 2 inches\n"
     ]
    }
   ],
   "source": [
    "from math import ceil\n",
    "\n",
    "l = eval(input('Enter the length in cm: '))\n",
    "if l<0:\n",
    "    print(\"Entry is INVALID!!!\")\n",
    "else:\n",
    "    inch=l/2.54\n",
    "    print(f'\\nThe length of {l} cm is {inch} inches')\n",
    "    inch=ceil(inch)\n",
    "    print(f'The length of {l} cm is round-off to {inch} inches')"
   ]
  },
  {
   "cell_type": "code",
   "execution_count": 55,
   "id": "6f86120f-8843-4aea-94fc-5d2a9ca0311f",
   "metadata": {},
   "outputs": [
    {
     "name": "stdin",
     "output_type": "stream",
     "text": [
      "Enter the temperature:  31.45\n",
      "\n",
      "Is the temperature in Celsius or Fahrenheit? (C/F):  f\n"
     ]
    },
    {
     "name": "stdout",
     "output_type": "stream",
     "text": [
      "31.45°F is -0.30555555555555597°C\n",
      "\n",
      "Rounded up: 31.45°F is 0°C\n"
     ]
    }
   ],
   "source": [
    "from math import ceil\n",
    "\n",
    "# Ask the user to enter a temperature\n",
    "temperature = eval(input(\"Enter the temperature: \"))\n",
    "\n",
    "# Ask the user to specify the units\n",
    "unit = input(\"\\nIs the temperature in Celsius or Fahrenheit? (C/F): \")\n",
    "\n",
    "# Convert the temperature\n",
    "if unit.upper() == \"C\":\n",
    "    # Convert Celsius to Fahrenheit\n",
    "    fahrenheit = (9 / 5) * temperature + 32\n",
    "    print(f\"{temperature}°C is {fahrenheit}°F\")\n",
    "    f = ceil(fahrenheit)\n",
    "    print(f\"\\nRounded up: {temperature}°C is {f}°F\")\n",
    "elif unit.upper() == \"F\":\n",
    "    # Convert Fahrenheit to Celsius\n",
    "    celsius = (5 / 9) * (temperature - 32)\n",
    "    print(f\"{temperature}°F is {celsius}°C\")\n",
    "    c = ceil(celsius)\n",
    "    print(f\"\\nRounded up: {temperature}°F is {c}°C\")\n",
    "else:\n",
    "    print(\"\\nInvalid unit. Please enter 'C' for Celsius or 'F' for Fahrenheit.\")"
   ]
  },
  {
   "cell_type": "code",
   "execution_count": 93,
   "id": "e9543f76-edd9-4c6d-9c2e-1e5050bb866c",
   "metadata": {},
   "outputs": [
    {
     "name": "stdin",
     "output_type": "stream",
     "text": [
      "Enter the temperature in °C:  -273.2\n"
     ]
    },
    {
     "name": "stdout",
     "output_type": "stream",
     "text": [
      "-273.2°C is INVALD because it's below/equal to 0 °C\n"
     ]
    }
   ],
   "source": [
    "from math import ceil\n",
    "\n",
    "# Ask the user to enter a temperature\n",
    "temperature = eval(input(\"Enter the temperature in °C: \"))\n",
    "\n",
    "# Temperature\n",
    "if temperature <-273.15:\n",
    "    print(f\"{temperature}°C is INVALD because it's below/equal to 0 °C\")\n",
    "else:\n",
    "    if temperature == -273.15:\n",
    "        print(f\"{temperature}°C is absolutely equal to 0 °C\")\n",
    "    else:\n",
    "        if -273.15<temperature<0:\n",
    "            print(f\"{temperature}°C is below freezing\")\n",
    "        else:\n",
    "            if temperature==0:\n",
    "                print(f\"{temperature}°C is at the freezing point\")\n",
    "            else:\n",
    "                if 0<temperature<100:\n",
    "                    print(f\"{temperature}°C is NORMAL\")\n",
    "                else:\n",
    "                    if temperature>=100:\n",
    "                        print(f\"{temperature}°C is at the boiling point\")\n",
    "                    else:\n",
    "                        print(\"\\nInvalid unit\")"
   ]
  },
  {
   "cell_type": "code",
   "execution_count": 95,
   "id": "9b009687-5d91-4d37-bb9a-4d25ede8e426",
   "metadata": {},
   "outputs": [
    {
     "name": "stdin",
     "output_type": "stream",
     "text": [
      "Enter the temperature in °C:  -273.15\n"
     ]
    },
    {
     "name": "stdout",
     "output_type": "stream",
     "text": [
      "-273.15°C is absolutely equal to 0 °C\n"
     ]
    }
   ],
   "source": [
    "from math import ceil\n",
    "\n",
    "# Ask the user to enter a temperature\n",
    "temperature = eval(input(\"Enter the temperature in °C: \"))\n",
    "\n",
    "# Temperature\n",
    "if temperature <-273.15:\n",
    "    print(f\"{temperature}°C is INVALD because it's below/equal to 0 °C\")\n",
    "else:\n",
    "    if temperature == -273.15:\n",
    "        print(f\"{temperature}°C is absolutely equal to 0 °C\")\n",
    "    else:\n",
    "        if -273.15<temperature<0:\n",
    "            print(f\"{temperature}°C is below freezing\")\n",
    "        else:\n",
    "            if temperature==0:\n",
    "                print(f\"{temperature}°C is at the freezing point\")\n",
    "            else:\n",
    "                if 0<temperature<100:\n",
    "                    print(f\"{temperature}°C is NORMAL\")\n",
    "                else:\n",
    "                    if temperature>=100:\n",
    "                        print(f\"{temperature}°C is at the boiling point\")\n",
    "                    else:\n",
    "                        print(\"\\nInvalid unit\")"
   ]
  },
  {
   "cell_type": "code",
   "execution_count": 97,
   "id": "7f5ce7ef-49d4-42a2-b1fb-c61bcaf96fab",
   "metadata": {},
   "outputs": [
    {
     "name": "stdin",
     "output_type": "stream",
     "text": [
      "Enter the temperature in °C:  -100\n"
     ]
    },
    {
     "name": "stdout",
     "output_type": "stream",
     "text": [
      "-100°C is below freezing\n"
     ]
    }
   ],
   "source": [
    "from math import ceil\n",
    "\n",
    "# Ask the user to enter a temperature\n",
    "temperature = eval(input(\"Enter the temperature in °C: \"))\n",
    "\n",
    "# Temperature\n",
    "if temperature <-273.15:\n",
    "    print(f\"{temperature}°C is INVALD because it's below/equal to 0 °C\")\n",
    "else:\n",
    "    if temperature == -273.15:\n",
    "        print(f\"{temperature}°C is absolutely equal to 0 °C\")\n",
    "    else:\n",
    "        if -273.15<temperature<0:\n",
    "            print(f\"{temperature}°C is below freezing\")\n",
    "        else:\n",
    "            if temperature==0:\n",
    "                print(f\"{temperature}°C is at the freezing point\")\n",
    "            else:\n",
    "                if 0<temperature<100:\n",
    "                    print(f\"{temperature}°C is NORMAL\")\n",
    "                else:\n",
    "                    if temperature>=100:\n",
    "                        print(f\"{temperature}°C is at the boiling point\")\n",
    "                    else:\n",
    "                        print(\"\\nInvalid unit\")"
   ]
  },
  {
   "cell_type": "code",
   "execution_count": 99,
   "id": "36584c04-98b4-45f8-9d56-489f17d7264d",
   "metadata": {},
   "outputs": [
    {
     "name": "stdin",
     "output_type": "stream",
     "text": [
      "Enter the temperature in °C:  0\n"
     ]
    },
    {
     "name": "stdout",
     "output_type": "stream",
     "text": [
      "0°C is at the freezing point\n"
     ]
    }
   ],
   "source": [
    "from math import ceil\n",
    "\n",
    "# Ask the user to enter a temperature\n",
    "temperature = eval(input(\"Enter the temperature in °C: \"))\n",
    "\n",
    "# Temperature\n",
    "if temperature <-273.15:\n",
    "    print(f\"{temperature}°C is INVALD because it's below/equal to 0 °C\")\n",
    "else:\n",
    "    if temperature == -273.15:\n",
    "        print(f\"{temperature}°C is absolutely equal to 0 °C\")\n",
    "    else:\n",
    "        if -273.15<temperature<0:\n",
    "            print(f\"{temperature}°C is below freezing\")\n",
    "        else:\n",
    "            if temperature==0:\n",
    "                print(f\"{temperature}°C is at the freezing point\")\n",
    "            else:\n",
    "                if 0<temperature<100:\n",
    "                    print(f\"{temperature}°C is NORMAL\")\n",
    "                else:\n",
    "                    if temperature>=100:\n",
    "                        print(f\"{temperature}°C is at the boiling point\")\n",
    "                    else:\n",
    "                        print(\"\\nInvalid unit\")"
   ]
  },
  {
   "cell_type": "code",
   "execution_count": 101,
   "id": "ed870d6e-ec8d-442c-ae1c-8919e1124316",
   "metadata": {},
   "outputs": [
    {
     "name": "stdin",
     "output_type": "stream",
     "text": [
      "Enter the temperature in °C:  67\n"
     ]
    },
    {
     "name": "stdout",
     "output_type": "stream",
     "text": [
      "67°C is NORMAL\n"
     ]
    }
   ],
   "source": [
    "from math import ceil\n",
    "\n",
    "# Ask the user to enter a temperature\n",
    "temperature = eval(input(\"Enter the temperature in °C: \"))\n",
    "\n",
    "# Temperature\n",
    "if temperature <-273.15:\n",
    "    print(f\"{temperature}°C is INVALD because it's below/equal to 0 °C\")\n",
    "else:\n",
    "    if temperature == -273.15:\n",
    "        print(f\"{temperature}°C is absolutely equal to 0 °C\")\n",
    "    else:\n",
    "        if -273.15<temperature<0:\n",
    "            print(f\"{temperature}°C is below freezing\")\n",
    "        else:\n",
    "            if temperature==0:\n",
    "                print(f\"{temperature}°C is at the freezing point\")\n",
    "            else:\n",
    "                if 0<temperature<100:\n",
    "                    print(f\"{temperature}°C is NORMAL\")\n",
    "                else:\n",
    "                    if temperature>=100:\n",
    "                        print(f\"{temperature}°C is at the boiling point\")\n",
    "                    else:\n",
    "                        print(\"\\nInvalid unit\")"
   ]
  },
  {
   "cell_type": "code",
   "execution_count": 103,
   "id": "c3004ccb-3952-4fb0-b8a8-f1295c87e95a",
   "metadata": {},
   "outputs": [
    {
     "name": "stdin",
     "output_type": "stream",
     "text": [
      "Enter the temperature in °C:  100\n"
     ]
    },
    {
     "name": "stdout",
     "output_type": "stream",
     "text": [
      "100°C is at the boiling point\n"
     ]
    }
   ],
   "source": [
    "from math import ceil\n",
    "\n",
    "# Ask the user to enter a temperature\n",
    "temperature = eval(input(\"Enter the temperature in °C: \"))\n",
    "\n",
    "# Temperature\n",
    "if temperature <-273.15:\n",
    "    print(f\"{temperature}°C is INVALD because it's below/equal to 0 °C\")\n",
    "else:\n",
    "    if temperature == -273.15:\n",
    "        print(f\"{temperature}°C is absolutely equal to 0 °C\")\n",
    "    else:\n",
    "        if -273.15<temperature<0:\n",
    "            print(f\"{temperature}°C is below freezing\")\n",
    "        else:\n",
    "            if temperature==0:\n",
    "                print(f\"{temperature}°C is at the freezing point\")\n",
    "            else:\n",
    "                if 0<temperature<100:\n",
    "                    print(f\"{temperature}°C is NORMAL\")\n",
    "                else:\n",
    "                    if temperature>=100:\n",
    "                        print(f\"{temperature}°C is at the boiling point\")\n",
    "                    else:\n",
    "                        print(\"\\nInvalid unit\")"
   ]
  },
  {
   "cell_type": "code",
   "execution_count": 107,
   "id": "ee0d6ccf-a2ae-4347-80f2-9500062c582a",
   "metadata": {},
   "outputs": [
    {
     "name": "stdin",
     "output_type": "stream",
     "text": [
      "Enter the temperature in °C:  100\n"
     ]
    },
    {
     "name": "stdout",
     "output_type": "stream",
     "text": [
      "100°C is at the boiling point\n"
     ]
    }
   ],
   "source": [
    "from math import ceil\n",
    "\n",
    "# Ask the user to enter a temperature\n",
    "temperature = eval(input(\"Enter the temperature in °C: \"))\n",
    "\n",
    "# Temperature\n",
    "if temperature <-273.15:\n",
    "    print(f\"{temperature}°C is INVALD because it's below/equal to 0 °C\")\n",
    "else:\n",
    "    if temperature == -273.15:\n",
    "        print(f\"{temperature}°C is absolutely equal to 0 °C\")\n",
    "    else:\n",
    "        if -273.15<temperature<0:\n",
    "            print(f\"{temperature}°C is below freezing\")\n",
    "        else:\n",
    "            if temperature==0:\n",
    "                print(f\"{temperature}°C is at the freezing point\")\n",
    "            else:\n",
    "                if 0<temperature<100:\n",
    "                    print(f\"{temperature}°C is NORMAL\")\n",
    "                else:\n",
    "                    if temperature==100:\n",
    "                        print(f\"{temperature}°C is at the boiling point\")\n",
    "                    else:\n",
    "                        if temperature>100:\n",
    "                            print(f\"{temperature}°C is above the boiling point\")\n",
    "                        else:\n",
    "                            print(\"\\nInvalid unit\")"
   ]
  },
  {
   "cell_type": "code",
   "execution_count": 109,
   "id": "7913db29-7042-4f33-ba11-0b41c0a7d88b",
   "metadata": {},
   "outputs": [
    {
     "name": "stdin",
     "output_type": "stream",
     "text": [
      "Enter the temperature in °C:  100.1\n"
     ]
    },
    {
     "name": "stdout",
     "output_type": "stream",
     "text": [
      "100.1°C is above the boiling point\n"
     ]
    }
   ],
   "source": [
    "from math import ceil\n",
    "\n",
    "# Ask the user to enter a temperature\n",
    "temperature = eval(input(\"Enter the temperature in °C: \"))\n",
    "\n",
    "# Temperature\n",
    "if temperature <-273.15:\n",
    "    print(f\"{temperature}°C is INVALD because it's below/equal to 0 °C\")\n",
    "else:\n",
    "    if temperature == -273.15:\n",
    "        print(f\"{temperature}°C is absolutely equal to 0 °C\")\n",
    "    else:\n",
    "        if -273.15<temperature<0:\n",
    "            print(f\"{temperature}°C is below freezing\")\n",
    "        else:\n",
    "            if temperature==0:\n",
    "                print(f\"{temperature}°C is at the freezing point\")\n",
    "            else:\n",
    "                if 0<temperature<100:\n",
    "                    print(f\"{temperature}°C is NORMAL\")\n",
    "                else:\n",
    "                    if temperature==100:\n",
    "                        print(f\"{temperature}°C is at the boiling point\")\n",
    "                    else:\n",
    "                        if temperature>100:\n",
    "                            print(f\"{temperature}°C is above the boiling point\")\n",
    "                        else:\n",
    "                            print(\"\\nInvalid unit\")"
   ]
  },
  {
   "cell_type": "code",
   "execution_count": 133,
   "id": "10d2e379-235c-41c9-8527-5a75dd0e0e01",
   "metadata": {},
   "outputs": [
    {
     "name": "stdin",
     "output_type": "stream",
     "text": [
      "Enter the credits:  23\n"
     ]
    },
    {
     "name": "stdout",
     "output_type": "stream",
     "text": [
      "Student is a FRESHMAN\n"
     ]
    }
   ],
   "source": [
    "# Ask the user to enter the credits\n",
    "credits = eval(input(\"Enter the credits: \"))\n",
    "\n",
    "# Determine student classification\n",
    "if credits <= 23:\n",
    "    print(f\"Student is a FRESHMAN\")\n",
    "else:\n",
    "    if 24 <= credits <= 53:\n",
    "        print(f\"Student is a SOPHOMORE\")\n",
    "    else:\n",
    "        if 54 <= credits <= 83:\n",
    "            print(f\"Student is a JUNIOR\")\n",
    "        else:\n",
    "            if credits >= 84:\n",
    "                print(f\"Student is a SENIOR\")\n",
    "            else:\n",
    "                print(f\"Invalid credits\")"
   ]
  },
  {
   "cell_type": "code",
   "execution_count": 135,
   "id": "205ae193-4cbb-44c3-8a76-23367ab7a79f",
   "metadata": {},
   "outputs": [
    {
     "name": "stdin",
     "output_type": "stream",
     "text": [
      "Enter the credits:  23.5\n"
     ]
    },
    {
     "name": "stdout",
     "output_type": "stream",
     "text": [
      "Invalid credits\n"
     ]
    }
   ],
   "source": [
    "# Ask the user to enter the credits\n",
    "credits = eval(input(\"Enter the credits: \"))\n",
    "\n",
    "# Determine student classification\n",
    "if credits <= 23:\n",
    "    print(f\"Student is a FRESHMAN\")\n",
    "else:\n",
    "    if 24 <= credits <= 53:\n",
    "        print(f\"Student is a SOPHOMORE\")\n",
    "    else:\n",
    "        if 54 <= credits <= 83:\n",
    "            print(f\"Student is a JUNIOR\")\n",
    "        else:\n",
    "            if credits >= 84:\n",
    "                print(f\"Student is a SENIOR\")\n",
    "            else:\n",
    "                print(f\"Invalid credits\")"
   ]
  },
  {
   "cell_type": "code",
   "execution_count": 137,
   "id": "b112eab5-2f72-4c6c-912c-fa4a948be409",
   "metadata": {},
   "outputs": [
    {
     "name": "stdin",
     "output_type": "stream",
     "text": [
      "Enter the credits:  38.5\n"
     ]
    },
    {
     "name": "stdout",
     "output_type": "stream",
     "text": [
      "Student is a SOPHOMORE\n"
     ]
    }
   ],
   "source": [
    "# Ask the user to enter the credits\n",
    "credits = eval(input(\"Enter the credits: \"))\n",
    "\n",
    "# Determine student classification\n",
    "if credits <= 23:\n",
    "    print(f\"Student is a FRESHMAN\")\n",
    "else:\n",
    "    if 24 <= credits <= 53:\n",
    "        print(f\"Student is a SOPHOMORE\")\n",
    "    else:\n",
    "        if 54 <= credits <= 83:\n",
    "            print(f\"Student is a JUNIOR\")\n",
    "        else:\n",
    "            if credits >= 84:\n",
    "                print(f\"Student is a SENIOR\")\n",
    "            else:\n",
    "                print(f\"Invalid credits\")"
   ]
  },
  {
   "cell_type": "code",
   "execution_count": 139,
   "id": "e45b43b9-42dd-4891-b5ac-7d856788b158",
   "metadata": {},
   "outputs": [
    {
     "name": "stdin",
     "output_type": "stream",
     "text": [
      "Enter the credits:  68.5\n"
     ]
    },
    {
     "name": "stdout",
     "output_type": "stream",
     "text": [
      "Student is a JUNIOR\n"
     ]
    }
   ],
   "source": [
    "# Ask the user to enter the credits\n",
    "credits = eval(input(\"Enter the credits: \"))\n",
    "\n",
    "# Determine student classification\n",
    "if credits <= 23:\n",
    "    print(f\"Student is a FRESHMAN\")\n",
    "else:\n",
    "    if 24 <= credits <= 53:\n",
    "        print(f\"Student is a SOPHOMORE\")\n",
    "    else:\n",
    "        if 54 <= credits <= 83:\n",
    "            print(f\"Student is a JUNIOR\")\n",
    "        else:\n",
    "            if credits >= 84:\n",
    "                print(f\"Student is a SENIOR\")\n",
    "            else:\n",
    "                print(f\"Invalid credits\")"
   ]
  },
  {
   "cell_type": "code",
   "execution_count": 141,
   "id": "3ac9bf96-cb10-43a1-8bd9-01171160f4d4",
   "metadata": {},
   "outputs": [
    {
     "name": "stdin",
     "output_type": "stream",
     "text": [
      "Enter the credits:  84.5\n"
     ]
    },
    {
     "name": "stdout",
     "output_type": "stream",
     "text": [
      "Student is a SENIOR\n"
     ]
    }
   ],
   "source": [
    "# Ask the user to enter the credits\n",
    "credits = eval(input(\"Enter the credits: \"))\n",
    "\n",
    "# Determine student classification\n",
    "if credits <= 23:\n",
    "    print(f\"Student is a FRESHMAN\")\n",
    "else:\n",
    "    if 24 <= credits <= 53:\n",
    "        print(f\"Student is a SOPHOMORE\")\n",
    "    else:\n",
    "        if 54 <= credits <= 83:\n",
    "            print(f\"Student is a JUNIOR\")\n",
    "        else:\n",
    "            if credits >= 84:\n",
    "                print(f\"Student is a SENIOR\")\n",
    "            else:\n",
    "                print(f\"Invalid credits\")"
   ]
  },
  {
   "cell_type": "code",
   "execution_count": 147,
   "id": "1ec25796-1aa2-4b2d-99aa-10e249bbc8d4",
   "metadata": {},
   "outputs": [
    {
     "name": "stdout",
     "output_type": "stream",
     "text": [
      "4\n",
      "\n"
     ]
    },
    {
     "name": "stdin",
     "output_type": "stream",
     "text": [
      "Guess the number:  5\n"
     ]
    },
    {
     "name": "stdout",
     "output_type": "stream",
     "text": [
      "n1: 4\n",
      "n2: 5\n",
      "4 you have LOST\n"
     ]
    }
   ],
   "source": [
    "from random import randint\n",
    "n1=randint(1,10)\n",
    "print(n1)\n",
    "print()\n",
    "n2=eval(input('Guess the number: '))\n",
    "print('n1:',n1)\n",
    "print('n2:',n2)\n",
    "if n1==n2:\n",
    "    print(f\"{n1} you have WON\")\n",
    "else:\n",
    "    print(f\"{n1} you have LOST\")"
   ]
  },
  {
   "cell_type": "code",
   "execution_count": 151,
   "id": "8b4c648a-4cd4-42f0-bdaa-5a2d0aafc95c",
   "metadata": {},
   "outputs": [
    {
     "name": "stdout",
     "output_type": "stream",
     "text": [
      "8\n",
      "\n"
     ]
    },
    {
     "name": "stdin",
     "output_type": "stream",
     "text": [
      "Guess the number:  8\n"
     ]
    },
    {
     "name": "stdout",
     "output_type": "stream",
     "text": [
      "n1: 8\n",
      "n2: 8\n",
      "8 you have WON\n"
     ]
    }
   ],
   "source": [
    "from random import randint\n",
    "n1=randint(1,10)\n",
    "print(n1)\n",
    "print()\n",
    "n2=eval(input('Guess the number: '))\n",
    "print('n1:',n1)\n",
    "print('n2:',n2)\n",
    "if n1==n2:\n",
    "    print(f\"{n1} you have WON\")\n",
    "else:\n",
    "    print(f\"{n1} you have LOST\")"
   ]
  },
  {
   "cell_type": "code",
   "execution_count": 155,
   "id": "b1e3a699-27dc-41d3-a53a-ae3b9f7891ee",
   "metadata": {},
   "outputs": [
    {
     "name": "stdin",
     "output_type": "stream",
     "text": [
      "Enter the number of items you are buying:  9\n"
     ]
    },
    {
     "name": "stdout",
     "output_type": "stream",
     "text": [
      "Total cost for 9 item(s): $108\n"
     ]
    }
   ],
   "source": [
    "# Ask the user how many items they are buying\n",
    "items = eval(input(\"Enter the number of items you are buying: \"))\n",
    "\n",
    "# Calculate total cost based on the number of items\n",
    "if items < 10:\n",
    "    cost_per_item = 12\n",
    "else:\n",
    "    if items < 100:\n",
    "        cost_per_item = 10\n",
    "    else:\n",
    "        cost_per_item = 7\n",
    "\n",
    "# Calculate and print the total cost\n",
    "total_cost = items * cost_per_item\n",
    "print(f\"Total cost for {items} item(s): ${total_cost}\")"
   ]
  },
  {
   "cell_type": "code",
   "execution_count": 157,
   "id": "2281fc81-3745-4905-9da5-625736d44d30",
   "metadata": {},
   "outputs": [
    {
     "name": "stdin",
     "output_type": "stream",
     "text": [
      "Enter the number of items you are buying:  99\n"
     ]
    },
    {
     "name": "stdout",
     "output_type": "stream",
     "text": [
      "Total cost for 99 item(s): $990\n"
     ]
    }
   ],
   "source": [
    "# Ask the user how many items they are buying\n",
    "items = eval(input(\"Enter the number of items you are buying: \"))\n",
    "\n",
    "# Calculate total cost based on the number of items\n",
    "if items < 10:\n",
    "    cost_per_item = 12\n",
    "else:\n",
    "    if items < 100:\n",
    "        cost_per_item = 10\n",
    "    else:\n",
    "        cost_per_item = 7\n",
    "\n",
    "# Calculate and print the total cost\n",
    "total_cost = items * cost_per_item\n",
    "print(f\"Total cost for {items} item(s): ${total_cost}\")"
   ]
  },
  {
   "cell_type": "code",
   "execution_count": 159,
   "id": "1502953b-d559-4f3c-a5fd-d7e559cec7d2",
   "metadata": {},
   "outputs": [
    {
     "name": "stdin",
     "output_type": "stream",
     "text": [
      "Enter the number of items you are buying:  110\n"
     ]
    },
    {
     "name": "stdout",
     "output_type": "stream",
     "text": [
      "Total cost for 110 item(s): $770\n"
     ]
    }
   ],
   "source": [
    "# Ask the user how many items they are buying\n",
    "items = eval(input(\"Enter the number of items you are buying: \"))\n",
    "\n",
    "# Calculate total cost based on the number of items\n",
    "if items < 10:\n",
    "    cost_per_item = 12\n",
    "else:\n",
    "    if items < 100:\n",
    "        cost_per_item = 10\n",
    "    else:\n",
    "        cost_per_item = 7\n",
    "\n",
    "# Calculate and print the total cost\n",
    "total_cost = items * cost_per_item\n",
    "print(f\"Total cost for {items} item(s): ${total_cost}\")"
   ]
  },
  {
   "cell_type": "code",
   "execution_count": 181,
   "id": "f43cd7bc-b195-4324-b837-e419debfd591",
   "metadata": {},
   "outputs": [
    {
     "name": "stdin",
     "output_type": "stream",
     "text": [
      "Enter the first number:  .001\n",
      "Enter the second number:  .01\n"
     ]
    },
    {
     "name": "stdout",
     "output_type": "stream",
     "text": [
      "Not close\n"
     ]
    }
   ],
   "source": [
    "# Ask the user for two numbers\n",
    "num1 = eval(input(\"Enter the first number: \"))\n",
    "num2 = eval(input(\"Enter the second number: \"))\n",
    "\n",
    "# Check if the numbers are within 0.001 of each other (without using abs)\n",
    "if (num1 - num2 <= 0.001 and num1 - num2 >= -0.001):\n",
    "    print(\"Close\")\n",
    "else:\n",
    "    print(\"Not close\")"
   ]
  },
  {
   "cell_type": "code",
   "execution_count": 183,
   "id": "55cf2f24-9863-4ecd-aaa1-385d541f97e1",
   "metadata": {},
   "outputs": [
    {
     "name": "stdin",
     "output_type": "stream",
     "text": [
      "Enter a year:  2025\n"
     ]
    },
    {
     "name": "stdout",
     "output_type": "stream",
     "text": [
      "2025 is not a leap year.\n"
     ]
    }
   ],
   "source": [
    "# Ask the user to enter a year\n",
    "year = eval(input(\"Enter a year: \"))\n",
    "\n",
    "# Check if it's a leap year\n",
    "if year % 4 == 0:\n",
    "    if year % 100 != 0:\n",
    "        print(f\"{year} is a leap year.\")\n",
    "    else:\n",
    "        if year % 400 == 0:\n",
    "            print(f\"{year} is a leap year.\")\n",
    "        else:\n",
    "            print(f\"{year} is not a leap year.\")\n",
    "else:\n",
    "    print(f\"{year} is not a leap year.\")"
   ]
  },
  {
   "cell_type": "code",
   "execution_count": 185,
   "id": "79a2fb10-367f-4d2f-9e36-0b5b32325886",
   "metadata": {},
   "outputs": [
    {
     "name": "stdin",
     "output_type": "stream",
     "text": [
      "Enter hour (1-12):  8\n",
      "am (1) or pm (2)?  1\n",
      "How many hours ahead?  5\n"
     ]
    },
    {
     "name": "stdout",
     "output_type": "stream",
     "text": [
      "New hour: 1 pm\n"
     ]
    }
   ],
   "source": [
    "# Get user input\n",
    "hour = eval(input(\"Enter hour (1-12): \"))\n",
    "am_pm = eval(input(\"am (1) or pm (2)? \"))\n",
    "hours_ahead = eval(input(\"How many hours ahead? \"))\n",
    "\n",
    "# Convert input time to 24-hour format for easier calculation\n",
    "if am_pm == 1:  # am\n",
    "    current_hour_24 = hour % 12  # 12 am is 0 in 24-hour format\n",
    "else:  # pm\n",
    "    current_hour_24 = (hour % 12) + 12  # 12 pm is 12 in 24-hour format\n",
    "\n",
    "# Add hours ahead\n",
    "new_hour_24 = (current_hour_24 + hours_ahead) % 24\n",
    "\n",
    "# Convert back to 12-hour format\n",
    "if new_hour_24 == 0:\n",
    "    new_hour = 12\n",
    "    new_am_pm = \"am\"\n",
    "elif new_hour_24 < 12:\n",
    "    new_hour = new_hour_24\n",
    "    new_am_pm = \"am\"\n",
    "elif new_hour_24 == 12:\n",
    "    new_hour = 12\n",
    "    new_am_pm = \"pm\"\n",
    "else:\n",
    "    new_hour = new_hour_24 - 12\n",
    "    new_am_pm = \"pm\"\n",
    "\n",
    "# Print the result\n",
    "print(f\"New hour: {new_hour} {new_am_pm}\")"
   ]
  },
  {
   "cell_type": "markdown",
   "id": "5976fdba-25c9-4b29-9fc9-359a9c41b399",
   "metadata": {},
   "source": [
    "<center><h1><b>*** THE END ***</b></h1></center>"
   ]
  }
 ],
 "metadata": {
  "kernelspec": {
   "display_name": "Python [conda env:base] *",
   "language": "python",
   "name": "conda-base-py"
  },
  "language_info": {
   "codemirror_mode": {
    "name": "ipython",
    "version": 3
   },
   "file_extension": ".py",
   "mimetype": "text/x-python",
   "name": "python",
   "nbconvert_exporter": "python",
   "pygments_lexer": "ipython3",
   "version": "3.12.7"
  }
 },
 "nbformat": 4,
 "nbformat_minor": 5
}
