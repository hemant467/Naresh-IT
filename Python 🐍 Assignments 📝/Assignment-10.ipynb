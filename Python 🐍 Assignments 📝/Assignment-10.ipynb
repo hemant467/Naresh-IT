{
 "cells": [
  {
   "cell_type": "markdown",
   "id": "907c1c32-15ac-4488-a218-f5386e1e3872",
   "metadata": {},
   "source": [
    "<center><h1><b>Assignmnet - 10 </b></h1></center>"
   ]
  },
  {
   "cell_type": "code",
   "execution_count": 4,
   "id": "c1763c26-6a26-48d1-a5a6-e10312085519",
   "metadata": {},
   "outputs": [
    {
     "name": "stdout",
     "output_type": "stream",
     "text": [
      "The square of 0 is 0\n",
      "The square of 1 is 1\n",
      "The square of 2 is 4\n",
      "The square of 3 is 9\n",
      "The square of 4 is 16\n"
     ]
    }
   ],
   "source": [
    "i = 0\n",
    "while i < 5:\n",
    "    print(f'The square of {i} is {i*i}')\n",
    "    i += 1"
   ]
  },
  {
   "cell_type": "code",
   "execution_count": 10,
   "id": "9c71b6a8-02e8-4563-8ad4-71cf2339787e",
   "metadata": {},
   "outputs": [
    {
     "name": "stdin",
     "output_type": "stream",
     "text": [
      "Enter number 1:  4\n"
     ]
    },
    {
     "name": "stdout",
     "output_type": "stream",
     "text": [
      "The square of 4 is 16\n",
      "\n"
     ]
    },
    {
     "name": "stdin",
     "output_type": "stream",
     "text": [
      "Enter number 2:  5\n"
     ]
    },
    {
     "name": "stdout",
     "output_type": "stream",
     "text": [
      "The square of 5 is 25\n",
      "\n"
     ]
    },
    {
     "name": "stdin",
     "output_type": "stream",
     "text": [
      "Enter number 3:  6\n"
     ]
    },
    {
     "name": "stdout",
     "output_type": "stream",
     "text": [
      "The square of 6 is 36\n",
      "\n"
     ]
    },
    {
     "name": "stdin",
     "output_type": "stream",
     "text": [
      "Enter number 4:  7\n"
     ]
    },
    {
     "name": "stdout",
     "output_type": "stream",
     "text": [
      "The square of 7 is 49\n",
      "\n"
     ]
    }
   ],
   "source": [
    "count = 0\n",
    "while count < 4:\n",
    "    num = int(input(f'Enter number {count + 1}: '))\n",
    "    print(f'The square of {num} is {num * num}')\n",
    "    print()\n",
    "    count += 1"
   ]
  },
  {
   "cell_type": "code",
   "execution_count": 14,
   "id": "b6f94985-49b1-4bab-a5a1-a930f100c4c2",
   "metadata": {},
   "outputs": [
    {
     "name": "stdout",
     "output_type": "stream",
     "text": [
      "Random number 1: 39\n",
      "The square of 39 is 1521\n",
      "\n",
      "Random number 2: 4\n",
      "The square of 4 is 16\n",
      "\n",
      "Random number 3: 52\n",
      "The square of 52 is 2704\n",
      "\n",
      "Random number 4: 68\n",
      "The square of 68 is 4624\n",
      "\n"
     ]
    }
   ],
   "source": [
    "import random\n",
    "\n",
    "count = 0\n",
    "while count < 4:\n",
    "    num = random.randint(1,100)\n",
    "    print(f'Random number {count + 1}: {num}')\n",
    "    print(f'The square of {num} is {num * num}')\n",
    "    count += 1\n",
    "    print()"
   ]
  },
  {
   "cell_type": "code",
   "execution_count": 30,
   "id": "09b174db-f8ce-4941-8b6d-448a740a1c77",
   "metadata": {},
   "outputs": [
    {
     "name": "stdin",
     "output_type": "stream",
     "text": [
      "Enter the table num: 7\n"
     ]
    },
    {
     "name": "stdout",
     "output_type": "stream",
     "text": [
      "\n",
      "7 table is : \n",
      "\n",
      "7 x 1 = 7\n",
      "\n",
      "\n",
      "7 x 2 = 14\n",
      "\n",
      "\n",
      "7 x 3 = 21\n",
      "\n",
      "\n",
      "7 x 4 = 28\n",
      "\n",
      "\n",
      "7 x 5 = 35\n",
      "\n",
      "\n",
      "7 x 6 = 42\n",
      "\n",
      "\n",
      "7 x 7 = 49\n",
      "\n",
      "\n",
      "7 x 8 = 56\n",
      "\n",
      "\n",
      "7 x 9 = 63\n",
      "\n",
      "\n",
      "7 x 10 = 70\n",
      "\n"
     ]
    }
   ],
   "source": [
    "num=eval(input('Enter the table num:'))\n",
    "print()\n",
    "print(f\"{num} table is : \")\n",
    "i=1\n",
    "while i<11:\n",
    "    print()\n",
    "    print(f\"{num} x {i} = {num*i}\")\n",
    "    print()\n",
    "    i += 1"
   ]
  },
  {
   "cell_type": "code",
   "execution_count": 42,
   "id": "fcd819fa-2f81-40a1-9cc8-e66c9b9e983e",
   "metadata": {},
   "outputs": [
    {
     "name": "stdin",
     "output_type": "stream",
     "text": [
      "Enter the number :  75\n"
     ]
    },
    {
     "name": "stdout",
     "output_type": "stream",
     "text": [
      "\n",
      "The divisors are : \n",
      "1\n",
      "3\n",
      "5\n",
      "15\n",
      "25\n",
      "75\n",
      "\n",
      "Number of divisors of 75 is 6\n"
     ]
    }
   ],
   "source": [
    "num = eval(input('Enter the number : '))\n",
    "i = 1\n",
    "count = 0\n",
    "\n",
    "print()\n",
    "\n",
    "print(f'The divisors are : ')\n",
    "\n",
    "while i <= num:\n",
    "    if num % i == 0:\n",
    "        print(i)\n",
    "        count += 1\n",
    "    i += 1\n",
    "\n",
    "print()\n",
    "print(f'Number of divisors of {num} is {count}')"
   ]
  },
  {
   "cell_type": "code",
   "execution_count": 58,
   "id": "0c8da386-3a52-48e1-b3de-c11dcf2eb561",
   "metadata": {},
   "outputs": [
    {
     "name": "stdin",
     "output_type": "stream",
     "text": [
      "Enter the number :  75\n"
     ]
    },
    {
     "name": "stdout",
     "output_type": "stream",
     "text": [
      "\n",
      "The divisors are : \n",
      "1 3 5 15 25 75 \n",
      "\n",
      "Number of divisors of 75 is 6\n"
     ]
    }
   ],
   "source": [
    "num = eval(input('Enter the number : '))\n",
    "i = 1\n",
    "count = 0\n",
    "\n",
    "print()\n",
    "\n",
    "print(f'The divisors are : ')\n",
    "\n",
    "while i <= num:\n",
    "    if num % i == 0:\n",
    "        print(i,end=' ')\n",
    "        count += 1\n",
    "    i += 1\n",
    "\n",
    "print('\\n')\n",
    "print(f'Number of divisors of {num} is {count}')"
   ]
  },
  {
   "cell_type": "code",
   "execution_count": 68,
   "id": "d56492ad-1166-4bb2-a5db-27e92a01ed7c",
   "metadata": {},
   "outputs": [
    {
     "name": "stdout",
     "output_type": "stream",
     "text": [
      "The sum of first 10 natural numbers is : 55\n"
     ]
    }
   ],
   "source": [
    "i = 1\n",
    "sum = 0\n",
    "\n",
    "while i <= 10:\n",
    "    sum = sum + i\n",
    "    i += 1\n",
    "    \n",
    "print(f\"The sum of first 10 natural numbers is : {sum}\")"
   ]
  },
  {
   "cell_type": "code",
   "execution_count": 78,
   "id": "95b0d117-f57e-4663-a5a7-c13e9da081ec",
   "metadata": {},
   "outputs": [
    {
     "name": "stdout",
     "output_type": "stream",
     "text": [
      "Even numbers between 1 to 100 : \n",
      "\n",
      "2 4 6 8 10 12 14 16 18 20 22 24 26 28 30 32 34 36 38 40 42 44 46 48 50 52 54 56 58 60 62 64 66 68 70 72 74 76 78 80 82 84 86 88 90 92 94 96 98 100 "
     ]
    }
   ],
   "source": [
    "number = 2\n",
    "print(f\"Even numbers between 1 to 100 : \")\n",
    "print()\n",
    "\n",
    "while number <= 100:\n",
    "    print(number,end=' ')\n",
    "    number += 2"
   ]
  },
  {
   "cell_type": "code",
   "execution_count": 84,
   "id": "b8552300-d0ff-4837-9f64-038566fe290a",
   "metadata": {},
   "outputs": [
    {
     "name": "stdout",
     "output_type": "stream",
     "text": [
      "The square of 1 is 1\n",
      "\n",
      "The square of 2 is 4\n",
      "\n",
      "The square of 3 is 9\n",
      "\n",
      "The square of 4 is 16\n",
      "\n",
      "The square of 5 is 25\n",
      "\n",
      "The square of 6 is 36\n",
      "\n",
      "The square of 7 is 49\n",
      "\n",
      "The square of 8 is 64\n",
      "\n",
      "The square of 9 is 81\n",
      "\n",
      "The square of 10 is 100\n",
      "\n"
     ]
    }
   ],
   "source": [
    "num = 1\n",
    "\n",
    "while num <= 10:\n",
    "    print(f'The square of {num} is {num*num}')\n",
    "    print()\n",
    "    num += 1"
   ]
  },
  {
   "cell_type": "code",
   "execution_count": 86,
   "id": "29106f32-b14d-44b6-96ba-afb4c45d3ff8",
   "metadata": {},
   "outputs": [
    {
     "name": "stdout",
     "output_type": "stream",
     "text": [
      "The square of 1 is 1\n",
      "\n",
      "The square of 2 is 4\n",
      "\n",
      "The square of 3 is 9\n",
      "\n",
      "The square of 4 is 16\n",
      "\n",
      "The square of 5 is 25\n",
      "\n",
      "The square of 6 is 36\n",
      "\n",
      "The square of 7 is 49\n",
      "\n",
      "The square of 8 is 64\n",
      "\n",
      "The square of 9 is 81\n",
      "\n",
      "The square of 10 is 100\n",
      "\n",
      "The sum of the squares from 1 to 10 is 385\n"
     ]
    }
   ],
   "source": [
    "num = 1\n",
    "sum_of_squares = 0 \n",
    "\n",
    "while num <= 10:\n",
    "    square = num * num  # Calculate the square of the current number\n",
    "    print(f'The square of {num} is {square}')\n",
    "    sum_of_squares += square  # Add the square to the sum\n",
    "    print()  \n",
    "    num += 1  # Increment the number\n",
    "\n",
    "# Print the total sum after the loop\n",
    "print(f'The sum of the squares from 1 to 10 is {sum_of_squares}')"
   ]
  },
  {
   "cell_type": "code",
   "execution_count": 90,
   "id": "4773a6ad-b993-4e95-bfd1-6a5a85448758",
   "metadata": {},
   "outputs": [
    {
     "name": "stdin",
     "output_type": "stream",
     "text": [
      "Enter a 4-digit number:  123478\n"
     ]
    },
    {
     "name": "stdout",
     "output_type": "stream",
     "text": [
      "Please enter a valid 4-digit number.\n"
     ]
    }
   ],
   "source": [
    "num = eval(input('Enter a 4-digit number: '))\n",
    "\n",
    "# Ensure the number is a 4-digit number\n",
    "if 1000 <= num <= 9999:\n",
    "    total = 0\n",
    "    while num > 0:\n",
    "        total += num % 10  # Add the last digit to the total\n",
    "        num //= 10  # Remove the last digit\n",
    "    print(f'The sum of the digits is {total}')\n",
    "else:\n",
    "    print('Please enter a valid 4-digit number.')"
   ]
  },
  {
   "cell_type": "code",
   "execution_count": 92,
   "id": "4d603f25-216c-462b-bdd9-568e40178311",
   "metadata": {},
   "outputs": [
    {
     "name": "stdin",
     "output_type": "stream",
     "text": [
      "Enter a 4-digit number:  1234\n"
     ]
    },
    {
     "name": "stdout",
     "output_type": "stream",
     "text": [
      "The sum of the digits is 10\n"
     ]
    }
   ],
   "source": [
    "num = eval(input('Enter a 4-digit number: '))\n",
    "\n",
    "# Ensure the number is a 4-digit number\n",
    "if 1000 <= num <= 9999:\n",
    "    total = 0\n",
    "    while num > 0:\n",
    "        total += num % 10  # Add the last digit to the total\n",
    "        num //= 10  # Remove the last digit\n",
    "    print(f'The sum of the digits is {total}')\n",
    "else:\n",
    "    print('Please enter a valid 4-digit number.')"
   ]
  },
  {
   "cell_type": "code",
   "execution_count": 110,
   "id": "3ea51fbd-36c7-4d9a-a0ac-8d33ef82fe3c",
   "metadata": {},
   "outputs": [
    {
     "name": "stdin",
     "output_type": "stream",
     "text": [
      "Enter a 4-digit number:  1234\n"
     ]
    },
    {
     "name": "stdout",
     "output_type": "stream",
     "text": [
      "The individual digits are:\n",
      "4 3 2 1 \n",
      "The sum of the digits is 10\n"
     ]
    }
   ],
   "source": [
    "num = int(input('Enter a 4-digit number: '))\n",
    "\n",
    "# Ensure the number is a 4-digit number\n",
    "if 1000 <= num <= 9999:\n",
    "    total = 0\n",
    "    print(\"The individual digits are:\")\n",
    "    while num > 0:\n",
    "        digit = num % 10  # Get the last digit\n",
    "        print(digit,end=' ')  # Print the digit\n",
    "        total += digit  # Add the digit to the total\n",
    "        num //= 10  # Remove the last digit\n",
    "    print(f'\\nThe sum of the digits is {total}')\n",
    "else:\n",
    "    print('Please enter a valid 4-digit number.')"
   ]
  },
  {
   "cell_type": "code",
   "execution_count": 136,
   "id": "169b8395-8579-4597-a08d-ee5d414ec47d",
   "metadata": {},
   "outputs": [
    {
     "name": "stdout",
     "output_type": "stream",
     "text": [
      "Check if 5 random numbers are even or odd:\n",
      "7 is ODD\n",
      "50 is EVEN\n",
      "71 is ODD\n",
      "28 is EVEN\n",
      "73 is ODD\n",
      "\n",
      "Total even numbers sum: 78\n",
      "Total odd numbers sum: 151\n",
      "\n",
      "Total even numbers: 2\n",
      "Total odd numbers: 3\n"
     ]
    }
   ],
   "source": [
    "import random\n",
    "\n",
    "even_count = 0\n",
    "even_sum = 0\n",
    "odd_count = 0\n",
    "odd_sum = 0\n",
    "\n",
    "print(\"Check if 5 random numbers are even or odd:\")\n",
    "\n",
    "# Counter for how many numbers we've checked\n",
    "i = 0\n",
    "while i < 5:\n",
    "    num = random.randint(1, 100)  # Generate a random number between 1 and 100\n",
    "    if num % 2 == 0:\n",
    "        print(f\"{num} is EVEN\")\n",
    "        even_sum += num\n",
    "        even_count += 1\n",
    "    else:\n",
    "        print(f\"{num} is ODD\")\n",
    "        odd_sum += num  # Sum up odd numbers\n",
    "        odd_count += 1\n",
    "    i += 1  # Increment the counter\n",
    "\n",
    "# Print the total sum of odd numbers\n",
    "print(f\"\\nTotal even numbers sum: {even_sum}\")\n",
    "print(f\"Total odd numbers sum: {odd_sum}\")\n",
    "print(f\"\\nTotal even numbers: {even_count}\")\n",
    "print(f\"Total odd numbers: {odd_count}\")"
   ]
  },
  {
   "cell_type": "code",
   "execution_count": 138,
   "id": "85ef1665-9872-4da9-9b99-b658850234df",
   "metadata": {},
   "outputs": [
    {
     "name": "stdin",
     "output_type": "stream",
     "text": [
      "How many chances you want:  3\n"
     ]
    },
    {
     "name": "stdout",
     "output_type": "stream",
     "text": [
      "10\n"
     ]
    },
    {
     "name": "stdin",
     "output_type": "stream",
     "text": [
      "Enter no:  4\n"
     ]
    },
    {
     "name": "stdout",
     "output_type": "stream",
     "text": [
      "LOST\n",
      "You left 2 chances\n",
      "3\n"
     ]
    },
    {
     "name": "stdin",
     "output_type": "stream",
     "text": [
      "Enter no:  6\n"
     ]
    },
    {
     "name": "stdout",
     "output_type": "stream",
     "text": [
      "LOST\n",
      "You left 1 chances\n",
      "5\n"
     ]
    },
    {
     "name": "stdin",
     "output_type": "stream",
     "text": [
      "Enter no:  8\n"
     ]
    },
    {
     "name": "stdout",
     "output_type": "stream",
     "text": [
      "LOST\n",
      "You left 0 chances\n",
      "You've run out of chances!\n"
     ]
    }
   ],
   "source": [
    "from random import randint\n",
    "\n",
    "chance = eval(input('How many chances you want: '))\n",
    "\n",
    "while chance > 0:\n",
    "    random_num = randint(1, 10)\n",
    "    print(random_num)\n",
    "    num = eval(input('Enter no: '))\n",
    "    \n",
    "    if random_num == num:\n",
    "        print('WON')\n",
    "        break\n",
    "    else:\n",
    "        chance -= 1\n",
    "        print('LOST')\n",
    "        print(f'You left {chance} chances')\n",
    "    \n",
    "    if chance == 0:\n",
    "        print(\"You've run out of chances!\")"
   ]
  },
  {
   "cell_type": "code",
   "execution_count": 140,
   "id": "9f6bad96-7023-4b7c-9589-8cec2338ff20",
   "metadata": {},
   "outputs": [
    {
     "name": "stdout",
     "output_type": "stream",
     "text": [
      "4\n"
     ]
    },
    {
     "name": "stdin",
     "output_type": "stream",
     "text": [
      "Enter no:  6\n"
     ]
    },
    {
     "name": "stdout",
     "output_type": "stream",
     "text": [
      "LOST\n",
      "You left 2 chances\n",
      "2\n"
     ]
    },
    {
     "name": "stdin",
     "output_type": "stream",
     "text": [
      "Enter no:  7\n"
     ]
    },
    {
     "name": "stdout",
     "output_type": "stream",
     "text": [
      "LOST\n",
      "You left 1 chances\n",
      "9\n"
     ]
    },
    {
     "name": "stdin",
     "output_type": "stream",
     "text": [
      "Enter no:  3\n"
     ]
    },
    {
     "name": "stdout",
     "output_type": "stream",
     "text": [
      "LOST\n",
      "You left 0 chances\n",
      "You've run out of chances!\n"
     ]
    }
   ],
   "source": [
    "from random import randint\n",
    "\n",
    "chance = 3\n",
    "\n",
    "while chance > 0:\n",
    "    random_num = randint(1, 10)\n",
    "    print(random_num)\n",
    "    num = eval(input('Enter no: '))\n",
    "    \n",
    "    if random_num == num:\n",
    "        print('WON')\n",
    "        break\n",
    "    else:\n",
    "        chance -= 1\n",
    "        print('LOST')\n",
    "        print(f'You left {chance} chances')\n",
    "    \n",
    "    if chance == 0:\n",
    "        print(\"You've run out of chances!\")"
   ]
  },
  {
   "cell_type": "code",
   "execution_count": 143,
   "id": "10b3c4e8-2ada-4402-8bd9-280df18414c9",
   "metadata": {},
   "outputs": [
    {
     "name": "stdout",
     "output_type": "stream",
     "text": [
      "6\n"
     ]
    },
    {
     "name": "stdin",
     "output_type": "stream",
     "text": [
      "Enter no:  4\n"
     ]
    },
    {
     "name": "stdout",
     "output_type": "stream",
     "text": [
      "LOST\n",
      "You left 2 chances\n",
      "8\n"
     ]
    },
    {
     "name": "stdin",
     "output_type": "stream",
     "text": [
      "Enter no:  5\n"
     ]
    },
    {
     "name": "stdout",
     "output_type": "stream",
     "text": [
      "LOST\n",
      "You left 1 chances\n",
      "7\n"
     ]
    },
    {
     "name": "stdin",
     "output_type": "stream",
     "text": [
      "Enter no:  7\n"
     ]
    },
    {
     "name": "stdout",
     "output_type": "stream",
     "text": [
      "WON\n"
     ]
    }
   ],
   "source": [
    "from random import randint\n",
    "\n",
    "chance = 3\n",
    "\n",
    "while chance > 0:\n",
    "    random_num = randint(1, 10)\n",
    "    print(random_num)\n",
    "    num = eval(input('Enter no: '))\n",
    "    \n",
    "    if random_num == num:\n",
    "        print('WON')\n",
    "        break\n",
    "    else:\n",
    "        chance -= 1\n",
    "        print('LOST')\n",
    "        print(f'You left {chance} chances')\n",
    "    \n",
    "    if chance == 0:\n",
    "        print(\"You've run out of chances!\")"
   ]
  },
  {
   "cell_type": "markdown",
   "id": "ec56e150-1588-4219-af82-511eaafef048",
   "metadata": {},
   "source": [
    "<center><h1><b>*** THE END ***</b></h1></center>"
   ]
  }
 ],
 "metadata": {
  "kernelspec": {
   "display_name": "Python [conda env:base] *",
   "language": "python",
   "name": "conda-base-py"
  },
  "language_info": {
   "codemirror_mode": {
    "name": "ipython",
    "version": 3
   },
   "file_extension": ".py",
   "mimetype": "text/x-python",
   "name": "python",
   "nbconvert_exporter": "python",
   "pygments_lexer": "ipython3",
   "version": "3.12.7"
  }
 },
 "nbformat": 4,
 "nbformat_minor": 5
}
