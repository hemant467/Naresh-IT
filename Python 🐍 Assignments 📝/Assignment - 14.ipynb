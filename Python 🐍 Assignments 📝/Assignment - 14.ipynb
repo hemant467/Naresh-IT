{
 "cells": [
  {
   "cell_type": "markdown",
   "id": "3d3293ff-4034-4758-85cf-c8859912b69c",
   "metadata": {},
   "source": [
    "<h1><center><b>Assignment - 14</b></center></h1>\n",
    "<h2><center><b>Analogy between List and Strings</b></center></h2>"
   ]
  },
  {
   "cell_type": "markdown",
   "id": "d23d3740-8244-41dd-bcd0-46c95c94938f",
   "metadata": {},
   "source": [
    "# Common Methods/Operations between Strings and Lists :"
   ]
  },
  {
   "cell_type": "markdown",
   "id": "192d45c2-dbad-4476-a3ea-4209b6e78f04",
   "metadata": {},
   "source": [
    "| Operation | In Strings | In Lists   | Notes                                                                          |\n",
    "| --------- | ---------- | --------   | ------------------------------------------------------------------------------ |\n",
    "| `count()` | ✅ Yes     | ✅ Yes    | Counts occurrences of a value                                                  |\n",
    "| `index()` | ✅ Yes     | ✅ Yes    | Returns first index of a value                                                 |\n",
    "| `find()`  | ✅ Yes     | ❌ No     | `str.find()` returns index or -1. Lists don’t have this. Use `index()` instead |\n",
    "| Slicing   | ✅ Yes     | ✅ Yes    | Works identically (`a[1:3]`)                                                   |\n",
    "| Iteration | ✅ Yes     | ✅ Yes    | Character-wise for strings, element-wise for lists                             |"
   ]
  },
  {
   "cell_type": "markdown",
   "id": "b3d9f5cf-df75-4b82-b783-c4fe72c77d01",
   "metadata": {},
   "source": [
    "# List-Specific Methods :"
   ]
  },
  {
   "cell_type": "markdown",
   "id": "51ad8ec8-5aac-4fe2-a71e-03484afca8e5",
   "metadata": {},
   "source": [
    "| Method     | Works On       | Notes                                                                        |\n",
    "| ---------- | -------------- | ---------------------------------------------------------------------------- |\n",
    "| `pop()`    | ✅ List, ✅ Dict | Removes last element in list (or by index); removes key in dict if key given |\n",
    "| `remove()` | ✅ List         | Removes first matching value                                                 |\n",
    "| `extend()` | ✅ List         | Similar to concatenation: `list1.extend(list2)` like `list1 += list2`        |"
   ]
  },
  {
   "cell_type": "markdown",
   "id": "b72e0efc-cc03-4f7a-8159-600dee2d3944",
   "metadata": {},
   "source": [
    "# Dictionary-Specific Methods :"
   ]
  },
  {
   "cell_type": "markdown",
   "id": "e33d6a1e-222a-4475-a32a-2df16326562a",
   "metadata": {},
   "source": [
    "| Operation            | Example                                        | Notes                                     |\n",
    "| -------------------- | ---------------------------------------------- | ----------------------------------------- |\n",
    "| Access value via key | `dict[key]` or `dict.get(key)`                 | `get()` is safe (returns None or default) |\n",
    "| `popitem()`          | Removes & returns last inserted key-value pair |                                           |\n",
    "| `pop(key)`           | Removes a key                                  | Similar to list’s pop but key-based       |"
   ]
  },
  {
   "cell_type": "markdown",
   "id": "47e1985b-1519-47e2-86b9-7fdab04bd902",
   "metadata": {},
   "source": [
    "# Common Built-in Functions :"
   ]
  },
  {
   "cell_type": "markdown",
   "id": "80687ac4-bbd7-4f71-8370-c892e8b72102",
   "metadata": {},
   "source": [
    "| Function     | Works On                 | Notes                                         |\n",
    "| ------------ | ------------------------ | --------------------------------------------- |\n",
    "| `del`        | ✅ List, ✅ Dict           | Removes element by index (list) or key (dict) |\n",
    "| `sorted()`   | ✅ String, ✅ List, ✅ Dict | Dict returns sorted keys                      |\n",
    "| `reversed()` | ✅ String, ✅ List, ✅ Dict | Dict gives reversed keys (as iterable)        |"
   ]
  },
  {
   "cell_type": "markdown",
   "id": "4122ddc6-fc48-4256-aedc-66c5e1388c9b",
   "metadata": {},
   "source": [
    "# Type Conversions :"
   ]
  },
  {
   "cell_type": "markdown",
   "id": "dea5e16b-feea-4efd-94c8-ebd805e641ed",
   "metadata": {},
   "source": [
    "| From → To             | Method                       | Example                                     |\n",
    "| --------------------- | ---------------------------- | ------------------------------------------- |\n",
    "| String → List         | `list(str)` or `str.split()` | `\"abc\"` → `['a','b','c']`                   |\n",
    "| List → String         | `''.join(list)`              | `['a','b']` → `\"ab\"`                        |\n",
    "| List of Tuples → Dict | `dict()`                     | `[('a', 1), ('b', 2)]` → `{'a': 1, 'b': 2}` |\n",
    "| Dict → List           | `list(dict)` → keys only     | Use `list(d.items())` for key-value pairs   |"
   ]
  },
  {
   "cell_type": "markdown",
   "id": "3a25022d-0bc9-42cd-997a-4eab107da382",
   "metadata": {},
   "source": [
    "# Python Data Types Comparison: Strings, Lists & Dictionaries :"
   ]
  },
  {
   "cell_type": "markdown",
   "id": "d706bf1f-bf26-43d5-818d-6baf4f88ab60",
   "metadata": {},
   "source": [
    "| **Operation**             | **String**      | **List**          | **Dictionary**                        |\n",
    "| ------------------------- | --------------- | ----------------- | ------------------------------------- |\n",
    "| **Mutable/Immutable**     | Immutable       | Mutable           | Mutable                               |\n",
    "| **Indexed by**            | Character index | Integer index     | Unique keys (any immutable type)      |\n",
    "| **Duplicates Allowed**    | No              | Yes               | No (keys must be unique)              |\n",
    "| **Empty Initialization**  | `\"\"`            | `[]`              | `{}`                                  |\n",
    "| **Access Elements**       | `s[i]`          | `lst[i]`          | `d[key]` or `d.get(key)`              |\n",
    "| **Length**                | `len(s)`        | `len(lst)`        | `len(d)`                              |\n",
    "| **Concatenation**         | `s1 + s2`       | `lst1 + lst2`     | Not directly supported                |\n",
    "| **Membership Test**       | `'a' in s`      | `3 in lst`        | `'key' in d`                          |\n",
    "| **Iteration**             | `for c in s`    | `for item in lst` | `for key in d`                        |\n",
    "| **Slicing**               | `s[start:end]`  | `lst[start:end]`  | Not supported                         |\n",
    "| **Count Occurrences**     | `s.count(x)`    | `lst.count(x)`    | `d.values().count(x)`                 |\n",
    "| **Find Index**            | `s.find(x)`     | `lst.index(x)`    | `list(d.keys()).index(x)`             |\n",
    "| **Add Element**           | Not applicable  | `lst.append(x)`   | `d[key] = value`                      |\n",
    "| **Remove Element**        | Not applicable  | `lst.remove(x)`   | `del d[key]` or `d.pop(key)`          |\n",
    "| **Pop Element**           | Not applicable  | `lst.pop(i)`      | `d.popitem()` or `d.pop(key)`         |\n",
    "| **Clear All Elements**    | Not applicable  | `lst.clear()`     | `d.clear()`                           |\n",
    "| **Sort Elements**         | Not applicable  | `lst.sort()`      | `sorted(d)` (returns sorted keys)     |\n",
    "| **Reverse Elements**      | Not applicable  | `lst.reverse()`   | `reversed(d)` (returns reversed keys) |\n",
    "| **Convert to List**       | `list(s)`       | N/A               | `list(d)` (keys)                      |\n",
    "| **Convert to String**     | N/A             | `''.join(lst)`    | N/A                                   |\n",
    "| **Convert to Dictionary** | N/A             | `dict(lst)`       | N/A                                   |\n",
    "| **Convert to Set**        | `set(s)`        | `set(lst)`        | `set(d)` (keys)                       |"
   ]
  },
  {
   "cell_type": "markdown",
   "id": "003e3283-0291-4706-824b-8fe98e169b7a",
   "metadata": {},
   "source": [
    "<h1><b><center>*** THE END ***</center></b></h1>"
   ]
  }
 ],
 "metadata": {
  "kernelspec": {
   "display_name": "Python [conda env:base] *",
   "language": "python",
   "name": "conda-base-py"
  },
  "language_info": {
   "codemirror_mode": {
    "name": "ipython",
    "version": 3
   },
   "file_extension": ".py",
   "mimetype": "text/x-python",
   "name": "python",
   "nbconvert_exporter": "python",
   "pygments_lexer": "ipython3",
   "version": "3.12.7"
  }
 },
 "nbformat": 4,
 "nbformat_minor": 5
}
