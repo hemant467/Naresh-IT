{
 "cells": [
  {
   "cell_type": "markdown",
   "id": "95cf0268-c966-44b4-952d-0d70282c5e8a",
   "metadata": {},
   "source": [
    "<center><h1><b>Assignment - 3 Python Basic Codes</b></h1></center>"
   ]
  },
  {
   "cell_type": "code",
   "execution_count": 16,
   "id": "19807ee4-7680-45a7-adda-e02c6b280933",
   "metadata": {},
   "outputs": [
    {
     "name": "stdin",
     "output_type": "stream",
     "text": [
      "Enter Ramesh's basic salary:  40000\n"
     ]
    },
    {
     "name": "stdout",
     "output_type": "stream",
     "text": [
      "Basic Salary: 40000.0\n",
      "\n",
      "Dearness Allowance (DA): 16000.0\n",
      "\n",
      "House Rent Allowance (HRA): 8000.0\n",
      "\n",
      "Ramesh's gross salary is: 64000.0\n",
      "Ramesh's gross salary is: 64000.0\n",
      "Ramesh's gross salary is: 64000.0\n"
     ]
    }
   ],
   "source": [
    "#Basic salary input\n",
    "basic_salary = float(input(\"Enter Ramesh's basic salary: \"))\n",
    "\n",
    "#Dearness allowance = 40% of basic salary\n",
    "dearness_allowance = 0.40 * basic_salary\n",
    "\n",
    "#House rent allowance = 20% of basic salary\n",
    "house_rent_allowance = 0.20 * basic_salary\n",
    "\n",
    "# Calculate gross salary\n",
    "gross_salary = basic_salary + dearness_allowance + house_rent_allowance\n",
    "\n",
    "# Output the gross salary\n",
    "print(f\"Basic Salary: {basic_salary}\\n\")\n",
    "print(f\"Dearness Allowance (DA): {dearness_allowance}\\n\")\n",
    "print(f\"House Rent Allowance (HRA): {house_rent_allowance}\\n\")\n",
    "print(\"Ramesh's gross salary is:\",gross_salary)\n",
    "print(\"Ramesh's gross salary is: {}\".format(gross_salary))\n",
    "print(f\"Ramesh's gross salary is: {gross_salary}\")"
   ]
  },
  {
   "cell_type": "code",
   "execution_count": 74,
   "id": "dda761af-253a-4ff2-bd45-fb52676b8d7e",
   "metadata": {},
   "outputs": [
    {
     "name": "stdin",
     "output_type": "stream",
     "text": [
      "Enter distance between 2 cities in KM :  1\n"
     ]
    },
    {
     "name": "stdout",
     "output_type": "stream",
     "text": [
      "Distance in kilometers is :  1 KM\n",
      "Distance in meters is : 1000 meters\n",
      "\n",
      "Distance in feet is : 3280.8399 feet\n",
      "\n",
      "Distance in inches is : 39370.0787 inches\n",
      "\n",
      "Distance in cm is :  100000 cm\n"
     ]
    }
   ],
   "source": [
    "km=eval(input('Enter distance between 2 cities in KM : '))\n",
    "\n",
    "# Convert to meters\n",
    "m = km * 1000\n",
    "\n",
    "# Convert to feet\n",
    "f = km * 3280.8399\n",
    "\n",
    "# Convert to inches\n",
    "inc = km * 39370.0787\n",
    "\n",
    "# Convert to centimeters\n",
    "cm = km * 100000\n",
    "\n",
    "print(\"Distance in kilometers is : \",km,\"KM\")\n",
    "print(f\"Distance in meters is : {m} meters\\n\")\n",
    "print(f\"Distance in feet is : {f} feet\\n\")\n",
    "print('Distance in inches is : {}'.format(inc),'inches\\n')\n",
    "print('Distance in cm is : ',cm,'cm')"
   ]
  },
  {
   "cell_type": "code",
   "execution_count": 82,
   "id": "a7f6033f-bd06-4db2-a152-2c6c18b39219",
   "metadata": {},
   "outputs": [
    {
     "name": "stdin",
     "output_type": "stream",
     "text": [
      "Enter the marks of subject 1 :  95\n",
      "Enter the marks of subject 2 :  85\n",
      "Enter the marks of subject 3 :  74\n",
      "Enter the marks of subject 4 :  67\n",
      "Enter the marks of subject 5 :  56.85\n"
     ]
    },
    {
     "name": "stdout",
     "output_type": "stream",
     "text": [
      "\n",
      "TOTAL marks : 377.85\n",
      "\n",
      "Percentage : 75.57 %\n"
     ]
    }
   ],
   "source": [
    "a=eval(input(\"Enter the marks of subject 1 : \"))\n",
    "b=eval(input(\"Enter the marks of subject 2 : \"))\n",
    "c=eval(input(\"Enter the marks of subject 3 : \"))\n",
    "d=eval(input(\"Enter the marks of subject 4 : \"))\n",
    "e=eval(input(\"Enter the marks of subject 5 : \"))\n",
    "\n",
    "total = a+b+c+d+e\n",
    "\n",
    "avg = total/5\n",
    "avg=round(avg,2)\n",
    "\n",
    "print(f\"\\nTOTAL marks : {total}\\n\")\n",
    "print(\"Percentage : {} %\".format(avg))"
   ]
  },
  {
   "cell_type": "code",
   "execution_count": 90,
   "id": "20af612d-ad96-4716-a8e5-cc6988865211",
   "metadata": {},
   "outputs": [
    {
     "name": "stdin",
     "output_type": "stream",
     "text": [
      "Enter the temperature in °F :  23.46\n"
     ]
    },
    {
     "name": "stdout",
     "output_type": "stream",
     "text": [
      "Temperature in °C is : -4.7444444444444445 °C\n",
      "\n",
      "Temperature in °C is : -4.7444444444444445 °C\n",
      "\n",
      "Temperature in °C is : -4.7444444444444445 °C\n",
      "\n"
     ]
    }
   ],
   "source": [
    "f=eval(input('Enter the temperature in °F : '))\n",
    "\n",
    "# Convert to °C\n",
    "c=(f-32)*(5/9)\n",
    "\n",
    "print(\"Temperature in °C is :\",c,\"°C\\n\")\n",
    "print(f\"Temperature in °C is : {c} °C\\n\")\n",
    "print('Temperature in °C is : {} °C\\n'.format(c))"
   ]
  },
  {
   "cell_type": "code",
   "execution_count": 98,
   "id": "39a2ebdc-949f-43b8-a779-00063b96c9af",
   "metadata": {},
   "outputs": [
    {
     "name": "stdin",
     "output_type": "stream",
     "text": [
      "Enter the length of a rectangle :  5.5\n",
      "Enter the breadth of a rectangle :  4.25\n",
      "Enter the radius of a circle :  3.2\n"
     ]
    },
    {
     "name": "stdout",
     "output_type": "stream",
     "text": [
      "\n",
      "Area of a rectangle : 23.375 sq.units\n",
      "Perimeter of a rectangle : 19.5 units\n",
      "\n",
      "Area of a circle : 32.17 sq.units\n",
      "Circumference of a circle : 20.11 units\n"
     ]
    }
   ],
   "source": [
    "l=eval(input('Enter the length of a rectangle : '))\n",
    "b=eval(input('Enter the breadth of a rectangle : '))\n",
    "r=eval(input('Enter the radius of a circle : '))\n",
    "\n",
    "a=l*b\n",
    "p=2*(l+b)\n",
    "\n",
    "pi= 3.1415926536\n",
    "\n",
    "#Calculate area and circumference\n",
    "ar=pi*r*r\n",
    "ar=round(ar,2)\n",
    "c=2*pi*r\n",
    "c=round(c,2)\n",
    "\n",
    "print(f'\\nArea of a rectangle : {a} sq.units')\n",
    "print(f'Perimeter of a rectangle : {p} units\\n')\n",
    "print(f'Area of a circle : {ar} sq.units')\n",
    "print(f'Circumference of a circle : {c} units')"
   ]
  },
  {
   "cell_type": "code",
   "execution_count": 122,
   "id": "eeb1ac79-9984-4b00-bde0-bebdb820a66e",
   "metadata": {},
   "outputs": [
    {
     "name": "stdin",
     "output_type": "stream",
     "text": [
      "Enter the first number C:  5.5\n",
      "Enter the second number D:  9.5\n"
     ]
    },
    {
     "name": "stdout",
     "output_type": "stream",
     "text": [
      "After swapping: C = 9.5, D = 5.5\n"
     ]
    }
   ],
   "source": [
    "C = eval(input(\"Enter the first number C: \"))\n",
    "D = eval(input(\"Enter the second number D: \"))\n",
    "\n",
    "# Interchange the values of X and Y\n",
    "C, D = D, C\n",
    "\n",
    "print(f\"After swapping: C = {C}, D = {D}\")"
   ]
  },
  {
   "cell_type": "code",
   "execution_count": 158,
   "id": "05711d92-7a36-4787-9694-c1bf967d4d43",
   "metadata": {},
   "outputs": [
    {
     "name": "stdin",
     "output_type": "stream",
     "text": [
      "Enter a number:  12345\n"
     ]
    },
    {
     "name": "stdout",
     "output_type": "stream",
     "text": [
      "The reversed number is: 54321\n"
     ]
    }
   ],
   "source": [
    "# Input the number\n",
    "num = eval(input(\"Enter a number: \"))\n",
    "\n",
    "# Reverse the number\n",
    "reversed_num = eval(str(num)[::-1])\n",
    "\n",
    "# Output the reversed number\n",
    "print(f\"The reversed number is: {reversed_num}\")"
   ]
  },
  {
   "cell_type": "code",
   "execution_count": 130,
   "id": "0af8d8fc-1e1f-4c73-a473-c6689b727e53",
   "metadata": {},
   "outputs": [
    {
     "name": "stdin",
     "output_type": "stream",
     "text": [
      "Enter a four-digit number:  4698\n"
     ]
    },
    {
     "name": "stdout",
     "output_type": "stream",
     "text": [
      "The sum of the first and last digit is: 12\n"
     ]
    }
   ],
   "source": [
    "# Input the four-digit number\n",
    "num = int(input(\"Enter a four-digit number: \"))\n",
    "\n",
    "# First digit\n",
    "first_digit = int(str(num)[0])\n",
    "\n",
    "# Last digit\n",
    "last_digit = num % 10\n",
    "\n",
    "# Sum of the first and last digit\n",
    "sum_digits = first_digit + last_digit\n",
    "\n",
    "# Output the result\n",
    "print(f\"The sum of the first and last digit is: {sum_digits}\")"
   ]
  },
  {
   "cell_type": "code",
   "execution_count": 146,
   "id": "695d095a-7039-49a8-980e-a461ba89a066",
   "metadata": {},
   "outputs": [
    {
     "name": "stdin",
     "output_type": "stream",
     "text": [
      "Enter TOTAL number of population:  80000\n",
      "Enter number of MEN :  52\n",
      "Enter number of WOMEN :  48\n"
     ]
    },
    {
     "name": "stdout",
     "output_type": "stream",
     "text": [
      "Total illiterate men: 13600.0\n",
      "Total illiterate women: 28000.0\n"
     ]
    }
   ],
   "source": [
    "# Given data\n",
    "popu = eval(input(\"Enter TOTAL number of population: \"))\n",
    "men = eval(input(\"Enter number of MEN : \"))\n",
    "women = eval(input(\"Enter number of WOMEN : \"))\n",
    "\n",
    "men_percentage = men / 100\n",
    "women_percentage = women / 100\n",
    "total_literacy_percentage = 48 / 100\n",
    "literate_men_percentage = 35 / 100\n",
    "\n",
    "# Calculate the total number of men and women\n",
    "total_men = population * men_percentage\n",
    "total_women = population * women_percentage\n",
    "\n",
    "# Calculate the total number of literate people\n",
    "total_literate_people = population * total_literacy_percentage\n",
    "\n",
    "# Calculate the number of literate men\n",
    "literate_men = population * literate_men_percentage\n",
    "\n",
    "# Calculate the number of literate women\n",
    "literate_women = total_literate_people - literate_men\n",
    "\n",
    "# Calculate the number of illiterate men and women\n",
    "illiterate_men = total_men - literate_men\n",
    "illiterate_women = total_women - literate_women\n",
    "\n",
    "# Output the results\n",
    "print(f\"Total illiterate men: {illiterate_men}\")\n",
    "print(f\"Total illiterate women: {illiterate_women}\")"
   ]
  },
  {
   "cell_type": "code",
   "execution_count": 162,
   "id": "229425d4-1d1d-401c-9820-f0211b4a3562",
   "metadata": {},
   "outputs": [
    {
     "name": "stdin",
     "output_type": "stream",
     "text": [
      "Enter the amount to be withdrawn (in hundreds):  970\n"
     ]
    },
    {
     "name": "stdout",
     "output_type": "stream",
     "text": [
      "Number of 100 denomination notes: 9\n",
      "Number of 50  denomination notes: 1\n",
      "Number of 10  denomination notes: 2\n"
     ]
    }
   ],
   "source": [
    "# Enter the amount to be withdrawn (in hundreds)\n",
    "amount = eval(input(\"Enter the amount to be withdrawn (in hundreds): \"))\n",
    "\n",
    "# Initialize the count for each denomination\n",
    "hundred_count = 0\n",
    "fifty_count = 0\n",
    "ten_count = 0\n",
    "\n",
    "# Calculate the number of 100 denomination notes\n",
    "hundred_count = amount // 100\n",
    "amount = amount % 100  # Update amount with the remainder\n",
    "\n",
    "# Calculate the number of 50 denomination notes\n",
    "fifty_count = amount // 50\n",
    "amount = amount % 50  # Update amount with the remainder\n",
    "\n",
    "# Calculate the number of 10 denomination notes\n",
    "ten_count = amount // 10\n",
    "amount = amount % 10  # Update amount with the remainder\n",
    "\n",
    "# Output the result\n",
    "print(f\"Number of 100 denomination notes: {hundred_count}\")\n",
    "print(f\"Number of 50  denomination notes: {fifty_count}\")\n",
    "print(f\"Number of 10  denomination notes: {ten_count}\")"
   ]
  }
 ],
 "metadata": {
  "kernelspec": {
   "display_name": "Python [conda env:base] *",
   "language": "python",
   "name": "conda-base-py"
  },
  "language_info": {
   "codemirror_mode": {
    "name": "ipython",
    "version": 3
   },
   "file_extension": ".py",
   "mimetype": "text/x-python",
   "name": "python",
   "nbconvert_exporter": "python",
   "pygments_lexer": "ipython3",
   "version": "3.12.7"
  }
 },
 "nbformat": 4,
 "nbformat_minor": 5
}
