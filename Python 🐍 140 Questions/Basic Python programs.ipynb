{
 "cells": [
  {
   "cell_type": "markdown",
   "id": "877a73c5-06c9-4a5d-bf6c-d09c332e6ad2",
   "metadata": {},
   "source": [
    "<h1><center>140+ Basic Python Programs</center></h1>"
   ]
  },
  {
   "cell_type": "markdown",
   "id": "69ca727c-4231-4c6d-ad93-7f8da7243a3b",
   "metadata": {},
   "source": [
    "# Program 1"
   ]
  },
  {
   "cell_type": "markdown",
   "id": "d9f76a52-dfdf-4673-809b-418f35a575f8",
   "metadata": {},
   "source": [
    "<b>Write a Python program to print \"Hello Python\".</b>"
   ]
  },
  {
   "cell_type": "code",
   "execution_count": 8,
   "id": "e2cc3cb2-93dc-4d05-ae9b-cf3221570fc9",
   "metadata": {},
   "outputs": [
    {
     "name": "stdout",
     "output_type": "stream",
     "text": [
      "Hello Python\n"
     ]
    }
   ],
   "source": [
    "print('Hello Python')"
   ]
  },
  {
   "cell_type": "markdown",
   "id": "5934f6af-f979-4555-a676-cef888be0de1",
   "metadata": {},
   "source": [
    "# Program 2"
   ]
  },
  {
   "cell_type": "markdown",
   "id": "2905b34a-a7a8-4f49-9600-3139bbfe046d",
   "metadata": {},
   "source": [
    "<b>Write a Python program to do arithmetical operations addition and division</b>"
   ]
  },
  {
   "cell_type": "code",
   "execution_count": 21,
   "id": "c2ff4e7f-4dab-4efb-8150-a3516ba955b7",
   "metadata": {},
   "outputs": [
    {
     "name": "stdout",
     "output_type": "stream",
     "text": [
      "ADDITION Operation\n",
      "\n"
     ]
    },
    {
     "name": "stdin",
     "output_type": "stream",
     "text": [
      "Enter the first number :  4.5\n",
      "Enter the second number :  5.5\n"
     ]
    },
    {
     "name": "stdout",
     "output_type": "stream",
     "text": [
      "sum of 4.5 + 5.5 =  10.0\n"
     ]
    }
   ],
   "source": [
    "print(f\"ADDITION Operation\\n\")\n",
    "num1=eval(input('Enter the first number : '))\n",
    "num2=eval(input('Enter the second number : '))\n",
    "sum = num1 + num2\n",
    "print(f\"sum of {num1} + {num2} =  {sum}\")"
   ]
  },
  {
   "cell_type": "code",
   "execution_count": 25,
   "id": "7fae9910-a94f-44ed-a930-a2977df8be9c",
   "metadata": {},
   "outputs": [
    {
     "name": "stdout",
     "output_type": "stream",
     "text": [
      "DIVISION Operation\n",
      "\n"
     ]
    },
    {
     "name": "stdin",
     "output_type": "stream",
     "text": [
      "Enter the dividend for division :  25\n",
      "Enter the divisor for division :  5\n"
     ]
    },
    {
     "name": "stdout",
     "output_type": "stream",
     "text": [
      "\n",
      "Division: 25 / 5 = 5.0\n"
     ]
    }
   ],
   "source": [
    "print(f\"DIVISION Operation\\n\")\n",
    "num3=eval(input('Enter the dividend for division : '))\n",
    "num4=eval(input('Enter the divisor for division : '))\n",
    "if num4 == 0:\n",
    "    print(f\"ERROR: Division by zero is not allowed\")\n",
    "else:\n",
    "    div_result = num3/num4\n",
    "    print(f\"\\nDivision: {num3} / {num4} = {div_result}\")"
   ]
  },
  {
   "cell_type": "markdown",
   "id": "39e91bee-e04a-41a7-8c9d-1a68238e5c77",
   "metadata": {},
   "source": [
    "# Program 3"
   ]
  },
  {
   "cell_type": "markdown",
   "id": "d5db5428-51d5-41a6-b370-6d52a87ea93b",
   "metadata": {},
   "source": [
    "<b>Write a Python program to find the area of a triangle .</b>"
   ]
  },
  {
   "cell_type": "code",
   "execution_count": 33,
   "id": "e810dc0d-047a-4d09-b9f4-92f2e685bd55",
   "metadata": {},
   "outputs": [
    {
     "name": "stdin",
     "output_type": "stream",
     "text": [
      "Enter base of a triangle:  10\n",
      "Enter height of a triangle:  15\n"
     ]
    },
    {
     "name": "stdout",
     "output_type": "stream",
     "text": [
      "\n",
      "The base and height of a triangle are : b = 10 h = 15\n",
      "\n",
      "Area of triangle is 75.0\n",
      "Area of triangle is 75.0\n",
      "Area of triangle is 75.0\n"
     ]
    }
   ],
   "source": [
    "b=eval(input('Enter base of a triangle: '))\n",
    "h=eval(input('Enter height of a triangle: '))\n",
    "print(f'\\nThe base and height of a triangle are : b = {b} h = {h}')\n",
    "\n",
    "area=0.5*b*h\n",
    "area=round(area,3)\n",
    "\n",
    "print('\\nArea of triangle is',area)\n",
    "print(f'Area of triangle is',area)\n",
    "print('Area of triangle is {}'.format(area))"
   ]
  },
  {
   "cell_type": "markdown",
   "id": "da02b4c8-fad8-445d-a437-e3f695d447ed",
   "metadata": {},
   "source": [
    "# Program 4"
   ]
  },
  {
   "cell_type": "markdown",
   "id": "25db39bf-3038-4212-8c48-dfeb0bf37de3",
   "metadata": {},
   "source": [
    "<b>Write a Python program to swap two variables.</b>"
   ]
  },
  {
   "cell_type": "code",
   "execution_count": 41,
   "id": "43dc549c-42db-43b1-8a95-aa27991f3664",
   "metadata": {},
   "outputs": [
    {
     "name": "stdout",
     "output_type": "stream",
     "text": [
      "Original values: a = 87 , b = 26\n",
      "Swapped  values: a = 26 , b = 87\n"
     ]
    }
   ],
   "source": [
    "import random\n",
    "a=random.randint(1,100)\n",
    "b=random.randint(1,100)\n",
    "print(f\"Original values: a = {a} , b = {b}\")\n",
    "print(f\"Swapped  values: a = {b} , b = {a}\")"
   ]
  },
  {
   "cell_type": "code",
   "execution_count": 61,
   "id": "87bab0eb-d0f5-4689-82be-26b834506cc3",
   "metadata": {},
   "outputs": [
    {
     "name": "stdout",
     "output_type": "stream",
     "text": [
      "Original values: a = 54 , b = 22\n",
      "\n",
      "Swapped  values: a = 22 , b = 54\n"
     ]
    }
   ],
   "source": [
    "import random\n",
    "a=random.randint(1,100)\n",
    "b=random.randint(1,100)\n",
    "print(f\"Original values: a = {a} , b = {b}\")\n",
    "a,b=b,a\n",
    "print(f\"\\nSwapped  values: a = {a} , b = {b}\")"
   ]
  },
  {
   "cell_type": "markdown",
   "id": "32ef4fd1-744e-46aa-bc92-9520ceea9785",
   "metadata": {},
   "source": [
    "<b>Write a Python program to swap two variables using temp.</b>"
   ]
  },
  {
   "cell_type": "code",
   "execution_count": 83,
   "id": "0f3dcca6-6dfd-477a-8caf-c46cc2682290",
   "metadata": {},
   "outputs": [
    {
     "name": "stdout",
     "output_type": "stream",
     "text": [
      "Original values: a = 5 , b = 33\n",
      "Swapped  values: a = 33 , b = 5\n"
     ]
    }
   ],
   "source": [
    "import random\n",
    "a=random.randint(1,100)\n",
    "b=random.randint(1,100)\n",
    "print(f\"Original values: a = {a} , b = {b}\")\n",
    "temp=a\n",
    "a=b\n",
    "b=temp\n",
    "print(f\"Swapped  values: a = {a} , b = {b}\")"
   ]
  },
  {
   "cell_type": "markdown",
   "id": "7ad2ac30-a488-4f83-a9b7-343ed60c7b2b",
   "metadata": {},
   "source": [
    "# Program 5"
   ]
  },
  {
   "cell_type": "markdown",
   "id": "6602b875-ac2c-4fde-b218-e6f4dd8d420b",
   "metadata": {},
   "source": [
    "<b>Write a Python program to generate a random number .</b>"
   ]
  },
  {
   "cell_type": "code",
   "execution_count": 51,
   "id": "45734299-24e1-491c-b363-54a0072f8928",
   "metadata": {},
   "outputs": [
    {
     "name": "stdout",
     "output_type": "stream",
     "text": [
      "Random number : 86\n"
     ]
    }
   ],
   "source": [
    "import random\n",
    "print(f\"Random number : {random.randint(1,100)}\")"
   ]
  },
  {
   "cell_type": "markdown",
   "id": "a4615116-5c34-4e02-a96f-1a38eb6a57f7",
   "metadata": {},
   "source": [
    "# Program 6"
   ]
  },
  {
   "cell_type": "markdown",
   "id": "00bb5285-e183-4458-8ce2-6d4efb9d6fee",
   "metadata": {},
   "source": [
    "<b>Write a Python program to convert kilometers to miles.</b>"
   ]
  },
  {
   "cell_type": "code",
   "execution_count": 57,
   "id": "1c5d5765-367b-46d0-815a-8a6b60239cfc",
   "metadata": {},
   "outputs": [
    {
     "name": "stdin",
     "output_type": "stream",
     "text": [
      "Enter distance in KM :  100\n"
     ]
    },
    {
     "name": "stdout",
     "output_type": "stream",
     "text": [
      "100 KM is equal to 62.137100000000004 miles\n"
     ]
    }
   ],
   "source": [
    "km=eval(input('Enter distance in KM : '))\n",
    "miles = km * 0.621371\n",
    "round(miles,2)\n",
    "print(f'{km} KM is equal to {miles} miles')"
   ]
  },
  {
   "cell_type": "code",
   "execution_count": 59,
   "id": "82c17e58-e52e-4d9d-b8bc-934252f59919",
   "metadata": {},
   "outputs": [
    {
     "name": "stdin",
     "output_type": "stream",
     "text": [
      "Enter distance in KM :  100\n"
     ]
    },
    {
     "name": "stdout",
     "output_type": "stream",
     "text": [
      "100 KM is equal to 62.14 miles\n"
     ]
    }
   ],
   "source": [
    "km=eval(input('Enter distance in KM : '))\n",
    "miles = km * 0.621371\n",
    "print(f'{km} KM is equal to {round(miles,2)} miles')"
   ]
  },
  {
   "cell_type": "markdown",
   "id": "47e79bae-73b5-4de9-8c8d-4905742604fb",
   "metadata": {},
   "source": [
    "# Program 7"
   ]
  },
  {
   "cell_type": "markdown",
   "id": "acaac7e8-1bb6-475a-8dcc-477452f5ee4f",
   "metadata": {},
   "source": [
    "<b>Write a Python program to convert Celsius to Fahrenheit.</b>"
   ]
  },
  {
   "cell_type": "code",
   "execution_count": 72,
   "id": "1ff2a6b3-65f2-4285-b049-887233a1e3c5",
   "metadata": {},
   "outputs": [
    {
     "name": "stdin",
     "output_type": "stream",
     "text": [
      "Enter the temperature in °C :  36\n"
     ]
    },
    {
     "name": "stdout",
     "output_type": "stream",
     "text": [
      "36°C is equal to : 96.8 °F\n"
     ]
    }
   ],
   "source": [
    "c=eval(input('Enter the temperature in °C : '))\n",
    "\n",
    "# Convert to F\n",
    "f=(c*9/5)+32\n",
    "\n",
    "print(f'{c}°C is equal to : {f} °F')"
   ]
  },
  {
   "cell_type": "markdown",
   "id": "d0afa31f-2c34-45a4-87ca-485a0373f8f3",
   "metadata": {},
   "source": [
    "# Program 8"
   ]
  },
  {
   "cell_type": "markdown",
   "id": "1ae41e02-80e1-4467-a816-2218ecaf0d19",
   "metadata": {},
   "source": [
    "<b>Write a Python program to display calendar.</b>"
   ]
  },
  {
   "cell_type": "code",
   "execution_count": 78,
   "id": "efa08b48-cc00-47f5-a5bd-987fbb96b386",
   "metadata": {},
   "outputs": [
    {
     "name": "stdin",
     "output_type": "stream",
     "text": [
      "Enter year:  2030\n",
      "Enter month:  7\n"
     ]
    },
    {
     "name": "stdout",
     "output_type": "stream",
     "text": [
      "     July 2030\n",
      "Mo Tu We Th Fr Sa Su\n",
      " 1  2  3  4  5  6  7\n",
      " 8  9 10 11 12 13 14\n",
      "15 16 17 18 19 20 21\n",
      "22 23 24 25 26 27 28\n",
      "29 30 31\n",
      "\n"
     ]
    }
   ],
   "source": [
    "import calendar\n",
    "\n",
    "year = int(input('Enter year: '))\n",
    "month = int(input('Enter month: '))\n",
    "\n",
    "cal = calendar.month(year,month)\n",
    "print(cal)"
   ]
  },
  {
   "cell_type": "markdown",
   "id": "e12716f6-dcb4-4b0e-a488-1e507c2801db",
   "metadata": {},
   "source": [
    "# Program 9"
   ]
  },
  {
   "cell_type": "markdown",
   "id": "6dbc5ef0-032c-4aa7-8cc0-873f900d6170",
   "metadata": {},
   "source": [
    "<b>Write a Python program to solve quadratic equation.</b>"
   ]
  },
  {
   "cell_type": "code",
   "execution_count": 100,
   "id": "78a6f53a-88b6-4461-8167-3edc13babce2",
   "metadata": {},
   "outputs": [
    {
     "name": "stdin",
     "output_type": "stream",
     "text": [
      "Enter co-efficient of a:  8\n",
      "Enter co-efficient of b:  1\n",
      "Enter co-efficient of c:  2\n"
     ]
    },
    {
     "name": "stdout",
     "output_type": "stream",
     "text": [
      "Root 1: -0.0625 + 0.49607837082461076i\n",
      "Root 2: -0.0625 - 0.49607837082461076i\n",
      "Root 1: -0.0625 + 0.5i\n",
      "Root 2: -0.0625 - 0.5i\n"
     ]
    }
   ],
   "source": [
    "import math\n",
    "\n",
    "a=eval(input('Enter co-efficient of a: '))\n",
    "b=eval(input('Enter co-efficient of b: '))\n",
    "c=eval(input('Enter co-efficient of c: '))\n",
    "\n",
    "discriminant = b**2 - 4*a*c\n",
    "\n",
    "if discriminant > 0:\n",
    "    root1 = (-b + math.sqrt(discriminant)) / (2*a)\n",
    "    root2 = (-b - math.sqrt(discriminant)) / (2*a)\n",
    "    print(f\"Root 1: {root1}\")\n",
    "    print(f\"Root 2: {root2}\")\n",
    "elif discriminant == 0:\n",
    "    root = -b / (2*a)\n",
    "    print(f\"Root: {root}\")\n",
    "else:\n",
    "    real_part = -b / (2*a)\n",
    "    imaginary_part = math.sqrt(abs(discriminant)) / (2*a)\n",
    "    print(f'Root 1: {real_part} + {imaginary_part}i')\n",
    "    print(f'Root 2: {real_part} - {imaginary_part}i')\n",
    "    print(f'Root 1: {real_part} + {round(imaginary_part,2)}i')\n",
    "    print(f'Root 2: {real_part} - {round(imaginary_part,2)}i')"
   ]
  },
  {
   "cell_type": "markdown",
   "id": "67f3339c-70de-4944-89fd-0a7ab5aa0ec3",
   "metadata": {},
   "source": [
    "# Program 11"
   ]
  },
  {
   "cell_type": "markdown",
   "id": "8e714697-6346-46a1-b2fe-849d07998299",
   "metadata": {},
   "source": [
    "<b>Write a Python program to check the number is Positive, Negative or zero.</b>"
   ]
  },
  {
   "cell_type": "code",
   "execution_count": 137,
   "id": "48787337-400c-4965-93c9-8eb1bf29de2b",
   "metadata": {},
   "outputs": [
    {
     "name": "stdin",
     "output_type": "stream",
     "text": [
      "Enter number:  0\n"
     ]
    },
    {
     "name": "stdout",
     "output_type": "stream",
     "text": [
      "0 ZERO\n"
     ]
    }
   ],
   "source": [
    "num=eval(input('Enter number: '))\n",
    "\n",
    "if num>=0:\n",
    "    if num==0:\n",
    "        print(f\"{num} ZERO\")\n",
    "    else:\n",
    "        print(f\"{num} is a Positive number\")\n",
    "else:\n",
    "    print(f\"{num} is a Negative number\")"
   ]
  },
  {
   "cell_type": "code",
   "execution_count": 135,
   "id": "dea56376-9a18-41b1-a8f5-2df5bd14e61e",
   "metadata": {},
   "outputs": [
    {
     "name": "stdin",
     "output_type": "stream",
     "text": [
      "Enter number:  -1\n"
     ]
    },
    {
     "name": "stdout",
     "output_type": "stream",
     "text": [
      "-1 is a Negative number\n"
     ]
    }
   ],
   "source": [
    "num=eval(input('Enter number: '))\n",
    "\n",
    "if num>=0:\n",
    "    if num==0:\n",
    "        print(f\"{num} ZERO\")\n",
    "    else:\n",
    "        print(f\"{num} is a Positive number\")\n",
    "else:\n",
    "    print(f\"{num} is a Negative number\")"
   ]
  },
  {
   "cell_type": "markdown",
   "id": "7dae44c3-a655-4387-916e-da2be5a2b654",
   "metadata": {},
   "source": [
    "# Program 12"
   ]
  },
  {
   "cell_type": "markdown",
   "id": "5d262e6d-1be5-4866-824f-758f4019ab3e",
   "metadata": {},
   "source": [
    "<b>Write a Python program to check if a number is Odd or Even .</b>"
   ]
  },
  {
   "cell_type": "code",
   "execution_count": 127,
   "id": "ed39349a-c99f-406d-9d09-14a9fc1c36e2",
   "metadata": {},
   "outputs": [
    {
     "name": "stdin",
     "output_type": "stream",
     "text": [
      "Enter a number:  3\n"
     ]
    },
    {
     "name": "stdout",
     "output_type": "stream",
     "text": [
      "3 is an ODD number\n"
     ]
    }
   ],
   "source": [
    "num=eval(input('Enter a number: '))\n",
    "if num%2 == 0:\n",
    "    print(f'{num} is an EVEN number')\n",
    "else:\n",
    "    print(f'{num} is an ODD number')"
   ]
  },
  {
   "cell_type": "markdown",
   "id": "d937e731-4da2-46ea-90f0-68f1bae38fd0",
   "metadata": {},
   "source": [
    "# Program 13"
   ]
  },
  {
   "cell_type": "markdown",
   "id": "32275053-ee15-4609-abaf-38edd1e16892",
   "metadata": {},
   "source": [
    "<b>Write a Python program to check Leap Year .</b>"
   ]
  },
  {
   "cell_type": "code",
   "execution_count": 143,
   "id": "f798714e-8977-4808-8b2a-c041de5bda8c",
   "metadata": {},
   "outputs": [
    {
     "name": "stdin",
     "output_type": "stream",
     "text": [
      "Enter Year :  2024\n"
     ]
    },
    {
     "name": "stdout",
     "output_type": "stream",
     "text": [
      "2024 is a Leap year\n"
     ]
    }
   ],
   "source": [
    "year=int(input('Enter Year : '))\n",
    "if(year % 400 == 0) and (year % 100 == 0):\n",
    "    print(f'{year} is a Leap year')\n",
    "else :\n",
    "    if(year % 4 == 0) and (year % 100 != 0):\n",
    "        print(f'{year} is a Leap year')\n",
    "    else:\n",
    "        print(f'{year} is NOT a Leap year')"
   ]
  },
  {
   "cell_type": "code",
   "execution_count": 147,
   "id": "8af02517-eea6-4a53-97e3-d64a05a0a866",
   "metadata": {},
   "outputs": [
    {
     "name": "stdin",
     "output_type": "stream",
     "text": [
      "Enter Year :  2001\n"
     ]
    },
    {
     "name": "stdout",
     "output_type": "stream",
     "text": [
      "2001 is NOT a Leap year\n"
     ]
    }
   ],
   "source": [
    "year=int(input('Enter Year : '))\n",
    "if(year % 400 == 0) and (year % 100 == 0):\n",
    "    print(f'{year} is a Leap year')\n",
    "else :\n",
    "    if(year % 4 == 0) and (year % 100 != 0):\n",
    "        print(f'{year} is a Leap year')\n",
    "    else:\n",
    "        print(f'{year} is NOT a Leap year')"
   ]
  },
  {
   "cell_type": "markdown",
   "id": "5d749f03-7db6-450d-81fd-a60e4a7d588d",
   "metadata": {},
   "source": [
    "# Program 14"
   ]
  },
  {
   "cell_type": "markdown",
   "id": "3cc1fd40-9225-4171-ac65-32523f475c14",
   "metadata": {},
   "source": [
    "<b>Write a Python program to check Prime number.</b>"
   ]
  },
  {
   "cell_type": "code",
   "execution_count": 159,
   "id": "d4dd8cf6-3fe8-4092-b2d3-9ebd5784f18d",
   "metadata": {},
   "outputs": [
    {
     "name": "stdin",
     "output_type": "stream",
     "text": [
      "Enter a number:  27\n"
     ]
    },
    {
     "name": "stdout",
     "output_type": "stream",
     "text": [
      "27 is NOT a Prime number\n"
     ]
    }
   ],
   "source": [
    "num=int(input('Enter a number: '))\n",
    "\n",
    "flag = False\n",
    "\n",
    "if num == 0 or num == 1:\n",
    "    print(f'{num}, is not a Prime number')\n",
    "if num > 1:\n",
    "    for i in range(2,num):\n",
    "        if(num%i)==0:\n",
    "            flag = True\n",
    "            break\n",
    "\n",
    "    if flag:\n",
    "        print(f'{num} is NOT a Prime number')\n",
    "    else:\n",
    "        print(f'{num} is a Prime number')"
   ]
  },
  {
   "cell_type": "markdown",
   "id": "22cfed0f-05f9-4309-81d3-52124debc5c6",
   "metadata": {},
   "source": [
    "# Program 15"
   ]
  },
  {
   "cell_type": "markdown",
   "id": "e35161b7-a11a-42ab-aa1d-05ef38bcd3b2",
   "metadata": {},
   "source": [
    "<b>Write a Python program to print all Prime numbers between 1 and 10.</b>"
   ]
  },
  {
   "cell_type": "code",
   "execution_count": 184,
   "id": "37a31ac5-e8bc-46c1-9891-d2d5539637cf",
   "metadata": {},
   "outputs": [
    {
     "name": "stdin",
     "output_type": "stream",
     "text": [
      "Enter the starting value :  1\n",
      "Enter the ending value :  10\n"
     ]
    },
    {
     "name": "stdout",
     "output_type": "stream",
     "text": [
      "\n",
      "Prime numbers between 1 and 10 are:\n",
      "2 3 5 7 "
     ]
    }
   ],
   "source": [
    "start = int(input(\"Enter the starting value : \"))\n",
    "end = int(input(\"Enter the ending value : \"))\n",
    "\n",
    "print(f\"\\nPrime numbers between {start} and {end} are:\")\n",
    "\n",
    "for num in range(start, end + 1):\n",
    "    if num > 1:\n",
    "        for i in range(2,num):\n",
    "            if num % i == 0:\n",
    "                break\n",
    "        else:\n",
    "            print(num,end=' ')"
   ]
  },
  {
   "cell_type": "markdown",
   "id": "a9e05e95-0bbb-4b4a-b562-4dac4fb48a6f",
   "metadata": {},
   "source": [
    "# Program 16"
   ]
  },
  {
   "cell_type": "markdown",
   "id": "83141e9b-42c4-42d9-871c-1d66dea7b91c",
   "metadata": {},
   "source": [
    "<b>Write a Python program to find the factorial of a number .</b>"
   ]
  },
  {
   "cell_type": "code",
   "execution_count": 191,
   "id": "0684ebfd-5c77-4f6a-a8c6-e7add31bc19b",
   "metadata": {},
   "outputs": [
    {
     "name": "stdin",
     "output_type": "stream",
     "text": [
      "Enter a number:  5\n"
     ]
    },
    {
     "name": "stdout",
     "output_type": "stream",
     "text": [
      "The factorial of 5 is 120\n"
     ]
    }
   ],
   "source": [
    "num=int(input('Enter a number: '))\n",
    "factorial=1\n",
    "if num < 0:\n",
    "    print('Factorial does not exists')\n",
    "if num == 0:\n",
    "    print('Factorial of 0 is 1')\n",
    "else:\n",
    "    for i in range(1,num+1):\n",
    "        factorial = factorial * i\n",
    "    print(f'The factorial of {num} is {factorial}')"
   ]
  },
  {
   "cell_type": "markdown",
   "id": "b2bd337e-a318-498b-81e8-c2bfe41b0213",
   "metadata": {},
   "source": [
    "# Program 17"
   ]
  },
  {
   "cell_type": "markdown",
   "id": "9c9a5b8b-7d9f-4a96-b96c-92eb8373710c",
   "metadata": {},
   "source": [
    "<b>Write a Python program to display the multiplication table .</b>"
   ]
  },
  {
   "cell_type": "code",
   "execution_count": 197,
   "id": "c6088738-314b-48b8-85c1-35cafd4676d6",
   "metadata": {},
   "outputs": [
    {
     "name": "stdin",
     "output_type": "stream",
     "text": [
      "Multiplication table of :  5\n"
     ]
    },
    {
     "name": "stdout",
     "output_type": "stream",
     "text": [
      "5 x 1 = 5\n",
      "5 x 2 = 10\n",
      "5 x 3 = 15\n",
      "5 x 4 = 20\n",
      "5 x 5 = 25\n",
      "5 x 6 = 30\n",
      "5 x 7 = 35\n",
      "5 x 8 = 40\n",
      "5 x 9 = 45\n",
      "5 x 10 = 50\n"
     ]
    }
   ],
   "source": [
    "num = int(input('Multiplication table of : '))\n",
    "for i in range(1,11):\n",
    "    print(f'{num} x {i} = {num*i}')"
   ]
  },
  {
   "cell_type": "markdown",
   "id": "4ee3e22e-3b5d-483d-a231-5a19cc1c6a9a",
   "metadata": {},
   "source": [
    "# Program 18"
   ]
  },
  {
   "cell_type": "markdown",
   "id": "3f4d2818-93ee-4d8e-af02-e27ff49b9911",
   "metadata": {},
   "source": [
    "<b>Write a Python program to print the Fibonacci sequence .</b>"
   ]
  },
  {
   "cell_type": "code",
   "execution_count": 207,
   "id": "cf6b9057-0f4a-4f83-8eb9-c5b84e7d09b2",
   "metadata": {},
   "outputs": [
    {
     "name": "stdin",
     "output_type": "stream",
     "text": [
      "How many terms:  10\n"
     ]
    },
    {
     "name": "stdout",
     "output_type": "stream",
     "text": [
      "\n",
      "Fibonacci series: \n",
      "0 1 1 2 3 5 8 13 21 34 "
     ]
    }
   ],
   "source": [
    "term=int(input('How many terms: '))\n",
    "\n",
    "a,b=0,1\n",
    "count=0\n",
    "\n",
    "print(\"\\nFibonacci series: \")\n",
    "\n",
    "while count < term:\n",
    "    print(a,end=' ')\n",
    "    a,b=b,a+b\n",
    "    count += 1"
   ]
  },
  {
   "cell_type": "markdown",
   "id": "91c0bd7f-978c-42b7-9167-ea8e3f38503e",
   "metadata": {},
   "source": [
    "# Program 19"
   ]
  },
  {
   "cell_type": "markdown",
   "id": "1d8a3b29-6d67-4df1-9c4a-02f8c1c8da49",
   "metadata": {},
   "source": [
    "<b>Write a Python program to find the sum of natural numbers.</b>"
   ]
  },
  {
   "cell_type": "code",
   "execution_count": 217,
   "id": "5d7b1229-37a4-4a3e-98fd-26469a0b20ea",
   "metadata": {},
   "outputs": [
    {
     "name": "stdin",
     "output_type": "stream",
     "text": [
      "Enter the limit:  10\n"
     ]
    },
    {
     "name": "stdout",
     "output_type": "stream",
     "text": [
      "The sum of natural numbers upto 10 is : 55\n"
     ]
    }
   ],
   "source": [
    "limit=int(input('Enter the limit: '))\n",
    "\n",
    "sum=0\n",
    "\n",
    "for i in range(1,limit + 1):\n",
    "    sum=sum+i\n",
    "    \n",
    "print(f'The sum of natural numbers upto {limit} is : {sum}')"
   ]
  },
  {
   "cell_type": "markdown",
   "id": "00891168-b30e-4e14-b10b-7887d46f9ebf",
   "metadata": {},
   "source": [
    "# Program 20"
   ]
  },
  {
   "cell_type": "markdown",
   "id": "600043a9-45d9-4c1d-b789-f0f9964d3a02",
   "metadata": {},
   "source": [
    "<b>Write a Python program to make a simple calculator with mathematical operations .</b>"
   ]
  },
  {
   "cell_type": "code",
   "execution_count": 227,
   "id": "e26d37da-32af-4406-a44f-8eabf7ffe434",
   "metadata": {},
   "outputs": [
    {
     "name": "stdout",
     "output_type": "stream",
     "text": [
      "Simple Calculator\n",
      "\n",
      "1. Addition \n",
      "2. Subtraction \n",
      "3. Multiplication \n",
      "4. Division\n"
     ]
    },
    {
     "name": "stdin",
     "output_type": "stream",
     "text": [
      "\n",
      "Enter your choice [ 1,2,3,4 ]:  1\n",
      "\n",
      "Enter number 1 :  2.5\n",
      "Enter number 2 :  2\n"
     ]
    },
    {
     "name": "stdout",
     "output_type": "stream",
     "text": [
      "2.5 + 2 = 4.5\n"
     ]
    },
    {
     "name": "stdin",
     "output_type": "stream",
     "text": [
      "Do you want to continue? (yes/no) :  yes\n"
     ]
    },
    {
     "name": "stdout",
     "output_type": "stream",
     "text": [
      "\n",
      "1. Addition \n",
      "2. Subtraction \n",
      "3. Multiplication \n",
      "4. Division\n"
     ]
    },
    {
     "name": "stdin",
     "output_type": "stream",
     "text": [
      "\n",
      "Enter your choice [ 1,2,3,4 ]:  2\n",
      "\n",
      "Enter number 1 :  10\n",
      "Enter number 2 :  15\n"
     ]
    },
    {
     "name": "stdout",
     "output_type": "stream",
     "text": [
      "10 - 15 = -5\n"
     ]
    },
    {
     "name": "stdin",
     "output_type": "stream",
     "text": [
      "Do you want to continue? (yes/no) :  yes\n"
     ]
    },
    {
     "name": "stdout",
     "output_type": "stream",
     "text": [
      "\n",
      "1. Addition \n",
      "2. Subtraction \n",
      "3. Multiplication \n",
      "4. Division\n"
     ]
    },
    {
     "name": "stdin",
     "output_type": "stream",
     "text": [
      "\n",
      "Enter your choice [ 1,2,3,4 ]:  3\n",
      "\n",
      "Enter number 1 :  2.5\n",
      "Enter number 2 :  10\n"
     ]
    },
    {
     "name": "stdout",
     "output_type": "stream",
     "text": [
      "2.5 * 10 = 25.0\n"
     ]
    },
    {
     "name": "stdin",
     "output_type": "stream",
     "text": [
      "Do you want to continue? (yes/no) :  yes\n"
     ]
    },
    {
     "name": "stdout",
     "output_type": "stream",
     "text": [
      "\n",
      "1. Addition \n",
      "2. Subtraction \n",
      "3. Multiplication \n",
      "4. Division\n"
     ]
    },
    {
     "name": "stdin",
     "output_type": "stream",
     "text": [
      "\n",
      "Enter your choice [ 1,2,3,4 ]:  4\n",
      "\n",
      "Enter number 1 :  25\n",
      "Enter number 2 :  4\n"
     ]
    },
    {
     "name": "stdout",
     "output_type": "stream",
     "text": [
      "25 / 4 = 6.25\n"
     ]
    },
    {
     "name": "stdin",
     "output_type": "stream",
     "text": [
      "Do you want to continue? (yes/no) :  no\n"
     ]
    },
    {
     "name": "stdout",
     "output_type": "stream",
     "text": [
      "\n",
      "THANK YOU\n"
     ]
    }
   ],
   "source": [
    "print('Simple Calculator')\n",
    "\n",
    "def add(x,y):\n",
    "    return x+y\n",
    "\n",
    "def sub(x,y):\n",
    "    return x-y\n",
    "\n",
    "def mul(x,y):\n",
    "    return x*y\n",
    "\n",
    "def div(x,y):\n",
    "    return x/y\n",
    "\n",
    "while True:\n",
    "    print('\\n1. Addition \\n2. Subtraction \\n3. Multiplication \\n4. Division')\n",
    "    choice=input('\\nEnter your choice [ 1,2,3,4 ]: ')\n",
    "\n",
    "    if choice in('1','2','3','4'):\n",
    "        try:\n",
    "            num1 = eval(input('\\nEnter number 1 : '))\n",
    "            num2 = eval(input('Enter number 2 : '))\n",
    "        except ValueError:\n",
    "            print('\\nINVALID input')\n",
    "            continue\n",
    "\n",
    "        if choice == '1':\n",
    "            print(num1, '+' , num2, '=' , add(num1,num2))\n",
    "\n",
    "        if choice == '2':\n",
    "            print(num1, '-' , num2, '=' , sub(num1,num2))\n",
    "\n",
    "        if choice == '3':\n",
    "            print(num1, '*' , num2, '=' , mul(num1,num2))\n",
    "\n",
    "        if choice == '4':\n",
    "            print(num1, '/' , num2, '=' , div(num1,num2))\n",
    "\n",
    "        next_calculation = input('Do you want to continue? (yes/no) : ')\n",
    "        if next_calculation == 'no':\n",
    "            print('\\nTHANK YOU')\n",
    "            break\n",
    "    else:\n",
    "        print('\\nINVALID CHOICE')"
   ]
  },
  {
   "cell_type": "code",
   "execution_count": 229,
   "id": "2383412d-c40f-4b9b-876c-3344eb654a72",
   "metadata": {},
   "outputs": [
    {
     "name": "stdout",
     "output_type": "stream",
     "text": [
      "Simple Calculator\n",
      "\n",
      "1. Addition \n",
      "2. Subtraction \n",
      "3. Multiplication \n",
      "4. Division\n"
     ]
    },
    {
     "name": "stdin",
     "output_type": "stream",
     "text": [
      "\n",
      "Enter your choice [ 1,2,3,4 ]:  4\n",
      "\n",
      "Enter number 1 :  123\n",
      "Enter number 2 :  23\n"
     ]
    },
    {
     "name": "stdout",
     "output_type": "stream",
     "text": [
      "123 / 23 = 5.35\n"
     ]
    },
    {
     "name": "stdin",
     "output_type": "stream",
     "text": [
      "Do you want to continue? (yes/no) :  no\n"
     ]
    },
    {
     "name": "stdout",
     "output_type": "stream",
     "text": [
      "\n",
      "THANK YOU\n"
     ]
    }
   ],
   "source": [
    "print('Simple Calculator')\n",
    "\n",
    "def add(x,y):\n",
    "    return x+y\n",
    "\n",
    "def sub(x,y):\n",
    "    return x-y\n",
    "\n",
    "def mul(x,y):\n",
    "    return x*y\n",
    "\n",
    "def div(x,y):\n",
    "    return x/y\n",
    "\n",
    "print('\\n1. Addition \\n2. Subtraction \\n3. Multiplication \\n4. Division')\n",
    "\n",
    "while True:\n",
    "    choice=input('\\nEnter your choice [ 1,2,3,4 ]: ')\n",
    "\n",
    "    if choice in('1','2','3','4'):\n",
    "        try:\n",
    "            num1 = eval(input('\\nEnter number 1 : '))\n",
    "            num2 = eval(input('Enter number 2 : '))\n",
    "        except ValueError:\n",
    "            print('\\nINVALID input')\n",
    "            continue\n",
    "\n",
    "        if choice == '1':\n",
    "            print(num1, '+' , num2, '=' , add(num1,num2))\n",
    "\n",
    "        if choice == '2':\n",
    "            print(num1, '-' , num2, '=' , sub(num1,num2))\n",
    "\n",
    "        if choice == '3':\n",
    "            print(num1, '*' , num2, '=' , mul(num1,num2))\n",
    "\n",
    "        if choice == '4':\n",
    "            print(num1, '/' , num2, '=' , round(div(num1,num2),2))\n",
    "\n",
    "        next_calculation = input('Do you want to continue? (yes/no) : ')\n",
    "        if next_calculation == 'no':\n",
    "            print('\\nTHANK YOU')\n",
    "            break\n",
    "    else:\n",
    "        print('\\nINVALID CHOICE')"
   ]
  },
  {
   "cell_type": "markdown",
   "id": "00676221-2627-400b-b595-25b42717b752",
   "metadata": {},
   "source": [
    "# Program 21"
   ]
  },
  {
   "cell_type": "markdown",
   "id": "f890d8ac-4e52-4974-92f7-f352a2111f87",
   "metadata": {},
   "source": [
    "<b>Write a Python program to calculate the natural logarithm of any number.</b>"
   ]
  },
  {
   "cell_type": "code",
   "execution_count": 237,
   "id": "30e8cbfb-eb4a-4e7e-af8b-65ef24757352",
   "metadata": {},
   "outputs": [
    {
     "name": "stdin",
     "output_type": "stream",
     "text": [
      "Enter a number:  1.4\n"
     ]
    },
    {
     "name": "stdout",
     "output_type": "stream",
     "text": [
      "\n",
      "The natural loagarithm of 1.4 is : 0.3364722366212129\n",
      "The natural loagarithm of 1.4 is : 0.34\n"
     ]
    }
   ],
   "source": [
    "import math\n",
    "\n",
    "num = eval(input('Enter a number: '))\n",
    "\n",
    "if num <= 0:\n",
    "    print('Please enter a positive number')\n",
    "else:\n",
    "    result = math.log(num)\n",
    "    print(f'\\nThe natural loagarithm of {num} is : {result}')\n",
    "    print(f'The natural loagarithm of {num} is : {round(result,2)}')"
   ]
  },
  {
   "cell_type": "markdown",
   "id": "741de660-d00c-4a56-b634-54bf92783b0f",
   "metadata": {},
   "source": [
    "# Program 22"
   ]
  },
  {
   "cell_type": "markdown",
   "id": "4351bc68-184f-4d5c-a8c8-30a9c5c1b89b",
   "metadata": {},
   "source": [
    "<b>Write a Python program to find the cube sum of first n natural numbers .</b>"
   ]
  },
  {
   "cell_type": "code",
   "execution_count": 1,
   "id": "d9c8a906-2977-4298-8c45-78e7834cf0ec",
   "metadata": {},
   "outputs": [
    {
     "name": "stdin",
     "output_type": "stream",
     "text": [
      "Enter the value of n :  7\n"
     ]
    },
    {
     "name": "stdout",
     "output_type": "stream",
     "text": [
      "The cube sum of the first 7 natural numbers is : 784\n"
     ]
    }
   ],
   "source": [
    "def cube_sum_of_natural_numbers(n):\n",
    "    if n <= 0:\n",
    "        return 0\n",
    "    else:\n",
    "        total = sum([i**3 for i in range(1,n+1)])\n",
    "        return total\n",
    "\n",
    "n = int(input('Enter the value of n : '))\n",
    "\n",
    "if n <= 0:\n",
    "    print(\"Please enter a positive integer.\")\n",
    "else:\n",
    "    result = cube_sum_of_natural_numbers(n)\n",
    "    print(f'The cube sum of the first {n} natural numbers is : {result}')"
   ]
  }
 ],
 "metadata": {
  "kernelspec": {
   "display_name": "Python [conda env:base] *",
   "language": "python",
   "name": "conda-base-py"
  },
  "language_info": {
   "codemirror_mode": {
    "name": "ipython",
    "version": 3
   },
   "file_extension": ".py",
   "mimetype": "text/x-python",
   "name": "python",
   "nbconvert_exporter": "python",
   "pygments_lexer": "ipython3",
   "version": "3.12.7"
  }
 },
 "nbformat": 4,
 "nbformat_minor": 5
}
